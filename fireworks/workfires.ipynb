{
 "cells": [
  {
   "cell_type": "markdown",
   "metadata": {},
   "source": [
    "# 五分钟快速入门(Five-minute quickstart)  "
   ]
  },
  {
   "cell_type": "markdown",
   "metadata": {},
   "source": [
    "https://materialsproject.github.io/fireworks/quickstart.html;"
   ]
  },
  {
   "cell_type": "markdown",
   "metadata": {},
   "source": [
    "## 启动"
   ]
  },
  {
   "cell_type": "markdown",
   "metadata": {},
   "source": [
    "1. 启动MongoDB: `mongod.exe --nojournal --dbpath .`"
   ]
  },
  {
   "cell_type": "markdown",
   "metadata": {},
   "source": [
    "2. 重置/初始化 FireWork发射台(LaunchPad): `lpad reset`    \n",
    "    * `lpad`(-h)打开FireWorks的命令行界面, 并显示帮助信息;\n",
    "    * `lpad -version`: 查看FireWorks的版本信息和安装目录: `c:\\users\\tfliu\\anaconda3\\lib\\site-packages`;"
   ]
  },
  {
   "cell_type": "markdown",
   "metadata": {},
   "source": [
    "## 添加工作流"
   ]
  },
  {
   "cell_type": "markdown",
   "metadata": {},
   "source": [
    "为工作流添加两个脚本(作业,步骤), 将这两个脚本命名为`hello`和`goodbye`, 并将该工作流命名为`test_workflow`:    \n",
    "`lpad add_scripts 'echo \"hello\"' 'echo \"goodbye\"' -n hello goodbye -w test_workflow`"
   ]
  },
  {
   "cell_type": "markdown",
   "metadata": {},
   "source": [
    "查看工作流信息(工作流执行之前):  \n",
    "`lpad get_wflows -n test_workflow -d more`"
   ]
  },
  {
   "cell_type": "markdown",
   "metadata": {},
   "source": [
    "## 运行所有工作流程"
   ]
  },
  {
   "cell_type": "markdown",
   "metadata": {},
   "source": [
    "运行工作流中的单个作业, 或者所有工作: `rlaunch --silencer rapidfire`   \n",
    "工作流运行完后再次查看工作流信息: `lpad get_wflows -n test_workflow -d more`"
   ]
  },
  {
   "cell_type": "markdown",
   "metadata": {},
   "source": [
    "FireWorks会为工作流中的每个作业创建目录(cmd: user/tfliu/launcher_blk, python: 'pwd')并运行它们;    \n",
    "[可以选择运行作业的位置](https://materialsproject.github.io/fireworks/controlworker.html), 以及是否在[运行作业后拆除空目录](https://materialsproject.github.io/fireworks/config_tutorial.html);"
   ]
  },
  {
   "cell_type": "markdown",
   "metadata": {},
   "source": [
    "## 启动"
   ]
  },
  {
   "cell_type": "markdown",
   "metadata": {},
   "source": [
    "启动web浏览器查看结果: `lpad webgui`"
   ]
  },
  {
   "cell_type": "markdown",
   "metadata": {},
   "source": [
    "## Python code"
   ]
  },
  {
   "cell_type": "code",
   "execution_count": 8,
   "metadata": {},
   "outputs": [],
   "source": [
    "from fireworks import Firework, Workflow, LaunchPad, ScriptTask\n",
    "from fireworks.core.rocket_launcher import rapidfire"
   ]
  },
  {
   "cell_type": "code",
   "execution_count": 9,
   "metadata": {},
   "outputs": [
    {
     "name": "stdout",
     "output_type": "stream",
     "text": [
      "2018-10-26 02:46:29,066 INFO Performing db tune-up\n",
      "2018-10-26 02:46:29,084 INFO LaunchPad was RESET.\n"
     ]
    }
   ],
   "source": [
    "# 新建发射台并且初始化\n",
    "launchpad = LaunchPad()\n",
    "launchpad.reset('', require_password=False)"
   ]
  },
  {
   "cell_type": "code",
   "execution_count": 10,
   "metadata": {},
   "outputs": [
    {
     "name": "stdout",
     "output_type": "stream",
     "text": [
      "Firework object: (id: -4 , name: fireworks::Firework)\n"
     ]
    }
   ],
   "source": [
    "# FireWorks: 创建作业;\n",
    "fw1 = Firework(ScriptTask.from_str('echo \"hello\"'), name=\"hello\")\n",
    "fw2 = Firework(ScriptTask.from_str('echo \"goodbye\"'), name=\"goodbye\")\n",
    "print(fw2)"
   ]
  },
  {
   "cell_type": "code",
   "execution_count": 11,
   "metadata": {},
   "outputs": [
    {
     "name": "stdout",
     "output_type": "stream",
     "text": [
      "Workflow object: (fw_ids: dict_keys([-3, -4]) , name: test workflow)\n"
     ]
    }
   ],
   "source": [
    "# Workflow: 创建工作流;\n",
    "wf = Workflow([fw1, fw2], {fw1:fw2}, name=\"test workflow\")\n",
    "print(wf)"
   ]
  },
  {
   "cell_type": "code",
   "execution_count": 12,
   "metadata": {},
   "outputs": [],
   "source": [
    "%%pass\n",
    "fw1 = Firework(ScriptTask.from_str('echo \"hello\"'), name=\"hello\")\n",
    "fw2 = Firework(ScriptTask.from_str('echo \"goodbye\"'), name=\"goodbye\", parents=[fw1])\n",
    "wf = Workflow([fw1, fw2], name=\"test workflow\")"
   ]
  },
  {
   "cell_type": "code",
   "execution_count": 13,
   "metadata": {},
   "outputs": [
    {
     "name": "stdout",
     "output_type": "stream",
     "text": [
      "2018-10-26 02:46:29,336 INFO Added a workflow. id_map: {-4: 1, -3: 2}\n"
     ]
    },
    {
     "data": {
      "text/plain": [
       "{-4: 1, -3: 2}"
      ]
     },
     "execution_count": 13,
     "metadata": {},
     "output_type": "execute_result"
    }
   ],
   "source": [
    "# 将工作流加入向发射台\n",
    "launchpad.add_wf(wf)"
   ]
  },
  {
   "cell_type": "code",
   "execution_count": 14,
   "metadata": {},
   "outputs": [
    {
     "name": "stdout",
     "output_type": "stream",
     "text": [
      "2018-10-26 02:46:29,410 INFO Created new dir Y:\\Jupyter\\work\\fireworks\\launcher_2018-10-25-18-46-29-410775\n",
      "2018-10-26 02:46:29,412 INFO Launching Rocket\n",
      "2018-10-26 02:46:29,432 INFO RUNNING fw_id: 2 in directory: Y:\\Jupyter\\work\\fireworks\\launcher_2018-10-25-18-46-29-410775\n",
      "2018-10-26 02:46:29,447 INFO Task started: ScriptTask.\n",
      "2018-10-26 02:46:29,494 INFO Task completed: ScriptTask \n",
      "2018-10-26 02:46:29,513 INFO Rocket finished\n",
      "2018-10-26 02:46:29,545 INFO Created new dir Y:\\Jupyter\\work\\fireworks\\launcher_2018-10-25-18-46-29-518897\n",
      "2018-10-26 02:46:29,547 INFO Launching Rocket\n",
      "2018-10-26 02:46:29,565 INFO RUNNING fw_id: 1 in directory: Y:\\Jupyter\\work\\fireworks\\launcher_2018-10-25-18-46-29-518897\n",
      "2018-10-26 02:46:29,578 INFO Task started: ScriptTask.\n",
      "2018-10-26 02:46:29,620 INFO Task completed: ScriptTask \n",
      "2018-10-26 02:46:29,642 INFO Rocket finished\n"
     ]
    }
   ],
   "source": [
    "# 发射所有任务(开火)\n",
    "rapidfire(launchpad)"
   ]
  },
  {
   "cell_type": "markdown",
   "metadata": {},
   "source": [
    "# 入门教程(Introductory Tutorial)"
   ]
  },
  {
   "cell_type": "markdown",
   "metadata": {},
   "source": [
    "## 在Python下使用fireworks"
   ]
  },
  {
   "cell_type": "markdown",
   "metadata": {},
   "source": [
    "在当前目录创建结果文件"
   ]
  },
  {
   "cell_type": "code",
   "execution_count": 25,
   "metadata": {},
   "outputs": [
    {
     "name": "stdout",
     "output_type": "stream",
     "text": [
      "2018-10-26 03:02:45,869 INFO Performing db tune-up\n",
      "2018-10-26 03:02:45,878 INFO LaunchPad was RESET.\n",
      "2018-10-26 03:02:45,882 INFO Added a workflow. id_map: {-6: 1}\n",
      "2018-10-26 03:02:45,884 INFO Launching Rocket\n",
      "2018-10-26 03:02:45,896 INFO RUNNING fw_id: 1 in directory: Y:\\Jupyter\\work\\fireworks\n",
      "2018-10-26 03:02:45,943 INFO Task started: ScriptTask.\n",
      "2018-10-26 03:02:45,974 INFO Task completed: ScriptTask \n",
      "2018-10-26 03:02:45,987 INFO Rocket finished\n"
     ]
    },
    {
     "data": {
      "text/plain": [
       "True"
      ]
     },
     "execution_count": 25,
     "metadata": {},
     "output_type": "execute_result"
    }
   ],
   "source": [
    "from fireworks import Firework, LaunchPad, ScriptTask\n",
    "from fireworks.core.rocket_launcher import launch_rocket\n",
    "\n",
    "# set up the LaunchPad and reset it\n",
    "launchpad = LaunchPad()\n",
    "launchpad.reset('', require_password=False)\n",
    "\n",
    "# create the Firework consisting of a single task\n",
    "firetask = ScriptTask.from_str('echo \"howdy, your job launched successfully!\"')\n",
    "firework = Firework(firetask)\n",
    "\n",
    "# store workflow and launch it locally\n",
    "launchpad.add_wf(firework)\n",
    "launch_rocket(launchpad)"
   ]
  },
  {
   "cell_type": "markdown",
   "metadata": {},
   "source": [
    "## 一些有用的修改"
   ]
  },
  {
   "cell_type": "markdown",
   "metadata": {},
   "source": [
    "更改MongoDB配置"
   ]
  },
  {
   "cell_type": "code",
   "execution_count": 27,
   "metadata": {},
   "outputs": [],
   "source": [
    "%%pass\n",
    "launchpad = LaunchPad(host=\"myhost\", port=12345, name=\"fireworks_testing_db\", \n",
    "                      username=\"my_user\", password=\"my_pass\")"
   ]
  },
  {
   "cell_type": "markdown",
   "metadata": {},
   "source": [
    "以快速模式运行"
   ]
  },
  {
   "cell_type": "code",
   "execution_count": 28,
   "metadata": {},
   "outputs": [],
   "source": [
    "%%pass\n",
    "from fireworks import Firework, LaunchPad, ScriptTask, FWorker # use this line instead of the first line\n",
    "from fireworks.core.rocket_launcher import rapidfire\n",
    "rapidfire(launchpad, FWorker())  # use this line instead of launch_rocket()"
   ]
  },
  {
   "cell_type": "markdown",
   "metadata": {},
   "source": [
    "仅输出警告"
   ]
  },
  {
   "cell_type": "code",
   "execution_count": 29,
   "metadata": {},
   "outputs": [],
   "source": [
    "%%pass\n",
    "launchpad = LaunchPad(strm_lvl='WARNING')\n",
    "# <code omitted>\n",
    "launch_rocket(launchpad, FWorker(), strm_lvl='WARNING')"
   ]
  },
  {
   "cell_type": "markdown",
   "metadata": {},
   "source": [
    "将工作流写出到平面文件(flat file), 或从文件加载Firework对象;"
   ]
  },
  {
   "cell_type": "code",
   "execution_count": 30,
   "metadata": {},
   "outputs": [],
   "source": [
    "%%pass\n",
    "fw_yaml = firework.to_file(\"my_firework.yaml\")\n",
    "fw = firework.from_file(\"my_firework.yaml\")\n",
    "print(fw)"
   ]
  },
  {
   "cell_type": "code",
   "execution_count": 31,
   "metadata": {},
   "outputs": [],
   "source": [
    "%%pass\n",
    "fw_json = firework.to_file(\"my_firework.json\")\n",
    "fw = firework.from_file(\"my_firework.json\")\n",
    "print(fw)"
   ]
  },
  {
   "cell_type": "code",
   "execution_count": null,
   "metadata": {},
   "outputs": [],
   "source": []
  }
 ],
 "metadata": {
  "kernelspec": {
   "display_name": "Python 3",
   "language": "python",
   "name": "python3"
  },
  "language_info": {
   "codemirror_mode": {
    "name": "ipython",
    "version": 3
   },
   "file_extension": ".py",
   "mimetype": "text/x-python",
   "name": "python",
   "nbconvert_exporter": "python",
   "pygments_lexer": "ipython3",
   "version": "3.6.5"
  },
  "toc": {
   "base_numbering": 1,
   "nav_menu": {},
   "number_sections": true,
   "sideBar": true,
   "skip_h1_title": false,
   "title_cell": "Table of Contents",
   "title_sidebar": "Contents",
   "toc_cell": false,
   "toc_position": {},
   "toc_section_display": true,
   "toc_window_display": false
  }
 },
 "nbformat": 4,
 "nbformat_minor": 2
}
