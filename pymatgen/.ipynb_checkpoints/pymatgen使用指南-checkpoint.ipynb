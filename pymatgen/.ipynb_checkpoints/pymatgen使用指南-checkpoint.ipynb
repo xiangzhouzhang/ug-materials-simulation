{
 "cells": [
  {
   "cell_type": "markdown",
   "metadata": {},
   "source": [
    "# pymatgen使用指南"
   ]
  },
  {
   "cell_type": "markdown",
   "metadata": {},
   "source": [
    "**UsagePage**: http://pymatgen.org/usage.html;  \n",
    "**模块索引**: http://pymatgen.org/genindex.html;  \n",
    "**API**: http://pymatgen.org/modules.html;  "
   ]
  },
  {
   "cell_type": "markdown",
   "metadata": {},
   "source": [
    "## Overview"
   ]
  },
  {
   "cell_type": "markdown",
   "metadata": {},
   "source": [
    "案例教程(jupyter notebook): https://github.com/materialsvirtuallab/matgenb/tree/master/notebooks;    \n",
    "pymatgen采用了面向对象的编程方式, 集合任何东西都是对象, Element, Site, Structure; "
   ]
  },
  {
   "cell_type": "markdown",
   "metadata": {},
   "source": [
    "模块核心**pymatgen.core**的组成:  \n",
    "1. `core.periodic_table`:  \n",
    "    * 定义元素对象Element和Specie对象(带氧化态的元素对象);\n",
    "2. `core.lattice`:   \n",
    "    * 定义Lattice对象, 其包含三个方向的晶格矢量;  \n",
    "    * 进行分数坐标和笛卡尔坐标的转换;\n",
    "3. `core.sites`:  \n",
    "    * 定义位点对象Site和周期位点对象PeriodicSite;  \n",
    "    * 位点对象是一个包含元素的坐标点, 周期位点对象包含一个晶格;\n",
    "4. `core.structure`:  \n",
    "    * 定义结构对象Structure和分子对象Molecule;\n",
    "    * 结构对象(其元素是周期位点)和分子对象(其元素是随机位点)被组织成列表的形式;\n",
    "5. `core.composition`:  \n",
    "    * 组成物对象 Composition是元素与数量(amounts)的映射;"
   ]
  },
  {
   "cell_type": "markdown",
   "metadata": {},
   "source": [
    "所有单位(units)都是原子单位, 对象本身(per se)不显示单位;"
   ]
  },
  {
   "cell_type": "markdown",
   "metadata": {},
   "source": [
    "## Side-note : as_dict / from_dict"
   ]
  },
  {
   "cell_type": "code",
   "execution_count": 85,
   "metadata": {
    "scrolled": true
   },
   "outputs": [],
   "source": [
    "import json, yaml\n",
    "import pymatgen as mg"
   ]
  },
  {
   "cell_type": "code",
   "execution_count": 41,
   "metadata": {},
   "outputs": [
    {
     "name": "stdout",
     "output_type": "stream",
     "text": [
      "          lattice          \n",
      "---------------------------\n",
      "Lattice                    \n",
      "    abc : 4.2 4.2 4.2      \n",
      " angles : 90.0 90.0 90.0   \n",
      " volume : 74.08800000000001\n",
      "      A : 4.2 0.0 0.0      \n",
      "      B : 0.0 4.2 0.0      \n",
      "      C : 0.0 0.0 4.2      \n",
      "\n",
      "                            structure                             \n",
      "------------------------------------------------------------------\n",
      "Structure Summary                                                 \n",
      "Lattice                                                           \n",
      "    abc : 4.2 4.2 4.2                                             \n",
      " angles : 90.0 90.0 90.0                                          \n",
      " volume : 74.08800000000001                                       \n",
      "      A : 4.2 0.0 0.0                                             \n",
      "      B : 0.0 4.2 0.0                                             \n",
      "      C : 0.0 0.0 4.2                                             \n",
      "PeriodicSite: Cs (0.0000, 0.0000, 0.0000) [0.0000, 0.0000, 0.0000]\n",
      "PeriodicSite: Cl (2.1000, 2.1000, 2.1000) [0.5000, 0.5000, 0.5000]\n",
      "\n"
     ]
    }
   ],
   "source": [
    "lattice = mg.Lattice.cubic(4.2)\n",
    "structure = mg.Structure(lattice, ['Cs','Cl'], [[0,0,0],[0.5,0.5,0.5]])\n",
    "%C lattice;; structure"
   ]
  },
  {
   "cell_type": "markdown",
   "metadata": {},
   "source": [
    "### json和yaml  "
   ]
  },
  {
   "cell_type": "markdown",
   "metadata": {},
   "source": [
    "json和yaml是两种类似于字典的配置文件格式:  \n",
    "\n",
    "晶体结构可与字典结构进行互相转换:\n",
    "* **as_dict**方法: 将结构保存为一个字典;  \n",
    "* **from_dict**方法: 从字典导入结构;"
   ]
  },
  {
   "cell_type": "markdown",
   "metadata": {},
   "source": [
    "将晶体结构保存为json配置文件, 从json文件提取晶体结构"
   ]
  },
  {
   "cell_type": "code",
   "execution_count": 42,
   "metadata": {},
   "outputs": [],
   "source": [
    "with open('structure.json','w') as f:\n",
    "    json.dump(structure.as_dict(), f)"
   ]
  },
  {
   "cell_type": "code",
   "execution_count": 43,
   "metadata": {},
   "outputs": [
    {
     "name": "stdout",
     "output_type": "stream",
     "text": [
      "structure.json:>>                                 \n",
      "  1: {\"@module\": \"pymatgen.core.structure\", \"@class\": \"Structure\", \"charge\": null, \"lattice\": {\"matrix\": [[4.2, 0.0, 0.0], [0.0, 4.2, 0.0], [0.0, 0.0, 4.2]], \"a\": 4.2, \"b\": 4.2, \"c\": 4.2, \"alpha\": 90.0, \"beta\": 90.0, \"gamma\": 90.0, \"volume\": 74.08800000000001}, \"sites\": [{\"species\": [{\"element\": \"Cs\", \"occu\": 1}], \"abc\": [0.0, 0.0, 0.0], \"xyz\": [0.0, 0.0, 0.0], \"label\": \"Cs\"}, {\"species\": [{\"element\": \"Cl\", \"occu\": 1}], \"abc\": [0.5, 0.5, 0.5], \"xyz\": [2.1, 2.1, 2.1], \"label\": \"Cl\"}]}"
     ]
    }
   ],
   "source": [
    "br.showfile('structure.json',nhead=4)"
   ]
  },
  {
   "cell_type": "code",
   "execution_count": 44,
   "metadata": {},
   "outputs": [],
   "source": [
    "with open('structure.json', 'r') as f:\n",
    "    d = json.load(f)\n",
    "    structure = mg.Structure.from_dict(d)"
   ]
  },
  {
   "cell_type": "markdown",
   "metadata": {},
   "source": [
    "将结构保存为yaml配置文件"
   ]
  },
  {
   "cell_type": "code",
   "execution_count": 45,
   "metadata": {},
   "outputs": [],
   "source": [
    "with open('structure.yaml','w') as f:\n",
    "    yaml.dump(structure.as_dict(), f)"
   ]
  },
  {
   "cell_type": "code",
   "execution_count": 46,
   "metadata": {},
   "outputs": [],
   "source": [
    "with open('structure.yaml', 'r') as f:\n",
    "    d = yaml.load(f)\n",
    "    structure = mg.Structure.from_dict(d)"
   ]
  },
  {
   "cell_type": "code",
   "execution_count": 47,
   "metadata": {},
   "outputs": [
    {
     "name": "stdout",
     "output_type": "stream",
     "text": [
      "structure.yaml:>>                                 \n",
      "  1: '@class': Structure\n",
      "  2: '@module': pymatgen.core.structure\n",
      "  3: charge: null\n",
      "  4: lattice:\n"
     ]
    }
   ],
   "source": [
    "br.showfile('structure.yaml',nhead=4)"
   ]
  },
  {
   "cell_type": "markdown",
   "metadata": {},
   "source": [
    "### MontyEncoder/Decoder"
   ]
  },
  {
   "cell_type": "markdown",
   "metadata": {},
   "source": [
    "MontyEncoder封装了晶体结构向字典结构的转换过程, 因此使用`MontyEncoder`可以使晶体结构直接倾倒成json字符串;"
   ]
  },
  {
   "cell_type": "code",
   "execution_count": 48,
   "metadata": {},
   "outputs": [],
   "source": [
    "json_string = json.dumps(structure, cls=mg.MontyEncoder)"
   ]
  },
  {
   "cell_type": "markdown",
   "metadata": {},
   "source": [
    "MontyDecoder封装了字典结构向晶体结构的转换过程, 因此使用`MontyDecoder`可以使json字符串直接载入成晶体结构;"
   ]
  },
  {
   "cell_type": "code",
   "execution_count": 49,
   "metadata": {},
   "outputs": [],
   "source": [
    "structure = json.loads(json_string, cls=mg.MontyDecoder)"
   ]
  },
  {
   "cell_type": "markdown",
   "metadata": {},
   "source": [
    "## Structures and Molecules"
   ]
  },
  {
   "cell_type": "markdown",
   "metadata": {},
   "source": [
    "### Creating a Structure manually"
   ]
  },
  {
   "cell_type": "markdown",
   "metadata": {},
   "source": [
    "创建基本的Si晶体"
   ]
  },
  {
   "cell_type": "code",
   "execution_count": 50,
   "metadata": {},
   "outputs": [],
   "source": [
    "from pymatgen import Lattice, Structure, Molecule"
   ]
  },
  {
   "cell_type": "code",
   "execution_count": 51,
   "metadata": {},
   "outputs": [
    {
     "name": "stdout",
     "output_type": "stream",
     "text": [
      "Full Formula (Si2)\n",
      "Reduced Formula: Si\n",
      "abc   :   3.840000   3.840000   3.840000\n",
      "angles: 120.000000  90.000000  60.000000\n",
      "Sites (2)\n",
      "  #  SP       a    b     c\n",
      "---  ----  ----  ---  ----\n",
      "  0  Si    0     0    0\n",
      "  1  Si    0.75  0.5  0.75\n"
     ]
    }
   ],
   "source": [
    "coords = [[0, 0, 0], [0.75,0.5,0.75]]\n",
    "lattice = Lattice.from_parameters(a=3.84, b=3.84, c=3.84, alpha=120,\n",
    "                                  beta=90, gamma=60)\n",
    "struct = Structure(lattice, [\"Si\", \"Si\"], coords)\n",
    "print(struct)"
   ]
  },
  {
   "cell_type": "code",
   "execution_count": 52,
   "metadata": {
    "scrolled": false
   },
   "outputs": [
    {
     "name": "stdout",
     "output_type": "stream",
     "text": [
      "Full Formula (Fe1 H3 C1)\n",
      "Reduced Formula: FeH3C\n",
      "Charge = 0, Spin Mult = 2\n",
      "Sites (5)\n",
      "0 C     0.000000     0.000000     0.000000\n",
      "1 H     0.000000     0.000000     1.089000\n",
      "2 H     1.026719     0.000000    -0.363000\n",
      "3 H    -0.513360    -0.889165    -0.363000\n",
      "4 Fe2+    -0.513360     0.889165    -0.363000\n"
     ]
    }
   ],
   "source": [
    "coords = [[0.000000, 0.000000, 0.000000],\n",
    "          [0.000000, 0.000000, 1.089000],\n",
    "          [1.026719, 0.000000, -0.363000],\n",
    "          [-0.513360, -0.889165, -0.363000],\n",
    "          [-0.513360, 0.889165, -0.363000]]\n",
    "methane = Molecule([\"C\", \"H\", \"H\", \"H\", \"Fe2+\"], coords)\n",
    "print(methane)"
   ]
  },
  {
   "cell_type": "markdown",
   "metadata": {},
   "source": [
    ">Note that both elements and species (elements with oxidation states) are supported. So both “Fe” and “Fe2+” are valid specifications."
   ]
  },
  {
   "cell_type": "markdown",
   "metadata": {},
   "source": [
    "### Reading and writing Structures/Molecules"
   ]
  },
  {
   "cell_type": "markdown",
   "metadata": {},
   "source": [
    "读取POSCAR然后写为CIF:  \n",
    "The format is automatically guessed from the filename."
   ]
  },
  {
   "cell_type": "code",
   "execution_count": 53,
   "metadata": {},
   "outputs": [
    {
     "name": "stdout",
     "output_type": "stream",
     "text": [
      "POSCAR:>>                                         \n",
      "  1: Cs1 Cl1\n",
      "  7: 1 1\n",
      "  8: direct\n",
      " 10: 0.500000 0.500000 0.500000 Cl\n",
      "CsCl.cif:>>                                       \n",
      "  1: # generated using pymatgen\n",
      "  7: _cell_angle_alpha   90.00000000\n",
      "  8: _cell_angle_beta   90.00000000\n",
      " 10: _symmetry_Int_Tables_number   1\n"
     ]
    }
   ],
   "source": [
    "structure = Structure.from_file(\"POSCAR\")\n",
    "structure.to(filename=\"CsCl.cif\")\n",
    "\n",
    "br.showfile('POSCAR',nspec=[1,7,8,10])\n",
    "br.showfile(\"CsCl.cif\",nspec=[1,7,8,10])"
   ]
  },
  {
   "cell_type": "markdown",
   "metadata": {},
   "source": [
    "读取xyz文件然后写为高斯输入文件(gjf)"
   ]
  },
  {
   "cell_type": "code",
   "execution_count": 54,
   "metadata": {},
   "outputs": [
    {
     "name": "stdout",
     "output_type": "stream",
     "text": [
      "methane.xyz:>>                                    \n",
      "  1: 45\n",
      "  3:  H    0.632633    0.632633    0.632633\n",
      " 10:  H    0.632633    4.340895    4.340895\n",
      "methane.gjf:>>                                    \n",
      "  1: #P HF/6-31G(d) \n",
      "  3: H36 C9\n",
      " 10: H 3 B4 4 A4 2 D4\n"
     ]
    }
   ],
   "source": [
    "methane = Molecule.from_file(\"methane.xyz\")\n",
    "methane.to(filename=\"methane.gjf\")\n",
    "\n",
    "br.showfile('methane.xyz',nspec=(1,3,10))\n",
    "br.showfile('methane.gjf',nspec=(1,3,10))"
   ]
  },
  {
   "cell_type": "markdown",
   "metadata": {},
   "source": [
    "精确控制读取文件时的解析器"
   ]
  },
  {
   "cell_type": "code",
   "execution_count": 55,
   "metadata": {},
   "outputs": [],
   "source": [
    "from pymatgen.io.cif import CifParser\n",
    "parser = CifParser(\"CsCl.cif\")\n",
    "structure = parser.get_structures()[0] #parser.get_structures()返回一个列表"
   ]
  },
  {
   "cell_type": "code",
   "execution_count": 56,
   "metadata": {},
   "outputs": [],
   "source": [
    "from pymatgen.io.vasp import Poscar\n",
    "poscar = Poscar.from_file(\"POSCAR\")\n",
    "structure = poscar.structure"
   ]
  },
  {
   "cell_type": "markdown",
   "metadata": {},
   "source": [
    "将POSCAR文件转为CIF:  "
   ]
  },
  {
   "cell_type": "code",
   "execution_count": 57,
   "metadata": {},
   "outputs": [],
   "source": [
    "from pymatgen.io.vasp import Poscar\n",
    "from pymatgen.io.cif import CifWriter\n",
    "p = Poscar.from_file('POSCAR')\n",
    "w = CifWriter(p.structure)\n",
    "w.write_file('mystructure.cif')"
   ]
  },
  {
   "cell_type": "markdown",
   "metadata": {},
   "source": [
    ">**pymatgen.io.vasp.sets** provides a powerful way to generate complete sets of VASP input files from a Structure.   \n",
    "http://pymatgen.org/pymatgen.io.vasp.sets.html#module-pymatgen.io.vasp.sets;"
   ]
  },
  {
   "cell_type": "markdown",
   "metadata": {},
   "source": [
    "对于分子来说, pymatgen对XYZ格式和gaussian格式提供了内嵌的支持;"
   ]
  },
  {
   "cell_type": "code",
   "execution_count": 58,
   "metadata": {},
   "outputs": [],
   "source": [
    "from pymatgen.io.xyz import XYZ\n",
    "from pymatgen.io.gaussian import GaussianInput\n",
    "\n",
    "xyz = XYZ.from_file('methane.xyz')\n",
    "gau = GaussianInput(xyz.molecule,\n",
    "                    route_parameters={'SP': \"\", \"SCF\": \"Tight\"})\n",
    "gau.write_file('methane.inp')"
   ]
  },
  {
   "cell_type": "markdown",
   "metadata": {},
   "source": [
    "通过OpenBabel的Python绑定, pymatgen可以提供对100多种文件类型的支持;"
   ]
  },
  {
   "cell_type": "markdown",
   "metadata": {},
   "source": [
    "### Things you can do with Structures"
   ]
  },
  {
   "cell_type": "markdown",
   "metadata": {},
   "source": [
    "一项正在进行的工作(a work in progress):  \n",
    "* 以更直接的方式修改结构: `pymatgen .transformations`, `pymatgen.alchemy`\n",
    "* 分析结构,计算Ewald和: `pymatgen.analysis.ewald`;  \n",
    "比较两个结构的相似性: `pymatgen.analysis.structure_matcher`;"
   ]
  },
  {
   "cell_type": "markdown",
   "metadata": {},
   "source": [
    "Structure and Molecule are designed to be mutable(可变的).  \n",
    "If you need guarantees of immutability(不可变性) for Structure/Molecule, you should use the IStructure and IMolecule classes instead."
   ]
  },
  {
   "cell_type": "markdown",
   "metadata": {},
   "source": [
    "#### Modifying Structures or Molecules"
   ]
  },
  {
   "cell_type": "markdown",
   "metadata": {},
   "source": [
    "在结构的位点1处修改元素种类"
   ]
  },
  {
   "cell_type": "code",
   "execution_count": 59,
   "metadata": {},
   "outputs": [],
   "source": [
    "structure[1] = \"F\"\n",
    "# molecule[1] = \"F\""
   ]
  },
  {
   "cell_type": "markdown",
   "metadata": {},
   "source": [
    "同时改变物种和坐标"
   ]
  },
  {
   "cell_type": "code",
   "execution_count": 60,
   "metadata": {},
   "outputs": [],
   "source": [
    "structure[1] = \"Cl\", [0.51, 0.51, 0.51]\n",
    "# molecule[1] = \"F\", [1.34, 2, 3]"
   ]
  },
  {
   "cell_type": "markdown",
   "metadata": {},
   "source": [
    "结构对象和分子对象支持典型的类似于列表式的操作:   \n",
    "reverse, extend, pop, index, count;"
   ]
  },
  {
   "cell_type": "code",
   "execution_count": 61,
   "metadata": {},
   "outputs": [],
   "source": [
    "structure.reverse()\n",
    "# molecule.reverse()"
   ]
  },
  {
   "cell_type": "code",
   "execution_count": 62,
   "metadata": {},
   "outputs": [],
   "source": [
    "structure.append(\"F\", [0.9, 0.9, 0.9])\n",
    "# molecule.append(\"F\", [2.1, 3,.2 4.3])"
   ]
  },
  {
   "cell_type": "code",
   "execution_count": 63,
   "metadata": {},
   "outputs": [
    {
     "data": {
      "text/plain": [
       "Structure Summary\n",
       "Lattice\n",
       "    abc : 4.2 4.2 4.2\n",
       " angles : 90.0 90.0 90.0\n",
       " volume : 74.08800000000001\n",
       "      A : 4.2 0.0 0.0\n",
       "      B : 0.0 4.2 0.0\n",
       "      C : 0.0 0.0 4.2\n",
       "PeriodicSite: Cl (2.1420, 2.1420, 2.1420) [0.5100, 0.5100, 0.5100]\n",
       "PeriodicSite: Cs (0.0000, 0.0000, 0.0000) [0.0000, 0.0000, 0.0000]\n",
       "PeriodicSite: F (3.7800, 3.7800, 3.7800) [0.9000, 0.9000, 0.9000]"
      ]
     },
     "execution_count": 63,
     "metadata": {},
     "output_type": "execute_result"
    }
   ],
   "source": [
    "structure"
   ]
  },
  {
   "cell_type": "markdown",
   "metadata": {},
   "source": [
    "一些典型的转换"
   ]
  },
  {
   "cell_type": "markdown",
   "metadata": {},
   "source": [
    "将结构扩展为超胞:  \n",
    "每运行一次就扩展一倍"
   ]
  },
  {
   "cell_type": "code",
   "execution_count": 64,
   "metadata": {
    "scrolled": true
   },
   "outputs": [],
   "source": [
    "# structure.make_supercell([2, 2, 2])\n",
    "# structure"
   ]
  },
  {
   "cell_type": "markdown",
   "metadata": {},
   "source": [
    "获得结构的原始形式"
   ]
  },
  {
   "cell_type": "code",
   "execution_count": 67,
   "metadata": {},
   "outputs": [],
   "source": [
    "# structure.get_primitive_structure()\n",
    "# structure"
   ]
  },
  {
   "cell_type": "code",
   "execution_count": null,
   "metadata": {},
   "outputs": [],
   "source": []
  },
  {
   "cell_type": "markdown",
   "metadata": {},
   "source": [
    "## Entries - Basic analysis unit"
   ]
  },
  {
   "cell_type": "markdown",
   "metadata": {},
   "source": [
    "### 条目是最基本的分析单元:  \n",
    "* 包含一个已经计算好的能量和一个组成成分(composition), 还可以包含其他的输入或者计算数据;    \n",
    "* ComputedEntry对象和ComputedStructureEntry对象在`pymatgen.entries.computed_entries`中定义;  \n",
    "* ComputedEntry对象既可以通过分析计算数据手动生成, 也可以使用`pymatgen.apps.borg`包生成;  \n"
   ]
  },
  {
   "cell_type": "markdown",
   "metadata": {},
   "source": [
    "### Compatibility - Mixing GGA and GGA+U runs"
   ]
  },
  {
   "cell_type": "code",
   "execution_count": 69,
   "metadata": {},
   "outputs": [],
   "source": [
    "%%pas\n",
    "from pymatgen.entries.compatibility import MaterialsProjectCompatibility\n",
    "from pymatgen.analysis.phase_diagram import PhaseDiagram, PDPlotter\n",
    "\n",
    "# Get unprocessed_entries using pymatgen.borg or other means.\n",
    "\n",
    "# Process the entries for compatibility\n",
    "compat = MaterialsProjectCompatibility()\n",
    "processed_entries = compat.process_entries(unprocessed_entries)\n",
    "\n",
    "# These few lines generates the phase diagram using the ComputedEntries.\n",
    "pd = PhaseDiagram(processed_entries)\n",
    "plotter = PDPlotter(pd)\n",
    "plotter.show()"
   ]
  },
  {
   "cell_type": "code",
   "execution_count": null,
   "metadata": {},
   "outputs": [],
   "source": []
  },
  {
   "cell_type": "markdown",
   "metadata": {},
   "source": [
    "## pymatgen.borg - High-throughput data assimilation"
   ]
  },
  {
   "cell_type": "markdown",
   "metadata": {},
   "source": [
    "**borg**: 提供一个简便的方式提取(assimilation)目录结构中大量的数据;  \n",
    "可以将vasp计算的整个目录结构变为一个可用的条目, 由此可用来计算相图或者进行其他分析;\n",
    "\n",
    "工作流框架:  \n",
    "1. **Drones**对象 \n",
    "    * 在`pymatgen.apps.borg.hive`定义;\n",
    "    * 通过Drone, 可以将一个目录解析成一个pymatgen对象;\n",
    "    * **VaspToComputedEntryDrone**定义了如何将包含vasprun.xml文件的目录转化成一个ComputedEntry的操作;\n",
    "2. **BorgQueen**对象\n",
    "    * 位于pymatgen.apps.borg.queen;\n",
    "    * 使用Drones提取(assimilation)整个因平行计算而产生的子目录结构;"
   ]
  },
  {
   "cell_type": "markdown",
   "metadata": {},
   "source": [
    "### Simple example - Making a phase diagram"
   ]
  },
  {
   "cell_type": "markdown",
   "metadata": {},
   "source": [
    "在`Li-O_runs`目录下, 分别计算了`Li`,`O`,和`Li-O`化合物;   \n",
    "使用该目录结构计算计算Li-O相图;"
   ]
  },
  {
   "cell_type": "code",
   "execution_count": 81,
   "metadata": {},
   "outputs": [],
   "source": [
    "%%pas\n",
    "import pymatgen\n",
    "from pymatgen.apps.borg.hive import VaspToComputedEntryDrone\n",
    "from pymatgen.apps.borg.queen import BorgQueen\n",
    "from pymatgen.analysis.phase_diagram import PhaseDiagram, PDPlotter\n",
    "\n",
    "# 将数据提取到ComputedEntries;\n",
    "drone = VaspToComputedEntryDrone()\n",
    "queen = BorgQueen(drone, \"Li-O_runs\", 2)\n",
    "entries = queen.get_data()\n",
    "\n",
    "# 如果只是提取数据就会话费很长时间的话,\n",
    "# 可以将提取后的数据保存到json结构中,\n",
    "# 从json中提取数据比在普通文件中提取数据明显快的多;\n",
    "queen.save_data(\"Li-O_entries.json\")\n",
    "\n",
    "# 使用ComputedEntries产生相图\n",
    "pd = PhaseDiagram(entries)\n",
    "plotter = PDPlotter(pd)\n",
    "plotter.show()"
   ]
  },
  {
   "cell_type": "markdown",
   "metadata": {},
   "source": [
    "### Another example - Calculating reaction energies"
   ]
  },
  {
   "cell_type": "code",
   "execution_count": 82,
   "metadata": {},
   "outputs": [],
   "source": [
    "%%pas\n",
    "from pymatgen.apps.borg.hive import VaspToComputedEntryDrone\n",
    "from pymatgen.apps.borg.queen import BorgQueen\n",
    "from pymatgen.analysis.reaction_calculator import ComputedReaction\n",
    "\n",
    "# 从ComputedEntries中提取数据\n",
    "drone = VaspToComputedEntryDrone()\n",
    "queen = BorgQueen(drone)\n",
    "queen.load_data(\"Li-O_entries.json\")\n",
    "entries = queen.get_data()\n",
    "\n",
    "# 提取正确的条目并计算反应能\n",
    "rcts = filter(lambda e: e.composition.reduced_formula in [\"Li\", \"O2\"], entries)\n",
    "prods = filter(lambda e: e.composition.reduced_formula == \"Li2O\", entries)\n",
    "rxn = ComputedReaction(rcts, prods)\n",
    "print(rxn)\n",
    "print(rxn.calculated_reaction_energy)"
   ]
  },
  {
   "cell_type": "code",
   "execution_count": null,
   "metadata": {},
   "outputs": [],
   "source": []
  },
  {
   "cell_type": "markdown",
   "metadata": {},
   "source": [
    "## pymatgen.transformations"
   ]
  },
  {
   "cell_type": "markdown",
   "metadata": {},
   "source": [
    "结构变换:  \n",
    "添加或删除位点; 替换位点物种;  \n",
    "应用静电能量标准, 只去除结构中某一物种的一小部分;"
   ]
  },
  {
   "cell_type": "markdown",
   "metadata": {},
   "source": [
    "$$1"
   ]
  },
  {
   "cell_type": "code",
   "execution_count": 94,
   "metadata": {},
   "outputs": [],
   "source": [
    "from pymatgen.io.cif import CifParser\n",
    "from pymatgen.transformations.standard_transformations import RemoveSpeciesTransformation\n",
    "\n",
    "# 从cif读取LiFePO4的结构\n",
    "parser = CifParser('LiFePO4.cif')\n",
    "struct = parser.get_structures()[0]\n",
    "# 定义一个删除物种类实例, 然后调用实例的方法删除物种\n",
    "t = RemoveSpeciesTransformation([\"Li\"])\n",
    "modified_structure = t.apply_transformation(struct)"
   ]
  },
  {
   "cell_type": "markdown",
   "metadata": {},
   "source": [
    "## pymatgen.alchemy - High-throughput transformations"
   ]
  },
  {
   "cell_type": "markdown",
   "metadata": {},
   "source": [
    "$$1"
   ]
  },
  {
   "cell_type": "markdown",
   "metadata": {},
   "source": [
    " replace Fe with Mn and remove all Li in all structures"
   ]
  },
  {
   "cell_type": "code",
   "execution_count": null,
   "metadata": {},
   "outputs": [],
   "source": [
    "from pymatgen.alchemy.transmuters import CifTransmuter\n",
    "from pymatgen.transformations.standard_transformations import SubstitutionTransformation, RemoveSpeciesTransformation\n",
    "\n",
    "trans = []\n",
    "trans.append(SubstitutionTransformation({\"Fe\":\"Mn\"}))\n",
    "trans.append(RemoveSpecieTransformation([\"Lu\"]))\n",
    "transmuter = CifTransmuter.from_filenames([\"MultiStructure.cif\"], trans)\n",
    "structures = transmuter.transformed_structures"
   ]
  },
  {
   "cell_type": "markdown",
   "metadata": {},
   "source": [
    "## pymatgen.matproj.rest - Integration with the Materials Project REST API"
   ]
  },
  {
   "cell_type": "markdown",
   "metadata": {},
   "source": [
    "This allows users to efficiently perform structure manipulation and analyses without going through **the web interface**.  \n",
    "In parallel, we have coded in the **pymatgen.ext.matproj** module a **MPRester**, a user-friendly high-level interface to the **Materials API** to obtain useful pymatgen objects for further analyses. "
   ]
  },
  {
   "cell_type": "markdown",
   "metadata": {},
   "source": [
    "在访问`material project`之前应该首先注册一个账户, 然后在该账户下(dashboard)生成一个API密令;"
   ]
  },
  {
   "cell_type": "markdown",
   "metadata": {},
   "source": [
    "通过id获得结构"
   ]
  },
  {
   "cell_type": "code",
   "execution_count": 123,
   "metadata": {},
   "outputs": [],
   "source": [
    "with mg.MPRester(\"mTWQ1pJdf9bKaX3O\") as m:\n",
    "\n",
    "    # Structure for material id\n",
    "    structure = m.get_structure_by_material_id(\"mp-1234\")\n",
    "\n",
    "    # Dos for material id\n",
    "    dos = m.get_dos_by_material_id(\"mp-1234\")\n",
    "\n",
    "    # Bandstructure for material id\n",
    "    bandstructure = m.get_bandstructure_by_material_id(\"mp-1234\")"
   ]
  },
  {
   "cell_type": "markdown",
   "metadata": {},
   "source": [
    "通过化学式获得结构, 将获得一个条目列表"
   ]
  },
  {
   "cell_type": "code",
   "execution_count": 144,
   "metadata": {},
   "outputs": [
    {
     "name": "stdout",
     "output_type": "stream",
     "text": [
      "17\n",
      "energy                   |energy_per_atom          |\n",
      "volume                   |formation_energy_per_atom|\n",
      "nsites                   |unit_cell_formula        |\n",
      "pretty_formula           |is_hubbard               |\n",
      "elements                 |nelements                |\n",
      "e_above_hull             |hubbards                 |\n",
      "is_compatible            |spacegroup               |\n",
      "task_ids                 |band_gap                 |\n",
      "density                  |icsd_id                  |\n",
      "icsd_ids                 |cif                      |\n",
      "total_magnetization      |material_id              |\n",
      "oxide_type               |tags                     |\n",
      "elasticity               |full_formula             |\n",
      "\n"
     ]
    }
   ],
   "source": [
    "data = m.get_data(\"Fe2O3\")\n",
    "print(len(data))# 条目长度\n",
    "%col 2 list(data[0]) #每个条目包含的信息, 字典键"
   ]
  },
  {
   "cell_type": "markdown",
   "metadata": {},
   "source": [
    "`prop`参数: 获取每个条目的单个键"
   ]
  },
  {
   "cell_type": "code",
   "execution_count": 145,
   "metadata": {},
   "outputs": [
    {
     "name": "stdout",
     "output_type": "stream",
     "text": [
      "energy                   |energy_per_atom          |\n",
      "volume                   |formation_energy_per_atom|\n",
      "nsites                   |unit_cell_formula        |\n",
      "pretty_formula           |is_hubbard               |\n",
      "elements                 |nelements                |\n",
      "e_above_hull             |hubbards                 |\n",
      "is_compatible            |spacegroup               |\n",
      "band_gap                 |density                  |\n",
      "icsd_id                  |cif                      |\n",
      "\n"
     ]
    }
   ],
   "source": [
    "# prop的可选值\n",
    "%col 2 mg.MPRester.supported_task_properties"
   ]
  },
  {
   "cell_type": "markdown",
   "metadata": {},
   "source": [
    ">https://materialsproject.org/docs/api"
   ]
  },
  {
   "cell_type": "code",
   "execution_count": 135,
   "metadata": {},
   "outputs": [
    {
     "data": {
      "text/plain": [
       "[{'material_id': 'mvc-12005', 'energy': -129.40518463},\n",
       " {'material_id': 'mp-777192', 'energy': -262.93588696}]"
      ]
     },
     "execution_count": 135,
     "metadata": {},
     "output_type": "execute_result"
    }
   ],
   "source": [
    "# 条目id及其能量\n",
    "energies = m.get_data(\"Fe2O3\",prop=\"energy\")\n",
    "energies[:2]"
   ]
  },
  {
   "cell_type": "code",
   "execution_count": 143,
   "metadata": {},
   "outputs": [
    {
     "data": {
      "text/plain": [
       "[{'material_id': 'mvc-12005',\n",
       "  'spacegroup': {'source': 'spglib',\n",
       "   'symbol': 'Cmcm',\n",
       "   'number': 63,\n",
       "   'point_group': 'mmm',\n",
       "   'crystal_system': 'orthorhombic',\n",
       "   'hall': '-C 2c 2'}},\n",
       " {'material_id': 'mp-777192',\n",
       "  'spacegroup': {'source': 'spglib',\n",
       "   'symbol': 'P1',\n",
       "   'number': 1,\n",
       "   'point_group': '1',\n",
       "   'crystal_system': 'triclinic',\n",
       "   'hall': 'P 1'}}]"
      ]
     },
     "execution_count": 143,
     "metadata": {},
     "output_type": "execute_result"
    }
   ],
   "source": [
    "# 条目id及其空间群\n",
    "spacegroups = m.get_data(\"Fe2O3\",prop='spacegroup')\n",
    "spacegroups[:2]"
   ]
  },
  {
   "cell_type": "markdown",
   "metadata": {},
   "source": [
    "MPRester提供了获取化学系统中所有条目的方法;  \n",
    "结合borg框架, 可以将自己的计算与MP中的数据进行对比分析;  "
   ]
  },
  {
   "cell_type": "markdown",
   "metadata": {},
   "source": [
    "确定新计算材料的相位稳定性"
   ]
  },
  {
   "cell_type": "code",
   "execution_count": 152,
   "metadata": {},
   "outputs": [],
   "source": [
    "%%pas\n",
    "from pymatgen.ext.matproj import MPRester\n",
    "from pymatgen.apps.borg.hive import VaspToComputedEntryDrone\n",
    "from pymatgen.apps.borg.queen import BorgQueen\n",
    "from pymatgen.entries.compatibility import MaterialsProjectCompatibility\n",
    "from pymatgen.analysis.phase_diagram import PhaseDiagram, PDPlotter\n",
    "\n",
    "# 将vasp的计算目录, 转化为`计算条目`对象\n",
    "drone = VaspToComputedEntryDrone()\n",
    "queen = BorgQueen(drone, rootpath=\".\")\n",
    "entries = queen.get_data()\n",
    "\n",
    "# 获取保存在MP数据库中的所有Li-Fe-O相\n",
    "with MPRester(\"USER_API_KEY\") as m:\n",
    "    mp_entries = m.get_entries_in_chemsys([\"Li\", \"Fe\", \"O\"])\n",
    "\n",
    "# 将MP的条目与自计算的条目结合起来\n",
    "entries.extend(mp_entries)\n",
    "\n",
    "# 使用MaterialsProjectCompatibility处理条目\n",
    "compat = MaterialsProjectCompatibility()\n",
    "entries = compat.process_entries(entries)\n",
    "\n",
    "# 绘制Li-Fe-O相图\n",
    "pd = PhaseDiagram(entries)\n",
    "plotter = PDPlotter(pd)\n",
    "plotter.show()"
   ]
  },
  {
   "cell_type": "markdown",
   "metadata": {},
   "source": [
    "### The query method"
   ]
  },
  {
   "cell_type": "markdown",
   "metadata": {},
   "source": [
    "MPRester的`query()`方法提供了更加灵活的读取MP数据库的方法;  \n",
    "https://materialsproject.org/open"
   ]
  },
  {
   "cell_type": "code",
   "execution_count": 154,
   "metadata": {},
   "outputs": [],
   "source": [
    "%%pas\n",
    "from pymatgen.ext.matproj import MPRester\n",
    "\n",
    "with MPRester(\"USER_API_KEY\") as m:\n",
    "\n",
    "    # Get all energies of materials with formula \"*2O\".\n",
    "    results = m.query(\"*2O\", ['energy'])\n",
    "\n",
    "    # Get the formulas and energies of materials with materials_id mp-1234\n",
    "    # or with formula FeO.\n",
    "    results = m.query(\"FeO mp-1234\", ['pretty_formula', 'energy'])\n",
    "\n",
    "    # Get all compounds of the form ABO3\n",
    "    results = m.query(\"**O3\", ['pretty_formula', 'energy'])"
   ]
  },
  {
   "cell_type": "markdown",
   "metadata": {},
   "source": [
    "### Setting the PMG_MAPI_KEY in the config file"
   ]
  },
  {
   "cell_type": "markdown",
   "metadata": {},
   "source": [
    "MPRester可以自动在配置文件中查询`USER_API_KEY`, 如果配置文件中保存了该变量, MPRester在以后调用时可以不设置该参数;"
   ]
  },
  {
   "cell_type": "markdown",
   "metadata": {},
   "source": [
    "MAPI(Materials API)"
   ]
  },
  {
   "cell_type": "markdown",
   "metadata": {},
   "source": [
    "在命令行下执行该条语句才会生成配置文件:`C:\\Users\\tf..\\.pmgrc.yaml`   \n",
    "$ pmg config --add PMG_MAPI_KEY 'mTWQ....'"
   ]
  },
  {
   "cell_type": "code",
   "execution_count": null,
   "metadata": {},
   "outputs": [],
   "source": []
  }
 ],
 "metadata": {
  "kernelspec": {
   "display_name": "Python 3",
   "language": "python",
   "name": "python3"
  },
  "language_info": {
   "codemirror_mode": {
    "name": "ipython",
    "version": 3
   },
   "file_extension": ".py",
   "mimetype": "text/x-python",
   "name": "python",
   "nbconvert_exporter": "python",
   "pygments_lexer": "ipython3",
   "version": "3.6.5"
  },
  "toc": {
   "base_numbering": 1,
   "nav_menu": {},
   "number_sections": true,
   "sideBar": true,
   "skip_h1_title": true,
   "title_cell": "Table of Contents",
   "title_sidebar": "Contents",
   "toc_cell": false,
   "toc_position": {},
   "toc_section_display": true,
   "toc_window_display": false
  }
 },
 "nbformat": 4,
 "nbformat_minor": 2
}
