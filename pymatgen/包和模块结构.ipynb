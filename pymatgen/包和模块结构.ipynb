{
 "cells": [
  {
   "cell_type": "markdown",
   "metadata": {},
   "source": [
    "**包**(package,subpackage)是目录(文件夹), **模块**(module,submodule)是文件;   \n",
    "**import** 既可以导入包和子包, 也可以导入模块和子模块;    "
   ]
  },
  {
   "cell_type": "markdown",
   "metadata": {},
   "source": [
    "想要查看一个包的完整结构(层次)有些繁琐, 此处只查看到二级包(二级目录)或与二级包并列的模块, 二级包及与其并列的模块都可以由import语句(有两个点), 同称为包的**二级结构**;    \n",
    "由于结构上的一致性, 将子包(目录)及与其并列的模块(文件)等视为一种东西;"
   ]
  },
  {
   "cell_type": "markdown",
   "metadata": {},
   "source": [
    "如何学习模块中的函数或者类: \n",
    "* 语法(一句话概括, 参数及参数类型, 返回值及返回值类型);    \n",
    "* 包含的方法或属性;   \n",
    "* 应用示例; "
   ]
  },
  {
   "cell_type": "markdown",
   "metadata": {},
   "source": [
    "# pymatgen.alchemy package"
   ]
  },
  {
   "cell_type": "markdown",
   "metadata": {},
   "source": [
    "{alchemy}不含二级包, 只有3个二级模块:  \n",
    "pymatgen.alchemy.filters module:     \n",
    "pymatgen.alchemy.materials module    \n",
    "pymatgen.alchemy.transmuters module"
   ]
  },
  {
   "cell_type": "markdown",
   "metadata": {},
   "source": [
    "# pymatgen.analysis package"
   ]
  },
  {
   "cell_type": "markdown",
   "metadata": {},
   "source": [
    "## pg.analysis.chemenv package"
   ]
  },
  {
   "cell_type": "markdown",
   "metadata": {},
   "source": [
    "pg.analysis.chemenv.coordination_environments package\n",
    "pg.analysis.chemenv.coordination_environments.coordination_geometries_files package\n",
    "pg.analysis.chemenv.coordination_environments.strategy_files package\n",
    "pg.analysis.chemenv.coordination_environments.chemenv_strategies module\n",
    "pg.analysis.chemenv.coordination_environments.coordination_geometries module\n",
    "pg.analysis.chemenv.coordination_environments.coordination_geometry_finder module\n",
    "pg.analysis.chemenv.coordination_environments.structure_environments module\n",
    "pg.analysis.chemenv.coordination_environments.voronoi module"
   ]
  },
  {
   "cell_type": "markdown",
   "metadata": {},
   "source": [
    "### pymatgen.analysis.chemenv.utils package"
   ]
  },
  {
   "cell_type": "markdown",
   "metadata": {},
   "source": [
    "pymatgen.analysis.chemenv.utils.chemenv_config module\n",
    "pymatgen.analysis.chemenv.utils.chemenv_errors module\n",
    "pymatgen.analysis.chemenv.utils.coordination_geometry_utils module\n",
    "pymatgen.analysis.chemenv.utils.defs_utils module\n",
    "pymatgen.analysis.chemenv.utils.func_utils module\n",
    "pymatgen.analysis.chemenv.utils.math_utils module\n",
    "pymatgen.analysis.chemenv.utils.scripts_utils module"
   ]
  },
  {
   "cell_type": "markdown",
   "metadata": {},
   "source": [
    "## pymatgen.analysis.cost package"
   ]
  },
  {
   "cell_type": "markdown",
   "metadata": {},
   "source": [
    "### pymatgen.analysis.cost.cost module"
   ]
  },
  {
   "cell_type": "markdown",
   "metadata": {},
   "source": [
    "## pymatgen.analysis.defects package"
   ]
  },
  {
   "cell_type": "markdown",
   "metadata": {},
   "source": [
    "pymatgen.analysis.defects.core module\n",
    "pymatgen.analysis.defects.corrections module\n",
    "pymatgen.analysis.defects.defect_compatibility module\n",
    "pymatgen.analysis.defects.dilute_solution_model module\n",
    "pymatgen.analysis.defects.generators module\n",
    "pymatgen.analysis.defects.thermodynamics module\n",
    "pymatgen.analysis.defects.utils module"
   ]
  },
  {
   "cell_type": "markdown",
   "metadata": {},
   "source": [
    "## pymatgen.analysis.diffraction package"
   ]
  },
  {
   "cell_type": "markdown",
   "metadata": {},
   "source": [
    "pymatgen.analysis.diffraction.core module\n",
    "pymatgen.analysis.diffraction.neutron module\n",
    "pymatgen.analysis.diffraction.xrd module"
   ]
  },
  {
   "cell_type": "markdown",
   "metadata": {},
   "source": [
    "## pymatgen.analysis.elasticity package"
   ]
  },
  {
   "cell_type": "markdown",
   "metadata": {},
   "source": [
    "pymatgen.analysis.elasticity.elastic module\n",
    "pymatgen.analysis.elasticity.strain module\n",
    "pymatgen.analysis.elasticity.stress module\n",
    "pymatgen.analysis.elasticity.tensors module"
   ]
  },
  {
   "cell_type": "markdown",
   "metadata": {},
   "source": [
    "## pymatgen.analysis.ferroelectricity package"
   ]
  },
  {
   "cell_type": "markdown",
   "metadata": {},
   "source": [
    "pymatgen.analysis.ferroelectricity.polarization module"
   ]
  },
  {
   "cell_type": "code",
   "execution_count": null,
   "metadata": {},
   "outputs": [],
   "source": []
  },
  {
   "cell_type": "markdown",
   "metadata": {},
   "source": [
    "## pymatgen.analysis.gb package"
   ]
  },
  {
   "cell_type": "markdown",
   "metadata": {},
   "source": [
    "pymatgen.analysis.gb.grain module"
   ]
  },
  {
   "cell_type": "code",
   "execution_count": null,
   "metadata": {},
   "outputs": [],
   "source": []
  },
  {
   "cell_type": "markdown",
   "metadata": {},
   "source": [
    "## pymatgen.analysis.hhi package"
   ]
  },
  {
   "cell_type": "markdown",
   "metadata": {},
   "source": [
    "pymatgen.analysis.hhi.hhi module"
   ]
  },
  {
   "cell_type": "markdown",
   "metadata": {},
   "source": [
    "## pymatgen.analysis.magnetism package"
   ]
  },
  {
   "cell_type": "markdown",
   "metadata": {},
   "source": [
    "pymatgen.analysis.magnetism.analyzer module\n",
    "pymatgen.analysis.magnetism.jahnteller module"
   ]
  },
  {
   "cell_type": "markdown",
   "metadata": {},
   "source": [
    "## pymatgen.analysis.structure_prediction package"
   ]
  },
  {
   "cell_type": "markdown",
   "metadata": {},
   "source": [
    "pymatgen.analysis.structure_prediction.substitution_probability module\n",
    "pymatgen.analysis.structure_prediction.substitutor module\n",
    "pymatgen.analysis.structure_prediction.volume_predictor module"
   ]
  },
  {
   "cell_type": "markdown",
   "metadata": {},
   "source": [
    "### pymatgen.analysis.structure_prediction.substitution_probability module"
   ]
  },
  {
   "cell_type": "markdown",
   "metadata": {},
   "source": [
    "**SubstitutionPredictor**(lambda_table=None, alpha=-5, threshold=0.001):    \n",
    "**根据给定成分或物种列表, 预测可能的替换物种**;"
   ]
  },
  {
   "cell_type": "markdown",
   "metadata": {},
   "source": [
    "**composition_prediction**(composition, to_this_composition=True):    \n",
    "以字典的形式列出预测, 从一个起始或终止成分, 返回其电平衡的替换物种;  \n",
    "`composition`: 起始成分或终止成分; 从起始成分出发和从终止成分出发, 推测的替换物种稍有不同;  \n",
    "`to_this_composition=True`: composition代表终止成分, 做字典的值;  \n",
    "`to_this_composition=False`: composition代表起始成分, 做字典的键;  \n",
    "\n",
    "**list_prediction**(species, to_this_composition=True):  \n",
    "以字典的形式列出预测;"
   ]
  },
  {
   "cell_type": "markdown",
   "metadata": {},
   "source": [
    "**SubstitutionProbability**(args, kwargs):   \n",
    "**该类在给定原子列表的情况下找到替换概率;**    \n",
    "如果您查看from_defaults静态方法，则输入更有意义;    \n",
    "`lambda_table`: 权重函数的json表, 如果`lamba_table=None`, 使用默认的`lambda.json`;    \n",
    "`alpha`: 对从未观察到的替换物种的权重函数;"
   ]
  },
  {
   "cell_type": "code",
   "execution_count": 32,
   "metadata": {},
   "outputs": [],
   "source": [
    "from pymatgen.analysis.structure_prediction.substitution_probability import SubstitutionPredictor"
   ]
  },
  {
   "cell_type": "code",
   "execution_count": null,
   "metadata": {},
   "outputs": [],
   "source": [
    "path = pymatgen.analysis.structure_prediction.substitution_probability.__file__"
   ]
  },
  {
   "cell_type": "code",
   "execution_count": 44,
   "metadata": {},
   "outputs": [
    {
     "data": {
      "text/plain": [
       "'C:\\\\Users\\\\tfliu\\\\Anaconda3\\\\lib\\\\site-packages\\\\pymatgen\\\\analysis\\\\structure_prediction\\\\substitution_probability.py'"
      ]
     },
     "execution_count": 44,
     "metadata": {},
     "output_type": "execute_result"
    }
   ],
   "source": [
    "path"
   ]
  },
  {
   "cell_type": "code",
   "execution_count": 45,
   "metadata": {},
   "outputs": [
    {
     "data": {
      "text/plain": [
       "'C:\\\\Users\\\\tfliu\\\\Anaconda3\\\\lib\\\\site-packages\\\\pymatgen\\\\analysis\\\\structure_prediction'"
      ]
     },
     "execution_count": 45,
     "metadata": {},
     "output_type": "execute_result"
    }
   ],
   "source": [
    "os.path.dirname(path)"
   ]
  },
  {
   "cell_type": "code",
   "execution_count": null,
   "metadata": {},
   "outputs": [],
   "source": []
  },
  {
   "cell_type": "code",
   "execution_count": 41,
   "metadata": {},
   "outputs": [
    {
     "data": {
      "text/plain": [
       "['composition_prediction', 'list_prediction']"
      ]
     },
     "execution_count": 41,
     "metadata": {},
     "output_type": "execute_result"
    }
   ],
   "source": [
    "br.dir2(SubstitutionPredictor)"
   ]
  },
  {
   "cell_type": "code",
   "execution_count": null,
   "metadata": {},
   "outputs": [],
   "source": []
  },
  {
   "cell_type": "code",
   "execution_count": null,
   "metadata": {},
   "outputs": [],
   "source": []
  },
  {
   "cell_type": "markdown",
   "metadata": {},
   "source": [
    "## pymatgen.analysis.xas package"
   ]
  },
  {
   "cell_type": "markdown",
   "metadata": {},
   "source": [
    "pymatgen.analysis.xas.spectrum module"
   ]
  },
  {
   "cell_type": "markdown",
   "metadata": {},
   "source": [
    "## 与analysis包并列的模块  "
   ]
  },
  {
   "cell_type": "markdown",
   "metadata": {},
   "source": [
    "analysis.adsorption: 吸附分析      \n",
    "analysis.aflow_prototypes:    \n",
    "analysis.bond_dissociation: 键解离   \n",
    "analysis.bond_valence:    \n",
    "analysis.diffusion_analyzer: 扩散分析   \n",
    "analysis.energy_models: 能量分析模型   \n",
    "analysis.eos: 状态方程   \n",
    "analysis.ewald:    \n",
    "analysis.excitation: 激发态   \n",
    "analysis.find_dimension:    \n",
    "analysis.fragmenter   \n",
    "analysis.functional_groups: 官能团分析   \n",
    "analysis.graphs   \n",
    "analysis.interface_reactions: 界面反应分析   \n",
    "analysis.local_env: 当地环境   \n",
    "analysis.molecule_matcher: 分子匹配   \n",
    "analysis.molecule_structure_comparator   \n",
    "analysis.nmr   \n",
    "analysis.path_finder   \n",
    "analysis.phase_diagram: 相图分析   \n",
    "analysis.piezo   \n",
    "analysis.pourbaix_diagram   \n",
    "analysis.quasiharmonic   \n",
    "analysis.reaction_calculator: 反应计算   \n",
    "analysis.structure_analyzer:    \n",
    "analysis.structure_matcher   \n",
    "analysis.substrate_analyzer   \n",
    "analysis.surface_analysis: 表面分析   \n",
    "analysis.thermochemistry   \n",
    "analysis.transition_state: 过渡态分析   \n",
    "analysis.wulff: wulff分析   "
   ]
  },
  {
   "cell_type": "markdown",
   "metadata": {},
   "source": [
    "### analysis.adsorption: 吸附分析"
   ]
  },
  {
   "cell_type": "markdown",
   "metadata": {},
   "source": [
    "**AdsorbateSiteFinder**(slab, selective_dynamics=False, height=0.9, mi_vec=None):    \n",
    "**在slab中寻找吸附位点, 并根据自定义准则(criteria)生成吸附结构(返回的是整个吸附结构, 不只是吸附位点)**; \n",
    "* `selective_dynamics`: 在选择过程(selective dynamics)中, 是否将非表面位点固定;   \n",
    "* `mi_vec`(3D数组): 与弥勒指数并行的矢量, 这使得能够使用重定向的(reoriented)矢量, 但是弥勒矢量必须手动设置;   \n",
    "* `top_surface`: 吸附质位于上表面的质心还是下表面的质心(the center of mass);  "
   ]
  },
  {
   "cell_type": "markdown",
   "metadata": {},
   "source": [
    "寻找吸附位的步骤:  \n",
    "    1. 沿着晶面方向, 判断最高位点是否大于阈值;  \n",
    "    2. 根据Delaunay三角化(triangulation), 生成表面位点网络;  \n",
    "    3. 指定`on-top`(nodes), `bridge`(edges), `hollow`(face center \n",
    "    of the Del. 三角形);  \n",
    "    4. 将分子放置在位点, 生成结构;    "
   ]
  },
  {
   "cell_type": "markdown",
   "metadata": {},
   "source": [
    "**add_adsorbate**(molecule, ads_coord, repeat=None, reorient=True):  \n",
    "在特定坐标系中, 按照吸附质的坐标, 添加吸附质(分子对象);  \n",
    "`ads_coord`(array): 吸附质坐标;  \n",
    "`repeat`(3-tuple or list): 在放置吸附质之前(prior to)将slab变为超胞;  \n",
    "`reorient`: 分子重定向, 与z-轴并行;\n",
    "\n",
    "**adsorb_both_surfaces**(molecule, repeat=None, min_lw=5.0, reorient=True, find_args={}):    \n",
    "将给定分子吸附在slab的所有表面: 计算表面能或者计算非极性体系(non-polar systems)的时候, slab的两面都应该放置吸附质;   \n",
    "`min_lw`(float): repeat=None时, 可以设置slab的最小长度和宽度;  \n",
    "`find_args(dict)`: 参数字典, 传递给self.find_adsorption_sites;\n",
    "\n",
    "**find_adsorption_sites**(distance=2.0, put_inside=True, symm_reduce=0.01, near_reduce=0.01, positions=[u'ontop', u'bridge', u'hollow'], no_obtuse_hollow=True):    \n",
    "寻找吸附位点, 返回吸附位点的笛卡尔坐标;  \n",
    "`distance`: 在弥勒指数方向上, 位点距离原子体系坐标的距离;  \n",
    "`put_inside`: 是否把位点放置在slab的内层;  \n",
    "`symm_reduce`: symm reduction threshold;  \n",
    "`near_reduce`: near reduction threshold;  \n",
    "`positions`: 吸附位说明;  \n",
    "`no_obtuse_hollow`: 在空位中是否包含钝化三角形体系(obtuse triangular ensembles);\n",
    "\n",
    "**find_surface_sites_by_height**(slab, height=0.9, xy_tol=0.05):\n",
    "\n",
    "**from_bulk_and_miller**(structure, miller_index, min_slab_size=8.0, min_vacuum_size=10.0, max_normal_search=None, center_slab=True, selective_dynamics=False, undercoord_threshold=0.09):  \n",
    "\n",
    "\n",
    "**generate_adsorption_structures**(molecule, repeat=None, min_lw=5.0, reorient=True, find_args={}):\n",
    "    \n",
    "\n",
    "**generate_substitution_structures**(atom, target_species=[], sub_both_sides=False, range_tol=0.01, dist_from_surf=0)\n",
    "\n",
    "**get_extended_surface_mesh**(repeat=(5, 5, 1)):\n",
    "\n",
    "**near_reduce**(coords_set, threshold=0.0001):\n",
    "\n",
    "**subsurface_sites**(): 返回子层位点(subsurface sites)的便捷方法;  \n",
    "**surface_sites**(): 返回表面位点(surface sites)的便捷方法;\n",
    "\n",
    "**symm_reduce**(coords_set, threshold=1e-06):  \n",
    "减少吸附位, 通过移除对称相等的重复项(symmetrically equivalent duplicates);  \n",
    "\n",
    "**get_mi_vec**(slab: 返回slab的沿着密勒指数方向的单位向量;\n",
    "\n",
    "**get_rot**(slab): 获得旋转z轴到弥勒指数方向的转换;\n",
    "\n",
    "**plot_slab**(slab, ax, scale=0.8, repeat=5, window=1.5, draw_unit_cell=True, decay=0.2, adsorption_sites=True):  \n",
    "以二维方式可视化slab与其吸附位点;  \n",
    "`ax(axes)`: 可视化哪个轴;  \n",
    "`scale`: 位点的半径范围;\n",
    "`window`: 用于设置轴限制的窗口, 基本上是单位晶胞的一部分(a fraction of the unit cell limits);  \n",
    "`draw_unit_cell`: 是否画出单位晶胞;  \n",
    "\n",
    "**put_coord_inside**(lattice, cart_coordinate):  \n",
    "转换笛卡尔坐标，使其位于单位晶胞内;\n",
    "\n",
    "**reorient_z**(structure):  \n",
    "重新定向结构使得z轴与A-B平面的法线同行;"
   ]
  },
  {
   "cell_type": "markdown",
   "metadata": {},
   "source": [
    "$$1"
   ]
  },
  {
   "cell_type": "code",
   "execution_count": 24,
   "metadata": {},
   "outputs": [],
   "source": [
    "from pymatgen import Structure, Lattice\n",
    "from pymatgen.core.surface import generate_all_slabs\n",
    "from pymatgen.analysis.adsorption import AdsorbateSiteFinder\n",
    "\n",
    "fcc_ni = Structure.from_spacegroup(\"Fm-3m\", Lattice.cubic(3.5), [\"Ni\"], [[0, 0, 0]])\n",
    "slabs = generate_all_slabs(fcc_ni, max_index=1, min_slab_size=8.0, min_vacuum_size=10.0)\n",
    "ni_111 = [slab for slab in slabs if slab.miller_index==(1,1,1)][0]\n",
    "asf = AdsorbateSiteFinder(ni_111)"
   ]
  },
  {
   "cell_type": "code",
   "execution_count": 30,
   "metadata": {},
   "outputs": [
    {
     "name": "stdout",
     "output_type": "stream",
     "text": [
      "add_adsorbate                   |adsorb_both_surfaces            |\n",
      "assign_selective_dynamics       |assign_site_properties          |\n",
      "ensemble_center                 |find_adsorption_sites           |\n",
      "find_surface_sites_by_height    |from_bulk_and_miller            |\n",
      "generate_adsorption_structures  |generate_substitution_structures|\n",
      "get_extended_surface_mesh       |mvec                            |\n",
      "near_reduce                     |slab                            |\n",
      "subsurface_sites                |surface_sites                   |\n",
      "symm_reduce                     |\n"
     ]
    }
   ],
   "source": [
    "%col 2 br.dir2(asf)"
   ]
  },
  {
   "cell_type": "code",
   "execution_count": null,
   "metadata": {},
   "outputs": [],
   "source": []
  },
  {
   "cell_type": "markdown",
   "metadata": {},
   "source": [
    "**add_adsorbate**(molecule, ads_coord, repeat=None, reorient=True):  \n",
    "在特定坐标系中, 按照吸附质的坐标, 添加吸附质(分子对象);  \n",
    "`ads_coord`(array): 吸附质坐标;  \n",
    "`repeat`(3-tuple or list): 在放置吸附质之前(prior to)将slab变为超胞;  \n",
    "`reorient`: 分子重定向, 与z-轴并行;\n",
    "\n",
    "**adsorb_both_surfaces**(molecule, repeat=None, min_lw=5.0, reorient=True, find_args={}):    \n",
    "将给定分子吸附在slab的所有表面: 计算表面能或者计算非极性体系(non-polar systems)的时候, slab的两面都应该放置吸附质;   \n",
    "`min_lw`(float): repeat=None时, 可以设置slab的最小长度和宽度;  \n",
    "`find_args(dict)`: 参数字典, 传递给self.find_adsorption_sites;\n",
    "\n",
    "**find_adsorption_sites**(distance=2.0, put_inside=True, symm_reduce=0.01, near_reduce=0.01, positions=[u'ontop', u'bridge', u'hollow'], no_obtuse_hollow=True):    \n",
    "寻找吸附位点, 返回吸附位点的笛卡尔坐标;  \n",
    "`distance`: 在弥勒指数方向上, 位点距离原子体系坐标的距离;  \n",
    "`put_inside`: 是否把位点放置在slab的内层;  \n",
    "`symm_reduce`: symm reduction threshold;  \n",
    "`near_reduce`: near reduction threshold;  \n",
    "`positions`: 吸附位说明;  \n",
    "`no_obtuse_hollow`: 在空位中是否包含钝化三角形体系(obtuse triangular ensembles);\n",
    "\n",
    "**find_surface_sites_by_height**(slab, height=0.9, xy_tol=0.05):\n",
    "\n",
    "**from_bulk_and_miller**(structure, miller_index, min_slab_size=8.0, min_vacuum_size=10.0, max_normal_search=None, center_slab=True, selective_dynamics=False, undercoord_threshold=0.09):  \n",
    "\n",
    "\n",
    "**generate_adsorption_structures**(molecule, repeat=None, min_lw=5.0, reorient=True, find_args={}):  \n",
    "将吸附质和slab组合成吸附结构;\n",
    "\n",
    "**generate_substitution_structures**(atom, target_species=[], sub_both_sides=False, range_tol=0.01, dist_from_surf=0)\n",
    "\n",
    "**get_extended_surface_mesh**(repeat=(5, 5, 1)):\n",
    "\n",
    "**near_reduce**(coords_set, threshold=0.0001):\n",
    "\n",
    "**subsurface_sites**(): 返回子层位点(subsurface sites)的便捷方法;  \n",
    "**surface_sites**(): 返回表面位点(surface sites)的便捷方法;\n",
    "\n",
    "**symm_reduce**(coords_set, threshold=1e-06):  \n",
    "减少吸附位, 通过移除对称相等的重复项(symmetrically equivalent duplicates);  \n",
    "\n",
    "**get_mi_vec**(slab: 返回slab的沿着密勒指数方向的单位向量;\n",
    "\n",
    "**get_rot**(slab): 将z轴旋转到弥勒指数方向;\n",
    "\n",
    "**plot_slab**(slab, ax, scale=0.8, repeat=5, window=1.5, draw_unit_cell=True, decay=0.2, adsorption_sites=True):  \n",
    "以二维方式可视化slab与其吸附位点;  \n",
    "`ax(axes)`: 可视化哪个轴;  \n",
    "`scale`: 位点原子的半径范围;  \n",
    "`window`: 用于设置视图窗口的大小, 大小基本上是单位晶胞的倍数);  \n",
    "`draw_unit_cell`: 是否画出单位晶胞;  \n",
    "\n",
    "**put_coord_inside**(lattice, cart_coordinate):  \n",
    "转换笛卡尔坐标，使其位于单位晶胞内;\n",
    "\n",
    "**reorient_z**(structure):  \n",
    "重新定向结构使得z轴与A-B平面的法线同行;"
   ]
  },
  {
   "cell_type": "markdown",
   "metadata": {},
   "source": [
    "**reorient_z**(structure):  \n",
    "重新定向结构使得z轴与A-B平面的法线同行;"
   ]
  },
  {
   "cell_type": "markdown",
   "metadata": {},
   "source": []
  },
  {
   "cell_type": "markdown",
   "metadata": {},
   "source": [
    "# pymatgen.apps package"
   ]
  },
  {
   "cell_type": "markdown",
   "metadata": {},
   "source": [
    "## pymatgen.apps.battery package"
   ]
  },
  {
   "cell_type": "markdown",
   "metadata": {},
   "source": [
    "pymatgen.apps.battery.analyzer module  \n",
    "pymatgen.apps.battery.battery_abc module  \n",
    "pymatgen.apps.battery.conversion_battery module  \n",
    "pymatgen.apps.battery.insertion_battery module  \n",
    "pymatgen.apps.battery.plotter module"
   ]
  },
  {
   "cell_type": "markdown",
   "metadata": {},
   "source": [
    "## pymatgen.apps.borg package"
   ]
  },
  {
   "cell_type": "markdown",
   "metadata": {},
   "source": [
    "pymatgen.apps.borg.hive module  \n",
    "pymatgen.apps.borg.queen module"
   ]
  },
  {
   "cell_type": "markdown",
   "metadata": {},
   "source": [
    "# pymatgen.cli package"
   ]
  },
  {
   "cell_type": "markdown",
   "metadata": {},
   "source": [
    "pymatgen.cli.feff_input_generation module  \n",
    "pymatgen.cli.feff_plot_cross_section module  \n",
    "pymatgen.cli.feff_plot_dos module  \n",
    "pymatgen.cli.gaussian_analyzer module  \n",
    "pymatgen.cli.get_environment module  \n",
    "pymatgen.cli.pmg module  \n",
    "pymatgen.cli.pmg_analyze module  \n",
    "pymatgen.cli.pmg_config module  \n",
    "pymatgen.cli.pmg_plot module  \n",
    "pymatgen.cli.pmg_potcar module  \n",
    "pymatgen.cli.pmg_query module  \n",
    "pymatgen.cli.pmg_structure module"
   ]
  },
  {
   "cell_type": "code",
   "execution_count": null,
   "metadata": {},
   "outputs": [],
   "source": []
  },
  {
   "cell_type": "markdown",
   "metadata": {},
   "source": [
    "# pymatgen.command_line package"
   ]
  },
  {
   "cell_type": "markdown",
   "metadata": {},
   "source": [
    "pymatgen.command_line.aconvasp_caller module   \n",
    "pymatgen.command_line.bader_caller module   \n",
    "pymatgen.command_line.critic2_caller module   \n",
    "pymatgen.command_line.enumlib_caller module   \n",
    "pymatgen.command_line.gulp_caller module   \n"
   ]
  },
  {
   "cell_type": "markdown",
   "metadata": {},
   "source": [
    "# pymatgen.core package"
   ]
  },
  {
   "cell_type": "markdown",
   "metadata": {},
   "source": [
    "核心模块包含构建晶体模型时的基础概念, ex.晶格, 分子, 位点, 元素周期表等;"
   ]
  },
  {
   "cell_type": "markdown",
   "metadata": {},
   "source": [
    "pymatgen.core.bonds module    \n",
    "pymatgen.core.composition module    \n",
    "pymatgen.core.ion module    \n",
    "pymatgen.core.lattice module    \n",
    "pymatgen.core.libxcfunc module    \n",
    "pymatgen.core.molecular_orbitals module    \n",
    "pymatgen.core.operations module    \n",
    "pymatgen.core.periodic_table module    \n",
    "pymatgen.core.sites module    \n",
    "pymatgen.core.spectrum module    \n",
    "pymatgen.core.structure module    \n",
    "pymatgen.core.surface module    \n",
    "pymatgen.core.tensors module    \n",
    "pymatgen.core.units module    \n",
    "pymatgen.core.xcfunc module    \n"
   ]
  },
  {
   "cell_type": "markdown",
   "metadata": {},
   "source": [
    "Structure位于哪个模块, 为什么导入方式有多种?  \n",
    "`from pymatgen import Structure`;    \n",
    "`from pymatgen.core import Structure`;  \n",
    "`from pymatgen.core.structure import Structure`;   \n",
    "因为`__init__.py`: `from pymatgen.core import *`;  \n"
   ]
  },
  {
   "cell_type": "markdown",
   "metadata": {},
   "source": [
    "## pymatgen.core.periodic_table module"
   ]
  },
  {
   "cell_type": "code",
   "execution_count": 92,
   "metadata": {},
   "outputs": [],
   "source": [
    "from pymatgen.core.periodic_table import Element"
   ]
  },
  {
   "cell_type": "markdown",
   "metadata": {},
   "source": [
    "Element(symbol):    \n",
    "**根据元素符号构建元素对象**;    "
   ]
  },
  {
   "cell_type": "markdown",
   "metadata": {},
   "source": [
    "元素对象具有的属性:\n",
    "\n",
    "|属性|说明|\n",
    "|:---|:---|\n",
    "|oxidation_states| 可能的氧化态;    |\n",
    "|full_electronic_structure| 完整的电子结构;   |\n",
    "|block| s,p,d,f的哪一个?    |\n",
    "|is_transition_metal| 是否是过渡金属;  |\n",
    "|long_name| 元素的长名字;|\n",
    "|atomic_mass| 原子质量;   |\n",
    "|electrical_resistivity| 电阻率;   |\n",
    "|electronic_structure| Fe:[Ar].3d<sup>6</sup>.4s<sup>2</sup>;|"
   ]
  },
  {
   "cell_type": "code",
   "execution_count": 88,
   "metadata": {},
   "outputs": [
    {
     "data": {
      "text/plain": [
       "'[Ar].3d<sup>6</sup>.4s<sup>2</sup>'"
      ]
     },
     "execution_count": 88,
     "metadata": {},
     "output_type": "execute_result"
    }
   ],
   "source": [
    "fe = Element('Fe')\n",
    "fe.electronic_structure"
   ]
  },
  {
   "cell_type": "markdown",
   "metadata": {},
   "source": [
    "元素对象具有的属性"
   ]
  },
  {
   "cell_type": "code",
   "execution_count": null,
   "metadata": {},
   "outputs": [],
   "source": []
  },
  {
   "cell_type": "markdown",
   "metadata": {},
   "source": [
    "oxidation_states: 可能的氧化态;    \n",
    "full_electronic_structure: 完整的电子结构;   \n",
    "block: s,p,d,f的哪一个?    \n",
    "is_transition_metal: 是否是过渡金属;  \n",
    "long_name: 元素的长名字;\n",
    "atomic_mass: 原子质量;   \n",
    "electrical_resistivity: 电阻率;   \n",
    "electronic_structure: 网页版电子结构,如 Fe: [Ar].3d<sup>6</sup>.4s<sup>2</sup>;"
   ]
  },
  {
   "cell_type": "markdown",
   "metadata": {},
   "source": [
    "# pymatgen.electronic_structure package"
   ]
  },
  {
   "cell_type": "code",
   "execution_count": 86,
   "metadata": {},
   "outputs": [
    {
     "data": {
      "text/plain": [
       "'[Ar].3d<sup>6</sup>.4s<sup>2</sup>'"
      ]
     },
     "execution_count": 86,
     "metadata": {},
     "output_type": "execute_result"
    }
   ],
   "source": [
    "fe.electronic_structure"
   ]
  },
  {
   "cell_type": "code",
   "execution_count": 91,
   "metadata": {},
   "outputs": [
    {
     "name": "stdout",
     "output_type": "stream",
     "text": [
      "X         |as_dict   |block     |data      |from_Z    |from_dict |\n",
      "group     |is_alkali |is_halogen|name      |number    |row       |\n",
      "valence   |value     |\n"
     ]
    }
   ],
   "source": [
    "%col br.dir2(fe,width=10)"
   ]
  },
  {
   "cell_type": "markdown",
   "metadata": {},
   "source": [
    "pymatgen.electronic_structure.bandstructure module    \n",
    "pymatgen.electronic_structure.boltztrap module    \n",
    "pymatgen.electronic_structure.boltztrap2 module    \n",
    "pymatgen.electronic_structure.cohp module    \n",
    "pymatgen.electronic_structure.core module    \n",
    "pymatgen.electronic_structure.dos module    \n",
    "pymatgen.electronic_structure.plotter module    \n"
   ]
  },
  {
   "cell_type": "code",
   "execution_count": 83,
   "metadata": {},
   "outputs": [
    {
     "data": {
      "text/plain": [
       "[(1, 's', 2),\n",
       " (2, 's', 2),\n",
       " (2, 'p', 6),\n",
       " (3, 's', 2),\n",
       " (3, 'p', 6),\n",
       " (3, 'd', 6),\n",
       " (4, 's', 2)]"
      ]
     },
     "execution_count": 83,
     "metadata": {},
     "output_type": "execute_result"
    }
   ],
   "source": [
    "fe.full_electronic_structure"
   ]
  },
  {
   "cell_type": "markdown",
   "metadata": {},
   "source": [
    "[Ar].3d<sup>6</sup>.4s<sup>2</sup>"
   ]
  },
  {
   "cell_type": "markdown",
   "metadata": {},
   "source": [
    "# pymatgen.entries package"
   ]
  },
  {
   "cell_type": "markdown",
   "metadata": {},
   "source": [
    "{entries}包不含二级包, 只有5个二级模块:        \n",
    "pymatgen.entries.compatibility module    \n",
    "pymatgen.entries.computed_entries module    \n",
    "pymatgen.entries.entry_tools module    \n",
    "pymatgen.entries.exp_entries module    \n",
    "pymatgen.entries.post_processors_abc module    "
   ]
  },
  {
   "cell_type": "markdown",
   "metadata": {},
   "source": [
    "## pymatgen.entries.computed_entries module"
   ]
  },
  {
   "cell_type": "code",
   "execution_count": 64,
   "metadata": {},
   "outputs": [],
   "source": [
    "from pymatgen.entries.computed_entries import ComputedEntry, ComputedStructureEntry"
   ]
  },
  {
   "cell_type": "markdown",
   "metadata": {},
   "source": [
    "**ComputedEntry**(composition, energy, correction=0.0, parameters=None, data=None, entry_id=None, attribute=None):   \n",
    "创建计算条目对象;  \n",
    "* composition(Composition):   \n",
    "* energy: 条目的能量, vasp计算的最终能量;  \n",
    "* correction: 修正能;  \n",
    "* parameters(dict): 与条目相关的参数数据;   \n",
    "* data: 与条目相关的额外数据;  \n",
    "* attribute: 条目的可选属性, 用于额外分析或者画图;"
   ]
  },
  {
   "cell_type": "code",
   "execution_count": 65,
   "metadata": {},
   "outputs": [
    {
     "data": {
      "text/plain": [
       "True"
      ]
     },
     "execution_count": 65,
     "metadata": {},
     "output_type": "execute_result"
    }
   ],
   "source": [
    "br.dir2(ComputedEntry) == br.dir2(ComputedStructureEntry)"
   ]
  },
  {
   "cell_type": "markdown",
   "metadata": {},
   "source": [
    "# pymatgen.ext package"
   ]
  },
  {
   "cell_type": "markdown",
   "metadata": {},
   "source": [
    "包含3个二级模块(不含二级包):     \n",
    "pymatgen.ext.cod module  \n",
    "pymatgen.ext.jhu module  \n",
    "pymatgen.ext.matproj module  "
   ]
  },
  {
   "cell_type": "markdown",
   "metadata": {},
   "source": [
    "## pymatgen.ext.matproj module  "
   ]
  },
  {
   "cell_type": "code",
   "execution_count": 54,
   "metadata": {},
   "outputs": [],
   "source": [
    "from pymatgen.ext.matproj import MPRester"
   ]
  },
  {
   "cell_type": "markdown",
   "metadata": {},
   "source": [
    "**MPRester**(api_key=None, endpoint=u'https://www.materialsproject.org/rest/v2')  \n",
    "**创建MP连接对象**; \n",
    "* api_key: MP-API;  \n",
    "* endpoint: MP数据库的网络接口;\n",
    "\n",
    "**get_bandstructure_by_material_id**(material_id):   \n",
    "通过mp-id获取能带结构;\n",
    "\n",
    "**get_cohesive_energy**(material_id, per_atom=False):   \n",
    "通过mp-id获取内聚能;  \n",
    "内聚能: $\\large E_{bulk} - \\Sigma E_{atom}$;\n",
    "\n",
    "**get_data**(chemsys_formula_id, data_type=u'vasp', prop=u''):   \n",
    "根据化学体系(Li-Fe-O), 化学式(Fe2O3)或者mp-id获取数据;  \n",
    "prop表示需要获取的性质, 空串表示获取常规数据;\n",
    "\n",
    "**get_entries**(chemsys_formula_id_criteria, compatible_only=True, inc_structure=None, property_data=None, conventional_unit_cell=False, sort_by_e_above_hull=False):  \n",
    "compatible_only: 是否只获取兼容条目(对于混合GGA和GGA+U);  \n",
    "conventional_unit_cell=False: 是否获得标准的传统晶胞;  \n",
    "\n",
    "**get_entries_in_chemsys**(elements, compatible_only=True, inc_structure=None, property_data=None, conventional_unit_cell=False):  \n",
    "elements: [“Li”, “Fe”, “O”]\n",
    "\n",
    "**get_exp_entry**(formula): 根据化学式获取实验数据条目;\n",
    "\n",
    "**get_interface_reactions**(reactant1, reactant2, open_el=None, relative_mu=None, use_hull_energy=False):  \n",
    "获取两个反应物之间的临界反应;  \n",
    "open_el: 开放体系可获取的元素;  \n",
    "\n",
    "\n",
    "**get_materials_ids**(chemsys_formula):   \n",
    "根据化学体系或者化学式获取mp-id;\n",
    "\n",
    "**get_reaction**(reactants, products):  \n",
    "根据反应物和生成物获取反应;\n",
    "\n",
    "**get_structure_by_material_id**(material_id, final=True, conventional_unit_cell=False):  \n",
    "final: 获取未优化结构还是已优化结构;\n",
    "\n",
    "**get_structures**(chemsys_formula_id, final=True):  \n",
    "获取结构;\n",
    "\n",
    "**get_substrates**(material_id, number=50, orient=None):  \n",
    "根据mp-id获取一系列基底;  \n",
    "number=0时获取所有基底;\n",
    "\n",
    "**get_surface_data**(material_id, inc_structures=False):  \n",
    "获取表面数据;\n",
    "\n",
    "**get_wulff_shape**(material_id):  \n",
    "获取wulff形状;"
   ]
  },
  {
   "cell_type": "markdown",
   "metadata": {},
   "source": [
    "# pymatgen.io package"
   ]
  },
  {
   "cell_type": "markdown",
   "metadata": {},
   "source": [
    "## pymatgen.io.abinit package"
   ]
  },
  {
   "cell_type": "markdown",
   "metadata": {},
   "source": [
    "pymatgen.io.abinit.abiinspect module    \n",
    "pymatgen.io.abinit.abiobjects module    \n",
    "pymatgen.io.abinit.abitimer module    \n",
    "pymatgen.io.abinit.calculations module    \n",
    "pymatgen.io.abinit.db module    \n",
    "pymatgen.io.abinit.events module    \n",
    "pymatgen.io.abinit.flows module    \n",
    "pymatgen.io.abinit.helpers module    \n",
    "pymatgen.io.abinit.launcher module    \n",
    "pymatgen.io.abinit.netcdf module    \n",
    "pymatgen.io.abinit.nodes module    \n",
    "pymatgen.io.abinit.pseudos module    \n",
    "pymatgen.io.abinit.qadapters module    \n",
    "pymatgen.io.abinit.qjobs module    \n",
    "pymatgen.io.abinit.qutils module    \n",
    "pymatgen.io.abinit.scheduler_error_handlers module    \n",
    "pymatgen.io.abinit.scheduler_error_parsers module    \n",
    "pymatgen.io.abinit.tasks module    \n",
    "pymatgen.io.abinit.utils module    \n",
    "pymatgen.io.abinit.works module    \n",
    "pymatgen.io.abinit.wrappers module    \n"
   ]
  },
  {
   "cell_type": "markdown",
   "metadata": {},
   "source": [
    "## pymatgen.io.exciting package"
   ]
  },
  {
   "cell_type": "markdown",
   "metadata": {},
   "source": [
    "pymatgen.io.exciting.inputs module"
   ]
  },
  {
   "cell_type": "markdown",
   "metadata": {},
   "source": [
    "$$1"
   ]
  },
  {
   "cell_type": "markdown",
   "metadata": {},
   "source": [
    "## pymatgen.io.feff package"
   ]
  },
  {
   "cell_type": "markdown",
   "metadata": {},
   "source": [
    "pymatgen.io.feff.inputs module\n",
    "pymatgen.io.feff.outputs module\n",
    "pymatgen.io.feff.sets module"
   ]
  },
  {
   "cell_type": "markdown",
   "metadata": {},
   "source": [
    "## pymatgen.io.lammps package    "
   ]
  },
  {
   "cell_type": "code",
   "execution_count": null,
   "metadata": {},
   "outputs": [],
   "source": []
  },
  {
   "cell_type": "markdown",
   "metadata": {},
   "source": [
    "pymatgen.io.lammps.data module    \n",
    "pymatgen.io.lammps.inputs module    \n",
    "pymatgen.io.lammps.outputs module    \n",
    "pymatgen.io.lammps.utils module    "
   ]
  },
  {
   "cell_type": "markdown",
   "metadata": {},
   "source": [
    "## pymatgen.io.qchem package"
   ]
  },
  {
   "cell_type": "markdown",
   "metadata": {},
   "source": [
    "pymatgen.io.qchem.inputs module  \n",
    "pymatgen.io.qchem.outputs module  \n",
    "pymatgen.io.qchem.sets module  \n",
    "pymatgen.io.qchem.utils module"
   ]
  },
  {
   "cell_type": "markdown",
   "metadata": {},
   "source": [
    "## pymatgen.io.vasp package"
   ]
  },
  {
   "cell_type": "markdown",
   "metadata": {},
   "source": [
    "pymatgen.io.vasp.inputs module  \n",
    "pymatgen.io.vasp.outputs module  \n",
    "pymatgen.io.vasp.sets module  \n"
   ]
  },
  {
   "cell_type": "markdown",
   "metadata": {},
   "source": [
    "## 与二级包并列的模块"
   ]
  },
  {
   "cell_type": "markdown",
   "metadata": {},
   "source": [
    "pymatgen.io.adf module    \n",
    "pymatgen.io.aiida module    \n",
    "pymatgen.io.ase module    \n",
    "pymatgen.io.atat module    \n",
    "pymatgen.io.babel module    \n",
    "pymatgen.io.cif module    \n",
    "pymatgen.io.cssr module    \n",
    "pymatgen.io.fiesta module    \n",
    "pymatgen.io.gaussian module    \n",
    "pymatgen.io.lmto module    \n",
    "pymatgen.io.lobster module    \n",
    "pymatgen.io.nwchem module    \n",
    "pymatgen.io.phonopy module    \n",
    "pymatgen.io.pwscf module    \n",
    "pymatgen.io.qchem_deprecated module    \n",
    "pymatgen.io.xcrysden module    \n",
    "pymatgen.io.xr module    \n",
    "pymatgen.io.xyz module    \n",
    "pymatgen.io.zeopp module    \n"
   ]
  },
  {
   "cell_type": "markdown",
   "metadata": {},
   "source": [
    "# pymatgen.optimization package"
   ]
  },
  {
   "cell_type": "markdown",
   "metadata": {},
   "source": [
    "pymatgen.optimization.linear_assignment module    \n",
    "pymatgen.optimization.linear_assignment_numpy module"
   ]
  },
  {
   "cell_type": "markdown",
   "metadata": {},
   "source": [
    "# pymatgen.phonon package"
   ]
  },
  {
   "cell_type": "markdown",
   "metadata": {},
   "source": [
    "pymatgen.phonon.bandstructure module    \n",
    "pymatgen.phonon.dos module    \n",
    "pymatgen.phonon.plotter module"
   ]
  },
  {
   "cell_type": "markdown",
   "metadata": {},
   "source": [
    "# pymatgen.symmetry package"
   ]
  },
  {
   "cell_type": "markdown",
   "metadata": {},
   "source": [
    "symmetry包是关于对称性的包:  \n",
    "pymatgen.symmetry.analyzer module    \n",
    "pymatgen.symmetry.bandstructure module    \n",
    "pymatgen.symmetry.groups module    \n",
    "pymatgen.symmetry.maggroups module    \n",
    "pymatgen.symmetry.settings module    \n",
    "pymatgen.symmetry.structure module    \n"
   ]
  },
  {
   "cell_type": "markdown",
   "metadata": {},
   "source": [
    "## pymatgen.symmetry.analyzer module "
   ]
  },
  {
   "cell_type": "markdown",
   "metadata": {},
   "source": [
    "**SpacegroupAnalyzer**(structure, symprec=0.01, angle_tolerance=5):  \n",
    "**接收一个结构对象和一个对称精度, 使用`pyspglib`执行各种对称性查找操作**;  \n",
    "`symprec`: 对称精度, 默认0,01, 十分严格, 用于精细结构, 对较松弛的结构可设为0.1(MP);  "
   ]
  },
  {
   "cell_type": "code",
   "execution_count": 31,
   "metadata": {},
   "outputs": [],
   "source": [
    "from pymatgen.symmetry.analyzer import SpacegroupAnalyzer"
   ]
  },
  {
   "cell_type": "code",
   "execution_count": null,
   "metadata": {},
   "outputs": [],
   "source": []
  },
  {
   "cell_type": "code",
   "execution_count": null,
   "metadata": {},
   "outputs": [],
   "source": []
  },
  {
   "cell_type": "markdown",
   "metadata": {},
   "source": [
    "# pymatgen.transformations package"
   ]
  },
  {
   "cell_type": "markdown",
   "metadata": {},
   "source": [
    "pymatgen.transformations.advanced_transformations module    \n",
    "pymatgen.transformations.defect_transformations module    \n",
    "pymatgen.transformations.site_transformations module    \n",
    "pymatgen.transformations.standard_transformations module    \n",
    "pymatgen.transformations.transformation_abc module    \n"
   ]
  },
  {
   "cell_type": "markdown",
   "metadata": {},
   "source": [
    "# pymatgen.util package"
   ]
  },
  {
   "cell_type": "markdown",
   "metadata": {},
   "source": [
    "pymatgen.util.convergence module\n",
    "pymatgen.util.coord module   \n",
    "pymatgen.util.coord_cython module   \n",
    "pymatgen.util.io_utils module   \n",
    "pymatgen.util.num module   \n",
    "pymatgen.util.plotting module   \n",
    "pymatgen.util.provenance module   \n",
    "pymatgen.util.serialization module   \n",
    "pymatgen.util.string module  \n",
    "pymatgen.util.testing module"
   ]
  },
  {
   "cell_type": "markdown",
   "metadata": {},
   "source": [
    "# pymatgen.vis package"
   ]
  },
  {
   "cell_type": "markdown",
   "metadata": {},
   "source": [
    "pymatgen.vis.plotters module\n",
    "pymatgen.vis.structure_chemview module\n",
    "pymatgen.vis.structure_vtk module"
   ]
  },
  {
   "cell_type": "markdown",
   "metadata": {},
   "source": [
    "# 与一级包并列的模块"
   ]
  },
  {
   "cell_type": "markdown",
   "metadata": {},
   "source": [
    "pymatgen.dao module"
   ]
  },
  {
   "cell_type": "markdown",
   "metadata": {},
   "source": [
    "# 一级包里的init文件(\\__init__.py)"
   ]
  },
  {
   "cell_type": "markdown",
   "metadata": {},
   "source": [
    "pg.get_structure_from_mp(formula):  \n",
    "从MP数据库中(API: 需要设置PMG_MAPI_KEY)获取晶体结构的便捷形式;  \n",
    "返回由formula匹配到的具有最低能量的结构;"
   ]
  },
  {
   "cell_type": "markdown",
   "metadata": {},
   "source": [
    "loadfn(fname):  \n",
    "从文件名中获取结构的便捷方式;返回对象的类型取决于文件类型;    \n",
    " fname使用unix-style进行匹配;"
   ]
  }
 ],
 "metadata": {
  "kernelspec": {
   "display_name": "Python 3",
   "language": "python",
   "name": "python3"
  },
  "language_info": {
   "codemirror_mode": {
    "name": "ipython",
    "version": 3
   },
   "file_extension": ".py",
   "mimetype": "text/x-python",
   "name": "python",
   "nbconvert_exporter": "python",
   "pygments_lexer": "ipython3",
   "version": "3.6.5"
  },
  "toc": {
   "base_numbering": 1,
   "nav_menu": {},
   "number_sections": true,
   "sideBar": true,
   "skip_h1_title": false,
   "title_cell": "Table of Contents",
   "title_sidebar": "Contents",
   "toc_cell": false,
   "toc_position": {
    "height": "calc(100% - 180px)",
    "left": "10px",
    "top": "150px",
    "width": "428px"
   },
   "toc_section_display": true,
   "toc_window_display": false
  }
 },
 "nbformat": 4,
 "nbformat_minor": 2
}
