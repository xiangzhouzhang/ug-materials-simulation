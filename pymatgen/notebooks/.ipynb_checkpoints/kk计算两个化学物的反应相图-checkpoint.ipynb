{
 "cells": [
  {
   "cell_type": "markdown",
   "metadata": {},
   "source": [
    "# VaspToComputedEntryDrone"
   ]
  },
  {
   "cell_type": "markdown",
   "metadata": {},
   "source": [
    "* 获取电池阴极与电解质反应的界面信息(VOPO4 with C3H4O3(EC));\n",
    "* 形成能和混合比率(mixing ratio)的关系;"
   ]
  },
  {
   "cell_type": "code",
   "execution_count": 1,
   "metadata": {},
   "outputs": [],
   "source": [
    "from pymatgen import MPRester, Composition\n",
    "from pymatgen.analysis.phase_diagram import PhaseDiagram\n",
    "from pymatgen.entries.computed_entries import ComputedEntry\n",
    "from pymatgen.apps.borg.hive import VaspToComputedEntryDrone\n",
    "from pymatgen.entries.compatibility import MaterialsProjectCompatibility\n",
    "from pymatgen.analysis.phase_diagram import ReactionDiagram, PDPlotter, PDEntry\n",
    "%matplotlib inline"
   ]
  },
  {
   "cell_type": "markdown",
   "metadata": {},
   "source": [
    "通过MPRester获取所有关于`H, P, V, O, C`的条目"
   ]
  },
  {
   "cell_type": "code",
   "execution_count": null,
   "metadata": {},
   "outputs": [],
   "source": [
    "mp = MPRester()\n",
    "compat = MaterialsProjectCompatibility()\n",
    "chemsys = [\"H\", \"P\", \"V\",\"O\", \"C\"]\n",
    "# 通过化学系统获取条目\n",
    "all_entries = mp.get_entries_in_chemsys(chemsys) #len(all_entries)=466"
   ]
  },
  {
   "cell_type": "markdown",
   "metadata": {},
   "source": [
    "去除`CO, CO2, H2O, VPO5`的条目, 使用实验数据和自计算数据;"
   ]
  },
  {
   "cell_type": "code",
   "execution_count": 4,
   "metadata": {},
   "outputs": [],
   "source": [
    "CO_entries = [e for e in all_entries if e.composition.reduced_formula == \"CO\"]\n",
    "CO2_entries = [e for e in all_entries if e.composition.reduced_formula == \"CO2\"]\n",
    "H2O_entries = [e for e in all_entries if e.composition.reduced_formula == \"H2O\"]\n",
    "VPO5_entries = [e for e in all_entries if e.composition.reduced_formula == \"VPO5\"]\n",
    "\n",
    "non_solid = [\"CO\", \"CO2\", \"H2O\", \"VPO5\"]\n",
    "\n",
    "entries = list(filter(lambda e: e.composition.reduced_formula not in non_solid, all_entries))"
   ]
  },
  {
   "cell_type": "markdown",
   "metadata": {},
   "source": [
    "Get POTCAR of C, H, O for EC to construct its ComputedEntry"
   ]
  },
  {
   "cell_type": "code",
   "execution_count": 5,
   "metadata": {},
   "outputs": [],
   "source": [
    "potcars = set()\n",
    "for e in all_entries:\n",
    "    if len(e.composition) == 1 and e.composition.reduced_formula in [\"C\", \"H2\", \"O2\"]:\n",
    "        potcars.update(e.parameters[\"potcar_symbols\"]) "
   ]
  },
  {
   "cell_type": "markdown",
   "metadata": {},
   "source": [
    "EC solid phase:\n",
    "Enthalpy of formation of solid at standard conditions = -590.9 (kJ/mol)\n",
    "\n",
    "(http://webbook.nist.gov/cgi/cbook.cgi?ID=C96491&Units=SI&Mask=2#Thermo-Condensed)\n",
    "\n",
    "EC liquid phase:\n",
    "Enthalpy of formation of solid at standard conditions = -682.8 (kJ/mol)\n",
    "\n",
    "(http://webbook.nist.gov/cgi/cbook.cgi?ID=C96491&Units=SI&Mask=2#Thermo-Condensed)\n",
    " \n",
    "Get total energy by experimental formation energy, elemental energies and correction to construct EC ComputedEntry.\n",
    "Apply corection for gas such as O2 etc. Ref: https://journals.aps.org/prb/pdf/10.1103/PhysRevB.73.195107"
   ]
  },
  {
   "cell_type": "code",
   "execution_count": 6,
   "metadata": {},
   "outputs": [],
   "source": [
    "factor = 1000.0 / 6.0221409e23 / 1.60217662e-19\n",
    "ec_form_energy = -682.8 * factor\n",
    "\n",
    "ec = ComputedEntry(composition=\"C3H4O3\", energy=0, parameters={\"potcar_symbols\": list(potcars)})\n",
    "ec.data[\"oxide_type\"] = \"oxide\""
   ]
  },
  {
   "cell_type": "code",
   "execution_count": 7,
   "metadata": {},
   "outputs": [],
   "source": [
    "# MaterialsProjectCompatibility\n",
    "ec = compat.process_entry(ec)"
   ]
  },
  {
   "cell_type": "code",
   "execution_count": 8,
   "metadata": {},
   "outputs": [],
   "source": [
    "pd = PhaseDiagram(all_entries)\n",
    "ec.uncorrected_energy = ec_form_energy + sum([pd.el_refs[el].energy_per_atom * amt \n",
    "                                              for el, amt in ec.composition.items()]) - ec.correction"
   ]
  },
  {
   "cell_type": "markdown",
   "metadata": {},
   "source": [
    "Use my own calculation entries"
   ]
  },
  {
   "cell_type": "code",
   "execution_count": 9,
   "metadata": {},
   "outputs": [
    {
     "ename": "FileNotFoundError",
     "evalue": "[WinError 3] 系统找不到指定的路径。: 'VOPO4/'",
     "output_type": "error",
     "traceback": [
      "\u001b[1;31m-------\u001b[0m",
      "\u001b[1;31mFileNotFoundError\u001b[0mTraceback (most recent call last)",
      "\u001b[1;32m<ipython-input-9-3b5a26fe7ff9>\u001b[0m in \u001b[0;36m<module>\u001b[1;34m()\u001b[0m\n\u001b[0;32m      2\u001b[0m \u001b[0mvc\u001b[0m \u001b[1;33m=\u001b[0m \u001b[0mVaspToComputedEntryDrone\u001b[0m\u001b[1;33m(\u001b[0m\u001b[1;33m)\u001b[0m\u001b[1;33m\u001b[0m\u001b[0m\n\u001b[0;32m      3\u001b[0m \u001b[1;32mfor\u001b[0m \u001b[0md\u001b[0m \u001b[1;32min\u001b[0m \u001b[1;33m[\u001b[0m\u001b[1;34m\"VOPO4/\"\u001b[0m\u001b[1;33m]\u001b[0m\u001b[1;33m:\u001b[0m\u001b[1;33m\u001b[0m\u001b[0m\n\u001b[1;32m----> 4\u001b[1;33m     \u001b[0me\u001b[0m \u001b[1;33m=\u001b[0m \u001b[0mvc\u001b[0m\u001b[1;33m.\u001b[0m\u001b[0massimilate\u001b[0m\u001b[1;33m(\u001b[0m\u001b[0md\u001b[0m\u001b[1;33m)\u001b[0m\u001b[1;33m\u001b[0m\u001b[0m\n\u001b[0m\u001b[0;32m      5\u001b[0m     \u001b[0me\u001b[0m\u001b[1;33m.\u001b[0m\u001b[0mdata\u001b[0m\u001b[1;33m[\u001b[0m\u001b[1;34m\"oxide_type\"\u001b[0m\u001b[1;33m]\u001b[0m \u001b[1;33m=\u001b[0m \u001b[1;34m\"oxide\"\u001b[0m\u001b[1;33m\u001b[0m\u001b[0m\n\u001b[0;32m      6\u001b[0m     \u001b[0me\u001b[0m \u001b[1;33m=\u001b[0m \u001b[0mcompat\u001b[0m\u001b[1;33m.\u001b[0m\u001b[0mprocess_entry\u001b[0m\u001b[1;33m(\u001b[0m\u001b[0me\u001b[0m\u001b[1;33m)\u001b[0m\u001b[1;33m\u001b[0m\u001b[0m\n",
      "\u001b[1;32m~\\Anaconda3\\lib\\site-packages\\pymatgen\\apps\\borg\\hive.py\u001b[0m in \u001b[0;36massimilate\u001b[1;34m(self, path)\u001b[0m\n\u001b[0;32m    122\u001b[0m \u001b[1;33m\u001b[0m\u001b[0m\n\u001b[0;32m    123\u001b[0m     \u001b[1;32mdef\u001b[0m \u001b[0massimilate\u001b[0m\u001b[1;33m(\u001b[0m\u001b[0mself\u001b[0m\u001b[1;33m,\u001b[0m \u001b[0mpath\u001b[0m\u001b[1;33m)\u001b[0m\u001b[1;33m:\u001b[0m\u001b[1;33m\u001b[0m\u001b[0m\n\u001b[1;32m--> 124\u001b[1;33m         \u001b[0mfiles\u001b[0m \u001b[1;33m=\u001b[0m \u001b[0mos\u001b[0m\u001b[1;33m.\u001b[0m\u001b[0mlistdir\u001b[0m\u001b[1;33m(\u001b[0m\u001b[0mpath\u001b[0m\u001b[1;33m)\u001b[0m\u001b[1;33m\u001b[0m\u001b[0m\n\u001b[0m\u001b[0;32m    125\u001b[0m         \u001b[1;32mif\u001b[0m \u001b[1;34m\"relax1\"\u001b[0m \u001b[1;32min\u001b[0m \u001b[0mfiles\u001b[0m \u001b[1;32mand\u001b[0m \u001b[1;34m\"relax2\"\u001b[0m \u001b[1;32min\u001b[0m \u001b[0mfiles\u001b[0m\u001b[1;33m:\u001b[0m\u001b[1;33m\u001b[0m\u001b[0m\n\u001b[0;32m    126\u001b[0m             filepath = glob.glob(os.path.join(path, \"relax2\",\n",
      "\u001b[1;31mFileNotFoundError\u001b[0m: [WinError 3] 系统找不到指定的路径。: 'VOPO4/'"
     ]
    }
   ],
   "source": [
    "vopo4 = []\n",
    "vc = VaspToComputedEntryDrone()\n",
    "for d in [\"VOPO4/\"]:\n",
    "    e = vc.assimilate(d)\n",
    "    e.data[\"oxide_type\"] = \"oxide\"\n",
    "    e = compat.process_entry(e)\n",
    "    vopo4.append(e)\n",
    "\n",
    "hxvopo4 = []\n",
    "for d in [\"HVOPO4/\", \"H2VOPO4/\"]:\n",
    "    e = vc.assimilate(d)\n",
    "    e.data[\"oxide_type\"] = \"oxide\"\n",
    "    e = compat.process_entry(e)\n",
    "    hxvopo4.append(e) "
   ]
  },
  {
   "cell_type": "markdown",
   "metadata": {},
   "source": [
    "CO solid phase:\n",
    "Enthalpy of formation of solid at standard conditions = -1.15 (eV/f.u.) = -110.5 (kJ/mol)\n",
    "\n",
    "https://en.wikipedia.org/wiki/Carbon_monoxide_%28data_page%29\n",
    "\n",
    "CO gas phase:\n",
    "Enthalpy of formation of gas at standard conditions = -1.15 (eV/f.u.) = -110.53 (kJ/mol)\n",
    "\n",
    "https://en.wikipedia.org/wiki/Carbon_monoxide_%28data_page%29"
   ]
  },
  {
   "cell_type": "code",
   "execution_count": 7,
   "metadata": {
    "collapsed": true
   },
   "outputs": [],
   "source": [
    "potcars = set()\n",
    "for e in all_entries:\n",
    "    if len(e.composition) == 1 and e.composition.reduced_formula in [\"C\", \"O2\"]:\n",
    "        potcars.update(e.parameters[\"potcar_symbols\"])\n",
    "\n",
    "co_form_energy = -110.53 * factor\n",
    "\n",
    "co = ComputedEntry(composition=\"CO\", energy=0, parameters={\"potcar_symbols\": list(potcars)})\n",
    "co.data[\"oxide_type\"] = \"oxide\"\n",
    "co = compat.process_entry(co)\n",
    "\n",
    "pd = PhaseDiagram(all_entries)\n",
    "co.uncorrected_energy = co_form_energy + sum([pd.el_refs[el].energy_per_atom * amt \\\n",
    "                                              for el, amt in co.composition.items()]) - co.correction"
   ]
  },
  {
   "cell_type": "markdown",
   "metadata": {},
   "source": [
    "CO2 gas phase:\n",
    "Enthalpy of formation of gas at standard conditions = -4.43 (eV/f.u.) = −393.52 (kJ/mol)\n",
    "\n",
    "https://en.wikipedia.org/wiki/Carbon_dioxide_%28data_page%29"
   ]
  },
  {
   "cell_type": "code",
   "execution_count": 8,
   "metadata": {
    "collapsed": true
   },
   "outputs": [],
   "source": [
    "potcars = set()\n",
    "for e in all_entries:\n",
    "    if len(e.composition) == 1 and e.composition.reduced_formula in [\"C\", \"O2\"]:\n",
    "        potcars.update(e.parameters[\"potcar_symbols\"])\n",
    "\n",
    "co2_form_energy = -393.52 * factor\n",
    "\n",
    "co2 = ComputedEntry(composition=\"CO2\", energy=0, parameters={\"potcar_symbols\": list(potcars)})\n",
    "co2.data[\"oxide_type\"] = \"oxide\"\n",
    "co2 = compat.process_entry(co2)\n",
    "\n",
    "pd = PhaseDiagram(all_entries)\n",
    "co2.uncorrected_energy = co2_form_energy + sum([pd.el_refs[el].energy_per_atom * amt \n",
    "                                                for el, amt in co2.composition.items()]) - co2.correction"
   ]
  },
  {
   "cell_type": "markdown",
   "metadata": {},
   "source": [
    "H2O liquid phase:\n",
    "Enthalpy of formation of liquid at standard conditions = -286.629 (kJ/mol)\n",
    "\n",
    "http://www1.lsbu.ac.uk/water/water_properties.html"
   ]
  },
  {
   "cell_type": "code",
   "execution_count": 9,
   "metadata": {
    "collapsed": true
   },
   "outputs": [],
   "source": [
    "potcars = set()\n",
    "for e in all_entries:\n",
    "    if len(e.composition) == 1 and e.composition.reduced_formula in [\"H2\", \"O2\"]:\n",
    "        potcars.update(e.parameters[\"potcar_symbols\"])\n",
    "\n",
    "h2o_form_energy = -286.629 * factor\n",
    "\n",
    "h2o = ComputedEntry(composition=\"H2O\", energy=0, parameters={\"potcar_symbols\": list(potcars)})\n",
    "h2o.data[\"oxide_type\"] = \"oxide\"\n",
    "h2o = compat.process_entry(h2o)\n",
    "\n",
    "pd = PhaseDiagram(all_entries)\n",
    "h2o.uncorrected_energy = h2o_form_energy + sum([pd.el_refs[el].energy_per_atom * amt for el, amt in h2o.composition.items()]) - h2o.correction"
   ]
  },
  {
   "cell_type": "code",
   "execution_count": 10,
   "metadata": {
    "collapsed": true
   },
   "outputs": [],
   "source": [
    "entry1 = vopo4[0]\n",
    "entry2 = ec\n",
    "useful_entries = entries + hxvopo4 + [h2o, co2, co]"
   ]
  },
  {
   "cell_type": "code",
   "execution_count": 11,
   "metadata": {
    "collapsed": true
   },
   "outputs": [],
   "source": [
    "from scipy import stats\n",
    "import numpy as np\n",
    "\n",
    "%matplotlib inline\n",
    "import matplotlib as mpl\n",
    "\n",
    "mpl.rcParams['axes.linewidth']=3\n",
    "mpl.rcParams['lines.markeredgewidth']=2\n",
    "mpl.rcParams['lines.linewidth']=3\n",
    "mpl.rcParams['lines.markersize']=13\n",
    "mpl.rcParams['xtick.major.width']=3\n",
    "mpl.rcParams['xtick.major.size']=8\n",
    "mpl.rcParams['xtick.minor.width']=3\n",
    "mpl.rcParams['xtick.minor.size']=4\n",
    "mpl.rcParams['ytick.major.width']=3\n",
    "mpl.rcParams['ytick.major.size']=8\n",
    "mpl.rcParams['ytick.minor.width']=3\n",
    "mpl.rcParams['ytick.minor.size']=4"
   ]
  },
  {
   "cell_type": "code",
   "execution_count": 12,
   "metadata": {},
   "outputs": [
    {
     "name": "stdout",
     "output_type": "stream",
     "text": [
      "Singular matrix\n",
      "Singular matrix\n",
      "Singular matrix\n",
      "Singular matrix\n",
      "Singular matrix\n",
      "Singular matrix\n",
      "Singular matrix\n",
      "Singular matrix\n",
      "Singular matrix\n",
      "Singular matrix\n",
      "Singular matrix\n",
      "Singular matrix\n",
      "Singular matrix\n",
      "Singular matrix\n",
      "Singular matrix\n",
      "Singular matrix\n",
      "Singular matrix\n",
      "Singular matrix\n",
      "Singular matrix\n",
      "Singular matrix\n",
      "Singular matrix\n",
      "Singular matrix\n",
      "1 - 0.9200 VPO5 + 0.0800 H4(CO)3 -> 0.0600 V3O7 + 0.3200 VPHO5 + 0.3000 VP2O7 + 0.1200 V(CO3)2\n",
      "2 - 0.9091 VPO5 + 0.0909 H4(CO)3 -> 0.3636 VPHO5 + 0.1364 VO2 + 0.2727 VP2O7 + 0.1364 V(CO3)2\n",
      "3 - 0.8947 VPO5 + 0.1053 H4(CO)3 -> 0.4211 VPHO5 + 0.1579 VP2O7 + 0.1579 V(CO3)2 + 0.1579 VPO4\n",
      "4 - 0.8462 VPO5 + 0.1538 H4(CO)3 -> 0.0769 VP2O7 + 0.0769 V(CO3)2 + 0.3077 H2CO3 + 0.6923 VPO4\n",
      "5 - 0.8421 VPO5 + 0.1579 H4(CO)3 -> 0.0263 V2P5O16 + 0.0789 V(CO3)2 + 0.3158 H2CO3 + 0.7105 VPO4\n",
      "6 - 0.8400 VPO5 + 0.1600 H4(CO)3 -> 0.0400 V(PO3)3 + 0.0800 V(CO3)2 + 0.3200 H2CO3 + 0.7200 VPO4\n",
      "7 - 0.7500 VPO5 + 0.2500 H4(CO)3 -> 0.5000 H2CO3 + 0.7500 VPO4 + 0.2500 C\n",
      "8 - 0.5000 VPO5 + 0.5000 H4(CO)3 -> 0.5000 VPH2O5 + 0.5000 H2CO3 + 1.0000 C\n",
      "9 - 0.3750 VPO5 + 0.6250 H4(CO)3 -> 0.3750 VP(H2O3)2 + 0.5000 H2CO3 + 1.3750 C\n"
     ]
    },
    {
     "data": {
      "image/png": "[encoded data removed]",
      "text/plain": [
       "<matplotlib.figure.Figure at 0x181d881dd8>"
      ]
     },
     "metadata": {},
     "output_type": "display_data"
    }
   ],
   "source": [
    "ra = ReactionDiagram(entry1=entry1, entry2=entry2, all_entries=useful_entries)\n",
    "cpd = ra.get_compound_pd()\n",
    "plotter = PDPlotter(cpd, show_unstable=False)\n",
    "plotter.get_plot(label_stable=False, label_unstable=False)\n",
    "for i, l in ra.labels.items():\n",
    "    print (\"%s - %s\" % (i, l))"
   ]
  },
  {
   "cell_type": "code",
   "execution_count": null,
   "metadata": {
    "collapsed": true
   },
   "outputs": [],
   "source": []
  }
 ],
 "metadata": {
  "kernelspec": {
   "display_name": "Python 3",
   "language": "python",
   "name": "python3"
  },
  "language_info": {
   "codemirror_mode": {
    "name": "ipython",
    "version": 3
   },
   "file_extension": ".py",
   "mimetype": "text/x-python",
   "name": "python",
   "nbconvert_exporter": "python",
   "pygments_lexer": "ipython3",
   "version": "3.6.5"
  },
  "toc": {
   "base_numbering": 1,
   "nav_menu": {},
   "number_sections": true,
   "sideBar": true,
   "skip_h1_title": false,
   "title_cell": "Table of Contents",
   "title_sidebar": "Contents",
   "toc_cell": false,
   "toc_position": {},
   "toc_section_display": true,
   "toc_window_display": true
  }
 },
 "nbformat": 4,
 "nbformat_minor": 1
}
