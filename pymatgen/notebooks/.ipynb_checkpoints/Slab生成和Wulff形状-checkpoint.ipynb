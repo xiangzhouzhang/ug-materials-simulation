{
 "cells": [
  {
   "cell_type": "markdown",
   "metadata": {},
   "source": [
    "1. 使用`core.surface`模块生成材料的各种slabs;    \n",
    "2. 结合不同指数晶面的表面能, 获得伍尔夫形状(Wulff shape)"
   ]
  },
  {
   "cell_type": "markdown",
   "metadata": {},
   "source": [
    "[Surface Energies of Elemental Crystals](https://www.nature.com/articles/sdata201680)    \n",
    "[Efficient creation and convergence of surface slabs](https://www.sciencedirect.com/science/article/pii/S003960281300160X)"
   ]
  },
  {
   "cell_type": "code",
   "execution_count": 1,
   "metadata": {},
   "outputs": [],
   "source": [
    "from pymatgen.core.surface import SlabGenerator, generate_all_slabs, Structure, Lattice\n",
    "from pymatgen.analysis.wulff import WulffShape"
   ]
  },
  {
   "cell_type": "markdown",
   "metadata": {},
   "source": [
    "## 生成slabs"
   ]
  },
  {
   "cell_type": "code",
   "execution_count": 2,
   "metadata": {},
   "outputs": [
    {
     "name": "stdout",
     "output_type": "stream",
     "text": [
      "Full Formula (Ni4)\n",
      "Reduced Formula: Ni\n",
      "abc   :   3.508000   3.508000   3.508000\n",
      "angles:  90.000000  90.000000  90.000000\n",
      "Sites (4)\n",
      "  #  SP      a    b    c\n",
      "---  ----  ---  ---  ---\n",
      "  0  Ni    0    0    0\n",
      "  1  Ni    0    0.5  0\n",
      "  2  Ni    0.5  0    0\n",
      "  3  Ni    0    0    0.5\n"
     ]
    }
   ],
   "source": [
    "lattice = Lattice.cubic(3.508)\n",
    "Ni = Structure(lattice, [\"Ni\", \"Ni\", \"Ni\", \"Ni\"], [[0,0,0], [0,0.5,0], [0.5,0,0], [0,0,0.5]])\n",
    "print(Ni)"
   ]
  },
  {
   "cell_type": "code",
   "execution_count": 3,
   "metadata": {},
   "outputs": [
    {
     "name": "stdout",
     "output_type": "stream",
     "text": [
      "<class 'pymatgen.core.surface.SlabGenerator'>\n"
     ]
    }
   ],
   "source": [
    "slabgen = SlabGenerator(Ni, (1,1,1), 10, 10)\n",
    "print(type(slabgen))"
   ]
  },
  {
   "cell_type": "code",
   "execution_count": 4,
   "metadata": {},
   "outputs": [
    {
     "name": "stdout",
     "output_type": "stream",
     "text": [
      "The Ni(111) slab only has 1 termination.\n"
     ]
    }
   ],
   "source": [
    "# there should only be one way to cut a (111) slab.\n",
    "all_slabs = slabgen.get_slabs() \n",
    "print(\"The Ni(111) slab only has {} termination.\".format(len(all_slabs) ))"
   ]
  },
  {
   "cell_type": "code",
   "execution_count": 5,
   "metadata": {},
   "outputs": [
    {
     "name": "stdout",
     "output_type": "stream",
     "text": [
      "Full Formula (Si8)\n",
      "Reduced Formula: Si\n",
      "abc   :   5.468730   5.468730   5.468730\n",
      "angles:  90.000000  90.000000  90.000000\n",
      "Sites (8)\n",
      "  #  SP       a     b     c\n",
      "---  ----  ----  ----  ----\n",
      "  0  Si    0     0     0.5\n",
      "  1  Si    0.75  0.75  0.75\n",
      "  2  Si    0     0.5   0\n",
      "  3  Si    0.75  0.25  0.25\n",
      "  4  Si    0.5   0     0\n",
      "  5  Si    0.25  0.75  0.25\n",
      "  6  Si    0.5   0.5   0.5\n",
      "  7  Si    0.25  0.25  0.75\n"
     ]
    }
   ],
   "source": [
    "# Let's try this for a diamond Silicon structure\n",
    "lattice = Lattice.cubic(5.46873)\n",
    "Si = Structure(lattice, [\"Si\", \"Si\", \"Si\", \"Si\", \n",
    "                         \"Si\", \"Si\", \"Si\", \"Si\"],\n",
    "               [[0.00000, 0.00000, 0.50000],\n",
    "                [0.75000, 0.75000, 0.75000],\n",
    "                [0.00000, 0.50000, 0.00000],\n",
    "                [0.75000, 0.25000, 0.25000],\n",
    "                [0.50000, 0.00000, 0.00000],\n",
    "                [0.25000, 0.75000, 0.25000],\n",
    "                [0.50000, 0.50000, 0.50000],\n",
    "                [0.25000, 0.25000, 0.75000]])\n",
    "print(Si)"
   ]
  },
  {
   "cell_type": "code",
   "execution_count": 6,
   "metadata": {},
   "outputs": [
    {
     "name": "stdout",
     "output_type": "stream",
     "text": [
      "there are actually now 2 terminations for Si-(111)\n"
     ]
    }
   ],
   "source": [
    "slabgen = SlabGenerator(Si, (1,1,1), 10, 10)\n",
    "print(\"there are actually now {} terminations for Si-(111)\".format(len(slabgen.get_slabs()) ))"
   ]
  },
  {
   "cell_type": "code",
   "execution_count": 7,
   "metadata": {},
   "outputs": [
    {
     "name": "stdout",
     "output_type": "stream",
     "text": [
      "18 unique slab structures have been found for a max Miller index of 3\n"
     ]
    }
   ],
   "source": [
    "# generate_all_slabs: finds all the unique Miller indices; SlabGenerator: create all terminations \n",
    "all_slabs = generate_all_slabs(Si, 3, 10, 10)\n",
    "print(\"{} unique slab structures have been found for a max Miller index of 3\".format((len(all_slabs)) ))"
   ]
  },
  {
   "cell_type": "code",
   "execution_count": 8,
   "metadata": {},
   "outputs": [
    {
     "name": "stdout",
     "output_type": "stream",
     "text": [
      "(1, 1, 1); (1, 1, 1); (3, 3, 2); (3, 3, 1); (3, 3, 1); (1, 1, 0); (3, 2, 2); (3, 2, 2); (3, 2, 1); (3, 2, 0); (3, 1, 1); (3, 1, 1); (3, 1, 0); (1, 0, 0); (2, 2, 1); (2, 2, 1); (2, 1, 1); (2, 1, 0); ##########\n",
      "Notice some Miller indices are repeated. Again, this is due to there being more than one termination\n"
     ]
    }
   ],
   "source": [
    "# What are the Miller indices of these slabs?\n",
    "for slab in all_slabs:\n",
    "    print(slab.miller_index, end='; ')\n",
    "%kk 10#\n",
    "print(\"Notice some Miller indices are repeated. Again, this is due to there being more than one termination\")"
   ]
  },
  {
   "cell_type": "markdown",
   "metadata": {},
   "source": [
    "## Wulff shape的基本性质"
   ]
  },
  {
   "cell_type": "markdown",
   "metadata": {},
   "source": [
    "**weighted_surface_energy**: 由表面积加权的表面能;   \n",
    "晶体的表面吉布斯自由能(Surface Gibbs free energy): $\\large \\Delta G=\\sum\\limits_{hkl}\\gamma_{hkl}A_{hkl}$    \n",
    "使用Wulff形状的总面积归一化表面能: $\\large \\bar{\\gamma}=\\frac{\\Delta G}{\\sum\\limits_{hkl}A_{hkl}}$    \n",
    "* $\\gamma_{hkl}$: hkl晶面的表面能;    \n",
    "* $A_{hkl}$: 占据wulff形状的特定表面的表面积;   \n",
    "* $\\sum\\limits_{hkl}A_{hkl}$: Wulff形状的总面积;"
   ]
  },
  {
   "cell_type": "markdown",
   "metadata": {},
   "source": [
    "**anisotropy**: 各向异性;    \n",
    "各向异性的度量:  \n",
    "* 当提及表面的各向异性, 通常涉及`两个晶面能的比值`: $E_{111} / E_{100} <1 $; (111)表面能最小, (100)的表面能最大;   \n",
    "* 也可以使用加权表面能的`变异系数`(Coefficient of Variation)来度量多个表面之间的变化, 作为参考(for reference), 理想球形(各向同性)的Wulff体的变异系数为0; "
   ]
  },
  {
   "cell_type": "markdown",
   "metadata": {},
   "source": [
    "**shape_factor**: 形状因子;   "
   ]
  },
  {
   "cell_type": "markdown",
   "metadata": {},
   "source": [
    "各向异性的替代方案, 这对于确定临界核尺寸很有用, 大的形状因子表明很大的各向异性;    \n",
    "`See Ballufi, R. W., Allen, S. M. & Carter, W. C. Kinetics of Materials. (John Wiley & Sons, 2005), p.461`"
   ]
  },
  {
   "cell_type": "code",
   "execution_count": 9,
   "metadata": {},
   "outputs": [],
   "source": [
    "# Surface energy values in J/m^2\n",
    "surface_energies_Ni = {(3, 2, 0): 2.3869, (1, 1, 0): 2.2862, \n",
    "                       (3, 1, 0): 2.3964, (2, 1, 0): 2.3969, \n",
    "                       (3, 3, 2): 2.0944, (1, 0, 0): 2.2084, \n",
    "                       (2, 1, 1): 2.2353, (3, 2, 2): 2.1242, \n",
    "                       (3, 2, 1): 2.3183, (2, 2, 1): 2.1732, \n",
    "                       (3, 3, 1): 2.2288, (3, 1, 1): 2.3039, \n",
    "                       (1, 1, 1): 1.9235}"
   ]
  },
  {
   "cell_type": "code",
   "execution_count": 10,
   "metadata": {},
   "outputs": [],
   "source": [
    "miller_list = surface_energies_Ni.keys()\n",
    "e_surf_list = surface_energies_Ni.values()"
   ]
  },
  {
   "cell_type": "markdown",
   "metadata": {},
   "source": [
    "使用最大弥勒指数'3'创建Wullf形状"
   ]
  },
  {
   "cell_type": "code",
   "execution_count": 11,
   "metadata": {},
   "outputs": [],
   "source": [
    "wulffshape = WulffShape(Ni.lattice, miller_list, e_surf_list)"
   ]
  },
  {
   "cell_type": "markdown",
   "metadata": {},
   "source": [
    "从Wulff对象提取信息"
   ]
  },
  {
   "cell_type": "code",
   "execution_count": 12,
   "metadata": {},
   "outputs": [
    {
     "name": "stdout",
     "output_type": "stream",
     "text": [
      "shape factor: 5.178, anisotropy: 0.070, weighted surface energy: 2.035 J/m^2\n"
     ]
    }
   ],
   "source": [
    "print(\"shape factor: {:.3f}, anisotropy: {:.3f}, weighted surface energy: {:.3f} J/m^2\".format(\n",
    "       wulffshape.shape_factor, wulffshape.anisotropy, wulffshape.weighted_surface_energy ))"
   ]
  },
  {
   "cell_type": "markdown",
   "metadata": {},
   "source": [
    "沃夫形状可视化"
   ]
  },
  {
   "cell_type": "code",
   "execution_count": 13,
   "metadata": {},
   "outputs": [
    {
     "name": "stderr",
     "output_type": "stream",
     "text": [
      "C:\\Users\\tfliu\\Anaconda3\\lib\\site-packages\\matplotlib\\cbook\\deprecation.py:107: MatplotlibDeprecationWarning: Passing one of 'on', 'true', 'off', 'false' as a boolean is deprecated; use an actual boolean (True/False) instead.\n",
      "  warnings.warn(message, mplDeprecation, stacklevel=1)\n"
     ]
    },
    {
     "data": {
      "image/png": "[encoded data removed]",
      "text/plain": [
       "<Figure size 576x576 with 1 Axes>"
      ]
     },
     "metadata": {},
     "output_type": "display_data"
    }
   ],
   "source": [
    "wulffshape.show()"
   ]
  },
  {
   "cell_type": "markdown",
   "metadata": {},
   "source": [
    "## 表面能公式"
   ]
  },
  {
   "cell_type": "markdown",
   "metadata": {},
   "source": [
    "$\\gamma = \\frac{E_{slab}-E_{bulk}}{2A}$:     \n",
    "* $E_{bulk}$: 体相总能, 最好(preferably)是与slab对应的单位晶胞;    \n",
    "* $E_{slab}$: slab总能, 几个原子层并且带有一个真空层;   \n",
    "* 1/2: 一个slab包含两个表面;\n",
    "* 使用条件: slab和bulk体系应包含相同数量的原子和物种;"
   ]
  },
  {
   "cell_type": "markdown",
   "metadata": {},
   "source": [
    "获取`LiFePO4`的结构"
   ]
  },
  {
   "cell_type": "code",
   "execution_count": 14,
   "metadata": {},
   "outputs": [],
   "source": [
    "from pymatgen.util.testing import PymatgenTest\n",
    "LiFePO4 = PymatgenTest.get_structure(\"LiFePO4\") "
   ]
  },
  {
   "cell_type": "code",
   "execution_count": 15,
   "metadata": {},
   "outputs": [
    {
     "name": "stdout",
     "output_type": "stream",
     "text": [
      "Full Formula (Li4 Fe4 P4 O16)\n",
      "Reduced Formula: LiFePO4\n",
      "abc   :   4.744800   6.065770  10.410370\n",
      "angles:  90.501790  90.000190  90.003620\n",
      "Sites (28)\n",
      "  #  SP          a        b        c\n",
      "---  ----  -------  -------  -------\n",
      "  0  Li    1e-05    0.99999  0.99999\n",
      "  1  Li    0.99999  0.5      1e-05\n",
      "  2  Li    0.49999  0.99999  0.5\n",
      "  3  Li    0.50002  0.5      0.5\n",
      "  4  Fe    0.52507  0.25344  0.21884\n",
      "  5  Fe    0.02508  0.74654  0.28116\n",
      "  6  Fe    0.97497  0.25346  0.71884\n",
      "  7  Fe    0.47493  0.74653  0.78116\n",
      "  8  P     0.58205  0.75169  0.09444\n",
      "  9  P     0.08207  0.2483   0.40556\n",
      " 10  P     0.91794  0.75174  0.59443\n",
      " 11  P     0.41793  0.24828  0.90557\n",
      " 12  O     0.29156  0.25112  0.04317\n",
      " 13  O     0.25851  0.75043  0.09622\n",
      " 14  O     0.71346  0.95594  0.1658\n",
      " 15  O     0.71627  0.5486   0.16562\n",
      " 16  O     0.21629  0.4514   0.33438\n",
      " 17  O     0.21345  0.04406  0.33419\n",
      " 18  O     0.75852  0.24955  0.40378\n",
      " 19  O     0.79157  0.7489   0.45682\n",
      " 20  O     0.20845  0.2511   0.54316\n",
      " 21  O     0.24149  0.75046  0.59622\n",
      " 22  O     0.78658  0.95602  0.66577\n",
      " 23  O     0.78367  0.54867  0.66564\n",
      " 24  O     0.28366  0.45133  0.83436\n",
      " 25  O     0.28658  0.04399  0.83423\n",
      " 26  O     0.74149  0.24958  0.90378\n",
      " 27  O     0.70842  0.74889  0.95684\n"
     ]
    }
   ],
   "source": [
    "print(LiFePO4)"
   ]
  },
  {
   "cell_type": "markdown",
   "metadata": {},
   "source": [
    "考虑表面极性, 必须添加氧化态"
   ]
  },
  {
   "cell_type": "code",
   "execution_count": 16,
   "metadata": {},
   "outputs": [
    {
     "name": "stdout",
     "output_type": "stream",
     "text": [
      "Full Formula (Li4 Fe4 P4 O16)\n",
      "Reduced Formula: LiFePO4\n",
      "abc   :   4.744800   6.065770  10.410370\n",
      "angles:  90.501790  90.000190  90.003620\n",
      "Sites (28)\n",
      "  #  SP          a        b        c\n",
      "---  ----  -------  -------  -------\n",
      "  0  Li+   1e-05    0.99999  0.99999\n",
      "  1  Li+   0.99999  0.5      1e-05\n",
      "  2  Li+   0.49999  0.99999  0.5\n",
      "  3  Li+   0.50002  0.5      0.5\n",
      "  4  Fe2+  0.52507  0.25344  0.21884\n",
      "  5  Fe2+  0.02508  0.74654  0.28116\n",
      "  6  Fe2+  0.97497  0.25346  0.71884\n",
      "  7  Fe2+  0.47493  0.74653  0.78116\n",
      "  8  P5+   0.58205  0.75169  0.09444\n",
      "  9  P5+   0.08207  0.2483   0.40556\n",
      " 10  P5+   0.91794  0.75174  0.59443\n",
      " 11  P5+   0.41793  0.24828  0.90557\n",
      " 12  O2-   0.29156  0.25112  0.04317\n",
      " 13  O2-   0.25851  0.75043  0.09622\n",
      " 14  O2-   0.71346  0.95594  0.1658\n",
      " 15  O2-   0.71627  0.5486   0.16562\n",
      " 16  O2-   0.21629  0.4514   0.33438\n",
      " 17  O2-   0.21345  0.04406  0.33419\n",
      " 18  O2-   0.75852  0.24955  0.40378\n",
      " 19  O2-   0.79157  0.7489   0.45682\n",
      " 20  O2-   0.20845  0.2511   0.54316\n",
      " 21  O2-   0.24149  0.75046  0.59622\n",
      " 22  O2-   0.78658  0.95602  0.66577\n",
      " 23  O2-   0.78367  0.54867  0.66564\n",
      " 24  O2-   0.28366  0.45133  0.83436\n",
      " 25  O2-   0.28658  0.04399  0.83423\n",
      " 26  O2-   0.74149  0.24958  0.90378\n",
      " 27  O2-   0.70842  0.74889  0.95684\n"
     ]
    }
   ],
   "source": [
    "LiFePO4.add_oxidation_state_by_element({\"Fe\": 2, \"Li\": 1, \"P\": 5, \"O\": -2})\n",
    "print(LiFePO4)"
   ]
  },
  {
   "cell_type": "code",
   "execution_count": 17,
   "metadata": {},
   "outputs": [],
   "source": [
    "slabgen = SlabGenerator(LiFePO4, (0,0,1), 10, 10)"
   ]
  },
  {
   "cell_type": "markdown",
   "metadata": {},
   "source": [
    "生成LiFePO4的slab时,需要注意不能破坏P-O键, 这些键很强, 如果被断裂的话将要导致非常大的表面能;    \n",
    "给slab添加键约束: 当生成slab时, P-O之间小于2埃的键都不可以断裂;"
   ]
  },
  {
   "cell_type": "code",
   "execution_count": 18,
   "metadata": {},
   "outputs": [
    {
     "name": "stdout",
     "output_type": "stream",
     "text": [
      "For the (001) slab of LiFePO4, there are 5 terminations.\n"
     ]
    }
   ],
   "source": [
    "all_slabs = slabgen.get_slabs(bonds={(\"P\", \"O\"): 2}) \n",
    "print(\"For the (001) slab of LiFePO4, there are {} terminations.\".format( len(all_slabs) ))"
   ]
  },
  {
   "cell_type": "markdown",
   "metadata": {},
   "source": [
    "当计算表面能时, slabs必须同时满足两条准则: nonpolar, symmetric"
   ]
  },
  {
   "cell_type": "code",
   "execution_count": 19,
   "metadata": {},
   "outputs": [
    {
     "name": "stdout",
     "output_type": "stream",
     "text": [
      "True False\n",
      "True False\n",
      "True False\n",
      "True False\n",
      "False False\n"
     ]
    }
   ],
   "source": [
    "for slab in all_slabs:\n",
    "    print(slab.is_polar(), slab.is_symmetric())"
   ]
  },
  {
   "cell_type": "markdown",
   "metadata": {},
   "source": [
    "> **表面能计算时的注意事项**:    \n",
    "1. **slab的两面必须完全相同**:     \n",
    "slab模型不需具有`Laue point group symmetry`(inversion symmetry),使用slab的`is_symmetric()`属性检查; 如果slab不是对称的, 我们计算的是两个表面的平均能而不是单个表面的能量;  \n",
    "2. **对于包含氧化态的结构, 我们需要保证表面是非极化的**:  \n",
    "如果发生表面极化, 计算的表面能是相当大的, 使用slab的`is_polar()`属性查看;   \n",
    "3. **001方向上的任何晶面都不满足计算条件**?    \n",
    "修改slab: A **future release** of `surface.py`  will implement such modification techniques for these cases."
   ]
  },
  {
   "cell_type": "markdown",
   "metadata": {},
   "source": [
    "弥勒指数为3的情况下不能满足计算的条件, 将密勒指数改为2 "
   ]
  },
  {
   "cell_type": "code",
   "execution_count": 20,
   "metadata": {},
   "outputs": [],
   "source": [
    "#take a while.\n",
    "all_slabs = generate_all_slabs(LiFePO4, 2, 10, 10, bonds={(\"P\", \"O\"): 2})"
   ]
  },
  {
   "cell_type": "code",
   "execution_count": 21,
   "metadata": {},
   "outputs": [
    {
     "name": "stdout",
     "output_type": "stream",
     "text": [
      "There is a total of <<210>> slabs generated including polar, asymmetric, and P-O terminated slabs.\n"
     ]
    }
   ],
   "source": [
    "print(\"There is a total of <<{}>> slabs generated including polar, asymmetric, and P-O terminated slabs.\".format(\n",
    "                            len(all_slabs) ))"
   ]
  },
  {
   "cell_type": "markdown",
   "metadata": {},
   "source": [
    "将满足计算条件的所有结构保存"
   ]
  },
  {
   "cell_type": "code",
   "execution_count": 22,
   "metadata": {},
   "outputs": [
    {
     "name": "stdout",
     "output_type": "stream",
     "text": [
      "(1, 0, 1)\n",
      "(1, 2, 1)\n"
     ]
    }
   ],
   "source": [
    "valid_slabs = []\n",
    "for slab in all_slabs:\n",
    "    if not slab.is_polar() and slab.is_symmetric():\n",
    "        print(slab.miller_index)\n",
    "        valid_slabs.append(slab)"
   ]
  },
  {
   "cell_type": "code",
   "execution_count": 23,
   "metadata": {},
   "outputs": [
    {
     "name": "stdout",
     "output_type": "stream",
     "text": [
      "Number of slabs that are nonpolar, symmetric and do not terminate P-O bonds: 2\n"
     ]
    }
   ],
   "source": [
    "print(\"Number of slabs that are nonpolar, symmetric and do not terminate P-O bonds: {}\".format(len(valid_slabs)))"
   ]
  }
 ],
 "metadata": {
  "kernelspec": {
   "display_name": "Python 3",
   "language": "python",
   "name": "python3"
  },
  "language_info": {
   "codemirror_mode": {
    "name": "ipython",
    "version": 3
   },
   "file_extension": ".py",
   "mimetype": "text/x-python",
   "name": "python",
   "nbconvert_exporter": "python",
   "pygments_lexer": "ipython3",
   "version": "3.6.5"
  },
  "toc": {
   "base_numbering": 1,
   "nav_menu": {},
   "number_sections": true,
   "sideBar": true,
   "skip_h1_title": true,
   "title_cell": "Table of Contents",
   "title_sidebar": "Contents",
   "toc_cell": false,
   "toc_position": {
    "height": "calc(100% - 180px)",
    "left": "10px",
    "top": "150px",
    "width": "198px"
   },
   "toc_section_display": true,
   "toc_window_display": true
  }
 },
 "nbformat": 4,
 "nbformat_minor": 2
}
