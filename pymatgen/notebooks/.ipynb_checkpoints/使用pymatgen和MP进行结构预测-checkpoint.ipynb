{
 "cells": [
  {
   "cell_type": "markdown",
   "metadata": {},
   "source": [
    "使用内嵌的**structure_prediction**包(package)预测结构;  \n",
    "通过MP-API收集所有可能的结构(the chemical systems), 重新替换原始物种, 过滤掉与MP重复的结构, 输出新的结构"
   ]
  },
  {
   "cell_type": "code",
   "execution_count": 1,
   "metadata": {},
   "outputs": [],
   "source": [
    "from pymatgen import MPRester\n",
    "from pymatgen import Specie, Element\n",
    "from pymatgen.analysis.structure_prediction.substitutor import Substitutor \n",
    "from pymatgen.analysis.structure_prediction.substitution_probability import SubstitutionPredictor\n",
    "from pymatgen.analysis.structure_matcher import StructureMatcher, ElementComparator\n",
    "from pymatgen.transformations.standard_transformations import AutoOxiStateDecorationTransformation"
   ]
  },
  {
   "cell_type": "code",
   "execution_count": 2,
   "metadata": {},
   "outputs": [],
   "source": [
    "mpr = MPRester()"
   ]
  },
  {
   "cell_type": "code",
   "execution_count": 3,
   "metadata": {},
   "outputs": [],
   "source": [
    "threshold = 0.001 #阈值?\n",
    "num_subs = 5     #替换物种的个数"
   ]
  },
  {
   "cell_type": "markdown",
   "metadata": {},
   "source": [
    "## 寻找最有可能的替换物种"
   ]
  },
  {
   "cell_type": "markdown",
   "metadata": {},
   "source": [
    "**SubstitutionPredictor()**:     \n",
    "使用[data-mined](https://pubs.acs.org/doi/10.1021/ic102031h)方法寻找替换物种(specie substitutions);    "
   ]
  },
  {
   "cell_type": "code",
   "execution_count": 4,
   "metadata": {},
   "outputs": [
    {
     "data": {
      "text/plain": [
       "[Specie Y3+, Specie Mn3+, Specie O2-]"
      ]
     },
     "execution_count": 4,
     "metadata": {},
     "output_type": "execute_result"
    }
   ],
   "source": [
    "original_species = [Specie('Y',3), Specie('Mn',3), Specie('O',-2)]\n",
    "original_species"
   ]
  },
  {
   "cell_type": "code",
   "execution_count": 5,
   "metadata": {},
   "outputs": [
    {
     "data": {
      "text/plain": [
       "{'probability': 0.0014141089949547632,\n",
       " 'substitutions': {Specie Tb3+: Specie Y3+,\n",
       "  Specie Fe3+: Specie Mn3+,\n",
       "  Specie O2-: Specie O2-}}"
      ]
     },
     "execution_count": 5,
     "metadata": {},
     "output_type": "execute_result"
    }
   ],
   "source": [
    "subs = SubstitutionPredictor(threshold=threshold).list_prediction(original_species) #len(subs)\n",
    "subs[0]"
   ]
  },
  {
   "cell_type": "markdown",
   "metadata": {},
   "source": [
    "> `FileNotFoundError`: No such file or directory: '..pymatgen\\\\analysis\\\\structure_prediction\\\\data\\\\lambda.json';  \n",
    "解决: 将[pymatgen-git库](https://github.com/materialsproject/pymatgen/tree/master/pymatgen/analysis/structure_prediction)中的data文件复制到本地目录中;"
   ]
  },
  {
   "cell_type": "markdown",
   "metadata": {},
   "source": [
    "在`data-mined`中, 每个替换物种都有一个最大可能性概率(highest probability), 通过该值进行排序;"
   ]
  },
  {
   "cell_type": "code",
   "execution_count": 6,
   "metadata": {},
   "outputs": [],
   "source": [
    "subs.sort(key = lambda x: x['probability'], reverse = True)\n",
    "subs = subs[0:num_subs]"
   ]
  },
  {
   "cell_type": "markdown",
   "metadata": {},
   "source": [
    "创建列表, 存储每种替换物种组合(substituted specie combination);"
   ]
  },
  {
   "cell_type": "code",
   "execution_count": 7,
   "metadata": {},
   "outputs": [
    {
     "data": {
      "text/plain": [
       "[[Specie Y3+, Specie Mn3+, Specie O2-],\n",
       " [Specie Na+, Specie Mn3+, Specie O2-],\n",
       " [Specie Re5+, Specie Mn3+, Specie O2-],\n",
       " [Specie Y3+, Specie Fe3+, Specie O2-],\n",
       " [Specie Y3+, Specie Sc3+, Specie O2-]]"
      ]
     },
     "execution_count": 7,
     "metadata": {},
     "output_type": "execute_result"
    }
   ],
   "source": [
    "trial_subs = [list(sub['substitutions'].keys()) for sub in subs]\n",
    "trial_subs"
   ]
  },
  {
   "cell_type": "markdown",
   "metadata": {},
   "source": [
    "创建列表, 存储每种独特的化学体系, 元素由破折号(dashes)分隔:"
   ]
  },
  {
   "cell_type": "code",
   "execution_count": 8,
   "metadata": {},
   "outputs": [
    {
     "data": {
      "text/plain": [
       "[[Element Y, Element Mn, Element O],\n",
       " [Element Na, Element Mn, Element O],\n",
       " [Element Re, Element Mn, Element O],\n",
       " [Element Y, Element Fe, Element O],\n",
       " [Element Y, Element Sc, Element O]]"
      ]
     },
     "execution_count": 8,
     "metadata": {},
     "output_type": "execute_result"
    }
   ],
   "source": [
    "elem_sys_list = [[specie.element for specie in sub] for sub in trial_subs]\n",
    "elem_sys_list"
   ]
  },
  {
   "cell_type": "code",
   "execution_count": 9,
   "metadata": {},
   "outputs": [
    {
     "data": {
      "text/plain": [
       "{'Na-Mn-O', 'Re-Mn-O', 'Y-Fe-O', 'Y-Mn-O', 'Y-Sc-O'}"
      ]
     },
     "execution_count": 9,
     "metadata": {},
     "output_type": "execute_result"
    }
   ],
   "source": [
    "chemsys_set = set()\n",
    "for sys in elem_sys_list:\n",
    "    chemsys_set.add(\"-\".join(map(str,sys))) #map(str,sys): 将`[Element Y, Element Mn, Element O]`变成'Y-Mn-O'\n",
    "chemsys_set"
   ]
  },
  {
   "cell_type": "markdown",
   "metadata": {},
   "source": [
    "## 通过Mp-api获得新化学体系的所有结构"
   ]
  },
  {
   "cell_type": "markdown",
   "metadata": {},
   "source": [
    "创建一个字典: {化学体系: 结构};"
   ]
  },
  {
   "cell_type": "code",
   "execution_count": 10,
   "metadata": {},
   "outputs": [],
   "source": [
    "all_structs = {}\n",
    "for chemsys in chemsys_set:\n",
    "    all_structs[chemsys] = mpr.get_structures(chemsys) # 五个结构的获取时间应该不长"
   ]
  },
  {
   "cell_type": "code",
   "execution_count": 11,
   "metadata": {
    "scrolled": false
   },
   "outputs": [
    {
     "name": "stdout",
     "output_type": "stream",
     "text": [
      "Full Formula (Y2 Fe4 O8)\n",
      "Reduced Formula: Y(FeO2)2\n",
      "abc   :   6.321493   6.321493   6.321493\n",
      "angles:  60.267342  60.267348  60.267346\n",
      "Sites (14)\n",
      "  #  SP           a         b         c    magmom\n",
      "---  ----  --------  --------  --------  --------\n",
      "  0  Y     0.625014  0.625014  0.625014     0.059\n",
      "  1  Y     0.374986  0.374986  0.374986     0.059\n",
      "  2  Fe    0         0.5       0            4.026\n",
      "  3  Fe    0         0         0            4.342\n",
      "  4  Fe    0.5       0         0            4.02\n",
      "  5  Fe    0         0         0.5          3.996\n",
      "  6  O     0.207125  0.768584  0.768584     0.162\n",
      "  7  O     0.231416  0.231416  0.792875     0.155\n",
      "  8  O     0.231416  0.792875  0.231416     0.158\n",
      "  9  O     0.238322  0.238322  0.238322     0.102\n",
      " 10  O     0.768584  0.768584  0.207125     0.155\n",
      " 11  O     0.792875  0.231416  0.231416     0.162\n",
      " 12  O     0.768584  0.207125  0.768584     0.158\n",
      " 13  O     0.761678  0.761678  0.761678     0.102\n"
     ]
    }
   ],
   "source": [
    "print(all_structs['Y-Fe-O'][0])"
   ]
  },
  {
   "cell_type": "markdown",
   "metadata": {},
   "source": [
    "创建一个`自动氧化态装饰转化器`: 在每个晶格点处检测氧化态;"
   ]
  },
  {
   "cell_type": "code",
   "execution_count": 12,
   "metadata": {},
   "outputs": [],
   "source": [
    "auto_oxi = AutoOxiStateDecorationTransformation() "
   ]
  },
  {
   "cell_type": "markdown",
   "metadata": {},
   "source": [
    "将每个新化学体系添加氧化态"
   ]
  },
  {
   "cell_type": "code",
   "execution_count": 13,
   "metadata": {},
   "outputs": [
    {
     "data": {
      "text/plain": [
       "dict_keys(['Y-Fe-O', 'Y-Sc-O', 'Re-Mn-O', 'Na-Mn-O', 'Y-Mn-O'])"
      ]
     },
     "execution_count": 13,
     "metadata": {},
     "output_type": "execute_result"
    }
   ],
   "source": [
    "all_structs.keys()"
   ]
  },
  {
   "cell_type": "code",
   "execution_count": 14,
   "metadata": {},
   "outputs": [],
   "source": [
    "oxi_structs = {}\n",
    "for chemsys in all_structs:\n",
    "    oxi_structs[chemsys] = [] #chemsys键所对应的值的类型\n",
    "    for num, struct in enumerate(all_structs[chemsys]): #每个新化学体系可能多个结构\n",
    "        try:\n",
    "            oxi_structs[chemsys].append({'structure': auto_oxi.apply_transformation(struct), \n",
    "                                         'id': str(chemsys + \"_\" + str(num))}) #len(oxi_structs)=5\n",
    "        except:\n",
    "            continue # if auto oxidation fails, try next structure            "
   ]
  },
  {
   "cell_type": "code",
   "execution_count": 15,
   "metadata": {
    "scrolled": false
   },
   "outputs": [
    {
     "name": "stdout",
     "output_type": "stream",
     "text": [
      "{'structure': Structure Summary\n",
      "Lattice\n",
      "    abc : 6.16736763 6.167367296628219 11.84594428\n",
      " angles : 90.0 90.0 120.00000173446008\n",
      " volume : 390.2114063259548\n",
      "      A : 6.16736763 0.0 0.0\n",
      "      B : -3.08368381 5.34109666 0.0\n",
      "      C : 0.0 0.0 11.84594428\n",
      "PeriodicSite: Y3+ (3.0837, 1.7804, 2.7653) [0.6667, 0.3333, 0.2334]\n",
      "PeriodicSite: Y3+ (-0.0000, 3.5607, 8.6882) [0.3333, 0.6667, 0.7334]\n",
      "PeriodicSite: Y3+ (3.0837, 1.7804, 8.6882) [0.6667, 0.3333, 0.7334]\n",
      "PeriodicSite: Y3+ (-0.0000, 3.5607, 2.7653) [0.3333, 0.6667, 0.2334]\n",
      "PeriodicSite: Y3+ (0.0000, 0.0000, 9.1881) [0.0000, 0.0000, 0.7756]\n",
      "PeriodicSite: Y3+ (0.0000, 0.0000, 3.2652) [0.0000, 0.0000, 0.2756]\n",
      "PeriodicSite: Fe3+ (4.1074, 0.0000, 5.9339) [0.6660, 0.0000, 0.5009]\n",
      "PeriodicSite: Fe3+ (2.0537, 3.5571, 0.0110) [0.6660, 0.6660, 0.0009]\n",
      "PeriodicSite: Fe3+ (-1.0300, 1.7840, 0.0110) [0.0000, 0.3340, 0.0009]\n",
      "PeriodicSite: Fe3+ (4.1137, 3.5571, 5.9339) [1.0000, 0.6660, 0.5009]\n",
      "PeriodicSite: Fe3+ (1.0300, 1.7840, 5.9339) [0.3340, 0.3340, 0.5009]\n",
      "PeriodicSite: Fe3+ (2.0600, 0.0000, 0.0110) [0.3340, 0.0000, 0.0009]\n",
      "PeriodicSite: O2- (3.0837, 1.7804, 0.2478) [0.6667, 0.3333, 0.0209]\n",
      "PeriodicSite: O2- (-0.0000, 3.5607, 6.1707) [0.3333, 0.6667, 0.5209]\n",
      "PeriodicSite: O2- (3.0837, 1.7804, 6.1707) [0.6667, 0.3333, 0.5209]\n",
      "PeriodicSite: O2- (-0.0000, 3.5607, 0.2478) [0.3333, 0.6667, 0.0209]\n",
      "PeriodicSite: O2- (0.0000, 0.0000, 11.5825) [0.0000, 0.0000, 0.9778]\n",
      "PeriodicSite: O2- (0.0000, 0.0000, 5.6596) [0.0000, 0.0000, 0.4778]\n",
      "PeriodicSite: O2- (2.2160, 0.0000, 9.9268) [0.3593, 0.0000, 0.8380]\n",
      "PeriodicSite: O2- (1.1080, 1.9191, 4.0038) [0.3593, 0.3593, 0.3380]\n",
      "PeriodicSite: O2- (-1.9757, 3.4220, 4.0038) [0.0000, 0.6407, 0.3380]\n",
      "PeriodicSite: O2- (5.0594, 1.9191, 9.9268) [1.0000, 0.3593, 0.8380]\n",
      "PeriodicSite: O2- (1.9757, 3.4220, 9.9268) [0.6407, 0.6407, 0.8380]\n",
      "PeriodicSite: O2- (3.9514, 0.0000, 4.0038) [0.6407, 0.0000, 0.3380]\n",
      "PeriodicSite: O2- (1.8936, 0.0000, 1.9591) [0.3070, 0.0000, 0.1654]\n",
      "PeriodicSite: O2- (0.9468, 1.6399, 7.8821) [0.3070, 0.3070, 0.6654]\n",
      "PeriodicSite: O2- (-2.1369, 3.7012, 7.8821) [0.0000, 0.6930, 0.6654]\n",
      "PeriodicSite: O2- (5.2206, 1.6399, 1.9591) [1.0000, 0.3070, 0.1654]\n",
      "PeriodicSite: O2- (2.1369, 3.7012, 1.9591) [0.6930, 0.6930, 0.1654]\n",
      "PeriodicSite: O2- (4.2738, 0.0000, 7.8821) [0.6930, 0.0000, 0.6654], 'id': 'Y-Fe-O_1'}\n"
     ]
    }
   ],
   "source": [
    "print(oxi_structs['Y-Fe-O'][0])"
   ]
  },
  {
   "cell_type": "markdown",
   "metadata": {},
   "source": [
    "## 替换原始物种变为新的结构"
   ]
  },
  {
   "cell_type": "markdown",
   "metadata": {},
   "source": [
    "创建一个新的字典trans_structures:{化学体系: 预测结构(使用替换元素直接对原始结构中的元素替换)};  \n",
    "这些新的预测结构是**改造对象**`TransformedStructure`;"
   ]
  },
  {
   "cell_type": "markdown",
   "metadata": {},
   "source": [
    "创建一个物种替换器"
   ]
  },
  {
   "cell_type": "code",
   "execution_count": 17,
   "metadata": {},
   "outputs": [],
   "source": [
    "sbr = Substitutor(threshold = threshold) "
   ]
  },
  {
   "cell_type": "code",
   "execution_count": 18,
   "metadata": {},
   "outputs": [],
   "source": [
    "trans_structs = {}\n",
    "for chemsys in oxi_structs:\n",
    "    trans_structs[chemsys] = sbr.pred_from_structures(original_species,oxi_structs[chemsys])"
   ]
  },
  {
   "cell_type": "code",
   "execution_count": 19,
   "metadata": {},
   "outputs": [
    {
     "data": {
      "text/plain": [
       "{'Y-Fe-O': [<pymatgen.alchemy.materials.TransformedStructure at 0x27a5603acf8>,\n",
       "  <pymatgen.alchemy.materials.TransformedStructure at 0x27a5603ac50>,\n",
       "  <pymatgen.alchemy.materials.TransformedStructure at 0x27a5604b4e0>,\n",
       "  <pymatgen.alchemy.materials.TransformedStructure at 0x27a5603ada0>,\n",
       "  <pymatgen.alchemy.materials.TransformedStructure at 0x27a56041390>,\n",
       "  <pymatgen.alchemy.materials.TransformedStructure at 0x27a56054550>],\n",
       " 'Y-Sc-O': [<pymatgen.alchemy.materials.TransformedStructure at 0x27a5609e208>,\n",
       "  <pymatgen.alchemy.materials.TransformedStructure at 0x27a5609e390>,\n",
       "  <pymatgen.alchemy.materials.TransformedStructure at 0x27a560a07b8>],\n",
       " 'Re-Mn-O': [],\n",
       " 'Na-Mn-O': [],\n",
       " 'Y-Mn-O': []}"
      ]
     },
     "execution_count": 19,
     "metadata": {},
     "output_type": "execute_result"
    }
   ],
   "source": [
    "trans_structs"
   ]
  },
  {
   "cell_type": "markdown",
   "metadata": {},
   "source": [
    "使用**StructureMatcher()**: 创建结构匹配器, 用于过滤掉重复结构"
   ]
  },
  {
   "cell_type": "code",
   "execution_count": 20,
   "metadata": {},
   "outputs": [],
   "source": [
    "sm = StructureMatcher(comparator=ElementComparator(),primitive_cell=False)"
   ]
  },
  {
   "cell_type": "code",
   "execution_count": 21,
   "metadata": {},
   "outputs": [],
   "source": [
    "filtered_structs = {} # 过滤字典\n",
    "seen_structs = [] # 与化学系无关的结构"
   ]
  },
  {
   "cell_type": "code",
   "execution_count": 22,
   "metadata": {},
   "outputs": [
    {
     "name": "stdout",
     "output_type": "stream",
     "text": [
      "Number of entries BEFORE filtering: 9\n"
     ]
    }
   ],
   "source": [
    "print(\"Number of entries BEFORE filtering: \" + str(sum([len(sys) for sys in trans_structs.values()])))"
   ]
  },
  {
   "cell_type": "code",
   "execution_count": 23,
   "metadata": {},
   "outputs": [],
   "source": [
    "for chemsys in trans_structs:\n",
    "    filtered_structs[chemsys] = []\n",
    "    for struct in trans_structs[chemsys]:\n",
    "        found = False\n",
    "        for struct2 in seen_structs:\n",
    "            if sm.fit(struct.final_structure, struct2.final_structure):\n",
    "                found = True\n",
    "                break\n",
    "        if not found:\n",
    "            filtered_structs[chemsys].append(struct)\n",
    "            seen_structs.append(struct)"
   ]
  },
  {
   "cell_type": "code",
   "execution_count": 24,
   "metadata": {},
   "outputs": [
    {
     "name": "stdout",
     "output_type": "stream",
     "text": [
      "Number of entries AFTER filtering: 6\n"
     ]
    }
   ],
   "source": [
    "print(\"Number of entries AFTER filtering: \" + str(sum([len(sys) for sys in filtered_structs.values()])))"
   ]
  },
  {
   "cell_type": "markdown",
   "metadata": {},
   "source": [
    "注意: \n",
    "重新运行程序之后, 过滤结构可能会发生改变;  \n",
    "Since we are filtering for duplicates across chemical systems, either of the two systems may be reported in the filtered dictionary. Which of the two systems it is simply depends on the order in that the filter algorithm follows (and it's reading from a naturally unordered dictionary!)"
   ]
  },
  {
   "cell_type": "markdown",
   "metadata": {},
   "source": [
    "删除所有重复结构"
   ]
  },
  {
   "cell_type": "code",
   "execution_count": 25,
   "metadata": {},
   "outputs": [],
   "source": [
    "known_structs = mpr.get_structures(\"Y-Mn-O\") # get all known MP structures for original system"
   ]
  },
  {
   "cell_type": "code",
   "execution_count": 26,
   "metadata": {},
   "outputs": [
    {
     "name": "stdout",
     "output_type": "stream",
     "text": [
      "Number of entries BEFORE filtering against MP: 6\n"
     ]
    }
   ],
   "source": [
    "final_filtered_structs = {}\n",
    "print(\"Number of entries BEFORE filtering against MP: \" + str(sum([len(sys) for sys in filtered_structs.values()])))"
   ]
  },
  {
   "cell_type": "code",
   "execution_count": 27,
   "metadata": {},
   "outputs": [],
   "source": [
    "for chemsys in filtered_structs:\n",
    "    final_filtered_structs[chemsys] = []\n",
    "    for struct in filtered_structs[chemsys]:\n",
    "        found = False\n",
    "        for struct2 in known_structs:\n",
    "            if sm.fit(struct.final_structure, struct2):\n",
    "                found = True\n",
    "                break \n",
    "        if not found:\n",
    "            final_filtered_structs[chemsys].append(struct)                "
   ]
  },
  {
   "cell_type": "code",
   "execution_count": 28,
   "metadata": {},
   "outputs": [
    {
     "name": "stdout",
     "output_type": "stream",
     "text": [
      "Number of entries AFTER filtering against MP: 1\n",
      "{'Y-Fe-O': [<pymatgen.alchemy.materials.TransformedStructure object at 0x0000027A56054550>], 'Y-Sc-O': [], 'Re-Mn-O': [], 'Na-Mn-O': [], 'Y-Mn-O': []}\n"
     ]
    }
   ],
   "source": [
    "print(\"Number of entries AFTER filtering against MP: \" + str(sum([len(sys) for sys in final_filtered_structs.values()])))\n",
    "print(final_filtered_structs)"
   ]
  },
  {
   "cell_type": "markdown",
   "metadata": {},
   "source": [
    "Create final structure dictionary with StructureNL objects for each transformed structure (Note: this requires installation of pybtex):"
   ]
  },
  {
   "cell_type": "code",
   "execution_count": 29,
   "metadata": {
    "scrolled": false
   },
   "outputs": [
    {
     "name": "stderr",
     "output_type": "stream",
     "text": [
      "C:\\Users\\tfliu\\Anaconda3\\lib\\site-packages\\pymatgen\\alchemy\\materials.py:346: UserWarning: Data in TransformedStructure.other_parameters discarded during type conversion to SNL\n",
      "  warn('Data in TransformedStructure.other_parameters discarded '\n"
     ]
    }
   ],
   "source": [
    "final_structs = {}\n",
    "for chemsys in final_filtered_structs:\n",
    "    final_structs[chemsys] = [struct.to_snl([{\"name\":\"Matthew McDermott\", \"email\":\"N/A\"}]) \n",
    "                              for struct in final_filtered_structs[chemsys]]\n",
    "with open('br_data/Y-Fe_O.txt', 'w') as f:\n",
    "    print(final_structs['Y-Fe-O'][0].as_dict(), file=f) # Printing one of the StructureNL objects - this is a large dictionary"
   ]
  }
 ],
 "metadata": {
  "kernelspec": {
   "display_name": "Python 3",
   "language": "python",
   "name": "python3"
  },
  "toc": {
   "base_numbering": "1",
   "nav_menu": {},
   "number_sections": true,
   "sideBar": true,
   "skip_h1_title": true,
   "title_cell": "Table of Contents",
   "title_sidebar": "Contents",
   "toc_cell": false,
   "toc_position": {},
   "toc_section_display": true,
   "toc_window_display": false
  }
 },
 "nbformat": 4,
 "nbformat_minor": 2
}
