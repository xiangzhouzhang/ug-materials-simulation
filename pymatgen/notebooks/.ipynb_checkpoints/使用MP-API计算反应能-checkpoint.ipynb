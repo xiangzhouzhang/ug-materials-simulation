{
 "cells": [
  {
   "cell_type": "markdown",
   "metadata": {},
   "source": [
    "# 计算反应能"
   ]
  },
  {
   "cell_type": "code",
   "execution_count": 1,
   "metadata": {},
   "outputs": [],
   "source": [
    "from pymatgen.ext.matproj import MPRester\n",
    "from pymatgen import Composition\n",
    "from pymatgen.entries.computed_entries import ComputedEntry\n",
    "from pymatgen.core.units import FloatWithUnit\n",
    "from pymatgen.analysis.reaction_calculator import ComputedReaction"
   ]
  },
  {
   "cell_type": "code",
   "execution_count": 2,
   "metadata": {},
   "outputs": [],
   "source": [
    "a = MPRester()\n",
    "all_entries = a.get_entries_in_chemsys(['Ca', 'C', 'O'])"
   ]
  },
  {
   "cell_type": "code",
   "execution_count": 3,
   "metadata": {
    "scrolled": false
   },
   "outputs": [
    {
     "data": {
      "text/plain": [
       "ComputedEntry mp-10683 - Ca1\n",
       "Energy = -1.6033\n",
       "Correction = 0.0000\n",
       "Parameters:\n",
       "run_type = GGA\n",
       "is_hubbard = False\n",
       "pseudo_potential = {'functional': 'PBE', 'labels': ['Ca_sv'], 'pot_type': 'paw'}\n",
       "hubbards = {}\n",
       "potcar_symbols = ['PBE Ca_sv']\n",
       "oxide_type = None\n",
       "Data:\n",
       "oxide_type = None"
      ]
     },
     "execution_count": 3,
     "metadata": {},
     "output_type": "execute_result"
    }
   ],
   "source": [
    "all_entries[0]"
   ]
  },
  {
   "cell_type": "code",
   "execution_count": 4,
   "metadata": {},
   "outputs": [],
   "source": [
    "# 获取最低能量条目 composition.\n",
    "def get_most_stable_entry(formula):\n",
    "    relevant_entries = [entry for entry in all_entries \n",
    "                        if entry.composition.reduced_formula == Composition(formula).reduced_formula]\n",
    "    relevant_entries = sorted(relevant_entries, key=lambda e: e.energy_per_atom) #按能量由低到高的方向对条目排序\n",
    "    return relevant_entries[0]"
   ]
  },
  {
   "cell_type": "code",
   "execution_count": 5,
   "metadata": {},
   "outputs": [
    {
     "data": {
      "text/plain": [
       "ComputedEntry mp-2605 - Ca1 O1\n",
       "Energy = -12.8785\n",
       "Correction = -0.7023\n",
       "Parameters:\n",
       "run_type = GGA\n",
       "is_hubbard = False\n",
       "pseudo_potential = {'functional': 'PBE', 'labels': ['O', 'Ca_sv'], 'pot_type': 'paw'}\n",
       "hubbards = {}\n",
       "potcar_symbols = ['PBE O', 'PBE Ca_sv']\n",
       "oxide_type = oxide\n",
       "Data:\n",
       "oxide_type = oxide"
      ]
     },
     "execution_count": 5,
     "metadata": {},
     "output_type": "execute_result"
    }
   ],
   "source": [
    "CaO = get_most_stable_entry(\"CaO\")\n",
    "CaO"
   ]
  },
  {
   "cell_type": "code",
   "execution_count": 6,
   "metadata": {},
   "outputs": [],
   "source": [
    "CO2 = get_most_stable_entry(\"CO2\")\n",
    "CaCO3 = get_most_stable_entry(\"CaCO3\")"
   ]
  },
  {
   "cell_type": "code",
   "execution_count": 7,
   "metadata": {},
   "outputs": [
    {
     "data": {
      "text/plain": [
       "CaO + CO2 -> CaCO3"
      ]
     },
     "execution_count": 7,
     "metadata": {},
     "output_type": "execute_result"
    }
   ],
   "source": [
    "reaction = ComputedReaction([CaO, CO2], [CaCO3])\n",
    "reaction"
   ]
  },
  {
   "cell_type": "code",
   "execution_count": 8,
   "metadata": {},
   "outputs": [
    {
     "data": {
      "text/plain": [
       "-1.522750712500006"
      ]
     },
     "execution_count": 8,
     "metadata": {},
     "output_type": "execute_result"
    }
   ],
   "source": [
    "energy = FloatWithUnit(reaction.calculated_reaction_energy, \"eV atom^-1\")\n",
    "energy"
   ]
  },
  {
   "cell_type": "code",
   "execution_count": 9,
   "metadata": {},
   "outputs": [
    {
     "name": "stdout",
     "output_type": "stream",
     "text": [
      "CaO + CO2 -> CaCO3, -146.923kJ mol^-1(calc)\n"
     ]
    }
   ],
   "source": [
    "print(\"{}, {:.3f}kJ mol^-1(calc)\".format(reaction, energy.to(\"kJ mol^-1\")))"
   ]
  },
  {
   "cell_type": "code",
   "execution_count": 12,
   "metadata": {},
   "outputs": [],
   "source": [
    "# 获得实验数据\n",
    "exp_CaO = a.get_exp_entry(\"CaO\")\n",
    "exp_CaCO3 = a.get_exp_entry(\"CaCO3\")"
   ]
  },
  {
   "cell_type": "code",
   "execution_count": 13,
   "metadata": {},
   "outputs": [
    {
     "data": {
      "text/plain": [
       "ComputedEntry None - C1 O2\n",
       "Energy = -393.5100\n",
       "Correction = 0.0000\n",
       "Parameters:\n",
       "Data:"
      ]
     },
     "execution_count": 13,
     "metadata": {},
     "output_type": "execute_result"
    }
   ],
   "source": [
    "# MP数据库不包含气相试验数据条目, 该值取自`NIST`, 然后手动创建条目, 单位应该为`kJ/mol`\n",
    "exp_CO2 = ComputedEntry(\"CO2\", -393.51)\n",
    "exp_CO2"
   ]
  },
  {
   "cell_type": "code",
   "execution_count": 14,
   "metadata": {},
   "outputs": [
    {
     "data": {
      "text/plain": [
       "CaO + CO2 -> CaCO3"
      ]
     },
     "execution_count": 14,
     "metadata": {},
     "output_type": "execute_result"
    }
   ],
   "source": [
    "exp_reaction = ComputedReaction([exp_CaO, exp_CO2], [exp_CaCO3])\n",
    "exp_reaction"
   ]
  },
  {
   "cell_type": "code",
   "execution_count": 15,
   "metadata": {},
   "outputs": [
    {
     "name": "stdout",
     "output_type": "stream",
     "text": [
      "CaO + CO2 -> CaCO3, -178.300 kJ mol^-1(expe)\n"
     ]
    }
   ],
   "source": [
    "print(\"{}, {:.3f} kJ mol^-1(expe)\".format(exp_reaction, exp_reaction.calculated_reaction_energy))"
   ]
  }
 ],
 "metadata": {
  "anaconda-cloud": {},
  "kernelspec": {
   "display_name": "Python 3",
   "language": "python",
   "name": "python3"
  },
  "language_info": {
   "codemirror_mode": {
    "name": "ipython",
    "version": 3
   },
   "file_extension": ".py",
   "mimetype": "text/x-python",
   "name": "python",
   "nbconvert_exporter": "python",
   "pygments_lexer": "ipython3",
   "version": "3.6.5"
  },
  "toc": {
   "base_numbering": 1,
   "nav_menu": {},
   "number_sections": true,
   "sideBar": true,
   "skip_h1_title": true,
   "title_cell": "Table of Contents",
   "title_sidebar": "Contents",
   "toc_cell": false,
   "toc_position": {},
   "toc_section_display": true,
   "toc_window_display": false
  }
 },
 "nbformat": 4,
 "nbformat_minor": 1
}
