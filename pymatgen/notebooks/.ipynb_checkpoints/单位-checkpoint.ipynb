{
 "cells": [
  {
   "cell_type": "markdown",
   "metadata": {},
   "source": [
    "# 单位对象"
   ]
  },
  {
   "cell_type": "code",
   "execution_count": 1,
   "metadata": {},
   "outputs": [],
   "source": [
    "import pymatgen as mg"
   ]
  },
  {
   "cell_type": "markdown",
   "metadata": {},
   "source": [
    "**单位对象**的构造器(constructor): 只是(is simply)为一个值加上一个字符串(`a value + a string`)"
   ]
  },
  {
   "cell_type": "code",
   "execution_count": 2,
   "metadata": {
    "scrolled": false
   },
   "outputs": [],
   "source": [
    "e = mg.units.Energy(1000,\"Ha\")"
   ]
  },
  {
   "cell_type": "markdown",
   "metadata": {},
   "source": [
    "执行单位转换(perform a conversion)"
   ]
  },
  {
   "cell_type": "code",
   "execution_count": 3,
   "metadata": {},
   "outputs": [
    {
     "data": {
      "text/plain": [
       "27211.386020632835"
      ]
     },
     "execution_count": 3,
     "metadata": {},
     "output_type": "execute_result"
    }
   ],
   "source": [
    "e.to(\"eV\")"
   ]
  },
  {
   "cell_type": "markdown",
   "metadata": {},
   "source": [
    "所有可选的能量单位"
   ]
  },
  {
   "cell_type": "code",
   "execution_count": 4,
   "metadata": {},
   "outputs": [
    {
     "data": {
      "text/plain": [
       "('eV', 'meV', 'Ha', 'Ry', 'J', 'kJ')"
      ]
     },
     "execution_count": 4,
     "metadata": {},
     "output_type": "execute_result"
    }
   ],
   "source": [
    "e.supported_units"
   ]
  },
  {
   "cell_type": "markdown",
   "metadata": {},
   "source": [
    "单位对象支持浮点数所支持的所有功能(functionality), 运算结果的单位需要自行处理;  \n",
    "复合单位(complex units)的形式: 由`基本单位`, `空格`, 和`^`组合而成(space-separated powers of units), `^`后只能连接整数;"
   ]
  },
  {
   "cell_type": "code",
   "execution_count": 5,
   "metadata": {},
   "outputs": [
    {
     "name": "stdout",
     "output_type": "stream",
     "text": [
      "dist     time           speed            speed.to(\"mile h^-1\")\n",
      "----     ----     ------------------     ---------------------\n",
      "65.0     30.0     2.1666666666666665     130.0                \n",
      "             dist.supported_units               time.supported_units\n",
      "----------------------------------------------  --------------------\n",
      "('m', 'km', 'mile', 'ang', 'cm', 'pm', 'bohr')  ('s', 'min', 'h')   \n"
     ]
    }
   ],
   "source": [
    "dist = mg.units.Length(65, \"mile\")\n",
    "time = mg.units.Time(30, \"min\")\n",
    "speed = dist / time\n",
    "\n",
    "%C 5 dist; time; speed; speed.to(\"mile h^-1\")\n",
    "%C dist.supported_units; time.supported_units"
   ]
  },
  {
   "cell_type": "markdown",
   "metadata": {},
   "source": [
    "基本的单位运算"
   ]
  },
  {
   "cell_type": "code",
   "execution_count": 6,
   "metadata": {},
   "outputs": [
    {
     "name": "stdout",
     "output_type": "stream",
     "text": [
      "The force: 19.62 N\n",
      "The potential energy: 196.20000000000002 J\n"
     ]
    }
   ],
   "source": [
    "g = mg.units.FloatWithUnit(9.81, \"m s^-2\") #Acceleration due to gravity\n",
    "m = mg.units.Mass(2, \"kg\")\n",
    "h = mg.units.Length(10, \"m\")\n",
    "print(\"The force: {}\".format(m * g))\n",
    "print(\"The potential energy: {}\".format((m * g * h).to(\"J\")))"
   ]
  },
  {
   "cell_type": "markdown",
   "metadata": {},
   "source": [
    "单位一致性检验(unit consistency checks): 无关单位无法进行转换"
   ]
  },
  {
   "cell_type": "code",
   "execution_count": 7,
   "metadata": {},
   "outputs": [
    {
     "data": {
      "text/plain": [
       "2.9592448109429365e-50"
      ]
     },
     "execution_count": 7,
     "metadata": {},
     "output_type": "execute_result"
    }
   ],
   "source": [
    "made_up = mg.units.FloatWithUnit(100, \"Ha^3 bohr^-2\")\n",
    "made_up.to(\"J^3 ang^-2\")"
   ]
  },
  {
   "cell_type": "code",
   "execution_count": 8,
   "metadata": {},
   "outputs": [
    {
     "name": "stdout",
     "output_type": "stream",
     "text": [
      "Units ('kg', 3) and ('kg', 2) are not compatible!\n"
     ]
    }
   ],
   "source": [
    "try:\n",
    "    made_up.to(\"J^2\")\n",
    "except mg.units.UnitError as ex:\n",
    "    print(ex)"
   ]
  },
  {
   "cell_type": "markdown",
   "metadata": {},
   "source": [
    "**LengthArray()**: 单位数组对象"
   ]
  },
  {
   "cell_type": "code",
   "execution_count": 9,
   "metadata": {},
   "outputs": [
    {
     "name": "stdout",
     "output_type": "stream",
     "text": [
      "Speeds are [ 9.09090909 16.66666667 13.04347826] mile h^-1\n"
     ]
    }
   ],
   "source": [
    "dists = mg.units.LengthArray([1, 2, 3], \"mile\")\n",
    "times = mg.units.TimeArray([0.11, 0.12, 0.23], \"h\")\n",
    "print(\"Speeds are {}\".format(dists / times))"
   ]
  }
 ],
 "metadata": {
  "kernelspec": {
   "display_name": "Python 3",
   "language": "python",
   "name": "python3"
  },
  "language_info": {
   "codemirror_mode": {
    "name": "ipython",
    "version": 3
   },
   "file_extension": ".py",
   "mimetype": "text/x-python",
   "name": "python",
   "nbconvert_exporter": "python",
   "pygments_lexer": "ipython3",
   "version": "3.6.5"
  },
  "toc": {
   "base_numbering": "1",
   "nav_menu": {},
   "number_sections": true,
   "sideBar": true,
   "skip_h1_title": true,
   "title_cell": "Table of Contents",
   "title_sidebar": "Contents",
   "toc_cell": false,
   "toc_position": {
    "height": "calc(100% - 180px)",
    "left": "10px",
    "top": "150px",
    "width": "198px"
   },
   "toc_section_display": true,
   "toc_window_display": false
  }
 },
 "nbformat": 4,
 "nbformat_minor": 1
}
