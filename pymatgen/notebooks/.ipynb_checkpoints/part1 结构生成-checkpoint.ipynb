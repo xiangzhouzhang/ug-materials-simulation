{
 "cells": [
  {
   "cell_type": "markdown",
   "metadata": {},
   "source": [
    "# Introduction"
   ]
  },
  {
   "cell_type": "markdown",
   "metadata": {},
   "source": [
    "用于研究和设计碱性超离子导体的数据驱动的第一原理方法:  \n",
    "[Data-Driven First-Principles Methods for the Study and Design of Alkali Superionic Conductors](https://pubs.acs.org/doi/10.1021/acs.chemmater.6b02648)"
   ]
  },
  {
   "cell_type": "code",
   "execution_count": 1,
   "metadata": {},
   "outputs": [],
   "source": [
    "from pymatgen import Structure\n",
    "from pymatgen.symmetry.analyzer import SpacegroupAnalyzer\n",
    "from pymatgen.transformations.advanced_transformations import EnumerateStructureTransformation\n",
    "from pymatgen.io.vasp.sets import batch_write_input, MPRelaxSet"
   ]
  },
  {
   "cell_type": "markdown",
   "metadata": {},
   "source": [
    "# Preparation"
   ]
  },
  {
   "cell_type": "markdown",
   "metadata": {},
   "source": [
    "We will first read in the structure from crystallographic information file (CIF) found in ICSD."
   ]
  },
  {
   "cell_type": "code",
   "execution_count": 2,
   "metadata": {},
   "outputs": [
    {
     "name": "stdout",
     "output_type": "stream",
     "text": [
      "Full Formula (Li26.88 P4 S20 Cl4)\n",
      "Reduced Formula: Li26.88P4S20Cl4\n",
      "abc   :   9.859000   9.859000   9.859000\n",
      "angles:  90.000000  90.000000  90.000000\n",
      "Sites (76)\n",
      "  #  SP               a        b        c\n",
      "---  ---------  -------  -------  -------\n",
      "  0  Li+:0.560  0.3148   0.982    0.3148\n",
      "  1  Li+:0.560  0.982    0.6852   0.6852\n",
      "  2  Li+:0.560  0.6852   0.3148   0.018\n",
      "  3  Li+:0.560  0.3148   0.6852   0.018\n",
      "  4  Li+:0.560  0.982    0.3148   0.3148\n",
      "  5  Li+:0.560  0.6852   0.982    0.6852\n",
      "  6  Li+:0.560  0.3148   0.018    0.6852\n",
      "  7  Li+:0.560  0.6852   0.6852   0.982\n",
      "  8  Li+:0.560  0.3148   0.3148   0.982\n",
      "  9  Li+:0.560  0.6852   0.018    0.3148\n",
      " 10  Li+:0.560  0.018    0.6852   0.3148\n",
      " 11  Li+:0.560  0.018    0.3148   0.6852\n",
      " 12  Li+:0.560  0.3148   0.482    0.8148\n",
      " 13  Li+:0.560  0.982    0.1852   0.1852\n",
      " 14  Li+:0.560  0.6852   0.8148   0.518\n",
      " 15  Li+:0.560  0.3148   0.1852   0.518\n",
      " 16  Li+:0.560  0.982    0.8148   0.8148\n",
      " 17  Li+:0.560  0.6852   0.482    0.1852\n",
      " 18  Li+:0.560  0.3148   0.518    0.1852\n",
      " 19  Li+:0.560  0.6852   0.1852   0.482\n",
      " 20  Li+:0.560  0.3148   0.8148   0.482\n",
      " 21  Li+:0.560  0.6852   0.518    0.8148\n",
      " 22  Li+:0.560  0.018    0.1852   0.8148\n",
      " 23  Li+:0.560  0.018    0.8148   0.1852\n",
      " 24  Li+:0.560  0.8148   0.982    0.8148\n",
      " 25  Li+:0.560  0.482    0.6852   0.1852\n",
      " 26  Li+:0.560  0.1852   0.3148   0.518\n",
      " 27  Li+:0.560  0.8148   0.6852   0.518\n",
      " 28  Li+:0.560  0.482    0.3148   0.8148\n",
      " 29  Li+:0.560  0.1852   0.982    0.1852\n",
      " 30  Li+:0.560  0.8148   0.018    0.1852\n",
      " 31  Li+:0.560  0.1852   0.6852   0.482\n",
      " 32  Li+:0.560  0.8148   0.3148   0.482\n",
      " 33  Li+:0.560  0.1852   0.018    0.8148\n",
      " 34  Li+:0.560  0.518    0.6852   0.8148\n",
      " 35  Li+:0.560  0.518    0.3148   0.1852\n",
      " 36  Li+:0.560  0.8148   0.482    0.3148\n",
      " 37  Li+:0.560  0.482    0.1852   0.6852\n",
      " 38  Li+:0.560  0.1852   0.8148   0.018\n",
      " 39  Li+:0.560  0.8148   0.1852   0.018\n",
      " 40  Li+:0.560  0.482    0.8148   0.3148\n",
      " 41  Li+:0.560  0.1852   0.482    0.6852\n",
      " 42  Li+:0.560  0.8148   0.518    0.6852\n",
      " 43  Li+:0.560  0.1852   0.1852   0.982\n",
      " 44  Li+:0.560  0.8148   0.8148   0.982\n",
      " 45  Li+:0.560  0.1852   0.518    0.3148\n",
      " 46  Li+:0.560  0.518    0.1852   0.3148\n",
      " 47  Li+:0.560  0.518    0.8148   0.6852\n",
      " 48  P5+        0.5      0        0\n",
      " 49  P5+        0        0        0.5\n",
      " 50  P5+        0        0.5      0\n",
      " 51  P5+        0.5      0.5      0.5\n",
      " 52  S2-        0.25     0.75     0.25\n",
      " 53  S2-        0.75     0.75     0.75\n",
      " 54  S2-        0.75     0.25     0.25\n",
      " 55  S2-        0.25     0.25     0.75\n",
      " 56  S2-        0.38053  0.11947  0.11947\n",
      " 57  S2-        0.11947  0.88053  0.61947\n",
      " 58  S2-        0.88053  0.38053  0.88053\n",
      " 59  S2-        0.38053  0.88053  0.88053\n",
      " 60  S2-        0.11947  0.38053  0.11947\n",
      " 61  S2-        0.88053  0.11947  0.61947\n",
      " 62  S2-        0.11947  0.11947  0.38053\n",
      " 63  S2-        0.88053  0.61947  0.11947\n",
      " 64  S2-        0.11947  0.61947  0.88053\n",
      " 65  S2-        0.88053  0.88053  0.38053\n",
      " 66  S2-        0.61947  0.11947  0.88053\n",
      " 67  S2-        0.61947  0.88053  0.11947\n",
      " 68  S2-        0.38053  0.61947  0.61947\n",
      " 69  S2-        0.38053  0.38053  0.38053\n",
      " 70  S2-        0.61947  0.61947  0.38053\n",
      " 71  S2-        0.61947  0.38053  0.61947\n",
      " 72  Cl-        0        0        0\n",
      " 73  Cl-        0        0.5      0.5\n",
      " 74  Cl-        0.5      0        0.5\n",
      " 75  Cl-        0.5      0.5      0\n"
     ]
    }
   ],
   "source": [
    "structure = Structure.from_file(\"aimd_data/EntryWithCollCode418490.cif\")\n",
    "print(structure)"
   ]
  },
  {
   "cell_type": "markdown",
   "metadata": {},
   "source": [
    "From the above, we see that the reported experimental structure has Li disorder. The occupancy of Li is higher than what would be expected for a Li6PS5Cl nominal composition. We will first adjust the composition by setting the Li occupancies to 0.5 to obtain stoichiometric charge-balanced Li6PS5Cl."
   ]
  },
  {
   "cell_type": "code",
   "execution_count": 3,
   "metadata": {},
   "outputs": [
    {
     "name": "stdout",
     "output_type": "stream",
     "text": [
      "The composition after adjustments is Li6PS5Cl.\n"
     ]
    }
   ],
   "source": [
    "# loop over all sites in the structure\n",
    "for i, site in enumerate(structure):\n",
    "    # change the occupancy of Li+ disordered sites to 0.5\n",
    "    if not site.is_ordered:\n",
    "        structure[i] = {\"Li+\": 0.5}\n",
    "print(\"The composition after adjustments is %s.\" % structure.composition.reduced_formula)"
   ]
  },
  {
   "cell_type": "markdown",
   "metadata": {},
   "source": [
    "To keep the number of orderings manageable, we will perform enumeration only on the primitive cell. The primitive cell can be obtained using the *SpacegroupAnalyzer*."
   ]
  },
  {
   "cell_type": "code",
   "execution_count": 4,
   "metadata": {},
   "outputs": [
    {
     "name": "stdout",
     "output_type": "stream",
     "text": [
      "Full Formula (Li6 P1 S5 Cl1)\n",
      "Reduced Formula: Li6PS5Cl\n",
      "abc   :   6.971366   6.971366   6.971366\n",
      "angles:  60.000000  60.000000  60.000000\n",
      "Sites (19)\n",
      "  #  SP               a        b        c\n",
      "---  ---------  -------  -------  -------\n",
      "  0  Li+:0.500  0.6116   0.018    0.018\n",
      "  1  Li+:0.500  0.3524   0.018    0.6116\n",
      "  2  Li+:0.500  0.018    0.018    0.3524\n",
      "  3  Li+:0.500  0.018    0.018    0.6116\n",
      "  4  Li+:0.500  0.6116   0.018    0.3524\n",
      "  5  Li+:0.500  0.3524   0.018    0.018\n",
      "  6  Li+:0.500  0.018    0.3524   0.6116\n",
      "  7  Li+:0.500  0.3524   0.6116   0.018\n",
      "  8  Li+:0.500  0.6116   0.3524   0.018\n",
      "  9  Li+:0.500  0.018    0.6116   0.3524\n",
      " 10  Li+:0.500  0.018    0.6116   0.018\n",
      " 11  Li+:0.500  0.018    0.3524   0.018\n",
      " 12  P5+        0.5      0.5      0.5\n",
      " 13  S2-        0.25     0.25     0.25\n",
      " 14  S2-        0.61947  0.61947  0.14159\n",
      " 15  S2-        0.61947  0.61947  0.61947\n",
      " 16  S2-        0.14159  0.61947  0.61947\n",
      " 17  S2-        0.61947  0.14159  0.61947\n",
      " 18  Cl-        1        0        0\n"
     ]
    }
   ],
   "source": [
    "analyzer = SpacegroupAnalyzer(structure)\n",
    "prim_cell = analyzer.find_primitive()\n",
    "print(prim_cell)"
   ]
  },
  {
   "cell_type": "markdown",
   "metadata": {},
   "source": [
    "# Enumerate structures using enumlib\n",
    "\n",
    "We will use the *EnumerateStructureTransformation* class to enumerate all symmetrically distinct structures. *EnumerateStructureTransformation* is a user-friendly wrapper around enumlib, a fortran library to generate derivative structures written by Hart et al."
   ]
  },
  {
   "cell_type": "code",
   "execution_count": 5,
   "metadata": {},
   "outputs": [
    {
     "ename": "RuntimeError",
     "evalue": "EnumlibAdaptor requires the executables 'enum.x' or 'multienum.x' and 'makestr.x' or 'makeStr.py' to be in the path. Please download the library at http://enum.sourceforge.net/ and follow the instructions in the README to compile these two executables accordingly.",
     "output_type": "error",
     "traceback": [
      "\u001b[1;31m-------\u001b[0m",
      "\u001b[1;31mRuntimeError\u001b[0mTraceback (most recent call last)",
      "\u001b[1;32m<ipython-input-5-76fa544be2da>\u001b[0m in \u001b[0;36m<module>\u001b[1;34m()\u001b[0m\n\u001b[0;32m      1\u001b[0m \u001b[0menum\u001b[0m \u001b[1;33m=\u001b[0m \u001b[0mEnumerateStructureTransformation\u001b[0m\u001b[1;33m(\u001b[0m\u001b[1;33m)\u001b[0m\u001b[1;33m\u001b[0m\u001b[0m\n\u001b[1;32m----> 2\u001b[1;33m \u001b[0menumerated\u001b[0m \u001b[1;33m=\u001b[0m \u001b[0menum\u001b[0m\u001b[1;33m.\u001b[0m\u001b[0mapply_transformation\u001b[0m\u001b[1;33m(\u001b[0m\u001b[0mprim_cell\u001b[0m\u001b[1;33m,\u001b[0m \u001b[1;36m100\u001b[0m\u001b[1;33m)\u001b[0m  \u001b[1;31m# return no more than 100 structures\u001b[0m\u001b[1;33m\u001b[0m\u001b[0m\n\u001b[0m\u001b[0;32m      3\u001b[0m \u001b[0mstructures\u001b[0m \u001b[1;33m=\u001b[0m \u001b[1;33m[\u001b[0m\u001b[0md\u001b[0m\u001b[1;33m[\u001b[0m\u001b[1;34m\"structure\"\u001b[0m\u001b[1;33m]\u001b[0m \u001b[1;32mfor\u001b[0m \u001b[0md\u001b[0m \u001b[1;32min\u001b[0m \u001b[0menumerated\u001b[0m\u001b[1;33m]\u001b[0m\u001b[1;33m\u001b[0m\u001b[0m\n\u001b[0;32m      4\u001b[0m \u001b[0mprint\u001b[0m\u001b[1;33m(\u001b[0m\u001b[1;34m\"%d structures returned.\"\u001b[0m \u001b[1;33m%\u001b[0m \u001b[0mlen\u001b[0m\u001b[1;33m(\u001b[0m\u001b[0mstructures\u001b[0m\u001b[1;33m)\u001b[0m\u001b[1;33m)\u001b[0m\u001b[1;33m\u001b[0m\u001b[0m\n",
      "\u001b[1;32m~\\Anaconda3\\lib\\site-packages\\pymatgen\\transformations\\advanced_transformations.py\u001b[0m in \u001b[0;36mapply_transformation\u001b[1;34m(self, structure, return_ranked_list)\u001b[0m\n\u001b[0;32m    366\u001b[0m                 \u001b[0menum_precision_parameter\u001b[0m\u001b[1;33m=\u001b[0m\u001b[0mself\u001b[0m\u001b[1;33m.\u001b[0m\u001b[0menum_precision_parameter\u001b[0m\u001b[1;33m,\u001b[0m\u001b[1;33m\u001b[0m\u001b[0m\n\u001b[0;32m    367\u001b[0m                 \u001b[0mcheck_ordered_symmetry\u001b[0m\u001b[1;33m=\u001b[0m\u001b[0mself\u001b[0m\u001b[1;33m.\u001b[0m\u001b[0mcheck_ordered_symmetry\u001b[0m\u001b[1;33m,\u001b[0m\u001b[1;33m\u001b[0m\u001b[0m\n\u001b[1;32m--> 368\u001b[1;33m                 timeout=self.timeout)\n\u001b[0m\u001b[0;32m    369\u001b[0m             \u001b[1;32mtry\u001b[0m\u001b[1;33m:\u001b[0m\u001b[1;33m\u001b[0m\u001b[0m\n\u001b[0;32m    370\u001b[0m                 \u001b[0madaptor\u001b[0m\u001b[1;33m.\u001b[0m\u001b[0mrun\u001b[0m\u001b[1;33m(\u001b[0m\u001b[1;33m)\u001b[0m\u001b[1;33m\u001b[0m\u001b[0m\n",
      "\u001b[1;32m~\\Anaconda3\\lib\\site-packages\\monty\\dev.py\u001b[0m in \u001b[0;36mdecorated\u001b[1;34m(*args, **kwargs)\u001b[0m\n\u001b[0;32m     89\u001b[0m         \u001b[1;32mdef\u001b[0m \u001b[0mdecorated\u001b[0m\u001b[1;33m(\u001b[0m\u001b[1;33m*\u001b[0m\u001b[0margs\u001b[0m\u001b[1;33m,\u001b[0m \u001b[1;33m**\u001b[0m\u001b[0mkwargs\u001b[0m\u001b[1;33m)\u001b[0m\u001b[1;33m:\u001b[0m\u001b[1;33m\u001b[0m\u001b[0m\n\u001b[0;32m     90\u001b[0m             \u001b[1;32mif\u001b[0m \u001b[1;32mnot\u001b[0m \u001b[0mself\u001b[0m\u001b[1;33m.\u001b[0m\u001b[0mcondition\u001b[0m\u001b[1;33m:\u001b[0m\u001b[1;33m\u001b[0m\u001b[0m\n\u001b[1;32m---> 91\u001b[1;33m                 \u001b[1;32mraise\u001b[0m \u001b[0mRuntimeError\u001b[0m\u001b[1;33m(\u001b[0m\u001b[0mself\u001b[0m\u001b[1;33m.\u001b[0m\u001b[0mmessage\u001b[0m\u001b[1;33m)\u001b[0m\u001b[1;33m\u001b[0m\u001b[0m\n\u001b[0m\u001b[0;32m     92\u001b[0m             \u001b[1;32mreturn\u001b[0m \u001b[0m_callable\u001b[0m\u001b[1;33m(\u001b[0m\u001b[1;33m*\u001b[0m\u001b[0margs\u001b[0m\u001b[1;33m,\u001b[0m \u001b[1;33m**\u001b[0m\u001b[0mkwargs\u001b[0m\u001b[1;33m)\u001b[0m\u001b[1;33m\u001b[0m\u001b[0m\n\u001b[0;32m     93\u001b[0m \u001b[1;33m\u001b[0m\u001b[0m\n",
      "\u001b[1;31mRuntimeError\u001b[0m: EnumlibAdaptor requires the executables 'enum.x' or 'multienum.x' and 'makestr.x' or 'makeStr.py' to be in the path. Please download the library at http://enum.sourceforge.net/ and follow the instructions in the README to compile these two executables accordingly."
     ]
    }
   ],
   "source": [
    "enum = EnumerateStructureTransformation()\n",
    "enumerated = enum.apply_transformation(prim_cell, 100)  # return no more than 100 structures\n",
    "structures = [d[\"structure\"] for d in enumerated]  \n",
    "print(\"%d structures returned.\" % len(structures))"
   ]
  },
  {
   "cell_type": "markdown",
   "metadata": {},
   "source": [
    "# VASP input generation"
   ]
  },
  {
   "cell_type": "markdown",
   "metadata": {},
   "source": [
    "Pymatgen has useful classes for batch generating VASP input files that use parameters that are compatible with those used in the Materials Project. These parameters have been well-tested over a large database of structures in different chemistries. Using the same parameters also allow the energies computed to be compared with those in the Materials Project database for phase stability and other analyses."
   ]
  },
  {
   "cell_type": "code",
   "execution_count": 6,
   "metadata": {},
   "outputs": [
    {
     "ename": "NameError",
     "evalue": "name 'structures' is not defined",
     "output_type": "error",
     "traceback": [
      "\u001b[1;31m-------\u001b[0m",
      "\u001b[1;31mNameError\u001b[0mTraceback (most recent call last)",
      "\u001b[1;32m<ipython-input-6-b5272d407d60>\u001b[0m in \u001b[0;36m<module>\u001b[1;34m()\u001b[0m\n\u001b[1;32m----> 1\u001b[1;33m \u001b[0mbatch_write_input\u001b[0m\u001b[1;33m(\u001b[0m\u001b[0mstructures\u001b[0m\u001b[1;33m,\u001b[0m \u001b[0mvasp_input_set\u001b[0m\u001b[1;33m=\u001b[0m\u001b[0mMPRelaxSet\u001b[0m\u001b[1;33m,\u001b[0m \u001b[0moutput_dir\u001b[0m\u001b[1;33m=\u001b[0m\u001b[1;34m\"Li6PS5Cl_orderings\"\u001b[0m\u001b[1;33m)\u001b[0m\u001b[1;33m\u001b[0m\u001b[0m\n\u001b[0m",
      "\u001b[1;31mNameError\u001b[0m: name 'structures' is not defined"
     ]
    }
   ],
   "source": [
    "batch_write_input(structures, vasp_input_set=MPRelaxSet, output_dir=\"Li6PS5Cl_orderings\")"
   ]
  },
  {
   "cell_type": "code",
   "execution_count": null,
   "metadata": {},
   "outputs": [],
   "source": []
  }
 ],
 "metadata": {
  "kernelspec": {
   "display_name": "Python 3",
   "language": "python",
   "name": "python3"
  },
  "language_info": {
   "codemirror_mode": {
    "name": "ipython",
    "version": 3
   },
   "file_extension": ".py",
   "mimetype": "text/x-python",
   "name": "python",
   "nbconvert_exporter": "python",
   "pygments_lexer": "ipython3",
   "version": "3.6.5"
  },
  "toc": {
   "base_numbering": 1,
   "nav_menu": {},
   "number_sections": true,
   "sideBar": true,
   "skip_h1_title": false,
   "title_cell": "Table of Contents",
   "title_sidebar": "Contents",
   "toc_cell": false,
   "toc_position": {},
   "toc_section_display": true,
   "toc_window_display": false
  }
 },
 "nbformat": 4,
 "nbformat_minor": 1
}
