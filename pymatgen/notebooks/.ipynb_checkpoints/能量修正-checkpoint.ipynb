{
 "cells": [
  {
   "cell_type": "markdown",
   "metadata": {},
   "source": [
    "MP想要统一所有结构的计算标准么?  \n",
    "当用户上传数据之后, Mp根据自己的计算标准, 给其添加一个相对的能量修正项;"
   ]
  },
  {
   "cell_type": "code",
   "execution_count": 1,
   "metadata": {},
   "outputs": [],
   "source": [
    "import re\n",
    "from pymatgen.entries.computed_entries import ComputedEntry\n",
    "from pymatgen.entries.compatibility import MaterialsProjectCompatibility\n",
    "from pymatgen import MPRester"
   ]
  },
  {
   "cell_type": "code",
   "execution_count": 2,
   "metadata": {},
   "outputs": [],
   "source": [
    "m = MPRester()\n",
    "entries = m.get_entries(\"LiFePO4\")\n",
    "entry = entries[0]"
   ]
  },
  {
   "cell_type": "code",
   "execution_count": 3,
   "metadata": {
    "scrolled": false
   },
   "outputs": [
    {
     "name": "stdout",
     "output_type": "stream",
     "text": [
      "ComputedEntry mp-772301 - Li2 Fe2 P2 O8\n",
      "Energy = -94.3929\n",
      "Correction = -11.0843\n",
      "Parameters:\n",
      "run_type = GGA+U\n",
      "is_hubbard = True\n",
      "pseudo_potential = {'functional': 'PBE', 'labels': ['Li_sv', 'Fe_pv', 'P', 'O'], 'pot_type': 'paw'}\n",
      "hubbards = {'Li': 0.0, 'Fe': 5.3, 'P': 0.0, 'O': 0.0}\n",
      "potcar_symbols = ['PBE Li_sv', 'PBE Fe_pv', 'PBE P', 'PBE O']\n",
      "oxide_type = oxide\n",
      "Data:\n",
      "oxide_type = oxide\n"
     ]
    }
   ],
   "source": [
    "print(entry)"
   ]
  },
  {
   "cell_type": "code",
   "execution_count": 4,
   "metadata": {},
   "outputs": [
    {
     "name": "stdout",
     "output_type": "stream",
     "text": [
      " energy   correction  final_energy\n",
      "--------  ----------  ------------\n",
      "-94.3929  -11.0843    -105.4772   \n"
     ]
    }
   ],
   "source": [
    "energy = -94.3929\n",
    "correction = -11.0843\n",
    "final_energy = energy + correction\n",
    "%C energy; correction; final_energy"
   ]
  },
  {
   "cell_type": "code",
   "execution_count": 5,
   "metadata": {},
   "outputs": [],
   "source": [
    "compat = MaterialsProjectCompatibility()"
   ]
  },
  {
   "cell_type": "code",
   "execution_count": 6,
   "metadata": {},
   "outputs": [
    {
     "name": "stdout",
     "output_type": "stream",
     "text": [
      "The uncorrected value of the energy of Li2 Fe2 P2 O8 is -94.392873 eV\n",
      "The following corrections / screening are applied for MaterialsProjectCompatibility:\n",
      "\n",
      "MPRelaxSet Potcar Correction correction: Checks that POTCARs are valid within a pre-defined input set. This\n",
      "    ensures that calculations performed using different InputSets are not\n",
      "    compared against each other.\n",
      "\n",
      "    Entry.parameters must contain a \"potcar_symbols\" key that is a list of\n",
      "    all POTCARs used in the run. Again, using the example of an Fe2O3 run\n",
      "    using Materials Project parameters, this would look like\n",
      "    entry.parameters[\"potcar_symbols\"] = ['PAW_PBE Fe_pv 06Sep2000',\n",
      "    'PAW_PBE O 08Apr2002'].\n",
      "\n",
      "For the entry, this correction has the value 0.000000 eV.\n",
      "------------------------------\n",
      "MP Gas Correction correction: Correct gas energies to obtain the right formation energies. Note that\n",
      "    this depends on calculations being run within the same input set.\n",
      "\n",
      "For the entry, this correction has the value 0.000000 eV.\n",
      "------------------------------\n",
      "MP Anion Correction correction: Correct anion energies to obtain the right formation energies. Note that\n",
      "    this depends on calculations being run within the same input set.\n",
      "\n",
      "For the entry, this correction has the value -5.618320 eV.\n",
      "------------------------------\n",
      "MP Advanced Correction correction: This class implements the GGA/GGA+U mixing scheme, which allows mixing of\n",
      "    entries. Entry.parameters must contain a \"hubbards\" key which is a dict\n",
      "    of all non-zero Hubbard U values used in the calculation. For example,\n",
      "    if you ran a Fe2O3 calculation with Materials Project parameters,\n",
      "    this would look like entry.parameters[\"hubbards\"] = {\"Fe\": 5.3}\n",
      "    If the \"hubbards\" key is missing, a GGA run is assumed.\n",
      "\n",
      "    It should be noted that ComputedEntries assimilated using the\n",
      "    pymatgen.apps.borg package and obtained via the MaterialsProject REST\n",
      "    interface using the pymatgen.matproj.rest package will automatically have\n",
      "    these fields populated.\n",
      "\n",
      "For the entry, this correction has the value -5.466000 eV.\n",
      "------------------------------\n",
      "The final energy after corrections is -105.477193\n"
     ]
    }
   ],
   "source": [
    "compat.explain(entry)  #`--`是与下一段数据的分界线"
   ]
  }
 ],
 "metadata": {
  "kernelspec": {
   "display_name": "Python 3",
   "language": "python",
   "name": "python3"
  },
  "language_info": {
   "codemirror_mode": {
    "name": "ipython",
    "version": 3
   },
   "file_extension": ".py",
   "mimetype": "text/x-python",
   "name": "python",
   "nbconvert_exporter": "python",
   "pygments_lexer": "ipython3",
   "version": "3.6.5"
  },
  "toc": {
   "base_numbering": 1,
   "nav_menu": {},
   "number_sections": true,
   "sideBar": true,
   "skip_h1_title": false,
   "title_cell": "Table of Contents",
   "title_sidebar": "Contents",
   "toc_cell": false,
   "toc_position": {},
   "toc_section_display": true,
   "toc_window_display": false
  }
 },
 "nbformat": 4,
 "nbformat_minor": 1
}
