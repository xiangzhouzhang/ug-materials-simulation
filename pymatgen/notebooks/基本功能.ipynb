{
 "cells": [
  {
   "cell_type": "code",
   "execution_count": 1,
   "metadata": {},
   "outputs": [
    {
     "data": {
      "text/plain": [
       "'%.3f'"
      ]
     },
     "execution_count": 1,
     "metadata": {},
     "output_type": "execute_result"
    }
   ],
   "source": [
    "%matplotlib inline\n",
    "%precision 3"
   ]
  },
  {
   "cell_type": "markdown",
   "metadata": {},
   "source": [
    "## 元素(Element), 物种(Specie), 和成分对象(Composition objects)"
   ]
  },
  {
   "cell_type": "markdown",
   "metadata": {},
   "source": [
    "创建一个元素对象, 然后观察元素对象的属性;"
   ]
  },
  {
   "cell_type": "code",
   "execution_count": 2,
   "metadata": {},
   "outputs": [
    {
     "name": "stdout",
     "output_type": "stream",
     "text": [
      "    type(si)      si.atomic_mass  si.melting_point  si.ionic_radii\n",
      "----------------  --------------  ----------------  --------------\n",
      "<enum 'Element'>  28.0855         1687.0            {4: 0.54}     \n",
      "\n"
     ]
    }
   ],
   "source": [
    "si = mg.Element(\"Si\")\n",
    "%C type(si); si.atomic_mass; si.melting_point; si.ionic_radii"
   ]
  },
  {
   "cell_type": "markdown",
   "metadata": {},
   "source": [
    "`单位对象`是由float类型的子类, 在float类型的基础上增添了单位和转换操作;  \n",
    "mg.core.unit模块定义了关于单位处理的操作;"
   ]
  },
  {
   "cell_type": "code",
   "execution_count": 3,
   "metadata": {},
   "outputs": [
    {
     "name": "stdout",
     "output_type": "stream",
     "text": [
      "Atomic mass of Si in kg: 4.6637069207919995e-26 kg\n"
     ]
    }
   ],
   "source": [
    "print(\"Atomic mass of Si in kg: {}\".format(si.atomic_mass.to(\"kg\")))"
   ]
  },
  {
   "cell_type": "markdown",
   "metadata": {},
   "source": [
    "物种对象类似于元素对象, 只不过明确指定了元素的氧化态, 一般情况下, 元素对象的位置完全可由物种对象替代;"
   ]
  },
  {
   "cell_type": "code",
   "execution_count": 4,
   "metadata": {},
   "outputs": [
    {
     "name": "stdout",
     "output_type": "stream",
     "text": [
      "fe2.atomic_mass  fe2.ionic_radius\n",
      "---------------  ----------------\n",
      "55.845           0.92            \n",
      "\n"
     ]
    }
   ],
   "source": [
    "fe2 = mg.Specie(\"Fe\", 2)\n",
    "%C fe2.atomic_mass; fe2.ionic_radius"
   ]
  },
  {
   "cell_type": "markdown",
   "metadata": {},
   "source": [
    "成分对象基本上是一个不可变(immutable)的映射, 反映了元素/物种与其数量之间的对应关系;"
   ]
  },
  {
   "cell_type": "code",
   "execution_count": 5,
   "metadata": {},
   "outputs": [
    {
     "name": "stdout",
     "output_type": "stream",
     "text": [
      "comp.weight  comp[\"Fe\"]  comp.get_atomic_fraction(\"Fe\")  comp.get_wt_fraction(\"Fe\")\n",
      "-----------  ----------  ------------------------------  --------------------------\n",
      "159.6882     2.0         0.4                             0.699425505453753         \n",
      "\n"
     ]
    }
   ],
   "source": [
    "comp = mg.Composition(\"Fe2O3\")\n",
    "%C comp.weight; comp[\"Fe\"]; comp.get_atomic_fraction(\"Fe\"); comp.get_wt_fraction(\"Fe\")"
   ]
  },
  {
   "cell_type": "markdown",
   "metadata": {},
   "source": [
    "## 晶格(Lattice) 和结构对象(Structure objects)"
   ]
  },
  {
   "cell_type": "markdown",
   "metadata": {},
   "source": [
    "以合适的晶格参数定义布拉维格子;"
   ]
  },
  {
   "cell_type": "code",
   "execution_count": 6,
   "metadata": {},
   "outputs": [
    {
     "data": {
      "text/plain": [
       "((4.2, 4.2, 4.2), (90.0, 90.0, 90.0))"
      ]
     },
     "execution_count": 6,
     "metadata": {},
     "output_type": "execute_result"
    }
   ],
   "source": [
    "# Creates cubic Lattice with lattice parameter 4.2\n",
    "lattice = mg.Lattice.cubic(4.2)\n",
    "lattice.lengths_and_angles"
   ]
  },
  {
   "cell_type": "markdown",
   "metadata": {},
   "source": [
    "结构对象是晶格对象和基本对象的组合形式(lattice+basis), 可认为是位于一个晶格上的一系列周期位点; "
   ]
  },
  {
   "cell_type": "code",
   "execution_count": 7,
   "metadata": {},
   "outputs": [
    {
     "name": "stdout",
     "output_type": "stream",
     "text": [
      " structure.volume                             structure[0]                           \n",
      "-----------------  ------------------------------------------------------------------\n",
      "74.08800000000001  PeriodicSite: Cs (0.0000, 0.0000, 0.0000) [0.0000, 0.0000, 0.0000]\n",
      "\n"
     ]
    }
   ],
   "source": [
    "# Let us now create a CsCl structure.\n",
    "structure = mg.Structure(lattice, [\"Cs\", \"Cl\"], [[0, 0, 0], [0.5, 0.5, 0.5]])\n",
    "%C structure.volume; structure[0] \n",
    "# Unit cell vol;     First site of the structure"
   ]
  },
  {
   "cell_type": "markdown",
   "metadata": {},
   "source": [
    "结构对象的方法: 一部分来自于列表的继承, 一部分来自于自定义;  \n",
    "束缚结构(IStructure): 在迭代计算固定结构的局部位置;  \n",
    "from_sites()可以实现结构与束缚结构之间的转换;"
   ]
  },
  {
   "cell_type": "code",
   "execution_count": 8,
   "metadata": {},
   "outputs": [
    {
     "name": "stdout",
     "output_type": "stream",
     "text": [
      "Full Formula (Cs1 Cl1)\n",
      "Reduced Formula: CsCl\n",
      "abc   :   4.200000   4.200000   4.200000\n",
      "angles:  90.000000  90.000000  90.000000\n",
      "Sites (2)\n",
      "  #  SP      a    b    c\n",
      "---  ----  ---  ---  ---\n",
      "  0  Cs    0    0    0\n",
      "  1  Cl    0.5  0.5  0.5\n"
     ]
    }
   ],
   "source": [
    "print(structure)"
   ]
  },
  {
   "cell_type": "code",
   "execution_count": 9,
   "metadata": {},
   "outputs": [
    {
     "name": "stdout",
     "output_type": "stream",
     "text": [
      "Full Formula (Cs4 Cl4)\n",
      "Reduced Formula: CsCl\n",
      "abc   :   8.400000   8.400000   4.200000\n",
      "angles:  90.000000  90.000000  90.000000\n",
      "Sites (8)\n",
      "  #  SP       a     b    c\n",
      "---  ----  ----  ----  ---\n",
      "  0  Cs    0     0     0\n",
      "  1  Cs    0     0.5   0\n",
      "  2  Cs    0.5   0     0\n",
      "  3  Cs    0.5   0.5   0\n",
      "  4  Cl    0.25  0.25  0.5\n",
      "  5  Cl    0.25  0.75  0.5\n",
      "  6  Cl    0.75  0.25  0.5\n",
      "  7  Cl    0.75  0.75  0.5\n"
     ]
    }
   ],
   "source": [
    "structure.make_supercell([2, 2, 1]) #将结构变为超胞\n",
    "print(structure)"
   ]
  },
  {
   "cell_type": "code",
   "execution_count": 10,
   "metadata": {},
   "outputs": [],
   "source": [
    "#除去结构的第一个位点\n",
    "del structure[0] "
   ]
  },
  {
   "cell_type": "code",
   "execution_count": 11,
   "metadata": {},
   "outputs": [
    {
     "name": "stdout",
     "output_type": "stream",
     "text": [
      "Full Formula (Cs3 Cl4)\n",
      "Reduced Formula: Cs3Cl4\n",
      "abc   :   8.400000   8.400000   4.200000\n",
      "angles:  90.000000  90.000000  90.000000\n",
      "Sites (7)\n",
      "  #  SP       a     b    c\n",
      "---  ----  ----  ----  ---\n",
      "  0  Cs    0     0.5   0\n",
      "  1  Cs    0.5   0     0\n",
      "  2  Cs    0.5   0.5   0\n",
      "  3  Cl    0.25  0.25  0.5\n",
      "  4  Cl    0.25  0.75  0.5\n",
      "  5  Cl    0.75  0.25  0.5\n",
      "  6  Cl    0.75  0.75  0.5\n"
     ]
    }
   ],
   "source": [
    "print(structure)"
   ]
  },
  {
   "cell_type": "code",
   "execution_count": 12,
   "metadata": {},
   "outputs": [
    {
     "name": "stdout",
     "output_type": "stream",
     "text": [
      "Full Formula (Cs3 Na1 Cl4)\n",
      "Reduced Formula: Cs3NaCl4\n",
      "abc   :   8.400000   8.400000   4.200000\n",
      "angles:  90.000000  90.000000  90.000000\n",
      "Sites (8)\n",
      "  #  SP       a     b    c\n",
      "---  ----  ----  ----  ---\n",
      "  0  Cs    0     0.5   0\n",
      "  1  Cs    0.5   0     0\n",
      "  2  Cs    0.5   0.5   0\n",
      "  3  Cl    0.25  0.25  0.5\n",
      "  4  Cl    0.25  0.75  0.5\n",
      "  5  Cl    0.75  0.25  0.5\n",
      "  6  Cl    0.75  0.75  0.5\n",
      "  7  Na    0     0     0\n"
     ]
    }
   ],
   "source": [
    "#在结构中添加一个Na原子\n",
    "structure.append(\"Na\", [0,0,0])\n",
    "print(structure)"
   ]
  },
  {
   "cell_type": "code",
   "execution_count": 13,
   "metadata": {},
   "outputs": [
    {
     "name": "stdout",
     "output_type": "stream",
     "text": [
      "Full Formula (Cs3 Li1 Cl4)\n",
      "Reduced Formula: Cs3LiCl4\n",
      "abc   :   8.400000   8.400000   4.200000\n",
      "angles:  90.000000  90.000000  90.000000\n",
      "Sites (8)\n",
      "  #  SP       a     b    c\n",
      "---  ----  ----  ----  ---\n",
      "  0  Cs    0     0.5   0\n",
      "  1  Cs    0.5   0     0\n",
      "  2  Cs    0.5   0.5   0\n",
      "  3  Cl    0.25  0.25  0.5\n",
      "  4  Cl    0.25  0.75  0.5\n",
      "  5  Cl    0.75  0.25  0.5\n",
      "  6  Cl    0.75  0.75  0.5\n",
      "  7  Li    0     0     0\n"
     ]
    }
   ],
   "source": [
    "# 将最后一个元素变为Li\n",
    "structure[-1] = \"Li\" \n",
    "print(structure)"
   ]
  },
  {
   "cell_type": "code",
   "execution_count": 14,
   "metadata": {},
   "outputs": [
    {
     "data": {
      "text/plain": [
       "Structure Summary\n",
       "Lattice\n",
       "    abc : 8.4 8.4 4.2\n",
       " angles : 90.0 90.0 90.0\n",
       " volume : 296.35200000000003\n",
       "      A : 8.4 0.0 0.0\n",
       "      B : 0.0 8.4 0.0\n",
       "      C : 0.0 0.0 4.2\n",
       "PeriodicSite: Cs (0.0840, 4.2000, 0.0000) [0.0100, 0.5000, 0.0000]\n",
       "PeriodicSite: Cs (4.2000, 0.0000, 0.0000) [0.5000, 0.0000, 0.0000]\n",
       "PeriodicSite: Cs (4.2000, 4.2000, 0.0000) [0.5000, 0.5000, 0.0000]\n",
       "PeriodicSite: Cl (2.1000, 2.1000, 2.1000) [0.2500, 0.2500, 0.5000]\n",
       "PeriodicSite: Cl (2.1000, 6.3000, 2.1000) [0.2500, 0.7500, 0.5000]\n",
       "PeriodicSite: Cl (6.3000, 2.1000, 2.1000) [0.7500, 0.2500, 0.5000]\n",
       "PeriodicSite: Cl (6.3000, 6.3000, 2.1000) [0.7500, 0.7500, 0.5000]\n",
       "PeriodicSite: Li (0.0000, 0.0000, 0.0000) [0.0000, 0.0000, 0.0000]"
      ]
     },
     "execution_count": 14,
     "metadata": {},
     "output_type": "execute_result"
    }
   ],
   "source": [
    "#在分数坐标下, 将第一个元素在x轴上移动0.01距离\n",
    "structure[0] = \"Cs\", [0.01, 0.5, 0] \n",
    "structure"
   ]
  },
  {
   "cell_type": "code",
   "execution_count": 15,
   "metadata": {},
   "outputs": [
    {
     "name": "stdout",
     "output_type": "stream",
     "text": [
      "Full Formula (Cs3 Li1 Cl4)\n",
      "Reduced Formula: Cs3LiCl4\n",
      "abc   :   8.400000   8.400000   4.200000\n",
      "angles:  90.000000  90.000000  90.000000\n",
      "Sites (8)\n",
      "  #  SP       a     b    c\n",
      "---  ----  ----  ----  ---\n",
      "  0  Cs    0.01  0.5   0\n",
      "  1  Cs    0.5   0     0\n",
      "  2  Cs    0.5   0.5   0\n",
      "  3  Cl    0.25  0.25  0.5\n",
      "  4  Cl    0.25  0.75  0.5\n",
      "  5  Cl    0.75  0.25  0.5\n",
      "  6  Cl    0.75  0.75  0.5\n",
      "  7  Li    0     0     0\n"
     ]
    }
   ],
   "source": [
    "#从可变结构创建一个不可变结构\n",
    "immutable_structure = mg.IStructure.from_sites(structure) \n",
    "print(immutable_structure)"
   ]
  },
  {
   "cell_type": "markdown",
   "metadata": {},
   "source": [
    "## Basic analyses"
   ]
  },
  {
   "cell_type": "markdown",
   "metadata": {},
   "source": [
    "结构分析函数"
   ]
  },
  {
   "cell_type": "code",
   "execution_count": 16,
   "metadata": {},
   "outputs": [
    {
     "data": {
      "text/plain": [
       "'Pmm2'"
      ]
     },
     "execution_count": 16,
     "metadata": {},
     "output_type": "execute_result"
    }
   ],
   "source": [
    "# 检测对称性\n",
    "from pymatgen.symmetry.analyzer import SpacegroupAnalyzer\n",
    "finder = SpacegroupAnalyzer(structure)\n",
    "finder.get_space_group_symbol()"
   ]
  },
  {
   "cell_type": "markdown",
   "metadata": {},
   "source": [
    "强大的结构匹配工具"
   ]
  },
  {
   "cell_type": "code",
   "execution_count": 17,
   "metadata": {},
   "outputs": [
    {
     "name": "stdout",
     "output_type": "stream",
     "text": [
      "True\n"
     ]
    }
   ],
   "source": [
    "from pymatgen.analysis.structure_matcher import StructureMatcher\n",
    "#创 建两个具有相似拓普性的结构, 但是其中一个结构的晶格比另一个结构的大;\n",
    "s1 = mg.Structure(lattice, [\"Cs\", \"Cl\"], [[0, 0, 0], [0.5, 0.5, 0.5]])\n",
    "s2 = mg.Structure(mg.Lattice.cubic(5), [\"Rb\", \"F\"], [[0, 0, 0], [0.5, 0.5, 0.5]])\n",
    "m = StructureMatcher()\n",
    "#返回一个mapping \n",
    "print(m.fit_anonymous(s1, s2)) "
   ]
  },
  {
   "cell_type": "markdown",
   "metadata": {},
   "source": [
    "## Input/output"
   ]
  },
  {
   "cell_type": "markdown",
   "metadata": {},
   "source": [
    "对各种文件格式进行IO支持: pymatgen.io package, **read_structure()**和**write_structure()**;"
   ]
  },
  {
   "cell_type": "code",
   "execution_count": 18,
   "metadata": {},
   "outputs": [
    {
     "name": "stdout",
     "output_type": "stream",
     "text": [
      "Cs3 Li1 Cl4\n",
      "1.0\n",
      "8.400000 0.000000 0.000000\n",
      "0.000000 8.400000 0.000000\n",
      "0.000000 0.000000 4.200000\n",
      "Cs Cl Li\n",
      "3 4 1\n",
      "direct\n",
      "0.010000 0.500000 0.000000 Cs\n",
      "0.500000 0.000000 0.000000 Cs\n",
      "0.500000 0.500000 0.000000 Cs\n",
      "0.250000 0.250000 0.500000 Cl\n",
      "0.250000 0.750000 0.500000 Cl\n",
      "0.750000 0.250000 0.500000 Cl\n",
      "0.750000 0.750000 0.500000 Cl\n",
      "0.000000 0.000000 0.000000 Li\n",
      "\n"
     ]
    }
   ],
   "source": [
    "# 函数可以自动检测常用的文件格式然后进行转换;\n",
    "structure.to(filename=\"br_data/POSCAR\")\n",
    "structure.to(filename=\"br_data/CsCl.cif\")\n",
    "# 如果只提供fmt参数而不提供filename参数, 将返回一个格式字符串;\n",
    "print(structure.to(fmt=\"poscar\"))\n",
    "# print(structure.to(fmt=\"cif\"))"
   ]
  },
  {
   "cell_type": "code",
   "execution_count": 19,
   "metadata": {},
   "outputs": [],
   "source": [
    "#在文件中读取结构\n",
    "structure = mg.Structure.from_file(\"br_data/POSCAR\")"
   ]
  },
  {
   "cell_type": "markdown",
   "metadata": {},
   "source": [
    "pymatgen可用于处理vasp数据: 为结构创建一个完整的vasp输入文件集"
   ]
  },
  {
   "cell_type": "code",
   "execution_count": 23,
   "metadata": {},
   "outputs": [],
   "source": [
    "%%pass \n",
    "from pymatgen.io.vasp.sets import MPRelaxSet\n",
    "v = MPRelaxSet(structure)\n",
    "v.write_input(\"br/MyInputFiles\") "
   ]
  },
  {
   "cell_type": "markdown",
   "metadata": {},
   "source": [
    "No POTCAR for Cs_sv with functional PBE found. Please set the PMG_VASP_PSP_DIR environment in .pmgrc.yaml, or you may need to set PMG_DEFAULT_FUNCTIONAL to PBE_52 or PBE_54 if you are using newer psps from VASP."
   ]
  }
 ],
 "metadata": {
  "anaconda-cloud": {},
  "kernelspec": {
   "display_name": "Python 3",
   "language": "python",
   "name": "python3"
  },
  "language_info": {
   "codemirror_mode": {
    "name": "ipython",
    "version": 3
   },
   "file_extension": ".py",
   "mimetype": "text/x-python",
   "name": "python",
   "nbconvert_exporter": "python",
   "pygments_lexer": "ipython3",
   "version": "3.6.5"
  },
  "toc": {
   "base_numbering": 1,
   "nav_menu": {},
   "number_sections": true,
   "sideBar": true,
   "skip_h1_title": false,
   "title_cell": "Table of Contents",
   "title_sidebar": "Contents",
   "toc_cell": false,
   "toc_position": {
    "height": "calc(100% - 180px)",
    "left": "10px",
    "top": "150px",
    "width": "198px"
   },
   "toc_section_display": true,
   "toc_window_display": false
  }
 },
 "nbformat": 4,
 "nbformat_minor": 1
}
