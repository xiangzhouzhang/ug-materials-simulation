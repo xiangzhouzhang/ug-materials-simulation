{
 "cells": [
  {
   "cell_type": "markdown",
   "metadata": {},
   "source": [
    "读取开放数据库中的文件:    \n",
    "**the Materials Project** (MP) 和 **the Crystallographic Open Database** (COD);  \n",
    "ICSD是非开放数据库(the Inorganic Crystal Structure Database);"
   ]
  },
  {
   "cell_type": "markdown",
   "metadata": {},
   "source": [
    "# Materials Project"
   ]
  },
  {
   "cell_type": "markdown",
   "metadata": {},
   "source": [
    "通过Pymatgen获取MP中的晶体结构:  \n",
    "* 修改配置文件中的变量(`.pmgrc.yaml`): \"PMG_MAPI_KEY\" = 'user-key';\n",
    "* 每次调用MPRester时添加APIkey参数;\n"
   ]
  },
  {
   "cell_type": "code",
   "execution_count": 1,
   "metadata": {},
   "outputs": [],
   "source": [
    "from pymatgen.ext.matproj import MPRester\n",
    "mpr = MPRester() "
   ]
  },
  {
   "cell_type": "code",
   "execution_count": 2,
   "metadata": {},
   "outputs": [],
   "source": [
    "# 通过化学式获取结构\n",
    "structures = mpr.get_structures(\"Li2O\")"
   ]
  },
  {
   "cell_type": "code",
   "execution_count": 3,
   "metadata": {
    "scrolled": true
   },
   "outputs": [
    {
     "name": "stdout",
     "output_type": "stream",
     "text": [
      "Full Formula (Li2 O1)\n",
      "Reduced Formula: Li2O\n",
      "abc   :   3.291072   3.291072   3.291072\n",
      "angles:  60.129710  60.129710  60.129703\n",
      "Sites (3)\n",
      "  #  SP           a         b         c    magmom\n",
      "---  ----  --------  --------  --------  --------\n",
      "  0  O     0         0         0                0\n",
      "  1  Li    0.750178  0.750178  0.750178         0\n",
      "  2  Li    0.249822  0.249822  0.249822         0\n"
     ]
    }
   ],
   "source": [
    "print(structures[1])"
   ]
  },
  {
   "cell_type": "code",
   "execution_count": 4,
   "metadata": {},
   "outputs": [
    {
     "name": "stdout",
     "output_type": "stream",
     "text": [
      "Li2 O2  |Li4 O4  |Li8 O4  |Li16 O16|Li2 O1  |Li2 O4  |Li1 O3  |Li1 O2  |Li1 O2  |Li2 O4  |\n"
     ]
    }
   ],
   "source": [
    "# 获取所有的Li-O化合物\n",
    "structures = mpr.get_structures(\"Li-O\")\n",
    "# 获取,每个条目的化学式\n",
    "%col 11 [s.formula for s in structures]"
   ]
  },
  {
   "cell_type": "markdown",
   "metadata": {},
   "source": [
    "# COD"
   ]
  },
  {
   "cell_type": "markdown",
   "metadata": {},
   "source": [
    "## COD简介"
   ]
  },
  {
   "cell_type": "markdown",
   "metadata": {},
   "source": [
    " direct access to the COD SQL server and issuing SQL queries directly"
   ]
  },
  {
   "cell_type": "markdown",
   "metadata": {},
   "source": [
    "COD wiki: http://wiki.crystallography.net/;    \n",
    "How to query the COD database: http://wiki.crystallography.net/howtoquerycod/; "
   ]
  },
  {
   "cell_type": "markdown",
   "metadata": {},
   "source": [
    "## pymatgen从COD获取结构"
   ]
  },
  {
   "cell_type": "markdown",
   "metadata": {},
   "source": [
    "### COD简介"
   ]
  },
  {
   "cell_type": "markdown",
   "metadata": {},
   "source": [
    "COD:http://www.crystallography.net/cod/;    \n",
    "COD wiki: http://wiki.crystallography.net/;"
   ]
  },
  {
   "cell_type": "markdown",
   "metadata": {},
   "source": [
    "### 简单搜索, 通过cod-id获取结构"
   ]
  },
  {
   "cell_type": "code",
   "execution_count": 5,
   "metadata": {},
   "outputs": [],
   "source": [
    "from pymatgen.ext.cod import COD\n",
    "cod = COD()"
   ]
  },
  {
   "cell_type": "markdown",
   "metadata": {},
   "source": [
    "COD对象只有四个方法:    \n",
    "**get_cod_ids(formula)**: 需要mysql;   \n",
    "**get_structure_by_formula(formula)**: 需要mysql:    \n",
    "**get_structure_by_id(cod_id)**:不需要mysql;     \n",
    "**query(sql)**: 需要mysql;"
   ]
  },
  {
   "cell_type": "code",
   "execution_count": 6,
   "metadata": {},
   "outputs": [
    {
     "name": "stdout",
     "output_type": "stream",
     "text": [
      "Full Formula (Li8 O4)\n",
      "Reduced Formula: Li2O\n",
      "abc   :   4.610000   4.610000   4.610000\n",
      "angles:  90.000000  90.000000  90.000000\n",
      "Sites (12)\n",
      "  #  SP       a     b     c\n",
      "---  ----  ----  ----  ----\n",
      "  0  Li+   0.25  0.25  0.25\n",
      "  1  Li+   0.25  0.75  0.75\n",
      "  2  Li+   0.75  0.25  0.75\n",
      "  3  Li+   0.75  0.75  0.25\n",
      "  4  Li+   0.75  0.75  0.75\n",
      "  5  Li+   0.75  0.25  0.25\n",
      "  6  Li+   0.25  0.75  0.25\n",
      "  7  Li+   0.25  0.25  0.75\n",
      "  8  O2-   0     0     0\n",
      "  9  O2-   0     0.5   0.5\n",
      " 10  O2-   0.5   0     0.5\n",
      " 11  O2-   0.5   0.5   0\n"
     ]
    }
   ],
   "source": [
    "structure = cod.get_structure_by_id(1010064)\n",
    "print(structure)"
   ]
  },
  {
   "cell_type": "markdown",
   "metadata": {},
   "source": [
    "### 复杂搜索: 需要配合MySQL"
   ]
  },
  {
   "cell_type": "code",
   "execution_count": 7,
   "metadata": {},
   "outputs": [
    {
     "ename": "RuntimeError",
     "evalue": "mysql must be installed to use this query.",
     "output_type": "error",
     "traceback": [
      "\u001b[1;31m-------\u001b[0m",
      "\u001b[1;31mRuntimeError\u001b[0mTraceback (most recent call last)",
      "\u001b[1;32m<ipython-input-7-c215dd5a7639>\u001b[0m in \u001b[0;36m<module>\u001b[1;34m()\u001b[0m\n\u001b[0;32m      1\u001b[0m \u001b[1;31m# mysql must be installed to use this query\u001b[0m\u001b[1;33m\u001b[0m\u001b[1;33m\u001b[0m\u001b[0m\n\u001b[1;32m----> 2\u001b[1;33m \u001b[0mstructures\u001b[0m \u001b[1;33m=\u001b[0m \u001b[0mcod\u001b[0m\u001b[1;33m.\u001b[0m\u001b[0mget_structure_by_formula\u001b[0m\u001b[1;33m(\u001b[0m\u001b[1;34m\"Li2O\"\u001b[0m\u001b[1;33m)\u001b[0m\u001b[1;33m\u001b[0m\u001b[0m\n\u001b[0m\u001b[0;32m      3\u001b[0m \u001b[1;32mfor\u001b[0m \u001b[0md\u001b[0m \u001b[1;32min\u001b[0m \u001b[0mstructures\u001b[0m\u001b[1;33m:\u001b[0m\u001b[1;33m\u001b[0m\u001b[0m\n\u001b[0;32m      4\u001b[0m     \u001b[0mprint\u001b[0m\u001b[1;33m(\u001b[0m\u001b[1;34m\"COD ID: {}, Formula: {}, Spacegroup: {}\"\u001b[0m \u001b[1;33m.\u001b[0m\u001b[0mformat\u001b[0m\u001b[1;33m(\u001b[0m\u001b[0md\u001b[0m\u001b[1;33m[\u001b[0m\u001b[1;34m\"cod_id\"\u001b[0m\u001b[1;33m]\u001b[0m\u001b[1;33m,\u001b[0m \u001b[0md\u001b[0m\u001b[1;33m[\u001b[0m\u001b[1;34m\"structure\"\u001b[0m\u001b[1;33m]\u001b[0m\u001b[1;33m.\u001b[0m\u001b[0mformula\u001b[0m\u001b[1;33m,\u001b[0m \u001b[0md\u001b[0m\u001b[1;33m[\u001b[0m\u001b[1;34m\"sg\"\u001b[0m\u001b[1;33m]\u001b[0m\u001b[1;33m)\u001b[0m\u001b[1;33m)\u001b[0m\u001b[1;33m\u001b[0m\u001b[0m\n\u001b[0;32m      5\u001b[0m \u001b[0mprint\u001b[0m\u001b[1;33m(\u001b[0m\u001b[0mstructures\u001b[0m\u001b[1;33m[\u001b[0m\u001b[1;36m0\u001b[0m\u001b[1;33m]\u001b[0m\u001b[1;33m[\u001b[0m\u001b[1;34m\"structure\"\u001b[0m\u001b[1;33m]\u001b[0m\u001b[1;33m)\u001b[0m\u001b[1;33m\u001b[0m\u001b[0m\n",
      "\u001b[1;32m~\\Anaconda3\\lib\\site-packages\\monty\\dev.py\u001b[0m in \u001b[0;36mdecorated\u001b[1;34m(*args, **kwargs)\u001b[0m\n\u001b[0;32m     89\u001b[0m         \u001b[1;32mdef\u001b[0m \u001b[0mdecorated\u001b[0m\u001b[1;33m(\u001b[0m\u001b[1;33m*\u001b[0m\u001b[0margs\u001b[0m\u001b[1;33m,\u001b[0m \u001b[1;33m**\u001b[0m\u001b[0mkwargs\u001b[0m\u001b[1;33m)\u001b[0m\u001b[1;33m:\u001b[0m\u001b[1;33m\u001b[0m\u001b[0m\n\u001b[0;32m     90\u001b[0m             \u001b[1;32mif\u001b[0m \u001b[1;32mnot\u001b[0m \u001b[0mself\u001b[0m\u001b[1;33m.\u001b[0m\u001b[0mcondition\u001b[0m\u001b[1;33m:\u001b[0m\u001b[1;33m\u001b[0m\u001b[0m\n\u001b[1;32m---> 91\u001b[1;33m                 \u001b[1;32mraise\u001b[0m \u001b[0mRuntimeError\u001b[0m\u001b[1;33m(\u001b[0m\u001b[0mself\u001b[0m\u001b[1;33m.\u001b[0m\u001b[0mmessage\u001b[0m\u001b[1;33m)\u001b[0m\u001b[1;33m\u001b[0m\u001b[0m\n\u001b[0m\u001b[0;32m     92\u001b[0m             \u001b[1;32mreturn\u001b[0m \u001b[0m_callable\u001b[0m\u001b[1;33m(\u001b[0m\u001b[1;33m*\u001b[0m\u001b[0margs\u001b[0m\u001b[1;33m,\u001b[0m \u001b[1;33m**\u001b[0m\u001b[0mkwargs\u001b[0m\u001b[1;33m)\u001b[0m\u001b[1;33m\u001b[0m\u001b[0m\n\u001b[0;32m     93\u001b[0m \u001b[1;33m\u001b[0m\u001b[0m\n",
      "\u001b[1;31mRuntimeError\u001b[0m: mysql must be installed to use this query."
     ]
    }
   ],
   "source": [
    "# mysql must be installed to use this query\n",
    "structures = cod.get_structure_by_formula(\"Li2O\")\n",
    "for d in structures:\n",
    "    print(\"COD ID: {}, Formula: {}, Spacegroup: {}\" .format(d[\"cod_id\"], d[\"structure\"].formula, d[\"sg\"]))\n",
    "print(structures[0][\"structure\"])"
   ]
  },
  {
   "cell_type": "code",
   "execution_count": null,
   "metadata": {},
   "outputs": [],
   "source": []
  }
 ],
 "metadata": {
  "kernelspec": {
   "display_name": "Python 3",
   "language": "python",
   "name": "python3"
  },
  "toc": {
   "base_numbering": 1,
   "nav_menu": {},
   "number_sections": true,
   "sideBar": true,
   "skip_h1_title": false,
   "title_cell": "Table of Contents",
   "title_sidebar": "Contents",
   "toc_cell": false,
   "toc_position": {
    "height": "calc(100% - 180px)",
    "left": "10px",
    "top": "150px",
    "width": "198px"
   },
   "toc_section_display": true,
   "toc_window_display": true
  }
 },
 "nbformat": 4,
 "nbformat_minor": 2
}
