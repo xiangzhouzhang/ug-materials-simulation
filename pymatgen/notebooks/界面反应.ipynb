{
 "cells": [
  {
   "cell_type": "markdown",
   "metadata": {},
   "source": [
    "探索固相之间的界面反应, 探索反应能与混合比例之间的关系"
   ]
  },
  {
   "cell_type": "markdown",
   "metadata": {},
   "source": [
    "使用Mp-API获得化合物的能量;"
   ]
  },
  {
   "cell_type": "code",
   "execution_count": 1,
   "metadata": {},
   "outputs": [],
   "source": [
    "from pymatgen.ext.matproj import MPRester\n",
    "from pymatgen.analysis.interface_reactions import InterfacialReactivity\n",
    "from pymatgen.analysis.phase_diagram import PhaseDiagram, GrandPotentialPhaseDiagram \n",
    "from pymatgen import Composition, Element\n",
    "%matplotlib inline"
   ]
  },
  {
   "cell_type": "code",
   "execution_count": 2,
   "metadata": {},
   "outputs": [],
   "source": [
    "mpr = MPRester()"
   ]
  },
  {
   "cell_type": "markdown",
   "metadata": {},
   "source": [
    "## 生成有关反应物生成物及其混合比例的`拟二元稳定相图`(pseudo-binary phase stability diagram)"
   ]
  },
  {
   "cell_type": "markdown",
   "metadata": {},
   "source": [
    "从反应物字符串创建组成对象"
   ]
  },
  {
   "cell_type": "code",
   "execution_count": 3,
   "metadata": {},
   "outputs": [
    {
     "name": "stdout",
     "output_type": "stream",
     "text": [
      "     comp1             comp2     \n",
      "----------------  ---------------\n",
      "Comp: Li1 Co1 O2  Comp: Li3 P1 S4\n"
     ]
    }
   ],
   "source": [
    "reactant1, reactant2 = 'LiCoO2','Li3PS4' \n",
    "comp1, comp2 = Composition(reactant1), Composition(reactant2)\n",
    "%C comp1; comp2"
   ]
  },
  {
   "cell_type": "markdown",
   "metadata": {},
   "source": [
    "考虑反应系统与元素氛(reservoir)接触的情况;  "
   ]
  },
  {
   "cell_type": "code",
   "execution_count": 4,
   "metadata": {},
   "outputs": [],
   "source": [
    "grand = True \n",
    "if grand:\n",
    "    # 元素氛中元素\n",
    "    open_el = 'Co'\n",
    "    # 与纯物质的相对化学势(Must be non-positive)\n",
    "    relative_mu = -1"
   ]
  },
  {
   "cell_type": "markdown",
   "metadata": {},
   "source": [
    "搜集化学系统中涉及的所有元素"
   ]
  },
  {
   "cell_type": "code",
   "execution_count": 5,
   "metadata": {},
   "outputs": [
    {
     "data": {
      "text/plain": [
       "['P', 'S', 'O', 'Li', 'Co']"
      ]
     },
     "execution_count": 5,
     "metadata": {},
     "output_type": "execute_result"
    }
   ],
   "source": [
    "elements = [e.symbol for e in comp1.elements + comp2.elements]\n",
    "if grand:\n",
    "    elements.append(open_el)\n",
    "elements = list(set(elements)) # Remove duplicates\n",
    "elements"
   ]
  },
  {
   "cell_type": "markdown",
   "metadata": {},
   "source": [
    "从化学体系获取结构: 时间稍长"
   ]
  },
  {
   "cell_type": "code",
   "execution_count": 6,
   "metadata": {},
   "outputs": [],
   "source": [
    "entries = mpr.get_entries_in_chemsys(elements)#len(entries)=624"
   ]
  },
  {
   "cell_type": "markdown",
   "metadata": {},
   "source": [
    "使用条目对象创建相图的算法基础:  \n",
    "[Li-Fe-P-O2 Phase Diagram from First Principles Calculations](https://pubs.acs.org/doi/abs/10.1021/cm702327g);  \n",
    "[Thermal stabilities of delithiated olivine MPO4 (M=Fe, Mn) cathodes investigated using first principles calculations](https://www.sciencedirect.com/science/article/pii/S1388248110000123);"
   ]
  },
  {
   "cell_type": "code",
   "execution_count": 9,
   "metadata": {},
   "outputs": [],
   "source": [
    "# 相图对象\n",
    "pd = PhaseDiagram(entries)"
   ]
  },
  {
   "cell_type": "code",
   "execution_count": 10,
   "metadata": {},
   "outputs": [
    {
     "data": {
      "text/plain": [
       "'Co'"
      ]
     },
     "execution_count": 10,
     "metadata": {},
     "output_type": "execute_result"
    }
   ],
   "source": [
    "open_el"
   ]
  },
  {
   "cell_type": "code",
   "execution_count": 11,
   "metadata": {},
   "outputs": [],
   "source": [
    "# 对于开放系统绘制巨势相图\n",
    "if grand:\n",
    "    mu = pd.get_transition_chempots(Element(open_el))[0]  #获取纯物质(过渡态)的化学势, 'Co'?\n",
    "    chempots = {open_el: relative_mu + mu}    # 设置化学氛的化学势(reservoir) \n",
    "    gpd = GrandPotentialPhaseDiagram(entries, chempots) # 构建巨势相图\n",
    "    # 创建界面反应对象\n",
    "    interface = InterfacialReactivity(\n",
    "        comp1, comp2, gpd, norm=True, include_no_mixing_energy=True, pd_non_grand=pd, use_hull_energy=False)\n",
    "else:\n",
    "    interface = InterfacialReactivity(\n",
    "        comp1, comp2, pd, norm=True, include_no_mixing_energy=False, pd_non_grand=None, use_hull_energy=False)"
   ]
  },
  {
   "cell_type": "markdown",
   "metadata": {},
   "source": [
    "绘制反应能和混合比例之间的关系曲线"
   ]
  },
  {
   "cell_type": "code",
   "execution_count": 12,
   "metadata": {},
   "outputs": [
    {
     "data": {
      "image/png": "[encoded data removed]",
      "text/plain": [
       "<Figure size 432x288 with 1 Axes>"
      ]
     },
     "metadata": {},
     "output_type": "display_data"
    }
   ],
   "source": [
    "plt = interface.plot()"
   ]
  },
  {
   "cell_type": "markdown",
   "metadata": {},
   "source": [
    "## 收集每个点处的关键反应(critical reaction)"
   ]
  },
  {
   "cell_type": "code",
   "execution_count": 14,
   "metadata": {},
   "outputs": [],
   "source": [
    "from collections import OrderedDict\n",
    "from pandas import DataFrame\n",
    "\n",
    "# 将每个关键反应保存在列表当中\n",
    "critical_rxns = [ OrderedDict( [(\"mixing ratio\", round(ratio, 4)),\n",
    "                                (\"reaction energy (eV/atom)\", round(energy, 4)),\n",
    "                                (\"reaction\", rxn)])\n",
    "                  for _, ratio, energy, rxn, energy2, in interface.get_kinks()]"
   ]
  },
  {
   "cell_type": "code",
   "execution_count": 15,
   "metadata": {},
   "outputs": [
    {
     "data": {
      "text/html": [
       "<div>\n",
       "<style scoped>\n",
       "    .dataframe tbody tr th:only-of-type {\n",
       "        vertical-align: middle;\n",
       "    }\n",
       "\n",
       "    .dataframe tbody tr th {\n",
       "        vertical-align: top;\n",
       "    }\n",
       "\n",
       "    .dataframe thead th {\n",
       "        text-align: right;\n",
       "    }\n",
       "</style>\n",
       "<table border=\"1\" class=\"dataframe\">\n",
       "  <thead>\n",
       "    <tr style=\"text-align: right;\">\n",
       "      <th></th>\n",
       "      <th>mixing ratio</th>\n",
       "      <th>reaction energy (eV/atom)</th>\n",
       "      <th>reaction</th>\n",
       "    </tr>\n",
       "  </thead>\n",
       "  <tbody>\n",
       "    <tr>\n",
       "      <th>0</th>\n",
       "      <td>0.0000</td>\n",
       "      <td>0.0000</td>\n",
       "      <td>Li3PS4 -&gt; Li3PS4</td>\n",
       "    </tr>\n",
       "    <tr>\n",
       "      <th>1</th>\n",
       "      <td>0.5000</td>\n",
       "      <td>-0.4584</td>\n",
       "      <td>Li3PS4 + 2 LiCoO2 -&gt; 0.5 Co + Li2S + 1.5 CoS2 ...</td>\n",
       "    </tr>\n",
       "    <tr>\n",
       "      <th>2</th>\n",
       "      <td>0.8000</td>\n",
       "      <td>-0.5710</td>\n",
       "      <td>Li3PS4 + 8 LiCoO2 -&gt; 8 Co + 3 Li2SO4 + Li2S + ...</td>\n",
       "    </tr>\n",
       "    <tr>\n",
       "      <th>3</th>\n",
       "      <td>0.8421</td>\n",
       "      <td>-0.5601</td>\n",
       "      <td>Li3PS4 + 10.67 LiCoO2 -&gt; 10.67 Co + 1.333 Li2O...</td>\n",
       "    </tr>\n",
       "    <tr>\n",
       "      <th>4</th>\n",
       "      <td>0.8500</td>\n",
       "      <td>-0.5350</td>\n",
       "      <td>Li3PS4 + 11.33 LiCoO2 -&gt; 10.67 Co + 0.6667 Li5...</td>\n",
       "    </tr>\n",
       "    <tr>\n",
       "      <th>5</th>\n",
       "      <td>1.0000</td>\n",
       "      <td>-0.0000</td>\n",
       "      <td>LiCoO2 -&gt; LiCoO2</td>\n",
       "    </tr>\n",
       "  </tbody>\n",
       "</table>\n",
       "</div>"
      ],
      "text/plain": [
       "   mixing ratio  reaction energy (eV/atom)  \\\n",
       "0        0.0000                     0.0000   \n",
       "1        0.5000                    -0.4584   \n",
       "2        0.8000                    -0.5710   \n",
       "3        0.8421                    -0.5601   \n",
       "4        0.8500                    -0.5350   \n",
       "5        1.0000                    -0.0000   \n",
       "\n",
       "                                            reaction  \n",
       "0                                   Li3PS4 -> Li3PS4  \n",
       "1  Li3PS4 + 2 LiCoO2 -> 0.5 Co + Li2S + 1.5 CoS2 ...  \n",
       "2  Li3PS4 + 8 LiCoO2 -> 8 Co + 3 Li2SO4 + Li2S + ...  \n",
       "3  Li3PS4 + 10.67 LiCoO2 -> 10.67 Co + 1.333 Li2O...  \n",
       "4  Li3PS4 + 11.33 LiCoO2 -> 10.67 Co + 0.6667 Li5...  \n",
       "5                                   LiCoO2 -> LiCoO2  "
      ]
     },
     "execution_count": 15,
     "metadata": {},
     "output_type": "execute_result"
    }
   ],
   "source": [
    "# 将列表转化成 DF对象\n",
    "DataFrame(critical_rxns)"
   ]
  },
  {
   "cell_type": "markdown",
   "metadata": {},
   "source": [
    "反应方程(reaction equations)是反应对象(Reaction),适用于所有的结构分析"
   ]
  },
  {
   "cell_type": "code",
   "execution_count": 16,
   "metadata": {},
   "outputs": [
    {
     "name": "stdout",
     "output_type": "stream",
     "text": [
      "<class 'pymatgen.analysis.reaction_calculator.Reaction'>\n",
      "Li3PS4 + 8 LiCoO2 -> 8 Co + 3 Li2SO4 + Li2S + Li3PO4\n"
     ]
    }
   ],
   "source": [
    "rxn = critical_rxns[2][\"reaction\"]\n",
    "print(type(rxn))\n",
    "print(rxn)"
   ]
  },
  {
   "cell_type": "markdown",
   "metadata": {},
   "source": [
    "## 使用MP-API直接获得反应信息"
   ]
  },
  {
   "cell_type": "code",
   "execution_count": 17,
   "metadata": {},
   "outputs": [],
   "source": [
    "# Get interface reaction information for reactants LiCoO2 and Li3PS4 in open system to Co.\n",
    "kinks_from_API = mpr.get_interface_reactions('LiCoO2','Li3PS4', open_el='Co', relative_mu=-1)"
   ]
  },
  {
   "cell_type": "code",
   "execution_count": 18,
   "metadata": {},
   "outputs": [
    {
     "data": {
      "text/plain": [
       "{'ratio': 0.5000000000000001,\n",
       " 'energy': -0.45837463535714296,\n",
       " 'rxn': Li3PS4 + 2 LiCoO2 -> 0.5 Co + Li2S + 1.5 CoS2 + Li3PO4,\n",
       " 'energy_per_mol_rxn_kJmol': -619.1697988675436}"
      ]
     },
     "execution_count": 18,
     "metadata": {},
     "output_type": "execute_result"
    }
   ],
   "source": [
    "# Get inforamtion for the second critical reaction.\n",
    "kinks_from_API[1]"
   ]
  },
  {
   "cell_type": "markdown",
   "metadata": {},
   "source": [
    "自计算和MP-API使用的数据来源一致, 结果也应一致"
   ]
  },
  {
   "cell_type": "code",
   "execution_count": 19,
   "metadata": {},
   "outputs": [],
   "source": [
    "critical_rxns_API = [   OrderedDict([\n",
    "                        (\"mixing ratio\", round(reaction['ratio'], 4)),\n",
    "                        (\"reaction energy (eV/atom)\", round(reaction['energy'], 4)),\n",
    "                        (\"reaction\", reaction['rxn'])])\n",
    "                        for reaction in kinks_from_API        ]"
   ]
  },
  {
   "cell_type": "code",
   "execution_count": 20,
   "metadata": {},
   "outputs": [
    {
     "data": {
      "text/html": [
       "<div>\n",
       "<style scoped>\n",
       "    .dataframe tbody tr th:only-of-type {\n",
       "        vertical-align: middle;\n",
       "    }\n",
       "\n",
       "    .dataframe tbody tr th {\n",
       "        vertical-align: top;\n",
       "    }\n",
       "\n",
       "    .dataframe thead th {\n",
       "        text-align: right;\n",
       "    }\n",
       "</style>\n",
       "<table border=\"1\" class=\"dataframe\">\n",
       "  <thead>\n",
       "    <tr style=\"text-align: right;\">\n",
       "      <th></th>\n",
       "      <th>mixing ratio</th>\n",
       "      <th>reaction energy (eV/atom)</th>\n",
       "      <th>reaction</th>\n",
       "    </tr>\n",
       "  </thead>\n",
       "  <tbody>\n",
       "    <tr>\n",
       "      <th>0</th>\n",
       "      <td>0.0000</td>\n",
       "      <td>0.0000</td>\n",
       "      <td>Li3PS4 -&gt; Li3PS4</td>\n",
       "    </tr>\n",
       "    <tr>\n",
       "      <th>1</th>\n",
       "      <td>0.5000</td>\n",
       "      <td>-0.4584</td>\n",
       "      <td>Li3PS4 + 2 LiCoO2 -&gt; 0.5 Co + Li2S + 1.5 CoS2 ...</td>\n",
       "    </tr>\n",
       "    <tr>\n",
       "      <th>2</th>\n",
       "      <td>0.8000</td>\n",
       "      <td>-0.5710</td>\n",
       "      <td>0.3333 Li3PS4 + 2.667 LiCoO2 -&gt; 2.667 Co + Li2...</td>\n",
       "    </tr>\n",
       "    <tr>\n",
       "      <th>3</th>\n",
       "      <td>0.8421</td>\n",
       "      <td>-0.5601</td>\n",
       "      <td>0.75 Li3PS4 + 8 LiCoO2 -&gt; 8 Co + Li2O + 3 Li2S...</td>\n",
       "    </tr>\n",
       "    <tr>\n",
       "      <th>4</th>\n",
       "      <td>0.8500</td>\n",
       "      <td>-0.5350</td>\n",
       "      <td>1.5 Li3PS4 + 17 LiCoO2 -&gt; 16 Co + Li5CoO4 + 6 ...</td>\n",
       "    </tr>\n",
       "    <tr>\n",
       "      <th>5</th>\n",
       "      <td>1.0000</td>\n",
       "      <td>-0.0000</td>\n",
       "      <td>LiCoO2 -&gt; LiCoO2</td>\n",
       "    </tr>\n",
       "  </tbody>\n",
       "</table>\n",
       "</div>"
      ],
      "text/plain": [
       "   mixing ratio  reaction energy (eV/atom)  \\\n",
       "0        0.0000                     0.0000   \n",
       "1        0.5000                    -0.4584   \n",
       "2        0.8000                    -0.5710   \n",
       "3        0.8421                    -0.5601   \n",
       "4        0.8500                    -0.5350   \n",
       "5        1.0000                    -0.0000   \n",
       "\n",
       "                                            reaction  \n",
       "0                                   Li3PS4 -> Li3PS4  \n",
       "1  Li3PS4 + 2 LiCoO2 -> 0.5 Co + Li2S + 1.5 CoS2 ...  \n",
       "2  0.3333 Li3PS4 + 2.667 LiCoO2 -> 2.667 Co + Li2...  \n",
       "3  0.75 Li3PS4 + 8 LiCoO2 -> 8 Co + Li2O + 3 Li2S...  \n",
       "4  1.5 Li3PS4 + 17 LiCoO2 -> 16 Co + Li5CoO4 + 6 ...  \n",
       "5                                   LiCoO2 -> LiCoO2  "
      ]
     },
     "execution_count": 20,
     "metadata": {},
     "output_type": "execute_result"
    }
   ],
   "source": [
    "DataFrame(critical_rxns_API)"
   ]
  }
 ],
 "metadata": {
  "kernelspec": {
   "display_name": "Python 3",
   "language": "python",
   "name": "python3"
  },
  "language_info": {
   "codemirror_mode": {
    "name": "ipython",
    "version": 3
   },
   "file_extension": ".py",
   "mimetype": "text/x-python",
   "name": "python",
   "nbconvert_exporter": "python",
   "pygments_lexer": "ipython3",
   "version": "3.6.5"
  },
  "toc": {
   "base_numbering": 1,
   "nav_menu": {},
   "number_sections": true,
   "sideBar": true,
   "skip_h1_title": false,
   "title_cell": "Table of Contents",
   "title_sidebar": "Contents",
   "toc_cell": false,
   "toc_position": {},
   "toc_section_display": true,
   "toc_window_display": false
  }
 },
 "nbformat": 4,
 "nbformat_minor": 2
}
