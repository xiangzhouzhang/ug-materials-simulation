{
 "cells": [
  {
   "cell_type": "markdown",
   "metadata": {},
   "source": [
    "# Band Structure of NiO"
   ]
  },
  {
   "cell_type": "markdown",
   "metadata": {},
   "source": [
    "https://github.com/materialsvirtuallab/matgenb/blob/master/notebooks/2013-01-01-Bandstructure%20of%20NiO.ipynb"
   ]
  },
  {
   "cell_type": "code",
   "execution_count": 1,
   "metadata": {},
   "outputs": [],
   "source": [
    "import pymatgen as mg\n",
    "from pymatgen.io.vasp.outputs import BSVasprun, Vasprun\n",
    "from pymatgen import Spin\n",
    "from pymatgen.electronic_structure.plotter import BSPlotter, BSDOSPlotter, DosPlotter\n",
    "\n",
    "import matplotlib.pyplot as plt\n",
    "%matplotlib inline"
   ]
  },
  {
   "cell_type": "markdown",
   "metadata": {},
   "source": [
    "### 1) Read vasprun.xml and extract the band structure"
   ]
  },
  {
   "cell_type": "code",
   "execution_count": 3,
   "metadata": {},
   "outputs": [
    {
     "ename": "FileNotFoundError",
     "evalue": "[Errno 2] No such file or directory: 'vasprun.xml'",
     "output_type": "error",
     "traceback": [
      "\u001b[1;31m----------------------------------------\u001b[0m",
      "\u001b[1;31mFileNotFoundError\u001b[0mTraceback (most recent call last)",
      "\u001b[1;32m<ipython-input-3-b9037378b9ee>\u001b[0m in \u001b[0;36m<module>\u001b[1;34m()\u001b[0m\n\u001b[1;32m----> 1\u001b[1;33m \u001b[0mrun\u001b[0m \u001b[1;33m=\u001b[0m \u001b[0mBSVasprun\u001b[0m\u001b[1;33m(\u001b[0m\u001b[1;34m\"vasprun.xml\"\u001b[0m\u001b[1;33m,\u001b[0m \u001b[0mparse_projected_eigen\u001b[0m\u001b[1;33m=\u001b[0m\u001b[1;32mTrue\u001b[0m\u001b[1;33m)\u001b[0m\u001b[1;33m\u001b[0m\u001b[0m\n\u001b[0m",
      "\u001b[1;32m~\\Anaconda3\\lib\\site-packages\\pymatgen\\io\\vasp\\outputs.py\u001b[0m in \u001b[0;36m__init__\u001b[1;34m(self, filename, parse_projected_eigen, parse_potcar_file, occu_tol)\u001b[0m\n\u001b[0;32m   1244\u001b[0m         \u001b[0mself\u001b[0m\u001b[1;33m.\u001b[0m\u001b[0moccu_tol\u001b[0m \u001b[1;33m=\u001b[0m \u001b[0moccu_tol\u001b[0m\u001b[1;33m\u001b[0m\u001b[0m\n\u001b[0;32m   1245\u001b[0m \u001b[1;33m\u001b[0m\u001b[0m\n\u001b[1;32m-> 1246\u001b[1;33m         \u001b[1;32mwith\u001b[0m \u001b[0mzopen\u001b[0m\u001b[1;33m(\u001b[0m\u001b[0mfilename\u001b[0m\u001b[1;33m,\u001b[0m \u001b[1;34m\"rt\"\u001b[0m\u001b[1;33m)\u001b[0m \u001b[1;32mas\u001b[0m \u001b[0mf\u001b[0m\u001b[1;33m:\u001b[0m\u001b[1;33m\u001b[0m\u001b[0m\n\u001b[0m\u001b[0;32m   1247\u001b[0m             \u001b[0mself\u001b[0m\u001b[1;33m.\u001b[0m\u001b[0mefermi\u001b[0m \u001b[1;33m=\u001b[0m \u001b[1;32mNone\u001b[0m\u001b[1;33m\u001b[0m\u001b[0m\n\u001b[0;32m   1248\u001b[0m             \u001b[0mparsed_header\u001b[0m \u001b[1;33m=\u001b[0m \u001b[1;32mFalse\u001b[0m\u001b[1;33m\u001b[0m\u001b[0m\n",
      "\u001b[1;32m~\\Anaconda3\\lib\\site-packages\\monty\\io.py\u001b[0m in \u001b[0;36mzopen\u001b[1;34m(filename, *args, **kwargs)\u001b[0m\n\u001b[0;32m     69\u001b[0m         \u001b[1;32mreturn\u001b[0m \u001b[0mgzip\u001b[0m\u001b[1;33m.\u001b[0m\u001b[0mopen\u001b[0m\u001b[1;33m(\u001b[0m\u001b[0mfilename\u001b[0m\u001b[1;33m,\u001b[0m \u001b[1;33m*\u001b[0m\u001b[0margs\u001b[0m\u001b[1;33m,\u001b[0m \u001b[1;33m**\u001b[0m\u001b[0mkwargs\u001b[0m\u001b[1;33m)\u001b[0m\u001b[1;33m\u001b[0m\u001b[0m\n\u001b[0;32m     70\u001b[0m     \u001b[1;32melse\u001b[0m\u001b[1;33m:\u001b[0m\u001b[1;33m\u001b[0m\u001b[0m\n\u001b[1;32m---> 71\u001b[1;33m         \u001b[1;32mreturn\u001b[0m \u001b[0mio\u001b[0m\u001b[1;33m.\u001b[0m\u001b[0mopen\u001b[0m\u001b[1;33m(\u001b[0m\u001b[0mfilename\u001b[0m\u001b[1;33m,\u001b[0m \u001b[1;33m*\u001b[0m\u001b[0margs\u001b[0m\u001b[1;33m,\u001b[0m \u001b[1;33m**\u001b[0m\u001b[0mkwargs\u001b[0m\u001b[1;33m)\u001b[0m\u001b[1;33m\u001b[0m\u001b[0m\n\u001b[0m\u001b[0;32m     72\u001b[0m \u001b[1;33m\u001b[0m\u001b[0m\n\u001b[0;32m     73\u001b[0m \u001b[1;33m\u001b[0m\u001b[0m\n",
      "\u001b[1;31mFileNotFoundError\u001b[0m: [Errno 2] No such file or directory: 'vasprun.xml'"
     ]
    }
   ],
   "source": [
    "run = BSVasprun(\"vasprun.xml\", parse_projected_eigen=True)"
   ]
  },
  {
   "cell_type": "code",
   "execution_count": null,
   "metadata": {},
   "outputs": [],
   "source": [
    "bs = run.get_band_structure(\"KPOINTS\")"
   ]
  },
  {
   "cell_type": "markdown",
   "metadata": {},
   "source": [
    "You can obtain some information about the band structure :"
   ]
  },
  {
   "cell_type": "code",
   "execution_count": null,
   "metadata": {},
   "outputs": [],
   "source": [
    "print(\"number of bands\", bs.nb_bands)"
   ]
  },
  {
   "cell_type": "code",
   "execution_count": null,
   "metadata": {},
   "outputs": [],
   "source": [
    "print(\"number of kpoints\", len(bs.kpoints))"
   ]
  },
  {
   "cell_type": "code",
   "execution_count": null,
   "metadata": {},
   "outputs": [],
   "source": [
    "bs.is_metal()"
   ]
  },
  {
   "cell_type": "code",
   "execution_count": null,
   "metadata": {},
   "outputs": [],
   "source": [
    "bs.is_spin_polarized"
   ]
  },
  {
   "cell_type": "markdown",
   "metadata": {},
   "source": [
    "### 2) Extract a given band or eigenvalues\n",
    "\n",
    "The `bands` attribute of the `BaandStructure` object is a dictionnary of arrays that contains all the bands. The shape is the following :\n",
    "\n",
    "    {Spin.up: np.array((nb_bands, nb_kpoints)), Spin.down: np.array((nb_bands, nb_kpoints))}"
   ]
  },
  {
   "cell_type": "code",
   "execution_count": null,
   "metadata": {},
   "outputs": [],
   "source": [
    "bs.bands"
   ]
  },
  {
   "cell_type": "code",
   "execution_count": null,
   "metadata": {},
   "outputs": [],
   "source": [
    "bs.bands[Spin.up].shape"
   ]
  },
  {
   "cell_type": "markdown",
   "metadata": {},
   "source": [
    "The 9th bands of spin down is extracted by :"
   ]
  },
  {
   "cell_type": "code",
   "execution_count": null,
   "metadata": {},
   "outputs": [],
   "source": [
    "bs.bands[Spin.down][9, :]"
   ]
  },
  {
   "cell_type": "markdown",
   "metadata": {},
   "source": [
    "In order to print a band and the corresponding k-points :"
   ]
  },
  {
   "cell_type": "code",
   "execution_count": null,
   "metadata": {
    "scrolled": false
   },
   "outputs": [],
   "source": [
    "n = 0\n",
    "for kpoints, e in zip(bs.kpoints, bs.bands[Spin.down][9, :]):\n",
    "    n += 1\n",
    "    if n == 11:\n",
    "        print(\"...\")\n",
    "    if 10 < n < 190:\n",
    "        continue\n",
    "\n",
    "    print(\"kx = %5.3f  ky = %5.3f  kz = %5.3f   eps(k) = %8.4f\" % (tuple(kpoints.frac_coords) +  (e,)))\n"
   ]
  },
  {
   "cell_type": "markdown",
   "metadata": {},
   "source": [
    "### 3) Plot a simple band structure"
   ]
  },
  {
   "cell_type": "code",
   "execution_count": null,
   "metadata": {},
   "outputs": [],
   "source": [
    "bsplot = BSPlotter(bs)"
   ]
  },
  {
   "cell_type": "code",
   "execution_count": null,
   "metadata": {},
   "outputs": [],
   "source": [
    "# get the plot\n",
    "bsplot.get_plot(ylim=(-20, 10), zero_to_efermi=True)\n",
    "print(bs.efermi)\n",
    "\n",
    "# add some features\n",
    "ax = plt.gca()\n",
    "ax.set_title(\"NiO Band Structure\", fontsize=20)\n",
    "xlim = ax.get_xlim()\n",
    "ax.hlines(0, xlim[0], xlim[1], linestyles=\"dashed\", color=\"black\")\n",
    "\n",
    "# add legend\n",
    "ax.plot((), (), \"b-\", label=\"spin up\")\n",
    "ax.plot((), (), \"r--\", label=\"spin down\")\n",
    "ax.legend(fontsize=16, loc=\"upper left\")"
   ]
  },
  {
   "cell_type": "markdown",
   "metadata": {},
   "source": [
    "#### 3.1) Extract data from the plot\n",
    "\n",
    "You can get data from the plot and in particular the (x, y) coordinates of each band."
   ]
  },
  {
   "cell_type": "code",
   "execution_count": null,
   "metadata": {},
   "outputs": [],
   "source": [
    "data = bsplot.bs_plot_data()"
   ]
  },
  {
   "cell_type": "code",
   "execution_count": null,
   "metadata": {},
   "outputs": [],
   "source": [
    "data.keys()"
   ]
  },
  {
   "cell_type": "markdown",
   "metadata": {},
   "source": [
    "For example, here, you print the abscissa and the energy of the 9th band. Keep in mind that here the data are the ones used to do the plot. Thus the zero to fermi translation is already done according to the `BSPlotter` class."
   ]
  },
  {
   "cell_type": "code",
   "execution_count": null,
   "metadata": {
    "scrolled": true
   },
   "outputs": [],
   "source": [
    "ibands = 9  # band number from 0 --> number of bands\n",
    "spin = str(Spin.up)\n",
    "\n",
    "for xpath, epath in zip(data[\"distances\"], data[\"energy\"]):\n",
    "    print(20 * \"-\")\n",
    "    for x, bands in zip(xpath, epath[spin][ibands]):\n",
    "        print(\"%8.4f %8.4f\" % (x, bands))"
   ]
  },
  {
   "cell_type": "markdown",
   "metadata": {},
   "source": [
    "Same as above but in a plot."
   ]
  },
  {
   "cell_type": "code",
   "execution_count": null,
   "metadata": {
    "scrolled": false
   },
   "outputs": [],
   "source": [
    "ibands = 9  # band number from 0 --> number of bands\n",
    "spin = str(Spin.up)\n",
    "\n",
    "for xpath, epath in zip(data[\"distances\"], data[\"energy\"]):\n",
    "    plt.plot(xpath, epath[spin][ibands])"
   ]
  },
  {
   "cell_type": "markdown",
   "metadata": {
    "scrolled": false
   },
   "source": [
    "The same again but merging the slices of the band."
   ]
  },
  {
   "cell_type": "code",
   "execution_count": null,
   "metadata": {
    "scrolled": false
   },
   "outputs": [],
   "source": [
    "ibands = 1  # band number from 0 --> number of bands\n",
    "spin = str(Spin.up)\n",
    "\n",
    "x = list()\n",
    "y = list()\n",
    "for xpath, epath in zip(data[\"distances\"], data[\"energy\"]):\n",
    "    x += xpath\n",
    "    y += epath[spin][ibands]\n",
    "\n",
    "plt.plot(x, y)"
   ]
  },
  {
   "cell_type": "markdown",
   "metadata": {},
   "source": [
    "### 4) Plot DOS\n",
    "\n",
    "Read the DOS from another calculations."
   ]
  },
  {
   "cell_type": "code",
   "execution_count": null,
   "metadata": {},
   "outputs": [],
   "source": [
    "dosrun = Vasprun(\"../DOS_SMEAR/vasprun.xml\", parse_dos=True)\n",
    "dos = dosrun.complete_dos\n",
    "print(dosrun.efermi)\n",
    "print(dos.efermi)"
   ]
  },
  {
   "cell_type": "code",
   "execution_count": null,
   "metadata": {},
   "outputs": [],
   "source": [
    "dosplot = DosPlotter(sigma=0.1)\n",
    "dosplot.add_dos(\"Total DOS\", dos)\n",
    "dosplot.add_dos_dict(dos.get_element_dos())\n",
    "plt = dosplot.get_plot()\n",
    "plt.grid()"
   ]
  },
  {
   "cell_type": "markdown",
   "metadata": {},
   "source": [
    "### 5) Plot Bands and DOS"
   ]
  },
  {
   "cell_type": "code",
   "execution_count": null,
   "metadata": {},
   "outputs": [],
   "source": [
    "bs = run.get_band_structure(\"KPOINTS\", efermi=dos.efermi)"
   ]
  },
  {
   "cell_type": "code",
   "execution_count": null,
   "metadata": {},
   "outputs": [],
   "source": [
    "bsdosplot = BSDOSPlotter(\n",
    "    bs_projection=\"elements\", \n",
    "    dos_projection=\"elements\", \n",
    "    vb_energy_range=22,\n",
    "    egrid_interval=2.5\n",
    ")\n",
    "plt = bsdosplot.get_plot(bs, dos=dos)"
   ]
  },
  {
   "cell_type": "code",
   "execution_count": null,
   "metadata": {},
   "outputs": [],
   "source": [
    "bsdosplot = BSDOSPlotter(\n",
    "    bs_projection=\"elements\", \n",
    "    dos_projection=\"elements\", \n",
    "    vb_energy_range=11,\n",
    "    cb_energy_range=10,\n",
    "    egrid_interval=2\n",
    ")\n",
    "plt = bsdosplot.get_plot(bs, dos=dos)"
   ]
  }
 ],
 "metadata": {
  "kernelspec": {
   "display_name": "Python 3",
   "language": "python",
   "name": "python3"
  },
  "language_info": {
   "codemirror_mode": {
    "name": "ipython",
    "version": 3
   },
   "file_extension": ".py",
   "mimetype": "text/x-python",
   "name": "python",
   "nbconvert_exporter": "python",
   "pygments_lexer": "ipython3",
   "version": "3.6.5"
  },
  "toc": {
   "base_numbering": 1,
   "nav_menu": {},
   "number_sections": true,
   "sideBar": true,
   "skip_h1_title": false,
   "title_cell": "Table of Contents",
   "title_sidebar": "Contents",
   "toc_cell": false,
   "toc_position": {},
   "toc_section_display": true,
   "toc_window_display": false
  }
 },
 "nbformat": 4,
 "nbformat_minor": 2
}
