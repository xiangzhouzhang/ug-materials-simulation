{
 "cells": [
  {
   "cell_type": "markdown",
   "metadata": {},
   "source": [
    "# Introduction"
   ]
  },
  {
   "cell_type": "markdown",
   "metadata": {},
   "source": [
    "主要特征:\n",
    "1. 灵活的对象表征: `Element`, `Site`, `Molecule`, `Structure`;\n",
    "2. 广泛的文件支持: VASP, ABINIT, CIF, Gaussian, XYZ..;  \n",
    "3. 强大的分析工具: 相图, Pourbaix图, 扩散分析, 反应;  \n",
    "4. 电子结构分析: 态密度和能带;  \n",
    "5. 集成了`Materials Project API`和 `Crystallography Open Database`;\n",
    "    * mp: https://www.materialsproject.org/open;   \n",
    "    * cod: http://www.crystallography.net/cod/\n",
    "\n",
    "典型工作流: http://pymatgen.org/_images/overview.jpg"
   ]
  },
  {
   "cell_type": "markdown",
   "metadata": {},
   "source": [
    "`pmg config -p <EXTRACTED_VASP_POTCAR> <MY_PSP>`"
   ]
  },
  {
   "cell_type": "code",
   "execution_count": null,
   "metadata": {},
   "outputs": [],
   "source": []
  },
  {
   "cell_type": "code",
   "execution_count": null,
   "metadata": {},
   "outputs": [],
   "source": []
  },
  {
   "cell_type": "code",
   "execution_count": null,
   "metadata": {},
   "outputs": [],
   "source": []
  },
  {
   "cell_type": "code",
   "execution_count": 1,
   "metadata": {},
   "outputs": [],
   "source": [
    "import pymatgen as mg"
   ]
  },
  {
   "cell_type": "markdown",
   "metadata": {},
   "source": [
    "创建元素对象"
   ]
  },
  {
   "cell_type": "code",
   "execution_count": 2,
   "metadata": {},
   "outputs": [
    {
     "name": "stdout",
     "output_type": "stream",
     "text": [
      "si.atomic_mass  si.melting_point\n",
      "--------------  ----------------\n",
      "28.0855         1687.0          \n",
      "\n"
     ]
    }
   ],
   "source": [
    "si = mg.Element('Si')\n",
    "%C si.atomic_mass; si.melting_point"
   ]
  },
  {
   "cell_type": "markdown",
   "metadata": {},
   "source": [
    " 创建复合对象"
   ]
  },
  {
   "cell_type": "code",
   "execution_count": 3,
   "metadata": {},
   "outputs": [
    {
     "name": "stdout",
     "output_type": "stream",
     "text": [
      "comp.weight  comp['Fe']  comp.get_atomic_fraction('Fe')\n",
      "-----------  ----------  ------------------------------\n",
      "159.6882     2.0         0.4                           \n",
      "\n"
     ]
    }
   ],
   "source": [
    "# `复合对象`中包含关于`元素对象`的键 #获得元素的摩尔分数 \n",
    "comp = mg.Composition('Fe2O3')\n",
    "%C comp.weight; comp['Fe']; comp.get_atomic_fraction('Fe')\n"
   ]
  },
  {
   "cell_type": "markdown",
   "metadata": {},
   "source": [
    "创建点阵对象"
   ]
  },
  {
   "cell_type": "code",
   "execution_count": 4,
   "metadata": {},
   "outputs": [
    {
     "name": "stdout",
     "output_type": "stream",
     "text": [
      "4.200000 0.000000 0.000000\n",
      "0.000000 4.200000 0.000000\n",
      "0.000000 0.000000 4.200000\n"
     ]
    },
    {
     "data": {
      "text/plain": [
       "Lattice\n",
       "    abc : 4.2 4.2 4.2\n",
       " angles : 90.0 90.0 90.0\n",
       " volume : 74.08800000000001\n",
       "      A : 4.2 0.0 0.0\n",
       "      B : 0.0 4.2 0.0\n",
       "      C : 0.0 0.0 4.2"
      ]
     },
     "execution_count": 4,
     "metadata": {},
     "output_type": "execute_result"
    }
   ],
   "source": [
    "lattice = mg.Lattice.cubic(4.2)\n",
    "print(lattice)\n",
    "lattice"
   ]
  },
  {
   "cell_type": "markdown",
   "metadata": {},
   "source": [
    "创建结构对象"
   ]
  },
  {
   "cell_type": "code",
   "execution_count": 5,
   "metadata": {},
   "outputs": [
    {
     "name": "stdout",
     "output_type": "stream",
     "text": [
      "Full Formula (Cs1 Cl1)\n",
      "Reduced Formula: CsCl\n",
      "abc   :   4.200000   4.200000   4.200000\n",
      "angles:  90.000000  90.000000  90.000000\n",
      "Sites (2)\n",
      "  #  SP      a    b    c\n",
      "---  ----  ---  ---  ---\n",
      "  0  Cs    0    0    0\n",
      "  1  Cl    0.5  0.5  0.5\n"
     ]
    },
    {
     "data": {
      "text/plain": [
       "Structure Summary\n",
       "Lattice\n",
       "    abc : 4.2 4.2 4.2\n",
       " angles : 90.0 90.0 90.0\n",
       " volume : 74.08800000000001\n",
       "      A : 4.2 0.0 0.0\n",
       "      B : 0.0 4.2 0.0\n",
       "      C : 0.0 0.0 4.2\n",
       "PeriodicSite: Cs (0.0000, 0.0000, 0.0000) [0.0000, 0.0000, 0.0000]\n",
       "PeriodicSite: Cl (2.1000, 2.1000, 2.1000) [0.5000, 0.5000, 0.5000]"
      ]
     },
     "execution_count": 5,
     "metadata": {},
     "output_type": "execute_result"
    }
   ],
   "source": [
    "structure = mg.Structure(lattice, ['Cs','Cl'], [[0,0,0],[0.5,0.5,0.5]])\n",
    "print(structure)\n",
    "structure"
   ]
  },
  {
   "cell_type": "markdown",
   "metadata": {},
   "source": [
    "使用空间群创建晶体结构"
   ]
  },
  {
   "cell_type": "code",
   "execution_count": 6,
   "metadata": {},
   "outputs": [
    {
     "name": "stdout",
     "output_type": "stream",
     "text": [
      "Full Formula (Li8 O4)\n",
      "Reduced Formula: Li2O\n",
      "abc   :   3.000000   3.000000   3.000000\n",
      "angles:  90.000000  90.000000  90.000000\n",
      "Sites (12)\n",
      "  #  SP       a     b     c\n",
      "---  ----  ----  ----  ----\n",
      "  0  Li    0.25  0.25  0.25\n",
      "  1  Li    0.75  0.25  0.25\n",
      "  2  Li    0.75  0.75  0.25\n",
      "  3  Li    0.25  0.75  0.25\n",
      "  4  Li    0.25  0.75  0.75\n",
      "  5  Li    0.25  0.25  0.75\n",
      "  6  Li    0.75  0.25  0.75\n",
      "  7  Li    0.75  0.75  0.75\n",
      "  8  O     0     0     0\n",
      "  9  O     0     0.5   0.5\n",
      " 10  O     0.5   0     0.5\n",
      " 11  O     0.5   0.5   0\n"
     ]
    }
   ],
   "source": [
    "li2o = mg.Structure.from_spacegroup(\"Fm-3m\", mg.Lattice.cubic(3),\n",
    "                                    [\"Li\", \"O\"],\n",
    "                                    [[0.25, 0.25, 0.25], [0, 0, 0]])\n",
    "print(li2o)"
   ]
  },
  {
   "cell_type": "markdown",
   "metadata": {},
   "source": [
    "**spglib**: A library for finding and handling crystal symmetries written in C;  \n",
    "使用集成的spglib工具对晶体结构进行对称性分析;"
   ]
  },
  {
   "cell_type": "code",
   "execution_count": 7,
   "metadata": {},
   "outputs": [
    {
     "data": {
      "text/plain": [
       "'Pm-3m'"
      ]
     },
     "execution_count": 7,
     "metadata": {},
     "output_type": "execute_result"
    }
   ],
   "source": [
    "from pymatgen.symmetry.analyzer import SpacegroupAnalyzer\n",
    "finder = SpacegroupAnalyzer(structure)\n",
    "finder.get_space_group_symbol()"
   ]
  },
  {
   "cell_type": "markdown",
   "metadata": {},
   "source": [
    "晶体结构的保存和格式转换"
   ]
  },
  {
   "cell_type": "code",
   "execution_count": 8,
   "metadata": {},
   "outputs": [
    {
     "name": "stdout",
     "output_type": "stream",
     "text": [
      "Cs1 Cl1\n",
      "1.0\n",
      "4.200000 0.000000 0.000000\n",
      "0.000000 4.200000 0.000000\n",
      "0.000000 0.000000 4.200000\n",
      "Cs Cl\n",
      "1 1\n",
      "direct\n",
      "0.000000 0.000000 0.000000 Cs\n",
      "0.500000 0.500000 0.500000 Cl\n",
      "\n"
     ]
    }
   ],
   "source": [
    "print(structure.to(fmt='poscar'))"
   ]
  },
  {
   "cell_type": "code",
   "execution_count": 9,
   "metadata": {},
   "outputs": [
    {
     "name": "stdout",
     "output_type": "stream",
     "text": [
      "Cs1 Cl1\n",
      "1.0\n",
      "4.200000 0.000000 0.000000\n",
      "0.000000 4.200000 0.000000\n",
      "0.000000 0.000000 4.200000\n",
      "Cs Cl\n",
      "1 1\n",
      "direct\n",
      "0.000000 0.000000 0.000000 Cs\n",
      "0.500000 0.500000 0.500000 Cl\n",
      "\n"
     ]
    }
   ],
   "source": [
    "# 将结构写入POSCAR文件\n",
    "structure.to(filename='POSCAR')\n",
    "br.showfile('POSCAR')"
   ]
  },
  {
   "cell_type": "code",
   "execution_count": 10,
   "metadata": {},
   "outputs": [
    {
     "name": "stdout",
     "output_type": "stream",
     "text": [
      "# generated using pymatgen\n",
      "data_CsCl\n",
      "_symmetry_space_group_name_H-M   'P 1'\n",
      "_cell_length_a   4.20000000\n",
      "_cell_length_b   4.20000000\n",
      "_cell_length_c   4.20000000\n",
      "_cell_angle_alpha   90.00000000\n",
      "_cell_angle_beta   90.00000000\n",
      "_cell_angle_gamma   90.00000000\n",
      "_symmetry_Int_Tables_number   1\n",
      "_chemical_formula_structural   CsCl\n",
      "_chemical_formula_sum   'Cs1 Cl1'\n",
      "_cell_volume   74.08800000\n",
      "_cell_formula_units_Z   1\n",
      "loop_\n",
      " _symmetry_equiv_pos_site_id\n",
      " _symmetry_equiv_pos_as_xyz\n",
      "  1  'x, y, z'\n",
      "loop_\n",
      " _atom_site_type_symbol\n",
      " _atom_site_label\n",
      " _atom_site_symmetry_multiplicity\n",
      " _atom_site_fract_x\n",
      " _atom_site_fract_y\n",
      " _atom_site_fract_z\n",
      " _atom_site_occupancy\n",
      "  Cs  Cs1  1  0.000000  0.000000  0.000000  1\n",
      "  Cl  Cl2  1  0.500000  0.500000  0.500000  1\n",
      "\n"
     ]
    }
   ],
   "source": [
    "# 可以从文件名自动识别文件格式\n",
    "structure.to(filename='CsCl.cif')\n",
    "br.showfile('CsCl.cif')"
   ]
  },
  {
   "cell_type": "markdown",
   "metadata": {},
   "source": [
    "读入晶体结构"
   ]
  },
  {
   "cell_type": "code",
   "execution_count": 11,
   "metadata": {},
   "outputs": [
    {
     "data": {
      "text/plain": [
       "Structure Summary\n",
       "Lattice\n",
       "    abc : 4.2 4.2 4.2\n",
       " angles : 90.0 90.0 90.0\n",
       " volume : 74.08800000000001\n",
       "      A : 4.2 0.0 2.571758278209442e-16\n",
       "      B : 6.754115128641874e-16 4.2 2.571758278209442e-16\n",
       "      C : 0.0 0.0 4.2\n",
       "PeriodicSite: Cs (0.0000, 0.0000, 0.0000) [0.0000, 0.0000, 0.0000]\n",
       "PeriodicSite: Cl (2.1000, 2.1000, 2.1000) [0.5000, 0.5000, 0.5000]"
      ]
     },
     "execution_count": 11,
     "metadata": {},
     "output_type": "execute_result"
    }
   ],
   "source": [
    "# 从字符串读取\n",
    "structure = mg.Structure.from_str(open('CsCl.cif').read(), fmt='cif')\n",
    "structure"
   ]
  },
  {
   "cell_type": "code",
   "execution_count": 12,
   "metadata": {},
   "outputs": [
    {
     "data": {
      "text/plain": [
       "Structure Summary\n",
       "Lattice\n",
       "    abc : 4.2 4.2 4.2\n",
       " angles : 90.0 90.0 90.0\n",
       " volume : 74.08800000000001\n",
       "      A : 4.2 0.0 2.571758278209442e-16\n",
       "      B : 6.754115128641874e-16 4.2 2.571758278209442e-16\n",
       "      C : 0.0 0.0 4.2\n",
       "PeriodicSite: Cs (0.0000, 0.0000, 0.0000) [0.0000, 0.0000, 0.0000]\n",
       "PeriodicSite: Cl (2.1000, 2.1000, 2.1000) [0.5000, 0.5000, 0.5000]"
      ]
     },
     "execution_count": 12,
     "metadata": {},
     "output_type": "execute_result"
    }
   ],
   "source": [
    "# 从文件读入结构\n",
    "structure = mg.Structure.from_file(\"CsCl.cif\")\n",
    "structure"
   ]
  },
  {
   "cell_type": "code",
   "execution_count": 13,
   "metadata": {},
   "outputs": [
    {
     "data": {
      "text/plain": [
       "pymatgen.core.structure.Molecule"
      ]
     },
     "execution_count": 13,
     "metadata": {},
     "output_type": "execute_result"
    }
   ],
   "source": [
    "# 从文件读取分子结构, 默认支持XYZ和高斯输入输出文件\n",
    "methane = mg.Molecule.from_file(\"methane.xyz\")\n",
    "type(methane)"
   ]
  },
  {
   "cell_type": "code",
   "execution_count": 14,
   "metadata": {},
   "outputs": [
    {
     "data": {
      "text/plain": [
       "pymatgen.core.structure.Structure"
      ]
     },
     "execution_count": 14,
     "metadata": {},
     "output_type": "execute_result"
    }
   ],
   "source": [
    "type(structure)"
   ]
  },
  {
   "cell_type": "code",
   "execution_count": 15,
   "metadata": {},
   "outputs": [
    {
     "name": "stdout",
     "output_type": "stream",
     "text": [
      "Full Formula (Cs1 F1)\n",
      "Reduced Formula: CsF\n",
      "abc   :   4.200000   4.200000   4.200000\n",
      "angles:  90.000000  90.000000  90.000000\n",
      "Sites (2)\n",
      "  #  SP      a    b    c\n",
      "---  ----  ---  ---  ---\n",
      "  0  Cs    0    0    0\n",
      "  1  F     0.5  0.5  0.5\n"
     ]
    }
   ],
   "source": [
    "structure[1] = 'F'\n",
    "print(structure)"
   ]
  },
  {
   "cell_type": "markdown",
   "metadata": {},
   "source": [
    "改变元素种类和坐标(分数坐标)"
   ]
  },
  {
   "cell_type": "code",
   "execution_count": 16,
   "metadata": {},
   "outputs": [
    {
     "name": "stdout",
     "output_type": "stream",
     "text": [
      "Full Formula (Cs1 Cl1)\n",
      "Reduced Formula: CsCl\n",
      "abc   :   4.200000   4.200000   4.200000\n",
      "angles:  90.000000  90.000000  90.000000\n",
      "Sites (2)\n",
      "  #  SP       a     b     c\n",
      "---  ----  ----  ----  ----\n",
      "  0  Cs    0     0     0\n",
      "  1  Cl    0.51  0.51  0.51\n"
     ]
    }
   ],
   "source": [
    "structure[1] = \"Cl\", [0.51, 0.51, 0.51]\n",
    "print(structure)"
   ]
  },
  {
   "cell_type": "markdown",
   "metadata": {},
   "source": [
    "用K取代所有的Cs"
   ]
  },
  {
   "cell_type": "code",
   "execution_count": 17,
   "metadata": {},
   "outputs": [
    {
     "name": "stdout",
     "output_type": "stream",
     "text": [
      "Full Formula (K1 Cl1)\n",
      "Reduced Formula: KCl\n",
      "abc   :   4.200000   4.200000   4.200000\n",
      "angles:  90.000000  90.000000  90.000000\n",
      "Sites (2)\n",
      "  #  SP       a     b     c\n",
      "---  ----  ----  ----  ----\n",
      "  0  K     0     0     0\n",
      "  1  Cl    0.51  0.51  0.51\n"
     ]
    }
   ],
   "source": [
    "structure[\"Cs\"] = \"K\"\n",
    "print(structure)"
   ]
  },
  {
   "cell_type": "markdown",
   "metadata": {},
   "source": [
    "用`K: 0.5, Na: 0.5`替换结构中的所有K"
   ]
  },
  {
   "cell_type": "code",
   "execution_count": 18,
   "metadata": {},
   "outputs": [
    {
     "name": "stdout",
     "output_type": "stream",
     "text": [
      "Full Formula (K0.5 Na0.5 Cl1)\n",
      "Reduced Formula: K0.5Na0.5Cl1\n",
      "abc   :   4.200000   4.200000   4.200000\n",
      "angles:  90.000000  90.000000  90.000000\n",
      "Sites (2)\n",
      "  #  SP                    a     b     c\n",
      "---  -----------------  ----  ----  ----\n",
      "  0  K:0.500, Na:0.500  0     0     0\n",
      "  1  Cl                 0.51  0.51  0.51\n"
     ]
    }
   ],
   "source": [
    "structure[\"K\"] = \"K0.5Na0.5\"\n",
    "print(structure)"
   ]
  },
  {
   "cell_type": "markdown",
   "metadata": {},
   "source": [
    "结构的行为类似于一个列表, 支持大多数列表式的方法, 例如排序和反向排序"
   ]
  },
  {
   "cell_type": "code",
   "execution_count": 19,
   "metadata": {},
   "outputs": [
    {
     "name": "stdout",
     "output_type": "stream",
     "text": [
      "Full Formula (Cs1 Cl1)\n",
      "Reduced Formula: CsCl\n",
      "abc   :   4.200000   4.200000   4.200000\n",
      "angles:  90.000000  90.000000  90.000000\n",
      "Sites (2)\n",
      "  #  SP      a    b    c\n",
      "---  ----  ---  ---  ---\n",
      "  0  Cs    0    0    0\n",
      "  1  Cl    0.5  0.5  0.5\n",
      "Full Formula (Cs1 Cl1)\n",
      "Reduced Formula: CsCl\n",
      "abc   :   4.200000   4.200000   4.200000\n",
      "angles:  90.000000  90.000000  90.000000\n",
      "Sites (2)\n",
      "  #  SP      a    b    c\n",
      "---  ----  ---  ---  ---\n",
      "  0  Cl    0.5  0.5  0.5\n",
      "  1  Cs    0    0    0\n"
     ]
    }
   ],
   "source": [
    "structure = mg.Structure(lattice, ['Cs','Cl'], [[0,0,0],[0.5,0.5,0.5]])\n",
    "print(structure)\n",
    "structure.reverse() # 反转了什么?\n",
    "print(structure)"
   ]
  },
  {
   "cell_type": "markdown",
   "metadata": {},
   "source": [
    "分子操作函数, 位置使用的是笛卡尔坐标"
   ]
  },
  {
   "cell_type": "code",
   "execution_count": 20,
   "metadata": {},
   "outputs": [
    {
     "data": {
      "text/plain": [
       "Molecule Summary\n",
       "Site: H (0.6326, 0.6326, 0.6326)\n",
       "Site: H (4.3409, 4.3409, 0.6326)\n",
       "Site: H (1.8541, 3.1194, 1.8541)\n",
       "Site: H (3.1194, 1.8541, 1.8541)\n",
       "Site: H (3.1194, 3.1194, 3.1194)\n",
       "Site: H (1.8541, 1.8541, 3.1194)\n",
       "Site: H (4.3409, 0.6326, 4.3409)\n",
       "Site: H (0.6326, 4.3409, 4.3409)\n",
       "Site: C (0.0000, 0.0000, 0.0000)\n",
       "Site: C (0.0000, 0.0000, 4.9735)\n",
       "Site: C (0.0000, 4.9735, 0.0000)\n",
       "Site: C (0.0000, 4.9735, 4.9735)\n",
       "Site: C (4.9735, 0.0000, 0.0000)\n",
       "Site: C (4.9735, 0.0000, 4.9735)\n",
       "Site: C (4.9735, 4.9735, 0.0000)\n",
       "Site: C (4.9735, 4.9735, 4.9735)\n",
       "Site: C (2.4868, 2.4868, 2.4868)\n",
       "Site: H (-0.6326, -0.6326, 0.6326)\n",
       "Site: H (-0.6326, 0.6326, -0.6326)\n",
       "Site: H (0.6326, -0.6326, -0.6326)\n",
       "Site: H (-0.6326, -0.6326, 5.6062)\n",
       "Site: H (-0.6326, 0.6326, 4.3409)\n",
       "Site: H (0.6326, -0.6326, 4.3409)\n",
       "Site: H (0.6326, 0.6326, 5.6062)\n",
       "Site: H (-0.6326, 4.3409, 0.6326)\n",
       "Site: H (-0.6326, 5.6062, -0.6326)\n",
       "Site: H (0.6326, 4.3409, -0.6326)\n",
       "Site: H (0.6326, 5.6062, 0.6326)\n",
       "Site: H (-0.6326, 4.3409, 5.6062)\n",
       "Site: H (-0.6326, 5.6062, 4.3409)\n",
       "Site: H (0.6326, 5.6062, 5.6062)\n",
       "Site: H (4.3409, -0.6326, 0.6326)\n",
       "Site: H (4.3409, 0.6326, -0.6326)\n",
       "Site: H (5.6062, -0.6326, -0.6326)\n",
       "Site: H (5.6062, 0.6326, 0.6326)\n",
       "Site: H (4.3409, -0.6326, 5.6062)\n",
       "Site: H (5.6062, -0.6326, 4.3409)\n",
       "Site: H (5.6062, 0.6326, 5.6062)\n",
       "Site: H (4.3409, 5.6062, -0.6326)\n",
       "Site: H (5.6062, 4.3409, -0.6326)\n",
       "Site: H (5.6062, 5.6062, 0.6326)\n",
       "Site: H (4.3409, 4.3409, 5.6062)\n",
       "Site: H (4.3409, 5.6062, 4.3409)\n",
       "Site: H (5.6062, 4.3409, 4.3409)\n",
       "Site: H (5.6062, 5.6062, 5.6062)"
      ]
     },
     "execution_count": 20,
     "metadata": {},
     "output_type": "execute_result"
    }
   ],
   "source": [
    "methane"
   ]
  },
  {
   "cell_type": "code",
   "execution_count": 21,
   "metadata": {},
   "outputs": [
    {
     "data": {
      "text/plain": [
       "Molecule Summary\n",
       "Site: N (0.0100, 0.0000, 0.0000)\n",
       "Site: H (4.3409, 4.3409, 0.6326)\n",
       "Site: H (1.8541, 3.1194, 1.8541)\n",
       "Site: H (3.1194, 1.8541, 1.8541)\n",
       "Site: H (3.1194, 3.1194, 3.1194)\n",
       "Site: H (1.8541, 1.8541, 3.1194)\n",
       "Site: H (4.3409, 0.6326, 4.3409)\n",
       "Site: H (0.6326, 4.3409, 4.3409)\n",
       "Site: C (0.0000, 0.0000, 0.0000)\n",
       "Site: C (0.0000, 0.0000, 4.9735)\n",
       "Site: C (0.0000, 4.9735, 0.0000)\n",
       "Site: C (0.0000, 4.9735, 4.9735)\n",
       "Site: C (4.9735, 0.0000, 0.0000)\n",
       "Site: C (4.9735, 0.0000, 4.9735)\n",
       "Site: C (4.9735, 4.9735, 0.0000)\n",
       "Site: C (4.9735, 4.9735, 4.9735)\n",
       "Site: C (2.4868, 2.4868, 2.4868)\n",
       "Site: H (-0.6326, -0.6326, 0.6326)\n",
       "Site: H (-0.6326, 0.6326, -0.6326)\n",
       "Site: H (0.6326, -0.6326, -0.6326)\n",
       "Site: H (-0.6326, -0.6326, 5.6062)\n",
       "Site: H (-0.6326, 0.6326, 4.3409)\n",
       "Site: H (0.6326, -0.6326, 4.3409)\n",
       "Site: H (0.6326, 0.6326, 5.6062)\n",
       "Site: H (-0.6326, 4.3409, 0.6326)\n",
       "Site: H (-0.6326, 5.6062, -0.6326)\n",
       "Site: H (0.6326, 4.3409, -0.6326)\n",
       "Site: H (0.6326, 5.6062, 0.6326)\n",
       "Site: H (-0.6326, 4.3409, 5.6062)\n",
       "Site: H (-0.6326, 5.6062, 4.3409)\n",
       "Site: H (0.6326, 5.6062, 5.6062)\n",
       "Site: H (4.3409, -0.6326, 0.6326)\n",
       "Site: H (4.3409, 0.6326, -0.6326)\n",
       "Site: H (5.6062, -0.6326, -0.6326)\n",
       "Site: H (5.6062, 0.6326, 0.6326)\n",
       "Site: H (4.3409, -0.6326, 5.6062)\n",
       "Site: H (5.6062, -0.6326, 4.3409)\n",
       "Site: H (5.6062, 0.6326, 5.6062)\n",
       "Site: H (4.3409, 5.6062, -0.6326)\n",
       "Site: H (5.6062, 4.3409, -0.6326)\n",
       "Site: H (5.6062, 5.6062, 0.6326)\n",
       "Site: H (4.3409, 4.3409, 5.6062)\n",
       "Site: H (4.3409, 5.6062, 4.3409)\n",
       "Site: H (5.6062, 4.3409, 4.3409)\n",
       "Site: H (5.6062, 5.6062, 5.6062)"
      ]
     },
     "execution_count": 21,
     "metadata": {},
     "output_type": "execute_result"
    }
   ],
   "source": [
    "methane[0] = \"N\", [0.01, 0, 0]\n",
    "methane"
   ]
  },
  {
   "cell_type": "markdown",
   "metadata": {},
   "source": [
    "If you set up your .pmgrc.yaml with your Materials Project API key You can now easily grab structures from the Materials Project."
   ]
  },
  {
   "cell_type": "code",
   "execution_count": 1,
   "metadata": {
    "scrolled": true
   },
   "outputs": [
    {
     "name": "stderr",
     "output_type": "stream",
     "text": [
      "C:\\Users\\tfliu\\Anaconda3\\lib\\site-packages\\pymatgen\\__init__.py:80: UserWarning: 61 structures with formula LiFePO4 found in Materials Project. The lowest energy structure will be returned.\n",
      "  (len(entries), formula))\n"
     ]
    }
   ],
   "source": [
    "lifepo4 = mg.get_structure_from_mp(\"LiFePO4\")"
   ]
  },
  {
   "cell_type": "code",
   "execution_count": 2,
   "metadata": {},
   "outputs": [
    {
     "data": {
      "text/plain": [
       "Structure Summary\n",
       "Lattice\n",
       "    abc : 10.45298766 6.08649492 4.753437\n",
       " angles : 90.0 90.0 90.0\n",
       " volume : 302.4234363916838\n",
       "      A : 10.45298766 0.0 0.0\n",
       "      B : 0.0 6.08649492 0.0\n",
       "      C : 0.0 0.0 4.753437\n",
       "PeriodicSite: Li (0.0000, 0.0000, 0.0000) [0.0000, 0.0000, 0.0000]\n",
       "PeriodicSite: Li (5.2265, 3.0432, 2.3767) [0.5000, 0.5000, 0.5000]\n",
       "PeriodicSite: Li (5.2265, 0.0000, 2.3767) [0.5000, 0.0000, 0.5000]\n",
       "PeriodicSite: Li (0.0000, 3.0432, 0.0000) [0.0000, 0.5000, 0.0000]\n",
       "PeriodicSite: O (4.2176, 4.5649, 1.1519) [0.4035, 0.7500, 0.2423]\n",
       "PeriodicSite: O (8.7210, 3.3299, 3.3933) [0.8343, 0.5471, 0.7139]\n",
       "PeriodicSite: O (8.7210, 5.7999, 3.3933) [0.8343, 0.9529, 0.7139]\n",
       "PeriodicSite: O (9.4441, 4.5649, 1.2249) [0.9035, 0.7500, 0.2577]\n",
       "PeriodicSite: O (0.4465, 4.5649, 3.3587) [0.0427, 0.7500, 0.7066]\n",
       "PeriodicSite: O (1.0089, 1.5216, 3.5286) [0.0965, 0.2500, 0.7423]\n",
       "PeriodicSite: O (1.7319, 0.2866, 1.3602) [0.1657, 0.0471, 0.2861]\n",
       "PeriodicSite: O (6.9584, 2.7566, 1.0166) [0.6657, 0.4529, 0.2139]\n",
       "PeriodicSite: O (3.4946, 3.3299, 3.7369) [0.3343, 0.5471, 0.7861]\n",
       "PeriodicSite: O (3.4946, 5.7999, 3.7369) [0.3343, 0.9529, 0.7861]\n",
       "PeriodicSite: O (1.7319, 2.7566, 1.3602) [0.1657, 0.4529, 0.2861]\n",
       "PeriodicSite: O (4.7800, 1.5216, 0.9820) [0.4573, 0.2500, 0.2066]\n",
       "PeriodicSite: O (5.6730, 4.5649, 3.7714) [0.5427, 0.7500, 0.7934]\n",
       "PeriodicSite: O (6.2354, 1.5216, 3.6016) [0.5965, 0.2500, 0.7577]\n",
       "PeriodicSite: O (6.9584, 0.2866, 1.0166) [0.6657, 0.0471, 0.2139]\n",
       "PeriodicSite: O (10.0065, 1.5216, 1.3947) [0.9573, 0.2500, 0.2934]\n",
       "PeriodicSite: P (0.9896, 1.5216, 1.9909) [0.0947, 0.2500, 0.4188]\n",
       "PeriodicSite: P (4.2369, 4.5649, 4.3677) [0.4053, 0.7500, 0.9188]\n",
       "PeriodicSite: P (6.2161, 1.5216, 0.3858) [0.5947, 0.2500, 0.0812]\n",
       "PeriodicSite: P (9.4634, 4.5649, 2.7625) [0.9053, 0.7500, 0.5812]\n",
       "PeriodicSite: Fe (8.1689, 1.5216, 2.4906) [0.7815, 0.2500, 0.5240]\n",
       "PeriodicSite: Fe (7.5105, 4.5649, 0.1139) [0.7185, 0.7500, 0.0240]\n",
       "PeriodicSite: Fe (2.9425, 1.5216, 4.6395) [0.2815, 0.2500, 0.9760]\n",
       "PeriodicSite: Fe (2.2840, 4.5649, 2.2628) [0.2185, 0.7500, 0.4760]"
      ]
     },
     "execution_count": 2,
     "metadata": {},
     "output_type": "execute_result"
    }
   ],
   "source": [
    "lifepo4"
   ]
  },
  {
   "cell_type": "code",
   "execution_count": null,
   "metadata": {},
   "outputs": [],
   "source": []
  },
  {
   "cell_type": "code",
   "execution_count": null,
   "metadata": {},
   "outputs": [],
   "source": []
  },
  {
   "cell_type": "code",
   "execution_count": null,
   "metadata": {},
   "outputs": [],
   "source": []
  },
  {
   "cell_type": "code",
   "execution_count": null,
   "metadata": {},
   "outputs": [],
   "source": []
  },
  {
   "cell_type": "code",
   "execution_count": null,
   "metadata": {},
   "outputs": [],
   "source": []
  },
  {
   "cell_type": "code",
   "execution_count": null,
   "metadata": {},
   "outputs": [],
   "source": []
  },
  {
   "cell_type": "code",
   "execution_count": null,
   "metadata": {},
   "outputs": [],
   "source": []
  },
  {
   "cell_type": "code",
   "execution_count": null,
   "metadata": {},
   "outputs": [],
   "source": []
  },
  {
   "cell_type": "code",
   "execution_count": null,
   "metadata": {},
   "outputs": [],
   "source": []
  },
  {
   "cell_type": "code",
   "execution_count": null,
   "metadata": {},
   "outputs": [],
   "source": []
  },
  {
   "cell_type": "code",
   "execution_count": null,
   "metadata": {},
   "outputs": [],
   "source": []
  },
  {
   "cell_type": "code",
   "execution_count": null,
   "metadata": {},
   "outputs": [],
   "source": []
  },
  {
   "cell_type": "code",
   "execution_count": null,
   "metadata": {},
   "outputs": [],
   "source": []
  },
  {
   "cell_type": "code",
   "execution_count": null,
   "metadata": {},
   "outputs": [],
   "source": []
  },
  {
   "cell_type": "code",
   "execution_count": null,
   "metadata": {},
   "outputs": [],
   "source": []
  },
  {
   "cell_type": "code",
   "execution_count": null,
   "metadata": {},
   "outputs": [],
   "source": []
  },
  {
   "cell_type": "code",
   "execution_count": null,
   "metadata": {},
   "outputs": [],
   "source": []
  },
  {
   "cell_type": "code",
   "execution_count": null,
   "metadata": {},
   "outputs": [],
   "source": []
  },
  {
   "cell_type": "code",
   "execution_count": null,
   "metadata": {},
   "outputs": [],
   "source": []
  }
 ],
 "metadata": {
  "kernelspec": {
   "display_name": "Python 3",
   "language": "python",
   "name": "python3"
  },
  "language_info": {
   "codemirror_mode": {
    "name": "ipython",
    "version": 3
   },
   "file_extension": ".py",
   "mimetype": "text/x-python",
   "name": "python",
   "nbconvert_exporter": "python",
   "pygments_lexer": "ipython3",
   "version": "3.6.5"
  },
  "toc": {
   "base_numbering": 1,
   "nav_menu": {},
   "number_sections": true,
   "sideBar": true,
   "skip_h1_title": true,
   "title_cell": "Table of Contents",
   "title_sidebar": "Contents",
   "toc_cell": false,
   "toc_position": {},
   "toc_section_display": true,
   "toc_window_display": false
  }
 },
 "nbformat": 4,
 "nbformat_minor": 2
}
