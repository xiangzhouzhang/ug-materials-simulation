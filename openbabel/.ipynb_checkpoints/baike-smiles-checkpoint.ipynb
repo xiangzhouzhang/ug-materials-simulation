{
 "cells": [
  {
   "cell_type": "markdown",
   "metadata": {},
   "source": [
    "# smile()函数"
   ]
  },
  {
   "cell_type": "markdown",
   "metadata": {},
   "source": [
    "定义一个从smiles字符串显示分子结构的函数"
   ]
  },
  {
   "cell_type": "code",
   "execution_count": 1,
   "metadata": {},
   "outputs": [],
   "source": [
    "def smile(smi=\"c1ccccc1\", make3d=False, svg=True, filename=None):\n",
    "    \"\"\"以svg的格式显示smiles结构,以png的格式保存smiles结构\"\"\"\n",
    "\n",
    "    # 读取smi字符串\n",
    "    mol = readstring(\"smiles\", smi)\n",
    "\n",
    "    # 三维投影显示,影响filename, 影响svg?png\n",
    "    if make3d:\n",
    "        mol.make3D()\n",
    "    # 创建文件,并不是函数的返回值\n",
    "    if filename != None:\n",
    "        mol.draw(show=False, filename=filename)\n",
    "        print(\"file @{}>> also has been saved.\".format(filename))\n",
    "\n",
    "    # 显示svg?png,只能返回一个\n",
    "    if svg == True:\n",
    "        svg = SVG(mol.write(\"svg\"))\n",
    "        return svg\n",
    "    else:\n",
    "        return mol"
   ]
  },
  {
   "cell_type": "markdown",
   "metadata": {},
   "source": [
    "测试smile()"
   ]
  },
  {
   "cell_type": "code",
   "execution_count": 2,
   "metadata": {},
   "outputs": [
    {
     "data": {
      "image/svg+xml": [
       "<svg xmlns=\"http://www.w3.org/2000/svg\" font-family=\"sans-serif\" height=\"100\" stroke=\"rgb(0,0,0)\" stroke-linecap=\"round\" stroke-width=\"2\" viewBox=\"0 0 149.282 160\" width=\"100\" x=\"0\" y=\"0\">\n",
       "<line stroke=\"rgb(0,0,0)\" stroke-width=\"2.0\" x1=\"40.0\" x2=\"74.6\" y1=\"60.0\" y2=\"40.0\" />\n",
       "<line stroke=\"rgb(0,0,0)\" stroke-width=\"2.0\" x1=\"48.8\" x2=\"73.0\" y1=\"63.2\" y2=\"49.2\" />\n",
       "<line stroke=\"rgb(0,0,0)\" stroke-width=\"2.0\" x1=\"74.6\" x2=\"109.3\" y1=\"40.0\" y2=\"60.0\" />\n",
       "<line stroke=\"rgb(0,0,0)\" stroke-width=\"2.0\" x1=\"109.3\" x2=\"109.3\" y1=\"60.0\" y2=\"100.0\" />\n",
       "<line stroke=\"rgb(0,0,0)\" stroke-width=\"2.0\" x1=\"102.1\" x2=\"102.1\" y1=\"66.0\" y2=\"94.0\" />\n",
       "<line stroke=\"rgb(0,0,0)\" stroke-width=\"2.0\" x1=\"109.3\" x2=\"74.6\" y1=\"100.0\" y2=\"120.0\" />\n",
       "<line stroke=\"rgb(0,0,0)\" stroke-width=\"2.0\" x1=\"74.6\" x2=\"40.0\" y1=\"120.0\" y2=\"100.0\" />\n",
       "<line stroke=\"rgb(0,0,0)\" stroke-width=\"2.0\" x1=\"73.0\" x2=\"48.8\" y1=\"110.8\" y2=\"96.8\" />\n",
       "<line stroke=\"rgb(0,0,0)\" stroke-width=\"2.0\" x1=\"40.0\" x2=\"40.0\" y1=\"100.0\" y2=\"60.0\" />\n",
       "</svg>\n"
      ],
      "text/plain": [
       "<pybel.Molecule at 0x218430ef8d0>"
      ]
     },
     "execution_count": 2,
     "metadata": {},
     "output_type": "execute_result"
    }
   ],
   "source": [
    "smile(svg=0)"
   ]
  },
  {
   "cell_type": "markdown",
   "metadata": {},
   "source": [
    "# baidu-smiles"
   ]
  },
  {
   "cell_type": "markdown",
   "metadata": {},
   "source": [
    "**InChI**: 国际化合物标识(International Chemical Identifier), 具有唯一性;  \n",
    "**SMILES**: 简化分子线性输入规范(Simplified molecular input line entry specification);"
   ]
  },
  {
   "cell_type": "markdown",
   "metadata": {},
   "source": [
    "## smile规则"
   ]
  },
  {
   "cell_type": "markdown",
   "metadata": {},
   "source": [
    "有机物中的C, N, O, P, S, Br, Cl, I等原子可以省略方括号, 其他元素必须包括在方括号之内;"
   ]
  },
  {
   "cell_type": "code",
   "execution_count": 3,
   "metadata": {},
   "outputs": [
    {
     "data": {
      "image/svg+xml": [
       "<svg xmlns=\"http://www.w3.org/2000/svg\" font-family=\"sans-serif\" height=\"100\" stroke=\"rgb(0,0,0)\" stroke-linecap=\"round\" stroke-width=\"2\" viewBox=\"0 0 80 80\" width=\"100\" x=\"0\" y=\"0\">\n",
       "<text fill=\"rgb(198,127,51)\" font-size=\"16\" stroke=\"rgb(198,127,51)\" stroke-width=\"1\" x=\"34\" y=\"48\">Cu</text>\n",
       "</svg>\n"
      ],
      "text/plain": [
       "<pybel.Molecule at 0x218430efe10>"
      ]
     },
     "execution_count": 3,
     "metadata": {},
     "output_type": "execute_result"
    }
   ],
   "source": [
    "smile('[Cu]',svg=0)"
   ]
  },
  {
   "cell_type": "code",
   "execution_count": 4,
   "metadata": {},
   "outputs": [
    {
     "data": {
      "image/svg+xml": [
       "<svg xmlns=\"http://www.w3.org/2000/svg\" font-family=\"sans-serif\" height=\"100\" stroke=\"rgb(0,0,0)\" stroke-linecap=\"round\" stroke-width=\"2\" viewBox=\"0 0 80 80\" width=\"100\" x=\"0\" y=\"0\">\n",
       "<text fill=\"rgb(30,239,30)\" font-size=\"16\" stroke=\"rgb(30,239,30)\" stroke-width=\"1\" x=\"34\" y=\"48\">ClH</text>\n",
       "</svg>\n"
      ],
      "text/plain": [
       "<pybel.Molecule at 0x218430efe48>"
      ]
     },
     "execution_count": 4,
     "metadata": {},
     "output_type": "execute_result"
    }
   ],
   "source": [
    "smile('Cl',svg=0)"
   ]
  },
  {
   "cell_type": "markdown",
   "metadata": {},
   "source": [
    "氢原子常被省略"
   ]
  },
  {
   "cell_type": "code",
   "execution_count": 5,
   "metadata": {},
   "outputs": [
    {
     "data": {
      "image/svg+xml": [
       "<svg xmlns=\"http://www.w3.org/2000/svg\" font-family=\"sans-serif\" height=\"100\" stroke=\"rgb(0,0,0)\" stroke-linecap=\"round\" stroke-width=\"2\" viewBox=\"0 0 80 80\" width=\"100\" x=\"0\" y=\"0\">\n",
       "<text fill=\"rgb(255,12,12)\" font-size=\"16\" stroke=\"rgb(255,12,12)\" stroke-width=\"1\" x=\"36\" y=\"48\">OH</text>\n",
       "<text fill=\"rgb(255,12,12)\" font-size=\"13\" stroke=\"rgb(255,12,12)\" stroke-width=\"1\" x=\"60\" y=\"51.68\">2</text>\n",
       "</svg>\n"
      ],
      "text/plain": [
       "<pybel.Molecule at 0x218430ef748>"
      ]
     },
     "execution_count": 5,
     "metadata": {},
     "output_type": "execute_result"
    }
   ],
   "source": [
    "smile('O',svg=0)"
   ]
  },
  {
   "cell_type": "code",
   "execution_count": 6,
   "metadata": {},
   "outputs": [
    {
     "data": {
      "image/svg+xml": [
       "<svg xmlns=\"http://www.w3.org/2000/svg\" font-family=\"sans-serif\" height=\"100\" stroke=\"rgb(0,0,0)\" stroke-linecap=\"round\" stroke-width=\"2\" viewBox=\"0 0 149.282 100\" width=\"100\" x=\"0\" y=\"0\">\n",
       "<line stroke=\"rgb(0,0,0)\" stroke-width=\"2.0\" x1=\"98.0\" x2=\"74.6\" y1=\"53.5\" y2=\"40.0\" />\n",
       "<line stroke=\"rgb(0,0,0)\" stroke-width=\"2.0\" x1=\"74.6\" x2=\"51.3\" y1=\"40.0\" y2=\"53.5\" />\n",
       "<text fill=\"rgb(102,102,102)\" font-size=\"16\" stroke=\"rgb(102,102,102)\" stroke-width=\"1\" x=\"105.282032\" y=\"68.000000\">CH</text>\n",
       "<text fill=\"rgb(102,102,102)\" font-size=\"13\" stroke=\"rgb(102,102,102)\" stroke-width=\"1\" x=\"129.282032\" y=\"71.680000\">3</text>\n",
       "<text fill=\"rgb(255,12,12)\" font-size=\"16\" stroke=\"rgb(255,12,12)\" stroke-width=\"1\" x=\"22.000000\" y=\"68.000000\">HO</text>\n",
       "</svg>\n"
      ],
      "text/plain": [
       "<pybel.Molecule at 0x218430efc18>"
      ]
     },
     "execution_count": 6,
     "metadata": {},
     "output_type": "execute_result"
    }
   ],
   "source": [
    "smile('CCO',svg=0)"
   ]
  },
  {
   "cell_type": "markdown",
   "metadata": {},
   "source": [
    "双键用`=`表示, 三键用`#`表示"
   ]
  },
  {
   "cell_type": "code",
   "execution_count": 7,
   "metadata": {},
   "outputs": [
    {
     "data": {
      "image/svg+xml": [
       "<svg xmlns=\"http://www.w3.org/2000/svg\" font-family=\"sans-serif\" height=\"100\" stroke=\"rgb(0,0,0)\" stroke-linecap=\"round\" stroke-width=\"2\" viewBox=\"0 0 160 80\" width=\"100\" x=\"0\" y=\"0\">\n",
       "<line stroke=\"rgb(0,0,0)\" stroke-width=\"2.0\" x1=\"107.0\" x2=\"80.0\" y1=\"43.0\" y2=\"43.0\" />\n",
       "<line stroke=\"rgb(0,0,0)\" stroke-width=\"2.0\" x1=\"107.0\" x2=\"80.0\" y1=\"37.0\" y2=\"37.0\" />\n",
       "<line stroke=\"rgb(0,0,0)\" stroke-width=\"2.0\" x1=\"80.0\" x2=\"53.0\" y1=\"43.0\" y2=\"43.0\" />\n",
       "<line stroke=\"rgb(0,0,0)\" stroke-width=\"2.0\" x1=\"80.0\" x2=\"53.0\" y1=\"37.0\" y2=\"37.0\" />\n",
       "<text fill=\"rgb(255,12,12)\" font-size=\"16\" stroke=\"rgb(255,12,12)\" stroke-width=\"1\" x=\"114.000000\" y=\"48.000000\">O</text>\n",
       "<text fill=\"rgb(255,12,12)\" font-size=\"16\" stroke=\"rgb(255,12,12)\" stroke-width=\"1\" x=\"34.000000\" y=\"48.000000\">O</text>\n",
       "</svg>\n"
      ],
      "text/plain": [
       "<pybel.Molecule at 0x218430efcc0>"
      ]
     },
     "execution_count": 7,
     "metadata": {},
     "output_type": "execute_result"
    }
   ],
   "source": [
    "# 含有双键的CO2\n",
    "smile('O=C=O',svg=0)"
   ]
  },
  {
   "cell_type": "code",
   "execution_count": 8,
   "metadata": {},
   "outputs": [
    {
     "data": {
      "image/svg+xml": [
       "<svg xmlns=\"http://www.w3.org/2000/svg\" font-family=\"sans-serif\" height=\"100\" stroke=\"rgb(0,0,0)\" stroke-linecap=\"round\" stroke-width=\"2\" viewBox=\"0 0 120 80\" width=\"100\" x=\"0\" y=\"0\">\n",
       "<line stroke=\"rgb(0,0,0)\" stroke-width=\"2.0\" x1=\"67.0\" x2=\"53.0\" y1=\"40.0\" y2=\"40.0\" />\n",
       "<line stroke=\"rgb(0,0,0)\" stroke-width=\"2.0\" x1=\"67.0\" x2=\"53.0\" y1=\"44.2\" y2=\"44.2\" />\n",
       "<line stroke=\"rgb(0,0,0)\" stroke-width=\"2.0\" x1=\"67.0\" x2=\"53.0\" y1=\"35.8\" y2=\"35.8\" />\n",
       "<text fill=\"rgb(102,102,102)\" font-size=\"16\" stroke=\"rgb(102,102,102)\" stroke-width=\"1\" x=\"74.000000\" y=\"48.000000\">CH</text>\n",
       "<text fill=\"rgb(12,12,255)\" font-size=\"16\" stroke=\"rgb(12,12,255)\" stroke-width=\"1\" x=\"34.000000\" y=\"48.000000\">N</text>\n",
       "</svg>\n"
      ],
      "text/plain": [
       "<pybel.Molecule at 0x218430efbe0>"
      ]
     },
     "execution_count": 8,
     "metadata": {},
     "output_type": "execute_result"
    }
   ],
   "source": [
    "# 含有三键的氰化氢\n",
    "smile('C#N',svg=0)"
   ]
  },
  {
   "cell_type": "markdown",
   "metadata": {},
   "source": [
    "如果结构中有环, 则要打开, 断开处的两个原子用同一个数字标记, 表示原子间有键相连"
   ]
  },
  {
   "cell_type": "code",
   "execution_count": 9,
   "metadata": {},
   "outputs": [
    {
     "data": {
      "image/svg+xml": [
       "<svg xmlns=\"http://www.w3.org/2000/svg\" font-family=\"sans-serif\" height=\"100\" stroke=\"rgb(0,0,0)\" stroke-linecap=\"round\" stroke-width=\"2\" viewBox=\"0 0 149.282 160\" width=\"100\" x=\"0\" y=\"0\">\n",
       "<line stroke=\"rgb(0,0,0)\" stroke-width=\"2.0\" x1=\"40.0\" x2=\"74.6\" y1=\"60.0\" y2=\"40.0\" />\n",
       "<line stroke=\"rgb(0,0,0)\" stroke-width=\"2.0\" x1=\"74.6\" x2=\"109.3\" y1=\"40.0\" y2=\"60.0\" />\n",
       "<line stroke=\"rgb(0,0,0)\" stroke-width=\"2.0\" x1=\"109.3\" x2=\"109.3\" y1=\"60.0\" y2=\"100.0\" />\n",
       "<line stroke=\"rgb(0,0,0)\" stroke-width=\"2.0\" x1=\"109.3\" x2=\"74.6\" y1=\"100.0\" y2=\"120.0\" />\n",
       "<line stroke=\"rgb(0,0,0)\" stroke-width=\"2.0\" x1=\"74.6\" x2=\"40.0\" y1=\"120.0\" y2=\"100.0\" />\n",
       "<line stroke=\"rgb(0,0,0)\" stroke-width=\"2.0\" x1=\"40.0\" x2=\"40.0\" y1=\"100.0\" y2=\"60.0\" />\n",
       "</svg>\n"
      ],
      "text/plain": [
       "<pybel.Molecule at 0x2184314e4e0>"
      ]
     },
     "execution_count": 9,
     "metadata": {},
     "output_type": "execute_result"
    }
   ],
   "source": [
    "# 环己烷\n",
    "smile('C1CCCCC1',svg=0)"
   ]
  },
  {
   "cell_type": "markdown",
   "metadata": {},
   "source": [
    "芳环中的C,O,S,N原子分别用小写字母c,o,s,n表示"
   ]
  },
  {
   "cell_type": "code",
   "execution_count": 10,
   "metadata": {},
   "outputs": [
    {
     "data": {
      "image/svg+xml": [
       "<svg xmlns=\"http://www.w3.org/2000/svg\" font-family=\"sans-serif\" height=\"100\" stroke=\"rgb(0,0,0)\" stroke-linecap=\"round\" stroke-width=\"2\" viewBox=\"0 0 183.923 160\" width=\"100\" x=\"0\" y=\"0\">\n",
       "<line stroke=\"rgb(0,0,0)\" stroke-width=\"2.0\" x1=\"109.3\" x2=\"132.7\" y1=\"100.0\" y2=\"113.5\" />\n",
       "<line stroke=\"rgb(0,0,0)\" stroke-width=\"2.0\" x1=\"40.0\" x2=\"74.6\" y1=\"60.0\" y2=\"40.0\" />\n",
       "<line stroke=\"rgb(0,0,0)\" stroke-width=\"2.0\" x1=\"48.8\" x2=\"73.0\" y1=\"63.2\" y2=\"49.2\" />\n",
       "<line stroke=\"rgb(0,0,0)\" stroke-width=\"2.0\" x1=\"74.6\" x2=\"109.3\" y1=\"40.0\" y2=\"60.0\" />\n",
       "<line stroke=\"rgb(0,0,0)\" stroke-width=\"2.0\" x1=\"109.3\" x2=\"109.3\" y1=\"60.0\" y2=\"100.0\" />\n",
       "<line stroke=\"rgb(0,0,0)\" stroke-width=\"2.0\" x1=\"102.1\" x2=\"102.1\" y1=\"66.0\" y2=\"94.0\" />\n",
       "<line stroke=\"rgb(0,0,0)\" stroke-width=\"2.0\" x1=\"109.3\" x2=\"74.6\" y1=\"100.0\" y2=\"120.0\" />\n",
       "<line stroke=\"rgb(0,0,0)\" stroke-width=\"2.0\" x1=\"74.6\" x2=\"40.0\" y1=\"120.0\" y2=\"100.0\" />\n",
       "<line stroke=\"rgb(0,0,0)\" stroke-width=\"2.0\" x1=\"73.0\" x2=\"48.8\" y1=\"110.8\" y2=\"96.8\" />\n",
       "<line stroke=\"rgb(0,0,0)\" stroke-width=\"2.0\" x1=\"40.0\" x2=\"40.0\" y1=\"100.0\" y2=\"60.0\" />\n",
       "<text fill=\"rgb(255,12,12)\" font-size=\"16\" stroke=\"rgb(255,12,12)\" stroke-width=\"1\" x=\"137.923048\" y=\"128.000000\">OH</text>\n",
       "</svg>\n"
      ],
      "text/plain": [
       "<pybel.Molecule at 0x2184314ec50>"
      ]
     },
     "execution_count": 10,
     "metadata": {},
     "output_type": "execute_result"
    }
   ],
   "source": [
    "smile('c1ccccc1(O)',svg=0)"
   ]
  },
  {
   "cell_type": "markdown",
   "metadata": {},
   "source": [
    "碳链上的分支用圆括号表示"
   ]
  },
  {
   "cell_type": "code",
   "execution_count": 11,
   "metadata": {},
   "outputs": [
    {
     "data": {
      "image/svg+xml": [
       "<svg xmlns=\"http://www.w3.org/2000/svg\" font-family=\"sans-serif\" height=\"100\" stroke=\"rgb(0,0,0)\" stroke-linecap=\"round\" stroke-width=\"2\" viewBox=\"0 0 183.923 140\" width=\"100\" x=\"0\" y=\"0\">\n",
       "<line stroke=\"rgb(0,0,0)\" stroke-width=\"2.0\" x1=\"132.7\" x2=\"109.3\" y1=\"53.5\" y2=\"40.0\" />\n",
       "<line stroke=\"rgb(0,0,0)\" stroke-width=\"2.0\" x1=\"109.3\" x2=\"74.6\" y1=\"40.0\" y2=\"60.0\" />\n",
       "<line stroke=\"rgb(0,0,0)\" stroke-width=\"2.0\" x1=\"73.1\" x2=\"49.8\" y1=\"62.6\" y2=\"49.1\" />\n",
       "<line stroke=\"rgb(0,0,0)\" stroke-width=\"2.0\" x1=\"76.1\" x2=\"52.8\" y1=\"57.4\" y2=\"43.9\" />\n",
       "<line stroke=\"rgb(0,0,0)\" stroke-width=\"2.0\" x1=\"74.6\" x2=\"74.6\" y1=\"60.0\" y2=\"87.0\" />\n",
       "<text fill=\"rgb(102,102,102)\" font-size=\"16\" stroke=\"rgb(102,102,102)\" stroke-width=\"1\" x=\"139.923048\" y=\"68.000000\">CH</text>\n",
       "<text fill=\"rgb(102,102,102)\" font-size=\"13\" stroke=\"rgb(102,102,102)\" stroke-width=\"1\" x=\"163.923048\" y=\"71.680000\">3</text>\n",
       "<text fill=\"rgb(255,12,12)\" font-size=\"16\" stroke=\"rgb(255,12,12)\" stroke-width=\"1\" x=\"34.000000\" y=\"48.000000\">O</text>\n",
       "<text fill=\"rgb(255,12,12)\" font-size=\"16\" stroke=\"rgb(255,12,12)\" stroke-width=\"1\" x=\"68.641016\" y=\"108.000000\">OH</text>\n",
       "</svg>\n"
      ],
      "text/plain": [
       "<pybel.Molecule at 0x2184314e630>"
      ]
     },
     "execution_count": 11,
     "metadata": {},
     "output_type": "execute_result"
    }
   ],
   "source": [
    "# 丙酸\n",
    "smile('CCC(=O)O',svg=0)"
   ]
  },
  {
   "cell_type": "code",
   "execution_count": 12,
   "metadata": {
    "scrolled": true
   },
   "outputs": [
    {
     "data": {
      "image/svg+xml": [
       "<svg xmlns=\"http://www.w3.org/2000/svg\" font-family=\"sans-serif\" height=\"100\" stroke=\"rgb(0,0,0)\" stroke-linecap=\"round\" stroke-width=\"2\" viewBox=\"0 0 149.282 140\" width=\"100\" x=\"0\" y=\"0\">\n",
       "<line stroke=\"rgb(0,0,0)\" stroke-width=\"2.0\" x1=\"98.0\" x2=\"74.6\" y1=\"93.5\" y2=\"80.0\" />\n",
       "<line stroke=\"rgb(0,0,0)\" stroke-width=\"2.0\" x1=\"74.6\" x2=\"74.6\" y1=\"80.0\" y2=\"53.0\" />\n",
       "<line stroke=\"rgb(0,0,0)\" stroke-width=\"2.0\" x1=\"74.6\" x2=\"51.3\" y1=\"80.0\" y2=\"93.5\" />\n",
       "<text fill=\"rgb(127,178,255)\" font-size=\"16\" stroke=\"rgb(127,178,255)\" stroke-width=\"1\" x=\"103.282032\" y=\"108.000000\">F</text>\n",
       "<text fill=\"rgb(127,178,255)\" font-size=\"16\" stroke=\"rgb(127,178,255)\" stroke-width=\"1\" x=\"68.641016\" y=\"48.000000\">F</text>\n",
       "<text fill=\"rgb(127,178,255)\" font-size=\"16\" stroke=\"rgb(127,178,255)\" stroke-width=\"1\" x=\"34.000000\" y=\"108.000000\">F</text>\n",
       "</svg>\n"
      ],
      "text/plain": [
       "<pybel.Molecule at 0x2184314e320>"
      ]
     },
     "execution_count": 12,
     "metadata": {},
     "output_type": "execute_result"
    }
   ],
   "source": [
    "# 三氟甲烷\n",
    "smile('FC(F)F',svg=0)"
   ]
  },
  {
   "cell_type": "markdown",
   "metadata": {},
   "source": [
    "异构SMILES可以指定分子的手性"
   ]
  },
  {
   "cell_type": "code",
   "execution_count": 13,
   "metadata": {},
   "outputs": [
    {
     "data": {
      "image/svg+xml": [
       "<svg height=\"200px\" id=\"topsvg\" version=\"1.1\" viewBox=\"0 0 100 100\" width=\"200px\" x=\"0\" xmlns=\"http://www.w3.org/2000/svg\" xmlns:cml=\"http://www.xml-cml.org/schema\" xmlns:xlink=\"http://www.w3.org/1999/xlink\" y=\"0\">\n",
       "<title> - Open Babel Depiction</title>\n",
       "<rect fill=\"white\" height=\"100\" width=\"100\" x=\"0\" y=\"0\"/>\n",
       "<g transform=\"translate(0,0)\">\n",
       "<svg font-family=\"sans-serif\" height=\"100\" stroke=\"rgb(0,0,0)\" stroke-linecap=\"round\" stroke-width=\"2\" viewBox=\"0 0 183.923 180\" width=\"100\" x=\"0\" y=\"0\">\n",
       "<line stroke=\"rgb(0,0,0)\" stroke-width=\"2.0\" x1=\"132.7\" x2=\"109.3\" y1=\"86.5\" y2=\"100.0\"/>\n",
       "<line stroke=\"rgb(0,0,0)\" stroke-width=\"2.0\" x1=\"107.8\" x2=\"73.1\" y1=\"102.6\" y2=\"82.6\"/>\n",
       "<line stroke=\"rgb(0,0,0)\" stroke-width=\"2.0\" x1=\"110.8\" x2=\"76.1\" y1=\"97.4\" y2=\"77.4\"/>\n",
       "<line stroke=\"rgb(0,0,0)\" stroke-width=\"2.0\" x1=\"74.6\" x2=\"51.3\" y1=\"80.0\" y2=\"93.5\"/>\n",
       "<line stroke=\"rgb(0,0,0)\" stroke-width=\"2.0\" x1=\"109.3\" x2=\"109.3\" y1=\"100.0\" y2=\"127.0\"/>\n",
       "<line stroke=\"rgb(0,0,0)\" stroke-width=\"2.0\" x1=\"74.6\" x2=\"74.6\" y1=\"80.0\" y2=\"53.0\"/>\n",
       "<text fill=\"rgb(127,178,255)\" font-size=\"16\" stroke=\"rgb(127,178,255)\" stroke-width=\"1\" x=\"137.923048\" y=\"88.000000\">F</text>\n",
       "<text fill=\"rgb(127,178,255)\" font-size=\"16\" stroke=\"rgb(127,178,255)\" stroke-width=\"1\" x=\"34.000000\" y=\"108.000000\">F</text>\n",
       "<text fill=\"rgb(191,191,191)\" font-size=\"16\" stroke=\"rgb(191,191,191)\" stroke-width=\"1\" x=\"103.282032\" y=\"148.000000\">H</text>\n",
       "<text fill=\"rgb(191,191,191)\" font-size=\"16\" stroke=\"rgb(191,191,191)\" stroke-width=\"1\" x=\"68.641016\" y=\"48.000000\">H</text>\n",
       "</svg>\n",
       "</g>\n",
       "<text fill=\"black\" font-family=\"sans-serif\" font-size=\"18.000000\" x=\"10.000000\" y=\"20.000000\"/>\n",
       "</svg>"
      ],
      "text/plain": [
       "<IPython.core.display.SVG object>"
      ]
     },
     "execution_count": 13,
     "metadata": {},
     "output_type": "execute_result"
    }
   ],
   "source": [
    "smile('F/C=C/F',make3d=1)"
   ]
  },
  {
   "cell_type": "code",
   "execution_count": 14,
   "metadata": {},
   "outputs": [
    {
     "data": {
      "image/svg+xml": [
       "<svg height=\"200px\" id=\"topsvg\" version=\"1.1\" viewBox=\"0 0 100 100\" width=\"200px\" x=\"0\" xmlns=\"http://www.w3.org/2000/svg\" xmlns:cml=\"http://www.xml-cml.org/schema\" xmlns:xlink=\"http://www.w3.org/1999/xlink\" y=\"0\">\n",
       "<title> - Open Babel Depiction</title>\n",
       "<rect fill=\"white\" height=\"100\" width=\"100\" x=\"0\" y=\"0\"/>\n",
       "<g transform=\"translate(0,0)\">\n",
       "<svg font-family=\"sans-serif\" height=\"100\" stroke=\"rgb(0,0,0)\" stroke-linecap=\"round\" stroke-width=\"2\" viewBox=\"0 0 183.923 180\" width=\"100\" x=\"0\" y=\"0\">\n",
       "<line stroke=\"rgb(0,0,0)\" stroke-width=\"2.0\" x1=\"132.7\" x2=\"109.3\" y1=\"86.5\" y2=\"100.0\"/>\n",
       "<line stroke=\"rgb(0,0,0)\" stroke-width=\"2.0\" x1=\"107.8\" x2=\"73.1\" y1=\"102.6\" y2=\"82.6\"/>\n",
       "<line stroke=\"rgb(0,0,0)\" stroke-width=\"2.0\" x1=\"110.8\" x2=\"76.1\" y1=\"97.4\" y2=\"77.4\"/>\n",
       "<line stroke=\"rgb(0,0,0)\" stroke-width=\"2.0\" x1=\"74.6\" x2=\"74.6\" y1=\"80.0\" y2=\"53.0\"/>\n",
       "<line stroke=\"rgb(0,0,0)\" stroke-width=\"2.0\" x1=\"109.3\" x2=\"109.3\" y1=\"100.0\" y2=\"127.0\"/>\n",
       "<line stroke=\"rgb(0,0,0)\" stroke-width=\"2.0\" x1=\"74.6\" x2=\"51.3\" y1=\"80.0\" y2=\"93.5\"/>\n",
       "<text fill=\"rgb(127,178,255)\" font-size=\"16\" stroke=\"rgb(127,178,255)\" stroke-width=\"1\" x=\"137.923048\" y=\"88.000000\">F</text>\n",
       "<text fill=\"rgb(127,178,255)\" font-size=\"16\" stroke=\"rgb(127,178,255)\" stroke-width=\"1\" x=\"68.641016\" y=\"48.000000\">F</text>\n",
       "<text fill=\"rgb(191,191,191)\" font-size=\"16\" stroke=\"rgb(191,191,191)\" stroke-width=\"1\" x=\"103.282032\" y=\"148.000000\">H</text>\n",
       "<text fill=\"rgb(191,191,191)\" font-size=\"16\" stroke=\"rgb(191,191,191)\" stroke-width=\"1\" x=\"34.000000\" y=\"108.000000\">H</text>\n",
       "</svg>\n",
       "</g>\n",
       "<text fill=\"black\" font-family=\"sans-serif\" font-size=\"18.000000\" x=\"10.000000\" y=\"20.000000\"/>\n",
       "</svg>"
      ],
      "text/plain": [
       "<IPython.core.display.SVG object>"
      ]
     },
     "execution_count": 14,
     "metadata": {},
     "output_type": "execute_result"
    }
   ],
   "source": [
    "smile('F/C=C\\F',make3d=1)"
   ]
  },
  {
   "cell_type": "markdown",
   "metadata": {},
   "source": [
    "# wikipedia-smiles"
   ]
  },
  {
   "cell_type": "markdown",
   "metadata": {},
   "source": [
    "[wiki-smiles](https://en.wikipedia.org/wiki/Simplified_molecular-input_line-entry_system)"
   ]
  },
  {
   "cell_type": "markdown",
   "metadata": {},
   "source": [
    "## Atoms"
   ]
  },
  {
   "cell_type": "markdown",
   "metadata": {},
   "source": [
    "`[]`内只能包含三类信息: [单元素符号, 电荷及其数目, H及其数目];  \n",
    "除了H外一个`[]`只能放置一个原子;  \n",
    "时刻注意H(或其他原子)必须放置在`[]`内, 且不能出现在其他元素前面;"
   ]
  },
  {
   "cell_type": "code",
   "execution_count": 15,
   "metadata": {},
   "outputs": [
    {
     "name": "stdout",
     "output_type": "stream",
     "text": [
      "Failed to convert 'OH2' to format 'smiles'\n"
     ]
    }
   ],
   "source": [
    "try: smile('OH2') \n",
    "except OSError as e:\n",
    "    print(e)"
   ]
  },
  {
   "cell_type": "code",
   "execution_count": 16,
   "metadata": {},
   "outputs": [
    {
     "data": {
      "image/svg+xml": [
       "<svg xmlns=\"http://www.w3.org/2000/svg\" font-family=\"sans-serif\" height=\"100\" stroke=\"rgb(0,0,0)\" stroke-linecap=\"round\" stroke-width=\"2\" viewBox=\"0 0 149.282 140\" width=\"100\" x=\"0\" y=\"0\">\n",
       "<line stroke=\"rgb(0,0,0)\" stroke-width=\"2.0\" x1=\"85.9\" x2=\"98.0\" y1=\"53.5\" y2=\"46.5\" />\n",
       "<line stroke=\"rgb(0,0,0)\" stroke-width=\"2.0\" x1=\"63.4\" x2=\"51.3\" y1=\"53.5\" y2=\"46.5\" />\n",
       "<line stroke=\"rgb(0,0,0)\" stroke-width=\"2.0\" x1=\"74.6\" x2=\"74.6\" y1=\"73.0\" y2=\"87.0\" />\n",
       "<text fill=\"rgb(255,12,12)\" font-size=\"16\" stroke=\"rgb(255,12,12)\" stroke-width=\"1\" x=\"79.441016\" y=\"55.968000\">+</text>\n",
       "<text fill=\"rgb(255,12,12)\" font-size=\"16\" stroke=\"rgb(255,12,12)\" stroke-width=\"1\" x=\"68.641016\" y=\"68.000000\">O</text>\n",
       "<text fill=\"rgb(191,191,191)\" font-size=\"16\" stroke=\"rgb(191,191,191)\" stroke-width=\"1\" x=\"103.282032\" y=\"48.000000\">H</text>\n",
       "<text fill=\"rgb(191,191,191)\" font-size=\"16\" stroke=\"rgb(191,191,191)\" stroke-width=\"1\" x=\"34.000000\" y=\"48.000000\">H</text>\n",
       "<text fill=\"rgb(191,191,191)\" font-size=\"16\" stroke=\"rgb(191,191,191)\" stroke-width=\"1\" x=\"68.641016\" y=\"108.000000\">H</text>\n",
       "</svg>\n"
      ],
      "text/plain": [
       "<pybel.Molecule at 0x218431c1cf8>"
      ]
     },
     "execution_count": 16,
     "metadata": {},
     "output_type": "execute_result"
    }
   ],
   "source": [
    "smile('[OH3+]',svg=0)"
   ]
  },
  {
   "cell_type": "markdown",
   "metadata": {},
   "source": [
    "`+++`可表示为`+3`, 而不是`3+`"
   ]
  },
  {
   "cell_type": "code",
   "execution_count": 17,
   "metadata": {},
   "outputs": [
    {
     "data": {
      "image/svg+xml": [
       "<svg xmlns=\"http://www.w3.org/2000/svg\" font-family=\"sans-serif\" height=\"100\" stroke=\"rgb(0,0,0)\" stroke-linecap=\"round\" stroke-width=\"2\" viewBox=\"0 0 80 80\" width=\"100\" x=\"0\" y=\"0\">\n",
       "<text fill=\"rgb(239,142,160)\" font-size=\"16\" stroke=\"rgb(239,142,160)\" stroke-width=\"1\" x=\"44.8\" y=\"35.968\">3+</text>\n",
       "<text fill=\"rgb(239,142,160)\" font-size=\"16\" stroke=\"rgb(239,142,160)\" stroke-width=\"1\" x=\"34\" y=\"48\">Co</text>\n",
       "</svg>\n"
      ],
      "text/plain": [
       "<pybel.Molecule at 0x218431c15c0>"
      ]
     },
     "execution_count": 17,
     "metadata": {},
     "output_type": "execute_result"
    }
   ],
   "source": [
    "smile('[Co+3]',svg=0)"
   ]
  },
  {
   "cell_type": "markdown",
   "metadata": {},
   "source": [
    "## Bonds"
   ]
  },
  {
   "cell_type": "markdown",
   "metadata": {},
   "source": [
    "与键相关的符号: ` ., -, =, #, $, :, /, \\`;"
   ]
  },
  {
   "cell_type": "markdown",
   "metadata": {},
   "source": [
    "`-`: 单键, 可省略;  \n",
    "`-, =, #, $`: 分别表示单键双键三键四键(quadruple);"
   ]
  },
  {
   "cell_type": "code",
   "execution_count": 18,
   "metadata": {},
   "outputs": [
    {
     "data": {
      "image/svg+xml": [
       "<svg xmlns=\"http://www.w3.org/2000/svg\" font-family=\"sans-serif\" height=\"100\" stroke=\"rgb(0,0,0)\" stroke-linecap=\"round\" stroke-width=\"2\" viewBox=\"0 0 120 80\" width=\"100\" x=\"0\" y=\"0\">\n",
       "<text fill=\"rgb(193,142,142)\" font-size=\"16\" stroke=\"rgb(193,142,142)\" stroke-width=\"1\" x=\"84.8\" y=\"25.888\">_</text>\n",
       "<text fill=\"rgb(193,142,142)\" font-size=\"32\" stroke=\"rgb(193,142,142)\" stroke-width=\"1\" x=\"96.8\" y=\"25.888\">..</text>\n",
       "<text fill=\"rgb(193,142,142)\" font-size=\"16\" stroke=\"rgb(193,142,142)\" stroke-width=\"1\" x=\"74\" y=\"48\">Ga</text>\n",
       "<text fill=\"rgb(188,127,226)\" font-size=\"16\" stroke=\"rgb(188,127,226)\" stroke-width=\"1\" x=\"44.8\" y=\"35.968\">+</text>\n",
       "<text fill=\"rgb(188,127,226)\" font-size=\"32\" stroke=\"rgb(188,127,226)\" stroke-width=\"1\" x=\"56.8\" y=\"35.968\">..</text>\n",
       "<text fill=\"rgb(188,127,226)\" font-size=\"16\" stroke=\"rgb(188,127,226)\" stroke-width=\"1\" x=\"22\" y=\"48\">As</text>\n",
       "</svg>\n"
      ],
      "text/plain": [
       "<pybel.Molecule at 0x218431c1ba8>"
      ]
     },
     "execution_count": 18,
     "metadata": {},
     "output_type": "execute_result"
    }
   ],
   "source": [
    "smile('[Ga-]$[As+]',svg=0)"
   ]
  },
  {
   "cell_type": "markdown",
   "metadata": {},
   "source": [
    "`.`: 非键(non-bond), 表示两部分之间没有成键"
   ]
  },
  {
   "cell_type": "code",
   "execution_count": 19,
   "metadata": {},
   "outputs": [
    {
     "data": {
      "image/svg+xml": [
       "<svg xmlns=\"http://www.w3.org/2000/svg\" font-family=\"sans-serif\" height=\"100\" stroke=\"rgb(0,0,0)\" stroke-linecap=\"round\" stroke-width=\"2\" viewBox=\"0 0 81 80\" width=\"100\" x=\"0\" y=\"0\">\n",
       "<text fill=\"rgb(170,91,242)\" font-size=\"16\" stroke=\"rgb(170,91,242)\" stroke-width=\"1\" x=\"45.8\" y=\"35.968\">+</text>\n",
       "<text fill=\"rgb(170,91,242)\" font-size=\"16\" stroke=\"rgb(170,91,242)\" stroke-width=\"1\" x=\"35\" y=\"48\">Na</text>\n",
       "<text fill=\"rgb(30,239,30)\" font-size=\"16\" stroke=\"rgb(30,239,30)\" stroke-width=\"1\" x=\"44.8\" y=\"25.888\">_</text>\n",
       "<text fill=\"rgb(30,239,30)\" font-size=\"16\" stroke=\"rgb(30,239,30)\" stroke-width=\"1\" x=\"34\" y=\"48\">Cl</text>\n",
       "</svg>\n"
      ],
      "text/plain": [
       "<pybel.Molecule at 0x218431c1f60>"
      ]
     },
     "execution_count": 19,
     "metadata": {},
     "output_type": "execute_result"
    }
   ],
   "source": [
    "smile('[Na+].[Cl-]',svg=0)# dissociation."
   ]
  },
  {
   "cell_type": "markdown",
   "metadata": {},
   "source": [
    "`:`: 3/2键(one and a half), 苯中的键"
   ]
  },
  {
   "cell_type": "markdown",
   "metadata": {},
   "source": [
    "`/  or  \\`双键附近的构型"
   ]
  },
  {
   "cell_type": "markdown",
   "metadata": {},
   "source": [
    "## Rings"
   ]
  },
  {
   "cell_type": "markdown",
   "metadata": {},
   "source": [
    "环形结构需要在环的任意一点(最好是带长支链的点)开环, 并设置闭环标签(ring closure labels);  \n",
    "**数字其实表示半键**;  \n",
    "第一次出现的数字, 标记了`链头原子`, 第二次出现的数字标记了`链尾原子`, **将链头和链尾的原子连接起来**就会形成环结构;  "
   ]
  },
  {
   "cell_type": "code",
   "execution_count": 20,
   "metadata": {},
   "outputs": [
    {
     "data": {
      "image/svg+xml": [
       "<svg xmlns=\"http://www.w3.org/2000/svg\" font-family=\"sans-serif\" height=\"100\" stroke=\"rgb(0,0,0)\" stroke-linecap=\"round\" stroke-width=\"2\" viewBox=\"0 0 149.282 160\" width=\"100\" x=\"0\" y=\"0\">\n",
       "<line stroke=\"rgb(0,0,0)\" stroke-width=\"2.0\" x1=\"40.0\" x2=\"63.4\" y1=\"60.0\" y2=\"46.5\" />\n",
       "<line stroke=\"rgb(0,0,0)\" stroke-width=\"2.0\" x1=\"85.9\" x2=\"109.3\" y1=\"46.5\" y2=\"60.0\" />\n",
       "<line stroke=\"rgb(0,0,0)\" stroke-width=\"2.0\" x1=\"109.3\" x2=\"109.3\" y1=\"60.0\" y2=\"100.0\" />\n",
       "<line stroke=\"rgb(0,0,0)\" stroke-width=\"2.0\" x1=\"109.3\" x2=\"85.9\" y1=\"100.0\" y2=\"113.5\" />\n",
       "<line stroke=\"rgb(0,0,0)\" stroke-width=\"2.0\" x1=\"63.4\" x2=\"40.0\" y1=\"113.5\" y2=\"100.0\" />\n",
       "<line stroke=\"rgb(0,0,0)\" stroke-width=\"2.0\" x1=\"40.0\" x2=\"40.0\" y1=\"100.0\" y2=\"60.0\" />\n",
       "<text fill=\"rgb(255,12,12)\" font-size=\"16\" stroke=\"rgb(255,12,12)\" stroke-width=\"1\" x=\"68.641016\" y=\"128.000000\">O</text>\n",
       "<text fill=\"rgb(255,12,12)\" font-size=\"16\" stroke=\"rgb(255,12,12)\" stroke-width=\"1\" x=\"68.641016\" y=\"48.000000\">O</text>\n",
       "</svg>\n"
      ],
      "text/plain": [
       "<pybel.Molecule at 0x218431c1be0>"
      ]
     },
     "execution_count": 20,
     "metadata": {},
     "output_type": "execute_result"
    }
   ],
   "source": [
    "# 二恶烷\n",
    "smile('O1CCOCC1',svg=0) #第一个O是链头, 最后一个C是链尾, 数字1表示半键;"
   ]
  },
  {
   "cell_type": "markdown",
   "metadata": {},
   "source": [
    "十氢化萘表示法1: 单独画两个环;"
   ]
  },
  {
   "cell_type": "code",
   "execution_count": 21,
   "metadata": {},
   "outputs": [
    {
     "data": {
      "image/svg+xml": [
       "<svg xmlns=\"http://www.w3.org/2000/svg\" font-family=\"sans-serif\" height=\"100\" stroke=\"rgb(0,0,0)\" stroke-linecap=\"round\" stroke-width=\"2\" viewBox=\"0 0 218.564 160\" width=\"100\" x=\"0\" y=\"0\">\n",
       "<line stroke=\"rgb(0,0,0)\" stroke-width=\"2.0\" x1=\"40.0\" x2=\"74.6\" y1=\"60.0\" y2=\"40.0\" />\n",
       "<line stroke=\"rgb(0,0,0)\" stroke-width=\"2.0\" x1=\"74.6\" x2=\"109.3\" y1=\"40.0\" y2=\"60.0\" />\n",
       "<line stroke=\"rgb(0,0,0)\" stroke-width=\"2.0\" x1=\"109.3\" x2=\"109.3\" y1=\"60.0\" y2=\"100.0\" />\n",
       "<line stroke=\"rgb(0,0,0)\" stroke-width=\"2.0\" x1=\"109.3\" x2=\"74.6\" y1=\"100.0\" y2=\"120.0\" />\n",
       "<line stroke=\"rgb(0,0,0)\" stroke-width=\"2.0\" x1=\"74.6\" x2=\"40.0\" y1=\"120.0\" y2=\"100.0\" />\n",
       "<line stroke=\"rgb(0,0,0)\" stroke-width=\"2.0\" x1=\"40.0\" x2=\"40.0\" y1=\"100.0\" y2=\"60.0\" />\n",
       "<line stroke=\"rgb(0,0,0)\" stroke-width=\"2.0\" x1=\"178.6\" x2=\"178.6\" y1=\"60.0\" y2=\"100.0\" />\n",
       "<line stroke=\"rgb(0,0,0)\" stroke-width=\"2.0\" x1=\"178.6\" x2=\"143.9\" y1=\"100.0\" y2=\"120.0\" />\n",
       "<line stroke=\"rgb(0,0,0)\" stroke-width=\"2.0\" x1=\"143.9\" x2=\"109.3\" y1=\"120.0\" y2=\"100.0\" />\n",
       "<line stroke=\"rgb(0,0,0)\" stroke-width=\"2.0\" x1=\"109.3\" x2=\"143.9\" y1=\"60.0\" y2=\"40.0\" />\n",
       "<line stroke=\"rgb(0,0,0)\" stroke-width=\"2.0\" x1=\"143.9\" x2=\"178.6\" y1=\"40.0\" y2=\"60.0\" />\n",
       "</svg>\n"
      ],
      "text/plain": [
       "<pybel.Molecule at 0x218431c1c88>"
      ]
     },
     "execution_count": 21,
     "metadata": {},
     "output_type": "execute_result"
    }
   ],
   "source": [
    "smile('C1CCCC2C1CCCC2',svg=0) #C1和C1之间连接, C2和C2之间连接, 第一个C2出现在C1之前"
   ]
  },
  {
   "cell_type": "markdown",
   "metadata": {},
   "source": [
    "十氢化萘的画法2: 先画最外围的链条, 闭合成大环, 再连接一个小环;"
   ]
  },
  {
   "cell_type": "code",
   "execution_count": 22,
   "metadata": {},
   "outputs": [
    {
     "data": {
      "image/svg+xml": [
       "<svg xmlns=\"http://www.w3.org/2000/svg\" font-family=\"sans-serif\" height=\"100\" stroke=\"rgb(0,0,0)\" stroke-linecap=\"round\" stroke-width=\"2\" viewBox=\"0 0 218.564 160\" width=\"100\" x=\"0\" y=\"0\">\n",
       "<line stroke=\"rgb(0,0,0)\" stroke-width=\"2.0\" x1=\"178.6\" x2=\"143.9\" y1=\"100.0\" y2=\"120.0\" />\n",
       "<line stroke=\"rgb(0,0,0)\" stroke-width=\"2.0\" x1=\"143.9\" x2=\"109.3\" y1=\"120.0\" y2=\"100.0\" />\n",
       "<line stroke=\"rgb(0,0,0)\" stroke-width=\"2.0\" x1=\"109.3\" x2=\"109.3\" y1=\"100.0\" y2=\"60.0\" />\n",
       "<line stroke=\"rgb(0,0,0)\" stroke-width=\"2.0\" x1=\"109.3\" x2=\"143.9\" y1=\"60.0\" y2=\"40.0\" />\n",
       "<line stroke=\"rgb(0,0,0)\" stroke-width=\"2.0\" x1=\"143.9\" x2=\"178.6\" y1=\"40.0\" y2=\"60.0\" />\n",
       "<line stroke=\"rgb(0,0,0)\" stroke-width=\"2.0\" x1=\"178.6\" x2=\"178.6\" y1=\"60.0\" y2=\"100.0\" />\n",
       "<line stroke=\"rgb(0,0,0)\" stroke-width=\"2.0\" x1=\"40.0\" x2=\"74.6\" y1=\"60.0\" y2=\"40.0\" />\n",
       "<line stroke=\"rgb(0,0,0)\" stroke-width=\"2.0\" x1=\"74.6\" x2=\"109.3\" y1=\"40.0\" y2=\"60.0\" />\n",
       "<line stroke=\"rgb(0,0,0)\" stroke-width=\"2.0\" x1=\"109.3\" x2=\"74.6\" y1=\"100.0\" y2=\"120.0\" />\n",
       "<line stroke=\"rgb(0,0,0)\" stroke-width=\"2.0\" x1=\"74.6\" x2=\"40.0\" y1=\"120.0\" y2=\"100.0\" />\n",
       "<line stroke=\"rgb(0,0,0)\" stroke-width=\"2.0\" x1=\"40.0\" x2=\"40.0\" y1=\"100.0\" y2=\"60.0\" />\n",
       "</svg>\n"
      ],
      "text/plain": [
       "<pybel.Molecule at 0x218431c1b00>"
      ]
     },
     "execution_count": 22,
     "metadata": {},
     "output_type": "execute_result"
    }
   ],
   "source": [
    "smile('C1CCCC2CCCCC12',svg=0) #C1:第一条链的链头, C2:第二条链的链头, C12所有链的链尾;"
   ]
  },
  {
   "cell_type": "markdown",
   "metadata": {},
   "source": [
    "数字12表示的是两个数字(链1和链2), 如果需要两位数的环号(two-digit ring numbers, 数字12表示链12), 请在12前面加上[%](#site1)"
   ]
  },
  {
   "cell_type": "markdown",
   "metadata": {},
   "source": [
    "## Aromaticity"
   ]
  },
  {
   "cell_type": "markdown",
   "metadata": {},
   "source": [
    "芳香环(Aromatic)有三种表示方法:\n",
    "1. Kekulé形式, 使用交替的单键和双键: `C1=CC=CC=C1`;\n",
    "2. 使用芳香键的符号`:`: `C:1:C:C:C:C:C1`;\n",
    "3. 将`B, C, N, O, P, S`原子全都改为小写形式(lower-case)`b, c, n, o, p, s`"
   ]
  },
  {
   "cell_type": "code",
   "execution_count": 23,
   "metadata": {},
   "outputs": [
    {
     "data": {
      "image/svg+xml": [
       "<svg xmlns=\"http://www.w3.org/2000/svg\" font-family=\"sans-serif\" height=\"100\" stroke=\"rgb(0,0,0)\" stroke-linecap=\"round\" stroke-width=\"2\" viewBox=\"0 0 149.282 160\" width=\"100\" x=\"0\" y=\"0\">\n",
       "<line stroke=\"rgb(0,0,0)\" stroke-width=\"2.0\" x1=\"40.0\" x2=\"74.6\" y1=\"60.0\" y2=\"40.0\" />\n",
       "<line stroke=\"rgb(0,0,0)\" stroke-width=\"2.0\" x1=\"48.8\" x2=\"73.0\" y1=\"63.2\" y2=\"49.2\" />\n",
       "<line stroke=\"rgb(0,0,0)\" stroke-width=\"2.0\" x1=\"74.6\" x2=\"109.3\" y1=\"40.0\" y2=\"60.0\" />\n",
       "<line stroke=\"rgb(0,0,0)\" stroke-width=\"2.0\" x1=\"109.3\" x2=\"109.3\" y1=\"60.0\" y2=\"100.0\" />\n",
       "<line stroke=\"rgb(0,0,0)\" stroke-width=\"2.0\" x1=\"102.1\" x2=\"102.1\" y1=\"66.0\" y2=\"94.0\" />\n",
       "<line stroke=\"rgb(0,0,0)\" stroke-width=\"2.0\" x1=\"109.3\" x2=\"74.6\" y1=\"100.0\" y2=\"120.0\" />\n",
       "<line stroke=\"rgb(0,0,0)\" stroke-width=\"2.0\" x1=\"74.6\" x2=\"40.0\" y1=\"120.0\" y2=\"100.0\" />\n",
       "<line stroke=\"rgb(0,0,0)\" stroke-width=\"2.0\" x1=\"73.0\" x2=\"48.8\" y1=\"110.8\" y2=\"96.8\" />\n",
       "<line stroke=\"rgb(0,0,0)\" stroke-width=\"2.0\" x1=\"40.0\" x2=\"40.0\" y1=\"100.0\" y2=\"60.0\" />\n",
       "</svg>\n"
      ],
      "text/plain": [
       "<pybel.Molecule at 0x218431c1d30>"
      ]
     },
     "execution_count": 23,
     "metadata": {},
     "output_type": "execute_result"
    }
   ],
   "source": [
    "smile('C1=CC=CC=C1',svg=0)"
   ]
  },
  {
   "cell_type": "code",
   "execution_count": 24,
   "metadata": {},
   "outputs": [
    {
     "data": {
      "image/svg+xml": [
       "<svg xmlns=\"http://www.w3.org/2000/svg\" font-family=\"sans-serif\" height=\"100\" stroke=\"rgb(0,0,0)\" stroke-linecap=\"round\" stroke-width=\"2\" viewBox=\"0 0 149.282 160\" width=\"100\" x=\"0\" y=\"0\">\n",
       "<line stroke=\"rgb(0,0,0)\" stroke-width=\"2.0\" x1=\"40.0\" x2=\"74.6\" y1=\"60.0\" y2=\"40.0\" />\n",
       "<line stroke=\"rgb(0,0,0)\" stroke-width=\"2.0\" x1=\"48.8\" x2=\"73.0\" y1=\"63.2\" y2=\"49.2\" />\n",
       "<line stroke=\"rgb(0,0,0)\" stroke-width=\"2.0\" x1=\"74.6\" x2=\"109.3\" y1=\"40.0\" y2=\"60.0\" />\n",
       "<line stroke=\"rgb(0,0,0)\" stroke-width=\"2.0\" x1=\"109.3\" x2=\"109.3\" y1=\"60.0\" y2=\"100.0\" />\n",
       "<line stroke=\"rgb(0,0,0)\" stroke-width=\"2.0\" x1=\"102.1\" x2=\"102.1\" y1=\"66.0\" y2=\"94.0\" />\n",
       "<line stroke=\"rgb(0,0,0)\" stroke-width=\"2.0\" x1=\"109.3\" x2=\"74.6\" y1=\"100.0\" y2=\"120.0\" />\n",
       "<line stroke=\"rgb(0,0,0)\" stroke-width=\"2.0\" x1=\"74.6\" x2=\"40.0\" y1=\"120.0\" y2=\"100.0\" />\n",
       "<line stroke=\"rgb(0,0,0)\" stroke-width=\"2.0\" x1=\"73.0\" x2=\"48.8\" y1=\"110.8\" y2=\"96.8\" />\n",
       "<line stroke=\"rgb(0,0,0)\" stroke-width=\"2.0\" x1=\"40.0\" x2=\"40.0\" y1=\"100.0\" y2=\"60.0\" />\n",
       "</svg>\n"
      ],
      "text/plain": [
       "<pybel.Molecule at 0x218431c1ac8>"
      ]
     },
     "execution_count": 24,
     "metadata": {},
     "output_type": "execute_result"
    }
   ],
   "source": [
    "smile('C:1:C:C:C:C:C1',svg=0)"
   ]
  },
  {
   "cell_type": "code",
   "execution_count": 25,
   "metadata": {},
   "outputs": [
    {
     "data": {
      "image/svg+xml": [
       "<svg xmlns=\"http://www.w3.org/2000/svg\" font-family=\"sans-serif\" height=\"100\" stroke=\"rgb(0,0,0)\" stroke-linecap=\"round\" stroke-width=\"2\" viewBox=\"0 0 149.282 160\" width=\"100\" x=\"0\" y=\"0\">\n",
       "<line stroke=\"rgb(0,0,0)\" stroke-width=\"2.0\" x1=\"40.0\" x2=\"74.6\" y1=\"60.0\" y2=\"40.0\" />\n",
       "<line stroke=\"rgb(0,0,0)\" stroke-width=\"2.0\" x1=\"48.8\" x2=\"73.0\" y1=\"63.2\" y2=\"49.2\" />\n",
       "<line stroke=\"rgb(0,0,0)\" stroke-width=\"2.0\" x1=\"74.6\" x2=\"109.3\" y1=\"40.0\" y2=\"60.0\" />\n",
       "<line stroke=\"rgb(0,0,0)\" stroke-width=\"2.0\" x1=\"109.3\" x2=\"109.3\" y1=\"60.0\" y2=\"100.0\" />\n",
       "<line stroke=\"rgb(0,0,0)\" stroke-width=\"2.0\" x1=\"102.1\" x2=\"102.1\" y1=\"66.0\" y2=\"94.0\" />\n",
       "<line stroke=\"rgb(0,0,0)\" stroke-width=\"2.0\" x1=\"109.3\" x2=\"74.6\" y1=\"100.0\" y2=\"120.0\" />\n",
       "<line stroke=\"rgb(0,0,0)\" stroke-width=\"2.0\" x1=\"74.6\" x2=\"40.0\" y1=\"120.0\" y2=\"100.0\" />\n",
       "<line stroke=\"rgb(0,0,0)\" stroke-width=\"2.0\" x1=\"73.0\" x2=\"48.8\" y1=\"110.8\" y2=\"96.8\" />\n",
       "<line stroke=\"rgb(0,0,0)\" stroke-width=\"2.0\" x1=\"40.0\" x2=\"40.0\" y1=\"100.0\" y2=\"60.0\" />\n",
       "</svg>\n"
      ],
      "text/plain": [
       "<pybel.Molecule at 0x218431c19b0>"
      ]
     },
     "execution_count": 25,
     "metadata": {},
     "output_type": "execute_result"
    }
   ],
   "source": [
    "smile('c:1:c:c:c:c:c1',svg=0)"
   ]
  },
  {
   "cell_type": "markdown",
   "metadata": {},
   "source": [
    "`吡啶`(pyridine)"
   ]
  },
  {
   "cell_type": "code",
   "execution_count": 26,
   "metadata": {},
   "outputs": [
    {
     "data": {
      "image/svg+xml": [
       "<svg xmlns=\"http://www.w3.org/2000/svg\" font-family=\"sans-serif\" height=\"100\" stroke=\"rgb(0,0,0)\" stroke-linecap=\"round\" stroke-width=\"2\" viewBox=\"0 0 149.282 160\" width=\"100\" x=\"0\" y=\"0\">\n",
       "<line stroke=\"rgb(0,0,0)\" stroke-width=\"2.0\" x1=\"40.0\" x2=\"74.6\" y1=\"60.0\" y2=\"40.0\" />\n",
       "<line stroke=\"rgb(0,0,0)\" stroke-width=\"2.0\" x1=\"48.8\" x2=\"73.0\" y1=\"63.2\" y2=\"49.2\" />\n",
       "<line stroke=\"rgb(0,0,0)\" stroke-width=\"2.0\" x1=\"74.6\" x2=\"109.3\" y1=\"40.0\" y2=\"60.0\" />\n",
       "<line stroke=\"rgb(0,0,0)\" stroke-width=\"2.0\" x1=\"109.3\" x2=\"109.3\" y1=\"60.0\" y2=\"100.0\" />\n",
       "<line stroke=\"rgb(0,0,0)\" stroke-width=\"2.0\" x1=\"102.1\" x2=\"102.1\" y1=\"66.0\" y2=\"94.0\" />\n",
       "<line stroke=\"rgb(0,0,0)\" stroke-width=\"2.0\" x1=\"109.3\" x2=\"85.9\" y1=\"100.0\" y2=\"113.5\" />\n",
       "<line stroke=\"rgb(0,0,0)\" stroke-width=\"2.0\" x1=\"63.2\" x2=\"40.0\" y1=\"113.4\" y2=\"100.0\" />\n",
       "<line stroke=\"rgb(0,0,0)\" stroke-width=\"2.0\" x1=\"65.1\" x2=\"48.8\" y1=\"106.2\" y2=\"96.8\" />\n",
       "<line stroke=\"rgb(0,0,0)\" stroke-width=\"2.0\" x1=\"40.0\" x2=\"40.0\" y1=\"100.0\" y2=\"60.0\" />\n",
       "<text fill=\"rgb(12,12,255)\" font-size=\"16\" stroke=\"rgb(12,12,255)\" stroke-width=\"1\" x=\"68.641016\" y=\"128.000000\">N</text>\n",
       "</svg>\n"
      ],
      "text/plain": [
       "<pybel.Molecule at 0x218431c1048>"
      ]
     },
     "execution_count": 26,
     "metadata": {},
     "output_type": "execute_result"
    }
   ],
   "source": [
    "smile('n1ccccc1',svg=0)"
   ]
  },
  {
   "cell_type": "markdown",
   "metadata": {},
   "source": [
    "`呋喃`(furan)"
   ]
  },
  {
   "cell_type": "code",
   "execution_count": 27,
   "metadata": {},
   "outputs": [
    {
     "data": {
      "image/svg+xml": [
       "<svg xmlns=\"http://www.w3.org/2000/svg\" font-family=\"sans-serif\" height=\"100\" stroke=\"rgb(0,0,0)\" stroke-linecap=\"round\" stroke-width=\"2\" viewBox=\"0 0 144.721 141.554\" width=\"100\" x=\"0\" y=\"0\">\n",
       "<line stroke=\"rgb(0,0,0)\" stroke-width=\"2.0\" x1=\"40.0\" x2=\"72.4\" y1=\"63.5\" y2=\"40.0\" />\n",
       "<line stroke=\"rgb(0,0,0)\" stroke-width=\"2.0\" x1=\"72.4\" x2=\"104.7\" y1=\"40.0\" y2=\"63.5\" />\n",
       "<line stroke=\"rgb(0,0,0)\" stroke-width=\"2.0\" x1=\"73.0\" x2=\"95.6\" y1=\"49.4\" y2=\"65.8\" />\n",
       "<line stroke=\"rgb(0,0,0)\" stroke-width=\"2.0\" x1=\"104.7\" x2=\"96.4\" y1=\"63.5\" y2=\"89.2\" />\n",
       "<line stroke=\"rgb(0,0,0)\" stroke-width=\"2.0\" x1=\"79.4\" x2=\"52.4\" y1=\"101.6\" y2=\"101.6\" />\n",
       "<line stroke=\"rgb(0,0,0)\" stroke-width=\"2.0\" x1=\"52.4\" x2=\"40.0\" y1=\"101.6\" y2=\"63.5\" />\n",
       "<line stroke=\"rgb(0,0,0)\" stroke-width=\"2.0\" x1=\"57.4\" x2=\"48.7\" y1=\"93.6\" y2=\"67.0\" />\n",
       "<text fill=\"rgb(255,12,12)\" font-size=\"16\" stroke=\"rgb(255,12,12)\" stroke-width=\"1\" x=\"86.360680\" y=\"109.553671\">O</text>\n",
       "</svg>\n"
      ],
      "text/plain": [
       "<pybel.Molecule at 0x218431c1630>"
      ]
     },
     "execution_count": 27,
     "metadata": {},
     "output_type": "execute_result"
    }
   ],
   "source": [
    "smile('o1cccc1',svg=0)"
   ]
  },
  {
   "cell_type": "code",
   "execution_count": 28,
   "metadata": {},
   "outputs": [
    {
     "data": {
      "image/svg+xml": [
       "<svg xmlns=\"http://www.w3.org/2000/svg\" font-family=\"sans-serif\" height=\"100\" stroke=\"rgb(0,0,0)\" stroke-linecap=\"round\" stroke-width=\"2\" viewBox=\"0 0 253.205 220\" width=\"100\" x=\"0\" y=\"0\">\n",
       "<line stroke=\"rgb(0,0,0)\" stroke-width=\"2.0\" x1=\"109.3\" x2=\"143.9\" y1=\"100.0\" y2=\"120.0\" />\n",
       "<line stroke=\"rgb(0,0,0)\" stroke-width=\"2.0\" x1=\"40.0\" x2=\"74.6\" y1=\"60.0\" y2=\"40.0\" />\n",
       "<line stroke=\"rgb(0,0,0)\" stroke-width=\"2.0\" x1=\"48.8\" x2=\"73.0\" y1=\"63.2\" y2=\"49.2\" />\n",
       "<line stroke=\"rgb(0,0,0)\" stroke-width=\"2.0\" x1=\"74.6\" x2=\"109.3\" y1=\"40.0\" y2=\"60.0\" />\n",
       "<line stroke=\"rgb(0,0,0)\" stroke-width=\"2.0\" x1=\"109.3\" x2=\"109.3\" y1=\"60.0\" y2=\"100.0\" />\n",
       "<line stroke=\"rgb(0,0,0)\" stroke-width=\"2.0\" x1=\"102.1\" x2=\"102.1\" y1=\"66.0\" y2=\"94.0\" />\n",
       "<line stroke=\"rgb(0,0,0)\" stroke-width=\"2.0\" x1=\"109.3\" x2=\"74.6\" y1=\"100.0\" y2=\"120.0\" />\n",
       "<line stroke=\"rgb(0,0,0)\" stroke-width=\"2.0\" x1=\"74.6\" x2=\"40.0\" y1=\"120.0\" y2=\"100.0\" />\n",
       "<line stroke=\"rgb(0,0,0)\" stroke-width=\"2.0\" x1=\"73.0\" x2=\"48.8\" y1=\"110.8\" y2=\"96.8\" />\n",
       "<line stroke=\"rgb(0,0,0)\" stroke-width=\"2.0\" x1=\"40.0\" x2=\"40.0\" y1=\"100.0\" y2=\"60.0\" />\n",
       "<line stroke=\"rgb(0,0,0)\" stroke-width=\"2.0\" x1=\"213.2\" x2=\"213.2\" y1=\"120.0\" y2=\"160.0\" />\n",
       "<line stroke=\"rgb(0,0,0)\" stroke-width=\"2.0\" x1=\"206.0\" x2=\"206.0\" y1=\"126.0\" y2=\"154.0\" />\n",
       "<line stroke=\"rgb(0,0,0)\" stroke-width=\"2.0\" x1=\"213.2\" x2=\"178.6\" y1=\"160.0\" y2=\"180.0\" />\n",
       "<line stroke=\"rgb(0,0,0)\" stroke-width=\"2.0\" x1=\"178.6\" x2=\"143.9\" y1=\"180.0\" y2=\"160.0\" />\n",
       "<line stroke=\"rgb(0,0,0)\" stroke-width=\"2.0\" x1=\"177.0\" x2=\"152.7\" y1=\"170.8\" y2=\"156.8\" />\n",
       "<line stroke=\"rgb(0,0,0)\" stroke-width=\"2.0\" x1=\"143.9\" x2=\"143.9\" y1=\"160.0\" y2=\"120.0\" />\n",
       "<line stroke=\"rgb(0,0,0)\" stroke-width=\"2.0\" x1=\"143.9\" x2=\"178.6\" y1=\"120.0\" y2=\"100.0\" />\n",
       "<line stroke=\"rgb(0,0,0)\" stroke-width=\"2.0\" x1=\"152.7\" x2=\"177.0\" y1=\"123.2\" y2=\"109.2\" />\n",
       "<line stroke=\"rgb(0,0,0)\" stroke-width=\"2.0\" x1=\"178.6\" x2=\"213.2\" y1=\"100.0\" y2=\"120.0\" />\n",
       "</svg>\n"
      ],
      "text/plain": [
       "<pybel.Molecule at 0x218431c19e8>"
      ]
     },
     "execution_count": 28,
     "metadata": {},
     "output_type": "execute_result"
    }
   ],
   "source": [
    "smile('c1ccccc1-c2ccccc2',svg=0)\n",
    "# smile('c1ccccc1c2ccccc2',svg=0)"
   ]
  },
  {
   "cell_type": "markdown",
   "metadata": {},
   "source": [
    "在吡咯(pyrrole)中发现的与氢键合的芳族氮必须表示为[nH],小写N"
   ]
  },
  {
   "cell_type": "code",
   "execution_count": 29,
   "metadata": {},
   "outputs": [
    {
     "data": {
      "image/svg+xml": [
       "<svg height=\"200px\" id=\"topsvg\" version=\"1.1\" viewBox=\"0 0 100 100\" width=\"200px\" x=\"0\" xmlns=\"http://www.w3.org/2000/svg\" xmlns:cml=\"http://www.xml-cml.org/schema\" xmlns:xlink=\"http://www.w3.org/1999/xlink\" y=\"0\">\n",
       "<title> - Open Babel Depiction</title>\n",
       "<rect fill=\"white\" height=\"100\" width=\"100\" x=\"0\" y=\"0\"/>\n",
       "<g transform=\"translate(0,0)\">\n",
       "<svg font-family=\"sans-serif\" height=\"100\" stroke=\"rgb(0,0,0)\" stroke-linecap=\"round\" stroke-width=\"2\" viewBox=\"0 0 182.764 141.554\" width=\"100\" x=\"0\" y=\"0\">\n",
       "<line stroke=\"rgb(0,0,0)\" stroke-width=\"2.0\" x1=\"65.7\" x2=\"52.4\" y1=\"59.5\" y2=\"55.2\"/>\n",
       "<line stroke=\"rgb(0,0,0)\" stroke-width=\"2.0\" x1=\"88.6\" x2=\"110.4\" y1=\"55.9\" y2=\"40.0\"/>\n",
       "<line stroke=\"rgb(0,0,0)\" stroke-width=\"2.0\" x1=\"110.4\" x2=\"142.8\" y1=\"40.0\" y2=\"63.5\"/>\n",
       "<line stroke=\"rgb(0,0,0)\" stroke-width=\"2.0\" x1=\"111.0\" x2=\"133.7\" y1=\"49.4\" y2=\"65.8\"/>\n",
       "<line stroke=\"rgb(0,0,0)\" stroke-width=\"2.0\" x1=\"142.8\" x2=\"134.4\" y1=\"63.5\" y2=\"89.2\"/>\n",
       "<line stroke=\"rgb(0,0,0)\" stroke-width=\"2.0\" x1=\"117.2\" x2=\"90.4\" y1=\"101.6\" y2=\"101.6\"/>\n",
       "<line stroke=\"rgb(0,0,0)\" stroke-width=\"2.0\" x1=\"115.2\" x2=\"96.4\" y1=\"94.4\" y2=\"94.4\"/>\n",
       "<line stroke=\"rgb(0,0,0)\" stroke-width=\"2.0\" x1=\"90.4\" x2=\"82.1\" y1=\"101.6\" y2=\"75.9\"/>\n",
       "<text fill=\"rgb(12,12,255)\" font-size=\"16\" stroke=\"rgb(12,12,255)\" stroke-width=\"1\" x=\"124.402940\" y=\"109.553671\">N</text>\n",
       "<text fill=\"rgb(12,12,255)\" font-size=\"16\" stroke=\"rgb(12,12,255)\" stroke-width=\"1\" x=\"72.042261\" y=\"71.511410\">N</text>\n",
       "<text fill=\"rgb(191,191,191)\" font-size=\"16\" stroke=\"rgb(191,191,191)\" stroke-width=\"1\" x=\"34.000000\" y=\"59.150730\">H</text>\n",
       "</svg>\n",
       "</g>\n",
       "<text fill=\"black\" font-family=\"sans-serif\" font-size=\"18.000000\" x=\"10.000000\" y=\"20.000000\"/>\n",
       "</svg>"
      ],
      "text/plain": [
       "<IPython.core.display.SVG object>"
      ]
     },
     "execution_count": 29,
     "metadata": {},
     "output_type": "execute_result"
    }
   ],
   "source": [
    "#imidazole \n",
    "smile('n1c[nH]cc1')"
   ]
  },
  {
   "cell_type": "markdown",
   "metadata": {},
   "source": [
    "## 分支"
   ]
  },
  {
   "cell_type": "markdown",
   "metadata": {},
   "source": [
    "分支使用`()`表示"
   ]
  },
  {
   "cell_type": "code",
   "execution_count": 30,
   "metadata": {},
   "outputs": [
    {
     "data": {
      "image/svg+xml": [
       "<svg height=\"200px\" id=\"topsvg\" version=\"1.1\" viewBox=\"0 0 100 100\" width=\"200px\" x=\"0\" xmlns=\"http://www.w3.org/2000/svg\" xmlns:cml=\"http://www.xml-cml.org/schema\" xmlns:xlink=\"http://www.w3.org/1999/xlink\" y=\"0\">\n",
       "<title> - Open Babel Depiction</title>\n",
       "<rect fill=\"white\" height=\"100\" width=\"100\" x=\"0\" y=\"0\"/>\n",
       "<g transform=\"translate(0,0)\">\n",
       "<svg font-family=\"sans-serif\" height=\"100\" stroke=\"rgb(0,0,0)\" stroke-linecap=\"round\" stroke-width=\"2\" viewBox=\"0 0 183.923 140\" width=\"100\" x=\"0\" y=\"0\">\n",
       "<line stroke=\"rgb(0,0,0)\" stroke-width=\"2.0\" x1=\"132.7\" x2=\"109.3\" y1=\"53.5\" y2=\"40.0\"/>\n",
       "<line stroke=\"rgb(0,0,0)\" stroke-width=\"2.0\" x1=\"109.3\" x2=\"74.6\" y1=\"40.0\" y2=\"60.0\"/>\n",
       "<line stroke=\"rgb(0,0,0)\" stroke-width=\"2.0\" x1=\"73.1\" x2=\"49.8\" y1=\"62.6\" y2=\"49.1\"/>\n",
       "<line stroke=\"rgb(0,0,0)\" stroke-width=\"2.0\" x1=\"76.1\" x2=\"52.8\" y1=\"57.4\" y2=\"43.9\"/>\n",
       "<line stroke=\"rgb(0,0,0)\" stroke-width=\"2.0\" x1=\"74.6\" x2=\"74.6\" y1=\"60.0\" y2=\"87.0\"/>\n",
       "<text fill=\"rgb(102,102,102)\" font-size=\"16\" stroke=\"rgb(102,102,102)\" stroke-width=\"1\" x=\"139.923048\" y=\"68.000000\">CH</text>\n",
       "<text fill=\"rgb(102,102,102)\" font-size=\"13\" stroke=\"rgb(102,102,102)\" stroke-width=\"1\" x=\"163.923048\" y=\"71.680000\">3</text>\n",
       "<text fill=\"rgb(255,12,12)\" font-size=\"16\" stroke=\"rgb(255,12,12)\" stroke-width=\"1\" x=\"34.000000\" y=\"48.000000\">O</text>\n",
       "<text fill=\"rgb(255,12,12)\" font-size=\"16\" stroke=\"rgb(255,12,12)\" stroke-width=\"1\" x=\"68.641016\" y=\"108.000000\">OH</text>\n",
       "</svg>\n",
       "</g>\n",
       "<text fill=\"black\" font-family=\"sans-serif\" font-size=\"18.000000\" x=\"10.000000\" y=\"20.000000\"/>\n",
       "</svg>"
      ],
      "text/plain": [
       "<IPython.core.display.SVG object>"
      ]
     },
     "execution_count": 30,
     "metadata": {},
     "output_type": "execute_result"
    }
   ],
   "source": [
    "# 丙酸\n",
    "smile('CCC(=O)O')"
   ]
  },
  {
   "cell_type": "markdown",
   "metadata": {},
   "source": [
    "开环后尽可能的避免出现`()`"
   ]
  },
  {
   "cell_type": "code",
   "execution_count": 31,
   "metadata": {},
   "outputs": [
    {
     "data": {
      "image/svg+xml": [
       "<svg height=\"200px\" id=\"topsvg\" version=\"1.1\" viewBox=\"0 0 100 100\" width=\"200px\" x=\"0\" xmlns=\"http://www.w3.org/2000/svg\" xmlns:cml=\"http://www.xml-cml.org/schema\" xmlns:xlink=\"http://www.w3.org/1999/xlink\" y=\"0\">\n",
       "<title> - Open Babel Depiction</title>\n",
       "<rect fill=\"white\" height=\"100\" width=\"100\" x=\"0\" y=\"0\"/>\n",
       "<g transform=\"translate(0,0)\">\n",
       "<svg font-family=\"sans-serif\" height=\"100\" stroke=\"rgb(0,0,0)\" stroke-linecap=\"round\" stroke-width=\"2\" viewBox=\"0 0 218.564 220\" width=\"100\" x=\"0\" y=\"0\">\n",
       "<line stroke=\"rgb(0,0,0)\" stroke-width=\"2.0\" x1=\"167.3\" x2=\"155.2\" y1=\"53.5\" y2=\"46.5\"/>\n",
       "<line stroke=\"rgb(0,0,0)\" stroke-width=\"2.0\" x1=\"132.7\" x2=\"109.3\" y1=\"46.5\" y2=\"60.0\"/>\n",
       "<line stroke=\"rgb(0,0,0)\" stroke-width=\"2.0\" x1=\"74.6\" x2=\"74.6\" y1=\"120.0\" y2=\"160.0\"/>\n",
       "<line stroke=\"rgb(0,0,0)\" stroke-width=\"2.0\" x1=\"74.6\" x2=\"51.3\" y1=\"160.0\" y2=\"173.5\"/>\n",
       "<line stroke=\"rgb(0,0,0)\" stroke-width=\"2.0\" x1=\"109.3\" x2=\"109.3\" y1=\"100.0\" y2=\"60.0\"/>\n",
       "<line stroke=\"rgb(0,0,0)\" stroke-width=\"2.0\" x1=\"102.1\" x2=\"102.1\" y1=\"94.0\" y2=\"66.0\"/>\n",
       "<line stroke=\"rgb(0,0,0)\" stroke-width=\"2.0\" x1=\"109.3\" x2=\"74.6\" y1=\"60.0\" y2=\"40.0\"/>\n",
       "<line stroke=\"rgb(0,0,0)\" stroke-width=\"2.0\" x1=\"74.6\" x2=\"40.0\" y1=\"40.0\" y2=\"60.0\"/>\n",
       "<line stroke=\"rgb(0,0,0)\" stroke-width=\"2.0\" x1=\"73.0\" x2=\"48.8\" y1=\"49.2\" y2=\"63.2\"/>\n",
       "<line stroke=\"rgb(0,0,0)\" stroke-width=\"2.0\" x1=\"40.0\" x2=\"40.0\" y1=\"60.0\" y2=\"100.0\"/>\n",
       "<line stroke=\"rgb(0,0,0)\" stroke-width=\"2.0\" x1=\"40.0\" x2=\"74.6\" y1=\"100.0\" y2=\"120.0\"/>\n",
       "<line stroke=\"rgb(0,0,0)\" stroke-width=\"2.0\" x1=\"48.8\" x2=\"73.0\" y1=\"96.8\" y2=\"110.8\"/>\n",
       "<line stroke=\"rgb(0,0,0)\" stroke-width=\"2.0\" x1=\"74.6\" x2=\"109.3\" y1=\"120.0\" y2=\"100.0\"/>\n",
       "<text fill=\"rgb(102,102,102)\" font-size=\"16\" stroke=\"rgb(102,102,102)\" stroke-width=\"1\" x=\"174.564065\" y=\"68.000000\">CH</text>\n",
       "<text fill=\"rgb(102,102,102)\" font-size=\"13\" stroke=\"rgb(102,102,102)\" stroke-width=\"1\" x=\"198.564065\" y=\"71.680000\">3</text>\n",
       "<text fill=\"rgb(255,12,12)\" font-size=\"16\" stroke=\"rgb(255,12,12)\" stroke-width=\"1\" x=\"137.923048\" y=\"48.000000\">O</text>\n",
       "<text fill=\"rgb(12,12,255)\" font-size=\"16\" stroke=\"rgb(12,12,255)\" stroke-width=\"1\" x=\"14.000000\" y=\"188.000000\">H</text>\n",
       "<text fill=\"rgb(12,12,255)\" font-size=\"13\" stroke=\"rgb(12,12,255)\" stroke-width=\"1\" x=\"26.000000\" y=\"191.680000\">2</text>\n",
       "<text fill=\"rgb(12,12,255)\" font-size=\"16\" stroke=\"rgb(12,12,255)\" stroke-width=\"1\" x=\"32.500000\" y=\"188.000000\">N</text>\n",
       "</svg>\n",
       "</g>\n",
       "<text fill=\"black\" font-family=\"sans-serif\" font-size=\"18.000000\" x=\"10.000000\" y=\"20.000000\"/>\n",
       "</svg>"
      ],
      "text/plain": [
       "<IPython.core.display.SVG object>"
      ]
     },
     "execution_count": 31,
     "metadata": {},
     "output_type": "execute_result"
    }
   ],
   "source": [
    "# 3-氰基茴香醚\n",
    "smile('COc(c1)cccc1C＃N')"
   ]
  },
  {
   "cell_type": "markdown",
   "metadata": {},
   "source": [
    "甲苯通常写为Cc1ccccc1或c1ccccc1C, 如果写成c1ccc(C)ccc1或c1ccc(ccc1)C, 则避免使用所需的括号;"
   ]
  },
  {
   "cell_type": "code",
   "execution_count": 32,
   "metadata": {},
   "outputs": [
    {
     "data": {
      "image/svg+xml": [
       "<svg height=\"200px\" id=\"topsvg\" version=\"1.1\" viewBox=\"0 0 100 100\" width=\"200px\" x=\"0\" xmlns=\"http://www.w3.org/2000/svg\" xmlns:cml=\"http://www.xml-cml.org/schema\" xmlns:xlink=\"http://www.w3.org/1999/xlink\" y=\"0\">\n",
       "<title> - Open Babel Depiction</title>\n",
       "<rect fill=\"white\" height=\"100\" width=\"100\" x=\"0\" y=\"0\"/>\n",
       "<g transform=\"translate(0,0)\">\n",
       "<svg font-family=\"sans-serif\" height=\"100\" stroke=\"rgb(0,0,0)\" stroke-linecap=\"round\" stroke-width=\"2\" viewBox=\"0 0 149.282 200\" width=\"100\" x=\"0\" y=\"0\">\n",
       "<line stroke=\"rgb(0,0,0)\" stroke-width=\"2.0\" x1=\"74.6\" x2=\"74.6\" y1=\"147.0\" y2=\"120.0\"/>\n",
       "<line stroke=\"rgb(0,0,0)\" stroke-width=\"2.0\" x1=\"40.0\" x2=\"74.6\" y1=\"60.0\" y2=\"40.0\"/>\n",
       "<line stroke=\"rgb(0,0,0)\" stroke-width=\"2.0\" x1=\"48.8\" x2=\"73.0\" y1=\"63.2\" y2=\"49.2\"/>\n",
       "<line stroke=\"rgb(0,0,0)\" stroke-width=\"2.0\" x1=\"74.6\" x2=\"109.3\" y1=\"40.0\" y2=\"60.0\"/>\n",
       "<line stroke=\"rgb(0,0,0)\" stroke-width=\"2.0\" x1=\"109.3\" x2=\"109.3\" y1=\"60.0\" y2=\"100.0\"/>\n",
       "<line stroke=\"rgb(0,0,0)\" stroke-width=\"2.0\" x1=\"102.1\" x2=\"102.1\" y1=\"66.0\" y2=\"94.0\"/>\n",
       "<line stroke=\"rgb(0,0,0)\" stroke-width=\"2.0\" x1=\"109.3\" x2=\"74.6\" y1=\"100.0\" y2=\"120.0\"/>\n",
       "<line stroke=\"rgb(0,0,0)\" stroke-width=\"2.0\" x1=\"74.6\" x2=\"40.0\" y1=\"120.0\" y2=\"100.0\"/>\n",
       "<line stroke=\"rgb(0,0,0)\" stroke-width=\"2.0\" x1=\"73.0\" x2=\"48.8\" y1=\"110.8\" y2=\"96.8\"/>\n",
       "<line stroke=\"rgb(0,0,0)\" stroke-width=\"2.0\" x1=\"40.0\" x2=\"40.0\" y1=\"100.0\" y2=\"60.0\"/>\n",
       "<text fill=\"rgb(102,102,102)\" font-size=\"16\" stroke=\"rgb(102,102,102)\" stroke-width=\"1\" x=\"70.641016\" y=\"168.000000\">CH</text>\n",
       "<text fill=\"rgb(102,102,102)\" font-size=\"13\" stroke=\"rgb(102,102,102)\" stroke-width=\"1\" x=\"94.641016\" y=\"171.680000\">3</text>\n",
       "</svg>\n",
       "</g>\n",
       "<text fill=\"black\" font-family=\"sans-serif\" font-size=\"18.000000\" x=\"10.000000\" y=\"20.000000\"/>\n",
       "</svg>"
      ],
      "text/plain": [
       "<IPython.core.display.SVG object>"
      ]
     },
     "execution_count": 32,
     "metadata": {},
     "output_type": "execute_result"
    }
   ],
   "source": [
    "smile('Cc1ccccc1') #smile('c1cc(C)ccc1')避免"
   ]
  },
  {
   "cell_type": "markdown",
   "metadata": {},
   "source": [
    "##  立体化学(Stereochemistry)"
   ]
  },
  {
   "cell_type": "markdown",
   "metadata": {},
   "source": [
    "### 顺反异构"
   ]
  },
  {
   "cell_type": "markdown",
   "metadata": {},
   "source": [
    "`F/C=C/F`: 两个F都与C成上斜式连接, 两个F位于双键的不同侧;   \n",
    "`F/C=C\\F`: 第一个F与C成上斜连接, 第二个F与C成下斜连接, 两个F位于双键的同一侧; "
   ]
  },
  {
   "cell_type": "code",
   "execution_count": 33,
   "metadata": {},
   "outputs": [
    {
     "data": {
      "image/svg+xml": [
       "<svg height=\"200px\" id=\"topsvg\" version=\"1.1\" viewBox=\"0 0 100 100\" width=\"200px\" x=\"0\" xmlns=\"http://www.w3.org/2000/svg\" xmlns:cml=\"http://www.xml-cml.org/schema\" xmlns:xlink=\"http://www.w3.org/1999/xlink\" y=\"0\">\n",
       "<title> - Open Babel Depiction</title>\n",
       "<rect fill=\"white\" height=\"100\" width=\"100\" x=\"0\" y=\"0\"/>\n",
       "<g transform=\"translate(0,0)\">\n",
       "<svg font-family=\"sans-serif\" height=\"100\" stroke=\"rgb(0,0,0)\" stroke-linecap=\"round\" stroke-width=\"2\" viewBox=\"0 0 183.923 180\" width=\"100\" x=\"0\" y=\"0\">\n",
       "<line stroke=\"rgb(0,0,0)\" stroke-width=\"2.0\" x1=\"132.7\" x2=\"109.3\" y1=\"86.5\" y2=\"100.0\"/>\n",
       "<line stroke=\"rgb(0,0,0)\" stroke-width=\"2.0\" x1=\"107.8\" x2=\"73.1\" y1=\"102.6\" y2=\"82.6\"/>\n",
       "<line stroke=\"rgb(0,0,0)\" stroke-width=\"2.0\" x1=\"110.8\" x2=\"76.1\" y1=\"97.4\" y2=\"77.4\"/>\n",
       "<line stroke=\"rgb(0,0,0)\" stroke-width=\"2.0\" x1=\"74.6\" x2=\"51.3\" y1=\"80.0\" y2=\"93.5\"/>\n",
       "<line stroke=\"rgb(0,0,0)\" stroke-width=\"2.0\" x1=\"109.3\" x2=\"109.3\" y1=\"100.0\" y2=\"127.0\"/>\n",
       "<line stroke=\"rgb(0,0,0)\" stroke-width=\"2.0\" x1=\"74.6\" x2=\"74.6\" y1=\"80.0\" y2=\"53.0\"/>\n",
       "<text fill=\"rgb(127,178,255)\" font-size=\"16\" stroke=\"rgb(127,178,255)\" stroke-width=\"1\" x=\"137.923048\" y=\"88.000000\">F</text>\n",
       "<text fill=\"rgb(127,178,255)\" font-size=\"16\" stroke=\"rgb(127,178,255)\" stroke-width=\"1\" x=\"34.000000\" y=\"108.000000\">F</text>\n",
       "<text fill=\"rgb(191,191,191)\" font-size=\"16\" stroke=\"rgb(191,191,191)\" stroke-width=\"1\" x=\"103.282032\" y=\"148.000000\">H</text>\n",
       "<text fill=\"rgb(191,191,191)\" font-size=\"16\" stroke=\"rgb(191,191,191)\" stroke-width=\"1\" x=\"68.641016\" y=\"48.000000\">H</text>\n",
       "</svg>\n",
       "</g>\n",
       "<text fill=\"black\" font-family=\"sans-serif\" font-size=\"18.000000\" x=\"10.000000\" y=\"20.000000\"/>\n",
       "</svg>"
      ],
      "text/plain": [
       "<IPython.core.display.SVG object>"
      ]
     },
     "execution_count": 33,
     "metadata": {},
     "output_type": "execute_result"
    }
   ],
   "source": [
    "smile('F/C=C/F',make3d=1)"
   ]
  },
  {
   "cell_type": "markdown",
   "metadata": {},
   "source": [
    "交叉键表示有可能出现异构"
   ]
  },
  {
   "cell_type": "code",
   "execution_count": 34,
   "metadata": {},
   "outputs": [
    {
     "data": {
      "image/svg+xml": [
       "<svg height=\"200px\" id=\"topsvg\" version=\"1.1\" viewBox=\"0 0 100 100\" width=\"200px\" x=\"0\" xmlns=\"http://www.w3.org/2000/svg\" xmlns:cml=\"http://www.xml-cml.org/schema\" xmlns:xlink=\"http://www.w3.org/1999/xlink\" y=\"0\">\n",
       "<title> - Open Babel Depiction</title>\n",
       "<rect fill=\"white\" height=\"100\" width=\"100\" x=\"0\" y=\"0\"/>\n",
       "<g transform=\"translate(0,0)\">\n",
       "<svg font-family=\"sans-serif\" height=\"100\" stroke=\"rgb(0,0,0)\" stroke-linecap=\"round\" stroke-width=\"2\" viewBox=\"0 0 293.205 214.641\" width=\"100\" x=\"0\" y=\"0\">\n",
       "<line stroke=\"rgb(0,0,0)\" stroke-width=\"2.0\" x1=\"218.6\" x2=\"183.9\" y1=\"114.6\" y2=\"134.6\"/>\n",
       "<line stroke=\"rgb(0,0,0)\" stroke-width=\"2.0\" x1=\"182.4\" x2=\"150.8\" y1=\"137.2\" y2=\"112.0\"/>\n",
       "<line stroke=\"rgb(0,0,0)\" stroke-width=\"2.0\" x1=\"185.4\" x2=\"147.8\" y1=\"132.0\" y2=\"117.2\"/>\n",
       "<line stroke=\"rgb(0,0,0)\" stroke-width=\"2.0\" x1=\"149.3\" x2=\"114.6\" y1=\"114.6\" y2=\"134.6\"/>\n",
       "<line stroke=\"rgb(0,0,0)\" stroke-width=\"2.0\" x1=\"113.1\" x2=\"81.5\" y1=\"137.2\" y2=\"112.0\"/>\n",
       "<line stroke=\"rgb(0,0,0)\" stroke-width=\"2.0\" x1=\"116.1\" x2=\"78.5\" y1=\"132.0\" y2=\"117.2\"/>\n",
       "<line stroke=\"rgb(0,0,0)\" stroke-width=\"2.0\" x1=\"80.0\" x2=\"80.0\" y1=\"114.6\" y2=\"74.6\"/>\n",
       "<line stroke=\"rgb(0,0,0)\" stroke-width=\"2.0\" x1=\"218.6\" x2=\"232.1\" y1=\"114.6\" y2=\"91.3\"/>\n",
       "<line stroke=\"rgb(0,0,0)\" stroke-width=\"2.0\" x1=\"218.6\" x2=\"205.1\" y1=\"114.6\" y2=\"91.3\"/>\n",
       "<line stroke=\"rgb(0,0,0)\" stroke-width=\"2.0\" x1=\"218.6\" x2=\"241.9\" y1=\"114.6\" y2=\"128.1\"/>\n",
       "<line stroke=\"rgb(0,0,0)\" stroke-width=\"2.0\" x1=\"183.9\" x2=\"183.9\" y1=\"134.6\" y2=\"161.6\"/>\n",
       "<line stroke=\"rgb(0,0,0)\" stroke-width=\"2.0\" x1=\"149.3\" x2=\"149.3\" y1=\"114.6\" y2=\"87.6\"/>\n",
       "<line stroke=\"rgb(0,0,0)\" stroke-width=\"2.0\" x1=\"114.6\" x2=\"114.6\" y1=\"134.6\" y2=\"161.6\"/>\n",
       "<line stroke=\"rgb(0,0,0)\" stroke-width=\"2.0\" x1=\"80.0\" x2=\"56.6\" y1=\"114.6\" y2=\"128.1\"/>\n",
       "<line stroke=\"rgb(0,0,0)\" stroke-width=\"2.0\" x1=\"80.0\" x2=\"66.5\" y1=\"74.6\" y2=\"51.3\"/>\n",
       "<line stroke=\"rgb(0,0,0)\" stroke-width=\"2.0\" x1=\"80.0\" x2=\"53.0\" y1=\"74.6\" y2=\"74.6\"/>\n",
       "<line stroke=\"rgb(0,0,0)\" stroke-width=\"2.0\" x1=\"80.0\" x2=\"103.4\" y1=\"74.6\" y2=\"61.1\"/>\n",
       "<text fill=\"rgb(191,191,191)\" font-size=\"16\" stroke=\"rgb(191,191,191)\" stroke-width=\"1\" x=\"232.564065\" y=\"88.000000\">H</text>\n",
       "<text fill=\"rgb(191,191,191)\" font-size=\"16\" stroke=\"rgb(191,191,191)\" stroke-width=\"1\" x=\"192.564065\" y=\"88.000000\">H</text>\n",
       "<text fill=\"rgb(191,191,191)\" font-size=\"16\" stroke=\"rgb(191,191,191)\" stroke-width=\"1\" x=\"247.205081\" y=\"142.641016\">H</text>\n",
       "<text fill=\"rgb(191,191,191)\" font-size=\"16\" stroke=\"rgb(191,191,191)\" stroke-width=\"1\" x=\"177.923048\" y=\"182.641016\">H</text>\n",
       "<text fill=\"rgb(191,191,191)\" font-size=\"16\" stroke=\"rgb(191,191,191)\" stroke-width=\"1\" x=\"143.282032\" y=\"82.641016\">H</text>\n",
       "<text fill=\"rgb(191,191,191)\" font-size=\"16\" stroke=\"rgb(191,191,191)\" stroke-width=\"1\" x=\"108.641016\" y=\"182.641016\">H</text>\n",
       "<text fill=\"rgb(191,191,191)\" font-size=\"16\" stroke=\"rgb(191,191,191)\" stroke-width=\"1\" x=\"39.358984\" y=\"142.641016\">H</text>\n",
       "<text fill=\"rgb(191,191,191)\" font-size=\"16\" stroke=\"rgb(191,191,191)\" stroke-width=\"1\" x=\"54.000000\" y=\"48.000000\">H</text>\n",
       "<text fill=\"rgb(191,191,191)\" font-size=\"16\" stroke=\"rgb(191,191,191)\" stroke-width=\"1\" x=\"34.000000\" y=\"82.641016\">H</text>\n",
       "<text fill=\"rgb(191,191,191)\" font-size=\"16\" stroke=\"rgb(191,191,191)\" stroke-width=\"1\" x=\"108.641016\" y=\"62.641016\">H</text>\n",
       "</svg>\n",
       "</g>\n",
       "<text fill=\"black\" font-family=\"sans-serif\" font-size=\"18.000000\" x=\"10.000000\" y=\"20.000000\"/>\n",
       "</svg>"
      ],
      "text/plain": [
       "<IPython.core.display.SVG object>"
      ]
     },
     "execution_count": 34,
     "metadata": {},
     "output_type": "execute_result"
    }
   ],
   "source": [
    "smile('CC=CC=CC',make3d=1)"
   ]
  },
  {
   "cell_type": "code",
   "execution_count": 35,
   "metadata": {},
   "outputs": [
    {
     "data": {
      "image/svg+xml": [
       "<svg height=\"200px\" id=\"topsvg\" version=\"1.1\" viewBox=\"0 0 100 100\" width=\"200px\" x=\"0\" xmlns=\"http://www.w3.org/2000/svg\" xmlns:cml=\"http://www.xml-cml.org/schema\" xmlns:xlink=\"http://www.w3.org/1999/xlink\" y=\"0\">\n",
       "<title> - Open Babel Depiction</title>\n",
       "<rect fill=\"white\" height=\"100\" width=\"100\" x=\"0\" y=\"0\"/>\n",
       "<g transform=\"translate(0,0)\">\n",
       "<svg font-family=\"sans-serif\" height=\"100\" stroke=\"rgb(0,0,0)\" stroke-linecap=\"round\" stroke-width=\"2\" viewBox=\"0 0 772.82 400\" width=\"100\" x=\"0\" y=\"0\">\n",
       "<line stroke=\"rgb(0,0,0)\" stroke-width=\"2.0\" x1=\"74.6\" x2=\"74.6\" y1=\"147.0\" y2=\"120.0\"/>\n",
       "<line stroke=\"rgb(0,0,0)\" stroke-width=\"2.0\" x1=\"109.3\" x2=\"132.7\" y1=\"60.0\" y2=\"46.5\"/>\n",
       "<line stroke=\"rgb(0,0,0)\" stroke-width=\"2.0\" x1=\"109.3\" x2=\"143.9\" y1=\"100.0\" y2=\"120.0\"/>\n",
       "<line stroke=\"rgb(0,0,0)\" stroke-width=\"2.0\" x1=\"146.9\" x2=\"146.9\" y1=\"120.0\" y2=\"160.0\"/>\n",
       "<line stroke=\"rgb(0,0,0)\" stroke-width=\"2.0\" x1=\"140.9\" x2=\"140.9\" y1=\"120.0\" y2=\"160.0\"/>\n",
       "<line stroke=\"rgb(0,0,0)\" stroke-width=\"2.0\" x1=\"143.9\" x2=\"178.6\" y1=\"160.0\" y2=\"180.0\"/>\n",
       "<line stroke=\"rgb(0,0,0)\" stroke-width=\"2.0\" x1=\"178.6\" x2=\"201.9\" y1=\"180.0\" y2=\"166.5\"/>\n",
       "<line stroke=\"rgb(0,0,0)\" stroke-width=\"2.0\" x1=\"181.6\" x2=\"181.6\" y1=\"180.0\" y2=\"220.0\"/>\n",
       "<line stroke=\"rgb(0,0,0)\" stroke-width=\"2.0\" x1=\"175.6\" x2=\"175.6\" y1=\"180.0\" y2=\"220.0\"/>\n",
       "<line stroke=\"rgb(0,0,0)\" stroke-width=\"2.0\" x1=\"178.6\" x2=\"213.2\" y1=\"220.0\" y2=\"240.0\"/>\n",
       "<line stroke=\"rgb(0,0,0)\" stroke-width=\"2.0\" x1=\"211.7\" x2=\"246.3\" y1=\"237.4\" y2=\"217.4\"/>\n",
       "<line stroke=\"rgb(0,0,0)\" stroke-width=\"2.0\" x1=\"214.7\" x2=\"249.3\" y1=\"242.6\" y2=\"222.6\"/>\n",
       "<line stroke=\"rgb(0,0,0)\" stroke-width=\"2.0\" x1=\"247.8\" x2=\"282.5\" y1=\"220.0\" y2=\"240.0\"/>\n",
       "<line stroke=\"rgb(0,0,0)\" stroke-width=\"2.0\" x1=\"282.5\" x2=\"305.9\" y1=\"240.0\" y2=\"226.5\"/>\n",
       "<line stroke=\"rgb(0,0,0)\" stroke-width=\"2.0\" x1=\"285.5\" x2=\"285.5\" y1=\"240.0\" y2=\"280.0\"/>\n",
       "<line stroke=\"rgb(0,0,0)\" stroke-width=\"2.0\" x1=\"279.5\" x2=\"279.5\" y1=\"240.0\" y2=\"280.0\"/>\n",
       "<line stroke=\"rgb(0,0,0)\" stroke-width=\"2.0\" x1=\"282.5\" x2=\"317.1\" y1=\"280.0\" y2=\"300.0\"/>\n",
       "<line stroke=\"rgb(0,0,0)\" stroke-width=\"2.0\" x1=\"315.6\" x2=\"350.3\" y1=\"297.4\" y2=\"277.4\"/>\n",
       "<line stroke=\"rgb(0,0,0)\" stroke-width=\"2.0\" x1=\"318.6\" x2=\"353.3\" y1=\"302.6\" y2=\"282.6\"/>\n",
       "<line stroke=\"rgb(0,0,0)\" stroke-width=\"2.0\" x1=\"351.8\" x2=\"386.4\" y1=\"280.0\" y2=\"300.0\"/>\n",
       "<line stroke=\"rgb(0,0,0)\" stroke-width=\"2.0\" x1=\"384.9\" x2=\"419.6\" y1=\"297.4\" y2=\"277.4\"/>\n",
       "<line stroke=\"rgb(0,0,0)\" stroke-width=\"2.0\" x1=\"387.9\" x2=\"422.6\" y1=\"302.6\" y2=\"282.6\"/>\n",
       "<line stroke=\"rgb(0,0,0)\" stroke-width=\"2.0\" x1=\"421.1\" x2=\"421.1\" y1=\"280.0\" y2=\"253.0\"/>\n",
       "<line stroke=\"rgb(0,0,0)\" stroke-width=\"2.0\" x1=\"421.1\" x2=\"455.7\" y1=\"280.0\" y2=\"300.0\"/>\n",
       "<line stroke=\"rgb(0,0,0)\" stroke-width=\"2.0\" x1=\"454.2\" x2=\"488.8\" y1=\"297.4\" y2=\"277.4\"/>\n",
       "<line stroke=\"rgb(0,0,0)\" stroke-width=\"2.0\" x1=\"457.2\" x2=\"491.8\" y1=\"302.6\" y2=\"282.6\"/>\n",
       "<line stroke=\"rgb(0,0,0)\" stroke-width=\"2.0\" x1=\"490.3\" x2=\"525.0\" y1=\"280.0\" y2=\"300.0\"/>\n",
       "<line stroke=\"rgb(0,0,0)\" stroke-width=\"2.0\" x1=\"523.5\" x2=\"558.1\" y1=\"297.4\" y2=\"277.4\"/>\n",
       "<line stroke=\"rgb(0,0,0)\" stroke-width=\"2.0\" x1=\"526.5\" x2=\"561.1\" y1=\"302.6\" y2=\"282.6\"/>\n",
       "<line stroke=\"rgb(0,0,0)\" stroke-width=\"2.0\" x1=\"559.6\" x2=\"559.6\" y1=\"280.0\" y2=\"253.0\"/>\n",
       "<line stroke=\"rgb(0,0,0)\" stroke-width=\"2.0\" x1=\"559.6\" x2=\"594.3\" y1=\"280.0\" y2=\"300.0\"/>\n",
       "<line stroke=\"rgb(0,0,0)\" stroke-width=\"2.0\" x1=\"592.8\" x2=\"627.4\" y1=\"297.4\" y2=\"277.4\"/>\n",
       "<line stroke=\"rgb(0,0,0)\" stroke-width=\"2.0\" x1=\"595.8\" x2=\"630.4\" y1=\"302.6\" y2=\"282.6\"/>\n",
       "<line stroke=\"rgb(0,0,0)\" stroke-width=\"2.0\" x1=\"628.9\" x2=\"663.5\" y1=\"280.0\" y2=\"300.0\"/>\n",
       "<line stroke=\"rgb(0,0,0)\" stroke-width=\"2.0\" x1=\"663.5\" x2=\"640.2\" y1=\"340.0\" y2=\"353.5\"/>\n",
       "<line stroke=\"rgb(0,0,0)\" stroke-width=\"2.0\" x1=\"698.2\" x2=\"684.7\" y1=\"280.0\" y2=\"256.6\"/>\n",
       "<line stroke=\"rgb(0,0,0)\" stroke-width=\"2.0\" x1=\"698.2\" x2=\"711.7\" y1=\"280.0\" y2=\"256.6\"/>\n",
       "<line stroke=\"rgb(0,0,0)\" stroke-width=\"2.0\" x1=\"40.0\" x2=\"74.6\" y1=\"60.0\" y2=\"40.0\"/>\n",
       "<line stroke=\"rgb(0,0,0)\" stroke-width=\"2.0\" x1=\"74.6\" x2=\"109.3\" y1=\"40.0\" y2=\"60.0\"/>\n",
       "<line stroke=\"rgb(0,0,0)\" stroke-width=\"2.0\" x1=\"109.3\" x2=\"109.3\" y1=\"60.0\" y2=\"100.0\"/>\n",
       "<line stroke=\"rgb(0,0,0)\" stroke-width=\"2.0\" x1=\"102.1\" x2=\"102.1\" y1=\"66.0\" y2=\"94.0\"/>\n",
       "<line stroke=\"rgb(0,0,0)\" stroke-width=\"2.0\" x1=\"109.3\" x2=\"74.6\" y1=\"100.0\" y2=\"120.0\"/>\n",
       "<line stroke=\"rgb(0,0,0)\" stroke-width=\"2.0\" x1=\"74.6\" x2=\"40.0\" y1=\"120.0\" y2=\"100.0\"/>\n",
       "<line stroke=\"rgb(0,0,0)\" stroke-width=\"2.0\" x1=\"40.0\" x2=\"40.0\" y1=\"100.0\" y2=\"60.0\"/>\n",
       "<line stroke=\"rgb(0,0,0)\" stroke-width=\"2.0\" x1=\"698.2\" x2=\"732.8\" y1=\"360.0\" y2=\"340.0\"/>\n",
       "<line stroke=\"rgb(0,0,0)\" stroke-width=\"2.0\" x1=\"732.8\" x2=\"732.8\" y1=\"340.0\" y2=\"300.0\"/>\n",
       "<line stroke=\"rgb(0,0,0)\" stroke-width=\"2.0\" x1=\"732.8\" x2=\"698.2\" y1=\"300.0\" y2=\"280.0\"/>\n",
       "<line stroke=\"rgb(0,0,0)\" stroke-width=\"2.0\" x1=\"698.2\" x2=\"663.5\" y1=\"280.0\" y2=\"300.0\"/>\n",
       "<line stroke=\"rgb(0,0,0)\" stroke-width=\"2.0\" x1=\"663.5\" x2=\"663.5\" y1=\"300.0\" y2=\"340.0\"/>\n",
       "<line stroke=\"rgb(0,0,0)\" stroke-width=\"2.0\" x1=\"670.7\" x2=\"670.7\" y1=\"306.0\" y2=\"334.0\"/>\n",
       "<line stroke=\"rgb(0,0,0)\" stroke-width=\"2.0\" x1=\"663.5\" x2=\"698.2\" y1=\"340.0\" y2=\"360.0\"/>\n",
       "<text fill=\"rgb(102,102,102)\" font-size=\"16\" stroke=\"rgb(102,102,102)\" stroke-width=\"1\" x=\"70.641016\" y=\"168.000000\">CH</text>\n",
       "<text fill=\"rgb(102,102,102)\" font-size=\"13\" stroke=\"rgb(102,102,102)\" stroke-width=\"1\" x=\"94.641016\" y=\"171.680000\">3</text>\n",
       "<text fill=\"rgb(102,102,102)\" font-size=\"16\" stroke=\"rgb(102,102,102)\" stroke-width=\"1\" x=\"139.923048\" y=\"48.000000\">CH</text>\n",
       "<text fill=\"rgb(102,102,102)\" font-size=\"13\" stroke=\"rgb(102,102,102)\" stroke-width=\"1\" x=\"163.923048\" y=\"51.680000\">3</text>\n",
       "<text fill=\"rgb(102,102,102)\" font-size=\"16\" stroke=\"rgb(102,102,102)\" stroke-width=\"1\" x=\"209.205081\" y=\"168.000000\">CH</text>\n",
       "<text fill=\"rgb(102,102,102)\" font-size=\"13\" stroke=\"rgb(102,102,102)\" stroke-width=\"1\" x=\"233.205081\" y=\"171.680000\">3</text>\n",
       "<text fill=\"rgb(102,102,102)\" font-size=\"16\" stroke=\"rgb(102,102,102)\" stroke-width=\"1\" x=\"313.128129\" y=\"228.000000\">CH</text>\n",
       "<text fill=\"rgb(102,102,102)\" font-size=\"13\" stroke=\"rgb(102,102,102)\" stroke-width=\"1\" x=\"337.128129\" y=\"231.680000\">3</text>\n",
       "<text fill=\"rgb(102,102,102)\" font-size=\"16\" stroke=\"rgb(102,102,102)\" stroke-width=\"1\" x=\"417.051178\" y=\"248.000000\">CH</text>\n",
       "<text fill=\"rgb(102,102,102)\" font-size=\"13\" stroke=\"rgb(102,102,102)\" stroke-width=\"1\" x=\"441.051178\" y=\"251.680000\">3</text>\n",
       "<text fill=\"rgb(102,102,102)\" font-size=\"16\" stroke=\"rgb(102,102,102)\" stroke-width=\"1\" x=\"555.615242\" y=\"248.000000\">CH</text>\n",
       "<text fill=\"rgb(102,102,102)\" font-size=\"13\" stroke=\"rgb(102,102,102)\" stroke-width=\"1\" x=\"579.615242\" y=\"251.680000\">3</text>\n",
       "<text fill=\"rgb(102,102,102)\" font-size=\"16\" stroke=\"rgb(102,102,102)\" stroke-width=\"1\" x=\"602.897275\" y=\"368.000000\">H</text>\n",
       "<text fill=\"rgb(102,102,102)\" font-size=\"13\" stroke=\"rgb(102,102,102)\" stroke-width=\"1\" x=\"614.897275\" y=\"371.680000\">3</text>\n",
       "<text fill=\"rgb(102,102,102)\" font-size=\"16\" stroke=\"rgb(102,102,102)\" stroke-width=\"1\" x=\"621.397275\" y=\"368.000000\">C</text>\n",
       "<text fill=\"rgb(102,102,102)\" font-size=\"16\" stroke=\"rgb(102,102,102)\" stroke-width=\"1\" x=\"652.179307\" y=\"253.358984\">H</text>\n",
       "<text fill=\"rgb(102,102,102)\" font-size=\"13\" stroke=\"rgb(102,102,102)\" stroke-width=\"1\" x=\"664.179307\" y=\"257.038984\">3</text>\n",
       "<text fill=\"rgb(102,102,102)\" font-size=\"16\" stroke=\"rgb(102,102,102)\" stroke-width=\"1\" x=\"670.679307\" y=\"253.358984\">C</text>\n",
       "<text fill=\"rgb(102,102,102)\" font-size=\"16\" stroke=\"rgb(102,102,102)\" stroke-width=\"1\" x=\"714.179307\" y=\"253.358984\">CH</text>\n",
       "<text fill=\"rgb(102,102,102)\" font-size=\"13\" stroke=\"rgb(102,102,102)\" stroke-width=\"1\" x=\"738.179307\" y=\"257.038984\">3</text>\n",
       "</svg>\n",
       "</g>\n",
       "<text fill=\"black\" font-family=\"sans-serif\" font-size=\"18.000000\" x=\"10.000000\" y=\"20.000000\"/>\n",
       "</svg>"
      ],
      "text/plain": [
       "<IPython.core.display.SVG object>"
      ]
     },
     "execution_count": 35,
     "metadata": {},
     "output_type": "execute_result"
    }
   ],
   "source": [
    "#  beta-carotene \n",
    "smi = 'CC1CCC/C(C)=C1/C=C/C(C)=C/C=C/C(C)=C/C=C/C=C(C)/C=C/C=C(C)/C=C/C2=C(C)/CCCC2(C)C'\n",
    "smile(smi)"
   ]
  },
  {
   "cell_type": "markdown",
   "metadata": {},
   "source": [
    "### 对映异构"
   ]
  },
  {
   "cell_type": "markdown",
   "metadata": {},
   "source": [
    "`@`, 从第一个键的方向(第一个原子和中心C的方向)看过去, 随后出现的三个原子按逆时针(counter-clockwise)方向排列;   \n",
    "`@@`表示按顺时针方向排列; "
   ]
  },
  {
   "cell_type": "code",
   "execution_count": 36,
   "metadata": {},
   "outputs": [
    {
     "data": {
      "image/svg+xml": [
       "<svg height=\"200px\" id=\"topsvg\" version=\"1.1\" viewBox=\"0 0 100 100\" width=\"200px\" x=\"0\" xmlns=\"http://www.w3.org/2000/svg\" xmlns:cml=\"http://www.xml-cml.org/schema\" xmlns:xlink=\"http://www.w3.org/1999/xlink\" y=\"0\">\n",
       "<title> - Open Babel Depiction</title>\n",
       "<rect fill=\"white\" height=\"100\" width=\"100\" x=\"0\" y=\"0\"/>\n",
       "<g transform=\"translate(0,0)\">\n",
       "<svg font-family=\"sans-serif\" height=\"100\" stroke=\"rgb(0,0,0)\" stroke-linecap=\"round\" stroke-width=\"2\" viewBox=\"0 0 183.923 180\" width=\"100\" x=\"0\" y=\"0\">\n",
       "<line stroke=\"rgb(0,0,0)\" stroke-width=\"2.0\" x1=\"132.7\" x2=\"109.3\" y1=\"93.5\" y2=\"80.0\"/>\n",
       "<line stroke=\"rgb(0,0,0)\" stroke-width=\"2.0\" x1=\"109.3\" x2=\"109.3\" y1=\"80.0\" y2=\"53.0\"/>\n",
       "<line stroke=\"rgb(0,0,0)\" stroke-width=\"2.0\" x1=\"109.3\" x2=\"74.6\" y1=\"80.0\" y2=\"100.0\"/>\n",
       "<line stroke=\"rgb(0,0,0)\" stroke-width=\"2.0\" x1=\"73.1\" x2=\"49.8\" y1=\"102.6\" y2=\"89.1\"/>\n",
       "<line stroke=\"rgb(0,0,0)\" stroke-width=\"2.0\" x1=\"76.1\" x2=\"52.8\" y1=\"97.4\" y2=\"83.9\"/>\n",
       "<line stroke=\"rgb(0,0,0)\" stroke-width=\"2.0\" x1=\"74.6\" x2=\"74.6\" y1=\"100.0\" y2=\"127.0\"/>\n",
       "<text fill=\"rgb(12,12,255)\" font-size=\"16\" stroke=\"rgb(12,12,255)\" stroke-width=\"1\" x=\"139.923048\" y=\"108.000000\">NH</text>\n",
       "<text fill=\"rgb(12,12,255)\" font-size=\"13\" stroke=\"rgb(12,12,255)\" stroke-width=\"1\" x=\"163.923048\" y=\"111.680000\">2</text>\n",
       "<text fill=\"rgb(102,102,102)\" font-size=\"16\" stroke=\"rgb(102,102,102)\" stroke-width=\"1\" x=\"105.282032\" y=\"48.000000\">CH</text>\n",
       "<text fill=\"rgb(102,102,102)\" font-size=\"13\" stroke=\"rgb(102,102,102)\" stroke-width=\"1\" x=\"129.282032\" y=\"51.680000\">3</text>\n",
       "<text fill=\"rgb(255,12,12)\" font-size=\"16\" stroke=\"rgb(255,12,12)\" stroke-width=\"1\" x=\"34.000000\" y=\"88.000000\">O</text>\n",
       "<text fill=\"rgb(255,12,12)\" font-size=\"16\" stroke=\"rgb(255,12,12)\" stroke-width=\"1\" x=\"68.641016\" y=\"148.000000\">OH</text>\n",
       "</svg>\n",
       "</g>\n",
       "<text fill=\"black\" font-family=\"sans-serif\" font-size=\"18.000000\" x=\"10.000000\" y=\"20.000000\"/>\n",
       "</svg>"
      ],
      "text/plain": [
       "<IPython.core.display.SVG object>"
      ]
     },
     "execution_count": 36,
     "metadata": {},
     "output_type": "execute_result"
    }
   ],
   "source": [
    "# 省略了一个重要的C-H键\n",
    "smile('NC(C)C(=O)O')"
   ]
  },
  {
   "cell_type": "code",
   "execution_count": 37,
   "metadata": {},
   "outputs": [
    {
     "data": {
      "image/svg+xml": [
       "<svg height=\"200px\" id=\"topsvg\" version=\"1.1\" viewBox=\"0 0 100 100\" width=\"200px\" x=\"0\" xmlns=\"http://www.w3.org/2000/svg\" xmlns:cml=\"http://www.xml-cml.org/schema\" xmlns:xlink=\"http://www.w3.org/1999/xlink\" y=\"0\">\n",
       "<title> - Open Babel Depiction</title>\n",
       "<rect fill=\"white\" height=\"100\" width=\"100\" x=\"0\" y=\"0\"/>\n",
       "<g transform=\"translate(0,0)\">\n",
       "<svg font-family=\"sans-serif\" height=\"100\" stroke=\"rgb(0,0,0)\" stroke-linecap=\"round\" stroke-width=\"2\" viewBox=\"0 0 189.282 180\" width=\"100\" x=\"0\" y=\"0\">\n",
       "<line stroke=\"rgb(0,0,0)\" stroke-width=\"2.0\" x1=\"80.0\" x2=\"80.0\" y1=\"127.0\" y2=\"100.0\"/>\n",
       "<line stroke=\"rgb(0,0,0)\" stroke-width=\"2.0\" x1=\"80.0\" x2=\"66.5\" y1=\"100.0\" y2=\"76.6\"/>\n",
       "<line stroke=\"rgb(0,0,0)\" stroke-width=\"2.0\" x1=\"80.0\" x2=\"53.0\" y1=\"100.0\" y2=\"100.0\"/>\n",
       "<line stroke=\"rgb(0,0,0)\" stroke-width=\"2.0\" x1=\"80.0\" x2=\"114.6\" y1=\"100.0\" y2=\"80.0\"/>\n",
       "<line stroke=\"rgb(0,0,0)\" stroke-width=\"2.0\" x1=\"116.1\" x2=\"139.5\" y1=\"77.4\" y2=\"90.9\"/>\n",
       "<line stroke=\"rgb(0,0,0)\" stroke-width=\"2.0\" x1=\"113.1\" x2=\"136.5\" y1=\"82.6\" y2=\"96.1\"/>\n",
       "<line stroke=\"rgb(0,0,0)\" stroke-width=\"2.0\" x1=\"114.6\" x2=\"114.6\" y1=\"80.0\" y2=\"53.0\"/>\n",
       "<text fill=\"rgb(12,12,255)\" font-size=\"16\" stroke=\"rgb(12,12,255)\" stroke-width=\"1\" x=\"76.000000\" y=\"148.000000\">NH</text>\n",
       "<text fill=\"rgb(12,12,255)\" font-size=\"13\" stroke=\"rgb(12,12,255)\" stroke-width=\"1\" x=\"100.000000\" y=\"151.680000\">2</text>\n",
       "<text fill=\"rgb(191,191,191)\" font-size=\"16\" stroke=\"rgb(191,191,191)\" stroke-width=\"1\" x=\"54.000000\" y=\"73.358984\">H</text>\n",
       "<text fill=\"rgb(102,102,102)\" font-size=\"16\" stroke=\"rgb(102,102,102)\" stroke-width=\"1\" x=\"14.000000\" y=\"108.000000\">H</text>\n",
       "<text fill=\"rgb(102,102,102)\" font-size=\"13\" stroke=\"rgb(102,102,102)\" stroke-width=\"1\" x=\"26.000000\" y=\"111.680000\">3</text>\n",
       "<text fill=\"rgb(102,102,102)\" font-size=\"16\" stroke=\"rgb(102,102,102)\" stroke-width=\"1\" x=\"32.500000\" y=\"108.000000\">C</text>\n",
       "<text fill=\"rgb(255,12,12)\" font-size=\"16\" stroke=\"rgb(255,12,12)\" stroke-width=\"1\" x=\"143.282032\" y=\"108.000000\">O</text>\n",
       "<text fill=\"rgb(255,12,12)\" font-size=\"16\" stroke=\"rgb(255,12,12)\" stroke-width=\"1\" x=\"108.641016\" y=\"48.000000\">OH</text>\n",
       "</svg>\n",
       "</g>\n",
       "<text fill=\"black\" font-family=\"sans-serif\" font-size=\"18.000000\" x=\"10.000000\" y=\"20.000000\"/>\n",
       "</svg>"
      ],
      "text/plain": [
       "<IPython.core.display.SVG object>"
      ]
     },
     "execution_count": 37,
     "metadata": {},
     "output_type": "execute_result"
    }
   ],
   "source": [
    "# 突出四面体构型中的CH键\n",
    "smile('N[CH](C)C(=O)O')"
   ]
  },
  {
   "cell_type": "markdown",
   "metadata": {},
   "source": [
    "从NC键看过去, H,甲基,酸按顺时针排列"
   ]
  },
  {
   "cell_type": "code",
   "execution_count": 38,
   "metadata": {},
   "outputs": [
    {
     "data": {
      "image/svg+xml": [
       "<svg height=\"200px\" id=\"topsvg\" version=\"1.1\" viewBox=\"0 0 100 100\" width=\"200px\" x=\"0\" xmlns=\"http://www.w3.org/2000/svg\" xmlns:cml=\"http://www.xml-cml.org/schema\" xmlns:xlink=\"http://www.w3.org/1999/xlink\" y=\"0\">\n",
       "<title> - Open Babel Depiction</title>\n",
       "<rect fill=\"white\" height=\"100\" width=\"100\" x=\"0\" y=\"0\"/>\n",
       "<g transform=\"translate(0,0)\">\n",
       "<svg font-family=\"sans-serif\" height=\"100\" stroke=\"rgb(0,0,0)\" stroke-linecap=\"round\" stroke-width=\"2\" viewBox=\"0 0 189.282 180\" width=\"100\" x=\"0\" y=\"0\">\n",
       "<line stroke=\"rgb(0,0,0)\" stroke-width=\"2.0\" x1=\"80.0\" x2=\"80.0\" y1=\"127.0\" y2=\"100.0\"/>\n",
       "<line stroke=\"rgb(0,0,0)\" stroke-width=\"1.0\" x1=\"76.6\" x2=\"78.0\" y1=\"95.8\" y2=\"95.0\"/>\n",
       "<line stroke=\"rgb(0,0,0)\" stroke-width=\"1.0\" x1=\"73.9\" x2=\"76.4\" y1=\"92.4\" y2=\"90.9\"/>\n",
       "<line stroke=\"rgb(0,0,0)\" stroke-width=\"1.0\" x1=\"71.2\" x2=\"74.8\" y1=\"89.0\" y2=\"86.9\"/>\n",
       "<line stroke=\"rgb(0,0,0)\" stroke-width=\"1.0\" x1=\"68.5\" x2=\"73.2\" y1=\"85.6\" y2=\"82.9\"/>\n",
       "<line stroke=\"rgb(0,0,0)\" stroke-width=\"1.0\" x1=\"65.8\" x2=\"71.7\" y1=\"82.2\" y2=\"78.8\"/>\n",
       "<line stroke=\"rgb(0,0,0)\" stroke-width=\"1.0\" x1=\"63.1\" x2=\"70.1\" y1=\"78.8\" y2=\"74.8\"/>\n",
       "<line stroke=\"rgb(0,0,0)\" stroke-width=\"2.0\" x1=\"80.0\" x2=\"53.0\" y1=\"100.0\" y2=\"100.0\"/>\n",
       "<line stroke=\"rgb(0,0,0)\" stroke-width=\"2.0\" x1=\"80.0\" x2=\"114.6\" y1=\"100.0\" y2=\"80.0\"/>\n",
       "<line stroke=\"rgb(0,0,0)\" stroke-width=\"2.0\" x1=\"116.1\" x2=\"139.5\" y1=\"77.4\" y2=\"90.9\"/>\n",
       "<line stroke=\"rgb(0,0,0)\" stroke-width=\"2.0\" x1=\"113.1\" x2=\"136.5\" y1=\"82.6\" y2=\"96.1\"/>\n",
       "<line stroke=\"rgb(0,0,0)\" stroke-width=\"2.0\" x1=\"114.6\" x2=\"114.6\" y1=\"80.0\" y2=\"53.0\"/>\n",
       "<text fill=\"rgb(12,12,255)\" font-size=\"16\" stroke=\"rgb(12,12,255)\" stroke-width=\"1\" x=\"76.000000\" y=\"148.000000\">NH</text>\n",
       "<text fill=\"rgb(12,12,255)\" font-size=\"13\" stroke=\"rgb(12,12,255)\" stroke-width=\"1\" x=\"100.000000\" y=\"151.680000\">2</text>\n",
       "<text fill=\"rgb(191,191,191)\" font-size=\"16\" stroke=\"rgb(191,191,191)\" stroke-width=\"1\" x=\"54.000000\" y=\"73.358984\">H</text>\n",
       "<text fill=\"rgb(102,102,102)\" font-size=\"16\" stroke=\"rgb(102,102,102)\" stroke-width=\"1\" x=\"14.000000\" y=\"108.000000\">H</text>\n",
       "<text fill=\"rgb(102,102,102)\" font-size=\"13\" stroke=\"rgb(102,102,102)\" stroke-width=\"1\" x=\"26.000000\" y=\"111.680000\">3</text>\n",
       "<text fill=\"rgb(102,102,102)\" font-size=\"16\" stroke=\"rgb(102,102,102)\" stroke-width=\"1\" x=\"32.500000\" y=\"108.000000\">C</text>\n",
       "<text fill=\"rgb(255,12,12)\" font-size=\"16\" stroke=\"rgb(255,12,12)\" stroke-width=\"1\" x=\"143.282032\" y=\"108.000000\">O</text>\n",
       "<text fill=\"rgb(255,12,12)\" font-size=\"16\" stroke=\"rgb(255,12,12)\" stroke-width=\"1\" x=\"108.641016\" y=\"48.000000\">OH</text>\n",
       "</svg>\n",
       "</g>\n",
       "<text fill=\"black\" font-family=\"sans-serif\" font-size=\"18.000000\" x=\"10.000000\" y=\"20.000000\"/>\n",
       "</svg>"
      ],
      "text/plain": [
       "<IPython.core.display.SVG object>"
      ]
     },
     "execution_count": 38,
     "metadata": {},
     "output_type": "execute_result"
    }
   ],
   "source": [
    "smile('N[C@@H](C)C(=O)O')"
   ]
  },
  {
   "cell_type": "markdown",
   "metadata": {},
   "source": [
    "从NC键的方向看过去, H, 甲基, 酸按逆时针方向排列"
   ]
  },
  {
   "cell_type": "code",
   "execution_count": 39,
   "metadata": {},
   "outputs": [
    {
     "data": {
      "image/svg+xml": [
       "<svg height=\"200px\" id=\"topsvg\" version=\"1.1\" viewBox=\"0 0 100 100\" width=\"200px\" x=\"0\" xmlns=\"http://www.w3.org/2000/svg\" xmlns:cml=\"http://www.xml-cml.org/schema\" xmlns:xlink=\"http://www.w3.org/1999/xlink\" y=\"0\">\n",
       "<title> - Open Babel Depiction</title>\n",
       "<rect fill=\"white\" height=\"100\" width=\"100\" x=\"0\" y=\"0\"/>\n",
       "<g transform=\"translate(0,0)\">\n",
       "<svg font-family=\"sans-serif\" height=\"100\" stroke=\"rgb(0,0,0)\" stroke-linecap=\"round\" stroke-width=\"2\" viewBox=\"0 0 189.282 180\" width=\"100\" x=\"0\" y=\"0\">\n",
       "<line stroke=\"rgb(0,0,0)\" stroke-width=\"2.0\" x1=\"80.0\" x2=\"80.0\" y1=\"127.0\" y2=\"100.0\"/>\n",
       "<polygon fill=\"rgb(0,0,0)\" points=\"80.000000 100.000000 63.135898 78.790519 70.064102 74.790519 \" stroke=\"rgb(0,0,0)\" stroke-width=\"2.000000\"/>\n",
       "<line stroke=\"rgb(0,0,0)\" stroke-width=\"2.0\" x1=\"80.0\" x2=\"53.0\" y1=\"100.0\" y2=\"100.0\"/>\n",
       "<line stroke=\"rgb(0,0,0)\" stroke-width=\"2.0\" x1=\"80.0\" x2=\"114.6\" y1=\"100.0\" y2=\"80.0\"/>\n",
       "<line stroke=\"rgb(0,0,0)\" stroke-width=\"2.0\" x1=\"116.1\" x2=\"139.5\" y1=\"77.4\" y2=\"90.9\"/>\n",
       "<line stroke=\"rgb(0,0,0)\" stroke-width=\"2.0\" x1=\"113.1\" x2=\"136.5\" y1=\"82.6\" y2=\"96.1\"/>\n",
       "<line stroke=\"rgb(0,0,0)\" stroke-width=\"2.0\" x1=\"114.6\" x2=\"114.6\" y1=\"80.0\" y2=\"53.0\"/>\n",
       "<text fill=\"rgb(12,12,255)\" font-size=\"16\" stroke=\"rgb(12,12,255)\" stroke-width=\"1\" x=\"76.000000\" y=\"148.000000\">NH</text>\n",
       "<text fill=\"rgb(12,12,255)\" font-size=\"13\" stroke=\"rgb(12,12,255)\" stroke-width=\"1\" x=\"100.000000\" y=\"151.680000\">2</text>\n",
       "<text fill=\"rgb(191,191,191)\" font-size=\"16\" stroke=\"rgb(191,191,191)\" stroke-width=\"1\" x=\"54.000000\" y=\"73.358984\">H</text>\n",
       "<text fill=\"rgb(102,102,102)\" font-size=\"16\" stroke=\"rgb(102,102,102)\" stroke-width=\"1\" x=\"14.000000\" y=\"108.000000\">H</text>\n",
       "<text fill=\"rgb(102,102,102)\" font-size=\"13\" stroke=\"rgb(102,102,102)\" stroke-width=\"1\" x=\"26.000000\" y=\"111.680000\">3</text>\n",
       "<text fill=\"rgb(102,102,102)\" font-size=\"16\" stroke=\"rgb(102,102,102)\" stroke-width=\"1\" x=\"32.500000\" y=\"108.000000\">C</text>\n",
       "<text fill=\"rgb(255,12,12)\" font-size=\"16\" stroke=\"rgb(255,12,12)\" stroke-width=\"1\" x=\"143.282032\" y=\"108.000000\">O</text>\n",
       "<text fill=\"rgb(255,12,12)\" font-size=\"16\" stroke=\"rgb(255,12,12)\" stroke-width=\"1\" x=\"108.641016\" y=\"48.000000\">OH</text>\n",
       "</svg>\n",
       "</g>\n",
       "<text fill=\"black\" font-family=\"sans-serif\" font-size=\"18.000000\" x=\"10.000000\" y=\"20.000000\"/>\n",
       "</svg>"
      ],
      "text/plain": [
       "<IPython.core.display.SVG object>"
      ]
     },
     "execution_count": 39,
     "metadata": {},
     "output_type": "execute_result"
    }
   ],
   "source": [
    "smile('N[C@H](C)C(=O)O')\n",
    "# smile('N[C@]([H])(C)C(=O)O')"
   ]
  },
  {
   "cell_type": "markdown",
   "metadata": {},
   "source": [
    "调换字符的排列顺序"
   ]
  },
  {
   "cell_type": "code",
   "execution_count": 40,
   "metadata": {},
   "outputs": [
    {
     "data": {
      "image/svg+xml": [
       "<svg height=\"200px\" id=\"topsvg\" version=\"1.1\" viewBox=\"0 0 100 100\" width=\"200px\" x=\"0\" xmlns=\"http://www.w3.org/2000/svg\" xmlns:cml=\"http://www.xml-cml.org/schema\" xmlns:xlink=\"http://www.w3.org/1999/xlink\" y=\"0\">\n",
       "<title> - Open Babel Depiction</title>\n",
       "<rect fill=\"white\" height=\"100\" width=\"100\" x=\"0\" y=\"0\"/>\n",
       "<g transform=\"translate(0,0)\">\n",
       "<svg font-family=\"sans-serif\" height=\"100\" stroke=\"rgb(0,0,0)\" stroke-linecap=\"round\" stroke-width=\"2\" viewBox=\"0 0 189.282 180\" width=\"100\" x=\"0\" y=\"0\">\n",
       "<line stroke=\"rgb(0,0,0)\" stroke-width=\"2.0\" x1=\"80.0\" x2=\"80.0\" y1=\"127.0\" y2=\"100.0\"/>\n",
       "<polygon fill=\"rgb(0,0,0)\" points=\"80.000000 100.000000 63.135898 78.790519 70.064102 74.790519 \" stroke=\"rgb(0,0,0)\" stroke-width=\"2.000000\"/>\n",
       "<line stroke=\"rgb(0,0,0)\" stroke-width=\"2.0\" x1=\"80.0\" x2=\"53.0\" y1=\"100.0\" y2=\"100.0\"/>\n",
       "<line stroke=\"rgb(0,0,0)\" stroke-width=\"2.0\" x1=\"80.0\" x2=\"114.6\" y1=\"100.0\" y2=\"80.0\"/>\n",
       "<line stroke=\"rgb(0,0,0)\" stroke-width=\"2.0\" x1=\"116.1\" x2=\"139.5\" y1=\"77.4\" y2=\"90.9\"/>\n",
       "<line stroke=\"rgb(0,0,0)\" stroke-width=\"2.0\" x1=\"113.1\" x2=\"136.5\" y1=\"82.6\" y2=\"96.1\"/>\n",
       "<line stroke=\"rgb(0,0,0)\" stroke-width=\"2.0\" x1=\"114.6\" x2=\"114.6\" y1=\"80.0\" y2=\"53.0\"/>\n",
       "<text fill=\"rgb(102,102,102)\" font-size=\"16\" stroke=\"rgb(102,102,102)\" stroke-width=\"1\" x=\"76.000000\" y=\"148.000000\">CH</text>\n",
       "<text fill=\"rgb(102,102,102)\" font-size=\"13\" stroke=\"rgb(102,102,102)\" stroke-width=\"1\" x=\"100.000000\" y=\"151.680000\">3</text>\n",
       "<text fill=\"rgb(191,191,191)\" font-size=\"16\" stroke=\"rgb(191,191,191)\" stroke-width=\"1\" x=\"54.000000\" y=\"73.358984\">H</text>\n",
       "<text fill=\"rgb(12,12,255)\" font-size=\"16\" stroke=\"rgb(12,12,255)\" stroke-width=\"1\" x=\"14.000000\" y=\"108.000000\">H</text>\n",
       "<text fill=\"rgb(12,12,255)\" font-size=\"13\" stroke=\"rgb(12,12,255)\" stroke-width=\"1\" x=\"26.000000\" y=\"111.680000\">2</text>\n",
       "<text fill=\"rgb(12,12,255)\" font-size=\"16\" stroke=\"rgb(12,12,255)\" stroke-width=\"1\" x=\"32.500000\" y=\"108.000000\">N</text>\n",
       "<text fill=\"rgb(255,12,12)\" font-size=\"16\" stroke=\"rgb(255,12,12)\" stroke-width=\"1\" x=\"143.282032\" y=\"108.000000\">O</text>\n",
       "<text fill=\"rgb(255,12,12)\" font-size=\"16\" stroke=\"rgb(255,12,12)\" stroke-width=\"1\" x=\"108.641016\" y=\"48.000000\">OH</text>\n",
       "</svg>\n",
       "</g>\n",
       "<text fill=\"black\" font-family=\"sans-serif\" font-size=\"18.000000\" x=\"10.000000\" y=\"20.000000\"/>\n",
       "</svg>"
      ],
      "text/plain": [
       "<IPython.core.display.SVG object>"
      ]
     },
     "execution_count": 40,
     "metadata": {},
     "output_type": "execute_result"
    }
   ],
   "source": [
    "smile('C[C@H](N)C(=O)O')"
   ]
  },
  {
   "cell_type": "code",
   "execution_count": 41,
   "metadata": {},
   "outputs": [
    {
     "data": {
      "image/svg+xml": [
       "<svg height=\"200px\" id=\"topsvg\" version=\"1.1\" viewBox=\"0 0 100 100\" width=\"200px\" x=\"0\" xmlns=\"http://www.w3.org/2000/svg\" xmlns:cml=\"http://www.xml-cml.org/schema\" xmlns:xlink=\"http://www.w3.org/1999/xlink\" y=\"0\">\n",
       "<title> - Open Babel Depiction</title>\n",
       "<rect fill=\"white\" height=\"100\" width=\"100\" x=\"0\" y=\"0\"/>\n",
       "<g transform=\"translate(0,0)\">\n",
       "<svg font-family=\"sans-serif\" height=\"100\" stroke=\"rgb(0,0,0)\" stroke-linecap=\"round\" stroke-width=\"2\" viewBox=\"0 0 189.282 180\" width=\"100\" x=\"0\" y=\"0\">\n",
       "<line stroke=\"rgb(0,0,0)\" stroke-width=\"2.0\" x1=\"114.6\" x2=\"114.6\" y1=\"127.0\" y2=\"100.0\"/>\n",
       "<line stroke=\"rgb(0,0,0)\" stroke-width=\"2.0\" x1=\"113.1\" x2=\"136.5\" y1=\"97.4\" y2=\"83.9\"/>\n",
       "<line stroke=\"rgb(0,0,0)\" stroke-width=\"2.0\" x1=\"116.1\" x2=\"139.5\" y1=\"102.6\" y2=\"89.1\"/>\n",
       "<line stroke=\"rgb(0,0,0)\" stroke-width=\"2.0\" x1=\"114.6\" x2=\"80.0\" y1=\"100.0\" y2=\"80.0\"/>\n",
       "<line stroke=\"rgb(0,0,0)\" stroke-width=\"1.0\" x1=\"74.6\" x2=\"74.6\" y1=\"80.8\" y2=\"79.2\"/>\n",
       "<line stroke=\"rgb(0,0,0)\" stroke-width=\"1.0\" x1=\"70.4\" x2=\"70.4\" y1=\"81.4\" y2=\"78.6\"/>\n",
       "<line stroke=\"rgb(0,0,0)\" stroke-width=\"1.0\" x1=\"66.1\" x2=\"66.1\" y1=\"82.1\" y2=\"77.9\"/>\n",
       "<line stroke=\"rgb(0,0,0)\" stroke-width=\"1.0\" x1=\"61.8\" x2=\"61.8\" y1=\"82.7\" y2=\"77.3\"/>\n",
       "<line stroke=\"rgb(0,0,0)\" stroke-width=\"1.0\" x1=\"57.5\" x2=\"57.5\" y1=\"83.4\" y2=\"76.6\"/>\n",
       "<line stroke=\"rgb(0,0,0)\" stroke-width=\"1.0\" x1=\"53.2\" x2=\"53.2\" y1=\"84.0\" y2=\"76.0\"/>\n",
       "<line stroke=\"rgb(0,0,0)\" stroke-width=\"2.0\" x1=\"80.0\" x2=\"66.5\" y1=\"80.0\" y2=\"103.4\"/>\n",
       "<line stroke=\"rgb(0,0,0)\" stroke-width=\"2.0\" x1=\"80.0\" x2=\"80.0\" y1=\"80.0\" y2=\"53.0\"/>\n",
       "<text fill=\"rgb(255,12,12)\" font-size=\"16\" stroke=\"rgb(255,12,12)\" stroke-width=\"1\" x=\"108.641016\" y=\"148.000000\">OH</text>\n",
       "<text fill=\"rgb(255,12,12)\" font-size=\"16\" stroke=\"rgb(255,12,12)\" stroke-width=\"1\" x=\"143.282032\" y=\"88.000000\">O</text>\n",
       "<text fill=\"rgb(191,191,191)\" font-size=\"16\" stroke=\"rgb(191,191,191)\" stroke-width=\"1\" x=\"34.000000\" y=\"88.000000\">H</text>\n",
       "<text fill=\"rgb(12,12,255)\" font-size=\"16\" stroke=\"rgb(12,12,255)\" stroke-width=\"1\" x=\"34.000000\" y=\"122.641016\">H</text>\n",
       "<text fill=\"rgb(12,12,255)\" font-size=\"13\" stroke=\"rgb(12,12,255)\" stroke-width=\"1\" x=\"46.000000\" y=\"126.321016\">2</text>\n",
       "<text fill=\"rgb(12,12,255)\" font-size=\"16\" stroke=\"rgb(12,12,255)\" stroke-width=\"1\" x=\"52.500000\" y=\"122.641016\">N</text>\n",
       "<text fill=\"rgb(102,102,102)\" font-size=\"16\" stroke=\"rgb(102,102,102)\" stroke-width=\"1\" x=\"76.000000\" y=\"48.000000\">CH</text>\n",
       "<text fill=\"rgb(102,102,102)\" font-size=\"13\" stroke=\"rgb(102,102,102)\" stroke-width=\"1\" x=\"100.000000\" y=\"51.680000\">3</text>\n",
       "</svg>\n",
       "</g>\n",
       "<text fill=\"black\" font-family=\"sans-serif\" font-size=\"18.000000\" x=\"10.000000\" y=\"20.000000\"/>\n",
       "</svg>"
      ],
      "text/plain": [
       "<IPython.core.display.SVG object>"
      ]
     },
     "execution_count": 41,
     "metadata": {},
     "output_type": "execute_result"
    }
   ],
   "source": [
    "smile('OC(=O)[C@@H](N)C')"
   ]
  },
  {
   "cell_type": "code",
   "execution_count": 42,
   "metadata": {},
   "outputs": [
    {
     "data": {
      "image/svg+xml": [
       "<svg height=\"200px\" id=\"topsvg\" version=\"1.1\" viewBox=\"0 0 100 100\" width=\"200px\" x=\"0\" xmlns=\"http://www.w3.org/2000/svg\" xmlns:cml=\"http://www.xml-cml.org/schema\" xmlns:xlink=\"http://www.w3.org/1999/xlink\" y=\"0\">\n",
       "<title> - Open Babel Depiction</title>\n",
       "<rect fill=\"white\" height=\"100\" width=\"100\" x=\"0\" y=\"0\"/>\n",
       "<g transform=\"translate(0,0)\">\n",
       "<svg font-family=\"sans-serif\" height=\"100\" stroke=\"rgb(0,0,0)\" stroke-linecap=\"round\" stroke-width=\"2\" viewBox=\"0 0 189.282 180\" width=\"100\" x=\"0\" y=\"0\">\n",
       "<line stroke=\"rgb(0,0,0)\" stroke-width=\"2.0\" x1=\"114.6\" x2=\"114.6\" y1=\"127.0\" y2=\"100.0\"/>\n",
       "<line stroke=\"rgb(0,0,0)\" stroke-width=\"2.0\" x1=\"113.1\" x2=\"136.5\" y1=\"97.4\" y2=\"83.9\"/>\n",
       "<line stroke=\"rgb(0,0,0)\" stroke-width=\"2.0\" x1=\"116.1\" x2=\"139.5\" y1=\"102.6\" y2=\"89.1\"/>\n",
       "<line stroke=\"rgb(0,0,0)\" stroke-width=\"2.0\" x1=\"114.6\" x2=\"80.0\" y1=\"100.0\" y2=\"80.0\"/>\n",
       "<polygon fill=\"rgb(0,0,0)\" points=\"80.000000 80.000000 53.200000 84.000000 53.200000 76.000000 \" stroke=\"rgb(0,0,0)\" stroke-width=\"2.000000\"/>\n",
       "<line stroke=\"rgb(0,0,0)\" stroke-width=\"2.0\" x1=\"80.0\" x2=\"66.5\" y1=\"80.0\" y2=\"103.4\"/>\n",
       "<line stroke=\"rgb(0,0,0)\" stroke-width=\"2.0\" x1=\"80.0\" x2=\"80.0\" y1=\"80.0\" y2=\"53.0\"/>\n",
       "<text fill=\"rgb(255,12,12)\" font-size=\"16\" stroke=\"rgb(255,12,12)\" stroke-width=\"1\" x=\"108.641016\" y=\"148.000000\">OH</text>\n",
       "<text fill=\"rgb(255,12,12)\" font-size=\"16\" stroke=\"rgb(255,12,12)\" stroke-width=\"1\" x=\"143.282032\" y=\"88.000000\">O</text>\n",
       "<text fill=\"rgb(191,191,191)\" font-size=\"16\" stroke=\"rgb(191,191,191)\" stroke-width=\"1\" x=\"34.000000\" y=\"88.000000\">H</text>\n",
       "<text fill=\"rgb(102,102,102)\" font-size=\"16\" stroke=\"rgb(102,102,102)\" stroke-width=\"1\" x=\"34.000000\" y=\"122.641016\">H</text>\n",
       "<text fill=\"rgb(102,102,102)\" font-size=\"13\" stroke=\"rgb(102,102,102)\" stroke-width=\"1\" x=\"46.000000\" y=\"126.321016\">3</text>\n",
       "<text fill=\"rgb(102,102,102)\" font-size=\"16\" stroke=\"rgb(102,102,102)\" stroke-width=\"1\" x=\"52.500000\" y=\"122.641016\">C</text>\n",
       "<text fill=\"rgb(12,12,255)\" font-size=\"16\" stroke=\"rgb(12,12,255)\" stroke-width=\"1\" x=\"76.000000\" y=\"48.000000\">NH</text>\n",
       "<text fill=\"rgb(12,12,255)\" font-size=\"13\" stroke=\"rgb(12,12,255)\" stroke-width=\"1\" x=\"100.000000\" y=\"51.680000\">2</text>\n",
       "</svg>\n",
       "</g>\n",
       "<text fill=\"black\" font-family=\"sans-serif\" font-size=\"18.000000\" x=\"10.000000\" y=\"20.000000\"/>\n",
       "</svg>"
      ],
      "text/plain": [
       "<IPython.core.display.SVG object>"
      ]
     },
     "execution_count": 42,
     "metadata": {},
     "output_type": "execute_result"
    }
   ],
   "source": [
    "smile('OC(=O)[C@H](C)N') #从酸C键的方向看过去,逆时针出现H,甲基,N"
   ]
  },
  {
   "cell_type": "markdown",
   "metadata": {},
   "source": [
    "从手性碳位于字符串的开头如何分析:  \n",
    "手部做三维坐标状, 手部顶点表示中心C, 其余三指表示三个键, 三指扣在纸面上时, H出现在纸面内部, 所以沿着C-H键方向, 逆时针出现C,N,COOH;"
   ]
  },
  {
   "cell_type": "code",
   "execution_count": 43,
   "metadata": {},
   "outputs": [
    {
     "data": {
      "image/svg+xml": [
       "<svg height=\"200px\" id=\"topsvg\" version=\"1.1\" viewBox=\"0 0 100 100\" width=\"200px\" x=\"0\" xmlns=\"http://www.w3.org/2000/svg\" xmlns:cml=\"http://www.xml-cml.org/schema\" xmlns:xlink=\"http://www.w3.org/1999/xlink\" y=\"0\">\n",
       "<title> - Open Babel Depiction</title>\n",
       "<rect fill=\"white\" height=\"100\" width=\"100\" x=\"0\" y=\"0\"/>\n",
       "<g transform=\"translate(0,0)\">\n",
       "<svg font-family=\"sans-serif\" height=\"100\" stroke=\"rgb(0,0,0)\" stroke-linecap=\"round\" stroke-width=\"2\" viewBox=\"0 0 189.282 180\" width=\"100\" x=\"0\" y=\"0\">\n",
       "<line stroke=\"rgb(0,0,0)\" stroke-width=\"1.0\" x1=\"108.5\" x2=\"110.1\" y1=\"74.6\" y2=\"74.6\"/>\n",
       "<line stroke=\"rgb(0,0,0)\" stroke-width=\"1.0\" x1=\"107.8\" x2=\"110.7\" y1=\"70.4\" y2=\"70.4\"/>\n",
       "<line stroke=\"rgb(0,0,0)\" stroke-width=\"1.0\" x1=\"107.2\" x2=\"111.4\" y1=\"66.1\" y2=\"66.1\"/>\n",
       "<line stroke=\"rgb(0,0,0)\" stroke-width=\"1.0\" x1=\"106.6\" x2=\"112.0\" y1=\"61.8\" y2=\"61.8\"/>\n",
       "<line stroke=\"rgb(0,0,0)\" stroke-width=\"1.0\" x1=\"105.9\" x2=\"112.6\" y1=\"57.5\" y2=\"57.5\"/>\n",
       "<line stroke=\"rgb(0,0,0)\" stroke-width=\"1.0\" x1=\"105.3\" x2=\"113.3\" y1=\"53.2\" y2=\"53.2\"/>\n",
       "<line stroke=\"rgb(0,0,0)\" stroke-width=\"2.0\" x1=\"109.3\" x2=\"122.8\" y1=\"80.0\" y2=\"103.4\"/>\n",
       "<line stroke=\"rgb(0,0,0)\" stroke-width=\"2.0\" x1=\"109.3\" x2=\"136.3\" y1=\"80.0\" y2=\"80.0\"/>\n",
       "<line stroke=\"rgb(0,0,0)\" stroke-width=\"2.0\" x1=\"109.3\" x2=\"74.6\" y1=\"80.0\" y2=\"100.0\"/>\n",
       "<line stroke=\"rgb(0,0,0)\" stroke-width=\"2.0\" x1=\"73.1\" x2=\"49.8\" y1=\"102.6\" y2=\"89.1\"/>\n",
       "<line stroke=\"rgb(0,0,0)\" stroke-width=\"2.0\" x1=\"76.1\" x2=\"52.8\" y1=\"97.4\" y2=\"83.9\"/>\n",
       "<line stroke=\"rgb(0,0,0)\" stroke-width=\"2.0\" x1=\"74.6\" x2=\"74.6\" y1=\"100.0\" y2=\"127.0\"/>\n",
       "<text fill=\"rgb(191,191,191)\" font-size=\"16\" stroke=\"rgb(191,191,191)\" stroke-width=\"1\" x=\"103.282032\" y=\"48.000000\">H</text>\n",
       "<text fill=\"rgb(102,102,102)\" font-size=\"16\" stroke=\"rgb(102,102,102)\" stroke-width=\"1\" x=\"125.282032\" y=\"122.641016\">CH</text>\n",
       "<text fill=\"rgb(102,102,102)\" font-size=\"13\" stroke=\"rgb(102,102,102)\" stroke-width=\"1\" x=\"149.282032\" y=\"126.321016\">3</text>\n",
       "<text fill=\"rgb(12,12,255)\" font-size=\"16\" stroke=\"rgb(12,12,255)\" stroke-width=\"1\" x=\"145.282032\" y=\"88.000000\">NH</text>\n",
       "<text fill=\"rgb(12,12,255)\" font-size=\"13\" stroke=\"rgb(12,12,255)\" stroke-width=\"1\" x=\"169.282032\" y=\"91.680000\">2</text>\n",
       "<text fill=\"rgb(255,12,12)\" font-size=\"16\" stroke=\"rgb(255,12,12)\" stroke-width=\"1\" x=\"34.000000\" y=\"88.000000\">O</text>\n",
       "<text fill=\"rgb(255,12,12)\" font-size=\"16\" stroke=\"rgb(255,12,12)\" stroke-width=\"1\" x=\"68.641016\" y=\"148.000000\">OH</text>\n",
       "</svg>\n",
       "</g>\n",
       "<text fill=\"black\" font-family=\"sans-serif\" font-size=\"18.000000\" x=\"10.000000\" y=\"20.000000\"/>\n",
       "</svg>"
      ],
      "text/plain": [
       "<IPython.core.display.SVG object>"
      ]
     },
     "execution_count": 43,
     "metadata": {},
     "output_type": "execute_result"
    }
   ],
   "source": [
    "smile('[C@@H](C)(N)C(=O)O')"
   ]
  },
  {
   "cell_type": "markdown",
   "metadata": {},
   "source": [
    "## Isotopes"
   ]
  },
  {
   "cell_type": "markdown",
   "metadata": {},
   "source": [
    "芳香环中有个C14"
   ]
  },
  {
   "cell_type": "code",
   "execution_count": 44,
   "metadata": {},
   "outputs": [
    {
     "data": {
      "image/svg+xml": [
       "<svg height=\"200px\" id=\"topsvg\" version=\"1.1\" viewBox=\"0 0 100 100\" width=\"200px\" x=\"0\" xmlns=\"http://www.w3.org/2000/svg\" xmlns:cml=\"http://www.xml-cml.org/schema\" xmlns:xlink=\"http://www.w3.org/1999/xlink\" y=\"0\">\n",
       "<title> - Open Babel Depiction</title>\n",
       "<rect fill=\"white\" height=\"100\" width=\"100\" x=\"0\" y=\"0\"/>\n",
       "<g transform=\"translate(0,0)\">\n",
       "<svg font-family=\"sans-serif\" height=\"100\" stroke=\"rgb(0,0,0)\" stroke-linecap=\"round\" stroke-width=\"2\" viewBox=\"0 0 149.282 160\" width=\"100\" x=\"0\" y=\"0\">\n",
       "<line stroke=\"rgb(0,0,0)\" stroke-width=\"2.0\" x1=\"40.0\" x2=\"74.6\" y1=\"60.0\" y2=\"40.0\"/>\n",
       "<line stroke=\"rgb(0,0,0)\" stroke-width=\"2.0\" x1=\"48.8\" x2=\"73.0\" y1=\"63.2\" y2=\"49.2\"/>\n",
       "<line stroke=\"rgb(0,0,0)\" stroke-width=\"2.0\" x1=\"74.6\" x2=\"109.3\" y1=\"40.0\" y2=\"60.0\"/>\n",
       "<line stroke=\"rgb(0,0,0)\" stroke-width=\"2.0\" x1=\"109.3\" x2=\"109.3\" y1=\"60.0\" y2=\"100.0\"/>\n",
       "<line stroke=\"rgb(0,0,0)\" stroke-width=\"2.0\" x1=\"102.1\" x2=\"102.1\" y1=\"66.0\" y2=\"94.0\"/>\n",
       "<line stroke=\"rgb(0,0,0)\" stroke-width=\"2.0\" x1=\"109.3\" x2=\"74.6\" y1=\"100.0\" y2=\"120.0\"/>\n",
       "<line stroke=\"rgb(0,0,0)\" stroke-width=\"2.0\" x1=\"74.6\" x2=\"40.0\" y1=\"120.0\" y2=\"100.0\"/>\n",
       "<line stroke=\"rgb(0,0,0)\" stroke-width=\"2.0\" x1=\"73.0\" x2=\"48.8\" y1=\"110.8\" y2=\"96.8\"/>\n",
       "<line stroke=\"rgb(0,0,0)\" stroke-width=\"2.0\" x1=\"40.0\" x2=\"40.0\" y1=\"100.0\" y2=\"60.0\"/>\n",
       "<text fill=\"rgb(102,102,102)\" font-size=\"16\" stroke=\"rgb(102,102,102)\" stroke-width=\"1\" x=\"79.441016\" y=\"115.968000\"/>\n",
       "<text fill=\"rgb(102,102,102)\" font-size=\"32\" stroke=\"rgb(102,102,102)\" stroke-width=\"1\" x=\"79.441016\" y=\"115.968000\">.</text>\n",
       "</svg>\n",
       "</g>\n",
       "<text fill=\"black\" font-family=\"sans-serif\" font-size=\"18.000000\" x=\"10.000000\" y=\"20.000000\"/>\n",
       "</svg>"
      ],
      "text/plain": [
       "<IPython.core.display.SVG object>"
      ]
     },
     "execution_count": 44,
     "metadata": {},
     "output_type": "execute_result"
    }
   ],
   "source": [
    "smile('[14c]1ccccc1')"
   ]
  },
  {
   "cell_type": "markdown",
   "metadata": {},
   "source": [
    "四氯化碳中有一个H2"
   ]
  },
  {
   "cell_type": "code",
   "execution_count": 45,
   "metadata": {},
   "outputs": [
    {
     "data": {
      "image/svg+xml": [
       "<svg height=\"200px\" id=\"topsvg\" version=\"1.1\" viewBox=\"0 0 100 100\" width=\"200px\" x=\"0\" xmlns=\"http://www.w3.org/2000/svg\" xmlns:cml=\"http://www.xml-cml.org/schema\" xmlns:xlink=\"http://www.w3.org/1999/xlink\" y=\"0\">\n",
       "<title> - Open Babel Depiction</title>\n",
       "<rect fill=\"white\" height=\"100\" width=\"100\" x=\"0\" y=\"0\"/>\n",
       "<g transform=\"translate(0,0)\">\n",
       "<svg font-family=\"sans-serif\" height=\"100\" stroke=\"rgb(0,0,0)\" stroke-linecap=\"round\" stroke-width=\"2\" viewBox=\"0 0 154.641 154.641\" width=\"100\" x=\"0\" y=\"0\">\n",
       "<line stroke=\"rgb(0,0,0)\" stroke-width=\"2.0\" x1=\"101.6\" x2=\"74.6\" y1=\"74.6\" y2=\"74.6\"/>\n",
       "<line stroke=\"rgb(0,0,0)\" stroke-width=\"2.0\" x1=\"74.6\" x2=\"51.3\" y1=\"74.6\" y2=\"88.1\"/>\n",
       "<line stroke=\"rgb(0,0,0)\" stroke-width=\"2.0\" x1=\"74.6\" x2=\"74.6\" y1=\"74.6\" y2=\"101.6\"/>\n",
       "<line stroke=\"rgb(0,0,0)\" stroke-width=\"2.0\" x1=\"74.6\" x2=\"61.1\" y1=\"74.6\" y2=\"51.3\"/>\n",
       "<text fill=\"rgb(191,191,191)\" font-size=\"16\" stroke=\"rgb(191,191,191)\" stroke-width=\"1\" x=\"108.641016\" y=\"82.641016\">D</text>\n",
       "<text fill=\"rgb(30,239,30)\" font-size=\"16\" stroke=\"rgb(30,239,30)\" stroke-width=\"1\" x=\"22.000000\" y=\"102.641016\">Cl</text>\n",
       "<text fill=\"rgb(30,239,30)\" font-size=\"16\" stroke=\"rgb(30,239,30)\" stroke-width=\"1\" x=\"68.641016\" y=\"122.641016\">Cl</text>\n",
       "<text fill=\"rgb(30,239,30)\" font-size=\"16\" stroke=\"rgb(30,239,30)\" stroke-width=\"1\" x=\"36.641016\" y=\"48.000000\">Cl</text>\n",
       "</svg>\n",
       "</g>\n",
       "<text fill=\"black\" font-family=\"sans-serif\" font-size=\"18.000000\" x=\"10.000000\" y=\"20.000000\"/>\n",
       "</svg>"
      ],
      "text/plain": [
       "<IPython.core.display.SVG object>"
      ]
     },
     "execution_count": 45,
     "metadata": {},
     "output_type": "execute_result"
    }
   ],
   "source": [
    "smile('[2H]C(Cl)(Cl)Cl')"
   ]
  },
  {
   "cell_type": "markdown",
   "metadata": {},
   "source": [
    "## Examples"
   ]
  },
  {
   "cell_type": "markdown",
   "metadata": {},
   "source": [
    "Copper(II) sulfate: $Cu^{2+}SO_4^{2-}$"
   ]
  },
  {
   "cell_type": "code",
   "execution_count": 46,
   "metadata": {},
   "outputs": [
    {
     "data": {
      "image/svg+xml": [
       "<svg height=\"200px\" id=\"topsvg\" version=\"1.1\" viewBox=\"0 0 100 100\" width=\"200px\" x=\"0\" xmlns=\"http://www.w3.org/2000/svg\" xmlns:cml=\"http://www.xml-cml.org/schema\" xmlns:xlink=\"http://www.w3.org/1999/xlink\" y=\"0\">\n",
       "<title> - Open Babel Depiction</title>\n",
       "<rect fill=\"white\" height=\"100\" width=\"100\" x=\"0\" y=\"0\"/>\n",
       "<g transform=\"translate(0,0)\">\n",
       "<svg font-family=\"sans-serif\" height=\"100\" stroke=\"rgb(0,0,0)\" stroke-linecap=\"round\" stroke-width=\"2\" viewBox=\"0 0 201.703 160\" width=\"100\" x=\"0\" y=\"0\">\n",
       "<line stroke=\"rgb(0,0,0)\" stroke-width=\"2.0\" x1=\"121.7\" x2=\"121.7\" y1=\"107.0\" y2=\"93.0\"/>\n",
       "<line stroke=\"rgb(0,0,0)\" stroke-width=\"2.0\" x1=\"134.7\" x2=\"148.7\" y1=\"77.0\" y2=\"77.0\"/>\n",
       "<line stroke=\"rgb(0,0,0)\" stroke-width=\"2.0\" x1=\"134.7\" x2=\"148.7\" y1=\"83.0\" y2=\"83.0\"/>\n",
       "<line stroke=\"rgb(0,0,0)\" stroke-width=\"2.0\" x1=\"118.7\" x2=\"118.7\" y1=\"67.0\" y2=\"53.0\"/>\n",
       "<line stroke=\"rgb(0,0,0)\" stroke-width=\"2.0\" x1=\"124.7\" x2=\"124.7\" y1=\"67.0\" y2=\"53.0\"/>\n",
       "<line stroke=\"rgb(0,0,0)\" stroke-width=\"2.0\" x1=\"108.7\" x2=\"94.7\" y1=\"80.0\" y2=\"80.0\"/>\n",
       "<text fill=\"rgb(198,127,51)\" font-size=\"16\" stroke=\"rgb(198,127,51)\" stroke-width=\"1\" x=\"44.800000\" y=\"36.112632\">2+</text>\n",
       "<text fill=\"rgb(198,127,51)\" font-size=\"16\" stroke=\"rgb(198,127,51)\" stroke-width=\"1\" x=\"34.000000\" y=\"48.144632\">Cu</text>\n",
       "<text fill=\"rgb(255,12,12)\" font-size=\"16\" stroke=\"rgb(255,12,12)\" stroke-width=\"1\" x=\"126.502825\" y=\"105.888000\">_</text>\n",
       "<text fill=\"rgb(255,12,12)\" font-size=\"16\" stroke=\"rgb(255,12,12)\" stroke-width=\"1\" x=\"115.702825\" y=\"128.000000\">O</text>\n",
       "<text fill=\"rgb(178,178,0)\" font-size=\"16\" stroke=\"rgb(178,178,0)\" stroke-width=\"1\" x=\"115.702825\" y=\"88.000000\">S</text>\n",
       "<text fill=\"rgb(255,12,12)\" font-size=\"16\" stroke=\"rgb(255,12,12)\" stroke-width=\"1\" x=\"155.702825\" y=\"88.000000\">O</text>\n",
       "<text fill=\"rgb(255,12,12)\" font-size=\"16\" stroke=\"rgb(255,12,12)\" stroke-width=\"1\" x=\"115.702825\" y=\"48.000000\">O</text>\n",
       "<text fill=\"rgb(255,12,12)\" font-size=\"16\" stroke=\"rgb(255,12,12)\" stroke-width=\"1\" x=\"86.502825\" y=\"65.888000\">_</text>\n",
       "<text fill=\"rgb(255,12,12)\" font-size=\"16\" stroke=\"rgb(255,12,12)\" stroke-width=\"1\" x=\"75.702825\" y=\"88.000000\">O</text>\n",
       "</svg>\n",
       "</g>\n",
       "<text fill=\"black\" font-family=\"sans-serif\" font-size=\"18.000000\" x=\"10.000000\" y=\"20.000000\"/>\n",
       "</svg>"
      ],
      "text/plain": [
       "<IPython.core.display.SVG object>"
      ]
     },
     "execution_count": 46,
     "metadata": {},
     "output_type": "execute_result"
    }
   ],
   "source": [
    "smile('[Cu+2].[O-]S(=O)(=O)[O-]')"
   ]
  },
  {
   "cell_type": "markdown",
   "metadata": {},
   "source": [
    "Vanillin: ![Vanillin](https://upload.wikimedia.org/wikipedia/commons/thumb/2/29/Vanillin.svg/105px-Vanillin.svg.png) "
   ]
  },
  {
   "cell_type": "code",
   "execution_count": 47,
   "metadata": {},
   "outputs": [
    {
     "data": {
      "image/svg+xml": [
       "<svg height=\"200px\" id=\"topsvg\" version=\"1.1\" viewBox=\"0 0 100 100\" width=\"200px\" x=\"0\" xmlns=\"http://www.w3.org/2000/svg\" xmlns:cml=\"http://www.xml-cml.org/schema\" xmlns:xlink=\"http://www.w3.org/1999/xlink\" y=\"0\">\n",
       "<title> - Open Babel Depiction</title>\n",
       "<rect fill=\"white\" height=\"100\" width=\"100\" x=\"0\" y=\"0\"/>\n",
       "<g transform=\"translate(0,0)\">\n",
       "<svg font-family=\"sans-serif\" height=\"100\" stroke=\"rgb(0,0,0)\" stroke-linecap=\"round\" stroke-width=\"2\" viewBox=\"0 0 183.923 260\" width=\"100\" x=\"0\" y=\"0\">\n",
       "<line stroke=\"rgb(0,0,0)\" stroke-width=\"2.0\" x1=\"49.8\" x2=\"73.1\" y1=\"210.9\" y2=\"197.4\"/>\n",
       "<line stroke=\"rgb(0,0,0)\" stroke-width=\"2.0\" x1=\"52.8\" x2=\"76.1\" y1=\"216.1\" y2=\"202.6\"/>\n",
       "<line stroke=\"rgb(0,0,0)\" stroke-width=\"2.0\" x1=\"74.6\" x2=\"74.6\" y1=\"200.0\" y2=\"160.0\"/>\n",
       "<line stroke=\"rgb(0,0,0)\" stroke-width=\"2.0\" x1=\"74.6\" x2=\"74.6\" y1=\"80.0\" y2=\"53.0\"/>\n",
       "<line stroke=\"rgb(0,0,0)\" stroke-width=\"2.0\" x1=\"109.3\" x2=\"132.7\" y1=\"100.0\" y2=\"86.5\"/>\n",
       "<line stroke=\"rgb(0,0,0)\" stroke-width=\"2.0\" x1=\"143.9\" x2=\"143.9\" y1=\"67.0\" y2=\"53.0\"/>\n",
       "<line stroke=\"rgb(0,0,0)\" stroke-width=\"2.0\" x1=\"40.0\" x2=\"74.6\" y1=\"100.0\" y2=\"80.0\"/>\n",
       "<line stroke=\"rgb(0,0,0)\" stroke-width=\"2.0\" x1=\"48.8\" x2=\"73.0\" y1=\"103.2\" y2=\"89.2\"/>\n",
       "<line stroke=\"rgb(0,0,0)\" stroke-width=\"2.0\" x1=\"74.6\" x2=\"109.3\" y1=\"80.0\" y2=\"100.0\"/>\n",
       "<line stroke=\"rgb(0,0,0)\" stroke-width=\"2.0\" x1=\"109.3\" x2=\"109.3\" y1=\"100.0\" y2=\"140.0\"/>\n",
       "<line stroke=\"rgb(0,0,0)\" stroke-width=\"2.0\" x1=\"102.1\" x2=\"102.1\" y1=\"106.0\" y2=\"134.0\"/>\n",
       "<line stroke=\"rgb(0,0,0)\" stroke-width=\"2.0\" x1=\"109.3\" x2=\"74.6\" y1=\"140.0\" y2=\"160.0\"/>\n",
       "<line stroke=\"rgb(0,0,0)\" stroke-width=\"2.0\" x1=\"74.6\" x2=\"40.0\" y1=\"160.0\" y2=\"140.0\"/>\n",
       "<line stroke=\"rgb(0,0,0)\" stroke-width=\"2.0\" x1=\"73.0\" x2=\"48.8\" y1=\"150.8\" y2=\"136.8\"/>\n",
       "<line stroke=\"rgb(0,0,0)\" stroke-width=\"2.0\" x1=\"40.0\" x2=\"40.0\" y1=\"140.0\" y2=\"100.0\"/>\n",
       "<text fill=\"rgb(255,12,12)\" font-size=\"16\" stroke=\"rgb(255,12,12)\" stroke-width=\"1\" x=\"34.000000\" y=\"228.000000\">O</text>\n",
       "<text fill=\"rgb(255,12,12)\" font-size=\"16\" stroke=\"rgb(255,12,12)\" stroke-width=\"1\" x=\"68.641016\" y=\"48.000000\">OH</text>\n",
       "<text fill=\"rgb(255,12,12)\" font-size=\"16\" stroke=\"rgb(255,12,12)\" stroke-width=\"1\" x=\"137.923048\" y=\"88.000000\">O</text>\n",
       "<text fill=\"rgb(102,102,102)\" font-size=\"16\" stroke=\"rgb(102,102,102)\" stroke-width=\"1\" x=\"139.923048\" y=\"48.000000\">CH</text>\n",
       "<text fill=\"rgb(102,102,102)\" font-size=\"13\" stroke=\"rgb(102,102,102)\" stroke-width=\"1\" x=\"163.923048\" y=\"51.680000\">3</text>\n",
       "</svg>\n",
       "</g>\n",
       "<text fill=\"black\" font-family=\"sans-serif\" font-size=\"18.000000\" x=\"10.000000\" y=\"20.000000\"/>\n",
       "</svg>"
      ],
      "text/plain": [
       "<IPython.core.display.SVG object>"
      ]
     },
     "execution_count": 47,
     "metadata": {},
     "output_type": "execute_result"
    }
   ],
   "source": [
    "smile('O=Cc1ccc(O)c(OC)c1')\n",
    "     # OCc1cc(C=O)ccc1O"
   ]
  },
  {
   "cell_type": "markdown",
   "metadata": {},
   "source": [
    "Melatonin: ![Melatonin](https://upload.wikimedia.org/wikipedia/commons/thumb/1/14/Melatonin2.svg/240px-Melatonin2.svg.png) "
   ]
  },
  {
   "cell_type": "code",
   "execution_count": 48,
   "metadata": {},
   "outputs": [
    {
     "data": {
      "image/svg+xml": [
       "<svg height=\"200px\" id=\"topsvg\" version=\"1.1\" viewBox=\"0 0 100 100\" width=\"200px\" x=\"0\" xmlns=\"http://www.w3.org/2000/svg\" xmlns:cml=\"http://www.xml-cml.org/schema\" xmlns:xlink=\"http://www.w3.org/1999/xlink\" y=\"0\">\n",
       "<title> - Open Babel Depiction</title>\n",
       "<rect fill=\"white\" height=\"100\" width=\"100\" x=\"0\" y=\"0\"/>\n",
       "<g transform=\"translate(0,0)\">\n",
       "<svg font-family=\"sans-serif\" height=\"100\" stroke=\"rgb(0,0,0)\" stroke-linecap=\"round\" stroke-width=\"2\" viewBox=\"0 0 386.345 283.12\" width=\"100\" x=\"0\" y=\"0\">\n",
       "<line stroke=\"rgb(0,0,0)\" stroke-width=\"2.0\" x1=\"337.6\" x2=\"319.6\" y1=\"98.1\" y2=\"78.0\"/>\n",
       "<line stroke=\"rgb(0,0,0)\" stroke-width=\"2.0\" x1=\"316.7\" x2=\"325.1\" y1=\"77.1\" y2=\"51.4\"/>\n",
       "<line stroke=\"rgb(0,0,0)\" stroke-width=\"2.0\" x1=\"322.4\" x2=\"330.8\" y1=\"79.0\" y2=\"53.3\"/>\n",
       "<line stroke=\"rgb(0,0,0)\" stroke-width=\"2.0\" x1=\"319.6\" x2=\"293.2\" y1=\"78.0\" y2=\"83.7\"/>\n",
       "<line stroke=\"rgb(0,0,0)\" stroke-width=\"2.0\" x1=\"276.4\" x2=\"268.1\" y1=\"98.7\" y2=\"124.4\"/>\n",
       "<line stroke=\"rgb(0,0,0)\" stroke-width=\"2.0\" x1=\"268.1\" x2=\"229.0\" y1=\"124.4\" y2=\"132.7\"/>\n",
       "<line stroke=\"rgb(0,0,0)\" stroke-width=\"2.0\" x1=\"229.0\" x2=\"216.6\" y1=\"132.7\" y2=\"170.8\"/>\n",
       "<line stroke=\"rgb(0,0,0)\" stroke-width=\"2.0\" x1=\"109.3\" x2=\"85.9\" y1=\"183.1\" y2=\"169.6\"/>\n",
       "<line stroke=\"rgb(0,0,0)\" stroke-width=\"2.0\" x1=\"63.4\" x2=\"51.3\" y1=\"169.6\" y2=\"176.6\"/>\n",
       "<line stroke=\"rgb(0,0,0)\" stroke-width=\"2.0\" x1=\"204.2\" x2=\"178.6\" y1=\"231.5\" y2=\"223.1\"/>\n",
       "<line stroke=\"rgb(0,0,0)\" stroke-width=\"2.0\" x1=\"178.6\" x2=\"178.6\" y1=\"223.1\" y2=\"183.1\"/>\n",
       "<line stroke=\"rgb(0,0,0)\" stroke-width=\"2.0\" x1=\"185.8\" x2=\"185.8\" y1=\"217.1\" y2=\"189.1\"/>\n",
       "<line stroke=\"rgb(0,0,0)\" stroke-width=\"2.0\" x1=\"178.6\" x2=\"216.6\" y1=\"183.1\" y2=\"170.8\"/>\n",
       "<line stroke=\"rgb(0,0,0)\" stroke-width=\"2.0\" x1=\"216.6\" x2=\"240.1\" y1=\"170.8\" y2=\"203.1\"/>\n",
       "<line stroke=\"rgb(0,0,0)\" stroke-width=\"2.0\" x1=\"214.3\" x2=\"230.8\" y1=\"179.8\" y2=\"202.5\"/>\n",
       "<line stroke=\"rgb(0,0,0)\" stroke-width=\"2.0\" x1=\"240.1\" x2=\"224.2\" y1=\"203.1\" y2=\"225.0\"/>\n",
       "<line stroke=\"rgb(0,0,0)\" stroke-width=\"2.0\" x1=\"109.3\" x2=\"109.3\" y1=\"223.1\" y2=\"183.1\"/>\n",
       "<line stroke=\"rgb(0,0,0)\" stroke-width=\"2.0\" x1=\"109.3\" x2=\"143.9\" y1=\"183.1\" y2=\"163.1\"/>\n",
       "<line stroke=\"rgb(0,0,0)\" stroke-width=\"2.0\" x1=\"118.1\" x2=\"142.3\" y1=\"186.4\" y2=\"172.4\"/>\n",
       "<line stroke=\"rgb(0,0,0)\" stroke-width=\"2.0\" x1=\"143.9\" x2=\"178.6\" y1=\"163.1\" y2=\"183.1\"/>\n",
       "<line stroke=\"rgb(0,0,0)\" stroke-width=\"2.0\" x1=\"178.6\" x2=\"143.9\" y1=\"223.1\" y2=\"243.1\"/>\n",
       "<line stroke=\"rgb(0,0,0)\" stroke-width=\"2.0\" x1=\"143.9\" x2=\"109.3\" y1=\"243.1\" y2=\"223.1\"/>\n",
       "<line stroke=\"rgb(0,0,0)\" stroke-width=\"2.0\" x1=\"142.3\" x2=\"118.1\" y1=\"233.9\" y2=\"219.9\"/>\n",
       "<text fill=\"rgb(102,102,102)\" font-size=\"16\" stroke=\"rgb(102,102,102)\" stroke-width=\"1\" x=\"342.344717\" y=\"115.768054\">CH</text>\n",
       "<text fill=\"rgb(102,102,102)\" font-size=\"13\" stroke=\"rgb(102,102,102)\" stroke-width=\"1\" x=\"366.344717\" y=\"119.448054\">3</text>\n",
       "<text fill=\"rgb(255,12,12)\" font-size=\"16\" stroke=\"rgb(255,12,12)\" stroke-width=\"1\" x=\"325.940173\" y=\"48.000000\">O</text>\n",
       "<text fill=\"rgb(12,12,255)\" font-size=\"16\" stroke=\"rgb(12,12,255)\" stroke-width=\"1\" x=\"274.453589\" y=\"94.358728\">N</text>\n",
       "<text fill=\"rgb(12,12,255)\" font-size=\"16\" stroke=\"rgb(12,12,255)\" stroke-width=\"1\" x=\"274.453589\" y=\"78.358728\">H</text>\n",
       "<text fill=\"rgb(12,12,255)\" font-size=\"16\" stroke=\"rgb(12,12,255)\" stroke-width=\"1\" x=\"210.606325\" y=\"243.481077\">N</text>\n",
       "<text fill=\"rgb(12,12,255)\" font-size=\"16\" stroke=\"rgb(12,12,255)\" stroke-width=\"1\" x=\"210.606325\" y=\"259.481077\">H</text>\n",
       "<text fill=\"rgb(255,12,12)\" font-size=\"16\" stroke=\"rgb(255,12,12)\" stroke-width=\"1\" x=\"68.641016\" y=\"171.120397\">O</text>\n",
       "<text fill=\"rgb(102,102,102)\" font-size=\"16\" stroke=\"rgb(102,102,102)\" stroke-width=\"1\" x=\"14.000000\" y=\"191.120397\">H</text>\n",
       "<text fill=\"rgb(102,102,102)\" font-size=\"13\" stroke=\"rgb(102,102,102)\" stroke-width=\"1\" x=\"26.000000\" y=\"194.800397\">3</text>\n",
       "<text fill=\"rgb(102,102,102)\" font-size=\"16\" stroke=\"rgb(102,102,102)\" stroke-width=\"1\" x=\"32.500000\" y=\"191.120397\">C</text>\n",
       "</svg>\n",
       "</g>\n",
       "<text fill=\"black\" font-family=\"sans-serif\" font-size=\"18.000000\" x=\"10.000000\" y=\"20.000000\"/>\n",
       "</svg>"
      ],
      "text/plain": [
       "<IPython.core.display.SVG object>"
      ]
     },
     "execution_count": 48,
     "metadata": {},
     "output_type": "execute_result"
    }
   ],
   "source": [
    "smile('CC(=O)NCCC1=CNc2c1cc(OC)cc2')\n",
    "     # CC(=O)NCCc1c[nH]c2ccc(OC)cc12"
   ]
  },
  {
   "cell_type": "markdown",
   "metadata": {},
   "source": [
    "Flavopereirin: ![Flavopereirin](https://upload.wikimedia.org/wikipedia/commons/thumb/8/8d/Flavopereirine.svg/240px-Flavopereirine.svg.png)"
   ]
  },
  {
   "cell_type": "code",
   "execution_count": 49,
   "metadata": {},
   "outputs": [
    {
     "data": {
      "image/svg+xml": [
       "<svg height=\"200px\" id=\"topsvg\" version=\"1.1\" viewBox=\"0 0 100 100\" width=\"200px\" x=\"0\" xmlns=\"http://www.w3.org/2000/svg\" xmlns:cml=\"http://www.xml-cml.org/schema\" xmlns:xlink=\"http://www.w3.org/1999/xlink\" y=\"0\">\n",
       "<title> - Open Babel Depiction</title>\n",
       "<rect fill=\"white\" height=\"100\" width=\"100\" x=\"0\" y=\"0\"/>\n",
       "<g transform=\"translate(0,0)\">\n",
       "<svg font-family=\"sans-serif\" height=\"100\" stroke=\"rgb(0,0,0)\" stroke-linecap=\"round\" stroke-width=\"2\" viewBox=\"0 0 348.698 256.271\" width=\"100\" x=\"0\" y=\"0\">\n",
       "<line stroke=\"rgb(0,0,0)\" stroke-width=\"2.0\" x1=\"308.7\" x2=\"308.7\" y1=\"203.3\" y2=\"175.8\"/>\n",
       "<line stroke=\"rgb(0,0,0)\" stroke-width=\"2.0\" x1=\"308.7\" x2=\"273.7\" y1=\"175.8\" y2=\"155.6\"/>\n",
       "<line stroke=\"rgb(0,0,0)\" stroke-width=\"2.0\" x1=\"140.2\" x2=\"140.2\" y1=\"130.1\" y2=\"144.1\"/>\n",
       "<line stroke=\"rgb(0,0,0)\" stroke-width=\"2.0\" x1=\"106.8\" x2=\"128.9\" y1=\"97.8\" y2=\"110.6\"/>\n",
       "<line stroke=\"rgb(0,0,0)\" stroke-width=\"2.0\" x1=\"151.4\" x2=\"173.5\" y1=\"110.6\" y2=\"97.8\"/>\n",
       "<line stroke=\"rgb(0,0,0)\" stroke-width=\"2.0\" x1=\"173.5\" x2=\"173.5\" y1=\"97.8\" y2=\"59.3\"/>\n",
       "<line stroke=\"rgb(0,0,0)\" stroke-width=\"2.0\" x1=\"166.3\" x2=\"166.3\" y1=\"91.8\" y2=\"65.3\"/>\n",
       "<line stroke=\"rgb(0,0,0)\" stroke-width=\"2.0\" x1=\"173.5\" x2=\"106.8\" y1=\"59.3\" y2=\"59.3\"/>\n",
       "<line stroke=\"rgb(0,0,0)\" stroke-width=\"2.0\" x1=\"106.8\" x2=\"106.8\" y1=\"59.3\" y2=\"97.8\"/>\n",
       "<line stroke=\"rgb(0,0,0)\" stroke-width=\"2.0\" x1=\"114.0\" x2=\"114.0\" y1=\"65.3\" y2=\"91.8\"/>\n",
       "<line stroke=\"rgb(0,0,0)\" stroke-width=\"2.0\" x1=\"273.7\" x2=\"273.7\" y1=\"117.1\" y2=\"155.6\"/>\n",
       "<line stroke=\"rgb(0,0,0)\" stroke-width=\"2.0\" x1=\"266.5\" x2=\"266.5\" y1=\"123.1\" y2=\"149.6\"/>\n",
       "<line stroke=\"rgb(0,0,0)\" stroke-width=\"2.0\" x1=\"273.7\" x2=\"240.3\" y1=\"155.6\" y2=\"174.9\"/>\n",
       "<line stroke=\"rgb(0,0,0)\" stroke-width=\"2.0\" x1=\"240.3\" x2=\"206.9\" y1=\"174.9\" y2=\"155.6\"/>\n",
       "<line stroke=\"rgb(0,0,0)\" stroke-width=\"2.0\" x1=\"238.7\" x2=\"215.7\" y1=\"165.7\" y2=\"152.4\"/>\n",
       "<line stroke=\"rgb(0,0,0)\" stroke-width=\"2.0\" x1=\"206.9\" x2=\"206.9\" y1=\"155.6\" y2=\"117.1\"/>\n",
       "<line stroke=\"rgb(0,0,0)\" stroke-width=\"2.0\" x1=\"206.9\" x2=\"229.3\" y1=\"117.1\" y2=\"104.2\"/>\n",
       "<line stroke=\"rgb(0,0,0)\" stroke-width=\"2.0\" x1=\"215.7\" x2=\"231.0\" y1=\"120.3\" y2=\"111.5\"/>\n",
       "<line stroke=\"rgb(0,0,0)\" stroke-width=\"2.0\" x1=\"251.6\" x2=\"273.7\" y1=\"104.3\" y2=\"117.1\"/>\n",
       "<line stroke=\"rgb(0,0,0)\" stroke-width=\"2.0\" x1=\"173.5\" x2=\"206.9\" y1=\"59.3\" y2=\"40.0\"/>\n",
       "<line stroke=\"rgb(0,0,0)\" stroke-width=\"2.0\" x1=\"206.9\" x2=\"240.3\" y1=\"40.0\" y2=\"59.3\"/>\n",
       "<line stroke=\"rgb(0,0,0)\" stroke-width=\"2.0\" x1=\"208.5\" x2=\"231.5\" y1=\"49.2\" y2=\"62.5\"/>\n",
       "<line stroke=\"rgb(0,0,0)\" stroke-width=\"2.0\" x1=\"240.3\" x2=\"240.3\" y1=\"59.3\" y2=\"84.8\"/>\n",
       "<line stroke=\"rgb(0,0,0)\" stroke-width=\"2.0\" x1=\"206.9\" x2=\"173.5\" y1=\"117.1\" y2=\"97.8\"/>\n",
       "<line stroke=\"rgb(0,0,0)\" stroke-width=\"2.0\" x1=\"40.0\" x2=\"73.4\" y1=\"97.8\" y2=\"117.1\"/>\n",
       "<line stroke=\"rgb(0,0,0)\" stroke-width=\"2.0\" x1=\"48.8\" x2=\"71.8\" y1=\"94.6\" y2=\"107.9\"/>\n",
       "<line stroke=\"rgb(0,0,0)\" stroke-width=\"2.0\" x1=\"73.4\" x2=\"106.8\" y1=\"117.1\" y2=\"97.8\"/>\n",
       "<line stroke=\"rgb(0,0,0)\" stroke-width=\"2.0\" x1=\"106.8\" x2=\"73.4\" y1=\"59.3\" y2=\"40.0\"/>\n",
       "<line stroke=\"rgb(0,0,0)\" stroke-width=\"2.0\" x1=\"73.4\" x2=\"40.0\" y1=\"40.0\" y2=\"59.3\"/>\n",
       "<line stroke=\"rgb(0,0,0)\" stroke-width=\"2.0\" x1=\"71.8\" x2=\"48.8\" y1=\"49.2\" y2=\"62.5\"/>\n",
       "<line stroke=\"rgb(0,0,0)\" stroke-width=\"2.0\" x1=\"40.0\" x2=\"40.0\" y1=\"59.3\" y2=\"97.8\"/>\n",
       "<text fill=\"rgb(102,102,102)\" font-size=\"16\" stroke=\"rgb(102,102,102)\" stroke-width=\"1\" x=\"304.698015\" y=\"224.270664\">CH</text>\n",
       "<text fill=\"rgb(102,102,102)\" font-size=\"13\" stroke=\"rgb(102,102,102)\" stroke-width=\"1\" x=\"328.698015\" y=\"227.950664\">3</text>\n",
       "<text fill=\"rgb(12,12,255)\" font-size=\"13\" stroke=\"rgb(12,12,255)\" stroke-width=\"1\" x=\"244.196369\" y=\"94.552651\">+</text>\n",
       "<text fill=\"rgb(12,12,255)\" font-size=\"16\" stroke=\"rgb(12,12,255)\" stroke-width=\"1\" x=\"234.296369\" y=\"105.828651\">N</text>\n",
       "<text fill=\"rgb(12,12,255)\" font-size=\"16\" stroke=\"rgb(12,12,255)\" stroke-width=\"1\" x=\"134.160533\" y=\"125.104925\">N</text>\n",
       "<text fill=\"rgb(191,191,191)\" font-size=\"16\" stroke=\"rgb(191,191,191)\" stroke-width=\"1\" x=\"134.162954\" y=\"165.104925\">H</text>\n",
       "</svg>\n",
       "</g>\n",
       "<text fill=\"black\" font-family=\"sans-serif\" font-size=\"18.000000\" x=\"10.000000\" y=\"20.000000\"/>\n",
       "</svg>"
      ],
      "text/plain": [
       "<IPython.core.display.SVG object>"
      ]
     },
     "execution_count": 49,
     "metadata": {},
     "output_type": "execute_result"
    }
   ],
   "source": [
    "smile('CCc(c1)ccc2[n+]1ccc3c2[nH]c4c3cccc4') \n",
    "      #CCc1c[n+]2ccc3c4ccccc4[nH]c3c2cc1"
   ]
  },
  {
   "cell_type": "markdown",
   "metadata": {},
   "source": [
    "Nicotine: ![Nicotine](https://upload.wikimedia.org/wikipedia/commons/thumb/7/70/Nicotine.svg/120px-Nicotine.svg.png)"
   ]
  },
  {
   "cell_type": "code",
   "execution_count": 50,
   "metadata": {},
   "outputs": [
    {
     "data": {
      "image/svg+xml": [
       "<svg height=\"200px\" id=\"topsvg\" version=\"1.1\" viewBox=\"0 0 100 100\" width=\"200px\" x=\"0\" xmlns=\"http://www.w3.org/2000/svg\" xmlns:cml=\"http://www.xml-cml.org/schema\" xmlns:xlink=\"http://www.w3.org/1999/xlink\" y=\"0\">\n",
       "<title> - Open Babel Depiction</title>\n",
       "<rect fill=\"white\" height=\"100\" width=\"100\" x=\"0\" y=\"0\"/>\n",
       "<g transform=\"translate(0,0)\">\n",
       "<svg font-family=\"sans-serif\" height=\"100\" stroke=\"rgb(0,0,0)\" stroke-linecap=\"round\" stroke-width=\"2\" viewBox=\"0 0 245.477 230.403\" width=\"100\" x=\"0\" y=\"0\">\n",
       "<line stroke=\"rgb(0,0,0)\" stroke-width=\"2.0\" x1=\"159.1\" x2=\"163.4\" y1=\"52.4\" y2=\"65.7\"/>\n",
       "<line stroke=\"rgb(0,0,0)\" stroke-width=\"1.0\" x1=\"138.9\" x2=\"139.7\" y1=\"108.4\" y2=\"107.0\"/>\n",
       "<line stroke=\"rgb(0,0,0)\" stroke-width=\"1.0\" x1=\"134.8\" x2=\"136.3\" y1=\"106.8\" y2=\"104.3\"/>\n",
       "<line stroke=\"rgb(0,0,0)\" stroke-width=\"1.0\" x1=\"130.8\" x2=\"132.9\" y1=\"105.2\" y2=\"101.6\"/>\n",
       "<line stroke=\"rgb(0,0,0)\" stroke-width=\"1.0\" x1=\"126.8\" x2=\"129.5\" y1=\"103.6\" y2=\"98.9\"/>\n",
       "<line stroke=\"rgb(0,0,0)\" stroke-width=\"1.0\" x1=\"122.7\" x2=\"126.1\" y1=\"102.1\" y2=\"96.2\"/>\n",
       "<line stroke=\"rgb(0,0,0)\" stroke-width=\"1.0\" x1=\"118.7\" x2=\"122.7\" y1=\"100.5\" y2=\"93.5\"/>\n",
       "<line stroke=\"rgb(0,0,0)\" stroke-width=\"2.0\" x1=\"143.9\" x2=\"109.3\" y1=\"110.4\" y2=\"130.4\"/>\n",
       "<line stroke=\"rgb(0,0,0)\" stroke-width=\"2.0\" x1=\"74.6\" x2=\"40.0\" y1=\"190.4\" y2=\"170.4\"/>\n",
       "<line stroke=\"rgb(0,0,0)\" stroke-width=\"2.0\" x1=\"73.0\" x2=\"48.8\" y1=\"181.2\" y2=\"167.2\"/>\n",
       "<line stroke=\"rgb(0,0,0)\" stroke-width=\"2.0\" x1=\"40.0\" x2=\"40.0\" y1=\"170.4\" y2=\"143.4\"/>\n",
       "<line stroke=\"rgb(0,0,0)\" stroke-width=\"2.0\" x1=\"51.4\" x2=\"74.6\" y1=\"123.8\" y2=\"110.4\"/>\n",
       "<line stroke=\"rgb(0,0,0)\" stroke-width=\"2.0\" x1=\"56.8\" x2=\"73.0\" y1=\"129.0\" y2=\"119.6\"/>\n",
       "<line stroke=\"rgb(0,0,0)\" stroke-width=\"2.0\" x1=\"74.6\" x2=\"109.3\" y1=\"110.4\" y2=\"130.4\"/>\n",
       "<line stroke=\"rgb(0,0,0)\" stroke-width=\"2.0\" x1=\"109.3\" x2=\"109.3\" y1=\"130.4\" y2=\"170.4\"/>\n",
       "<line stroke=\"rgb(0,0,0)\" stroke-width=\"2.0\" x1=\"102.1\" x2=\"102.1\" y1=\"136.4\" y2=\"164.4\"/>\n",
       "<line stroke=\"rgb(0,0,0)\" stroke-width=\"2.0\" x1=\"109.3\" x2=\"74.6\" y1=\"170.4\" y2=\"190.4\"/>\n",
       "<line stroke=\"rgb(0,0,0)\" stroke-width=\"2.0\" x1=\"205.5\" x2=\"167.4\" y1=\"130.4\" y2=\"142.8\"/>\n",
       "<line stroke=\"rgb(0,0,0)\" stroke-width=\"2.0\" x1=\"167.4\" x2=\"143.9\" y1=\"142.8\" y2=\"110.4\"/>\n",
       "<line stroke=\"rgb(0,0,0)\" stroke-width=\"2.0\" x1=\"143.9\" x2=\"159.8\" y1=\"110.4\" y2=\"88.6\"/>\n",
       "<line stroke=\"rgb(0,0,0)\" stroke-width=\"2.0\" x1=\"179.8\" x2=\"205.5\" y1=\"82.1\" y2=\"90.4\"/>\n",
       "<line stroke=\"rgb(0,0,0)\" stroke-width=\"2.0\" x1=\"205.5\" x2=\"205.5\" y1=\"90.4\" y2=\"130.4\"/>\n",
       "<text fill=\"rgb(102,102,102)\" font-size=\"16\" stroke=\"rgb(102,102,102)\" stroke-width=\"1\" x=\"129.073779\" y=\"48.000000\">H</text>\n",
       "<text fill=\"rgb(102,102,102)\" font-size=\"13\" stroke=\"rgb(102,102,102)\" stroke-width=\"1\" x=\"141.073779\" y=\"51.680000\">3</text>\n",
       "<text fill=\"rgb(102,102,102)\" font-size=\"16\" stroke=\"rgb(102,102,102)\" stroke-width=\"1\" x=\"147.573779\" y=\"48.000000\">C</text>\n",
       "<text fill=\"rgb(12,12,255)\" font-size=\"16\" stroke=\"rgb(12,12,255)\" stroke-width=\"1\" x=\"161.434459\" y=\"86.042261\">N</text>\n",
       "<text fill=\"rgb(191,191,191)\" font-size=\"16\" stroke=\"rgb(191,191,191)\" stroke-width=\"1\" x=\"103.282032\" y=\"98.402940\">H</text>\n",
       "<text fill=\"rgb(12,12,255)\" font-size=\"16\" stroke=\"rgb(12,12,255)\" stroke-width=\"1\" x=\"34.000000\" y=\"138.402940\">N</text>\n",
       "</svg>\n",
       "</g>\n",
       "<text fill=\"black\" font-family=\"sans-serif\" font-size=\"18.000000\" x=\"10.000000\" y=\"20.000000\"/>\n",
       "</svg>"
      ],
      "text/plain": [
       "<IPython.core.display.SVG object>"
      ]
     },
     "execution_count": 50,
     "metadata": {},
     "output_type": "execute_result"
    }
   ],
   "source": [
    "smile('CN1CCC[C@H]1c2cccnc2')  "
   ]
  },
  {
   "cell_type": "markdown",
   "metadata": {},
   "source": [
    "Oenanthotoxin: ![Oenanthotoxin](https://upload.wikimedia.org/wikipedia/commons/thumb/0/09/Oenanthotoxin-structure.png/270px-Oenanthotoxin-structure.png)"
   ]
  },
  {
   "cell_type": "code",
   "execution_count": 51,
   "metadata": {},
   "outputs": [
    {
     "data": {
      "image/svg+xml": [
       "<svg height=\"200px\" id=\"topsvg\" version=\"1.1\" viewBox=\"0 0 100 100\" width=\"200px\" x=\"0\" xmlns=\"http://www.w3.org/2000/svg\" xmlns:cml=\"http://www.xml-cml.org/schema\" xmlns:xlink=\"http://www.w3.org/1999/xlink\" y=\"0\">\n",
       "<title> - Open Babel Depiction</title>\n",
       "<rect fill=\"white\" height=\"100\" width=\"100\" x=\"0\" y=\"0\"/>\n",
       "<g transform=\"translate(0,0)\">\n",
       "<svg font-family=\"sans-serif\" height=\"100\" stroke=\"rgb(0,0,0)\" stroke-linecap=\"round\" stroke-width=\"2\" viewBox=\"0 0 461.051 520\" width=\"100\" x=\"0\" y=\"0\">\n",
       "<line stroke=\"rgb(0,0,0)\" stroke-width=\"2.0\" x1=\"409.8\" x2=\"386.4\" y1=\"53.5\" y2=\"40.0\"/>\n",
       "<line stroke=\"rgb(0,0,0)\" stroke-width=\"2.0\" x1=\"386.4\" x2=\"351.8\" y1=\"40.0\" y2=\"60.0\"/>\n",
       "<line stroke=\"rgb(0,0,0)\" stroke-width=\"2.0\" x1=\"351.8\" x2=\"351.8\" y1=\"60.0\" y2=\"100.0\"/>\n",
       "<line stroke=\"rgb(0,0,0)\" stroke-width=\"1.0\" x1=\"355.1\" x2=\"353.8\" y1=\"104.2\" y2=\"105.0\"/>\n",
       "<line stroke=\"rgb(0,0,0)\" stroke-width=\"1.0\" x1=\"357.8\" x2=\"355.3\" y1=\"107.6\" y2=\"109.1\"/>\n",
       "<line stroke=\"rgb(0,0,0)\" stroke-width=\"1.0\" x1=\"360.5\" x2=\"356.9\" y1=\"111.0\" y2=\"113.1\"/>\n",
       "<line stroke=\"rgb(0,0,0)\" stroke-width=\"1.0\" x1=\"363.2\" x2=\"358.5\" y1=\"114.4\" y2=\"117.1\"/>\n",
       "<line stroke=\"rgb(0,0,0)\" stroke-width=\"1.0\" x1=\"365.9\" x2=\"360.1\" y1=\"117.8\" y2=\"121.2\"/>\n",
       "<line stroke=\"rgb(0,0,0)\" stroke-width=\"1.0\" x1=\"368.6\" x2=\"361.7\" y1=\"121.2\" y2=\"125.2\"/>\n",
       "<line stroke=\"rgb(0,0,0)\" stroke-width=\"2.0\" x1=\"351.8\" x2=\"378.8\" y1=\"100.0\" y2=\"100.0\"/>\n",
       "<line stroke=\"rgb(0,0,0)\" stroke-width=\"2.0\" x1=\"351.8\" x2=\"317.1\" y1=\"100.0\" y2=\"120.0\"/>\n",
       "<line stroke=\"rgb(0,0,0)\" stroke-width=\"2.0\" x1=\"317.1\" x2=\"317.1\" y1=\"120.0\" y2=\"160.0\"/>\n",
       "<line stroke=\"rgb(0,0,0)\" stroke-width=\"2.0\" x1=\"317.1\" x2=\"282.5\" y1=\"160.0\" y2=\"180.0\"/>\n",
       "<line stroke=\"rgb(0,0,0)\" stroke-width=\"2.0\" x1=\"285.5\" x2=\"285.5\" y1=\"180.0\" y2=\"220.0\"/>\n",
       "<line stroke=\"rgb(0,0,0)\" stroke-width=\"2.0\" x1=\"279.5\" x2=\"279.5\" y1=\"180.0\" y2=\"220.0\"/>\n",
       "<line stroke=\"rgb(0,0,0)\" stroke-width=\"2.0\" x1=\"282.5\" x2=\"247.8\" y1=\"220.0\" y2=\"240.0\"/>\n",
       "<line stroke=\"rgb(0,0,0)\" stroke-width=\"2.0\" x1=\"250.8\" x2=\"250.8\" y1=\"240.0\" y2=\"280.0\"/>\n",
       "<line stroke=\"rgb(0,0,0)\" stroke-width=\"2.0\" x1=\"244.8\" x2=\"244.8\" y1=\"240.0\" y2=\"280.0\"/>\n",
       "<line stroke=\"rgb(0,0,0)\" stroke-width=\"2.0\" x1=\"247.8\" x2=\"213.2\" y1=\"280.0\" y2=\"300.0\"/>\n",
       "<line stroke=\"rgb(0,0,0)\" stroke-width=\"2.0\" x1=\"213.2\" x2=\"178.6\" y1=\"300.0\" y2=\"320.0\"/>\n",
       "<line stroke=\"rgb(0,0,0)\" stroke-width=\"2.0\" x1=\"215.3\" x2=\"180.7\" y1=\"303.6\" y2=\"323.6\"/>\n",
       "<line stroke=\"rgb(0,0,0)\" stroke-width=\"2.0\" x1=\"211.1\" x2=\"176.5\" y1=\"296.4\" y2=\"316.4\"/>\n",
       "<line stroke=\"rgb(0,0,0)\" stroke-width=\"2.0\" x1=\"178.6\" x2=\"143.9\" y1=\"320.0\" y2=\"340.0\"/>\n",
       "<line stroke=\"rgb(0,0,0)\" stroke-width=\"2.0\" x1=\"143.9\" x2=\"109.3\" y1=\"340.0\" y2=\"360.0\"/>\n",
       "<line stroke=\"rgb(0,0,0)\" stroke-width=\"2.0\" x1=\"146.0\" x2=\"111.4\" y1=\"343.6\" y2=\"363.6\"/>\n",
       "<line stroke=\"rgb(0,0,0)\" stroke-width=\"2.0\" x1=\"141.8\" x2=\"107.2\" y1=\"336.4\" y2=\"356.4\"/>\n",
       "<line stroke=\"rgb(0,0,0)\" stroke-width=\"2.0\" x1=\"109.3\" x2=\"74.6\" y1=\"360.0\" y2=\"380.0\"/>\n",
       "<line stroke=\"rgb(0,0,0)\" stroke-width=\"2.0\" x1=\"77.6\" x2=\"77.6\" y1=\"380.0\" y2=\"420.0\"/>\n",
       "<line stroke=\"rgb(0,0,0)\" stroke-width=\"2.0\" x1=\"71.6\" x2=\"71.6\" y1=\"380.0\" y2=\"420.0\"/>\n",
       "<line stroke=\"rgb(0,0,0)\" stroke-width=\"2.0\" x1=\"74.6\" x2=\"40.0\" y1=\"420.0\" y2=\"440.0\"/>\n",
       "<line stroke=\"rgb(0,0,0)\" stroke-width=\"2.0\" x1=\"40.0\" x2=\"40.0\" y1=\"440.0\" y2=\"467.0\"/>\n",
       "<text fill=\"rgb(102,102,102)\" font-size=\"16\" stroke=\"rgb(102,102,102)\" stroke-width=\"1\" x=\"417.051178\" y=\"68.000000\">CH</text>\n",
       "<text fill=\"rgb(102,102,102)\" font-size=\"13\" stroke=\"rgb(102,102,102)\" stroke-width=\"1\" x=\"441.051178\" y=\"71.680000\">3</text>\n",
       "<text fill=\"rgb(191,191,191)\" font-size=\"16\" stroke=\"rgb(191,191,191)\" stroke-width=\"1\" x=\"365.769145\" y=\"142.641016\">H</text>\n",
       "<text fill=\"rgb(255,12,12)\" font-size=\"16\" stroke=\"rgb(255,12,12)\" stroke-width=\"1\" x=\"385.769145\" y=\"108.000000\">OH</text>\n",
       "<text fill=\"rgb(255,12,12)\" font-size=\"16\" stroke=\"rgb(255,12,12)\" stroke-width=\"1\" x=\"34.000000\" y=\"488.000000\">OH</text>\n",
       "</svg>\n",
       "</g>\n",
       "<text fill=\"black\" font-family=\"sans-serif\" font-size=\"18.000000\" x=\"10.000000\" y=\"20.000000\"/>\n",
       "</svg>"
      ],
      "text/plain": [
       "<IPython.core.display.SVG object>"
      ]
     },
     "execution_count": 51,
     "metadata": {},
     "output_type": "execute_result"
    }
   ],
   "source": [
    "smile('CCC[C@@H](O)CC\\C=C\\C=C\\C#CC#C\\C=C\\CO') \n",
    "      #CCC[C@@H](O)CC/C=C/C=C/C#CC#C/C=C/CO  "
   ]
  },
  {
   "cell_type": "markdown",
   "metadata": {},
   "source": [
    "Pyrethrin II: ![](https://upload.wikimedia.org/wikipedia/commons/thumb/e/eb/Pyrethrin-II-2D-skeletal.svg/270px-Pyrethrin-II-2D-skeletal.svg.png)"
   ]
  },
  {
   "cell_type": "code",
   "execution_count": 52,
   "metadata": {},
   "outputs": [
    {
     "data": {
      "image/svg+xml": [
       "<svg height=\"200px\" id=\"topsvg\" version=\"1.1\" viewBox=\"0 0 100 100\" width=\"200px\" x=\"0\" xmlns=\"http://www.w3.org/2000/svg\" xmlns:cml=\"http://www.xml-cml.org/schema\" xmlns:xlink=\"http://www.w3.org/1999/xlink\" y=\"0\">\n",
       "<title> - Open Babel Depiction</title>\n",
       "<rect fill=\"white\" height=\"100\" width=\"100\" x=\"0\" y=\"0\"/>\n",
       "<g transform=\"translate(0,0)\">\n",
       "<svg font-family=\"sans-serif\" height=\"100\" stroke=\"rgb(0,0,0)\" stroke-linecap=\"round\" stroke-width=\"2\" viewBox=\"0 0 501.852 280\" width=\"100\" x=\"0\" y=\"0\">\n",
       "<line stroke=\"rgb(0,0,0)\" stroke-width=\"2.0\" x1=\"277.5\" x2=\"278.9\" y1=\"107.9\" y2=\"134.8\"/>\n",
       "<line stroke=\"rgb(0,0,0)\" stroke-width=\"2.0\" x1=\"304.5\" x2=\"321.4\" y1=\"193.4\" y2=\"214.3\"/>\n",
       "<line stroke=\"rgb(0,0,0)\" stroke-width=\"2.0\" x1=\"299.8\" x2=\"316.8\" y1=\"197.1\" y2=\"218.1\"/>\n",
       "<polygon fill=\"rgb(0,0,0)\" points=\"247.846097 160.000000 235.538595 135.859466 243.124086 133.317747 \" stroke=\"rgb(0,0,0)\" stroke-width=\"2.000000\"/>\n",
       "<line stroke=\"rgb(0,0,0)\" stroke-width=\"2.0\" x1=\"247.8\" x2=\"224.5\" y1=\"160.0\" y2=\"173.5\"/>\n",
       "<line stroke=\"rgb(0,0,0)\" stroke-width=\"2.0\" x1=\"201.9\" x2=\"178.6\" y1=\"173.5\" y2=\"160.0\"/>\n",
       "<line stroke=\"rgb(0,0,0)\" stroke-width=\"2.0\" x1=\"175.6\" x2=\"175.6\" y1=\"160.0\" y2=\"133.0\"/>\n",
       "<line stroke=\"rgb(0,0,0)\" stroke-width=\"2.0\" x1=\"181.6\" x2=\"181.6\" y1=\"160.0\" y2=\"133.0\"/>\n",
       "<line stroke=\"rgb(0,0,0)\" stroke-width=\"2.0\" x1=\"178.6\" x2=\"143.9\" y1=\"160.0\" y2=\"180.0\"/>\n",
       "<line stroke=\"rgb(0,0,0)\" stroke-width=\"2.0\" x1=\"143.9\" x2=\"167.3\" y1=\"180.0\" y2=\"193.5\"/>\n",
       "<line stroke=\"rgb(0,0,0)\" stroke-width=\"1.0\" x1=\"136.6\" x2=\"137.4\" y1=\"176.7\" y2=\"175.3\"/>\n",
       "<line stroke=\"rgb(0,0,0)\" stroke-width=\"1.0\" x1=\"130.7\" x2=\"132.2\" y1=\"174.0\" y2=\"171.6\"/>\n",
       "<line stroke=\"rgb(0,0,0)\" stroke-width=\"1.0\" x1=\"124.9\" x2=\"126.9\" y1=\"171.4\" y2=\"167.8\"/>\n",
       "<line stroke=\"rgb(0,0,0)\" stroke-width=\"1.0\" x1=\"119.0\" x2=\"121.7\" y1=\"168.8\" y2=\"164.0\"/>\n",
       "<line stroke=\"rgb(0,0,0)\" stroke-width=\"1.0\" x1=\"113.1\" x2=\"116.5\" y1=\"166.1\" y2=\"160.3\"/>\n",
       "<line stroke=\"rgb(0,0,0)\" stroke-width=\"1.0\" x1=\"107.3\" x2=\"111.3\" y1=\"163.5\" y2=\"156.5\"/>\n",
       "<polygon fill=\"rgb(0,0,0)\" points=\"109.282032 160.000000 84.072551 150.064102 88.072551 143.135898 \" stroke=\"rgb(0,0,0)\" stroke-width=\"2.000000\"/>\n",
       "<line stroke=\"rgb(0,0,0)\" stroke-width=\"2.0\" x1=\"109.3\" x2=\"109.3\" y1=\"200.0\" y2=\"227.0\"/>\n",
       "<line stroke=\"rgb(0,0,0)\" stroke-width=\"2.0\" x1=\"109.3\" x2=\"85.9\" y1=\"200.0\" y2=\"213.5\"/>\n",
       "<line stroke=\"rgb(0,0,0)\" stroke-width=\"2.0\" x1=\"109.3\" x2=\"109.3\" y1=\"160.0\" y2=\"120.0\"/>\n",
       "<line stroke=\"rgb(0,0,0)\" stroke-width=\"2.0\" x1=\"107.8\" x2=\"73.1\" y1=\"122.6\" y2=\"102.6\"/>\n",
       "<line stroke=\"rgb(0,0,0)\" stroke-width=\"2.0\" x1=\"110.8\" x2=\"76.1\" y1=\"117.4\" y2=\"97.4\"/>\n",
       "<line stroke=\"rgb(0,0,0)\" stroke-width=\"2.0\" x1=\"74.6\" x2=\"51.3\" y1=\"100.0\" y2=\"113.5\"/>\n",
       "<line stroke=\"rgb(0,0,0)\" stroke-width=\"2.0\" x1=\"74.6\" x2=\"74.6\" y1=\"100.0\" y2=\"60.0\"/>\n",
       "<line stroke=\"rgb(0,0,0)\" stroke-width=\"2.0\" x1=\"73.1\" x2=\"49.8\" y1=\"62.6\" y2=\"49.1\"/>\n",
       "<line stroke=\"rgb(0,0,0)\" stroke-width=\"2.0\" x1=\"76.1\" x2=\"52.8\" y1=\"57.4\" y2=\"43.9\"/>\n",
       "<line stroke=\"rgb(0,0,0)\" stroke-width=\"2.0\" x1=\"74.6\" x2=\"98.0\" y1=\"60.0\" y2=\"46.5\"/>\n",
       "<line stroke=\"rgb(0,0,0)\" stroke-width=\"2.0\" x1=\"120.5\" x2=\"132.7\" y1=\"46.5\" y2=\"53.5\"/>\n",
       "<line stroke=\"rgb(0,0,0)\" stroke-width=\"2.0\" x1=\"312.5\" x2=\"349.8\" y1=\"156.6\" y2=\"142.3\"/>\n",
       "<line stroke=\"rgb(0,0,0)\" stroke-width=\"2.0\" x1=\"349.8\" x2=\"380.9\" y1=\"142.3\" y2=\"167.5\"/>\n",
       "<line stroke=\"rgb(0,0,0)\" stroke-width=\"2.0\" x1=\"379.8\" x2=\"417.2\" y1=\"164.7\" y2=\"150.3\"/>\n",
       "<line stroke=\"rgb(0,0,0)\" stroke-width=\"2.0\" x1=\"382.0\" x2=\"419.3\" y1=\"170.3\" y2=\"155.9\"/>\n",
       "<line stroke=\"rgb(0,0,0)\" stroke-width=\"2.0\" x1=\"418.3\" x2=\"424.5\" y1=\"153.1\" y2=\"113.6\"/>\n",
       "<line stroke=\"rgb(0,0,0)\" stroke-width=\"2.0\" x1=\"423.4\" x2=\"448.6\" y1=\"110.8\" y2=\"101.1\"/>\n",
       "<line stroke=\"rgb(0,0,0)\" stroke-width=\"2.0\" x1=\"425.6\" x2=\"450.8\" y1=\"116.4\" y2=\"106.7\"/>\n",
       "<line stroke=\"rgb(0,0,0)\" stroke-width=\"2.0\" x1=\"109.3\" x2=\"143.9\" y1=\"200.0\" y2=\"180.0\"/>\n",
       "<line stroke=\"rgb(0,0,0)\" stroke-width=\"2.0\" x1=\"143.9\" x2=\"109.3\" y1=\"180.0\" y2=\"160.0\"/>\n",
       "<line stroke=\"rgb(0,0,0)\" stroke-width=\"2.0\" x1=\"109.3\" x2=\"109.3\" y1=\"160.0\" y2=\"200.0\"/>\n",
       "<line stroke=\"rgb(0,0,0)\" stroke-width=\"2.0\" x1=\"302.1\" x2=\"262.2\" y1=\"195.2\" y2=\"197.3\"/>\n",
       "<line stroke=\"rgb(0,0,0)\" stroke-width=\"2.0\" x1=\"262.2\" x2=\"247.8\" y1=\"197.3\" y2=\"160.0\"/>\n",
       "<line stroke=\"rgb(0,0,0)\" stroke-width=\"2.0\" x1=\"247.8\" x2=\"278.9\" y1=\"160.0\" y2=\"134.8\"/>\n",
       "<line stroke=\"rgb(0,0,0)\" stroke-width=\"2.0\" x1=\"278.9\" x2=\"312.5\" y1=\"134.8\" y2=\"156.6\"/>\n",
       "<line stroke=\"rgb(0,0,0)\" stroke-width=\"2.0\" x1=\"280.0\" x2=\"303.5\" y1=\"144.1\" y2=\"159.4\"/>\n",
       "<line stroke=\"rgb(0,0,0)\" stroke-width=\"2.0\" x1=\"312.5\" x2=\"302.1\" y1=\"156.6\" y2=\"195.2\"/>\n",
       "<text fill=\"rgb(102,102,102)\" font-size=\"16\" stroke=\"rgb(102,102,102)\" stroke-width=\"1\" x=\"250.838497\" y=\"102.882003\">H</text>\n",
       "<text fill=\"rgb(102,102,102)\" font-size=\"13\" stroke=\"rgb(102,102,102)\" stroke-width=\"1\" x=\"262.838497\" y=\"106.562003\">3</text>\n",
       "<text fill=\"rgb(102,102,102)\" font-size=\"16\" stroke=\"rgb(102,102,102)\" stroke-width=\"1\" x=\"269.338497\" y=\"102.882003\">C</text>\n",
       "<text fill=\"rgb(255,12,12)\" font-size=\"16\" stroke=\"rgb(255,12,12)\" stroke-width=\"1\" x=\"321.298812\" y=\"234.335617\">O</text>\n",
       "<text fill=\"rgb(191,191,191)\" font-size=\"16\" stroke=\"rgb(191,191,191)\" stroke-width=\"1\" x=\"229.137505\" y=\"130.072547\">H</text>\n",
       "<text fill=\"rgb(255,12,12)\" font-size=\"16\" stroke=\"rgb(255,12,12)\" stroke-width=\"1\" x=\"207.205081\" y=\"188.000000\">O</text>\n",
       "<text fill=\"rgb(255,12,12)\" font-size=\"16\" stroke=\"rgb(255,12,12)\" stroke-width=\"1\" x=\"172.564065\" y=\"128.000000\">O</text>\n",
       "<text fill=\"rgb(191,191,191)\" font-size=\"16\" stroke=\"rgb(191,191,191)\" stroke-width=\"1\" x=\"172.564065\" y=\"208.000000\">H</text>\n",
       "<text fill=\"rgb(191,191,191)\" font-size=\"16\" stroke=\"rgb(191,191,191)\" stroke-width=\"1\" x=\"68.641016\" y=\"148.000000\">H</text>\n",
       "<text fill=\"rgb(102,102,102)\" font-size=\"16\" stroke=\"rgb(102,102,102)\" stroke-width=\"1\" x=\"105.282032\" y=\"248.000000\">CH</text>\n",
       "<text fill=\"rgb(102,102,102)\" font-size=\"13\" stroke=\"rgb(102,102,102)\" stroke-width=\"1\" x=\"129.282032\" y=\"251.680000\">3</text>\n",
       "<text fill=\"rgb(102,102,102)\" font-size=\"16\" stroke=\"rgb(102,102,102)\" stroke-width=\"1\" x=\"48.641016\" y=\"228.000000\">H</text>\n",
       "<text fill=\"rgb(102,102,102)\" font-size=\"13\" stroke=\"rgb(102,102,102)\" stroke-width=\"1\" x=\"60.641016\" y=\"231.680000\">3</text>\n",
       "<text fill=\"rgb(102,102,102)\" font-size=\"16\" stroke=\"rgb(102,102,102)\" stroke-width=\"1\" x=\"67.141016\" y=\"228.000000\">C</text>\n",
       "<text fill=\"rgb(102,102,102)\" font-size=\"16\" stroke=\"rgb(102,102,102)\" stroke-width=\"1\" x=\"14.000000\" y=\"128.000000\">H</text>\n",
       "<text fill=\"rgb(102,102,102)\" font-size=\"13\" stroke=\"rgb(102,102,102)\" stroke-width=\"1\" x=\"26.000000\" y=\"131.680000\">3</text>\n",
       "<text fill=\"rgb(102,102,102)\" font-size=\"16\" stroke=\"rgb(102,102,102)\" stroke-width=\"1\" x=\"32.500000\" y=\"128.000000\">C</text>\n",
       "<text fill=\"rgb(255,12,12)\" font-size=\"16\" stroke=\"rgb(255,12,12)\" stroke-width=\"1\" x=\"34.000000\" y=\"48.000000\">O</text>\n",
       "<text fill=\"rgb(255,12,12)\" font-size=\"16\" stroke=\"rgb(255,12,12)\" stroke-width=\"1\" x=\"103.282032\" y=\"48.000000\">O</text>\n",
       "<text fill=\"rgb(102,102,102)\" font-size=\"16\" stroke=\"rgb(102,102,102)\" stroke-width=\"1\" x=\"139.923048\" y=\"68.000000\">CH</text>\n",
       "<text fill=\"rgb(102,102,102)\" font-size=\"13\" stroke=\"rgb(102,102,102)\" stroke-width=\"1\" x=\"163.923048\" y=\"71.680000\">3</text>\n",
       "<text fill=\"rgb(102,102,102)\" font-size=\"16\" stroke=\"rgb(102,102,102)\" stroke-width=\"1\" x=\"457.851626\" y=\"107.273874\">CH</text>\n",
       "<text fill=\"rgb(102,102,102)\" font-size=\"13\" stroke=\"rgb(102,102,102)\" stroke-width=\"1\" x=\"481.851626\" y=\"110.953874\">2</text>\n",
       "</svg>\n",
       "</g>\n",
       "<text fill=\"black\" font-family=\"sans-serif\" font-size=\"18.000000\" x=\"10.000000\" y=\"20.000000\"/>\n",
       "</svg>"
      ],
      "text/plain": [
       "<IPython.core.display.SVG object>"
      ]
     },
     "execution_count": 52,
     "metadata": {},
     "output_type": "execute_result"
    }
   ],
   "source": [
    "smile('CC1=C(C(=O)C[C@@H]1OC(=O)[C@@H]2[C@H](C2(C)C)/C=C(\\C)/C(=O)OC)C/C=C\\C=C',svg=1)"
   ]
  },
  {
   "cell_type": "markdown",
   "metadata": {},
   "source": [
    "Aflatoxin: ![afl](https://upload.wikimedia.org/wikipedia/commons/thumb/7/7f/Aflatoxin_B1.svg/195px-Aflatoxin_B1.svg.png)"
   ]
  },
  {
   "cell_type": "code",
   "execution_count": 53,
   "metadata": {},
   "outputs": [
    {
     "data": {
      "image/svg+xml": [
       "<svg height=\"200px\" id=\"topsvg\" version=\"1.1\" viewBox=\"0 0 100 100\" width=\"200px\" x=\"0\" xmlns=\"http://www.w3.org/2000/svg\" xmlns:cml=\"http://www.xml-cml.org/schema\" xmlns:xlink=\"http://www.w3.org/1999/xlink\" y=\"0\">\n",
       "<title> - Open Babel Depiction</title>\n",
       "<rect fill=\"white\" height=\"100\" width=\"100\" x=\"0\" y=\"0\"/>\n",
       "<g transform=\"translate(0,0)\">\n",
       "<svg font-family=\"sans-serif\" height=\"100\" stroke=\"rgb(0,0,0)\" stroke-linecap=\"round\" stroke-width=\"2\" viewBox=\"0 0 345.073 300\" width=\"100\" x=\"0\" y=\"0\">\n",
       "<line stroke=\"rgb(0,0,0)\" stroke-width=\"2.0\" x1=\"243.5\" x2=\"227.6\" y1=\"152.4\" y2=\"174.2\"/>\n",
       "<line stroke=\"rgb(0,0,0)\" stroke-width=\"1.0\" x1=\"247.6\" x2=\"248.9\" y1=\"145.4\" y2=\"146.4\"/>\n",
       "<line stroke=\"rgb(0,0,0)\" stroke-width=\"1.0\" x1=\"250.8\" x2=\"253.1\" y1=\"139.9\" y2=\"141.6\"/>\n",
       "<line stroke=\"rgb(0,0,0)\" stroke-width=\"1.0\" x1=\"254.1\" x2=\"257.4\" y1=\"134.3\" y2=\"136.8\"/>\n",
       "<line stroke=\"rgb(0,0,0)\" stroke-width=\"1.0\" x1=\"257.3\" x2=\"261.7\" y1=\"128.8\" y2=\"132.0\"/>\n",
       "<line stroke=\"rgb(0,0,0)\" stroke-width=\"1.0\" x1=\"260.6\" x2=\"266.0\" y1=\"123.2\" y2=\"127.2\"/>\n",
       "<line stroke=\"rgb(0,0,0)\" stroke-width=\"1.0\" x1=\"263.8\" x2=\"270.3\" y1=\"117.6\" y2=\"122.4\"/>\n",
       "<line stroke=\"rgb(0,0,0)\" stroke-width=\"1.0\" x1=\"269.5\" x2=\"270.8\" y1=\"115.2\" y2=\"116.1\"/>\n",
       "<line stroke=\"rgb(0,0,0)\" stroke-width=\"1.0\" x1=\"271.5\" x2=\"273.9\" y1=\"111.3\" y2=\"113.0\"/>\n",
       "<line stroke=\"rgb(0,0,0)\" stroke-width=\"1.0\" x1=\"273.5\" x2=\"276.9\" y1=\"107.5\" y2=\"109.9\"/>\n",
       "<line stroke=\"rgb(0,0,0)\" stroke-width=\"1.0\" x1=\"275.5\" x2=\"279.9\" y1=\"103.7\" y2=\"106.9\"/>\n",
       "<line stroke=\"rgb(0,0,0)\" stroke-width=\"1.0\" x1=\"277.5\" x2=\"283.0\" y1=\"99.8\" y2=\"103.8\"/>\n",
       "<line stroke=\"rgb(0,0,0)\" stroke-width=\"1.0\" x1=\"279.5\" x2=\"286.0\" y1=\"96.0\" y2=\"100.7\"/>\n",
       "<line stroke=\"rgb(0,0,0)\" stroke-width=\"2.0\" x1=\"136.2\" x2=\"112.8\" y1=\"100.0\" y2=\"86.5\"/>\n",
       "<line stroke=\"rgb(0,0,0)\" stroke-width=\"2.0\" x1=\"101.6\" x2=\"101.6\" y1=\"67.0\" y2=\"53.0\"/>\n",
       "<line stroke=\"rgb(0,0,0)\" stroke-width=\"2.0\" x1=\"139.2\" x2=\"139.2\" y1=\"220.0\" y2=\"247.0\"/>\n",
       "<line stroke=\"rgb(0,0,0)\" stroke-width=\"2.0\" x1=\"133.2\" x2=\"133.2\" y1=\"220.0\" y2=\"247.0\"/>\n",
       "<line stroke=\"rgb(0,0,0)\" stroke-width=\"2.0\" x1=\"66.4\" x2=\"58.0\" y1=\"213.3\" y2=\"239.0\"/>\n",
       "<line stroke=\"rgb(0,0,0)\" stroke-width=\"2.0\" x1=\"60.7\" x2=\"52.3\" y1=\"211.4\" y2=\"237.1\"/>\n",
       "<line stroke=\"rgb(0,0,0)\" stroke-width=\"2.0\" x1=\"136.2\" x2=\"170.8\" y1=\"140.0\" y2=\"160.0\"/>\n",
       "<line stroke=\"rgb(0,0,0)\" stroke-width=\"2.0\" x1=\"145.0\" x2=\"169.2\" y1=\"136.8\" y2=\"150.8\"/>\n",
       "<line stroke=\"rgb(0,0,0)\" stroke-width=\"2.0\" x1=\"170.8\" x2=\"205.5\" y1=\"160.0\" y2=\"140.0\"/>\n",
       "<line stroke=\"rgb(0,0,0)\" stroke-width=\"2.0\" x1=\"205.5\" x2=\"205.5\" y1=\"140.0\" y2=\"100.0\"/>\n",
       "<line stroke=\"rgb(0,0,0)\" stroke-width=\"2.0\" x1=\"198.3\" x2=\"198.3\" y1=\"134.0\" y2=\"106.0\"/>\n",
       "<line stroke=\"rgb(0,0,0)\" stroke-width=\"2.0\" x1=\"205.5\" x2=\"170.8\" y1=\"100.0\" y2=\"80.0\"/>\n",
       "<line stroke=\"rgb(0,0,0)\" stroke-width=\"2.0\" x1=\"170.8\" x2=\"136.2\" y1=\"80.0\" y2=\"100.0\"/>\n",
       "<line stroke=\"rgb(0,0,0)\" stroke-width=\"2.0\" x1=\"169.2\" x2=\"145.0\" y1=\"89.2\" y2=\"103.2\"/>\n",
       "<line stroke=\"rgb(0,0,0)\" stroke-width=\"2.0\" x1=\"136.2\" x2=\"136.2\" y1=\"100.0\" y2=\"140.0\"/>\n",
       "<line stroke=\"rgb(0,0,0)\" stroke-width=\"2.0\" x1=\"101.6\" x2=\"136.2\" y1=\"200.0\" y2=\"220.0\"/>\n",
       "<line stroke=\"rgb(0,0,0)\" stroke-width=\"2.0\" x1=\"136.2\" x2=\"159.6\" y1=\"220.0\" y2=\"206.5\"/>\n",
       "<line stroke=\"rgb(0,0,0)\" stroke-width=\"2.0\" x1=\"170.8\" x2=\"170.8\" y1=\"187.0\" y2=\"160.0\"/>\n",
       "<line stroke=\"rgb(0,0,0)\" stroke-width=\"2.0\" x1=\"136.2\" x2=\"101.6\" y1=\"140.0\" y2=\"160.0\"/>\n",
       "<line stroke=\"rgb(0,0,0)\" stroke-width=\"2.0\" x1=\"101.6\" x2=\"101.6\" y1=\"160.0\" y2=\"200.0\"/>\n",
       "<line stroke=\"rgb(0,0,0)\" stroke-width=\"2.0\" x1=\"108.8\" x2=\"108.8\" y1=\"166.0\" y2=\"194.0\"/>\n",
       "<line stroke=\"rgb(0,0,0)\" stroke-width=\"2.0\" x1=\"267.0\" x2=\"243.5\" y1=\"184.7\" y2=\"152.4\"/>\n",
       "<line stroke=\"rgb(0,0,0)\" stroke-width=\"2.0\" x1=\"243.5\" x2=\"267.0\" y1=\"152.4\" y2=\"120.0\"/>\n",
       "<line stroke=\"rgb(0,0,0)\" stroke-width=\"2.0\" x1=\"267.0\" x2=\"292.7\" y1=\"120.0\" y2=\"128.3\"/>\n",
       "<line stroke=\"rgb(0,0,0)\" stroke-width=\"2.0\" x1=\"305.1\" x2=\"305.1\" y1=\"145.4\" y2=\"172.4\"/>\n",
       "<line stroke=\"rgb(0,0,0)\" stroke-width=\"2.0\" x1=\"305.1\" x2=\"267.0\" y1=\"172.4\" y2=\"184.7\"/>\n",
       "<line stroke=\"rgb(0,0,0)\" stroke-width=\"2.0\" x1=\"297.1\" x2=\"270.5\" y1=\"167.4\" y2=\"176.0\"/>\n",
       "<line stroke=\"rgb(0,0,0)\" stroke-width=\"2.0\" x1=\"205.5\" x2=\"231.2\" y1=\"100.0\" y2=\"91.7\"/>\n",
       "<line stroke=\"rgb(0,0,0)\" stroke-width=\"2.0\" x1=\"251.2\" x2=\"267.0\" y1=\"98.2\" y2=\"120.0\"/>\n",
       "<line stroke=\"rgb(0,0,0)\" stroke-width=\"2.0\" x1=\"243.5\" x2=\"205.5\" y1=\"152.4\" y2=\"140.0\"/>\n",
       "<line stroke=\"rgb(0,0,0)\" stroke-width=\"2.0\" x1=\"40.0\" x2=\"63.5\" y1=\"180.0\" y2=\"147.6\"/>\n",
       "<line stroke=\"rgb(0,0,0)\" stroke-width=\"2.0\" x1=\"63.5\" x2=\"101.6\" y1=\"147.6\" y2=\"160.0\"/>\n",
       "<line stroke=\"rgb(0,0,0)\" stroke-width=\"2.0\" x1=\"101.6\" x2=\"63.5\" y1=\"200.0\" y2=\"212.4\"/>\n",
       "<line stroke=\"rgb(0,0,0)\" stroke-width=\"2.0\" x1=\"63.5\" x2=\"40.0\" y1=\"212.4\" y2=\"180.0\"/>\n",
       "<text fill=\"rgb(255,12,12)\" font-size=\"16\" stroke=\"rgb(255,12,12)\" stroke-width=\"1\" x=\"299.072651\" y=\"140.360680\">O</text>\n",
       "<text fill=\"rgb(191,191,191)\" font-size=\"16\" stroke=\"rgb(191,191,191)\" stroke-width=\"1\" x=\"214.007570\" y=\"192.721360\">H</text>\n",
       "<text fill=\"rgb(191,191,191)\" font-size=\"16\" stroke=\"rgb(191,191,191)\" stroke-width=\"1\" x=\"284.541800\" y=\"95.639320\">H</text>\n",
       "<text fill=\"rgb(255,12,12)\" font-size=\"16\" stroke=\"rgb(255,12,12)\" stroke-width=\"1\" x=\"237.518980\" y=\"95.639320\">O</text>\n",
       "<text fill=\"rgb(255,12,12)\" font-size=\"16\" stroke=\"rgb(255,12,12)\" stroke-width=\"1\" x=\"95.553671\" y=\"88.000000\">O</text>\n",
       "<text fill=\"rgb(102,102,102)\" font-size=\"16\" stroke=\"rgb(102,102,102)\" stroke-width=\"1\" x=\"97.553671\" y=\"48.000000\">CH</text>\n",
       "<text fill=\"rgb(102,102,102)\" font-size=\"13\" stroke=\"rgb(102,102,102)\" stroke-width=\"1\" x=\"121.553671\" y=\"51.680000\">3</text>\n",
       "<text fill=\"rgb(255,12,12)\" font-size=\"16\" stroke=\"rgb(255,12,12)\" stroke-width=\"1\" x=\"164.835703\" y=\"208.000000\">O</text>\n",
       "<text fill=\"rgb(255,12,12)\" font-size=\"16\" stroke=\"rgb(255,12,12)\" stroke-width=\"1\" x=\"130.194687\" y=\"268.000000\">O</text>\n",
       "<text fill=\"rgb(255,12,12)\" font-size=\"16\" stroke=\"rgb(255,12,12)\" stroke-width=\"1\" x=\"45.150730\" y=\"258.402940\">O</text>\n",
       "</svg>\n",
       "</g>\n",
       "<text fill=\"black\" font-family=\"sans-serif\" font-size=\"18.000000\" x=\"10.000000\" y=\"20.000000\"/>\n",
       "</svg>"
      ],
      "text/plain": [
       "<IPython.core.display.SVG object>"
      ]
     },
     "execution_count": 53,
     "metadata": {},
     "output_type": "execute_result"
    }
   ],
   "source": [
    "smile('O1C=C[C@H]([C@H]1O2)c3c2cc(OC)c4c3OC(=O)C5=C4CCC(=O)5')"
   ]
  },
  {
   "cell_type": "markdown",
   "metadata": {},
   "source": [
    "Glucose: ![glu](https://upload.wikimedia.org/wikipedia/commons/thumb/b/bb/Beta-D-Glucose.svg/210px-Beta-D-Glucose.svg.png)"
   ]
  },
  {
   "cell_type": "code",
   "execution_count": 54,
   "metadata": {},
   "outputs": [
    {
     "data": {
      "image/svg+xml": [
       "<svg height=\"200px\" id=\"topsvg\" version=\"1.1\" viewBox=\"0 0 100 100\" width=\"200px\" x=\"0\" xmlns=\"http://www.w3.org/2000/svg\" xmlns:cml=\"http://www.xml-cml.org/schema\" xmlns:xlink=\"http://www.w3.org/1999/xlink\" y=\"0\">\n",
       "<title> - Open Babel Depiction</title>\n",
       "<rect fill=\"white\" height=\"100\" width=\"100\" x=\"0\" y=\"0\"/>\n",
       "<g transform=\"translate(0,0)\">\n",
       "<svg font-family=\"sans-serif\" height=\"100\" stroke=\"rgb(0,0,0)\" stroke-linecap=\"round\" stroke-width=\"2\" viewBox=\"0 0 238.272 229.282\" width=\"100\" x=\"0\" y=\"0\">\n",
       "<line stroke=\"rgb(0,0,0)\" stroke-width=\"2.0\" x1=\"185.7\" x2=\"159.6\" y1=\"49.0\" y2=\"56.0\"/>\n",
       "<line stroke=\"rgb(0,0,0)\" stroke-width=\"2.0\" x1=\"159.6\" x2=\"149.3\" y1=\"56.0\" y2=\"94.6\"/>\n",
       "<line stroke=\"rgb(0,0,0)\" stroke-width=\"1.0\" x1=\"154.0\" x2=\"153.0\" y1=\"97.3\" y2=\"98.5\"/>\n",
       "<line stroke=\"rgb(0,0,0)\" stroke-width=\"1.0\" x1=\"157.8\" x2=\"156.1\" y1=\"99.4\" y2=\"101.7\"/>\n",
       "<line stroke=\"rgb(0,0,0)\" stroke-width=\"1.0\" x1=\"161.6\" x2=\"159.1\" y1=\"101.5\" y2=\"104.8\"/>\n",
       "<line stroke=\"rgb(0,0,0)\" stroke-width=\"1.0\" x1=\"165.4\" x2=\"162.1\" y1=\"103.6\" y2=\"107.9\"/>\n",
       "<line stroke=\"rgb(0,0,0)\" stroke-width=\"1.0\" x1=\"169.2\" x2=\"165.1\" y1=\"105.7\" y2=\"111.0\"/>\n",
       "<line stroke=\"rgb(0,0,0)\" stroke-width=\"1.0\" x1=\"173.0\" x2=\"168.1\" y1=\"107.8\" y2=\"114.1\"/>\n",
       "<line stroke=\"rgb(0,0,0)\" stroke-width=\"1.0\" x1=\"122.0\" x2=\"121.2\" y1=\"77.9\" y2=\"79.3\"/>\n",
       "<line stroke=\"rgb(0,0,0)\" stroke-width=\"1.0\" x1=\"127.8\" x2=\"126.4\" y1=\"80.6\" y2=\"83.1\"/>\n",
       "<line stroke=\"rgb(0,0,0)\" stroke-width=\"1.0\" x1=\"133.7\" x2=\"131.6\" y1=\"83.2\" y2=\"86.8\"/>\n",
       "<line stroke=\"rgb(0,0,0)\" stroke-width=\"1.0\" x1=\"139.6\" x2=\"136.8\" y1=\"85.9\" y2=\"90.6\"/>\n",
       "<line stroke=\"rgb(0,0,0)\" stroke-width=\"1.0\" x1=\"145.4\" x2=\"142.1\" y1=\"88.5\" y2=\"94.4\"/>\n",
       "<line stroke=\"rgb(0,0,0)\" stroke-width=\"1.0\" x1=\"151.3\" x2=\"147.3\" y1=\"91.2\" y2=\"98.1\"/>\n",
       "<line stroke=\"rgb(0,0,0)\" stroke-width=\"2.0\" x1=\"114.6\" x2=\"128.1\" y1=\"74.6\" y2=\"51.3\"/>\n",
       "<line stroke=\"rgb(0,0,0)\" stroke-width=\"2.0\" x1=\"114.6\" x2=\"101.1\" y1=\"74.6\" y2=\"51.3\"/>\n",
       "<polygon fill=\"rgb(0,0,0)\" points=\"80.000000 94.641016 112.641016 71.176915 116.641016 78.105118 \" stroke=\"rgb(0,0,0)\" stroke-width=\"2.000000\"/>\n",
       "<line stroke=\"rgb(0,0,0)\" stroke-width=\"2.0\" x1=\"80.0\" x2=\"66.5\" y1=\"94.6\" y2=\"71.3\"/>\n",
       "<line stroke=\"rgb(0,0,0)\" stroke-width=\"2.0\" x1=\"80.0\" x2=\"53.0\" y1=\"94.6\" y2=\"94.6\"/>\n",
       "<line stroke=\"rgb(0,0,0)\" stroke-width=\"1.0\" x1=\"79.2\" x2=\"80.8\" y1=\"126.6\" y2=\"126.6\"/>\n",
       "<line stroke=\"rgb(0,0,0)\" stroke-width=\"1.0\" x1=\"78.6\" x2=\"81.4\" y1=\"120.2\" y2=\"120.2\"/>\n",
       "<line stroke=\"rgb(0,0,0)\" stroke-width=\"1.0\" x1=\"77.9\" x2=\"82.1\" y1=\"113.8\" y2=\"113.8\"/>\n",
       "<line stroke=\"rgb(0,0,0)\" stroke-width=\"1.0\" x1=\"77.3\" x2=\"82.7\" y1=\"107.4\" y2=\"107.4\"/>\n",
       "<line stroke=\"rgb(0,0,0)\" stroke-width=\"1.0\" x1=\"76.6\" x2=\"83.4\" y1=\"101.0\" y2=\"101.0\"/>\n",
       "<line stroke=\"rgb(0,0,0)\" stroke-width=\"1.0\" x1=\"76.0\" x2=\"84.0\" y1=\"94.6\" y2=\"94.6\"/>\n",
       "<line stroke=\"rgb(0,0,0)\" stroke-width=\"2.0\" x1=\"80.0\" x2=\"53.0\" y1=\"134.6\" y2=\"134.6\"/>\n",
       "<line stroke=\"rgb(0,0,0)\" stroke-width=\"2.0\" x1=\"80.0\" x2=\"66.5\" y1=\"134.6\" y2=\"158.0\"/>\n",
       "<line stroke=\"rgb(0,0,0)\" stroke-width=\"1.0\" x1=\"107.3\" x2=\"108.1\" y1=\"151.3\" y2=\"149.9\"/>\n",
       "<line stroke=\"rgb(0,0,0)\" stroke-width=\"1.0\" x1=\"101.5\" x2=\"102.9\" y1=\"148.7\" y2=\"146.2\"/>\n",
       "<line stroke=\"rgb(0,0,0)\" stroke-width=\"1.0\" x1=\"95.6\" x2=\"97.7\" y1=\"146.0\" y2=\"142.4\"/>\n",
       "<line stroke=\"rgb(0,0,0)\" stroke-width=\"1.0\" x1=\"89.7\" x2=\"92.4\" y1=\"143.4\" y2=\"138.7\"/>\n",
       "<line stroke=\"rgb(0,0,0)\" stroke-width=\"1.0\" x1=\"83.9\" x2=\"87.2\" y1=\"140.8\" y2=\"134.9\"/>\n",
       "<line stroke=\"rgb(0,0,0)\" stroke-width=\"1.0\" x1=\"78.0\" x2=\"82.0\" y1=\"138.1\" y2=\"131.2\"/>\n",
       "<line stroke=\"rgb(0,0,0)\" stroke-width=\"2.0\" x1=\"114.6\" x2=\"101.1\" y1=\"154.6\" y2=\"178.0\"/>\n",
       "<line stroke=\"rgb(0,0,0)\" stroke-width=\"2.0\" x1=\"114.6\" x2=\"128.1\" y1=\"154.6\" y2=\"178.0\"/>\n",
       "<line stroke=\"rgb(0,0,0)\" stroke-width=\"2.0\" x1=\"149.3\" x2=\"149.3\" y1=\"121.6\" y2=\"94.6\"/>\n",
       "<line stroke=\"rgb(0,0,0)\" stroke-width=\"2.0\" x1=\"149.3\" x2=\"114.6\" y1=\"94.6\" y2=\"74.6\"/>\n",
       "<line stroke=\"rgb(0,0,0)\" stroke-width=\"2.0\" x1=\"114.6\" x2=\"80.0\" y1=\"74.6\" y2=\"94.6\"/>\n",
       "<line stroke=\"rgb(0,0,0)\" stroke-width=\"2.0\" x1=\"80.0\" x2=\"80.0\" y1=\"94.6\" y2=\"134.6\"/>\n",
       "<line stroke=\"rgb(0,0,0)\" stroke-width=\"2.0\" x1=\"80.0\" x2=\"114.6\" y1=\"134.6\" y2=\"154.6\"/>\n",
       "<line stroke=\"rgb(0,0,0)\" stroke-width=\"2.0\" x1=\"114.6\" x2=\"138.0\" y1=\"154.6\" y2=\"141.1\"/>\n",
       "<text fill=\"rgb(255,12,12)\" font-size=\"16\" stroke=\"rgb(255,12,12)\" stroke-width=\"1\" x=\"192.271827\" y=\"53.651221\">OH</text>\n",
       "<text fill=\"rgb(191,191,191)\" font-size=\"16\" stroke=\"rgb(191,191,191)\" stroke-width=\"1\" x=\"175.016166\" y=\"126.991473\">H</text>\n",
       "<text fill=\"rgb(255,12,12)\" font-size=\"16\" stroke=\"rgb(255,12,12)\" stroke-width=\"1\" x=\"143.282032\" y=\"142.641016\">O</text>\n",
       "<text fill=\"rgb(191,191,191)\" font-size=\"16\" stroke=\"rgb(191,191,191)\" stroke-width=\"1\" x=\"128.641016\" y=\"48.000000\">H</text>\n",
       "<text fill=\"rgb(255,12,12)\" font-size=\"16\" stroke=\"rgb(255,12,12)\" stroke-width=\"1\" x=\"76.641016\" y=\"48.000000\">HO</text>\n",
       "<text fill=\"rgb(191,191,191)\" font-size=\"16\" stroke=\"rgb(191,191,191)\" stroke-width=\"1\" x=\"54.000000\" y=\"68.000000\">H</text>\n",
       "<text fill=\"rgb(255,12,12)\" font-size=\"16\" stroke=\"rgb(255,12,12)\" stroke-width=\"1\" x=\"22.000000\" y=\"102.641016\">HO</text>\n",
       "<text fill=\"rgb(191,191,191)\" font-size=\"16\" stroke=\"rgb(191,191,191)\" stroke-width=\"1\" x=\"34.000000\" y=\"142.641016\">H</text>\n",
       "<text fill=\"rgb(255,12,12)\" font-size=\"16\" stroke=\"rgb(255,12,12)\" stroke-width=\"1\" x=\"42.000000\" y=\"177.282032\">HO</text>\n",
       "<text fill=\"rgb(191,191,191)\" font-size=\"16\" stroke=\"rgb(191,191,191)\" stroke-width=\"1\" x=\"88.641016\" y=\"197.282032\">H</text>\n",
       "<text fill=\"rgb(255,12,12)\" font-size=\"16\" stroke=\"rgb(255,12,12)\" stroke-width=\"1\" x=\"128.641016\" y=\"197.282032\">OH</text>\n",
       "</svg>\n",
       "</g>\n",
       "<text fill=\"black\" font-family=\"sans-serif\" font-size=\"18.000000\" x=\"10.000000\" y=\"20.000000\"/>\n",
       "</svg>"
      ],
      "text/plain": [
       "<IPython.core.display.SVG object>"
      ]
     },
     "execution_count": 54,
     "metadata": {},
     "output_type": "execute_result"
    }
   ],
   "source": [
    "smile('OC[C@@H](O1)[C@@H](O)[C@H](O)[C@@H](O)[C@@H](O)1')"
   ]
  },
  {
   "cell_type": "markdown",
   "metadata": {},
   "source": [
    "Bergenin: ![ber](https://upload.wikimedia.org/wikipedia/commons/thumb/1/12/Cuscutine.svg/195px-Cuscutine.svg.png)"
   ]
  },
  {
   "cell_type": "code",
   "execution_count": 55,
   "metadata": {},
   "outputs": [
    {
     "data": {
      "image/svg+xml": [
       "<svg height=\"200px\" id=\"topsvg\" version=\"1.1\" viewBox=\"0 0 100 100\" width=\"200px\" x=\"0\" xmlns=\"http://www.w3.org/2000/svg\" xmlns:cml=\"http://www.xml-cml.org/schema\" xmlns:xlink=\"http://www.w3.org/1999/xlink\" y=\"0\">\n",
       "<title> - Open Babel Depiction</title>\n",
       "<rect fill=\"white\" height=\"100\" width=\"100\" x=\"0\" y=\"0\"/>\n",
       "<g transform=\"translate(0,0)\">\n",
       "<svg font-family=\"sans-serif\" height=\"100\" stroke=\"rgb(0,0,0)\" stroke-linecap=\"round\" stroke-width=\"2\" viewBox=\"0 0 362.487 326.921\" width=\"100\" x=\"0\" y=\"0\">\n",
       "<line stroke=\"rgb(0,0,0)\" stroke-width=\"2.0\" x1=\"269.1\" x2=\"276.1\" y1=\"274.4\" y2=\"248.3\"/>\n",
       "<line stroke=\"rgb(0,0,0)\" stroke-width=\"2.0\" x1=\"276.1\" x2=\"247.8\" y1=\"248.3\" y2=\"220.0\"/>\n",
       "<line stroke=\"rgb(0,0,0)\" stroke-width=\"2.0\" x1=\"247.8\" x2=\"222.9\" y1=\"220.0\" y2=\"230.3\"/>\n",
       "<line stroke=\"rgb(0,0,0)\" stroke-width=\"1.0\" x1=\"254.4\" x2=\"255.2\" y1=\"215.3\" y2=\"216.7\"/>\n",
       "<line stroke=\"rgb(0,0,0)\" stroke-width=\"1.0\" x1=\"259.6\" x2=\"261.0\" y1=\"211.6\" y2=\"214.0\"/>\n",
       "<line stroke=\"rgb(0,0,0)\" stroke-width=\"1.0\" x1=\"264.8\" x2=\"266.9\" y1=\"207.8\" y2=\"211.4\"/>\n",
       "<line stroke=\"rgb(0,0,0)\" stroke-width=\"1.0\" x1=\"270.0\" x2=\"272.8\" y1=\"204.0\" y2=\"208.8\"/>\n",
       "<line stroke=\"rgb(0,0,0)\" stroke-width=\"1.0\" x1=\"275.3\" x2=\"278.6\" y1=\"200.3\" y2=\"206.1\"/>\n",
       "<line stroke=\"rgb(0,0,0)\" stroke-width=\"1.0\" x1=\"280.5\" x2=\"284.5\" y1=\"196.5\" y2=\"203.5\"/>\n",
       "<polygon fill=\"rgb(0,0,0)\" points=\"282.487113 200.000000 299.351215 221.209481 292.423011 225.209481 \" stroke=\"rgb(0,0,0)\" stroke-width=\"2.000000\"/>\n",
       "<line stroke=\"rgb(0,0,0)\" stroke-width=\"2.0\" x1=\"282.5\" x2=\"309.5\" y1=\"200.0\" y2=\"200.0\"/>\n",
       "<polygon fill=\"rgb(0,0,0)\" points=\"282.487113 160.000000 286.487113 200.000000 278.487113 200.000000 \" stroke=\"rgb(0,0,0)\" stroke-width=\"2.000000\"/>\n",
       "<line stroke=\"rgb(0,0,0)\" stroke-width=\"2.0\" x1=\"282.5\" x2=\"309.5\" y1=\"160.0\" y2=\"160.0\"/>\n",
       "<line stroke=\"rgb(0,0,0)\" stroke-width=\"2.0\" x1=\"282.5\" x2=\"296.0\" y1=\"160.0\" y2=\"136.6\"/>\n",
       "<line stroke=\"rgb(0,0,0)\" stroke-width=\"1.0\" x1=\"255.2\" x2=\"254.4\" y1=\"143.3\" y2=\"144.7\"/>\n",
       "<line stroke=\"rgb(0,0,0)\" stroke-width=\"1.0\" x1=\"261.0\" x2=\"259.6\" y1=\"146.0\" y2=\"148.4\"/>\n",
       "<line stroke=\"rgb(0,0,0)\" stroke-width=\"1.0\" x1=\"266.9\" x2=\"264.8\" y1=\"148.6\" y2=\"152.2\"/>\n",
       "<line stroke=\"rgb(0,0,0)\" stroke-width=\"1.0\" x1=\"272.8\" x2=\"270.0\" y1=\"151.2\" y2=\"156.0\"/>\n",
       "<line stroke=\"rgb(0,0,0)\" stroke-width=\"1.0\" x1=\"278.6\" x2=\"275.3\" y1=\"153.9\" y2=\"159.7\"/>\n",
       "<line stroke=\"rgb(0,0,0)\" stroke-width=\"1.0\" x1=\"284.5\" x2=\"280.5\" y1=\"156.5\" y2=\"163.5\"/>\n",
       "<line stroke=\"rgb(0,0,0)\" stroke-width=\"2.0\" x1=\"247.8\" x2=\"271.2\" y1=\"140.0\" y2=\"126.5\"/>\n",
       "<line stroke=\"rgb(0,0,0)\" stroke-width=\"1.0\" x1=\"219.7\" x2=\"220.5\" y1=\"155.3\" y2=\"156.7\"/>\n",
       "<line stroke=\"rgb(0,0,0)\" stroke-width=\"1.0\" x1=\"225.0\" x2=\"226.4\" y1=\"151.6\" y2=\"154.0\"/>\n",
       "<line stroke=\"rgb(0,0,0)\" stroke-width=\"1.0\" x1=\"230.2\" x2=\"232.3\" y1=\"147.8\" y2=\"151.4\"/>\n",
       "<line stroke=\"rgb(0,0,0)\" stroke-width=\"1.0\" x1=\"235.4\" x2=\"238.1\" y1=\"144.0\" y2=\"148.8\"/>\n",
       "<line stroke=\"rgb(0,0,0)\" stroke-width=\"1.0\" x1=\"240.6\" x2=\"244.0\" y1=\"140.3\" y2=\"146.1\"/>\n",
       "<line stroke=\"rgb(0,0,0)\" stroke-width=\"1.0\" x1=\"245.8\" x2=\"249.8\" y1=\"136.5\" y2=\"143.5\"/>\n",
       "<line stroke=\"rgb(0,0,0)\" stroke-width=\"2.0\" x1=\"213.2\" x2=\"189.8\" y1=\"160.0\" y2=\"173.5\"/>\n",
       "<line stroke=\"rgb(0,0,0)\" stroke-width=\"2.0\" x1=\"143.9\" x2=\"143.9\" y1=\"160.0\" y2=\"187.0\"/>\n",
       "<line stroke=\"rgb(0,0,0)\" stroke-width=\"2.0\" x1=\"109.3\" x2=\"85.9\" y1=\"140.0\" y2=\"153.5\"/>\n",
       "<line stroke=\"rgb(0,0,0)\" stroke-width=\"2.0\" x1=\"63.4\" x2=\"51.3\" y1=\"153.5\" y2=\"146.5\"/>\n",
       "<line stroke=\"rgb(0,0,0)\" stroke-width=\"2.0\" x1=\"109.3\" x2=\"85.9\" y1=\"100.0\" y2=\"86.5\"/>\n",
       "<line stroke=\"rgb(0,0,0)\" stroke-width=\"2.0\" x1=\"210.2\" x2=\"210.2\" y1=\"80.0\" y2=\"53.0\"/>\n",
       "<line stroke=\"rgb(0,0,0)\" stroke-width=\"2.0\" x1=\"216.2\" x2=\"216.2\" y1=\"80.0\" y2=\"53.0\"/>\n",
       "<line stroke=\"rgb(0,0,0)\" stroke-width=\"2.0\" x1=\"143.9\" x2=\"109.3\" y1=\"160.0\" y2=\"140.0\"/>\n",
       "<line stroke=\"rgb(0,0,0)\" stroke-width=\"2.0\" x1=\"109.3\" x2=\"109.3\" y1=\"140.0\" y2=\"100.0\"/>\n",
       "<line stroke=\"rgb(0,0,0)\" stroke-width=\"2.0\" x1=\"116.5\" x2=\"116.5\" y1=\"134.0\" y2=\"106.0\"/>\n",
       "<line stroke=\"rgb(0,0,0)\" stroke-width=\"2.0\" x1=\"109.3\" x2=\"143.9\" y1=\"100.0\" y2=\"80.0\"/>\n",
       "<line stroke=\"rgb(0,0,0)\" stroke-width=\"2.0\" x1=\"143.9\" x2=\"178.6\" y1=\"80.0\" y2=\"100.0\"/>\n",
       "<line stroke=\"rgb(0,0,0)\" stroke-width=\"2.0\" x1=\"145.5\" x2=\"169.8\" y1=\"89.2\" y2=\"103.2\"/>\n",
       "<line stroke=\"rgb(0,0,0)\" stroke-width=\"2.0\" x1=\"178.6\" x2=\"178.6\" y1=\"100.0\" y2=\"140.0\"/>\n",
       "<line stroke=\"rgb(0,0,0)\" stroke-width=\"2.0\" x1=\"178.6\" x2=\"143.9\" y1=\"140.0\" y2=\"160.0\"/>\n",
       "<line stroke=\"rgb(0,0,0)\" stroke-width=\"2.0\" x1=\"169.8\" x2=\"145.5\" y1=\"136.8\" y2=\"150.8\"/>\n",
       "<line stroke=\"rgb(0,0,0)\" stroke-width=\"2.0\" x1=\"224.5\" x2=\"247.8\" y1=\"206.5\" y2=\"220.0\"/>\n",
       "<line stroke=\"rgb(0,0,0)\" stroke-width=\"2.0\" x1=\"247.8\" x2=\"282.5\" y1=\"220.0\" y2=\"200.0\"/>\n",
       "<line stroke=\"rgb(0,0,0)\" stroke-width=\"2.0\" x1=\"282.5\" x2=\"282.5\" y1=\"200.0\" y2=\"160.0\"/>\n",
       "<line stroke=\"rgb(0,0,0)\" stroke-width=\"2.0\" x1=\"282.5\" x2=\"247.8\" y1=\"160.0\" y2=\"140.0\"/>\n",
       "<line stroke=\"rgb(0,0,0)\" stroke-width=\"2.0\" x1=\"247.8\" x2=\"213.2\" y1=\"140.0\" y2=\"160.0\"/>\n",
       "<line stroke=\"rgb(0,0,0)\" stroke-width=\"2.0\" x1=\"213.2\" x2=\"213.2\" y1=\"160.0\" y2=\"187.0\"/>\n",
       "<line stroke=\"rgb(0,0,0)\" stroke-width=\"2.0\" x1=\"213.2\" x2=\"178.6\" y1=\"80.0\" y2=\"100.0\"/>\n",
       "<line stroke=\"rgb(0,0,0)\" stroke-width=\"2.0\" x1=\"178.6\" x2=\"213.2\" y1=\"140.0\" y2=\"160.0\"/>\n",
       "<line stroke=\"rgb(0,0,0)\" stroke-width=\"2.0\" x1=\"247.8\" x2=\"247.8\" y1=\"140.0\" y2=\"113.0\"/>\n",
       "<line stroke=\"rgb(0,0,0)\" stroke-width=\"2.0\" x1=\"236.6\" x2=\"213.2\" y1=\"93.5\" y2=\"80.0\"/>\n",
       "<text fill=\"rgb(255,12,12)\" font-size=\"16\" stroke=\"rgb(255,12,12)\" stroke-width=\"1\" x=\"247.777606\" y=\"294.921304\">HO</text>\n",
       "<text fill=\"rgb(191,191,191)\" font-size=\"16\" stroke=\"rgb(191,191,191)\" stroke-width=\"1\" x=\"204.890916\" y=\"243.307337\">H</text>\n",
       "<text fill=\"rgb(255,12,12)\" font-size=\"16\" stroke=\"rgb(255,12,12)\" stroke-width=\"1\" x=\"207.205081\" y=\"208.000000\">O</text>\n",
       "<text fill=\"rgb(191,191,191)\" font-size=\"16\" stroke=\"rgb(191,191,191)\" stroke-width=\"1\" x=\"296.487113\" y=\"242.641016\">H</text>\n",
       "<text fill=\"rgb(255,12,12)\" font-size=\"16\" stroke=\"rgb(255,12,12)\" stroke-width=\"1\" x=\"316.487113\" y=\"208.000000\">OH</text>\n",
       "<text fill=\"rgb(191,191,191)\" font-size=\"16\" stroke=\"rgb(191,191,191)\" stroke-width=\"1\" x=\"316.487113\" y=\"168.000000\">H</text>\n",
       "<text fill=\"rgb(255,12,12)\" font-size=\"16\" stroke=\"rgb(255,12,12)\" stroke-width=\"1\" x=\"296.487113\" y=\"133.358984\">OH</text>\n",
       "<text fill=\"rgb(191,191,191)\" font-size=\"16\" stroke=\"rgb(191,191,191)\" stroke-width=\"1\" x=\"276.487113\" y=\"128.000000\">H</text>\n",
       "<text fill=\"rgb(191,191,191)\" font-size=\"16\" stroke=\"rgb(191,191,191)\" stroke-width=\"1\" x=\"172.564065\" y=\"188.000000\">H</text>\n",
       "<text fill=\"rgb(255,12,12)\" font-size=\"16\" stroke=\"rgb(255,12,12)\" stroke-width=\"1\" x=\"137.923048\" y=\"208.000000\">OH</text>\n",
       "<text fill=\"rgb(255,12,12)\" font-size=\"16\" stroke=\"rgb(255,12,12)\" stroke-width=\"1\" x=\"68.641016\" y=\"168.000000\">O</text>\n",
       "<text fill=\"rgb(102,102,102)\" font-size=\"16\" stroke=\"rgb(102,102,102)\" stroke-width=\"1\" x=\"14.000000\" y=\"148.000000\">H</text>\n",
       "<text fill=\"rgb(102,102,102)\" font-size=\"13\" stroke=\"rgb(102,102,102)\" stroke-width=\"1\" x=\"26.000000\" y=\"151.680000\">3</text>\n",
       "<text fill=\"rgb(102,102,102)\" font-size=\"16\" stroke=\"rgb(102,102,102)\" stroke-width=\"1\" x=\"32.500000\" y=\"148.000000\">C</text>\n",
       "<text fill=\"rgb(255,12,12)\" font-size=\"16\" stroke=\"rgb(255,12,12)\" stroke-width=\"1\" x=\"56.641016\" y=\"88.000000\">HO</text>\n",
       "<text fill=\"rgb(255,12,12)\" font-size=\"16\" stroke=\"rgb(255,12,12)\" stroke-width=\"1\" x=\"207.205081\" y=\"48.000000\">O</text>\n",
       "<text fill=\"rgb(255,12,12)\" font-size=\"16\" stroke=\"rgb(255,12,12)\" stroke-width=\"1\" x=\"241.846097\" y=\"108.000000\">O</text>\n",
       "</svg>\n",
       "</g>\n",
       "<text fill=\"black\" font-family=\"sans-serif\" font-size=\"18.000000\" x=\"10.000000\" y=\"20.000000\"/>\n",
       "</svg>"
      ],
      "text/plain": [
       "<IPython.core.display.SVG object>"
      ]
     },
     "execution_count": 55,
     "metadata": {},
     "output_type": "execute_result"
    }
   ],
   "source": [
    "smile('OC[C@@H](O1)[C@@H](O)[C@H](O)[C@@H]2[C@@H]1c3c(O)c(OC)c(O)cc3C(=O)O2')  "
   ]
  },
  {
   "cell_type": "markdown",
   "metadata": {},
   "source": [
    "pheromone: ![phe](https://upload.wikimedia.org/wikipedia/commons/thumb/9/9d/Pheromone_cochenille_californienne.svg/270px-Pheromone_cochenille_californienne.svg.png)"
   ]
  },
  {
   "cell_type": "code",
   "execution_count": 56,
   "metadata": {},
   "outputs": [
    {
     "data": {
      "image/svg+xml": [
       "<svg height=\"200px\" id=\"topsvg\" version=\"1.1\" viewBox=\"0 0 100 100\" width=\"200px\" x=\"0\" xmlns=\"http://www.w3.org/2000/svg\" xmlns:cml=\"http://www.xml-cml.org/schema\" xmlns:xlink=\"http://www.w3.org/1999/xlink\" y=\"0\">\n",
       "<title> - Open Babel Depiction</title>\n",
       "<rect fill=\"white\" height=\"100\" width=\"100\" x=\"0\" y=\"0\"/>\n",
       "<g transform=\"translate(0,0)\">\n",
       "<svg font-family=\"sans-serif\" height=\"100\" stroke=\"rgb(0,0,0)\" stroke-linecap=\"round\" stroke-width=\"2\" viewBox=\"0 0 407.846 269.282\" width=\"100\" x=\"0\" y=\"0\">\n",
       "<line stroke=\"rgb(0,0,0)\" stroke-width=\"2.0\" x1=\"333.2\" x2=\"333.2\" y1=\"87.0\" y2=\"60.0\"/>\n",
       "<line stroke=\"rgb(0,0,0)\" stroke-width=\"2.0\" x1=\"331.7\" x2=\"355.1\" y1=\"57.4\" y2=\"43.9\"/>\n",
       "<line stroke=\"rgb(0,0,0)\" stroke-width=\"2.0\" x1=\"334.7\" x2=\"358.1\" y1=\"62.6\" y2=\"49.1\"/>\n",
       "<line stroke=\"rgb(0,0,0)\" stroke-width=\"2.0\" x1=\"333.2\" x2=\"309.8\" y1=\"60.0\" y2=\"46.5\"/>\n",
       "<line stroke=\"rgb(0,0,0)\" stroke-width=\"2.0\" x1=\"287.3\" x2=\"263.9\" y1=\"46.5\" y2=\"60.0\"/>\n",
       "<line stroke=\"rgb(0,0,0)\" stroke-width=\"2.0\" x1=\"263.9\" x2=\"263.9\" y1=\"60.0\" y2=\"100.0\"/>\n",
       "<line stroke=\"rgb(0,0,0)\" stroke-width=\"2.0\" x1=\"263.9\" x2=\"229.3\" y1=\"100.0\" y2=\"120.0\"/>\n",
       "<line stroke=\"rgb(0,0,0)\" stroke-width=\"2.0\" x1=\"229.3\" x2=\"205.9\" y1=\"120.0\" y2=\"106.5\"/>\n",
       "<line stroke=\"rgb(0,0,0)\" stroke-width=\"2.0\" x1=\"232.3\" x2=\"232.3\" y1=\"120.0\" y2=\"160.0\"/>\n",
       "<line stroke=\"rgb(0,0,0)\" stroke-width=\"2.0\" x1=\"226.3\" x2=\"226.3\" y1=\"120.0\" y2=\"160.0\"/>\n",
       "<line stroke=\"rgb(0,0,0)\" stroke-width=\"2.0\" x1=\"229.3\" x2=\"194.6\" y1=\"160.0\" y2=\"180.0\"/>\n",
       "<line stroke=\"rgb(0,0,0)\" stroke-width=\"2.0\" x1=\"194.6\" x2=\"160.0\" y1=\"180.0\" y2=\"160.0\"/>\n",
       "<line stroke=\"rgb(0,0,0)\" stroke-width=\"1.0\" x1=\"162.0\" x2=\"163.4\" y1=\"155.0\" y2=\"155.8\"/>\n",
       "<line stroke=\"rgb(0,0,0)\" stroke-width=\"1.0\" x1=\"163.6\" x2=\"166.1\" y1=\"150.9\" y2=\"152.4\"/>\n",
       "<line stroke=\"rgb(0,0,0)\" stroke-width=\"1.0\" x1=\"165.2\" x2=\"168.8\" y1=\"146.9\" y2=\"149.0\"/>\n",
       "<line stroke=\"rgb(0,0,0)\" stroke-width=\"1.0\" x1=\"166.8\" x2=\"171.5\" y1=\"142.9\" y2=\"145.6\"/>\n",
       "<line stroke=\"rgb(0,0,0)\" stroke-width=\"1.0\" x1=\"168.3\" x2=\"174.2\" y1=\"138.8\" y2=\"142.2\"/>\n",
       "<line stroke=\"rgb(0,0,0)\" stroke-width=\"1.0\" x1=\"169.9\" x2=\"176.9\" y1=\"134.8\" y2=\"138.8\"/>\n",
       "<line stroke=\"rgb(0,0,0)\" stroke-width=\"2.0\" x1=\"160.0\" x2=\"125.4\" y1=\"160.0\" y2=\"140.0\"/>\n",
       "<line stroke=\"rgb(0,0,0)\" stroke-width=\"2.0\" x1=\"125.4\" x2=\"125.4\" y1=\"140.0\" y2=\"113.0\"/>\n",
       "<line stroke=\"rgb(0,0,0)\" stroke-width=\"2.0\" x1=\"126.9\" x2=\"103.5\" y1=\"142.6\" y2=\"156.1\"/>\n",
       "<line stroke=\"rgb(0,0,0)\" stroke-width=\"2.0\" x1=\"123.9\" x2=\"100.5\" y1=\"137.4\" y2=\"150.9\"/>\n",
       "<line stroke=\"rgb(0,0,0)\" stroke-width=\"2.0\" x1=\"160.0\" x2=\"140.0\" y1=\"160.0\" y2=\"194.6\"/>\n",
       "<line stroke=\"rgb(0,0,0)\" stroke-width=\"2.0\" x1=\"140.0\" x2=\"100.0\" y1=\"194.6\" y2=\"194.6\"/>\n",
       "<line stroke=\"rgb(0,0,0)\" stroke-width=\"2.0\" x1=\"100.0\" x2=\"80.0\" y1=\"194.6\" y2=\"229.3\"/>\n",
       "<line stroke=\"rgb(0,0,0)\" stroke-width=\"2.0\" x1=\"80.0\" x2=\"53.0\" y1=\"232.3\" y2=\"232.3\"/>\n",
       "<line stroke=\"rgb(0,0,0)\" stroke-width=\"2.0\" x1=\"80.0\" x2=\"53.0\" y1=\"226.3\" y2=\"226.3\"/>\n",
       "<text fill=\"rgb(102,102,102)\" font-size=\"16\" stroke=\"rgb(102,102,102)\" stroke-width=\"1\" x=\"329.205081\" y=\"108.000000\">CH</text>\n",
       "<text fill=\"rgb(102,102,102)\" font-size=\"13\" stroke=\"rgb(102,102,102)\" stroke-width=\"1\" x=\"353.205081\" y=\"111.680000\">3</text>\n",
       "<text fill=\"rgb(255,12,12)\" font-size=\"16\" stroke=\"rgb(255,12,12)\" stroke-width=\"1\" x=\"361.846097\" y=\"48.000000\">O</text>\n",
       "<text fill=\"rgb(255,12,12)\" font-size=\"16\" stroke=\"rgb(255,12,12)\" stroke-width=\"1\" x=\"292.564065\" y=\"48.000000\">O</text>\n",
       "<text fill=\"rgb(102,102,102)\" font-size=\"16\" stroke=\"rgb(102,102,102)\" stroke-width=\"1\" x=\"168.641016\" y=\"108.000000\">H</text>\n",
       "<text fill=\"rgb(102,102,102)\" font-size=\"13\" stroke=\"rgb(102,102,102)\" stroke-width=\"1\" x=\"180.641016\" y=\"111.680000\">3</text>\n",
       "<text fill=\"rgb(102,102,102)\" font-size=\"16\" stroke=\"rgb(102,102,102)\" stroke-width=\"1\" x=\"187.141016\" y=\"108.000000\">C</text>\n",
       "<text fill=\"rgb(191,191,191)\" font-size=\"16\" stroke=\"rgb(191,191,191)\" stroke-width=\"1\" x=\"174.000000\" y=\"133.358984\">H</text>\n",
       "<text fill=\"rgb(102,102,102)\" font-size=\"16\" stroke=\"rgb(102,102,102)\" stroke-width=\"1\" x=\"121.358984\" y=\"108.000000\">CH</text>\n",
       "<text fill=\"rgb(102,102,102)\" font-size=\"13\" stroke=\"rgb(102,102,102)\" stroke-width=\"1\" x=\"145.358984\" y=\"111.680000\">3</text>\n",
       "<text fill=\"rgb(102,102,102)\" font-size=\"16\" stroke=\"rgb(102,102,102)\" stroke-width=\"1\" x=\"64.717968\" y=\"168.000000\">H</text>\n",
       "<text fill=\"rgb(102,102,102)\" font-size=\"13\" stroke=\"rgb(102,102,102)\" stroke-width=\"1\" x=\"76.717968\" y=\"171.680000\">2</text>\n",
       "<text fill=\"rgb(102,102,102)\" font-size=\"16\" stroke=\"rgb(102,102,102)\" stroke-width=\"1\" x=\"83.217968\" y=\"168.000000\">C</text>\n",
       "<text fill=\"rgb(102,102,102)\" font-size=\"16\" stroke=\"rgb(102,102,102)\" stroke-width=\"1\" x=\"14.000000\" y=\"237.282032\">H</text>\n",
       "<text fill=\"rgb(102,102,102)\" font-size=\"13\" stroke=\"rgb(102,102,102)\" stroke-width=\"1\" x=\"26.000000\" y=\"240.962032\">2</text>\n",
       "<text fill=\"rgb(102,102,102)\" font-size=\"16\" stroke=\"rgb(102,102,102)\" stroke-width=\"1\" x=\"32.500000\" y=\"237.282032\">C</text>\n",
       "</svg>\n",
       "</g>\n",
       "<text fill=\"black\" font-family=\"sans-serif\" font-size=\"18.000000\" x=\"10.000000\" y=\"20.000000\"/>\n",
       "</svg>"
      ],
      "text/plain": [
       "<IPython.core.display.SVG object>"
      ]
     },
     "execution_count": 56,
     "metadata": {},
     "output_type": "execute_result"
    }
   ],
   "source": [
    "smile('CC(=O)OCCC(/C)=C\\C[C@H](C(C)=C)CCC=C')"
   ]
  },
  {
   "cell_type": "markdown",
   "metadata": {},
   "source": [
    "2S,5R-Chalcogran: ![2s5r](https://upload.wikimedia.org/wikipedia/commons/thumb/8/8e/2S%2C5R-chalcogran-skeletal.svg/195px-2S%2C5R-chalcogran-skeletal.svg.png)"
   ]
  },
  {
   "cell_type": "code",
   "execution_count": 57,
   "metadata": {},
   "outputs": [
    {
     "data": {
      "image/svg+xml": [
       "<svg height=\"200px\" id=\"topsvg\" version=\"1.1\" viewBox=\"0 0 100 100\" width=\"200px\" x=\"0\" xmlns=\"http://www.w3.org/2000/svg\" xmlns:cml=\"http://www.xml-cml.org/schema\" xmlns:xlink=\"http://www.w3.org/1999/xlink\" y=\"0\">\n",
       "<title> - Open Babel Depiction</title>\n",
       "<rect fill=\"white\" height=\"100\" width=\"100\" x=\"0\" y=\"0\"/>\n",
       "<g transform=\"translate(0,0)\">\n",
       "<svg font-family=\"sans-serif\" height=\"100\" stroke=\"rgb(0,0,0)\" stroke-linecap=\"round\" stroke-width=\"2\" viewBox=\"0 0 250.924 199.685\" width=\"100\" x=\"0\" y=\"0\">\n",
       "<line stroke=\"rgb(0,0,0)\" stroke-width=\"2.0\" x1=\"206.3\" x2=\"196.6\" y1=\"147.5\" y2=\"122.3\"/>\n",
       "<line stroke=\"rgb(0,0,0)\" stroke-width=\"2.0\" x1=\"196.6\" x2=\"157.1\" y1=\"122.3\" y2=\"116.1\"/>\n",
       "<polygon fill=\"rgb(0,0,0)\" points=\"157.082039 116.084521 151.454634 142.590602 143.960046 139.792184 \" stroke=\"rgb(0,0,0)\" stroke-width=\"2.000000\"/>\n",
       "<line stroke=\"rgb(0,0,0)\" stroke-width=\"1.0\" x1=\"110.7\" x2=\"111.7\" y1=\"72.7\" y2=\"74.0\"/>\n",
       "<line stroke=\"rgb(0,0,0)\" stroke-width=\"1.0\" x1=\"115.5\" x2=\"117.2\" y1=\"68.4\" y2=\"70.7\"/>\n",
       "<line stroke=\"rgb(0,0,0)\" stroke-width=\"1.0\" x1=\"120.3\" x2=\"122.8\" y1=\"64.1\" y2=\"67.5\"/>\n",
       "<line stroke=\"rgb(0,0,0)\" stroke-width=\"1.0\" x1=\"125.1\" x2=\"128.3\" y1=\"59.9\" y2=\"64.3\"/>\n",
       "<line stroke=\"rgb(0,0,0)\" stroke-width=\"1.0\" x1=\"129.9\" x2=\"133.9\" y1=\"55.6\" y2=\"61.0\"/>\n",
       "<line stroke=\"rgb(0,0,0)\" stroke-width=\"1.0\" x1=\"134.7\" x2=\"139.4\" y1=\"51.3\" y2=\"57.8\"/>\n",
       "<line stroke=\"rgb(0,0,0)\" stroke-width=\"2.0\" x1=\"130.1\" x2=\"157.1\" y1=\"116.1\" y2=\"116.1\"/>\n",
       "<line stroke=\"rgb(0,0,0)\" stroke-width=\"2.0\" x1=\"157.1\" x2=\"169.4\" y1=\"116.1\" y2=\"78.0\"/>\n",
       "<line stroke=\"rgb(0,0,0)\" stroke-width=\"2.0\" x1=\"169.4\" x2=\"137.1\" y1=\"78.0\" y2=\"54.5\"/>\n",
       "<line stroke=\"rgb(0,0,0)\" stroke-width=\"2.0\" x1=\"137.1\" x2=\"104.7\" y1=\"54.5\" y2=\"78.0\"/>\n",
       "<line stroke=\"rgb(0,0,0)\" stroke-width=\"2.0\" x1=\"104.7\" x2=\"113.1\" y1=\"78.0\" y2=\"103.7\"/>\n",
       "<line stroke=\"rgb(0,0,0)\" stroke-width=\"2.0\" x1=\"40.0\" x2=\"52.4\" y1=\"78.0\" y2=\"40.0\"/>\n",
       "<line stroke=\"rgb(0,0,0)\" stroke-width=\"2.0\" x1=\"52.4\" x2=\"79.4\" y1=\"40.0\" y2=\"40.0\"/>\n",
       "<line stroke=\"rgb(0,0,0)\" stroke-width=\"2.0\" x1=\"96.4\" x2=\"104.7\" y1=\"52.4\" y2=\"78.0\"/>\n",
       "<line stroke=\"rgb(0,0,0)\" stroke-width=\"2.0\" x1=\"104.7\" x2=\"72.4\" y1=\"78.0\" y2=\"101.6\"/>\n",
       "<line stroke=\"rgb(0,0,0)\" stroke-width=\"2.0\" x1=\"72.4\" x2=\"40.0\" y1=\"101.6\" y2=\"78.0\"/>\n",
       "<text fill=\"rgb(102,102,102)\" font-size=\"16\" stroke=\"rgb(102,102,102)\" stroke-width=\"1\" x=\"206.924291\" y=\"167.685117\">CH</text>\n",
       "<text fill=\"rgb(102,102,102)\" font-size=\"13\" stroke=\"rgb(102,102,102)\" stroke-width=\"1\" x=\"230.924291\" y=\"171.365117\">3</text>\n",
       "<text fill=\"rgb(191,191,191)\" font-size=\"16\" stroke=\"rgb(191,191,191)\" stroke-width=\"1\" x=\"137.089951\" y=\"161.557464\">H</text>\n",
       "<text fill=\"rgb(255,12,12)\" font-size=\"16\" stroke=\"rgb(255,12,12)\" stroke-width=\"1\" x=\"111.082039\" y=\"124.084521\">O</text>\n",
       "<text fill=\"rgb(255,12,12)\" font-size=\"16\" stroke=\"rgb(255,12,12)\" stroke-width=\"1\" x=\"86.360680\" y=\"48.000000\">O</text>\n",
       "</svg>\n",
       "</g>\n",
       "<text fill=\"black\" font-family=\"sans-serif\" font-size=\"18.000000\" x=\"10.000000\" y=\"20.000000\"/>\n",
       "</svg>"
      ],
      "text/plain": [
       "<IPython.core.display.SVG object>"
      ]
     },
     "execution_count": 57,
     "metadata": {},
     "output_type": "execute_result"
    }
   ],
   "source": [
    "smile('CC[C@H](O1)CC[C@@]12CCCO2')"
   ]
  },
  {
   "cell_type": "markdown",
   "metadata": {},
   "source": [
    "Alpha-thujone: ![Alpha-thujone](https://upload.wikimedia.org/wikipedia/commons/thumb/d/d6/Alpha-thujone.svg/150px-Alpha-thujone.svg.png)"
   ]
  },
  {
   "cell_type": "code",
   "execution_count": 58,
   "metadata": {},
   "outputs": [
    {
     "data": {
      "image/svg+xml": [
       "<svg height=\"200px\" id=\"topsvg\" version=\"1.1\" viewBox=\"0 0 100 100\" width=\"200px\" x=\"0\" xmlns=\"http://www.w3.org/2000/svg\" xmlns:cml=\"http://www.xml-cml.org/schema\" xmlns:xlink=\"http://www.w3.org/1999/xlink\" y=\"0\">\n",
       "<title> - Open Babel Depiction</title>\n",
       "<rect fill=\"white\" height=\"100\" width=\"100\" x=\"0\" y=\"0\"/>\n",
       "<g transform=\"translate(0,0)\">\n",
       "<svg font-family=\"sans-serif\" height=\"100\" stroke=\"rgb(0,0,0)\" stroke-linecap=\"round\" stroke-width=\"2\" viewBox=\"0 0 210.853 220.774\" width=\"100\" x=\"0\" y=\"0\">\n",
       "<line stroke=\"rgb(0,0,0)\" stroke-width=\"2.0\" x1=\"49.2\" x2=\"66.4\" y1=\"127.5\" y2=\"144.7\"/>\n",
       "<line stroke=\"rgb(0,0,0)\" stroke-width=\"2.0\" x1=\"66.4\" x2=\"60.1\" y1=\"144.7\" y2=\"168.2\"/>\n",
       "<line stroke=\"rgb(0,0,0)\" stroke-width=\"1.0\" x1=\"124.3\" x2=\"123.9\" y1=\"130.0\" y2=\"128.5\"/>\n",
       "<line stroke=\"rgb(0,0,0)\" stroke-width=\"1.0\" x1=\"112.9\" x2=\"112.2\" y1=\"133.7\" y2=\"131.0\"/>\n",
       "<line stroke=\"rgb(0,0,0)\" stroke-width=\"1.0\" x1=\"101.6\" x2=\"100.5\" y1=\"137.4\" y2=\"133.4\"/>\n",
       "<line stroke=\"rgb(0,0,0)\" stroke-width=\"1.0\" x1=\"90.2\" x2=\"88.8\" y1=\"141.2\" y2=\"135.9\"/>\n",
       "<line stroke=\"rgb(0,0,0)\" stroke-width=\"1.0\" x1=\"78.8\" x2=\"77.1\" y1=\"144.9\" y2=\"138.4\"/>\n",
       "<line stroke=\"rgb(0,0,0)\" stroke-width=\"1.0\" x1=\"67.4\" x2=\"65.4\" y1=\"148.6\" y2=\"140.8\"/>\n",
       "<line stroke=\"rgb(0,0,0)\" stroke-width=\"2.0\" x1=\"138.5\" x2=\"140.3\" y1=\"88.1\" y2=\"63.8\"/>\n",
       "<line stroke=\"rgb(0,0,0)\" stroke-width=\"1.0\" x1=\"139.3\" x2=\"137.7\" y1=\"95.5\" y2=\"95.5\"/>\n",
       "<line stroke=\"rgb(0,0,0)\" stroke-width=\"1.0\" x1=\"140.0\" x2=\"137.1\" y1=\"101.5\" y2=\"101.5\"/>\n",
       "<line stroke=\"rgb(0,0,0)\" stroke-width=\"1.0\" x1=\"140.6\" x2=\"136.4\" y1=\"107.5\" y2=\"107.5\"/>\n",
       "<line stroke=\"rgb(0,0,0)\" stroke-width=\"1.0\" x1=\"141.2\" x2=\"135.8\" y1=\"113.4\" y2=\"113.4\"/>\n",
       "<line stroke=\"rgb(0,0,0)\" stroke-width=\"1.0\" x1=\"141.9\" x2=\"135.2\" y1=\"119.4\" y2=\"119.4\"/>\n",
       "<line stroke=\"rgb(0,0,0)\" stroke-width=\"1.0\" x1=\"142.5\" x2=\"134.5\" y1=\"125.4\" y2=\"125.4\"/>\n",
       "<polygon fill=\"rgb(0,0,0)\" points=\"103.015005 76.517510 139.757183 84.249919 137.285047 91.858371 \" stroke=\"rgb(0,0,0)\" stroke-width=\"2.000000\"/>\n",
       "<line stroke=\"rgb(0,0,0)\" stroke-width=\"2.0\" x1=\"103.0\" x2=\"84.9\" y1=\"76.5\" y2=\"60.2\"/>\n",
       "<line stroke=\"rgb(0,0,0)\" stroke-width=\"2.0\" x1=\"103.0\" x2=\"108.1\" y1=\"76.5\" y2=\"52.7\"/>\n",
       "<line stroke=\"rgb(0,0,0)\" stroke-width=\"2.0\" x1=\"81.1\" x2=\"56.7\" y1=\"109.7\" y2=\"109.7\"/>\n",
       "<line stroke=\"rgb(0,0,0)\" stroke-width=\"2.0\" x1=\"81.1\" x2=\"56.7\" y1=\"103.7\" y2=\"103.7\"/>\n",
       "<line stroke=\"rgb(0,0,0)\" stroke-width=\"2.0\" x1=\"138.5\" x2=\"138.5\" y1=\"88.1\" y2=\"125.4\"/>\n",
       "<line stroke=\"rgb(0,0,0)\" stroke-width=\"2.0\" x1=\"138.5\" x2=\"170.9\" y1=\"125.4\" y2=\"106.7\"/>\n",
       "<line stroke=\"rgb(0,0,0)\" stroke-width=\"2.0\" x1=\"170.9\" x2=\"138.5\" y1=\"106.7\" y2=\"88.1\"/>\n",
       "<line stroke=\"rgb(0,0,0)\" stroke-width=\"2.0\" x1=\"81.1\" x2=\"103.0\" y1=\"106.7\" y2=\"136.9\"/>\n",
       "<line stroke=\"rgb(0,0,0)\" stroke-width=\"2.0\" x1=\"103.0\" x2=\"138.5\" y1=\"136.9\" y2=\"125.4\"/>\n",
       "<line stroke=\"rgb(0,0,0)\" stroke-width=\"2.0\" x1=\"138.5\" x2=\"103.0\" y1=\"88.1\" y2=\"76.5\"/>\n",
       "<line stroke=\"rgb(0,0,0)\" stroke-width=\"2.0\" x1=\"103.0\" x2=\"81.1\" y1=\"76.5\" y2=\"106.7\"/>\n",
       "<text fill=\"rgb(102,102,102)\" font-size=\"16\" stroke=\"rgb(102,102,102)\" stroke-width=\"1\" x=\"14.000000\" y=\"126.313980\">H</text>\n",
       "<text fill=\"rgb(102,102,102)\" font-size=\"13\" stroke=\"rgb(102,102,102)\" stroke-width=\"1\" x=\"26.000000\" y=\"129.993980\">3</text>\n",
       "<text fill=\"rgb(102,102,102)\" font-size=\"16\" stroke=\"rgb(102,102,102)\" stroke-width=\"1\" x=\"32.500000\" y=\"126.313980\">C</text>\n",
       "<text fill=\"rgb(102,102,102)\" font-size=\"16\" stroke=\"rgb(102,102,102)\" stroke-width=\"1\" x=\"30.736075\" y=\"188.773864\">H</text>\n",
       "<text fill=\"rgb(102,102,102)\" font-size=\"13\" stroke=\"rgb(102,102,102)\" stroke-width=\"1\" x=\"42.736075\" y=\"192.453864\">3</text>\n",
       "<text fill=\"rgb(102,102,102)\" font-size=\"16\" stroke=\"rgb(102,102,102)\" stroke-width=\"1\" x=\"49.236075\" y=\"188.773864\">C</text>\n",
       "<text fill=\"rgb(191,191,191)\" font-size=\"16\" stroke=\"rgb(191,191,191)\" stroke-width=\"1\" x=\"135.179788\" y=\"58.815600\">H</text>\n",
       "<text fill=\"rgb(191,191,191)\" font-size=\"16\" stroke=\"rgb(191,191,191)\" stroke-width=\"1\" x=\"69.270931\" y=\"59.536634\">H</text>\n",
       "<text fill=\"rgb(102,102,102)\" font-size=\"16\" stroke=\"rgb(102,102,102)\" stroke-width=\"1\" x=\"106.777041\" y=\"48.000000\">CH</text>\n",
       "<text fill=\"rgb(102,102,102)\" font-size=\"13\" stroke=\"rgb(102,102,102)\" stroke-width=\"1\" x=\"130.777041\" y=\"51.680000\">3</text>\n",
       "<text fill=\"rgb(255,12,12)\" font-size=\"16\" stroke=\"rgb(255,12,12)\" stroke-width=\"1\" x=\"37.737689\" y=\"114.720812\">O</text>\n",
       "</svg>\n",
       "</g>\n",
       "<text fill=\"black\" font-family=\"sans-serif\" font-size=\"18.000000\" x=\"10.000000\" y=\"20.000000\"/>\n",
       "</svg>"
      ],
      "text/plain": [
       "<IPython.core.display.SVG object>"
      ]
     },
     "execution_count": 58,
     "metadata": {},
     "output_type": "execute_result"
    }
   ],
   "source": [
    "smile('CC(C)[C@@]12C[C@@H]1[C@@H](C)C(=O)C2')"
   ]
  },
  {
   "cell_type": "markdown",
   "metadata": {},
   "source": [
    "Thiamine: ![Thiamine](https://upload.wikimedia.org/wikipedia/commons/thumb/f/f0/Thiamin.svg/225px-Thiamin.svg.png)"
   ]
  },
  {
   "cell_type": "code",
   "execution_count": 59,
   "metadata": {},
   "outputs": [
    {
     "data": {
      "image/svg+xml": [
       "<svg height=\"200px\" id=\"topsvg\" version=\"1.1\" viewBox=\"0 0 100 100\" width=\"200px\" x=\"0\" xmlns=\"http://www.w3.org/2000/svg\" xmlns:cml=\"http://www.xml-cml.org/schema\" xmlns:xlink=\"http://www.w3.org/1999/xlink\" y=\"0\">\n",
       "<title> - Open Babel Depiction</title>\n",
       "<rect fill=\"white\" height=\"100\" width=\"100\" x=\"0\" y=\"0\"/>\n",
       "<g transform=\"translate(0,0)\">\n",
       "<svg font-family=\"sans-serif\" height=\"100\" stroke=\"rgb(0,0,0)\" stroke-linecap=\"round\" stroke-width=\"2\" viewBox=\"0 0 372.562 199.627\" width=\"100\" x=\"0\" y=\"0\">\n",
       "<line stroke=\"rgb(0,0,0)\" stroke-width=\"2.0\" x1=\"316.7\" x2=\"332.6\" y1=\"149.1\" y2=\"127.3\"/>\n",
       "<line stroke=\"rgb(0,0,0)\" stroke-width=\"2.0\" x1=\"332.6\" x2=\"316.3\" y1=\"127.3\" y2=\"90.7\"/>\n",
       "<line stroke=\"rgb(0,0,0)\" stroke-width=\"2.0\" x1=\"316.3\" x2=\"276.5\" y1=\"90.7\" y2=\"86.5\"/>\n",
       "<line stroke=\"rgb(0,0,0)\" stroke-width=\"2.0\" x1=\"249.7\" x2=\"255.4\" y1=\"116.3\" y2=\"142.7\"/>\n",
       "<line stroke=\"rgb(0,0,0)\" stroke-width=\"2.0\" x1=\"201.9\" x2=\"178.6\" y1=\"106.5\" y2=\"120.0\"/>\n",
       "<line stroke=\"rgb(0,0,0)\" stroke-width=\"2.0\" x1=\"178.6\" x2=\"143.9\" y1=\"120.0\" y2=\"100.0\"/>\n",
       "<line stroke=\"rgb(0,0,0)\" stroke-width=\"2.0\" x1=\"74.6\" x2=\"51.3\" y1=\"60.0\" y2=\"46.5\"/>\n",
       "<line stroke=\"rgb(0,0,0)\" stroke-width=\"2.0\" x1=\"143.9\" x2=\"167.3\" y1=\"60.0\" y2=\"46.5\"/>\n",
       "<line stroke=\"rgb(0,0,0)\" stroke-width=\"2.0\" x1=\"214.6\" x2=\"217.4\" y1=\"86.9\" y2=\"60.2\"/>\n",
       "<line stroke=\"rgb(0,0,0)\" stroke-width=\"2.0\" x1=\"222.0\" x2=\"223.9\" y1=\"85.6\" y2=\"66.9\"/>\n",
       "<line stroke=\"rgb(0,0,0)\" stroke-width=\"2.0\" x1=\"217.4\" x2=\"243.8\" y1=\"60.2\" y2=\"54.6\"/>\n",
       "<line stroke=\"rgb(0,0,0)\" stroke-width=\"2.0\" x1=\"263.0\" x2=\"276.5\" y1=\"63.2\" y2=\"86.5\"/>\n",
       "<line stroke=\"rgb(0,0,0)\" stroke-width=\"2.0\" x1=\"276.5\" x2=\"249.7\" y1=\"86.5\" y2=\"116.3\"/>\n",
       "<line stroke=\"rgb(0,0,0)\" stroke-width=\"2.0\" x1=\"267.1\" x2=\"248.4\" y1=\"86.2\" y2=\"107.0\"/>\n",
       "<line stroke=\"rgb(0,0,0)\" stroke-width=\"2.0\" x1=\"249.7\" x2=\"225.1\" y1=\"116.3\" y2=\"105.3\"/>\n",
       "<line stroke=\"rgb(0,0,0)\" stroke-width=\"2.0\" x1=\"74.6\" x2=\"74.6\" y1=\"86.8\" y2=\"60.0\"/>\n",
       "<line stroke=\"rgb(0,0,0)\" stroke-width=\"2.0\" x1=\"81.8\" x2=\"81.8\" y1=\"84.8\" y2=\"66.0\"/>\n",
       "<line stroke=\"rgb(0,0,0)\" stroke-width=\"2.0\" x1=\"74.6\" x2=\"98.0\" y1=\"60.0\" y2=\"46.5\"/>\n",
       "<line stroke=\"rgb(0,0,0)\" stroke-width=\"2.0\" x1=\"120.7\" x2=\"143.9\" y1=\"46.6\" y2=\"60.0\"/>\n",
       "<line stroke=\"rgb(0,0,0)\" stroke-width=\"2.0\" x1=\"118.8\" x2=\"135.1\" y1=\"53.8\" y2=\"63.2\"/>\n",
       "<line stroke=\"rgb(0,0,0)\" stroke-width=\"2.0\" x1=\"143.9\" x2=\"143.9\" y1=\"60.0\" y2=\"100.0\"/>\n",
       "<line stroke=\"rgb(0,0,0)\" stroke-width=\"2.0\" x1=\"143.9\" x2=\"109.3\" y1=\"100.0\" y2=\"120.0\"/>\n",
       "<line stroke=\"rgb(0,0,0)\" stroke-width=\"2.0\" x1=\"135.1\" x2=\"110.9\" y1=\"96.8\" y2=\"110.8\"/>\n",
       "<line stroke=\"rgb(0,0,0)\" stroke-width=\"2.0\" x1=\"109.3\" x2=\"85.9\" y1=\"120.0\" y2=\"106.5\"/>\n",
       "<text fill=\"rgb(255,12,12)\" font-size=\"16\" stroke=\"rgb(255,12,12)\" stroke-width=\"1\" x=\"291.051055\" y=\"167.627309\">HO</text>\n",
       "<text fill=\"rgb(102,102,102)\" font-size=\"16\" stroke=\"rgb(102,102,102)\" stroke-width=\"1\" x=\"254.063367\" y=\"163.395370\">CH</text>\n",
       "<text fill=\"rgb(102,102,102)\" font-size=\"13\" stroke=\"rgb(102,102,102)\" stroke-width=\"1\" x=\"278.063367\" y=\"167.075370\">3</text>\n",
       "<text fill=\"rgb(12,12,255)\" font-size=\"13\" stroke=\"rgb(12,12,255)\" stroke-width=\"1\" x=\"217.105081\" y=\"96.724000\">+</text>\n",
       "<text fill=\"rgb(12,12,255)\" font-size=\"16\" stroke=\"rgb(12,12,255)\" stroke-width=\"1\" x=\"207.205081\" y=\"108.000000\">N</text>\n",
       "<text fill=\"rgb(178,178,0)\" font-size=\"16\" stroke=\"rgb(178,178,0)\" stroke-width=\"1\" x=\"250.512123\" y=\"59.902657\">S</text>\n",
       "<text fill=\"rgb(12,12,255)\" font-size=\"16\" stroke=\"rgb(12,12,255)\" stroke-width=\"1\" x=\"68.641016\" y=\"108.000000\">N</text>\n",
       "<text fill=\"rgb(102,102,102)\" font-size=\"16\" stroke=\"rgb(102,102,102)\" stroke-width=\"1\" x=\"14.000000\" y=\"48.000000\">H</text>\n",
       "<text fill=\"rgb(102,102,102)\" font-size=\"13\" stroke=\"rgb(102,102,102)\" stroke-width=\"1\" x=\"26.000000\" y=\"51.680000\">3</text>\n",
       "<text fill=\"rgb(102,102,102)\" font-size=\"16\" stroke=\"rgb(102,102,102)\" stroke-width=\"1\" x=\"32.500000\" y=\"48.000000\">C</text>\n",
       "<text fill=\"rgb(12,12,255)\" font-size=\"16\" stroke=\"rgb(12,12,255)\" stroke-width=\"1\" x=\"103.282032\" y=\"48.000000\">N</text>\n",
       "<text fill=\"rgb(12,12,255)\" font-size=\"16\" stroke=\"rgb(12,12,255)\" stroke-width=\"1\" x=\"174.564065\" y=\"48.000000\">NH</text>\n",
       "<text fill=\"rgb(12,12,255)\" font-size=\"13\" stroke=\"rgb(12,12,255)\" stroke-width=\"1\" x=\"198.564065\" y=\"51.680000\">2</text>\n",
       "</svg>\n",
       "</g>\n",
       "<text fill=\"black\" font-family=\"sans-serif\" font-size=\"18.000000\" x=\"10.000000\" y=\"20.000000\"/>\n",
       "</svg>"
      ],
      "text/plain": [
       "<IPython.core.display.SVG object>"
      ]
     },
     "execution_count": 59,
     "metadata": {},
     "output_type": "execute_result"
    }
   ],
   "source": [
    "smile('OCCc1c(C)[n+](cs1)Cc2cnc(C)nc2N') "
   ]
  },
  {
   "cell_type": "markdown",
   "metadata": {},
   "source": [
    "<span id='site1'>一个超过9个环的分子</span>: ![九](https://upload.wikimedia.org/wikipedia/commons/thumb/b/b8/Cephalostatine-1.svg/540px-Cephalostatine-1.svg.png)"
   ]
  },
  {
   "cell_type": "code",
   "execution_count": 60,
   "metadata": {},
   "outputs": [
    {
     "data": {
      "image/svg+xml": [
       "<svg height=\"200px\" id=\"topsvg\" version=\"1.1\" viewBox=\"0 0 100 100\" width=\"200px\" x=\"0\" xmlns=\"http://www.w3.org/2000/svg\" xmlns:cml=\"http://www.xml-cml.org/schema\" xmlns:xlink=\"http://www.w3.org/1999/xlink\" y=\"0\">\n",
       "<title> - Open Babel Depiction</title>\n",
       "<rect fill=\"white\" height=\"100\" width=\"100\" x=\"0\" y=\"0\"/>\n",
       "<g transform=\"translate(0,0)\">\n",
       "<svg font-family=\"sans-serif\" height=\"100\" stroke=\"rgb(0,0,0)\" stroke-linecap=\"round\" stroke-width=\"2\" viewBox=\"0 0 757.87 552.254\" width=\"100\" x=\"0\" y=\"0\">\n",
       "<line stroke=\"rgb(0,0,0)\" stroke-width=\"2.0\" x1=\"610.6\" x2=\"608.0\" y1=\"52.9\" y2=\"78.1\"/>\n",
       "<line stroke=\"rgb(0,0,0)\" stroke-width=\"2.0\" x1=\"608.0\" x2=\"587.5\" y1=\"78.1\" y2=\"63.2\"/>\n",
       "<line stroke=\"rgb(0,0,0)\" stroke-width=\"1.0\" x1=\"652.7\" x2=\"651.3\" y1=\"128.2\" y2=\"129.0\"/>\n",
       "<line stroke=\"rgb(0,0,0)\" stroke-width=\"1.0\" x1=\"655.3\" x2=\"652.8\" y1=\"131.5\" y2=\"132.9\"/>\n",
       "<line stroke=\"rgb(0,0,0)\" stroke-width=\"1.0\" x1=\"657.9\" x2=\"654.3\" y1=\"134.7\" y2=\"136.8\"/>\n",
       "<line stroke=\"rgb(0,0,0)\" stroke-width=\"1.0\" x1=\"660.5\" x2=\"655.8\" y1=\"137.9\" y2=\"140.7\"/>\n",
       "<line stroke=\"rgb(0,0,0)\" stroke-width=\"1.0\" x1=\"663.1\" x2=\"657.3\" y1=\"141.2\" y2=\"144.5\"/>\n",
       "<line stroke=\"rgb(0,0,0)\" stroke-width=\"1.0\" x1=\"665.7\" x2=\"658.8\" y1=\"144.4\" y2=\"148.4\"/>\n",
       "<line stroke=\"rgb(0,0,0)\" stroke-width=\"2.0\" x1=\"649.4\" x2=\"674.8\" y1=\"124.2\" y2=\"124.2\"/>\n",
       "<line stroke=\"rgb(0,0,0)\" stroke-width=\"1.0\" x1=\"621.1\" x2=\"621.8\" y1=\"135.9\" y2=\"137.4\"/>\n",
       "<line stroke=\"rgb(0,0,0)\" stroke-width=\"1.0\" x1=\"626.5\" x2=\"627.6\" y1=\"132.8\" y2=\"135.5\"/>\n",
       "<line stroke=\"rgb(0,0,0)\" stroke-width=\"1.0\" x1=\"631.8\" x2=\"633.5\" y1=\"129.8\" y2=\"133.6\"/>\n",
       "<line stroke=\"rgb(0,0,0)\" stroke-width=\"1.0\" x1=\"637.1\" x2=\"639.3\" y1=\"126.7\" y2=\"131.6\"/>\n",
       "<line stroke=\"rgb(0,0,0)\" stroke-width=\"1.0\" x1=\"642.5\" x2=\"645.2\" y1=\"123.6\" y2=\"129.7\"/>\n",
       "<line stroke=\"rgb(0,0,0)\" stroke-width=\"1.0\" x1=\"647.8\" x2=\"651.1\" y1=\"120.5\" y2=\"127.8\"/>\n",
       "<line stroke=\"rgb(0,0,0)\" stroke-width=\"1.0\" x1=\"636.7\" x2=\"637.8\" y1=\"160.9\" y2=\"159.7\"/>\n",
       "<line stroke=\"rgb(0,0,0)\" stroke-width=\"1.0\" x1=\"631.7\" x2=\"633.6\" y1=\"157.2\" y2=\"155.1\"/>\n",
       "<line stroke=\"rgb(0,0,0)\" stroke-width=\"1.0\" x1=\"626.7\" x2=\"629.5\" y1=\"153.6\" y2=\"150.5\"/>\n",
       "<line stroke=\"rgb(0,0,0)\" stroke-width=\"1.0\" x1=\"621.7\" x2=\"625.4\" y1=\"150.0\" y2=\"145.9\"/>\n",
       "<line stroke=\"rgb(0,0,0)\" stroke-width=\"1.0\" x1=\"616.7\" x2=\"621.2\" y1=\"146.4\" y2=\"141.4\"/>\n",
       "<line stroke=\"rgb(0,0,0)\" stroke-width=\"1.0\" x1=\"611.8\" x2=\"617.1\" y1=\"142.7\" y2=\"136.8\"/>\n",
       "<line stroke=\"rgb(0,0,0)\" stroke-width=\"2.0\" x1=\"642.9\" x2=\"705.2\" y1=\"165.4\" y2=\"178.6\"/>\n",
       "<line stroke=\"rgb(0,0,0)\" stroke-width=\"2.0\" x1=\"642.9\" x2=\"659.9\" y1=\"165.4\" y2=\"146.6\"/>\n",
       "<line stroke=\"rgb(0,0,0)\" stroke-width=\"1.0\" x1=\"635.8\" x2=\"637.3\" y1=\"195.2\" y2=\"195.5\"/>\n",
       "<line stroke=\"rgb(0,0,0)\" stroke-width=\"1.0\" x1=\"636.4\" x2=\"639.2\" y1=\"189.1\" y2=\"189.7\"/>\n",
       "<line stroke=\"rgb(0,0,0)\" stroke-width=\"1.0\" x1=\"637.1\" x2=\"641.1\" y1=\"183.0\" y2=\"183.8\"/>\n",
       "<line stroke=\"rgb(0,0,0)\" stroke-width=\"1.0\" x1=\"637.7\" x2=\"643.0\" y1=\"176.8\" y2=\"178.0\"/>\n",
       "<line stroke=\"rgb(0,0,0)\" stroke-width=\"1.0\" x1=\"638.4\" x2=\"644.9\" y1=\"170.7\" y2=\"172.1\"/>\n",
       "<line stroke=\"rgb(0,0,0)\" stroke-width=\"1.0\" x1=\"639.0\" x2=\"646.8\" y1=\"164.6\" y2=\"166.2\"/>\n",
       "<line stroke=\"rgb(0,0,0)\" stroke-width=\"2.0\" x1=\"634.9\" x2=\"653.8\" y1=\"202.9\" y2=\"185.9\"/>\n",
       "<line stroke=\"rgb(0,0,0)\" stroke-width=\"1.0\" x1=\"605.5\" x2=\"606.0\" y1=\"211.6\" y2=\"213.1\"/>\n",
       "<line stroke=\"rgb(0,0,0)\" stroke-width=\"1.0\" x1=\"611.2\" x2=\"612.1\" y1=\"209.1\" y2=\"211.8\"/>\n",
       "<line stroke=\"rgb(0,0,0)\" stroke-width=\"1.0\" x1=\"616.8\" x2=\"618.1\" y1=\"206.6\" y2=\"210.5\"/>\n",
       "<line stroke=\"rgb(0,0,0)\" stroke-width=\"1.0\" x1=\"622.4\" x2=\"624.1\" y1=\"204.1\" y2=\"209.3\"/>\n",
       "<line stroke=\"rgb(0,0,0)\" stroke-width=\"1.0\" x1=\"628.1\" x2=\"630.2\" y1=\"201.6\" y2=\"208.0\"/>\n",
       "<line stroke=\"rgb(0,0,0)\" stroke-width=\"1.0\" x1=\"633.7\" x2=\"636.2\" y1=\"199.1\" y2=\"206.7\"/>\n",
       "<line stroke=\"rgb(0,0,0)\" stroke-width=\"2.0\" x1=\"562.3\" x2=\"562.3\" y1=\"195.6\" y2=\"131.9\"/>\n",
       "<line stroke=\"rgb(0,0,0)\" stroke-width=\"2.0\" x1=\"568.3\" x2=\"568.3\" y1=\"195.6\" y2=\"131.9\"/>\n",
       "<line stroke=\"rgb(0,0,0)\" stroke-width=\"2.0\" x1=\"532.1\" x2=\"510.2\" y1=\"253.0\" y2=\"240.4\"/>\n",
       "<line stroke=\"rgb(0,0,0)\" stroke-width=\"1.0\" x1=\"539.2\" x2=\"538.4\" y1=\"256.2\" y2=\"257.6\"/>\n",
       "<line stroke=\"rgb(0,0,0)\" stroke-width=\"1.0\" x1=\"544.8\" x2=\"543.4\" y1=\"258.7\" y2=\"261.2\"/>\n",
       "<line stroke=\"rgb(0,0,0)\" stroke-width=\"1.0\" x1=\"550.4\" x2=\"548.4\" y1=\"261.2\" y2=\"264.8\"/>\n",
       "<line stroke=\"rgb(0,0,0)\" stroke-width=\"1.0\" x1=\"556.1\" x2=\"553.3\" y1=\"263.7\" y2=\"268.4\"/>\n",
       "<line stroke=\"rgb(0,0,0)\" stroke-width=\"1.0\" x1=\"561.7\" x2=\"558.3\" y1=\"266.2\" y2=\"272.0\"/>\n",
       "<line stroke=\"rgb(0,0,0)\" stroke-width=\"1.0\" x1=\"567.3\" x2=\"563.3\" y1=\"268.7\" y2=\"275.7\"/>\n",
       "<polygon fill=\"rgb(0,0,0)\" points=\"565.323998 272.193199 589.556238 281.564886 585.556238 288.493090 \" stroke=\"rgb(0,0,0)\" stroke-width=\"2.000000\"/>\n",
       "<line stroke=\"rgb(0,0,0)\" stroke-width=\"2.0\" x1=\"499.0\" x2=\"499.0\" y1=\"310.5\" y2=\"335.8\"/>\n",
       "<line stroke=\"rgb(0,0,0)\" stroke-width=\"1.0\" x1=\"498.2\" x2=\"499.8\" y1=\"302.8\" y2=\"302.8\"/>\n",
       "<line stroke=\"rgb(0,0,0)\" stroke-width=\"1.0\" x1=\"497.5\" x2=\"500.4\" y1=\"296.7\" y2=\"296.7\"/>\n",
       "<line stroke=\"rgb(0,0,0)\" stroke-width=\"1.0\" x1=\"496.9\" x2=\"501.0\" y1=\"290.6\" y2=\"290.6\"/>\n",
       "<line stroke=\"rgb(0,0,0)\" stroke-width=\"1.0\" x1=\"496.2\" x2=\"501.7\" y1=\"284.5\" y2=\"284.5\"/>\n",
       "<line stroke=\"rgb(0,0,0)\" stroke-width=\"1.0\" x1=\"495.6\" x2=\"502.3\" y1=\"278.3\" y2=\"278.3\"/>\n",
       "<line stroke=\"rgb(0,0,0)\" stroke-width=\"1.0\" x1=\"495.0\" x2=\"503.0\" y1=\"272.2\" y2=\"272.2\"/>\n",
       "<polygon fill=\"rgb(0,0,0)\" points=\"498.959104 272.193199 530.141551 249.571202 534.141551 256.499405 \" stroke=\"rgb(0,0,0)\" stroke-width=\"2.000000\"/>\n",
       "<line stroke=\"rgb(0,0,0)\" stroke-width=\"2.0\" x1=\"499.0\" x2=\"474.5\" y1=\"272.2\" y2=\"278.7\"/>\n",
       "<line stroke=\"rgb(0,0,0)\" stroke-width=\"2.0\" x1=\"299.9\" x2=\"299.9\" y1=\"310.5\" y2=\"374.1\"/>\n",
       "<line stroke=\"rgb(0,0,0)\" stroke-width=\"1.0\" x1=\"299.1\" x2=\"300.7\" y1=\"267.1\" y2=\"267.1\"/>\n",
       "<line stroke=\"rgb(0,0,0)\" stroke-width=\"1.0\" x1=\"298.4\" x2=\"301.3\" y1=\"263.0\" y2=\"263.0\"/>\n",
       "<line stroke=\"rgb(0,0,0)\" stroke-width=\"1.0\" x1=\"297.8\" x2=\"301.9\" y1=\"258.8\" y2=\"258.8\"/>\n",
       "<line stroke=\"rgb(0,0,0)\" stroke-width=\"1.0\" x1=\"297.1\" x2=\"302.6\" y1=\"254.7\" y2=\"254.7\"/>\n",
       "<line stroke=\"rgb(0,0,0)\" stroke-width=\"1.0\" x1=\"296.5\" x2=\"303.2\" y1=\"250.6\" y2=\"250.6\"/>\n",
       "<line stroke=\"rgb(0,0,0)\" stroke-width=\"1.0\" x1=\"295.9\" x2=\"303.9\" y1=\"246.5\" y2=\"246.5\"/>\n",
       "<polygon fill=\"rgb(0,0,0)\" points=\"299.864422 310.508988 295.864422 272.193199 303.864422 272.193199 \" stroke=\"rgb(0,0,0)\" stroke-width=\"2.000000\"/>\n",
       "<line stroke=\"rgb(0,0,0)\" stroke-width=\"2.0\" x1=\"233.5\" x2=\"211.6\" y1=\"310.5\" y2=\"297.9\"/>\n",
       "<polygon fill=\"rgb(0,0,0)\" points=\"233.499527 310.508988 268.681975 326.202781 264.681975 333.130984 \" stroke=\"rgb(0,0,0)\" stroke-width=\"2.000000\"/>\n",
       "<line stroke=\"rgb(0,0,0)\" stroke-width=\"2.0\" x1=\"266.7\" x2=\"288.6\" y1=\"329.7\" y2=\"342.3\"/>\n",
       "<polygon fill=\"rgb(0,0,0)\" points=\"266.681975 329.666883 297.864422 307.044886 301.864422 313.973090 \" stroke=\"rgb(0,0,0)\" stroke-width=\"2.000000\"/>\n",
       "<line stroke=\"rgb(0,0,0)\" stroke-width=\"1.0\" x1=\"229.1\" x2=\"227.7\" y1=\"396.4\" y2=\"395.6\"/>\n",
       "<line stroke=\"rgb(0,0,0)\" stroke-width=\"1.0\" x1=\"225.5\" x2=\"223.0\" y1=\"403.9\" y2=\"402.4\"/>\n",
       "<line stroke=\"rgb(0,0,0)\" stroke-width=\"1.0\" x1=\"222.0\" x2=\"218.3\" y1=\"411.3\" y2=\"409.2\"/>\n",
       "<line stroke=\"rgb(0,0,0)\" stroke-width=\"1.0\" x1=\"218.4\" x2=\"213.7\" y1=\"418.7\" y2=\"416.0\"/>\n",
       "<line stroke=\"rgb(0,0,0)\" stroke-width=\"1.0\" x1=\"214.8\" x2=\"209.0\" y1=\"426.2\" y2=\"422.8\"/>\n",
       "<line stroke=\"rgb(0,0,0)\" stroke-width=\"1.0\" x1=\"211.3\" x2=\"204.4\" y1=\"433.6\" y2=\"429.6\"/>\n",
       "<line stroke=\"rgb(0,0,0)\" stroke-width=\"2.0\" x1=\"233.5\" x2=\"246.2\" y1=\"387.1\" y2=\"409.1\"/>\n",
       "<line stroke=\"rgb(0,0,0)\" stroke-width=\"1.0\" x1=\"207.4\" x2=\"206.6\" y1=\"371.1\" y2=\"372.5\"/>\n",
       "<line stroke=\"rgb(0,0,0)\" stroke-width=\"1.0\" x1=\"213.0\" x2=\"211.5\" y1=\"373.6\" y2=\"376.1\"/>\n",
       "<line stroke=\"rgb(0,0,0)\" stroke-width=\"1.0\" x1=\"218.6\" x2=\"216.5\" y1=\"376.1\" y2=\"379.7\"/>\n",
       "<line stroke=\"rgb(0,0,0)\" stroke-width=\"1.0\" x1=\"224.2\" x2=\"221.5\" y1=\"378.7\" y2=\"383.4\"/>\n",
       "<line stroke=\"rgb(0,0,0)\" stroke-width=\"1.0\" x1=\"229.9\" x2=\"226.5\" y1=\"381.2\" y2=\"387.0\"/>\n",
       "<line stroke=\"rgb(0,0,0)\" stroke-width=\"1.0\" x1=\"235.5\" x2=\"231.5\" y1=\"383.7\" y2=\"390.6\"/>\n",
       "<line stroke=\"rgb(0,0,0)\" stroke-width=\"2.0\" x1=\"200.3\" x2=\"210.6\" y1=\"368.0\" y2=\"391.1\"/>\n",
       "<line stroke=\"rgb(0,0,0)\" stroke-width=\"1.0\" x1=\"137.7\" x2=\"139.0\" y1=\"345.1\" y2=\"344.2\"/>\n",
       "<line stroke=\"rgb(0,0,0)\" stroke-width=\"1.0\" x1=\"134.8\" x2=\"137.1\" y1=\"342.2\" y2=\"340.5\"/>\n",
       "<line stroke=\"rgb(0,0,0)\" stroke-width=\"1.0\" x1=\"131.8\" x2=\"135.2\" y1=\"339.2\" y2=\"336.8\"/>\n",
       "<line stroke=\"rgb(0,0,0)\" stroke-width=\"1.0\" x1=\"128.9\" x2=\"133.3\" y1=\"336.3\" y2=\"333.1\"/>\n",
       "<line stroke=\"rgb(0,0,0)\" stroke-width=\"1.0\" x1=\"126.0\" x2=\"131.4\" y1=\"333.4\" y2=\"329.4\"/>\n",
       "<line stroke=\"rgb(0,0,0)\" stroke-width=\"1.0\" x1=\"123.0\" x2=\"129.5\" y1=\"330.4\" y2=\"325.7\"/>\n",
       "<line stroke=\"rgb(0,0,0)\" stroke-width=\"1.0\" x1=\"158.7\" x2=\"160.0\" y1=\"374.1\" y2=\"373.2\"/>\n",
       "<line stroke=\"rgb(0,0,0)\" stroke-width=\"1.0\" x1=\"154.6\" x2=\"156.9\" y1=\"369.5\" y2=\"367.8\"/>\n",
       "<line stroke=\"rgb(0,0,0)\" stroke-width=\"1.0\" x1=\"150.5\" x2=\"153.8\" y1=\"364.9\" y2=\"362.5\"/>\n",
       "<line stroke=\"rgb(0,0,0)\" stroke-width=\"1.0\" x1=\"146.4\" x2=\"150.8\" y1=\"360.3\" y2=\"357.1\"/>\n",
       "<line stroke=\"rgb(0,0,0)\" stroke-width=\"1.0\" x1=\"142.2\" x2=\"147.7\" y1=\"355.8\" y2=\"351.8\"/>\n",
       "<line stroke=\"rgb(0,0,0)\" stroke-width=\"1.0\" x1=\"138.1\" x2=\"144.6\" y1=\"351.2\" y2=\"346.5\"/>\n",
       "<line stroke=\"rgb(0,0,0)\" stroke-width=\"2.0\" x1=\"163.9\" x2=\"178.8\" y1=\"379.8\" y2=\"400.3\"/>\n",
       "<polygon fill=\"rgb(0,0,0)\" points=\"141.355143 410.821027 160.640531 377.471761 167.112667 382.174043 \" stroke=\"rgb(0,0,0)\" stroke-width=\"2.000000\"/>\n",
       "<line stroke=\"rgb(0,0,0)\" stroke-width=\"2.0\" x1=\"141.4\" x2=\"136.1\" y1=\"410.8\" y2=\"435.6\"/>\n",
       "<line stroke=\"rgb(0,0,0)\" stroke-width=\"2.0\" x1=\"141.4\" x2=\"160.2\" y1=\"410.8\" y2=\"427.8\"/>\n",
       "<line stroke=\"rgb(0,0,0)\" stroke-width=\"1.0\" x1=\"112.4\" x2=\"112.0\" y1=\"400.6\" y2=\"402.1\"/>\n",
       "<line stroke=\"rgb(0,0,0)\" stroke-width=\"1.0\" x1=\"118.5\" x2=\"117.6\" y1=\"401.9\" y2=\"404.6\"/>\n",
       "<line stroke=\"rgb(0,0,0)\" stroke-width=\"1.0\" x1=\"124.5\" x2=\"123.2\" y1=\"403.2\" y2=\"407.1\"/>\n",
       "<line stroke=\"rgb(0,0,0)\" stroke-width=\"1.0\" x1=\"130.5\" x2=\"128.9\" y1=\"404.4\" y2=\"409.6\"/>\n",
       "<line stroke=\"rgb(0,0,0)\" stroke-width=\"1.0\" x1=\"136.6\" x2=\"134.5\" y1=\"405.7\" y2=\"412.1\"/>\n",
       "<line stroke=\"rgb(0,0,0)\" stroke-width=\"1.0\" x1=\"142.6\" x2=\"140.1\" y1=\"407.0\" y2=\"414.6\"/>\n",
       "<polygon fill=\"rgb(0,0,0)\" points=\"68.474181 387.140567 106.150730 395.176571 103.678594 402.785023 \" stroke=\"rgb(0,0,0)\" stroke-width=\"2.000000\"/>\n",
       "<line stroke=\"rgb(0,0,0)\" stroke-width=\"2.0\" x1=\"68.5\" x2=\"73.7\" y1=\"387.1\" y2=\"362.4\"/>\n",
       "<line stroke=\"rgb(0,0,0)\" stroke-width=\"2.0\" x1=\"68.5\" x2=\"49.7\" y1=\"387.1\" y2=\"370.2\"/>\n",
       "<polygon fill=\"rgb(0,0,0)\" points=\"68.474181 449.136817 52.073002 469.287035 46.719957 463.341877 \" stroke=\"rgb(0,0,0)\" stroke-width=\"2.000000\"/>\n",
       "<line stroke=\"rgb(0,0,0)\" stroke-width=\"2.0\" x1=\"68.5\" x2=\"76.4\" y1=\"449.1\" y2=\"486.6\"/>\n",
       "<line stroke=\"rgb(0,0,0)\" stroke-width=\"2.0\" x1=\"76.4\" x2=\"57.6\" y1=\"486.6\" y2=\"503.6\"/>\n",
       "<line stroke=\"rgb(0,0,0)\" stroke-width=\"2.0\" x1=\"432.6\" x2=\"432.6\" y1=\"272.2\" y2=\"310.5\"/>\n",
       "<line stroke=\"rgb(0,0,0)\" stroke-width=\"2.0\" x1=\"432.6\" x2=\"410.4\" y1=\"310.5\" y2=\"323.3\"/>\n",
       "<line stroke=\"rgb(0,0,0)\" stroke-width=\"2.0\" x1=\"423.8\" x2=\"408.6\" y1=\"307.3\" y2=\"316.0\"/>\n",
       "<line stroke=\"rgb(0,0,0)\" stroke-width=\"2.0\" x1=\"388.2\" x2=\"366.2\" y1=\"323.2\" y2=\"310.5\"/>\n",
       "<line stroke=\"rgb(0,0,0)\" stroke-width=\"2.0\" x1=\"366.2\" x2=\"366.2\" y1=\"310.5\" y2=\"272.2\"/>\n",
       "<line stroke=\"rgb(0,0,0)\" stroke-width=\"2.0\" x1=\"373.4\" x2=\"373.4\" y1=\"304.5\" y2=\"278.2\"/>\n",
       "<line stroke=\"rgb(0,0,0)\" stroke-width=\"2.0\" x1=\"366.2\" x2=\"388.2\" y1=\"272.2\" y2=\"259.5\"/>\n",
       "<line stroke=\"rgb(0,0,0)\" stroke-width=\"2.0\" x1=\"410.4\" x2=\"432.6\" y1=\"259.4\" y2=\"272.2\"/>\n",
       "<line stroke=\"rgb(0,0,0)\" stroke-width=\"2.0\" x1=\"408.6\" x2=\"423.8\" y1=\"266.7\" y2=\"275.4\"/>\n",
       "<line stroke=\"rgb(0,0,0)\" stroke-width=\"2.0\" x1=\"595.3\" x2=\"608.0\" y1=\"100.0\" y2=\"78.1\"/>\n",
       "<line stroke=\"rgb(0,0,0)\" stroke-width=\"2.0\" x1=\"608.0\" x2=\"645.4\" y1=\"78.1\" y2=\"86.1\"/>\n",
       "<line stroke=\"rgb(0,0,0)\" stroke-width=\"2.0\" x1=\"645.4\" x2=\"649.4\" y1=\"86.1\" y2=\"124.2\"/>\n",
       "<line stroke=\"rgb(0,0,0)\" stroke-width=\"2.0\" x1=\"649.4\" x2=\"614.4\" y1=\"124.2\" y2=\"139.8\"/>\n",
       "<line stroke=\"rgb(0,0,0)\" stroke-width=\"2.0\" x1=\"614.4\" x2=\"597.5\" y1=\"139.8\" y2=\"120.9\"/>\n",
       "<line stroke=\"rgb(0,0,0)\" stroke-width=\"2.0\" x1=\"634.9\" x2=\"598.5\" y1=\"264.9\" y2=\"253.0\"/>\n",
       "<line stroke=\"rgb(0,0,0)\" stroke-width=\"2.0\" x1=\"631.5\" x2=\"606.4\" y1=\"256.2\" y2=\"248.0\"/>\n",
       "<line stroke=\"rgb(0,0,0)\" stroke-width=\"2.0\" x1=\"598.5\" x2=\"598.5\" y1=\"253.0\" y2=\"214.7\"/>\n",
       "<line stroke=\"rgb(0,0,0)\" stroke-width=\"2.0\" x1=\"598.5\" x2=\"634.9\" y1=\"214.7\" y2=\"202.9\"/>\n",
       "<line stroke=\"rgb(0,0,0)\" stroke-width=\"2.0\" x1=\"634.9\" x2=\"657.5\" y1=\"202.9\" y2=\"233.9\"/>\n",
       "<line stroke=\"rgb(0,0,0)\" stroke-width=\"2.0\" x1=\"657.5\" x2=\"634.9\" y1=\"233.9\" y2=\"264.9\"/>\n",
       "<line stroke=\"rgb(0,0,0)\" stroke-width=\"2.0\" x1=\"141.4\" x2=\"163.9\" y1=\"348.8\" y2=\"317.8\"/>\n",
       "<line stroke=\"rgb(0,0,0)\" stroke-width=\"2.0\" x1=\"163.9\" x2=\"200.3\" y1=\"317.8\" y2=\"329.7\"/>\n",
       "<line stroke=\"rgb(0,0,0)\" stroke-width=\"2.0\" x1=\"167.4\" x2=\"192.4\" y1=\"326.5\" y2=\"334.7\"/>\n",
       "<line stroke=\"rgb(0,0,0)\" stroke-width=\"2.0\" x1=\"200.3\" x2=\"200.3\" y1=\"329.7\" y2=\"368.0\"/>\n",
       "<line stroke=\"rgb(0,0,0)\" stroke-width=\"2.0\" x1=\"200.3\" x2=\"163.9\" y1=\"368.0\" y2=\"379.8\"/>\n",
       "<line stroke=\"rgb(0,0,0)\" stroke-width=\"2.0\" x1=\"163.9\" x2=\"141.4\" y1=\"379.8\" y2=\"348.8\"/>\n",
       "<line stroke=\"rgb(0,0,0)\" stroke-width=\"2.0\" x1=\"104.9\" x2=\"104.9\" y1=\"399.0\" y2=\"373.7\"/>\n",
       "<line stroke=\"rgb(0,0,0)\" stroke-width=\"2.0\" x1=\"117.3\" x2=\"141.4\" y1=\"356.6\" y2=\"348.8\"/>\n",
       "<line stroke=\"rgb(0,0,0)\" stroke-width=\"2.0\" x1=\"163.9\" x2=\"141.4\" y1=\"379.8\" y2=\"410.8\"/>\n",
       "<line stroke=\"rgb(0,0,0)\" stroke-width=\"2.0\" x1=\"141.4\" x2=\"104.9\" y1=\"410.8\" y2=\"399.0\"/>\n",
       "<line stroke=\"rgb(0,0,0)\" stroke-width=\"2.0\" x1=\"104.9\" x2=\"104.9\" y1=\"424.3\" y2=\"399.0\"/>\n",
       "<line stroke=\"rgb(0,0,0)\" stroke-width=\"2.0\" x1=\"104.9\" x2=\"68.5\" y1=\"399.0\" y2=\"387.1\"/>\n",
       "<line stroke=\"rgb(0,0,0)\" stroke-width=\"2.0\" x1=\"68.5\" x2=\"46.0\" y1=\"387.1\" y2=\"418.1\"/>\n",
       "<line stroke=\"rgb(0,0,0)\" stroke-width=\"2.0\" x1=\"46.0\" x2=\"68.5\" y1=\"418.1\" y2=\"449.1\"/>\n",
       "<line stroke=\"rgb(0,0,0)\" stroke-width=\"2.0\" x1=\"68.5\" x2=\"92.6\" y1=\"449.1\" y2=\"441.3\"/>\n",
       "<line stroke=\"rgb(0,0,0)\" stroke-width=\"2.0\" x1=\"590.4\" x2=\"614.4\" y1=\"147.6\" y2=\"139.8\"/>\n",
       "<line stroke=\"rgb(0,0,0)\" stroke-width=\"2.0\" x1=\"614.4\" x2=\"642.9\" y1=\"139.8\" y2=\"165.4\"/>\n",
       "<line stroke=\"rgb(0,0,0)\" stroke-width=\"2.0\" x1=\"642.9\" x2=\"634.9\" y1=\"165.4\" y2=\"202.9\"/>\n",
       "<line stroke=\"rgb(0,0,0)\" stroke-width=\"2.0\" x1=\"598.5\" x2=\"570.0\" y1=\"214.7\" y2=\"189.1\"/>\n",
       "<line stroke=\"rgb(0,0,0)\" stroke-width=\"2.0\" x1=\"570.0\" x2=\"575.3\" y1=\"189.1\" y2=\"164.3\"/>\n",
       "<line stroke=\"rgb(0,0,0)\" stroke-width=\"2.0\" x1=\"565.3\" x2=\"532.1\" y1=\"195.6\" y2=\"214.7\"/>\n",
       "<line stroke=\"rgb(0,0,0)\" stroke-width=\"2.0\" x1=\"532.1\" x2=\"532.1\" y1=\"214.7\" y2=\"253.0\"/>\n",
       "<line stroke=\"rgb(0,0,0)\" stroke-width=\"2.0\" x1=\"532.1\" x2=\"565.3\" y1=\"253.0\" y2=\"272.2\"/>\n",
       "<line stroke=\"rgb(0,0,0)\" stroke-width=\"2.0\" x1=\"565.3\" x2=\"598.5\" y1=\"272.2\" y2=\"253.0\"/>\n",
       "<line stroke=\"rgb(0,0,0)\" stroke-width=\"2.0\" x1=\"598.5\" x2=\"565.3\" y1=\"214.7\" y2=\"195.6\"/>\n",
       "<line stroke=\"rgb(0,0,0)\" stroke-width=\"2.0\" x1=\"499.0\" x2=\"532.1\" y1=\"310.5\" y2=\"329.7\"/>\n",
       "<line stroke=\"rgb(0,0,0)\" stroke-width=\"2.0\" x1=\"532.1\" x2=\"565.3\" y1=\"329.7\" y2=\"310.5\"/>\n",
       "<line stroke=\"rgb(0,0,0)\" stroke-width=\"2.0\" x1=\"565.3\" x2=\"565.3\" y1=\"310.5\" y2=\"272.2\"/>\n",
       "<line stroke=\"rgb(0,0,0)\" stroke-width=\"2.0\" x1=\"532.1\" x2=\"499.0\" y1=\"253.0\" y2=\"272.2\"/>\n",
       "<line stroke=\"rgb(0,0,0)\" stroke-width=\"2.0\" x1=\"499.0\" x2=\"499.0\" y1=\"272.2\" y2=\"310.5\"/>\n",
       "<line stroke=\"rgb(0,0,0)\" stroke-width=\"2.0\" x1=\"299.9\" x2=\"333.0\" y1=\"272.2\" y2=\"253.0\"/>\n",
       "<line stroke=\"rgb(0,0,0)\" stroke-width=\"2.0\" x1=\"333.0\" x2=\"366.2\" y1=\"253.0\" y2=\"272.2\"/>\n",
       "<line stroke=\"rgb(0,0,0)\" stroke-width=\"2.0\" x1=\"366.2\" x2=\"333.0\" y1=\"310.5\" y2=\"329.7\"/>\n",
       "<line stroke=\"rgb(0,0,0)\" stroke-width=\"2.0\" x1=\"333.0\" x2=\"299.9\" y1=\"329.7\" y2=\"310.5\"/>\n",
       "<line stroke=\"rgb(0,0,0)\" stroke-width=\"2.0\" x1=\"299.9\" x2=\"299.9\" y1=\"310.5\" y2=\"272.2\"/>\n",
       "<line stroke=\"rgb(0,0,0)\" stroke-width=\"2.0\" x1=\"233.5\" x2=\"233.5\" y1=\"310.5\" y2=\"272.2\"/>\n",
       "<line stroke=\"rgb(0,0,0)\" stroke-width=\"2.0\" x1=\"233.5\" x2=\"266.7\" y1=\"272.2\" y2=\"253.0\"/>\n",
       "<line stroke=\"rgb(0,0,0)\" stroke-width=\"2.0\" x1=\"266.7\" x2=\"299.9\" y1=\"253.0\" y2=\"272.2\"/>\n",
       "<line stroke=\"rgb(0,0,0)\" stroke-width=\"2.0\" x1=\"299.9\" x2=\"266.7\" y1=\"310.5\" y2=\"329.7\"/>\n",
       "<line stroke=\"rgb(0,0,0)\" stroke-width=\"2.0\" x1=\"266.7\" x2=\"233.5\" y1=\"329.7\" y2=\"310.5\"/>\n",
       "<line stroke=\"rgb(0,0,0)\" stroke-width=\"2.0\" x1=\"499.0\" x2=\"465.8\" y1=\"272.2\" y2=\"253.0\"/>\n",
       "<line stroke=\"rgb(0,0,0)\" stroke-width=\"2.0\" x1=\"465.8\" x2=\"432.6\" y1=\"253.0\" y2=\"272.2\"/>\n",
       "<line stroke=\"rgb(0,0,0)\" stroke-width=\"2.0\" x1=\"432.6\" x2=\"465.8\" y1=\"310.5\" y2=\"329.7\"/>\n",
       "<line stroke=\"rgb(0,0,0)\" stroke-width=\"2.0\" x1=\"465.8\" x2=\"499.0\" y1=\"329.7\" y2=\"310.5\"/>\n",
       "<line stroke=\"rgb(0,0,0)\" stroke-width=\"2.0\" x1=\"266.7\" x2=\"233.5\" y1=\"368.0\" y2=\"387.1\"/>\n",
       "<line stroke=\"rgb(0,0,0)\" stroke-width=\"2.0\" x1=\"233.5\" x2=\"200.3\" y1=\"387.1\" y2=\"368.0\"/>\n",
       "<line stroke=\"rgb(0,0,0)\" stroke-width=\"2.0\" x1=\"200.3\" x2=\"233.5\" y1=\"329.7\" y2=\"310.5\"/>\n",
       "<line stroke=\"rgb(0,0,0)\" stroke-width=\"2.0\" x1=\"266.7\" x2=\"266.7\" y1=\"329.7\" y2=\"368.0\"/>\n",
       "<text fill=\"rgb(102,102,102)\" font-size=\"16\" stroke=\"rgb(102,102,102)\" stroke-width=\"1\" x=\"607.963764\" y=\"48.000000\">CH</text>\n",
       "<text fill=\"rgb(102,102,102)\" font-size=\"13\" stroke=\"rgb(102,102,102)\" stroke-width=\"1\" x=\"631.963764\" y=\"51.680000\">3</text>\n",
       "<text fill=\"rgb(102,102,102)\" font-size=\"16\" stroke=\"rgb(102,102,102)\" stroke-width=\"1\" x=\"550.960549\" y=\"63.584436\">H</text>\n",
       "<text fill=\"rgb(102,102,102)\" font-size=\"13\" stroke=\"rgb(102,102,102)\" stroke-width=\"1\" x=\"562.960549\" y=\"67.264436\">3</text>\n",
       "<text fill=\"rgb(102,102,102)\" font-size=\"16\" stroke=\"rgb(102,102,102)\" stroke-width=\"1\" x=\"569.460549\" y=\"63.584436\">C</text>\n",
       "<text fill=\"rgb(255,12,12)\" font-size=\"16\" stroke=\"rgb(255,12,12)\" stroke-width=\"1\" x=\"582.800779\" y=\"119.288339\">O</text>\n",
       "<text fill=\"rgb(191,191,191)\" font-size=\"16\" stroke=\"rgb(191,191,191)\" stroke-width=\"1\" x=\"662.600156\" y=\"165.360531\">H</text>\n",
       "<text fill=\"rgb(255,12,12)\" font-size=\"16\" stroke=\"rgb(255,12,12)\" stroke-width=\"1\" x=\"681.758051\" y=\"132.178084\">OH</text>\n",
       "<text fill=\"rgb(255,12,12)\" font-size=\"16\" stroke=\"rgb(255,12,12)\" stroke-width=\"1\" x=\"571.998565\" y=\"159.602749\">O</text>\n",
       "<text fill=\"rgb(191,191,191)\" font-size=\"16\" stroke=\"rgb(191,191,191)\" stroke-width=\"1\" x=\"711.870222\" y=\"189.333388\">H</text>\n",
       "<text fill=\"rgb(102,102,102)\" font-size=\"16\" stroke=\"rgb(102,102,102)\" stroke-width=\"1\" x=\"664.551494\" y=\"144.926606\">CH</text>\n",
       "<text fill=\"rgb(102,102,102)\" font-size=\"13\" stroke=\"rgb(102,102,102)\" stroke-width=\"1\" x=\"688.551494\" y=\"148.606606\">3</text>\n",
       "<text fill=\"rgb(191,191,191)\" font-size=\"16\" stroke=\"rgb(191,191,191)\" stroke-width=\"1\" x=\"657.421107\" y=\"185.241017\">H</text>\n",
       "<text fill=\"rgb(255,12,12)\" font-size=\"16\" stroke=\"rgb(255,12,12)\" stroke-width=\"1\" x=\"559.323998\" y=\"126.930041\">O</text>\n",
       "<text fill=\"rgb(191,191,191)\" font-size=\"16\" stroke=\"rgb(191,191,191)\" stroke-width=\"1\" x=\"492.959104\" y=\"241.877409\">H</text>\n",
       "<text fill=\"rgb(191,191,191)\" font-size=\"16\" stroke=\"rgb(191,191,191)\" stroke-width=\"1\" x=\"592.506445\" y=\"299.351093\">H</text>\n",
       "<text fill=\"rgb(191,191,191)\" font-size=\"16\" stroke=\"rgb(191,191,191)\" stroke-width=\"1\" x=\"492.959104\" y=\"356.824778\">H</text>\n",
       "<text fill=\"rgb(102,102,102)\" font-size=\"16\" stroke=\"rgb(102,102,102)\" stroke-width=\"1\" x=\"435.948893\" y=\"290.110055\">H</text>\n",
       "<text fill=\"rgb(102,102,102)\" font-size=\"13\" stroke=\"rgb(102,102,102)\" stroke-width=\"1\" x=\"447.948893\" y=\"293.790055\">3</text>\n",
       "<text fill=\"rgb(102,102,102)\" font-size=\"16\" stroke=\"rgb(102,102,102)\" stroke-width=\"1\" x=\"454.448893\" y=\"290.110055\">C</text>\n",
       "<text fill=\"rgb(12,12,255)\" font-size=\"16\" stroke=\"rgb(12,12,255)\" stroke-width=\"1\" x=\"393.411763\" y=\"261.035304\">N</text>\n",
       "<text fill=\"rgb(12,12,255)\" font-size=\"16\" stroke=\"rgb(12,12,255)\" stroke-width=\"1\" x=\"393.411763\" y=\"337.666883\">N</text>\n",
       "<text fill=\"rgb(102,102,102)\" font-size=\"16\" stroke=\"rgb(102,102,102)\" stroke-width=\"1\" x=\"295.864422\" y=\"395.140567\">CH</text>\n",
       "<text fill=\"rgb(102,102,102)\" font-size=\"13\" stroke=\"rgb(102,102,102)\" stroke-width=\"1\" x=\"319.864422\" y=\"398.820567\">3</text>\n",
       "<text fill=\"rgb(191,191,191)\" font-size=\"16\" stroke=\"rgb(191,191,191)\" stroke-width=\"1\" x=\"293.864422\" y=\"241.877409\">H</text>\n",
       "<text fill=\"rgb(191,191,191)\" font-size=\"16\" stroke=\"rgb(191,191,191)\" stroke-width=\"1\" x=\"194.317080\" y=\"299.351093\">H</text>\n",
       "<text fill=\"rgb(191,191,191)\" font-size=\"16\" stroke=\"rgb(191,191,191)\" stroke-width=\"1\" x=\"293.864422\" y=\"356.824778\">H</text>\n",
       "<text fill=\"rgb(191,191,191)\" font-size=\"16\" stroke=\"rgb(191,191,191)\" stroke-width=\"1\" x=\"189.183738\" y=\"461.505461\">H</text>\n",
       "<text fill=\"rgb(255,12,12)\" font-size=\"16\" stroke=\"rgb(255,12,12)\" stroke-width=\"1\" x=\"246.657422\" y=\"428.323014\">OH</text>\n",
       "<text fill=\"rgb(102,102,102)\" font-size=\"16\" stroke=\"rgb(102,102,102)\" stroke-width=\"1\" x=\"211.901516\" y=\"410.985888\">CH</text>\n",
       "<text fill=\"rgb(102,102,102)\" font-size=\"13\" stroke=\"rgb(102,102,102)\" stroke-width=\"1\" x=\"235.901516\" y=\"414.665888\">3</text>\n",
       "<text fill=\"rgb(191,191,191)\" font-size=\"16\" stroke=\"rgb(191,191,191)\" stroke-width=\"1\" x=\"112.833687\" y=\"325.826653\">H</text>\n",
       "<text fill=\"rgb(255,12,12)\" font-size=\"16\" stroke=\"rgb(255,12,12)\" stroke-width=\"1\" x=\"98.914662\" y=\"368.665008\">O</text>\n",
       "<text fill=\"rgb(255,12,12)\" font-size=\"16\" stroke=\"rgb(255,12,12)\" stroke-width=\"1\" x=\"180.398055\" y=\"418.821027\">OH</text>\n",
       "<text fill=\"rgb(191,191,191)\" font-size=\"16\" stroke=\"rgb(191,191,191)\" stroke-width=\"1\" x=\"127.388843\" y=\"456.299525\">H</text>\n",
       "<text fill=\"rgb(102,102,102)\" font-size=\"16\" stroke=\"rgb(102,102,102)\" stroke-width=\"1\" x=\"165.829324\" y=\"444.459295\">CH</text>\n",
       "<text fill=\"rgb(102,102,102)\" font-size=\"13\" stroke=\"rgb(102,102,102)\" stroke-width=\"1\" x=\"189.829324\" y=\"448.139295\">3</text>\n",
       "<text fill=\"rgb(255,12,12)\" font-size=\"16\" stroke=\"rgb(255,12,12)\" stroke-width=\"1\" x=\"98.914662\" y=\"445.296587\">O</text>\n",
       "<text fill=\"rgb(191,191,191)\" font-size=\"16\" stroke=\"rgb(191,191,191)\" stroke-width=\"1\" x=\"70.440481\" y=\"357.662069\">H</text>\n",
       "<text fill=\"rgb(255,12,12)\" font-size=\"16\" stroke=\"rgb(255,12,12)\" stroke-width=\"1\" x=\"22.000000\" y=\"369.502300\">HO</text>\n",
       "<text fill=\"rgb(102,102,102)\" font-size=\"16\" stroke=\"rgb(102,102,102)\" stroke-width=\"1\" x=\"14.000000\" y=\"482.775084\">H</text>\n",
       "<text fill=\"rgb(102,102,102)\" font-size=\"13\" stroke=\"rgb(102,102,102)\" stroke-width=\"1\" x=\"26.000000\" y=\"486.455084\">3</text>\n",
       "<text fill=\"rgb(102,102,102)\" font-size=\"16\" stroke=\"rgb(102,102,102)\" stroke-width=\"1\" x=\"32.500000\" y=\"482.775084\">C</text>\n",
       "<text fill=\"rgb(255,12,12)\" font-size=\"16\" stroke=\"rgb(255,12,12)\" stroke-width=\"1\" x=\"29.966301\" y=\"520.253582\">HO</text>\n",
       "</svg>\n",
       "</g>\n",
       "<text fill=\"black\" font-family=\"sans-serif\" font-size=\"18.000000\" x=\"10.000000\" y=\"20.000000\"/>\n",
       "</svg>"
      ],
      "text/plain": [
       "<IPython.core.display.SVG object>"
      ]
     },
     "execution_count": 60,
     "metadata": {},
     "output_type": "execute_result"
    }
   ],
   "source": [
    "smi='CC(C)(O1)C[C@@H](O)[C@@]1(O2)[C@@H](C)[C@@H]3CC=C4[C@]3(C2)C(=O)C[C@H]5[C@H]4CC[C@@H](C6)[C@]5(C)Cc(n7)c6nc(C[C@@]89(C))c7C[C@@H]8CC[C@@H]%10[C@@H]9C[C@@H](O)[C@@]%11(C)C%10=C[C@H](O%12)[C@]%11(O)[C@H](C)[C@]%12(O%13)[C@H](O)C[C@@]%13(C)CO'\n",
    "smile(smi)"
   ]
  },
  {
   "cell_type": "markdown",
   "metadata": {},
   "source": [
    "## Other examples"
   ]
  },
  {
   "cell_type": "markdown",
   "metadata": {},
   "source": [
    "[Daylight's depict utility provides users with the means to check their own examples of SMILES and is a valuable\n",
    "educational tool](http://www.daylight.com/dayhtml/doc/theory/theory.smiles.html);"
   ]
  }
 ],
 "metadata": {
  "kernelspec": {
   "display_name": "Python 3",
   "language": "python",
   "name": "python3"
  },
  "language_info": {
   "codemirror_mode": {
    "name": "ipython",
    "version": 3
   },
   "file_extension": ".py",
   "mimetype": "text/x-python",
   "name": "python",
   "nbconvert_exporter": "python",
   "pygments_lexer": "ipython3",
   "version": "3.6.5"
  },
  "toc": {
   "base_numbering": 1,
   "nav_menu": {},
   "number_sections": true,
   "sideBar": true,
   "skip_h1_title": false,
   "title_cell": "Table of Contents",
   "title_sidebar": "Contents",
   "toc_cell": false,
   "toc_position": {
    "height": "337px",
    "left": "31px",
    "top": "0px",
    "width": "165px"
   },
   "toc_section_display": true,
   "toc_window_display": false
  }
 },
 "nbformat": 4,
 "nbformat_minor": 2
}
