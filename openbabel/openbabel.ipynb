{
 "cells": [
  {
   "cell_type": "markdown",
   "metadata": {},
   "source": [
    "# openbabel的安装和使用(python3.6)"
   ]
  },
  {
   "cell_type": "markdown",
   "metadata": {},
   "source": [
    "## OpenBabel的安装"
   ]
  },
  {
   "cell_type": "markdown",
   "metadata": {},
   "source": [
    " 1. **OpenBabel**: 对化学数据进行查询, 转换, 分析和存储的开源项目;  "
   ]
  },
  {
   "cell_type": "markdown",
   "metadata": {},
   "source": [
    " 2. **OpenBabel的GUI**(windows): http://openbabel.org/wiki/Category:Installation;  "
   ]
  },
  {
   "cell_type": "markdown",
   "metadata": {},
   "source": [
    " 3. **OpenBabel的Python绑定**: https://pypi.org/project/openbabel/;   \n",
    "    * `pip install openbabel`同时安装了openbabel和pybel两个模块;\n",
    "    * 避免使用pip3单独安装`PyBEL`, 它是一个与此无关的另一个项目;\n",
    "    * **openbabel**: OpenBabel 的标准绑定, 由`SWIG(C++->python)`产生;  \n",
    "    * **pybel**: 比 openbabel 更轻便的模块包; "
   ]
  },
  {
   "cell_type": "markdown",
   "metadata": {},
   "source": [
    " 4. 在CMD测试GUI是否安装正确"
   ]
  },
  {
   "cell_type": "code",
   "execution_count": 1,
   "metadata": {},
   "outputs": [],
   "source": [
    "%%pass \n",
    "!obabel -V #显示版本信息: Open Babel 2.4.1 -- Oct 10 2016 -- 21:27:47\n",
    "!obabel -Hsdf > ./data/obabel-hsdf.txt # 将输出写入文件"
   ]
  },
  {
   "cell_type": "markdown",
   "metadata": {},
   "source": [
    "5. 在Python下检查模块`pybel`是否安装正确"
   ]
  },
  {
   "cell_type": "code",
   "execution_count": 2,
   "metadata": {},
   "outputs": [
    {
     "data": {
      "image/svg+xml": [
       "<svg xmlns=\"http://www.w3.org/2000/svg\" font-family=\"sans-serif\" height=\"100\" stroke=\"rgb(0,0,0)\" stroke-linecap=\"round\" stroke-width=\"2\" viewBox=\"0 0 149.282 140\" width=\"100\" x=\"0\" y=\"0\">\n",
       "<line stroke=\"rgb(0,0,0)\" stroke-width=\"2.0\" x1=\"98.0\" x2=\"74.6\" y1=\"93.5\" y2=\"80.0\" />\n",
       "<line stroke=\"rgb(0,0,0)\" stroke-width=\"2.0\" x1=\"71.6\" x2=\"71.6\" y1=\"80.0\" y2=\"53.0\" />\n",
       "<line stroke=\"rgb(0,0,0)\" stroke-width=\"2.0\" x1=\"77.6\" x2=\"77.6\" y1=\"80.0\" y2=\"53.0\" />\n",
       "<line stroke=\"rgb(0,0,0)\" stroke-width=\"2.0\" x1=\"74.6\" x2=\"51.3\" y1=\"80.0\" y2=\"93.5\" />\n",
       "<text fill=\"rgb(102,102,102)\" font-size=\"16\" stroke=\"rgb(102,102,102)\" stroke-width=\"1\" x=\"105.282032\" y=\"108.000000\">CH</text>\n",
       "<text fill=\"rgb(102,102,102)\" font-size=\"13\" stroke=\"rgb(102,102,102)\" stroke-width=\"1\" x=\"129.282032\" y=\"111.680000\">3</text>\n",
       "<text fill=\"rgb(255,12,12)\" font-size=\"16\" stroke=\"rgb(255,12,12)\" stroke-width=\"1\" x=\"68.641016\" y=\"48.000000\">O</text>\n",
       "<text fill=\"rgb(165,40,40)\" font-size=\"16\" stroke=\"rgb(165,40,40)\" stroke-width=\"1\" x=\"22.000000\" y=\"108.000000\">Br</text>\n",
       "</svg>\n"
      ],
      "text/plain": [
       "<pybel.Molecule at 0x1d4621cd860>"
      ]
     },
     "execution_count": 2,
     "metadata": {},
     "output_type": "execute_result"
    }
   ],
   "source": [
    "import pybel\n",
    "mol = pybel.readstring(\"smi\", \"CC(=O)Br\")\n",
    "mol   # mol.draw() #使用`tkinter`显示文件"
   ]
  },
  {
   "cell_type": "code",
   "execution_count": 3,
   "metadata": {},
   "outputs": [
    {
     "data": {
      "image/svg+xml": [
       "<svg xmlns=\"http://www.w3.org/2000/svg\" font-family=\"sans-serif\" height=\"100\" stroke=\"rgb(0,0,0)\" stroke-linecap=\"round\" stroke-width=\"2\" viewBox=\"0 0 189.282 180\" width=\"100\" x=\"0\" y=\"0\">\n",
       "<line stroke=\"rgb(0,0,0)\" stroke-width=\"2.0\" x1=\"109.3\" x2=\"74.6\" y1=\"100.0\" y2=\"80.0\" />\n",
       "<line stroke=\"rgb(0,0,0)\" stroke-width=\"2.0\" x1=\"71.6\" x2=\"71.6\" y1=\"80.0\" y2=\"53.0\" />\n",
       "<line stroke=\"rgb(0,0,0)\" stroke-width=\"2.0\" x1=\"77.6\" x2=\"77.6\" y1=\"80.0\" y2=\"53.0\" />\n",
       "<line stroke=\"rgb(0,0,0)\" stroke-width=\"2.0\" x1=\"74.6\" x2=\"51.3\" y1=\"80.0\" y2=\"93.5\" />\n",
       "<line stroke=\"rgb(0,0,0)\" stroke-width=\"2.0\" x1=\"109.3\" x2=\"136.3\" y1=\"100.0\" y2=\"100.0\" />\n",
       "<line stroke=\"rgb(0,0,0)\" stroke-width=\"2.0\" x1=\"109.3\" x2=\"122.8\" y1=\"100.0\" y2=\"76.6\" />\n",
       "<line stroke=\"rgb(0,0,0)\" stroke-width=\"2.0\" x1=\"109.3\" x2=\"109.3\" y1=\"100.0\" y2=\"127.0\" />\n",
       "<text fill=\"rgb(255,12,12)\" font-size=\"16\" stroke=\"rgb(255,12,12)\" stroke-width=\"1\" x=\"68.641016\" y=\"48.000000\">O</text>\n",
       "<text fill=\"rgb(165,40,40)\" font-size=\"16\" stroke=\"rgb(165,40,40)\" stroke-width=\"1\" x=\"22.000000\" y=\"108.000000\">Br</text>\n",
       "<text fill=\"rgb(191,191,191)\" font-size=\"16\" stroke=\"rgb(191,191,191)\" stroke-width=\"1\" x=\"143.282032\" y=\"108.000000\">H</text>\n",
       "<text fill=\"rgb(191,191,191)\" font-size=\"16\" stroke=\"rgb(191,191,191)\" stroke-width=\"1\" x=\"123.282032\" y=\"73.358984\">H</text>\n",
       "<text fill=\"rgb(191,191,191)\" font-size=\"16\" stroke=\"rgb(191,191,191)\" stroke-width=\"1\" x=\"103.282032\" y=\"148.000000\">H</text>\n",
       "</svg>\n"
      ],
      "text/plain": [
       "<pybel.Molecule at 0x1d4621cd860>"
      ]
     },
     "execution_count": 3,
     "metadata": {},
     "output_type": "execute_result"
    }
   ],
   "source": [
    "mol.make3D() # 从smi格式创建3D格式\n",
    "mol"
   ]
  },
  {
   "cell_type": "code",
   "execution_count": 4,
   "metadata": {},
   "outputs": [
    {
     "name": "stdout",
     "output_type": "stream",
     "text": [
      "\n",
      " OpenBabel10231806153D\n",
      "\n",
      "  7  6  0  0  0  0  0  0  0  0999 V2000\n",
      "    1.0761   -0.0766   -0.0519 C   0  0  0  0  0  0  0  0  0  0  0  0\n",
      "    2.5725   -0.0519   -0.0352 C   0  0  0  0  0  0  0  0  0  0  0  0\n",
      "    3.2480    0.7916    0.5368 O   0  0  0  0  0  0  0  0  0  0  0  0\n",
      "    3.4976   -1.4012   -0.9501 Br  0  0  0  0  0  0  0  0  0  0  0  0\n",
      "    0.6934    0.7713    0.5230 H   0  0  0  0  0  0  0  0  0  0  0  0\n",
      "    0.7134   -1.0015    0.4035 H   0  0  0  0  0  0  0  0  0  0  0  0\n",
      "    0.7134    0.0042   -1.0798 H   0  0  0  0  0  0  0  0  0  0  0  0\n",
      "  1  2  1  0  0  0  0\n",
      "  1  5  1  0  0  0  0\n",
      "  1  6  1  0  0  0  0\n",
      "  1  7  1  0  0  0  0\n",
      "  2  3  2  0  0  0  0\n",
      "  2  4  1  0  0  0  0\n",
      "M  END\n",
      "$$$$\n",
      "\n"
     ]
    }
   ],
   "source": [
    "print(mol.write(\"sdf\")) #将分子信息写入sdf字符串"
   ]
  },
  {
   "cell_type": "code",
   "execution_count": 5,
   "metadata": {},
   "outputs": [],
   "source": [
    "%%pass #将分子信息写入sdf文件\n",
    "mol.write(format=\"sdf\",filename='data/CCOBr.sdf') "
   ]
  },
  {
   "cell_type": "markdown",
   "metadata": {},
   "source": [
    "6. 在Python下检查模块`openbabel`是否安装正确"
   ]
  },
  {
   "cell_type": "code",
   "execution_count": 6,
   "metadata": {},
   "outputs": [],
   "source": [
    "import openbabel #不报错即使安装正确"
   ]
  },
  {
   "cell_type": "markdown",
   "metadata": {},
   "source": [
    "## openbabel模块"
   ]
  },
  {
   "cell_type": "markdown",
   "metadata": {},
   "source": [
    "**OpenBabel**中的对象类型:  \n",
    "**OBMol**, **OBAtom**, **OBBond**, **OBResidue**(残基对象), **OBConversion**(转换对象);"
   ]
  },
  {
   "cell_type": "markdown",
   "metadata": {},
   "source": [
    "使用类**OBMol**, **OBAtom**, **OBBond**一个接一个的创建原子和键"
   ]
  },
  {
   "cell_type": "code",
   "execution_count": 7,
   "metadata": {
    "code_folding": []
   },
   "outputs": [
    {
     "name": "stdout",
     "output_type": "stream",
     "text": [
      "mol.NumAtoms()  mol.NumBonds()\n",
      "--------------  --------------\n",
      "2               1             \n"
     ]
    },
    {
     "data": {
      "text/plain": [
       "True"
      ]
     },
     "execution_count": 7,
     "metadata": {},
     "output_type": "execute_result"
    }
   ],
   "source": [
    "import openbabel\n",
    "\n",
    "# 建立分子对象mol, 此时mol中没有原子\n",
    "mol = openbabel.OBMol() \n",
    "\n",
    "# 在分子对象上建立原子对象a, \n",
    "a = mol.NewAtom()\n",
    "a.SetAtomicNum(6) # 设置a的原子类型为C原子\n",
    "a.SetVector(0.0, 1.0, 2.0) # 设置C原子的空间位置\n",
    "\n",
    "#在mol中添加原子b\n",
    "b = mol.NewAtom() \n",
    "\n",
    "# 在mol中添加键\n",
    "mol.AddBond(1, 2, 1) #在第一个原子和第二个原子之间添加单键\n",
    "\n",
    "# 查看分子内的原子数和成键数\n",
    "%C mol.NumAtoms(); mol.NumBonds()\n",
    "mol.Clear() #清除分子信息"
   ]
  },
  {
   "cell_type": "markdown",
   "metadata": {},
   "source": [
    "> `mol.draw()`: pybel的Molecule对象有, 而openbabel的OBMol对象没有;"
   ]
  },
  {
   "cell_type": "markdown",
   "metadata": {},
   "source": [
    "使用**OBConversion**类, 将`SMI字符串`的结构信息读入到空白分子中, 然后将分子对象`充满H原子`, 最后将分子信息写入一个`MDL字符串`;"
   ]
  },
  {
   "cell_type": "code",
   "execution_count": 8,
   "metadata": {},
   "outputs": [
    {
     "name": "stdout",
     "output_type": "stream",
     "text": [
      "num1#填充H之前的原子数  num2#填充H之后的原子数\n",
      "--------------  --------------\n",
      "5               9             \n"
     ]
    }
   ],
   "source": [
    "import openbabel\n",
    "\n",
    "# 创建一个OB转换对象\n",
    "obConversion = openbabel.OBConversion()\n",
    "obConversion.SetInAndOutFormats(\"smi\", \"mdl\") #同时设置输入文件和输出文件的格式\n",
    "\n",
    "# 创建一个分子对象\n",
    "mol = openbabel.OBMol()\n",
    "\n",
    "# 往分子对象中读入结构信息, \n",
    "obConversion.ReadString(mol, \"C1=CC=CS1\")\n",
    "num1 = mol.NumAtoms()\n",
    "\n",
    "# 往分子结构中填充H原子 \n",
    "mol.AddHydrogens()   \n",
    "num2 = mol.NumAtoms()\n",
    "\n",
    "%C num1#填充H之前的原子数 ; num2#填充H之后的原子数"
   ]
  },
  {
   "cell_type": "code",
   "execution_count": 9,
   "metadata": {},
   "outputs": [
    {
     "name": "stdout",
     "output_type": "stream",
     "text": [
      "OpenBabel10231806162D\n",
      "\n",
      "  9  9  0  0  0  0  0  0  0  0999 V2000\n",
      "    0.0000    0.0000    0.0000 C   0  0  0  0  0  0  0  0  0  0  0  0\n",
      "    0.0000    0.0000    0.0000 C   0  0  0  0  0  0  0  0  0  0  \n"
     ]
    }
   ],
   "source": [
    "# 将分子写入一个MDL字符串 \n",
    "outMDL = obConversion.WriteString(mol)\n",
    "print(outMDL[2:200])"
   ]
  },
  {
   "cell_type": "markdown",
   "metadata": {},
   "source": [
    "文件格式转换: 从文件1读入分子信息, 然后写入文件2;"
   ]
  },
  {
   "cell_type": "code",
   "execution_count": 10,
   "metadata": {},
   "outputs": [
    {
     "name": "stdout",
     "output_type": "stream",
     "text": [
      "mol.NumAtoms()  mol.NumBonds()  mol.NumResidues()\n",
      "--------------  --------------  -----------------\n",
      "25              26              1                \n"
     ]
    },
    {
     "data": {
      "text/plain": [
       "True"
      ]
     },
     "execution_count": 10,
     "metadata": {},
     "output_type": "execute_result"
    }
   ],
   "source": [
    "import openbabel\n",
    "\n",
    "obConversion = openbabel.OBConversion()\n",
    "obConversion.SetInAndOutFormats(\"pdb\", \"mol2\")\n",
    "\n",
    "mol = openbabel.OBMol()\n",
    "obConversion.ReadFile(mol, \"data/serotonin.pdb\")   # 文件扩展名可以是`.mol.gz`,自动解压\n",
    "mol.AddHydrogens()\n",
    "\n",
    "%C mol.NumAtoms(); mol.NumBonds(); mol.NumResidues()\n",
    "\n",
    "obConversion.WriteFile(mol, 'data/serotonin.mol2')\n",
    "obConversion.CloseOutFile()\n",
    "mol.Clear()"
   ]
  },
  {
   "cell_type": "markdown",
   "metadata": {},
   "source": [
    "迭代器类, **类名含有Iter的类**"
   ]
  },
  {
   "cell_type": "markdown",
   "metadata": {},
   "source": [
    "**OBAtomAtomIter, OBAtomBondIter**: 给定`原子对象`, 迭代其`近邻原子和近邻键`;  \n",
    "**OBMolAtomIter, OBMolBondIter, OBMolAngleIter, OBMolTorsionIter, OBMolRingIter**: 给定`分子对象`, 迭代所有的`原子,键,键角,扭转角和环`;    \n",
    "\n",
    "**OBMolAtomBFSIter**: 给定`分子对象和原子索引`, 以`广度优先的方式`(breadth-first)遍历所有的近邻原子, 返回`原子对象和原子对象的深度`(由breadth-first定义);   \n",
    "\n",
    "**OBMolPairIter**: 给定`分子对象`, 迭代所有的`原子对`(由三个键分隔的);  \n",
    "\n",
    "**OBResidueIter**: 给定`蛋白质对象`(分子对象), 迭代所有的`残基对象`(蛋白质脱水后剩余的结构);   \n",
    "**OBResidueAtomIter**: 给定`残基对象`, 迭代所有的`原子对象`; "
   ]
  },
  {
   "cell_type": "code",
   "execution_count": 11,
   "metadata": {},
   "outputs": [],
   "source": [
    "%%pass # 迭代类的使用方式\n",
    "for obatom in openbabel.OBMolAtomIter(obmol):\n",
    "    print(obatom.GetAtomicMass())"
   ]
  },
  {
   "cell_type": "markdown",
   "metadata": {},
   "source": [
    "Note that OBMolTorsionIter returns atom IDs which are off by one. That is, you need to add one to each ID to get the correct ID. Also, if you add or remove atoms, you will need to delete the existing TorsionData before using OBMolTorsionIter."
   ]
  },
  {
   "cell_type": "code",
   "execution_count": 12,
   "metadata": {},
   "outputs": [],
   "source": [
    "%%pass  #delete the existing TorsionData before using OBMolTorsionIter. \n",
    "mol.DeleteData(openbabel.TorsionData)"
   ]
  },
  {
   "cell_type": "markdown",
   "metadata": {},
   "source": [
    "> 单键旋转时, 相邻碳上的其他键会交叉成一定的角度, 称为**扭转角**;   \n",
    "扭转角是0°的构象为`重叠构象`, 扭转角是180°的构象为`反错构象`, 扭转角是60°的构象是`邻位交叉构象`;"
   ]
  },
  {
   "cell_type": "markdown",
   "metadata": {},
   "source": [
    "使用**double_array()**函数创建一个`double数组`"
   ]
  },
  {
   "cell_type": "code",
   "execution_count": 13,
   "metadata": {},
   "outputs": [],
   "source": [
    "%%pass \n",
    "bMol.Rotate([1.0, -54.7, 3]) #Error\n",
    "# 旋转矩阵的元素类型必须是C double;\n",
    "myarray = openbabel.double_array([1.0, -54.7, 3])\n",
    "obMol.Rotate(myarray)"
   ]
  },
  {
   "cell_type": "markdown",
   "metadata": {},
   "source": [
    "访问**OBGenericData**的子类: **OBPairData**, **OBUnitCell** "
   ]
  },
  {
   "cell_type": "code",
   "execution_count": 14,
   "metadata": {},
   "outputs": [],
   "source": [
    "%%pass toPairData( obgMol.GetData() )\n",
    "\n",
    "pairdata = [openbabel.toPairData(x) for x in obMol.GetData()\n",
    "if x.GetDataType()==openbabel.PairData]\n",
    "print( pairdata[0].GetAttribute(), pairdata[0].GetValue())\n",
    "\n",
    "unitcell = openbabel.toUnitCell(obMol.GetData(openbabel.UnitCell))\n",
    "print( unitcell.GetAlpha(), unitcell.GetSpaceGroup())"
   ]
  },
  {
   "cell_type": "markdown",
   "metadata": {},
   "source": [
    "FastSearch(): 指纹快速搜索;  \n",
    "**OpenInAndOutFiles()**: 同时打开输入文件和输出文件;"
   ]
  },
  {
   "cell_type": "code",
   "execution_count": 15,
   "metadata": {},
   "outputs": [
    {
     "name": "stdout",
     "output_type": "stream",
     "text": [
      "@data/150mols.smi>>                               \n",
      "  1: CC1=CC(=O)C=CC1=O\t1\n",
      "  2: S(SC1=NC2=CC=CC=C2S1)C3=NC4=C(S3)C=CC=C4\t2\n"
     ]
    }
   ],
   "source": [
    "# 待搜索文件\n",
    "br.showfile('data/150mols.smi',nhead=2)"
   ]
  },
  {
   "cell_type": "code",
   "execution_count": 16,
   "metadata": {},
   "outputs": [],
   "source": [
    "# 将分子骨架文件转换成快速搜索文件: smi->fs\n",
    "import openbabel\n",
    "conv = openbabel.OBConversion()\n",
    "conv.OpenInAndOutFiles(\"data/150mols.smi\",\"data/index.fs\") #输入文件存在的话返回True, 并自动创建输出文件;\n",
    "conv.SetInAndOutFormats(\"smi\",\"fs\") #同时设置输入文件和输出文件的格式\n",
    "conv.Convert() #将输入文件转化为输出文件\n",
    "conv.CloseOutFile() #使用转换器关闭文件"
   ]
  },
  {
   "cell_type": "code",
   "execution_count": 17,
   "metadata": {},
   "outputs": [],
   "source": [
    "# 在快搜文件下进行指纹检索, 然后将结果保存成骨架文件: fs->smi\n",
    "conv.OpenInAndOutFiles(\"data/index.fs\",\"data/results.smi\")\n",
    "conv.SetInAndOutFormats(\"fs\",\"smi\")\n",
    "conv.AddOption(\"s\",conv.GENOPTIONS,\"C#N\")\n",
    "conv.Convert()\n",
    "conv.CloseOutFile()"
   ]
  },
  {
   "cell_type": "code",
   "execution_count": 18,
   "metadata": {},
   "outputs": [
    {
     "name": "stdout",
     "output_type": "stream",
     "text": [
      "@data/results.smi>>                               \n",
      "  1: ON=C(Cc1ccccc1)C(C#N)c1ccccc1\t38\n",
      "  2: N#CC(C(c1ccccc1)c1ccccc1)c1ccccc1\t52\n"
     ]
    }
   ],
   "source": [
    "# 查看搜索到的分子\n",
    "br.showfile('data/results.smi', nhead=2)"
   ]
  },
  {
   "cell_type": "markdown",
   "metadata": {},
   "source": [
    "> 如果是空白文件,表示没有搜索到与那种指纹相匹配的分子;"
   ]
  },
  {
   "cell_type": "markdown",
   "metadata": {},
   "source": [
    "如果使用numpy向openbabel传递值, numpy数组的元素类型必须是双精度浮点数"
   ]
  },
  {
   "cell_type": "code",
   "execution_count": 19,
   "metadata": {},
   "outputs": [],
   "source": [
    "mol = openbabel.OBMol()\n",
    "atom = mol.NewAtom()"
   ]
  },
  {
   "cell_type": "code",
   "execution_count": 20,
   "metadata": {},
   "outputs": [
    {
     "name": "stdout",
     "output_type": "stream",
     "text": [
      "Error:  in method 'OBAtom_SetVector', argument 2 of type 'double'\n"
     ]
    }
   ],
   "source": [
    "# 不能是单精度浮点数\n",
    "coord = np.array([1.2, 2.3, 4.6], \"float32\")\n",
    "try:\n",
    "    atom.SetVector(coord[0], coord[1], coord[2])\n",
    "except TypeError as e:\n",
    "    print(\"Error: \",e)"
   ]
  },
  {
   "cell_type": "code",
   "execution_count": 21,
   "metadata": {},
   "outputs": [],
   "source": [
    "# 必须是双精度浮点数\n",
    "coord = np.array([1.2, 2.3, 4.6], \"float64\")\n",
    "# atom.SetVector(float(coord[0]), float(coord[1]), float(coord[2]))\n",
    "atom.SetVector(coord[0], coord[1], coord[2])"
   ]
  },
  {
   "cell_type": "markdown",
   "metadata": {},
   "source": [
    "## pybel模块"
   ]
  },
  {
   "cell_type": "code",
   "execution_count": 22,
   "metadata": {},
   "outputs": [],
   "source": [
    "from pybel import *"
   ]
  },
  {
   "cell_type": "markdown",
   "metadata": {},
   "source": [
    "1. **pybel**与**openbabel**相比, 具有更简单的类接口和函数, 可以更加方便执行`文件格式转换`或`属性访问`;  \n",
    "\n",
    "\n",
    "2. 创建分子对象的方式:  \n",
    "    * 从输入文件;\n",
    "    * 从输入字符串;\n",
    "    * 从OBMol类创建;\n",
    "\n",
    "3. 创建原子对象的方式:  \n",
    "    * 使用OBAtom类创建原子对象; \n",
    "    * 通过访问分子对象的原子属性; "
   ]
  },
  {
   "cell_type": "markdown",
   "metadata": {},
   "source": [
    "**将`150mols.smi`转化成`150mols.sdf`文件备用**"
   ]
  },
  {
   "cell_type": "code",
   "execution_count": 23,
   "metadata": {},
   "outputs": [],
   "source": [
    "import openbabel\n",
    "conv = openbabel.OBConversion()\n",
    "conv.OpenInAndOutFiles(\"data/150mols.smi\",\"data/150mols.sdf\") \n",
    "conv.SetInAndOutFormats(\"smi\",\"sdf\") \n",
    "conv.Convert() \n",
    "conv.CloseOutFile() "
   ]
  },
  {
   "cell_type": "code",
   "execution_count": 24,
   "metadata": {
    "scrolled": false
   },
   "outputs": [
    {
     "name": "stdout",
     "output_type": "stream",
     "text": [
      "@data/150mols.sdf>>                               \n",
      "5863: M  END\n",
      "5864: $$$$\n"
     ]
    }
   ],
   "source": [
    "br.showfile('data/150mols.sdf', ntail=2)"
   ]
  },
  {
   "cell_type": "markdown",
   "metadata": {},
   "source": [
    "### 分子方法:   "
   ]
  },
  {
   "cell_type": "markdown",
   "metadata": {},
   "source": [
    "|方法|描述|\n",
    "|:---|:---|\n",
    "|write()| 将分子信息写入文件;||calcfp()| 计算分子指纹(fingerprint);|\n",
    "|draw()| 绘制分子骨架;||addh()| 添加H;|\n",
    "|removeh()| 删除H;||make3D()| 创建3D骨架;|\n",
    "|localopt()| 局域结构优化;||calcdesc()| 计算分子描述符;|  "
   ]
  },
  {
   "cell_type": "code",
   "execution_count": 25,
   "metadata": {
    "scrolled": true
   },
   "outputs": [
    {
     "data": {
      "image/svg+xml": [
       "<svg xmlns=\"http://www.w3.org/2000/svg\" font-family=\"sans-serif\" height=\"100\" stroke=\"rgb(0,0,0)\" stroke-linecap=\"round\" stroke-width=\"2\" viewBox=\"0 0 189.282 180\" width=\"100\" x=\"0\" y=\"0\">\n",
       "<line stroke=\"rgb(0,0,0)\" stroke-width=\"2.0\" x1=\"109.3\" x2=\"74.6\" y1=\"100.0\" y2=\"80.0\" />\n",
       "<line stroke=\"rgb(0,0,0)\" stroke-width=\"2.0\" x1=\"109.3\" x2=\"136.3\" y1=\"100.0\" y2=\"100.0\" />\n",
       "<line stroke=\"rgb(0,0,0)\" stroke-width=\"2.0\" x1=\"109.3\" x2=\"122.8\" y1=\"100.0\" y2=\"76.6\" />\n",
       "<line stroke=\"rgb(0,0,0)\" stroke-width=\"2.0\" x1=\"109.3\" x2=\"109.3\" y1=\"100.0\" y2=\"127.0\" />\n",
       "<line stroke=\"rgb(0,0,0)\" stroke-width=\"2.0\" x1=\"71.6\" x2=\"71.6\" y1=\"80.0\" y2=\"53.0\" />\n",
       "<line stroke=\"rgb(0,0,0)\" stroke-width=\"2.0\" x1=\"77.6\" x2=\"77.6\" y1=\"80.0\" y2=\"53.0\" />\n",
       "<line stroke=\"rgb(0,0,0)\" stroke-width=\"2.0\" x1=\"74.6\" x2=\"51.3\" y1=\"80.0\" y2=\"93.5\" />\n",
       "<text fill=\"rgb(255,12,12)\" font-size=\"16\" stroke=\"rgb(255,12,12)\" stroke-width=\"1\" x=\"68.641016\" y=\"48.000000\">O</text>\n",
       "<text fill=\"rgb(165,40,40)\" font-size=\"16\" stroke=\"rgb(165,40,40)\" stroke-width=\"1\" x=\"22.000000\" y=\"108.000000\">Br</text>\n",
       "<text fill=\"rgb(191,191,191)\" font-size=\"16\" stroke=\"rgb(191,191,191)\" stroke-width=\"1\" x=\"143.282032\" y=\"108.000000\">H</text>\n",
       "<text fill=\"rgb(191,191,191)\" font-size=\"16\" stroke=\"rgb(191,191,191)\" stroke-width=\"1\" x=\"123.282032\" y=\"73.358984\">H</text>\n",
       "<text fill=\"rgb(191,191,191)\" font-size=\"16\" stroke=\"rgb(191,191,191)\" stroke-width=\"1\" x=\"103.282032\" y=\"148.000000\">H</text>\n",
       "</svg>\n"
      ],
      "text/plain": [
       "<pybel.Molecule at 0x1d462635780>"
      ]
     },
     "execution_count": 25,
     "metadata": {},
     "output_type": "execute_result"
    }
   ],
   "source": [
    "mol = readfile('sdf', 'data/CCOBr.sdf').__next__()\n",
    "mol"
   ]
  },
  {
   "cell_type": "markdown",
   "metadata": {},
   "source": [
    "将分子骨架保存为图片"
   ]
  },
  {
   "cell_type": "code",
   "execution_count": 26,
   "metadata": {},
   "outputs": [],
   "source": [
    "%%pass\n",
    "mol.draw(show=False, filename='data/CCOBr.png')"
   ]
  },
  {
   "cell_type": "markdown",
   "metadata": {},
   "source": [
    "将150mols.sdf文件中的所有分子保存为图像"
   ]
  },
  {
   "cell_type": "code",
   "execution_count": 27,
   "metadata": {},
   "outputs": [],
   "source": [
    "%%pass\n",
    "from pybel import *\n",
    "mols = readfile(\"sdf\", \"data/150mols.sdf\") #mols是一个迭代对象\n",
    "for i, mol in enumerate(mols):\n",
    "    mol.draw(show=False,filename='data/150mols/{}.png'.format(i+1))"
   ]
  },
  {
   "cell_type": "code",
   "execution_count": 28,
   "metadata": {},
   "outputs": [
    {
     "name": "stdout",
     "output_type": "stream",
     "text": [
      "descvalues['logP']  descvalues['TPSA']  descvalues['MR']\n",
      "------------------  ------------------  ----------------\n",
      "0.9278              17.07               19.798          \n"
     ]
    }
   ],
   "source": [
    "# 计算分子描述符;\n",
    "descvalues = mol.calcdesc()\n",
    "# Polar SurfaceArea (“TPSA”) and Molar Refractivity (“MR”)\n",
    "%C descvalues['logP']; descvalues['TPSA']; descvalues['MR']"
   ]
  },
  {
   "cell_type": "code",
   "execution_count": 29,
   "metadata": {},
   "outputs": [],
   "source": [
    "# 添加分子数据\n",
    "mol.data.update(descvalues)\n",
    "output = Outputfile(\"sdf\", \"data/CCOBr-desc.sdf\", overwrite=True)\n",
    "output.write(mol)\n",
    "output.close()"
   ]
  },
  {
   "cell_type": "markdown",
   "metadata": {},
   "source": [
    "### 分子属性:  "
   ]
  },
  {
   "cell_type": "markdown",
   "metadata": {},
   "source": [
    "|属性|描述|\n",
    "|:---|:---|\n",
    "|atoms| 列表, 分子中的原子对象;|charge| 分子电荷;|\n",
    "|data| 字典(分子数据对象), 分子数据;|dim| 分子维数;|\n",
    "|energy| 分子能量;|exactmass| 分子的精确质量;|\n",
    "|formula| 分子化学式;|molwt| 分子重量;|\n",
    "|spin| 自旋数;|sssr| The Smallest Set of Smallest Rings;|\n",
    "|title| 分子标题;|unitcell| 如果分子被保存在晶胞中, 返回分子所在晶胞的信息;|\n",
    "|conformers|分子构象;|"
   ]
  },
  {
   "cell_type": "code",
   "execution_count": 30,
   "metadata": {
    "scrolled": true
   },
   "outputs": [
    {
     "name": "stdout",
     "output_type": "stream",
     "text": [
      "C7H6O2     |C14H8N2S4  |C6H3ClN2O5 |C3H3N3O2S  |C14H9NO2   |C20H10Br2O5|\n",
      "C12H10ClNO2|C15H9NO4   |C4H8N2O2   |C18H15P    |C14H22O2   |\n"
     ]
    }
   ],
   "source": [
    "mols = readfile(\"sdf\", \"data/150mols.sdf\") #mols是一个迭代对象\n",
    "%col [mol.formula for mol in mols][:11]"
   ]
  },
  {
   "cell_type": "code",
   "execution_count": 31,
   "metadata": {},
   "outputs": [
    {
     "data": {
      "image/svg+xml": [
       "<svg xmlns=\"http://www.w3.org/2000/svg\" font-family=\"sans-serif\" height=\"100\" stroke=\"rgb(0,0,0)\" stroke-linecap=\"round\" stroke-width=\"2\" viewBox=\"0 0 218.564 160\" width=\"100\" x=\"0\" y=\"0\">\n",
       "<line stroke=\"rgb(0,0,0)\" stroke-width=\"2.0\" x1=\"167.3\" x2=\"143.9\" y1=\"46.5\" y2=\"60.0\" />\n",
       "<line stroke=\"rgb(0,0,0)\" stroke-width=\"2.0\" x1=\"73.1\" x2=\"49.8\" y1=\"62.6\" y2=\"49.1\" />\n",
       "<line stroke=\"rgb(0,0,0)\" stroke-width=\"2.0\" x1=\"76.1\" x2=\"52.8\" y1=\"57.4\" y2=\"43.9\" />\n",
       "<line stroke=\"rgb(0,0,0)\" stroke-width=\"2.0\" x1=\"145.4\" x2=\"168.8\" y1=\"97.4\" y2=\"110.9\" />\n",
       "<line stroke=\"rgb(0,0,0)\" stroke-width=\"2.0\" x1=\"142.4\" x2=\"165.8\" y1=\"102.6\" y2=\"116.1\" />\n",
       "<line stroke=\"rgb(0,0,0)\" stroke-width=\"2.0\" x1=\"74.6\" x2=\"74.6\" y1=\"60.0\" y2=\"100.0\" />\n",
       "<line stroke=\"rgb(0,0,0)\" stroke-width=\"2.0\" x1=\"74.6\" x2=\"109.3\" y1=\"100.0\" y2=\"120.0\" />\n",
       "<line stroke=\"rgb(0,0,0)\" stroke-width=\"2.0\" x1=\"83.4\" x2=\"107.7\" y1=\"96.8\" y2=\"110.8\" />\n",
       "<line stroke=\"rgb(0,0,0)\" stroke-width=\"2.0\" x1=\"109.3\" x2=\"143.9\" y1=\"120.0\" y2=\"100.0\" />\n",
       "<line stroke=\"rgb(0,0,0)\" stroke-width=\"2.0\" x1=\"143.9\" x2=\"143.9\" y1=\"100.0\" y2=\"60.0\" />\n",
       "<line stroke=\"rgb(0,0,0)\" stroke-width=\"2.0\" x1=\"143.9\" x2=\"109.3\" y1=\"60.0\" y2=\"40.0\" />\n",
       "<line stroke=\"rgb(0,0,0)\" stroke-width=\"2.0\" x1=\"135.1\" x2=\"110.9\" y1=\"63.2\" y2=\"49.2\" />\n",
       "<line stroke=\"rgb(0,0,0)\" stroke-width=\"2.0\" x1=\"109.3\" x2=\"74.6\" y1=\"40.0\" y2=\"60.0\" />\n",
       "<text fill=\"rgb(102,102,102)\" font-size=\"16\" stroke=\"rgb(102,102,102)\" stroke-width=\"1\" x=\"174.564065\" y=\"48.000000\">CH</text>\n",
       "<text fill=\"rgb(102,102,102)\" font-size=\"13\" stroke=\"rgb(102,102,102)\" stroke-width=\"1\" x=\"198.564065\" y=\"51.680000\">3</text>\n",
       "<text fill=\"rgb(255,12,12)\" font-size=\"16\" stroke=\"rgb(255,12,12)\" stroke-width=\"1\" x=\"34.000000\" y=\"48.000000\">O</text>\n",
       "<text fill=\"rgb(255,12,12)\" font-size=\"16\" stroke=\"rgb(255,12,12)\" stroke-width=\"1\" x=\"172.564065\" y=\"128.000000\">O</text>\n",
       "</svg>\n"
      ],
      "text/plain": [
       "<pybel.Molecule at 0x1d462635710>"
      ]
     },
     "execution_count": 31,
     "metadata": {},
     "output_type": "execute_result"
    }
   ],
   "source": [
    "mols = readfile(\"sdf\", \"data/150mols.sdf\") #mols是一个迭代对象\n",
    "mol = mols.__next__() #迭代对象的第一个元素\n",
    "mol"
   ]
  },
  {
   "cell_type": "code",
   "execution_count": 32,
   "metadata": {},
   "outputs": [
    {
     "name": "stdout",
     "output_type": "stream",
     "text": [
      "mol.formula  mol.dim  mol.title  mol.spin\n",
      "-----------  -------  ---------  --------\n",
      "'C7H6O2'     2        '1'        1       \n"
     ]
    }
   ],
   "source": [
    "# 查看分子属性\n",
    "%C mol.formula; mol.dim; mol.title; mol.spin "
   ]
  },
  {
   "cell_type": "code",
   "execution_count": 33,
   "metadata": {},
   "outputs": [
    {
     "data": {
      "text/plain": [
       "pybel.Atom"
      ]
     },
     "execution_count": 33,
     "metadata": {},
     "output_type": "execute_result"
    }
   ],
   "source": [
    "# 分子中的第一个原子对象\n",
    "atom = mol.atoms[0]\n",
    "type(atom)"
   ]
  },
  {
   "cell_type": "markdown",
   "metadata": {},
   "source": [
    "### 原子属性:  "
   ]
  },
  {
   "cell_type": "markdown",
   "metadata": {},
   "source": [
    "|属性|描述|-|-|\n",
    "|:---|:---|:|:|\n",
    "|atomicmass|原子质量|atomicnum|原子序数|\n",
    "|coords(x,y,z)|原子坐标|exactmass|原子的精准质量|\n",
    "|formalcharge|形式电荷|heavyvalence|附着的非H原子数|\n",
    "|heterovalence|附着的异质原子数|hyb|原子杂化,3:sp3|\n",
    "|idx|原子在分子中的编号, 从1开始计数|implicitvalence|价电子数|\n",
    "|isotope|同位素,需提前指定|partialcharge|局部电荷|\n",
    "|spin|自旋多重性|type|原子类型|\n",
    "|valence|明确的价电子连接数|vector|矢量|"
   ]
  },
  {
   "cell_type": "code",
   "execution_count": 34,
   "metadata": {},
   "outputs": [
    {
     "name": "stdout",
     "output_type": "stream",
     "text": [
      "atom.atomicnum     atom.idx      atom.partialcharge     atom.hyb     atom.type\n",
      "--------------     --------     -------------------     --------     ---------\n",
      "6                  1            0.03448524080468646     3            'C3'     \n",
      "atom.implicitvalence     atom.valence     atom.heavyvalence     atom.heterovalence\n",
      "--------------------     ------------     -----------------     ------------------\n",
      "4                        1                1                     0                 \n"
     ]
    }
   ],
   "source": [
    "%C 5 atom.atomicnum; atom.idx; atom.partialcharge; atom.hyb; atom.type\n",
    "%C 5 atom.implicitvalence ; atom.valence; atom.heavyvalence; atom.heterovalence"
   ]
  },
  {
   "cell_type": "markdown",
   "metadata": {},
   "source": [
    "### 读入分子信息"
   ]
  },
  {
   "cell_type": "markdown",
   "metadata": {},
   "source": [
    "readstring(): 从字符串中读取分子信息;  \n",
    "readfile(): 从文件中迭代式读取分子信息;"
   ]
  },
  {
   "cell_type": "code",
   "execution_count": 35,
   "metadata": {},
   "outputs": [
    {
     "data": {
      "image/svg+xml": [
       "<svg xmlns=\"http://www.w3.org/2000/svg\" font-family=\"sans-serif\" height=\"100\" stroke=\"rgb(0,0,0)\" stroke-linecap=\"round\" stroke-width=\"2\" viewBox=\"0 0 160 114.641\" width=\"100\" x=\"0\" y=\"0\">\n",
       "<line stroke=\"rgb(0,0,0)\" stroke-width=\"2.0\" x1=\"113.5\" x2=\"100.0\" y1=\"63.4\" y2=\"40.0\" />\n",
       "<line stroke=\"rgb(0,0,0)\" stroke-width=\"2.0\" x1=\"100.0\" x2=\"60.0\" y1=\"40.0\" y2=\"40.0\" />\n",
       "<line stroke=\"rgb(0,0,0)\" stroke-width=\"2.0\" x1=\"60.0\" x2=\"46.5\" y1=\"40.0\" y2=\"63.4\" />\n",
       "<text fill=\"rgb(102,102,102)\" font-size=\"16\" stroke=\"rgb(102,102,102)\" stroke-width=\"1\" x=\"116.000000\" y=\"82.641016\">CH</text>\n",
       "<text fill=\"rgb(102,102,102)\" font-size=\"13\" stroke=\"rgb(102,102,102)\" stroke-width=\"1\" x=\"140.000000\" y=\"86.321016\">3</text>\n",
       "<text fill=\"rgb(102,102,102)\" font-size=\"16\" stroke=\"rgb(102,102,102)\" stroke-width=\"1\" x=\"14.000000\" y=\"82.641016\">H</text>\n",
       "<text fill=\"rgb(102,102,102)\" font-size=\"13\" stroke=\"rgb(102,102,102)\" stroke-width=\"1\" x=\"26.000000\" y=\"86.321016\">3</text>\n",
       "<text fill=\"rgb(102,102,102)\" font-size=\"16\" stroke=\"rgb(102,102,102)\" stroke-width=\"1\" x=\"32.500000\" y=\"82.641016\">C</text>\n",
       "</svg>\n"
      ],
      "text/plain": [
       "<pybel.Molecule at 0x1d4626357f0>"
      ]
     },
     "execution_count": 35,
     "metadata": {},
     "output_type": "execute_result"
    }
   ],
   "source": [
    "mymol = readstring(\"smi\", \"CCCC\")\n",
    "mymol"
   ]
  },
  {
   "cell_type": "code",
   "execution_count": 36,
   "metadata": {},
   "outputs": [
    {
     "name": "stdout",
     "output_type": "stream",
     "text": [
      "C2H3BrO\n"
     ]
    }
   ],
   "source": [
    "for mymol in readfile(\"sdf\", \"data/CCOBr.sdf\"):\n",
    "    print(mymol.formula)"
   ]
  },
  {
   "cell_type": "markdown",
   "metadata": {},
   "source": [
    "### 写入分子信息"
   ]
  },
  {
   "cell_type": "markdown",
   "metadata": {},
   "source": [
    "mymol.write(format): 返回字符串;  \n",
    "mymol.write(format,filename): 保存到文件;"
   ]
  },
  {
   "cell_type": "code",
   "execution_count": 37,
   "metadata": {},
   "outputs": [
    {
     "data": {
      "text/plain": [
       "'CC(=O)Br\\t\\n'"
      ]
     },
     "execution_count": 37,
     "metadata": {},
     "output_type": "execute_result"
    }
   ],
   "source": [
    "mymol.write(\"smi\")"
   ]
  },
  {
   "cell_type": "code",
   "execution_count": 38,
   "metadata": {},
   "outputs": [
    {
     "name": "stdout",
     "output_type": "stream",
     "text": [
      "@data/CCOBr.txt>>                                 \n",
      "  1: CC(=O)Br\t\n"
     ]
    }
   ],
   "source": [
    "mymol.write(\"smi\", \"data/CCOBr.txt\", overwrite=True)\n",
    "br.showfile('data/CCOBr.txt')"
   ]
  },
  {
   "cell_type": "markdown",
   "metadata": {},
   "source": [
    "将多个分子写入同一个文件, 需要用到`Outputfile`类"
   ]
  },
  {
   "cell_type": "code",
   "execution_count": 39,
   "metadata": {},
   "outputs": [
    {
     "data": {
      "image/svg+xml": [
       "<svg xmlns=\"http://www.w3.org/2000/svg\" font-family=\"sans-serif\" height=\"100\" stroke=\"rgb(0,0,0)\" stroke-linecap=\"round\" stroke-width=\"2\" viewBox=\"0 0 200 114.641\" width=\"100\" x=\"0\" y=\"0\">\n",
       "<line stroke=\"rgb(0,0,0)\" stroke-width=\"2.0\" x1=\"153.5\" x2=\"146.5\" y1=\"63.4\" y2=\"51.3\" />\n",
       "<line stroke=\"rgb(0,0,0)\" stroke-width=\"2.0\" x1=\"127.0\" x2=\"113.0\" y1=\"40.0\" y2=\"40.0\" />\n",
       "<line stroke=\"rgb(0,0,0)\" stroke-width=\"2.0\" x1=\"93.5\" x2=\"80.0\" y1=\"51.3\" y2=\"74.6\" />\n",
       "<line stroke=\"rgb(0,0,0)\" stroke-width=\"2.0\" x1=\"80.0\" x2=\"53.0\" y1=\"74.6\" y2=\"74.6\" />\n",
       "<text fill=\"rgb(102,102,102)\" font-size=\"16\" stroke=\"rgb(102,102,102)\" stroke-width=\"1\" x=\"156.000000\" y=\"82.641016\">CH</text>\n",
       "<text fill=\"rgb(102,102,102)\" font-size=\"13\" stroke=\"rgb(102,102,102)\" stroke-width=\"1\" x=\"180.000000\" y=\"86.321016\">3</text>\n",
       "<text fill=\"rgb(12,12,255)\" font-size=\"16\" stroke=\"rgb(12,12,255)\" stroke-width=\"1\" x=\"134.000000\" y=\"48.000000\">N</text>\n",
       "<text fill=\"rgb(12,12,255)\" font-size=\"16\" stroke=\"rgb(12,12,255)\" stroke-width=\"1\" x=\"134.000000\" y=\"32.000000\">H</text>\n",
       "<text fill=\"rgb(255,12,12)\" font-size=\"16\" stroke=\"rgb(255,12,12)\" stroke-width=\"1\" x=\"94.000000\" y=\"48.000000\">O</text>\n",
       "<text fill=\"rgb(12,12,255)\" font-size=\"16\" stroke=\"rgb(12,12,255)\" stroke-width=\"1\" x=\"14.000000\" y=\"82.641016\">H</text>\n",
       "<text fill=\"rgb(12,12,255)\" font-size=\"13\" stroke=\"rgb(12,12,255)\" stroke-width=\"1\" x=\"26.000000\" y=\"86.321016\">2</text>\n",
       "<text fill=\"rgb(12,12,255)\" font-size=\"16\" stroke=\"rgb(12,12,255)\" stroke-width=\"1\" x=\"32.500000\" y=\"82.641016\">N</text>\n",
       "</svg>\n"
      ],
      "text/plain": [
       "<pybel.Molecule at 0x1d462635a90>"
      ]
     },
     "execution_count": 39,
     "metadata": {},
     "output_type": "execute_result"
    }
   ],
   "source": [
    "mymol2 = readstring(\"smi\", \"CNOCN\")\n",
    "mymol2"
   ]
  },
  {
   "cell_type": "code",
   "execution_count": 40,
   "metadata": {},
   "outputs": [],
   "source": [
    "largeSDfile = Outputfile(\"sdf\", \"data/multipleSD.sdf\",overwrite=True)\n",
    "largeSDfile.write(mymol)\n",
    "largeSDfile.write(mymol)\n",
    "largeSDfile.close()"
   ]
  },
  {
   "cell_type": "code",
   "execution_count": 41,
   "metadata": {},
   "outputs": [
    {
     "name": "stdout",
     "output_type": "stream",
     "text": [
      "@data/multipleSD.sdf>>                            \n",
      "  2:  OpenBabel10231806163D\n",
      " 14:   1  6  1  0  0  0  0\n"
     ]
    }
   ],
   "source": [
    "br.showfile('data/multipleSD.sdf', nspec=[2,14])"
   ]
  },
  {
   "cell_type": "markdown",
   "metadata": {},
   "source": [
    "### 指纹对象"
   ]
  },
  {
   "cell_type": "markdown",
   "metadata": {},
   "source": [
    "**指纹对象**的创建方式:  \n",
    "1. 通过分子的calcfp()方法;  \n",
    "2. 通过GetFingerprint(myvector);"
   ]
  },
  {
   "cell_type": "markdown",
   "metadata": {},
   "source": [
    "fptype指纹类型: 默认为FP2;  \n",
    "指纹对象的属性:  \n",
    "fp: 与指纹相对应的OB矢量;  \n",
    "bits: 峰位?;"
   ]
  },
  {
   "cell_type": "code",
   "execution_count": 42,
   "metadata": {},
   "outputs": [],
   "source": [
    "smiles = ['CCCC', 'CCCN']\n",
    "mols = [readstring(\"smi\", x) for x in smiles] #包含两个分子的列表\n",
    "fps = [x.calcfp() for x in mols] # 计算分子列表中每个分子的指纹"
   ]
  },
  {
   "cell_type": "code",
   "execution_count": 43,
   "metadata": {},
   "outputs": [
    {
     "name": "stdout",
     "output_type": "stream",
     "text": [
      "  fps[0].bits             fps[1].bits            fps[0] | fps[1] # Tanimoto系数\n",
      "---------------     ------------------------     ----------------------------\n",
      "[261, 385, 671]     [83, 261, 349, 671, 907]     0.3333333333333333          \n"
     ]
    }
   ],
   "source": [
    "%C 5 fps[0].bits; fps[1].bits; fps[0] | fps[1] # Tanimoto系数"
   ]
  },
  {
   "cell_type": "markdown",
   "metadata": {},
   "source": [
    "### Smarts对象"
   ]
  },
  {
   "cell_type": "markdown",
   "metadata": {},
   "source": [
    "智能模式匹配(SMARTS matching)"
   ]
  },
  {
   "cell_type": "code",
   "execution_count": 44,
   "metadata": {},
   "outputs": [
    {
     "data": {
      "image/svg+xml": [
       "<svg xmlns=\"http://www.w3.org/2000/svg\" font-family=\"sans-serif\" height=\"100\" stroke=\"rgb(0,0,0)\" stroke-linecap=\"round\" stroke-width=\"2\" viewBox=\"0 0 218.564 160\" width=\"100\" x=\"0\" y=\"0\">\n",
       "<line stroke=\"rgb(0,0,0)\" stroke-width=\"2.0\" x1=\"167.3\" x2=\"143.9\" y1=\"53.5\" y2=\"40.0\" />\n",
       "<line stroke=\"rgb(0,0,0)\" stroke-width=\"2.0\" x1=\"143.9\" x2=\"120.5\" y1=\"40.0\" y2=\"53.5\" />\n",
       "<line stroke=\"rgb(0,0,0)\" stroke-width=\"2.0\" x1=\"98.0\" x2=\"74.6\" y1=\"53.5\" y2=\"40.0\" />\n",
       "<line stroke=\"rgb(0,0,0)\" stroke-width=\"2.0\" x1=\"74.6\" x2=\"51.3\" y1=\"40.0\" y2=\"53.5\" />\n",
       "<line stroke=\"rgb(0,0,0)\" stroke-width=\"2.0\" x1=\"109.3\" x2=\"109.3\" y1=\"73.0\" y2=\"100.0\" />\n",
       "<line stroke=\"rgb(0,0,0)\" stroke-width=\"2.0\" x1=\"109.3\" x2=\"85.9\" y1=\"100.0\" y2=\"113.5\" />\n",
       "<text fill=\"rgb(102,102,102)\" font-size=\"16\" stroke=\"rgb(102,102,102)\" stroke-width=\"1\" x=\"174.564065\" y=\"68.000000\">CH</text>\n",
       "<text fill=\"rgb(102,102,102)\" font-size=\"13\" stroke=\"rgb(102,102,102)\" stroke-width=\"1\" x=\"198.564065\" y=\"71.680000\">3</text>\n",
       "<text fill=\"rgb(12,12,255)\" font-size=\"16\" stroke=\"rgb(12,12,255)\" stroke-width=\"1\" x=\"103.282032\" y=\"68.000000\">N</text>\n",
       "<text fill=\"rgb(102,102,102)\" font-size=\"16\" stroke=\"rgb(102,102,102)\" stroke-width=\"1\" x=\"14.000000\" y=\"68.000000\">H</text>\n",
       "<text fill=\"rgb(102,102,102)\" font-size=\"13\" stroke=\"rgb(102,102,102)\" stroke-width=\"1\" x=\"26.000000\" y=\"71.680000\">3</text>\n",
       "<text fill=\"rgb(102,102,102)\" font-size=\"16\" stroke=\"rgb(102,102,102)\" stroke-width=\"1\" x=\"32.500000\" y=\"68.000000\">C</text>\n",
       "<text fill=\"rgb(102,102,102)\" font-size=\"16\" stroke=\"rgb(102,102,102)\" stroke-width=\"1\" x=\"48.641016\" y=\"128.000000\">H</text>\n",
       "<text fill=\"rgb(102,102,102)\" font-size=\"13\" stroke=\"rgb(102,102,102)\" stroke-width=\"1\" x=\"60.641016\" y=\"131.680000\">3</text>\n",
       "<text fill=\"rgb(102,102,102)\" font-size=\"16\" stroke=\"rgb(102,102,102)\" stroke-width=\"1\" x=\"67.141016\" y=\"128.000000\">C</text>\n",
       "</svg>\n"
      ],
      "text/plain": [
       "<pybel.Molecule at 0x1d4626403c8>"
      ]
     },
     "execution_count": 44,
     "metadata": {},
     "output_type": "execute_result"
    }
   ],
   "source": [
    "mol = readstring(\"smi\",\"CCN(CC)CC\") # triethylamine\n",
    "mol"
   ]
  },
  {
   "cell_type": "code",
   "execution_count": 45,
   "metadata": {},
   "outputs": [
    {
     "data": {
      "text/plain": [
       "[(1, 2), (4, 5), (6, 7)]"
      ]
     },
     "execution_count": 45,
     "metadata": {},
     "output_type": "execute_result"
    }
   ],
   "source": [
    "smarts = Smarts(\"[#6][#6]\") # Matches an ethyl group\n",
    "smarts.findall(mol)"
   ]
  },
  {
   "cell_type": "markdown",
   "metadata": {},
   "source": [
    "### 与openbabel模块结合"
   ]
  },
  {
   "cell_type": "markdown",
   "metadata": {},
   "source": [
    "使用pybel模块读取PDB文件, 使用openbabel模块添加H原子"
   ]
  },
  {
   "cell_type": "code",
   "execution_count": 46,
   "metadata": {},
   "outputs": [
    {
     "data": {
      "image/svg+xml": [
       "<svg xmlns=\"http://www.w3.org/2000/svg\" font-family=\"sans-serif\" height=\"100\" stroke=\"rgb(0,0,0)\" stroke-linecap=\"round\" stroke-width=\"2\" viewBox=\"0 0 359.579 306.487\" width=\"100\" x=\"0\" y=\"0\">\n",
       "<line stroke=\"rgb(0,0,0)\" stroke-width=\"2.0\" x1=\"224.9\" x2=\"220.6\" y1=\"244.5\" y2=\"231.2\" />\n",
       "<line stroke=\"rgb(0,0,0)\" stroke-width=\"2.0\" x1=\"85.9\" x2=\"109.3\" y1=\"153.0\" y2=\"166.5\" />\n",
       "<line stroke=\"rgb(0,0,0)\" stroke-width=\"2.0\" x1=\"63.4\" x2=\"51.3\" y1=\"153.0\" y2=\"160.0\" />\n",
       "<line stroke=\"rgb(0,0,0)\" stroke-width=\"2.0\" x1=\"306.9\" x2=\"293.2\" y1=\"64.1\" y2=\"67.0\" />\n",
       "<line stroke=\"rgb(0,0,0)\" stroke-width=\"2.0\" x1=\"262.4\" x2=\"271.8\" y1=\"49.7\" y2=\"60.1\" />\n",
       "<line stroke=\"rgb(0,0,0)\" stroke-width=\"2.0\" x1=\"276.4\" x2=\"268.1\" y1=\"82.1\" y2=\"107.8\" />\n",
       "<line stroke=\"rgb(0,0,0)\" stroke-width=\"2.0\" x1=\"268.1\" x2=\"293.8\" y1=\"107.8\" y2=\"116.1\" />\n",
       "<line stroke=\"rgb(0,0,0)\" stroke-width=\"2.0\" x1=\"268.1\" x2=\"229.0\" y1=\"107.8\" y2=\"116.1\" />\n",
       "<line stroke=\"rgb(0,0,0)\" stroke-width=\"2.0\" x1=\"268.1\" x2=\"273.7\" y1=\"107.8\" y2=\"134.2\" />\n",
       "<line stroke=\"rgb(0,0,0)\" stroke-width=\"2.0\" x1=\"229.0\" x2=\"223.4\" y1=\"116.1\" y2=\"89.7\" />\n",
       "<line stroke=\"rgb(0,0,0)\" stroke-width=\"2.0\" x1=\"229.0\" x2=\"216.6\" y1=\"116.1\" y2=\"154.1\" />\n",
       "<line stroke=\"rgb(0,0,0)\" stroke-width=\"2.0\" x1=\"229.0\" x2=\"203.3\" y1=\"116.1\" y2=\"107.7\" />\n",
       "<line stroke=\"rgb(0,0,0)\" stroke-width=\"2.0\" x1=\"240.1\" x2=\"267.1\" y1=\"186.5\" y2=\"186.5\" />\n",
       "<line stroke=\"rgb(0,0,0)\" stroke-width=\"2.0\" x1=\"143.9\" x2=\"143.9\" y1=\"146.5\" y2=\"119.5\" />\n",
       "<line stroke=\"rgb(0,0,0)\" stroke-width=\"2.0\" x1=\"143.9\" x2=\"143.9\" y1=\"226.5\" y2=\"253.5\" />\n",
       "<line stroke=\"rgb(0,0,0)\" stroke-width=\"2.0\" x1=\"109.3\" x2=\"85.9\" y1=\"206.5\" y2=\"220.0\" />\n",
       "<line stroke=\"rgb(0,0,0)\" stroke-width=\"2.0\" x1=\"216.6\" x2=\"178.6\" y1=\"154.1\" y2=\"166.5\" />\n",
       "<line stroke=\"rgb(0,0,0)\" stroke-width=\"2.0\" x1=\"178.6\" x2=\"178.6\" y1=\"166.5\" y2=\"206.5\" />\n",
       "<line stroke=\"rgb(0,0,0)\" stroke-width=\"2.0\" x1=\"185.8\" x2=\"185.8\" y1=\"172.5\" y2=\"200.5\" />\n",
       "<line stroke=\"rgb(0,0,0)\" stroke-width=\"2.0\" x1=\"178.6\" x2=\"204.2\" y1=\"206.5\" y2=\"214.8\" />\n",
       "<line stroke=\"rgb(0,0,0)\" stroke-width=\"2.0\" x1=\"224.2\" x2=\"240.1\" y1=\"208.3\" y2=\"186.5\" />\n",
       "<line stroke=\"rgb(0,0,0)\" stroke-width=\"2.0\" x1=\"240.1\" x2=\"216.6\" y1=\"186.5\" y2=\"154.1\" />\n",
       "<line stroke=\"rgb(0,0,0)\" stroke-width=\"2.0\" x1=\"230.8\" x2=\"214.3\" y1=\"185.9\" y2=\"163.2\" />\n",
       "<line stroke=\"rgb(0,0,0)\" stroke-width=\"2.0\" x1=\"143.9\" x2=\"178.6\" y1=\"146.5\" y2=\"166.5\" />\n",
       "<line stroke=\"rgb(0,0,0)\" stroke-width=\"2.0\" x1=\"178.6\" x2=\"143.9\" y1=\"206.5\" y2=\"226.5\" />\n",
       "<line stroke=\"rgb(0,0,0)\" stroke-width=\"2.0\" x1=\"143.9\" x2=\"109.3\" y1=\"226.5\" y2=\"206.5\" />\n",
       "<line stroke=\"rgb(0,0,0)\" stroke-width=\"2.0\" x1=\"142.3\" x2=\"118.1\" y1=\"217.3\" y2=\"203.3\" />\n",
       "<line stroke=\"rgb(0,0,0)\" stroke-width=\"2.0\" x1=\"109.3\" x2=\"109.3\" y1=\"206.5\" y2=\"166.5\" />\n",
       "<line stroke=\"rgb(0,0,0)\" stroke-width=\"2.0\" x1=\"109.3\" x2=\"143.9\" y1=\"166.5\" y2=\"146.5\" />\n",
       "<line stroke=\"rgb(0,0,0)\" stroke-width=\"2.0\" x1=\"118.1\" x2=\"142.3\" y1=\"169.7\" y2=\"155.7\" />\n",
       "<text fill=\"rgb(191,191,191)\" font-size=\"16\" stroke=\"rgb(191,191,191)\" stroke-width=\"1\" x=\"222.967005\" y=\"264.890402\">H</text>\n",
       "<text fill=\"rgb(255,12,12)\" font-size=\"16\" stroke=\"rgb(255,12,12)\" stroke-width=\"1\" x=\"68.641016\" y=\"154.487462\">O</text>\n",
       "<text fill=\"rgb(191,191,191)\" font-size=\"16\" stroke=\"rgb(191,191,191)\" stroke-width=\"1\" x=\"313.579493\" y=\"69.409325\">H</text>\n",
       "<text fill=\"rgb(191,191,191)\" font-size=\"16\" stroke=\"rgb(191,191,191)\" stroke-width=\"1\" x=\"247.688365\" y=\"48.000000\">H</text>\n",
       "<text fill=\"rgb(12,12,255)\" font-size=\"16\" stroke=\"rgb(12,12,255)\" stroke-width=\"1\" x=\"274.453589\" y=\"77.725793\">N</text>\n",
       "<text fill=\"rgb(12,12,255)\" font-size=\"16\" stroke=\"rgb(12,12,255)\" stroke-width=\"1\" x=\"210.606325\" y=\"226.848142\">N</text>\n",
       "<text fill=\"rgb(191,191,191)\" font-size=\"16\" stroke=\"rgb(191,191,191)\" stroke-width=\"1\" x=\"34.000000\" y=\"174.487462\">H</text>\n",
       "<text fill=\"rgb(191,191,191)\" font-size=\"16\" stroke=\"rgb(191,191,191)\" stroke-width=\"1\" x=\"270.409377\" y=\"154.893958\">H</text>\n",
       "<text fill=\"rgb(191,191,191)\" font-size=\"16\" stroke=\"rgb(191,191,191)\" stroke-width=\"1\" x=\"300.135170\" y=\"128.128733\">H</text>\n",
       "<text fill=\"rgb(191,191,191)\" font-size=\"16\" stroke=\"rgb(191,191,191)\" stroke-width=\"1\" x=\"214.650537\" y=\"84.958617\">H</text>\n",
       "<text fill=\"rgb(191,191,191)\" font-size=\"16\" stroke=\"rgb(191,191,191)\" stroke-width=\"1\" x=\"184.924744\" y=\"111.723842\">H</text>\n",
       "<text fill=\"rgb(191,191,191)\" font-size=\"16\" stroke=\"rgb(191,191,191)\" stroke-width=\"1\" x=\"274.117735\" y=\"194.487462\">H</text>\n",
       "<text fill=\"rgb(191,191,191)\" font-size=\"16\" stroke=\"rgb(191,191,191)\" stroke-width=\"1\" x=\"137.923048\" y=\"114.487462\">H</text>\n",
       "<text fill=\"rgb(191,191,191)\" font-size=\"16\" stroke=\"rgb(191,191,191)\" stroke-width=\"1\" x=\"137.923048\" y=\"274.487462\">H</text>\n",
       "<text fill=\"rgb(191,191,191)\" font-size=\"16\" stroke=\"rgb(191,191,191)\" stroke-width=\"1\" x=\"68.641016\" y=\"234.487462\">H</text>\n",
       "</svg>\n"
      ],
      "text/plain": [
       "<pybel.Molecule at 0x1d462640eb8>"
      ]
     },
     "execution_count": 46,
     "metadata": {},
     "output_type": "execute_result"
    }
   ],
   "source": [
    "mol = readfile(\"pdb\", \"data/serotonin.pdb\").__next__()\n",
    "mol"
   ]
  },
  {
   "cell_type": "code",
   "execution_count": 47,
   "metadata": {
    "scrolled": false
   },
   "outputs": [],
   "source": [
    "# 查看Mol对象的父类\n",
    "# help(mol)"
   ]
  },
  {
   "cell_type": "code",
   "execution_count": 48,
   "metadata": {
    "scrolled": false
   },
   "outputs": [
    {
     "name": "stdout",
     "output_type": "stream",
     "text": [
      "len(mol.atoms)      mol.molwt     \n",
      "--------------  ------------------\n",
      "25              176.21507999999986\n"
     ]
    }
   ],
   "source": [
    "%C len(mol.atoms); mol.molwt"
   ]
  },
  {
   "cell_type": "code",
   "execution_count": 49,
   "metadata": {},
   "outputs": [
    {
     "name": "stdout",
     "output_type": "stream",
     "text": [
      "['AddAtom',\n",
      " 'AddBond',\n",
      " 'AddConformer',\n",
      " 'AddHydrogens',\n",
      " 'AddNewHydrogens',\n",
      "...\n"
     ]
    }
   ],
   "source": [
    "# 显示openbabel模块提供的方法列表\n",
    "%omit 5 dir(mol.OBMol)"
   ]
  },
  {
   "cell_type": "code",
   "execution_count": 50,
   "metadata": {},
   "outputs": [
    {
     "data": {
      "text/plain": [
       "(25, 176.21507999999986)"
      ]
     },
     "execution_count": 50,
     "metadata": {},
     "output_type": "execute_result"
    }
   ],
   "source": [
    "# pybel的Mol对象**通过OBMol**直接调用openbabel的方法\n",
    "mol.OBMol.AddHydrogens()\n",
    "len(mol.atoms), mol.molwt"
   ]
  },
  {
   "cell_type": "markdown",
   "metadata": {},
   "source": [
    "使用openpybel创建分子, 使用pybel保存分子"
   ]
  },
  {
   "cell_type": "code",
   "execution_count": 51,
   "metadata": {},
   "outputs": [],
   "source": [
    "import openbabel, pybel"
   ]
  },
  {
   "cell_type": "code",
   "execution_count": 52,
   "metadata": {},
   "outputs": [
    {
     "data": {
      "image/svg+xml": [
       "<svg xmlns=\"http://www.w3.org/2000/svg\" font-family=\"sans-serif\" height=\"100\" stroke=\"rgb(0,0,0)\" stroke-linecap=\"round\" stroke-width=\"2\" viewBox=\"0 0 120 80\" width=\"100\" x=\"0\" y=\"0\">\n",
       "<line stroke=\"rgb(0,0,0)\" stroke-width=\"2.0\" x1=\"67.0\" x2=\"53.0\" y1=\"40.0\" y2=\"40.0\" />\n",
       "<line stroke=\"rgb(0,0,0)\" stroke-width=\"2.0\" x1=\"67.0\" x2=\"53.0\" y1=\"44.2\" y2=\"44.2\" />\n",
       "<line stroke=\"rgb(0,0,0)\" stroke-width=\"2.0\" x1=\"67.0\" x2=\"53.0\" y1=\"35.8\" y2=\"35.8\" />\n",
       "<text fill=\"rgb(102,102,102)\" font-size=\"16\" stroke=\"rgb(102,102,102)\" stroke-width=\"1\" x=\"74.000000\" y=\"48.000000\">CH</text>\n",
       "<text fill=\"rgb(102,102,102)\" font-size=\"16\" stroke=\"rgb(102,102,102)\" stroke-width=\"1\" x=\"22.000000\" y=\"48.000000\">HC</text>\n",
       "</svg>\n"
      ],
      "text/plain": [
       "<pybel.Molecule at 0x1d462621240>"
      ]
     },
     "execution_count": 52,
     "metadata": {},
     "output_type": "execute_result"
    }
   ],
   "source": [
    "# 使用openbabel创建分子对象\n",
    "mol = openbabel.OBMol()\n",
    "a = mol.NewAtom()\n",
    "a.SetAtomicNum(6) # carbon atom\n",
    "a.SetVector(0.0, 1.0, 2.0) # coordinates\n",
    "b = mol.NewAtom()\n",
    "b.SetAtomicNum(6)\n",
    "mol.AddBond(1, 2, 3) # atoms indexed from 1\n",
    "\n",
    "# 使用pybel模块保存分子对象\n",
    "pybelmol = pybel.Molecule(mol)\n",
    "pybelmol"
   ]
  },
  {
   "cell_type": "code",
   "execution_count": 53,
   "metadata": {},
   "outputs": [],
   "source": [
    "pybelmol.write(\"sdf\", \"data/C2H2.sdf\", overwrite=True)"
   ]
  },
  {
   "cell_type": "markdown",
   "metadata": {},
   "source": [
    "## Pybel API"
   ]
  },
  {
   "cell_type": "markdown",
   "metadata": {},
   "source": [
    "pybel API: http://openbabel.org/docs/current/UseTheLibrary/Python_PybelAPI.html;"
   ]
  },
  {
   "cell_type": "markdown",
   "metadata": {},
   "source": [
    "### pybel的全局变量"
   ]
  },
  {
   "cell_type": "code",
   "execution_count": 54,
   "metadata": {},
   "outputs": [],
   "source": [
    "global_variables = ['informats', 'outformats', 'descs', 'fps', 'forcefields', 'operations']"
   ]
  },
  {
   "cell_type": "markdown",
   "metadata": {
    "scrolled": true
   },
   "source": [
    "pybel支持的所有输入文件"
   ]
  },
  {
   "cell_type": "code",
   "execution_count": 55,
   "metadata": {},
   "outputs": [
    {
     "name": "stdout",
     "output_type": "stream",
     "text": [
      "{'abinit': 'ABINIT Output Format',\n",
      " 'acesout': 'ACES output format',\n",
      " 'acr': 'ACR format',\n",
      " 'adfout': 'ADF output format',\n",
      " 'alc': 'Alchemy format',\n",
      "...\n"
     ]
    }
   ],
   "source": [
    "%omit 5 pybel.informats"
   ]
  },
  {
   "cell_type": "markdown",
   "metadata": {
    "scrolled": true
   },
   "source": [
    "pybel支持的所有输出文件"
   ]
  },
  {
   "cell_type": "code",
   "execution_count": 56,
   "metadata": {
    "scrolled": true
   },
   "outputs": [
    {
     "name": "stdout",
     "output_type": "stream",
     "text": [
      "{'acesin': 'ACES input format',\n",
      " 'adf': 'ADF cartesian input format',\n",
      " 'alc': 'Alchemy format',\n",
      " 'ascii': 'ASCII format',\n",
      " 'bgf': 'MSI BGF format',\n",
      "...\n"
     ]
    }
   ],
   "source": [
    "%omit 5 pybel.outformats"
   ]
  },
  {
   "cell_type": "markdown",
   "metadata": {},
   "source": [
    "pybel支持的所有描述符"
   ]
  },
  {
   "cell_type": "code",
   "execution_count": 57,
   "metadata": {},
   "outputs": [
    {
     "name": "stdout",
     "output_type": "stream",
     "text": [
      "abonds  |atoms   |bonds   |cansmi  |cansmiNS|dbonds  |formula |HBA1    |HBA2    |HBD     |InChI   |\n",
      "InChIKey|L5      |logP    |MP      |MR      |MW      |nF      |s       |sbonds  |smarts  |tbonds  |\n",
      "title   |TPSA    |\n"
     ]
    }
   ],
   "source": [
    "%col 11 pybel.descs "
   ]
  },
  {
   "cell_type": "markdown",
   "metadata": {},
   "source": [
    "pybel支持的所有操作"
   ]
  },
  {
   "cell_type": "code",
   "execution_count": 58,
   "metadata": {},
   "outputs": [
    {
     "name": "stdout",
     "output_type": "stream",
     "text": [
      "0xout        |addfilename  |AddInIndex   |AddNonPolarH |AddPolarH    |align        |canonical    |ChangeCell   |\n",
      "confab       |conformer    |DelNonPolarH |DelPolarH    |energy       |fillUC       |gen2D        |gen3D        |\n",
      "genalias     |highlight    |largest      |minimize     |partialcharge|readconformer|s            |smallest     |\n",
      "sort         |split        |unique       |v            |\n"
     ]
    }
   ],
   "source": [
    "%col 8 pybel.operations"
   ]
  },
  {
   "cell_type": "markdown",
   "metadata": {},
   "source": [
    "pybel支持的所有指纹类型"
   ]
  },
  {
   "cell_type": "code",
   "execution_count": 59,
   "metadata": {},
   "outputs": [
    {
     "name": "stdout",
     "output_type": "stream",
     "text": [
      "ecfp0 |ecfp10|ecfp2 |ecfp4 |ecfp6 |ecfp8 |fp2   |fp3   |fp4   |maccs |\n"
     ]
    }
   ],
   "source": [
    "%col 11 pybel.fps "
   ]
  },
  {
   "cell_type": "markdown",
   "metadata": {},
   "source": [
    "pybel支持的所有力场"
   ]
  },
  {
   "cell_type": "code",
   "execution_count": 60,
   "metadata": {},
   "outputs": [
    {
     "data": {
      "text/plain": [
       "['gaff', 'ghemical', 'mmff94', 'mmff94s', 'uff']"
      ]
     },
     "execution_count": 60,
     "metadata": {},
     "output_type": "execute_result"
    }
   ],
   "source": [
    "pybel.forcefields "
   ]
  },
  {
   "cell_type": "markdown",
   "metadata": {},
   "source": [
    "### pybel函数和类"
   ]
  },
  {
   "cell_type": "markdown",
   "metadata": {},
   "source": [
    "**pybel函数**: readfile(), readstring();  \n",
    "**pybel类**: Atom, Molecule, Outputfile, Fingerprint, Smarts, MoleculeData;  \n",
    "**openbabel**模块的原子对象和分子对象由OBAtom和OBMol定义;"
   ]
  },
  {
   "cell_type": "markdown",
   "metadata": {},
   "source": [
    "## 其他网络资源"
   ]
  },
  {
   "cell_type": "markdown",
   "metadata": {},
   "source": [
    "http://openbabel.org/docs/current/UseTheLibrary/PythonExamples.html"
   ]
  }
 ],
 "metadata": {
  "kernelspec": {
   "display_name": "Python 3",
   "language": "python",
   "name": "python3"
  },
  "language_info": {
   "codemirror_mode": {
    "name": "ipython",
    "version": 3
   },
   "file_extension": ".py",
   "mimetype": "text/x-python",
   "name": "python",
   "nbconvert_exporter": "python",
   "pygments_lexer": "ipython3",
   "version": "3.6.5"
  },
  "toc": {
   "base_numbering": 1,
   "nav_menu": {},
   "number_sections": true,
   "sideBar": true,
   "skip_h1_title": true,
   "title_cell": "Table of Contents",
   "title_sidebar": "Contents",
   "toc_cell": false,
   "toc_position": {
    "height": "calc(100% - 180px)",
    "left": "10px",
    "top": "150px",
    "width": "267px"
   },
   "toc_section_display": true,
   "toc_window_display": true
  }
 },
 "nbformat": 4,
 "nbformat_minor": 2
}
