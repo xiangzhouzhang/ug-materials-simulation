{
 "cells": [
  {
   "cell_type": "markdown",
   "metadata": {},
   "source": [
    "# openbabel的安装和使用(python3.6)"
   ]
  },
  {
   "cell_type": "markdown",
   "metadata": {},
   "source": [
    "## OpenBabel的安装"
   ]
  },
  {
   "cell_type": "markdown",
   "metadata": {},
   "source": [
    " 1. **OpenBabel**: 对化学数据进行查询, 转换, 分析和存储的开源项目;  "
   ]
  },
  {
   "cell_type": "markdown",
   "metadata": {},
   "source": [
    " 2. **OpenBabel的GUI**(windows): http://openbabel.org/wiki/Category:Installation;  "
   ]
  },
  {
   "cell_type": "markdown",
   "metadata": {},
   "source": [
    " 3. **OpenBabel的Python绑定**: https://pypi.org/project/openbabel/;   \n",
    "    * `pip install openbabel`同时安装了openbabel和pybel两个模块;\n",
    "    * 避免使用pip3单独安装`PyBEL`, 它是一个与此无关的另一个项目;\n",
    "    * **openbabel**: OpenBabel 的标准绑定, 由`SWIG(C++->python)`产生;  \n",
    "    * **pybel**: 比 openbabel 更轻便的模块包; "
   ]
  },
  {
   "cell_type": "markdown",
   "metadata": {},
   "source": [
    " 4. 在CMD测试GUI是否安装正确"
   ]
  },
  {
   "cell_type": "markdown",
   "metadata": {},
   "source": [
    "版本信息"
   ]
  },
  {
   "cell_type": "code",
   "execution_count": 1,
   "metadata": {},
   "outputs": [
    {
     "name": "stdout",
     "output_type": "stream",
     "text": [
      "Open Babel 2.4.1 -- Oct 10 2016 -- 21:27:47\n"
     ]
    }
   ],
   "source": [
    "!obabel -V "
   ]
  },
  {
   "cell_type": "markdown",
   "metadata": {},
   "source": [
    "关于smiles格式的帮助信息"
   ]
  },
  {
   "cell_type": "code",
   "execution_count": 2,
   "metadata": {},
   "outputs": [
    {
     "name": "stdout",
     "output_type": "stream",
     "text": [
      "smiles  SMILES format\n",
      "A linear text format which can describe the connectivity and chirality of a molecule\n",
      "Open Babel implements the `OpenSMILES specification <http://opensmiles.org>`_.\n",
      "\n",
      "It also implements an extension to this specification for radicals.\n",
      "\n",
      "Note that the ``l <atomno>`` option, used to specify a \"last\" atom, is\n",
      "intended for the generation of SMILES strings to which additional atoms\n",
      "will be concatenated. If the atom specified has an explicit H within a bracket\n",
      "(e.g. ``[nH]`` or ``[C@@H]``) the output will have the H removed along with any\n",
      "associated stereo symbols.\n",
      "\n",
      ".. seealso::\n",
      "\n",
      "  The :ref:`Canonical_SMILES_format` produces a canonical representation\n",
      "  of the molecule in SMILES format. This is the same as the ``c`` option\n",
      "  below but may be more convenient to use.\n",
      "\n",
      "Write Options e.g. -xt\n",
      "  a  Output atomclass like [C:2], if available\n",
      "  c  Output in canonical form\n",
      "  U  Universal SMILES\n",
      "  I  Inchified SMILES\n",
      "  h  Output explicit hydrogens as such\n",
      "  i  Do not include isotopic or chiral markings\n",
      "  n  No molecule name\n",
      "  r  Radicals lower case eg ethyl is Cc\n",
      "  t  Molecule name only\n",
      "  x  append X/Y coordinates in canonical-SMILES order\n",
      "  C  'anti-canonical' random order (mostly for testing)\n",
      "  o  <ordering> Output in user-specified order\n",
      "     Ordering should be specified like 4-2-1-3 for a 4-atom molecule.\n",
      "     This gives canonical labels 1,2,3,4 to atoms 4,2,1,3 respectively,\n",
      "     so that atom 4 will be visited first and the remaining atoms\n",
      "     visited in a depth-first manner following the lowest canonical labels.\n",
      "  F  <atom numbers> Generate SMILES for a fragment\n",
      "     The atom numbers should be specified like \"1 2 4 7\".\n",
      "  R  Do not reuse bond closure symbols\n",
      "  f  <atomno> Specify the first atom\n",
      "     This atom will be used to begin the SMILES string.\n",
      "  l  <atomno> Specify the last atom\n",
      "     The output will be rearranged so that any additional\n",
      "     SMILES added to the end will be attached to this atom.\n",
      "\n",
      "\n",
      "Specification at: http://www.daylight.com/smiles/\n"
     ]
    }
   ],
   "source": [
    "!obabel -Hsmiles"
   ]
  },
  {
   "cell_type": "markdown",
   "metadata": {},
   "source": [
    "5. 在Python下检查模块`pybel`是否安装正确"
   ]
  },
  {
   "cell_type": "code",
   "execution_count": 3,
   "metadata": {},
   "outputs": [],
   "source": [
    "import pybel"
   ]
  },
  {
   "cell_type": "markdown",
   "metadata": {},
   "source": [
    "显示分子结构: 如果draw()出现问题,修改下源文件;"
   ]
  },
  {
   "cell_type": "code",
   "execution_count": 4,
   "metadata": {},
   "outputs": [
    {
     "data": {
      "image/svg+xml": [
       "<svg xmlns=\"http://www.w3.org/2000/svg\" font-family=\"sans-serif\" height=\"100\" stroke=\"rgb(0,0,0)\" stroke-linecap=\"round\" stroke-width=\"2\" viewBox=\"0 0 189.282 180\" width=\"100\" x=\"0\" y=\"0\">\n",
       "<line stroke=\"rgb(0,0,0)\" stroke-width=\"2.0\" x1=\"80.0\" x2=\"80.0\" y1=\"127.0\" y2=\"100.0\" />\n",
       "<line stroke=\"rgb(0,0,0)\" stroke-width=\"2.0\" x1=\"80.0\" x2=\"66.5\" y1=\"100.0\" y2=\"76.6\" />\n",
       "<line stroke=\"rgb(0,0,0)\" stroke-width=\"2.0\" x1=\"80.0\" x2=\"53.0\" y1=\"100.0\" y2=\"100.0\" />\n",
       "<line stroke=\"rgb(0,0,0)\" stroke-width=\"2.0\" x1=\"80.0\" x2=\"114.6\" y1=\"100.0\" y2=\"80.0\" />\n",
       "<line stroke=\"rgb(0,0,0)\" stroke-width=\"2.0\" x1=\"116.1\" x2=\"139.5\" y1=\"77.4\" y2=\"90.9\" />\n",
       "<line stroke=\"rgb(0,0,0)\" stroke-width=\"2.0\" x1=\"113.1\" x2=\"136.5\" y1=\"82.6\" y2=\"96.1\" />\n",
       "<line stroke=\"rgb(0,0,0)\" stroke-width=\"2.0\" x1=\"114.6\" x2=\"114.6\" y1=\"80.0\" y2=\"53.0\" />\n",
       "<text fill=\"rgb(12,12,255)\" font-size=\"16\" stroke=\"rgb(12,12,255)\" stroke-width=\"1\" x=\"76.000000\" y=\"148.000000\">NH</text>\n",
       "<text fill=\"rgb(12,12,255)\" font-size=\"13\" stroke=\"rgb(12,12,255)\" stroke-width=\"1\" x=\"100.000000\" y=\"151.680000\">2</text>\n",
       "<text fill=\"rgb(191,191,191)\" font-size=\"16\" stroke=\"rgb(191,191,191)\" stroke-width=\"1\" x=\"54.000000\" y=\"73.358984\">H</text>\n",
       "<text fill=\"rgb(102,102,102)\" font-size=\"16\" stroke=\"rgb(102,102,102)\" stroke-width=\"1\" x=\"14.000000\" y=\"108.000000\">H</text>\n",
       "<text fill=\"rgb(102,102,102)\" font-size=\"13\" stroke=\"rgb(102,102,102)\" stroke-width=\"1\" x=\"26.000000\" y=\"111.680000\">3</text>\n",
       "<text fill=\"rgb(102,102,102)\" font-size=\"16\" stroke=\"rgb(102,102,102)\" stroke-width=\"1\" x=\"32.500000\" y=\"108.000000\">C</text>\n",
       "<text fill=\"rgb(255,12,12)\" font-size=\"16\" stroke=\"rgb(255,12,12)\" stroke-width=\"1\" x=\"143.282032\" y=\"108.000000\">O</text>\n",
       "<text fill=\"rgb(255,12,12)\" font-size=\"16\" stroke=\"rgb(255,12,12)\" stroke-width=\"1\" x=\"108.641016\" y=\"48.000000\">OH</text>\n",
       "</svg>\n"
      ],
      "text/plain": [
       "<pybel.Molecule at 0x290d26c1b70>"
      ]
     },
     "execution_count": 4,
     "metadata": {},
     "output_type": "execute_result"
    }
   ],
   "source": [
    "alanine_smi='N[CH](C)C(=O)O'\n",
    "mol = pybel.readstring(\"smi\",alanine_smi) #丙氨酸\n",
    "mol   # mol.draw() #使用`tkinter`显示文件"
   ]
  },
  {
   "cell_type": "code",
   "execution_count": 5,
   "metadata": {
    "scrolled": true
   },
   "outputs": [
    {
     "data": {
      "image/svg+xml": [
       "<svg xmlns=\"http://www.w3.org/2000/svg\" font-family=\"sans-serif\" height=\"100\" stroke=\"rgb(0,0,0)\" stroke-linecap=\"round\" stroke-width=\"2\" viewBox=\"0 0 243.923 223.923\" width=\"100\" x=\"0\" y=\"0\">\n",
       "<line stroke=\"rgb(0,0,0)\" stroke-width=\"2.0\" x1=\"130.4\" x2=\"143.9\" y1=\"138.0\" y2=\"114.6\" />\n",
       "<line stroke=\"rgb(0,0,0)\" stroke-width=\"2.0\" x1=\"143.9\" x2=\"167.3\" y1=\"114.6\" y2=\"128.1\" />\n",
       "<line stroke=\"rgb(0,0,0)\" stroke-width=\"2.0\" x1=\"143.9\" x2=\"163.9\" y1=\"114.6\" y2=\"80.0\" />\n",
       "<line stroke=\"rgb(0,0,0)\" stroke-width=\"2.0\" x1=\"143.9\" x2=\"109.3\" y1=\"114.6\" y2=\"94.6\" />\n",
       "<line stroke=\"rgb(0,0,0)\" stroke-width=\"2.0\" x1=\"106.3\" x2=\"106.3\" y1=\"94.6\" y2=\"67.6\" />\n",
       "<line stroke=\"rgb(0,0,0)\" stroke-width=\"2.0\" x1=\"112.3\" x2=\"112.3\" y1=\"94.6\" y2=\"67.6\" />\n",
       "<line stroke=\"rgb(0,0,0)\" stroke-width=\"2.0\" x1=\"109.3\" x2=\"85.9\" y1=\"94.6\" y2=\"108.1\" />\n",
       "<line stroke=\"rgb(0,0,0)\" stroke-width=\"2.0\" x1=\"110.9\" x2=\"96.9\" y1=\"149.3\" y2=\"149.3\" />\n",
       "<line stroke=\"rgb(0,0,0)\" stroke-width=\"2.0\" x1=\"130.4\" x2=\"137.4\" y1=\"160.5\" y2=\"172.7\" />\n",
       "<line stroke=\"rgb(0,0,0)\" stroke-width=\"2.0\" x1=\"163.9\" x2=\"163.9\" y1=\"80.0\" y2=\"53.0\" />\n",
       "<line stroke=\"rgb(0,0,0)\" stroke-width=\"2.0\" x1=\"163.9\" x2=\"140.5\" y1=\"80.0\" y2=\"66.5\" />\n",
       "<line stroke=\"rgb(0,0,0)\" stroke-width=\"2.0\" x1=\"163.9\" x2=\"190.9\" y1=\"80.0\" y2=\"80.0\" />\n",
       "<line stroke=\"rgb(0,0,0)\" stroke-width=\"2.0\" x1=\"63.4\" x2=\"51.3\" y1=\"108.1\" y2=\"101.1\" />\n",
       "<text fill=\"rgb(12,12,255)\" font-size=\"16\" stroke=\"rgb(12,12,255)\" stroke-width=\"1\" x=\"117.923048\" y=\"157.282032\">N</text>\n",
       "<text fill=\"rgb(191,191,191)\" font-size=\"16\" stroke=\"rgb(191,191,191)\" stroke-width=\"1\" x=\"172.564065\" y=\"142.641016\">H</text>\n",
       "<text fill=\"rgb(255,12,12)\" font-size=\"16\" stroke=\"rgb(255,12,12)\" stroke-width=\"1\" x=\"103.282032\" y=\"62.641016\">O</text>\n",
       "<text fill=\"rgb(255,12,12)\" font-size=\"16\" stroke=\"rgb(255,12,12)\" stroke-width=\"1\" x=\"68.641016\" y=\"122.641016\">O</text>\n",
       "<text fill=\"rgb(191,191,191)\" font-size=\"16\" stroke=\"rgb(191,191,191)\" stroke-width=\"1\" x=\"77.923048\" y=\"157.282032\">H</text>\n",
       "<text fill=\"rgb(191,191,191)\" font-size=\"16\" stroke=\"rgb(191,191,191)\" stroke-width=\"1\" x=\"137.923048\" y=\"191.923048\">H</text>\n",
       "<text fill=\"rgb(191,191,191)\" font-size=\"16\" stroke=\"rgb(191,191,191)\" stroke-width=\"1\" x=\"157.923048\" y=\"48.000000\">H</text>\n",
       "<text fill=\"rgb(191,191,191)\" font-size=\"16\" stroke=\"rgb(191,191,191)\" stroke-width=\"1\" x=\"123.282032\" y=\"68.000000\">H</text>\n",
       "<text fill=\"rgb(191,191,191)\" font-size=\"16\" stroke=\"rgb(191,191,191)\" stroke-width=\"1\" x=\"197.923048\" y=\"88.000000\">H</text>\n",
       "<text fill=\"rgb(191,191,191)\" font-size=\"16\" stroke=\"rgb(191,191,191)\" stroke-width=\"1\" x=\"34.000000\" y=\"102.641016\">H</text>\n",
       "</svg>\n"
      ],
      "text/plain": [
       "<pybel.Molecule at 0x290d26c1b70>"
      ]
     },
     "execution_count": 5,
     "metadata": {},
     "output_type": "execute_result"
    }
   ],
   "source": [
    "mol.make3D() # 3D格式\n",
    "mol"
   ]
  },
  {
   "cell_type": "markdown",
   "metadata": {},
   "source": [
    "将结构保存为smi字符串"
   ]
  },
  {
   "cell_type": "code",
   "execution_count": 6,
   "metadata": {},
   "outputs": [
    {
     "name": "stdout",
     "output_type": "stream",
     "text": [
      "NC(C)C(=O)O\t\n",
      "\n"
     ]
    }
   ],
   "source": [
    "print(mol.write(\"smiles\")) "
   ]
  },
  {
   "cell_type": "markdown",
   "metadata": {},
   "source": [
    "将分子信息写入sdf文件"
   ]
  },
  {
   "cell_type": "code",
   "execution_count": 7,
   "metadata": {},
   "outputs": [
    {
     "name": "stdout",
     "output_type": "stream",
     "text": [
      "@data/alanine.sdf>>                               \n",
      "  1: \n",
      "  2:  OpenBabel11061813563D\n",
      "  3: \n",
      "  4:  13 12  0  0  1  0  0  0  0  0999 V2000\n",
      "  5:     0.9202   -0.0383    0.0438 N   0  0  0  0  0  0  0  0  0  0  0  0\n"
     ]
    }
   ],
   "source": [
    "mol.write(format=\"sdf\",filename='data/alanine.sdf',overwrite=1) \n",
    "showfile('data/alanine.sdf',headn=5)"
   ]
  },
  {
   "cell_type": "markdown",
   "metadata": {},
   "source": [
    "6. 在Python下检查模块`openbabel`是否安装正确"
   ]
  },
  {
   "cell_type": "code",
   "execution_count": 8,
   "metadata": {},
   "outputs": [],
   "source": [
    "import openbabel #不报错即使安装正确"
   ]
  },
  {
   "cell_type": "markdown",
   "metadata": {},
   "source": [
    "## openbabel模块"
   ]
  },
  {
   "cell_type": "markdown",
   "metadata": {},
   "source": [
    "OpenBabel中的对象类型:\n",
    "\n",
    "* `OBMol`: 分子对象;  \n",
    "* `OBAtom`: 原子对象;  \n",
    "* `OBBond`: 键对象;   \n",
    "* `OBResidue`: 残基对象;   \n",
    "* `OBConversion`: 转换对象;\n",
    "\n",
    "注意: 只有pybel的Molecule对象有draw()方法, 而openbabel的OBMol对象没有draw()方法;"
   ]
  },
  {
   "cell_type": "markdown",
   "metadata": {},
   "source": [
    "### OBMol, OBAtom, OBBond  "
   ]
  },
  {
   "cell_type": "markdown",
   "metadata": {
    "code_folding": []
   },
   "source": [
    "建立分子对象mol, 此时mol中没有原子"
   ]
  },
  {
   "cell_type": "code",
   "execution_count": 9,
   "metadata": {
    "code_folding": []
   },
   "outputs": [
    {
     "data": {
      "text/plain": [
       "openbabel.OBMol"
      ]
     },
     "execution_count": 9,
     "metadata": {},
     "output_type": "execute_result"
    }
   ],
   "source": [
    "mol = openbabel.OBMol() \n",
    "type(mol)"
   ]
  },
  {
   "cell_type": "markdown",
   "metadata": {
    "code_folding": []
   },
   "source": [
    "在分子对象上建立原子对象a"
   ]
  },
  {
   "cell_type": "code",
   "execution_count": 10,
   "metadata": {
    "code_folding": []
   },
   "outputs": [
    {
     "data": {
      "text/plain": [
       "openbabel.OBAtom"
      ]
     },
     "execution_count": 10,
     "metadata": {},
     "output_type": "execute_result"
    }
   ],
   "source": [
    "a = mol.NewAtom()\n",
    "a.SetAtomicNum(6) # 设置a的原子类型为C原子\n",
    "a.SetVector(0.0, 1.0, 2.0) # 设置C原子的空间位置\n",
    "type(a)"
   ]
  },
  {
   "cell_type": "code",
   "execution_count": 11,
   "metadata": {},
   "outputs": [
    {
     "name": "stdout",
     "output_type": "stream",
     "text": [
      "a.GetAtomicNum()  a.GetZ()\n",
      "----------------  --------\n",
      "6                 2.0     \n"
     ]
    }
   ],
   "source": [
    "%C a.GetAtomicNum(); a.GetZ()"
   ]
  },
  {
   "cell_type": "code",
   "execution_count": 12,
   "metadata": {
    "code_folding": []
   },
   "outputs": [],
   "source": [
    "# 在mol中添加空白原子b\n",
    "b = mol.NewAtom() "
   ]
  },
  {
   "cell_type": "markdown",
   "metadata": {
    "code_folding": []
   },
   "source": [
    "在mol中添加键"
   ]
  },
  {
   "cell_type": "code",
   "execution_count": 13,
   "metadata": {
    "code_folding": []
   },
   "outputs": [
    {
     "data": {
      "text/plain": [
       "openbabel.OBMol"
      ]
     },
     "execution_count": 13,
     "metadata": {},
     "output_type": "execute_result"
    }
   ],
   "source": [
    "mol.AddBond(1, 2, 1) #在第一个原子和第二个原子之间添加单键\n",
    "type(mol)"
   ]
  },
  {
   "cell_type": "markdown",
   "metadata": {
    "code_folding": []
   },
   "source": [
    "查看分子内的原子数和成键数"
   ]
  },
  {
   "cell_type": "code",
   "execution_count": 14,
   "metadata": {
    "code_folding": []
   },
   "outputs": [
    {
     "name": "stdout",
     "output_type": "stream",
     "text": [
      "mol.NumAtoms()  mol.NumBonds()\n",
      "--------------  --------------\n",
      "2               1             \n"
     ]
    }
   ],
   "source": [
    "%C mol.NumAtoms(); mol.NumBonds()"
   ]
  },
  {
   "cell_type": "markdown",
   "metadata": {
    "code_folding": []
   },
   "source": [
    "清除分子信息: 将分子变为一个空白分子, 而不是删除该分子"
   ]
  },
  {
   "cell_type": "code",
   "execution_count": 15,
   "metadata": {
    "code_folding": []
   },
   "outputs": [
    {
     "data": {
      "text/plain": [
       "True"
      ]
     },
     "execution_count": 15,
     "metadata": {},
     "output_type": "execute_result"
    }
   ],
   "source": [
    "mol.Clear()"
   ]
  },
  {
   "cell_type": "markdown",
   "metadata": {},
   "source": [
    "### OBConversion"
   ]
  },
  {
   "cell_type": "markdown",
   "metadata": {},
   "source": [
    "使用**OBConversion**类:  \n",
    "将`smi字符串`的结构信息读入到空白分子中, 然后将分子对象`充满H原子`, 最后将分子信息写入一个`mdl字符串`;"
   ]
  },
  {
   "cell_type": "markdown",
   "metadata": {},
   "source": [
    "创建一个OB转换对象"
   ]
  },
  {
   "cell_type": "code",
   "execution_count": 16,
   "metadata": {},
   "outputs": [
    {
     "data": {
      "text/plain": [
       "openbabel.OBConversion"
      ]
     },
     "execution_count": 16,
     "metadata": {},
     "output_type": "execute_result"
    }
   ],
   "source": [
    "obConversion = openbabel.OBConversion()\n",
    "type(obConversion)"
   ]
  },
  {
   "cell_type": "markdown",
   "metadata": {},
   "source": [
    "同时设置输入文件和输出文件的格式"
   ]
  },
  {
   "cell_type": "code",
   "execution_count": 17,
   "metadata": {},
   "outputs": [
    {
     "data": {
      "text/plain": [
       "True"
      ]
     },
     "execution_count": 17,
     "metadata": {},
     "output_type": "execute_result"
    }
   ],
   "source": [
    "obConversion.SetInAndOutFormats(\"smi\", \"mdl\") "
   ]
  },
  {
   "cell_type": "markdown",
   "metadata": {},
   "source": [
    "创建一个分子对象,往分子对象中读入结构信息"
   ]
  },
  {
   "cell_type": "code",
   "execution_count": 18,
   "metadata": {},
   "outputs": [],
   "source": [
    "mol = openbabel.OBMol()\n",
    "obConversion.ReadString(mol, alanine_smi)\n",
    "num1 = mol.NumAtoms() #填充H之前的原子数"
   ]
  },
  {
   "cell_type": "markdown",
   "metadata": {},
   "source": [
    "往分子结构中填充H原子 "
   ]
  },
  {
   "cell_type": "code",
   "execution_count": 19,
   "metadata": {},
   "outputs": [],
   "source": [
    "mol.AddHydrogens()   \n",
    "num2 = mol.NumAtoms()#填充H之后的原子数"
   ]
  },
  {
   "cell_type": "code",
   "execution_count": 20,
   "metadata": {},
   "outputs": [
    {
     "name": "stdout",
     "output_type": "stream",
     "text": [
      "num1     num2\n",
      "----     ----\n",
      "7        13  \n"
     ]
    }
   ],
   "source": [
    "%C 5 num1; num2"
   ]
  },
  {
   "cell_type": "markdown",
   "metadata": {},
   "source": [
    "将分子写入一个MDL字符串 "
   ]
  },
  {
   "cell_type": "code",
   "execution_count": 21,
   "metadata": {},
   "outputs": [
    {
     "name": "stdout",
     "output_type": "stream",
     "text": [
      "OpenBabel11061813562D\n",
      "\n",
      " 13 12  0  0  1  0  0  0  0  0999 V2000\n",
      "    0.0000    0.0000    0.0000 N   0  0  0  0  0  0  0  0  0  0  0  0\n",
      "    0.0000    0.0000    0.0000 C   0  0  3  0  0  0  0  0  0  0  \n"
     ]
    }
   ],
   "source": [
    "outMDL = obConversion.WriteString(mol)\n",
    "print(outMDL[2:200])"
   ]
  },
  {
   "cell_type": "markdown",
   "metadata": {},
   "source": [
    "文件格式转换: 从文件1读入分子信息, 然后写入文件2;"
   ]
  },
  {
   "cell_type": "code",
   "execution_count": 22,
   "metadata": {},
   "outputs": [
    {
     "name": "stdout",
     "output_type": "stream",
     "text": [
      "mol.NumAtoms()     mol.NumBonds()     mol.NumResidues()\n",
      "--------------     --------------     -----------------\n",
      "0                  0                  0                \n"
     ]
    }
   ],
   "source": [
    "import openbabel\n",
    "obConversion = openbabel.OBConversion()\n",
    "obConversion.SetInAndOutFormats(\"pdb\", \"mol2\")\n",
    "\n",
    "mol = openbabel.OBMol()\n",
    "obConversion.ReadFile(mol, \"data/serotonin.pdb\")   # 文件扩展名可以是`.mol.gz`,自动解压\n",
    "mol.AddHydrogens()\n",
    "\n",
    "obConversion.WriteFile(mol, 'data/serotonin.mol2')\n",
    "obConversion.CloseOutFile()\n",
    "\n",
    "mol.Clear()\n",
    "%C 5 mol.NumAtoms(); mol.NumBonds(); mol.NumResidues()"
   ]
  },
  {
   "cell_type": "markdown",
   "metadata": {},
   "source": [
    "### 迭代器类"
   ]
  },
  {
   "cell_type": "markdown",
   "metadata": {},
   "source": [
    "**OBAtomAtomIter, OBAtomBondIter**: 给定`原子对象`, 迭代其`近邻原子和近邻键`;  \n",
    "**OBMolAtomIter, OBMolBondIter, OBMolAngleIter, OBMolTorsionIter, OBMolRingIter**: 给定`分子对象`, 迭代所有的`原子,键,键角,扭转角和环`;    \n",
    "\n",
    "**OBMolAtomBFSIter**: 给定`分子对象和原子索引`, 以`广度优先的方式`(breadth-first)遍历所有的近邻原子, 返回`原子对象和原子对象的深度`(由breadth-first定义);   \n",
    "\n",
    "**OBMolPairIter**: 给定`分子对象`, 迭代所有的`原子对`(由三个键分隔的);  \n",
    "\n",
    "**OBResidueIter**: 给定`蛋白质对象`(分子对象), 迭代所有的`残基对象`(蛋白质脱水后剩余的结构);   \n",
    "**OBResidueAtomIter**: 给定`残基对象`, 迭代所有的`原子对象`; "
   ]
  },
  {
   "cell_type": "markdown",
   "metadata": {},
   "source": [
    "迭代类的使用方式"
   ]
  },
  {
   "cell_type": "code",
   "execution_count": 23,
   "metadata": {},
   "outputs": [],
   "source": [
    "%%pass \n",
    "for obatom in openbabel.OBMolAtomIter(obmol):\n",
    "    print(obatom.GetAtomicMass())"
   ]
  },
  {
   "cell_type": "markdown",
   "metadata": {},
   "source": [
    "Note that OBMolTorsionIter returns atom IDs which are off by one. That is, you need to add one to each ID to get the correct ID. Also, if you add or remove atoms, you will need to delete the existing TorsionData before using OBMolTorsionIter."
   ]
  },
  {
   "cell_type": "code",
   "execution_count": 24,
   "metadata": {},
   "outputs": [],
   "source": [
    "%%pass  \n",
    "mol.DeleteData(openbabel.TorsionData)"
   ]
  },
  {
   "cell_type": "markdown",
   "metadata": {},
   "source": [
    "> 单键旋转时, 相邻碳上的其他键会交叉成一定的角度, 称为**扭转角**;   \n",
    "扭转角是0°的构象为`重叠构象`, 扭转角是180°的构象为`反错构象`, 扭转角是60°的构象是`邻位交叉构象`;"
   ]
  },
  {
   "cell_type": "markdown",
   "metadata": {},
   "source": [
    "### C语言双精度数组"
   ]
  },
  {
   "cell_type": "markdown",
   "metadata": {},
   "source": [
    "openbabel的C数组要求其元素不能为随意精度的数字, 必须明确指出其为双精度类型;  \n",
    "例如: 旋转矩阵的元素类型必须是C double;"
   ]
  },
  {
   "cell_type": "code",
   "execution_count": 25,
   "metadata": {},
   "outputs": [],
   "source": [
    "%%pass Error\n",
    "bMol.Rotate([1.0, -54.7, 3]) "
   ]
  },
  {
   "cell_type": "markdown",
   "metadata": {},
   "source": [
    "使用**double_array()**函数创建一个`double数组`"
   ]
  },
  {
   "cell_type": "code",
   "execution_count": 26,
   "metadata": {},
   "outputs": [],
   "source": [
    "%%pass Correct\n",
    "myarray = openbabel.double_array([1.0, -54.7, 3])\n",
    "obMol.Rotate(myarray)"
   ]
  },
  {
   "cell_type": "markdown",
   "metadata": {},
   "source": [
    "### OBGenericData"
   ]
  },
  {
   "cell_type": "markdown",
   "metadata": {},
   "source": [
    "If you want to access any subclass of **OBGenericData** (such as **OBPairData** or **OBUnitCell**) associated with a molecule, you need to ‘cast’ the OBGenericData returned by `OBMol.GetData()` using the `toPairData()`, `toUnitCell()` (etc.) functions:"
   ]
  },
  {
   "cell_type": "code",
   "execution_count": 27,
   "metadata": {},
   "outputs": [],
   "source": [
    "%%pass \n",
    "pairdata = [openbabel.toPairData(x) for x in obMol.GetData()\n",
    "                                    if x.GetDataType()==openbabel.PairData]\n",
    "print( pairdata[0].GetAttribute(), pairdata[0].GetValue())"
   ]
  },
  {
   "cell_type": "code",
   "execution_count": 28,
   "metadata": {},
   "outputs": [],
   "source": [
    "%%pass\n",
    "unitcell = openbabel.toUnitCell(obMol.GetData(openbabel.UnitCell))\n",
    "print( unitcell.GetAlpha(), unitcell.GetSpaceGroup())"
   ]
  },
  {
   "cell_type": "markdown",
   "metadata": {},
   "source": [
    "### 快速搜索"
   ]
  },
  {
   "cell_type": "markdown",
   "metadata": {},
   "source": [
    "FastSearch(): 指纹快速搜索;  \n",
    "**OpenInAndOutFiles()**: 同时打开输入文件和输出文件;"
   ]
  },
  {
   "cell_type": "markdown",
   "metadata": {},
   "source": [
    "查看待搜索文件"
   ]
  },
  {
   "cell_type": "code",
   "execution_count": 29,
   "metadata": {},
   "outputs": [
    {
     "name": "stdout",
     "output_type": "stream",
     "text": [
      "@data/150mols.smi>>                               \n",
      "149: OC(=O)C1=CC=CC=C1\t149\n",
      "150: OC(=O)C1=C(Cl)C=C(C=C1)[N+]([O-])=O\t150"
     ]
    }
   ],
   "source": [
    "showfile('data/150mols.smi',tailn=2)"
   ]
  },
  {
   "cell_type": "code",
   "execution_count": 30,
   "metadata": {},
   "outputs": [
    {
     "data": {
      "image/svg+xml": [
       "<svg xmlns=\"http://www.w3.org/2000/svg\" font-family=\"sans-serif\" height=\"100\" stroke=\"rgb(0,0,0)\" stroke-linecap=\"round\" stroke-width=\"2\" viewBox=\"0 0 149.282 220\" width=\"100\" x=\"0\" y=\"0\">\n",
       "<line stroke=\"rgb(0,0,0)\" stroke-width=\"2.0\" x1=\"51.3\" x2=\"74.6\" y1=\"173.5\" y2=\"160.0\" />\n",
       "<line stroke=\"rgb(0,0,0)\" stroke-width=\"2.0\" x1=\"76.1\" x2=\"99.5\" y1=\"157.4\" y2=\"170.9\" />\n",
       "<line stroke=\"rgb(0,0,0)\" stroke-width=\"2.0\" x1=\"73.1\" x2=\"96.5\" y1=\"162.6\" y2=\"176.1\" />\n",
       "<line stroke=\"rgb(0,0,0)\" stroke-width=\"2.0\" x1=\"74.6\" x2=\"74.6\" y1=\"160.0\" y2=\"120.0\" />\n",
       "<line stroke=\"rgb(0,0,0)\" stroke-width=\"2.0\" x1=\"40.0\" x2=\"74.6\" y1=\"60.0\" y2=\"40.0\" />\n",
       "<line stroke=\"rgb(0,0,0)\" stroke-width=\"2.0\" x1=\"48.8\" x2=\"73.0\" y1=\"63.2\" y2=\"49.2\" />\n",
       "<line stroke=\"rgb(0,0,0)\" stroke-width=\"2.0\" x1=\"74.6\" x2=\"109.3\" y1=\"40.0\" y2=\"60.0\" />\n",
       "<line stroke=\"rgb(0,0,0)\" stroke-width=\"2.0\" x1=\"109.3\" x2=\"109.3\" y1=\"60.0\" y2=\"100.0\" />\n",
       "<line stroke=\"rgb(0,0,0)\" stroke-width=\"2.0\" x1=\"102.1\" x2=\"102.1\" y1=\"66.0\" y2=\"94.0\" />\n",
       "<line stroke=\"rgb(0,0,0)\" stroke-width=\"2.0\" x1=\"109.3\" x2=\"74.6\" y1=\"100.0\" y2=\"120.0\" />\n",
       "<line stroke=\"rgb(0,0,0)\" stroke-width=\"2.0\" x1=\"74.6\" x2=\"40.0\" y1=\"120.0\" y2=\"100.0\" />\n",
       "<line stroke=\"rgb(0,0,0)\" stroke-width=\"2.0\" x1=\"73.0\" x2=\"48.8\" y1=\"110.8\" y2=\"96.8\" />\n",
       "<line stroke=\"rgb(0,0,0)\" stroke-width=\"2.0\" x1=\"40.0\" x2=\"40.0\" y1=\"100.0\" y2=\"60.0\" />\n",
       "<text fill=\"rgb(255,12,12)\" font-size=\"16\" stroke=\"rgb(255,12,12)\" stroke-width=\"1\" x=\"22.000000\" y=\"188.000000\">HO</text>\n",
       "<text fill=\"rgb(255,12,12)\" font-size=\"16\" stroke=\"rgb(255,12,12)\" stroke-width=\"1\" x=\"103.282032\" y=\"188.000000\">O</text>\n",
       "</svg>\n"
      ],
      "text/plain": [
       "<pybel.Molecule at 0x290d270b080>"
      ]
     },
     "execution_count": 30,
     "metadata": {},
     "output_type": "execute_result"
    }
   ],
   "source": [
    "smile('OC(=O)C1=CC=CC=C1')"
   ]
  },
  {
   "cell_type": "markdown",
   "metadata": {},
   "source": [
    "将骨架(smi)文件转换成快搜(fs)文件"
   ]
  },
  {
   "cell_type": "code",
   "execution_count": 31,
   "metadata": {},
   "outputs": [],
   "source": [
    "conv = openbabel.OBConversion()\n",
    "conv.OpenInAndOutFiles(\"data/150mols.smi\",\"data/index.fs\") #输入文件存在的话返回True, 并自动创建输出文件;\n",
    "conv.SetInAndOutFormats(\"smi\",\"fs\") #同时设置输入文件和输出文件的格式\n",
    "conv.Convert() #将输入文件转化为输出文件\n",
    "conv.CloseOutFile() #使用转换器关闭文件"
   ]
  },
  {
   "cell_type": "markdown",
   "metadata": {},
   "source": [
    "在快搜文件下进行指纹检索, 然后将结果保存成骨架文件: fs->result.smi"
   ]
  },
  {
   "cell_type": "code",
   "execution_count": 32,
   "metadata": {},
   "outputs": [],
   "source": [
    "conv.OpenInAndOutFiles(\"data/index.fs\",\"data/results.smi\")\n",
    "conv.SetInAndOutFormats(\"fs\",\"smi\")\n",
    "conv.AddOption(\"s\",conv.GENOPTIONS,\"C#N\") #CN三键\n",
    "conv.Convert()\n",
    "conv.CloseOutFile()"
   ]
  },
  {
   "cell_type": "markdown",
   "metadata": {},
   "source": [
    "查看搜索到的分子: 如果`results.smi`是空白文件,表示没有搜索到与设定指纹相匹配的分子;"
   ]
  },
  {
   "cell_type": "code",
   "execution_count": 33,
   "metadata": {},
   "outputs": [
    {
     "name": "stdout",
     "output_type": "stream",
     "text": [
      "@data/results.smi>>                               \n",
      "  1: ON=C(Cc1ccccc1)C(C#N)c1ccccc1\t38\n",
      "  2: N#CC(C(c1ccccc1)c1ccccc1)c1ccccc1\t52\n",
      "  3: CC(C#N)N(C)C\t53\n",
      "  4: CC(c1ccccc1)C(C)(C#N)c1ccccc1\t56\n",
      "  5: N#CC(Cc1ccccc1)(c1ccccc1)c1ccccc1\t69\n",
      "  6: N#CC(Cc1ccccc1)c1ccccc1\t71\n",
      "  7: CCN(CC)CCC#N\t95\n",
      "  8: COc1ccc(CC#N)cc1\t96\n",
      "  9: COc1ccc(cc1)C(C)(C)C#N\t98\n"
     ]
    }
   ],
   "source": [
    "showfile('data/results.smi')"
   ]
  },
  {
   "cell_type": "markdown",
   "metadata": {},
   "source": [
    "### 在openbabel中使用numpy"
   ]
  },
  {
   "cell_type": "markdown",
   "metadata": {},
   "source": [
    "如果使用numpy向openbabel传递值, numpy数组的元素类型必须是双精度浮点数"
   ]
  },
  {
   "cell_type": "code",
   "execution_count": 34,
   "metadata": {},
   "outputs": [],
   "source": [
    "mol = openbabel.OBMol()\n",
    "atom = mol.NewAtom()"
   ]
  },
  {
   "cell_type": "markdown",
   "metadata": {},
   "source": [
    "不能是单精度浮点数"
   ]
  },
  {
   "cell_type": "code",
   "execution_count": 35,
   "metadata": {},
   "outputs": [
    {
     "name": "stdout",
     "output_type": "stream",
     "text": [
      "Error:  in method 'OBAtom_SetVector', argument 2 of type 'double'\n"
     ]
    }
   ],
   "source": [
    "coord = np.array([1.2, 2.3, 4.6], \"float32\")\n",
    "try:\n",
    "    atom.SetVector(coord[0], coord[1], coord[2])\n",
    "except TypeError as e:\n",
    "    print(\"Error: \",e)"
   ]
  },
  {
   "cell_type": "markdown",
   "metadata": {},
   "source": [
    "必须是双精度浮点数"
   ]
  },
  {
   "cell_type": "code",
   "execution_count": 36,
   "metadata": {},
   "outputs": [],
   "source": [
    "coord = np.array([1.2, 2.3, 4.6], \"float64\")\n",
    "# atom.SetVector(float(coord[0]), float(coord[1]), float(coord[2]))\n",
    "atom.SetVector(coord[0], coord[1], coord[2])"
   ]
  },
  {
   "cell_type": "markdown",
   "metadata": {},
   "source": [
    "## pybel模块"
   ]
  },
  {
   "cell_type": "markdown",
   "metadata": {},
   "source": [
    "1. 与**openbabel**相比, **pybel**使用更简单的类接口和函数, 可以更加方便执行`文件格式转换`或`属性访问`;  "
   ]
  },
  {
   "cell_type": "markdown",
   "metadata": {},
   "source": [
    "2. 创建分子对象的方式:  \n",
    "    * 从输入文件;\n",
    "    * 从输入字符串;\n",
    "    * 从OBMol类创建;"
   ]
  },
  {
   "cell_type": "markdown",
   "metadata": {},
   "source": [
    "3. 创建原子对象的方式:  \n",
    "    * 使用OBAtom类创建原子对象; \n",
    "    * 通过访问分子对象的原子属性; "
   ]
  },
  {
   "cell_type": "code",
   "execution_count": 37,
   "metadata": {},
   "outputs": [],
   "source": [
    "from pybel import *"
   ]
  },
  {
   "cell_type": "markdown",
   "metadata": {},
   "source": [
    "将`results.smi`转化成`results.sdf`文件备用"
   ]
  },
  {
   "cell_type": "code",
   "execution_count": 38,
   "metadata": {},
   "outputs": [],
   "source": [
    "import openbabel\n",
    "conv = openbabel.OBConversion()\n",
    "conv.OpenInAndOutFiles(\"data/results.smi\",\"data/results.sdf\") \n",
    "conv.SetInAndOutFormats(\"smi\",\"sdf\") \n",
    "conv.Convert() \n",
    "conv.CloseOutFile() "
   ]
  },
  {
   "cell_type": "code",
   "execution_count": 39,
   "metadata": {
    "scrolled": false
   },
   "outputs": [
    {
     "name": "stdout",
     "output_type": "stream",
     "text": [
      "@data/results.sdf>>                               \n",
      "333: $$$$\n"
     ]
    }
   ],
   "source": [
    "showfile('data/results.sdf',tailn=1)"
   ]
  },
  {
   "cell_type": "markdown",
   "metadata": {},
   "source": [
    "### 分子方法:   "
   ]
  },
  {
   "cell_type": "markdown",
   "metadata": {},
   "source": [
    "|方法|描述|\n",
    "|:---|:---|\n",
    "|write()| 将分子信息写入文件;||calcfp()| 计算分子指纹(fingerprint);|\n",
    "|draw()| 绘制分子骨架;||addh()| 添加H;|\n",
    "|removeh()| 删除H;||make3D()| 创建3D骨架;|\n",
    "|localopt()| 局域结构优化;||calcdesc()| 计算分子描述符;|  "
   ]
  },
  {
   "cell_type": "code",
   "execution_count": 40,
   "metadata": {
    "scrolled": true
   },
   "outputs": [
    {
     "data": {
      "image/svg+xml": [
       "<svg xmlns=\"http://www.w3.org/2000/svg\" font-family=\"sans-serif\" height=\"100\" stroke=\"rgb(0,0,0)\" stroke-linecap=\"round\" stroke-width=\"2\" viewBox=\"0 0 243.923 223.923\" width=\"100\" x=\"0\" y=\"0\">\n",
       "<line stroke=\"rgb(0,0,0)\" stroke-width=\"2.0\" x1=\"113.5\" x2=\"100.0\" y1=\"85.9\" y2=\"109.3\" />\n",
       "<line stroke=\"rgb(0,0,0)\" stroke-width=\"2.0\" x1=\"133.0\" x2=\"147.0\" y1=\"74.6\" y2=\"74.6\" />\n",
       "<line stroke=\"rgb(0,0,0)\" stroke-width=\"2.0\" x1=\"113.5\" x2=\"106.5\" y1=\"63.4\" y2=\"51.3\" />\n",
       "<polygon fill=\"rgb(0,0,0)\" points=\"100.000000 109.282032 74.790519 99.346134 78.790519 92.417931 \" stroke=\"rgb(0,0,0)\" stroke-width=\"2.000000\" />\n",
       "<line stroke=\"rgb(0,0,0)\" stroke-width=\"2.0\" x1=\"100.0\" x2=\"80.0\" y1=\"109.3\" y2=\"143.9\" />\n",
       "<line stroke=\"rgb(0,0,0)\" stroke-width=\"2.0\" x1=\"100.0\" x2=\"134.6\" y1=\"109.3\" y2=\"129.3\" />\n",
       "<line stroke=\"rgb(0,0,0)\" stroke-width=\"2.0\" x1=\"80.0\" x2=\"80.0\" y1=\"143.9\" y2=\"170.9\" />\n",
       "<line stroke=\"rgb(0,0,0)\" stroke-width=\"2.0\" x1=\"80.0\" x2=\"103.4\" y1=\"143.9\" y2=\"157.4\" />\n",
       "<line stroke=\"rgb(0,0,0)\" stroke-width=\"2.0\" x1=\"80.0\" x2=\"53.0\" y1=\"143.9\" y2=\"143.9\" />\n",
       "<line stroke=\"rgb(0,0,0)\" stroke-width=\"2.0\" x1=\"137.6\" x2=\"137.6\" y1=\"129.3\" y2=\"156.3\" />\n",
       "<line stroke=\"rgb(0,0,0)\" stroke-width=\"2.0\" x1=\"131.6\" x2=\"131.6\" y1=\"129.3\" y2=\"156.3\" />\n",
       "<line stroke=\"rgb(0,0,0)\" stroke-width=\"2.0\" x1=\"134.6\" x2=\"158.0\" y1=\"129.3\" y2=\"115.8\" />\n",
       "<line stroke=\"rgb(0,0,0)\" stroke-width=\"2.0\" x1=\"180.5\" x2=\"192.7\" y1=\"115.8\" y2=\"122.8\" />\n",
       "<text fill=\"rgb(12,12,255)\" font-size=\"16\" stroke=\"rgb(12,12,255)\" stroke-width=\"1\" x=\"114.000000\" y=\"82.641016\">N</text>\n",
       "<text fill=\"rgb(191,191,191)\" font-size=\"16\" stroke=\"rgb(191,191,191)\" stroke-width=\"1\" x=\"59.358984\" y=\"97.282032\">H</text>\n",
       "<text fill=\"rgb(255,12,12)\" font-size=\"16\" stroke=\"rgb(255,12,12)\" stroke-width=\"1\" x=\"128.641016\" y=\"177.282032\">O</text>\n",
       "<text fill=\"rgb(255,12,12)\" font-size=\"16\" stroke=\"rgb(255,12,12)\" stroke-width=\"1\" x=\"163.282032\" y=\"117.282032\">O</text>\n",
       "<text fill=\"rgb(191,191,191)\" font-size=\"16\" stroke=\"rgb(191,191,191)\" stroke-width=\"1\" x=\"154.000000\" y=\"82.641016\">H</text>\n",
       "<text fill=\"rgb(191,191,191)\" font-size=\"16\" stroke=\"rgb(191,191,191)\" stroke-width=\"1\" x=\"94.000000\" y=\"48.000000\">H</text>\n",
       "<text fill=\"rgb(191,191,191)\" font-size=\"16\" stroke=\"rgb(191,191,191)\" stroke-width=\"1\" x=\"74.000000\" y=\"191.923048\">H</text>\n",
       "<text fill=\"rgb(191,191,191)\" font-size=\"16\" stroke=\"rgb(191,191,191)\" stroke-width=\"1\" x=\"108.641016\" y=\"171.923048\">H</text>\n",
       "<text fill=\"rgb(191,191,191)\" font-size=\"16\" stroke=\"rgb(191,191,191)\" stroke-width=\"1\" x=\"34.000000\" y=\"151.923048\">H</text>\n",
       "<text fill=\"rgb(191,191,191)\" font-size=\"16\" stroke=\"rgb(191,191,191)\" stroke-width=\"1\" x=\"197.923048\" y=\"137.282032\">H</text>\n",
       "</svg>\n"
      ],
      "text/plain": [
       "<pybel.Molecule at 0x290d2726630>"
      ]
     },
     "execution_count": 40,
     "metadata": {},
     "output_type": "execute_result"
    }
   ],
   "source": [
    "mol = readfile('sdf', 'data/alanine.sdf').__next__()\n",
    "mol"
   ]
  },
  {
   "cell_type": "markdown",
   "metadata": {},
   "source": [
    "将分子骨架保存为图片"
   ]
  },
  {
   "cell_type": "code",
   "execution_count": 41,
   "metadata": {},
   "outputs": [],
   "source": [
    "mol.draw(show=False, filename='data/alanine.png')"
   ]
  },
  {
   "cell_type": "markdown",
   "metadata": {},
   "source": [
    "将results.sdf文件中的所有分子保存为图像"
   ]
  },
  {
   "cell_type": "code",
   "execution_count": 42,
   "metadata": {},
   "outputs": [],
   "source": [
    "%%pass\n",
    "from pybel import *\n",
    "mols = readfile(\"sdf\", \"data/results.sdf\") #mols是一个迭代对象\n",
    "for i, mol in enumerate(mols):\n",
    "    mol.draw(show=False,filename='data/results/{}.png'.format(i+1))"
   ]
  },
  {
   "cell_type": "markdown",
   "metadata": {},
   "source": [
    "计算分子描述符;"
   ]
  },
  {
   "cell_type": "code",
   "execution_count": 43,
   "metadata": {},
   "outputs": [
    {
     "name": "stdout",
     "output_type": "stream",
     "text": [
      " descvalues['logP']  descvalues['TPSA']   descvalues['MR'] \n",
      "-------------------  ------------------  ------------------\n",
      "0.11849999999999994  63.32000000000001   21.014199999999995\n"
     ]
    }
   ],
   "source": [
    "descvalues = mol.calcdesc()\n",
    "# Polar SurfaceArea (“TPSA”) and Molar Refractivity (“MR”)\n",
    "%C descvalues['logP']; descvalues['TPSA']; descvalues['MR']"
   ]
  },
  {
   "cell_type": "markdown",
   "metadata": {},
   "source": [
    "添加分子数据"
   ]
  },
  {
   "cell_type": "code",
   "execution_count": 44,
   "metadata": {},
   "outputs": [],
   "source": [
    "mol.data.update(descvalues)\n",
    "output = Outputfile(\"sdf\", \"data/alanine_desc.sdf\", overwrite=True)\n",
    "output.write(mol)\n",
    "output.close()"
   ]
  },
  {
   "cell_type": "markdown",
   "metadata": {},
   "source": [
    "### 分子属性:  "
   ]
  },
  {
   "cell_type": "markdown",
   "metadata": {},
   "source": [
    "|属性|描述|\n",
    "|:---|:---|\n",
    "|atoms| 列表, 分子中的原子对象;|charge| 分子电荷;|\n",
    "|data| 字典(分子数据对象), 分子数据;|dim| 分子维数;|\n",
    "|energy| 分子能量;|exactmass| 分子的精确质量;|\n",
    "|formula| 分子化学式;|molwt| 分子重量;|\n",
    "|spin| 自旋数;|sssr| The Smallest Set of Smallest Rings;|\n",
    "|title| 分子标题;|unitcell| 如果分子被保存在晶胞中, 返回分子所在晶胞的信息;|\n",
    "|conformers|分子构象;|"
   ]
  },
  {
   "cell_type": "code",
   "execution_count": 45,
   "metadata": {
    "scrolled": true
   },
   "outputs": [
    {
     "name": "stdout",
     "output_type": "stream",
     "text": [
      "C16H14N2O|C21H17N  |C5H10N2  |C17H17N  |C21H17N  |C15H13N  |\n",
      "C7H14N2  |C9H9NO   |C11H13NO |\n"
     ]
    }
   ],
   "source": [
    "mols = readfile(\"sdf\", \"data/results.sdf\") #mols是一个迭代对象\n",
    "%col [mol.formula for mol in mols][:11]"
   ]
  },
  {
   "cell_type": "code",
   "execution_count": 46,
   "metadata": {},
   "outputs": [
    {
     "data": {
      "image/svg+xml": [
       "<svg xmlns=\"http://www.w3.org/2000/svg\" font-family=\"sans-serif\" height=\"100\" stroke=\"rgb(0,0,0)\" stroke-linecap=\"round\" stroke-width=\"2\" viewBox=\"0 0 322.487 220\" width=\"100\" x=\"0\" y=\"0\">\n",
       "<line stroke=\"rgb(0,0,0)\" stroke-width=\"2.0\" x1=\"236.6\" x2=\"224.5\" y1=\"53.5\" y2=\"46.5\" />\n",
       "<line stroke=\"rgb(0,0,0)\" stroke-width=\"2.0\" x1=\"203.4\" x2=\"177.1\" y1=\"49.1\" y2=\"57.4\" />\n",
       "<line stroke=\"rgb(0,0,0)\" stroke-width=\"2.0\" x1=\"200.4\" x2=\"180.1\" y1=\"43.9\" y2=\"62.6\" />\n",
       "<line stroke=\"rgb(0,0,0)\" stroke-width=\"2.0\" x1=\"178.6\" x2=\"143.9\" y1=\"60.0\" y2=\"40.0\" />\n",
       "<line stroke=\"rgb(0,0,0)\" stroke-width=\"2.0\" x1=\"178.6\" x2=\"178.6\" y1=\"60.0\" y2=\"100.0\" />\n",
       "<line stroke=\"rgb(0,0,0)\" stroke-width=\"2.0\" x1=\"143.9\" x2=\"109.3\" y1=\"40.0\" y2=\"60.0\" />\n",
       "<line stroke=\"rgb(0,0,0)\" stroke-width=\"2.0\" x1=\"178.6\" x2=\"143.9\" y1=\"100.0\" y2=\"120.0\" />\n",
       "<line stroke=\"rgb(0,0,0)\" stroke-width=\"2.0\" x1=\"178.6\" x2=\"213.2\" y1=\"100.0\" y2=\"120.0\" />\n",
       "<line stroke=\"rgb(0,0,0)\" stroke-width=\"2.0\" x1=\"143.9\" x2=\"120.5\" y1=\"120.0\" y2=\"133.5\" />\n",
       "<line stroke=\"rgb(0,0,0)\" stroke-width=\"2.0\" x1=\"146.0\" x2=\"122.6\" y1=\"123.6\" y2=\"137.1\" />\n",
       "<line stroke=\"rgb(0,0,0)\" stroke-width=\"2.0\" x1=\"141.8\" x2=\"118.4\" y1=\"116.4\" y2=\"129.9\" />\n",
       "<line stroke=\"rgb(0,0,0)\" stroke-width=\"2.0\" x1=\"40.0\" x2=\"40.0\" y1=\"60.0\" y2=\"100.0\" />\n",
       "<line stroke=\"rgb(0,0,0)\" stroke-width=\"2.0\" x1=\"47.2\" x2=\"47.2\" y1=\"66.0\" y2=\"94.0\" />\n",
       "<line stroke=\"rgb(0,0,0)\" stroke-width=\"2.0\" x1=\"40.0\" x2=\"74.6\" y1=\"100.0\" y2=\"120.0\" />\n",
       "<line stroke=\"rgb(0,0,0)\" stroke-width=\"2.0\" x1=\"74.6\" x2=\"109.3\" y1=\"120.0\" y2=\"100.0\" />\n",
       "<line stroke=\"rgb(0,0,0)\" stroke-width=\"2.0\" x1=\"76.2\" x2=\"100.5\" y1=\"110.8\" y2=\"96.8\" />\n",
       "<line stroke=\"rgb(0,0,0)\" stroke-width=\"2.0\" x1=\"109.3\" x2=\"109.3\" y1=\"100.0\" y2=\"60.0\" />\n",
       "<line stroke=\"rgb(0,0,0)\" stroke-width=\"2.0\" x1=\"109.3\" x2=\"74.6\" y1=\"60.0\" y2=\"40.0\" />\n",
       "<line stroke=\"rgb(0,0,0)\" stroke-width=\"2.0\" x1=\"100.5\" x2=\"76.2\" y1=\"63.2\" y2=\"49.2\" />\n",
       "<line stroke=\"rgb(0,0,0)\" stroke-width=\"2.0\" x1=\"74.6\" x2=\"40.0\" y1=\"40.0\" y2=\"60.0\" />\n",
       "<line stroke=\"rgb(0,0,0)\" stroke-width=\"2.0\" x1=\"247.8\" x2=\"282.5\" y1=\"180.0\" y2=\"160.0\" />\n",
       "<line stroke=\"rgb(0,0,0)\" stroke-width=\"2.0\" x1=\"249.4\" x2=\"273.7\" y1=\"170.8\" y2=\"156.8\" />\n",
       "<line stroke=\"rgb(0,0,0)\" stroke-width=\"2.0\" x1=\"282.5\" x2=\"282.5\" y1=\"160.0\" y2=\"120.0\" />\n",
       "<line stroke=\"rgb(0,0,0)\" stroke-width=\"2.0\" x1=\"282.5\" x2=\"247.8\" y1=\"120.0\" y2=\"100.0\" />\n",
       "<line stroke=\"rgb(0,0,0)\" stroke-width=\"2.0\" x1=\"273.7\" x2=\"249.4\" y1=\"123.2\" y2=\"109.2\" />\n",
       "<line stroke=\"rgb(0,0,0)\" stroke-width=\"2.0\" x1=\"247.8\" x2=\"213.2\" y1=\"100.0\" y2=\"120.0\" />\n",
       "<line stroke=\"rgb(0,0,0)\" stroke-width=\"2.0\" x1=\"213.2\" x2=\"213.2\" y1=\"120.0\" y2=\"160.0\" />\n",
       "<line stroke=\"rgb(0,0,0)\" stroke-width=\"2.0\" x1=\"220.4\" x2=\"220.4\" y1=\"126.0\" y2=\"154.0\" />\n",
       "<line stroke=\"rgb(0,0,0)\" stroke-width=\"2.0\" x1=\"213.2\" x2=\"247.8\" y1=\"160.0\" y2=\"180.0\" />\n",
       "<text fill=\"rgb(255,12,12)\" font-size=\"16\" stroke=\"rgb(255,12,12)\" stroke-width=\"1\" x=\"241.846097\" y=\"68.000000\">OH</text>\n",
       "<text fill=\"rgb(12,12,255)\" font-size=\"16\" stroke=\"rgb(12,12,255)\" stroke-width=\"1\" x=\"207.205081\" y=\"48.000000\">N</text>\n",
       "<text fill=\"rgb(12,12,255)\" font-size=\"16\" stroke=\"rgb(12,12,255)\" stroke-width=\"1\" x=\"103.282032\" y=\"148.000000\">N</text>\n",
       "</svg>\n"
      ],
      "text/plain": [
       "<pybel.Molecule at 0x290d28701d0>"
      ]
     },
     "execution_count": 46,
     "metadata": {},
     "output_type": "execute_result"
    }
   ],
   "source": [
    "mols = readfile(\"sdf\", \"data/results.sdf\") #mols是一个迭代对象\n",
    "mol = mols.__next__() #迭代对象的第一个元素\n",
    "mol"
   ]
  },
  {
   "cell_type": "markdown",
   "metadata": {},
   "source": [
    " 查看分子属性"
   ]
  },
  {
   "cell_type": "code",
   "execution_count": 47,
   "metadata": {},
   "outputs": [
    {
     "name": "stdout",
     "output_type": "stream",
     "text": [
      "mol.formula  mol.dim  mol.title  mol.spin\n",
      "-----------  -------  ---------  --------\n",
      "'C16H14N2O'  2        '38'       1       \n"
     ]
    }
   ],
   "source": [
    "%C mol.formula; mol.dim; mol.title; mol.spin "
   ]
  },
  {
   "cell_type": "markdown",
   "metadata": {},
   "source": [
    "分子中的第一个原子对象"
   ]
  },
  {
   "cell_type": "code",
   "execution_count": 48,
   "metadata": {},
   "outputs": [
    {
     "data": {
      "text/plain": [
       "pybel.Atom"
      ]
     },
     "execution_count": 48,
     "metadata": {},
     "output_type": "execute_result"
    }
   ],
   "source": [
    "atom = mol.atoms[0]\n",
    "type(atom)"
   ]
  },
  {
   "cell_type": "markdown",
   "metadata": {},
   "source": [
    "### 原子属性:  "
   ]
  },
  {
   "cell_type": "markdown",
   "metadata": {},
   "source": [
    "|属性|描述|-|-|\n",
    "|:---|:---|:|:|\n",
    "|atomicmass|原子质量|atomicnum|原子序数|\n",
    "|coords(x,y,z)|原子坐标|exactmass|原子的精准质量|\n",
    "|formalcharge|形式电荷|heavyvalence|附着的非H原子数|\n",
    "|heterovalence|附着的异质原子数|hyb|原子杂化,3:sp3|\n",
    "|idx|原子在分子中的编号, 从1开始计数|implicitvalence|价电子数|\n",
    "|isotope|同位素,需提前指定|partialcharge|局部电荷|\n",
    "|spin|自旋多重性|type|原子类型|\n",
    "|valence|明确的价电子连接数|vector|矢量|"
   ]
  },
  {
   "cell_type": "code",
   "execution_count": 49,
   "metadata": {},
   "outputs": [
    {
     "name": "stdout",
     "output_type": "stream",
     "text": [
      "atom.atomicnum     atom.idx      atom.partialcharge     atom.hyb     atom.type\n",
      "--------------     --------     -------------------     --------     ---------\n",
      "8                  1            -0.1437612200611973     2            'O2'     \n"
     ]
    }
   ],
   "source": [
    "%C 5 atom.atomicnum; atom.idx; atom.partialcharge; atom.hyb; atom.type"
   ]
  },
  {
   "cell_type": "code",
   "execution_count": 50,
   "metadata": {},
   "outputs": [
    {
     "name": "stdout",
     "output_type": "stream",
     "text": [
      "atom.implicitvalence     atom.valence     atom.heavyvalence     atom.heterovalence\n",
      "--------------------     ------------     -----------------     ------------------\n",
      "2                        1                1                     1                 \n"
     ]
    }
   ],
   "source": [
    "%C 5 atom.implicitvalence ; atom.valence; atom.heavyvalence; atom.heterovalence"
   ]
  },
  {
   "cell_type": "markdown",
   "metadata": {},
   "source": [
    "### 读入分子信息"
   ]
  },
  {
   "cell_type": "markdown",
   "metadata": {},
   "source": [
    "readstring(): 从字符串中读取分子信息;  "
   ]
  },
  {
   "cell_type": "code",
   "execution_count": 51,
   "metadata": {},
   "outputs": [
    {
     "data": {
      "image/svg+xml": [
       "<svg xmlns=\"http://www.w3.org/2000/svg\" font-family=\"sans-serif\" height=\"100\" stroke=\"rgb(0,0,0)\" stroke-linecap=\"round\" stroke-width=\"2\" viewBox=\"0 0 189.282 180\" width=\"100\" x=\"0\" y=\"0\">\n",
       "<line stroke=\"rgb(0,0,0)\" stroke-width=\"2.0\" x1=\"80.0\" x2=\"80.0\" y1=\"127.0\" y2=\"100.0\" />\n",
       "<line stroke=\"rgb(0,0,0)\" stroke-width=\"2.0\" x1=\"80.0\" x2=\"66.5\" y1=\"100.0\" y2=\"76.6\" />\n",
       "<line stroke=\"rgb(0,0,0)\" stroke-width=\"2.0\" x1=\"80.0\" x2=\"53.0\" y1=\"100.0\" y2=\"100.0\" />\n",
       "<line stroke=\"rgb(0,0,0)\" stroke-width=\"2.0\" x1=\"80.0\" x2=\"114.6\" y1=\"100.0\" y2=\"80.0\" />\n",
       "<line stroke=\"rgb(0,0,0)\" stroke-width=\"2.0\" x1=\"116.1\" x2=\"139.5\" y1=\"77.4\" y2=\"90.9\" />\n",
       "<line stroke=\"rgb(0,0,0)\" stroke-width=\"2.0\" x1=\"113.1\" x2=\"136.5\" y1=\"82.6\" y2=\"96.1\" />\n",
       "<line stroke=\"rgb(0,0,0)\" stroke-width=\"2.0\" x1=\"114.6\" x2=\"114.6\" y1=\"80.0\" y2=\"53.0\" />\n",
       "<text fill=\"rgb(12,12,255)\" font-size=\"16\" stroke=\"rgb(12,12,255)\" stroke-width=\"1\" x=\"76.000000\" y=\"148.000000\">NH</text>\n",
       "<text fill=\"rgb(12,12,255)\" font-size=\"13\" stroke=\"rgb(12,12,255)\" stroke-width=\"1\" x=\"100.000000\" y=\"151.680000\">2</text>\n",
       "<text fill=\"rgb(191,191,191)\" font-size=\"16\" stroke=\"rgb(191,191,191)\" stroke-width=\"1\" x=\"54.000000\" y=\"73.358984\">H</text>\n",
       "<text fill=\"rgb(102,102,102)\" font-size=\"16\" stroke=\"rgb(102,102,102)\" stroke-width=\"1\" x=\"14.000000\" y=\"108.000000\">H</text>\n",
       "<text fill=\"rgb(102,102,102)\" font-size=\"13\" stroke=\"rgb(102,102,102)\" stroke-width=\"1\" x=\"26.000000\" y=\"111.680000\">3</text>\n",
       "<text fill=\"rgb(102,102,102)\" font-size=\"16\" stroke=\"rgb(102,102,102)\" stroke-width=\"1\" x=\"32.500000\" y=\"108.000000\">C</text>\n",
       "<text fill=\"rgb(255,12,12)\" font-size=\"16\" stroke=\"rgb(255,12,12)\" stroke-width=\"1\" x=\"143.282032\" y=\"108.000000\">O</text>\n",
       "<text fill=\"rgb(255,12,12)\" font-size=\"16\" stroke=\"rgb(255,12,12)\" stroke-width=\"1\" x=\"108.641016\" y=\"48.000000\">OH</text>\n",
       "</svg>\n"
      ],
      "text/plain": [
       "<pybel.Molecule at 0x290d2870940>"
      ]
     },
     "execution_count": 51,
     "metadata": {},
     "output_type": "execute_result"
    }
   ],
   "source": [
    "alanine = readstring(\"smi\", alanine_smi)\n",
    "alanine"
   ]
  },
  {
   "cell_type": "markdown",
   "metadata": {},
   "source": [
    "readfile(): 从文件中迭代式读取分子信息;"
   ]
  },
  {
   "cell_type": "code",
   "execution_count": 52,
   "metadata": {},
   "outputs": [
    {
     "name": "stdout",
     "output_type": "stream",
     "text": [
      "C3H7NO2\n"
     ]
    }
   ],
   "source": [
    "for alanine in readfile(\"sdf\", \"data/alanine.sdf\"):\n",
    "    print(alanine.formula)"
   ]
  },
  {
   "cell_type": "markdown",
   "metadata": {},
   "source": [
    "### 写入分子信息"
   ]
  },
  {
   "cell_type": "markdown",
   "metadata": {},
   "source": [
    "write(format): 返回结构字符串;"
   ]
  },
  {
   "cell_type": "markdown",
   "metadata": {},
   "source": [
    "原先的alanine_smi没有包含立体异构的信息, 但是`alanine.sdf`文件保存了立体异构信息"
   ]
  },
  {
   "cell_type": "code",
   "execution_count": 53,
   "metadata": {},
   "outputs": [
    {
     "data": {
      "text/plain": [
       "'N[C@@H](C)C(=O)O\\t\\n'"
      ]
     },
     "execution_count": 53,
     "metadata": {},
     "output_type": "execute_result"
    }
   ],
   "source": [
    "alanine.write(\"smi\")"
   ]
  },
  {
   "cell_type": "code",
   "execution_count": 54,
   "metadata": {},
   "outputs": [
    {
     "data": {
      "image/svg+xml": [
       "<svg xmlns=\"http://www.w3.org/2000/svg\" font-family=\"sans-serif\" height=\"100\" stroke=\"rgb(0,0,0)\" stroke-linecap=\"round\" stroke-width=\"2\" viewBox=\"0 0 189.282 180\" width=\"100\" x=\"0\" y=\"0\">\n",
       "<line stroke=\"rgb(0,0,0)\" stroke-width=\"2.0\" x1=\"80.0\" x2=\"80.0\" y1=\"127.0\" y2=\"100.0\" />\n",
       "<line stroke=\"rgb(0,0,0)\" stroke-width=\"1.0\" x1=\"76.6\" x2=\"78.0\" y1=\"95.8\" y2=\"95.0\" />\n",
       "<line stroke=\"rgb(0,0,0)\" stroke-width=\"1.0\" x1=\"73.9\" x2=\"76.4\" y1=\"92.4\" y2=\"90.9\" />\n",
       "<line stroke=\"rgb(0,0,0)\" stroke-width=\"1.0\" x1=\"71.2\" x2=\"74.8\" y1=\"89.0\" y2=\"86.9\" />\n",
       "<line stroke=\"rgb(0,0,0)\" stroke-width=\"1.0\" x1=\"68.5\" x2=\"73.2\" y1=\"85.6\" y2=\"82.9\" />\n",
       "<line stroke=\"rgb(0,0,0)\" stroke-width=\"1.0\" x1=\"65.8\" x2=\"71.7\" y1=\"82.2\" y2=\"78.8\" />\n",
       "<line stroke=\"rgb(0,0,0)\" stroke-width=\"1.0\" x1=\"63.1\" x2=\"70.1\" y1=\"78.8\" y2=\"74.8\" />\n",
       "<line stroke=\"rgb(0,0,0)\" stroke-width=\"2.0\" x1=\"80.0\" x2=\"53.0\" y1=\"100.0\" y2=\"100.0\" />\n",
       "<line stroke=\"rgb(0,0,0)\" stroke-width=\"2.0\" x1=\"80.0\" x2=\"114.6\" y1=\"100.0\" y2=\"80.0\" />\n",
       "<line stroke=\"rgb(0,0,0)\" stroke-width=\"2.0\" x1=\"116.1\" x2=\"139.5\" y1=\"77.4\" y2=\"90.9\" />\n",
       "<line stroke=\"rgb(0,0,0)\" stroke-width=\"2.0\" x1=\"113.1\" x2=\"136.5\" y1=\"82.6\" y2=\"96.1\" />\n",
       "<line stroke=\"rgb(0,0,0)\" stroke-width=\"2.0\" x1=\"114.6\" x2=\"114.6\" y1=\"80.0\" y2=\"53.0\" />\n",
       "<text fill=\"rgb(12,12,255)\" font-size=\"16\" stroke=\"rgb(12,12,255)\" stroke-width=\"1\" x=\"76.000000\" y=\"148.000000\">NH</text>\n",
       "<text fill=\"rgb(12,12,255)\" font-size=\"13\" stroke=\"rgb(12,12,255)\" stroke-width=\"1\" x=\"100.000000\" y=\"151.680000\">2</text>\n",
       "<text fill=\"rgb(191,191,191)\" font-size=\"16\" stroke=\"rgb(191,191,191)\" stroke-width=\"1\" x=\"54.000000\" y=\"73.358984\">H</text>\n",
       "<text fill=\"rgb(102,102,102)\" font-size=\"16\" stroke=\"rgb(102,102,102)\" stroke-width=\"1\" x=\"14.000000\" y=\"108.000000\">H</text>\n",
       "<text fill=\"rgb(102,102,102)\" font-size=\"13\" stroke=\"rgb(102,102,102)\" stroke-width=\"1\" x=\"26.000000\" y=\"111.680000\">3</text>\n",
       "<text fill=\"rgb(102,102,102)\" font-size=\"16\" stroke=\"rgb(102,102,102)\" stroke-width=\"1\" x=\"32.500000\" y=\"108.000000\">C</text>\n",
       "<text fill=\"rgb(255,12,12)\" font-size=\"16\" stroke=\"rgb(255,12,12)\" stroke-width=\"1\" x=\"143.282032\" y=\"108.000000\">O</text>\n",
       "<text fill=\"rgb(255,12,12)\" font-size=\"16\" stroke=\"rgb(255,12,12)\" stroke-width=\"1\" x=\"108.641016\" y=\"48.000000\">OH</text>\n",
       "</svg>\n"
      ],
      "text/plain": [
       "<pybel.Molecule at 0x290d28707f0>"
      ]
     },
     "execution_count": 54,
     "metadata": {},
     "output_type": "execute_result"
    }
   ],
   "source": [
    "smile('N[C@@H](C)C(=O)O')"
   ]
  },
  {
   "cell_type": "markdown",
   "metadata": {},
   "source": [
    "write(format,filename): 将结构保存到文件;"
   ]
  },
  {
   "cell_type": "code",
   "execution_count": 55,
   "metadata": {},
   "outputs": [
    {
     "name": "stdout",
     "output_type": "stream",
     "text": [
      "@data/alanine.smi>>                               \n",
      "  1: N[C@@H](C)C(=O)O\t\n"
     ]
    }
   ],
   "source": [
    "alanine.write(\"smi\", \"data/alanine.smi\", overwrite=True)\n",
    "showfile('data/alanine.smi')"
   ]
  },
  {
   "cell_type": "markdown",
   "metadata": {},
   "source": [
    "将多个分子写入同一个文件, 需要用到`Outputfile`类"
   ]
  },
  {
   "cell_type": "code",
   "execution_count": 56,
   "metadata": {},
   "outputs": [
    {
     "data": {
      "image/svg+xml": [
       "<svg xmlns=\"http://www.w3.org/2000/svg\" font-family=\"sans-serif\" height=\"100\" stroke=\"rgb(0,0,0)\" stroke-linecap=\"round\" stroke-width=\"2\" viewBox=\"0 0 189.282 180\" width=\"100\" x=\"0\" y=\"0\">\n",
       "<line stroke=\"rgb(0,0,0)\" stroke-width=\"2.0\" x1=\"80.0\" x2=\"80.0\" y1=\"127.0\" y2=\"100.0\" />\n",
       "<polygon fill=\"rgb(0,0,0)\" points=\"80.000000 100.000000 63.135898 78.790519 70.064102 74.790519 \" stroke=\"rgb(0,0,0)\" stroke-width=\"2.000000\" />\n",
       "<line stroke=\"rgb(0,0,0)\" stroke-width=\"2.0\" x1=\"80.0\" x2=\"114.6\" y1=\"100.0\" y2=\"80.0\" />\n",
       "<line stroke=\"rgb(0,0,0)\" stroke-width=\"2.0\" x1=\"116.1\" x2=\"139.5\" y1=\"77.4\" y2=\"90.9\" />\n",
       "<line stroke=\"rgb(0,0,0)\" stroke-width=\"2.0\" x1=\"113.1\" x2=\"136.5\" y1=\"82.6\" y2=\"96.1\" />\n",
       "<line stroke=\"rgb(0,0,0)\" stroke-width=\"2.0\" x1=\"114.6\" x2=\"114.6\" y1=\"80.0\" y2=\"53.0\" />\n",
       "<line stroke=\"rgb(0,0,0)\" stroke-width=\"2.0\" x1=\"80.0\" x2=\"53.0\" y1=\"100.0\" y2=\"100.0\" />\n",
       "<text fill=\"rgb(12,12,255)\" font-size=\"16\" stroke=\"rgb(12,12,255)\" stroke-width=\"1\" x=\"76.000000\" y=\"148.000000\">NH</text>\n",
       "<text fill=\"rgb(12,12,255)\" font-size=\"13\" stroke=\"rgb(12,12,255)\" stroke-width=\"1\" x=\"100.000000\" y=\"151.680000\">2</text>\n",
       "<text fill=\"rgb(191,191,191)\" font-size=\"16\" stroke=\"rgb(191,191,191)\" stroke-width=\"1\" x=\"54.000000\" y=\"73.358984\">H</text>\n",
       "<text fill=\"rgb(255,12,12)\" font-size=\"16\" stroke=\"rgb(255,12,12)\" stroke-width=\"1\" x=\"143.282032\" y=\"108.000000\">O</text>\n",
       "<text fill=\"rgb(255,12,12)\" font-size=\"16\" stroke=\"rgb(255,12,12)\" stroke-width=\"1\" x=\"108.641016\" y=\"48.000000\">OH</text>\n",
       "<text fill=\"rgb(102,102,102)\" font-size=\"16\" stroke=\"rgb(102,102,102)\" stroke-width=\"1\" x=\"14.000000\" y=\"108.000000\">H</text>\n",
       "<text fill=\"rgb(102,102,102)\" font-size=\"13\" stroke=\"rgb(102,102,102)\" stroke-width=\"1\" x=\"26.000000\" y=\"111.680000\">3</text>\n",
       "<text fill=\"rgb(102,102,102)\" font-size=\"16\" stroke=\"rgb(102,102,102)\" stroke-width=\"1\" x=\"32.500000\" y=\"108.000000\">C</text>\n",
       "</svg>\n"
      ],
      "text/plain": [
       "<pybel.Molecule at 0x290d28706a0>"
      ]
     },
     "execution_count": 56,
     "metadata": {},
     "output_type": "execute_result"
    }
   ],
   "source": [
    "alanine2 = readstring(\"smi\", 'N[C@@H](C(=O)O)(C)')\n",
    "alanine2"
   ]
  },
  {
   "cell_type": "code",
   "execution_count": 57,
   "metadata": {},
   "outputs": [],
   "source": [
    "largeSMIfile = Outputfile(\"smi\", \"data/alanine2.smi\",overwrite=True)\n",
    "largeSMIfile.write(alanine)\n",
    "largeSMIfile.write(alanine2)\n",
    "largeSMIfile.close()"
   ]
  },
  {
   "cell_type": "code",
   "execution_count": 58,
   "metadata": {},
   "outputs": [
    {
     "name": "stdout",
     "output_type": "stream",
     "text": [
      "@data/alanine2.smi>>                              \n",
      "  1: N[C@@H](C)C(=O)O\t\n",
      "  2: N[C@@H](C(=O)O)C\t\n"
     ]
    }
   ],
   "source": [
    "showfile('data/alanine2.smi')"
   ]
  },
  {
   "cell_type": "markdown",
   "metadata": {},
   "source": [
    "### 指纹对象"
   ]
  },
  {
   "cell_type": "code",
   "execution_count": 59,
   "metadata": {},
   "outputs": [
    {
     "data": {
      "text/plain": [
       "'############################################## 异常跳过位 ###############################################'"
      ]
     },
     "execution_count": 59,
     "metadata": {},
     "output_type": "execute_result"
    }
   ],
   "source": [
    "kk4"
   ]
  },
  {
   "cell_type": "markdown",
   "metadata": {},
   "source": [
    "**指纹对象**的创建方式:  \n",
    "1. 通过分子的calcfp()方法;  \n",
    "2. 通过GetFingerprint(myvector);"
   ]
  },
  {
   "cell_type": "markdown",
   "metadata": {},
   "source": [
    "fptype指纹类型: 默认为FP2;  \n",
    "指纹对象的属性:  \n",
    "fp: 与指纹相对应的OB矢量;  \n",
    "bits: 峰位?;"
   ]
  },
  {
   "cell_type": "code",
   "execution_count": 60,
   "metadata": {},
   "outputs": [],
   "source": [
    "smiles = ['CCCC', 'CCCN']\n",
    "mols = [readstring(\"smi\", x) for x in smiles] #包含两个分子的列表\n",
    "fps = [x.calcfp() for x in mols] # 计算分子列表中每个分子的指纹"
   ]
  },
  {
   "cell_type": "code",
   "execution_count": 61,
   "metadata": {},
   "outputs": [
    {
     "name": "stdout",
     "output_type": "stream",
     "text": [
      "  fps[0].bits             fps[1].bits            fps[0] | fps[1] # Tanimoto系数\n",
      "---------------     ------------------------     ----------------------------\n",
      "[261, 385, 671]     [83, 261, 349, 671, 907]     0.3333333333333333          \n"
     ]
    }
   ],
   "source": [
    "%C 5 fps[0].bits; fps[1].bits; fps[0] | fps[1] # Tanimoto系数"
   ]
  },
  {
   "cell_type": "markdown",
   "metadata": {},
   "source": [
    "### Smarts对象"
   ]
  },
  {
   "cell_type": "code",
   "execution_count": 62,
   "metadata": {},
   "outputs": [
    {
     "data": {
      "text/plain": [
       "'############################################## 异常跳过位 ###############################################'"
      ]
     },
     "execution_count": 62,
     "metadata": {},
     "output_type": "execute_result"
    }
   ],
   "source": [
    "kk4"
   ]
  },
  {
   "cell_type": "markdown",
   "metadata": {},
   "source": [
    "智能模式匹配(SMARTS matching)"
   ]
  },
  {
   "cell_type": "code",
   "execution_count": 63,
   "metadata": {},
   "outputs": [
    {
     "data": {
      "image/svg+xml": [
       "<svg xmlns=\"http://www.w3.org/2000/svg\" font-family=\"sans-serif\" height=\"100\" stroke=\"rgb(0,0,0)\" stroke-linecap=\"round\" stroke-width=\"2\" viewBox=\"0 0 218.564 160\" width=\"100\" x=\"0\" y=\"0\">\n",
       "<line stroke=\"rgb(0,0,0)\" stroke-width=\"2.0\" x1=\"167.3\" x2=\"143.9\" y1=\"53.5\" y2=\"40.0\" />\n",
       "<line stroke=\"rgb(0,0,0)\" stroke-width=\"2.0\" x1=\"143.9\" x2=\"120.5\" y1=\"40.0\" y2=\"53.5\" />\n",
       "<line stroke=\"rgb(0,0,0)\" stroke-width=\"2.0\" x1=\"98.0\" x2=\"74.6\" y1=\"53.5\" y2=\"40.0\" />\n",
       "<line stroke=\"rgb(0,0,0)\" stroke-width=\"2.0\" x1=\"74.6\" x2=\"51.3\" y1=\"40.0\" y2=\"53.5\" />\n",
       "<line stroke=\"rgb(0,0,0)\" stroke-width=\"2.0\" x1=\"109.3\" x2=\"109.3\" y1=\"73.0\" y2=\"100.0\" />\n",
       "<line stroke=\"rgb(0,0,0)\" stroke-width=\"2.0\" x1=\"109.3\" x2=\"85.9\" y1=\"100.0\" y2=\"113.5\" />\n",
       "<text fill=\"rgb(102,102,102)\" font-size=\"16\" stroke=\"rgb(102,102,102)\" stroke-width=\"1\" x=\"174.564065\" y=\"68.000000\">CH</text>\n",
       "<text fill=\"rgb(102,102,102)\" font-size=\"13\" stroke=\"rgb(102,102,102)\" stroke-width=\"1\" x=\"198.564065\" y=\"71.680000\">3</text>\n",
       "<text fill=\"rgb(12,12,255)\" font-size=\"16\" stroke=\"rgb(12,12,255)\" stroke-width=\"1\" x=\"103.282032\" y=\"68.000000\">N</text>\n",
       "<text fill=\"rgb(102,102,102)\" font-size=\"16\" stroke=\"rgb(102,102,102)\" stroke-width=\"1\" x=\"14.000000\" y=\"68.000000\">H</text>\n",
       "<text fill=\"rgb(102,102,102)\" font-size=\"13\" stroke=\"rgb(102,102,102)\" stroke-width=\"1\" x=\"26.000000\" y=\"71.680000\">3</text>\n",
       "<text fill=\"rgb(102,102,102)\" font-size=\"16\" stroke=\"rgb(102,102,102)\" stroke-width=\"1\" x=\"32.500000\" y=\"68.000000\">C</text>\n",
       "<text fill=\"rgb(102,102,102)\" font-size=\"16\" stroke=\"rgb(102,102,102)\" stroke-width=\"1\" x=\"48.641016\" y=\"128.000000\">H</text>\n",
       "<text fill=\"rgb(102,102,102)\" font-size=\"13\" stroke=\"rgb(102,102,102)\" stroke-width=\"1\" x=\"60.641016\" y=\"131.680000\">3</text>\n",
       "<text fill=\"rgb(102,102,102)\" font-size=\"16\" stroke=\"rgb(102,102,102)\" stroke-width=\"1\" x=\"67.141016\" y=\"128.000000\">C</text>\n",
       "</svg>\n"
      ],
      "text/plain": [
       "<pybel.Molecule at 0x290d287b518>"
      ]
     },
     "execution_count": 63,
     "metadata": {},
     "output_type": "execute_result"
    }
   ],
   "source": [
    "mol = readstring(\"smi\",\"CCN(CC)CC\") # triethylamine\n",
    "mol"
   ]
  },
  {
   "cell_type": "code",
   "execution_count": 64,
   "metadata": {},
   "outputs": [
    {
     "data": {
      "text/plain": [
       "[(1, 2), (4, 5), (6, 7)]"
      ]
     },
     "execution_count": 64,
     "metadata": {},
     "output_type": "execute_result"
    }
   ],
   "source": [
    "smarts = Smarts(\"[#6][#6]\") # Matches an ethyl group\n",
    "smarts.findall(mol)"
   ]
  },
  {
   "cell_type": "markdown",
   "metadata": {},
   "source": [
    "### 与openbabel模块结合"
   ]
  },
  {
   "cell_type": "markdown",
   "metadata": {},
   "source": [
    "#### 使用pybel模块读取文件, 使用openbabel模块添加H原子"
   ]
  },
  {
   "cell_type": "code",
   "execution_count": 65,
   "metadata": {},
   "outputs": [
    {
     "data": {
      "image/svg+xml": [
       "<svg xmlns=\"http://www.w3.org/2000/svg\" font-family=\"sans-serif\" height=\"100\" stroke=\"rgb(0,0,0)\" stroke-linecap=\"round\" stroke-width=\"2\" viewBox=\"0 0 149.282 100\" width=\"100\" x=\"0\" y=\"0\">\n",
       "<line stroke=\"rgb(0,0,0)\" stroke-width=\"2.0\" x1=\"98.0\" x2=\"74.6\" y1=\"53.5\" y2=\"40.0\" />\n",
       "<line stroke=\"rgb(0,0,0)\" stroke-width=\"2.0\" x1=\"76.1\" x2=\"52.8\" y1=\"42.6\" y2=\"56.1\" />\n",
       "<line stroke=\"rgb(0,0,0)\" stroke-width=\"2.0\" x1=\"73.1\" x2=\"49.8\" y1=\"37.4\" y2=\"50.9\" />\n",
       "<text fill=\"rgb(102,102,102)\" font-size=\"16\" stroke=\"rgb(102,102,102)\" stroke-width=\"1\" x=\"105.282032\" y=\"68.000000\">CH</text>\n",
       "<text fill=\"rgb(102,102,102)\" font-size=\"13\" stroke=\"rgb(102,102,102)\" stroke-width=\"1\" x=\"129.282032\" y=\"71.680000\">3</text>\n",
       "<text fill=\"rgb(102,102,102)\" font-size=\"16\" stroke=\"rgb(102,102,102)\" stroke-width=\"1\" x=\"14.000000\" y=\"68.000000\">H</text>\n",
       "<text fill=\"rgb(102,102,102)\" font-size=\"13\" stroke=\"rgb(102,102,102)\" stroke-width=\"1\" x=\"26.000000\" y=\"71.680000\">2</text>\n",
       "<text fill=\"rgb(102,102,102)\" font-size=\"16\" stroke=\"rgb(102,102,102)\" stroke-width=\"1\" x=\"32.500000\" y=\"68.000000\">C</text>\n",
       "</svg>\n"
      ],
      "text/plain": [
       "<pybel.Molecule at 0x290d287bc18>"
      ]
     },
     "execution_count": 65,
     "metadata": {},
     "output_type": "execute_result"
    }
   ],
   "source": [
    "mol = readstring(\"smi\", \"C-C=C\")\n",
    "atr1 = len(mol.atoms), mol.molwt\n",
    "mol"
   ]
  },
  {
   "cell_type": "markdown",
   "metadata": {
    "scrolled": false
   },
   "source": [
    "查看Mol对象帮助文档: pybel的**Mol对象**可以把openbabel的**OBMol对象**直接当做属性调用;"
   ]
  },
  {
   "cell_type": "code",
   "execution_count": 66,
   "metadata": {
    "scrolled": false
   },
   "outputs": [],
   "source": [
    "# help(mol)\n",
    "# %omit 5 dir(mol.OBMol)"
   ]
  },
  {
   "cell_type": "markdown",
   "metadata": {},
   "source": [
    "pybel的Mol对象**通过OBMol**直接调用openbabel的方法"
   ]
  },
  {
   "cell_type": "code",
   "execution_count": 67,
   "metadata": {},
   "outputs": [
    {
     "name": "stdout",
     "output_type": "stream",
     "text": [
      "     atr1               atr2         \n",
      "-------------  ----------------------\n",
      "(3, 42.07974)  (9, 42.07973999999999)\n"
     ]
    }
   ],
   "source": [
    "mol.OBMol.AddHydrogens()\n",
    "atr2 = len(mol.atoms), mol.molwt\n",
    "%C atr1; atr2"
   ]
  },
  {
   "cell_type": "markdown",
   "metadata": {},
   "source": [
    "#### 使用openpybel创建分子, 使用pybel保存分子"
   ]
  },
  {
   "cell_type": "markdown",
   "metadata": {},
   "source": [
    "使用openbabel创建分子对象"
   ]
  },
  {
   "cell_type": "code",
   "execution_count": 68,
   "metadata": {},
   "outputs": [
    {
     "data": {
      "text/plain": [
       "True"
      ]
     },
     "execution_count": 68,
     "metadata": {},
     "output_type": "execute_result"
    }
   ],
   "source": [
    "mol = openbabel.OBMol()\n",
    "a = mol.NewAtom()\n",
    "a.SetAtomicNum(6) # carbon atom\n",
    "a.SetVector(0.0, 1.0, 2.0) # coordinates\n",
    "b = mol.NewAtom()\n",
    "b.SetAtomicNum(6)\n",
    "mol.AddBond(1, 2, 2) # atoms indexed from 1"
   ]
  },
  {
   "cell_type": "markdown",
   "metadata": {},
   "source": [
    "使用pybel模块保存分子对象"
   ]
  },
  {
   "cell_type": "code",
   "execution_count": 69,
   "metadata": {},
   "outputs": [],
   "source": [
    "pybelmol = pybel.Molecule(mol)\n",
    "pybelmol.write(\"mol2\", \"data/C2H2.mol2\", overwrite=True)"
   ]
  },
  {
   "cell_type": "code",
   "execution_count": 70,
   "metadata": {},
   "outputs": [
    {
     "data": {
      "image/svg+xml": [
       "<svg xmlns=\"http://www.w3.org/2000/svg\" font-family=\"sans-serif\" height=\"100\" stroke=\"rgb(0,0,0)\" stroke-linecap=\"round\" stroke-width=\"2\" viewBox=\"0 0 120 80\" width=\"100\" x=\"0\" y=\"0\">\n",
       "<line stroke=\"rgb(0,0,0)\" stroke-width=\"2.0\" x1=\"67.0\" x2=\"53.0\" y1=\"43.0\" y2=\"43.0\" />\n",
       "<line stroke=\"rgb(0,0,0)\" stroke-width=\"2.0\" x1=\"67.0\" x2=\"53.0\" y1=\"37.0\" y2=\"37.0\" />\n",
       "<text fill=\"rgb(102,102,102)\" font-size=\"16\" stroke=\"rgb(102,102,102)\" stroke-width=\"1\" x=\"76.000000\" y=\"48.000000\">CH</text>\n",
       "<text fill=\"rgb(102,102,102)\" font-size=\"13\" stroke=\"rgb(102,102,102)\" stroke-width=\"1\" x=\"100.000000\" y=\"51.680000\">2</text>\n",
       "<text fill=\"rgb(102,102,102)\" font-size=\"16\" stroke=\"rgb(102,102,102)\" stroke-width=\"1\" x=\"14.000000\" y=\"48.000000\">H</text>\n",
       "<text fill=\"rgb(102,102,102)\" font-size=\"13\" stroke=\"rgb(102,102,102)\" stroke-width=\"1\" x=\"26.000000\" y=\"51.680000\">2</text>\n",
       "<text fill=\"rgb(102,102,102)\" font-size=\"16\" stroke=\"rgb(102,102,102)\" stroke-width=\"1\" x=\"32.500000\" y=\"48.000000\">C</text>\n",
       "</svg>\n"
      ],
      "text/plain": [
       "<pybel.Molecule at 0x290d287b5c0>"
      ]
     },
     "execution_count": 70,
     "metadata": {},
     "output_type": "execute_result"
    }
   ],
   "source": [
    "pybelmol"
   ]
  },
  {
   "cell_type": "markdown",
   "metadata": {},
   "source": [
    "## Pybel API"
   ]
  },
  {
   "cell_type": "markdown",
   "metadata": {},
   "source": [
    "pybel API: http://openbabel.org/docs/current/UseTheLibrary/Python_PybelAPI.html;"
   ]
  },
  {
   "cell_type": "markdown",
   "metadata": {},
   "source": [
    "### pybel的全局变量"
   ]
  },
  {
   "cell_type": "code",
   "execution_count": 71,
   "metadata": {},
   "outputs": [],
   "source": [
    "global_variables = ['informats', 'outformats', 'descs', 'fps', 'forcefields', 'operations']"
   ]
  },
  {
   "cell_type": "markdown",
   "metadata": {
    "scrolled": true
   },
   "source": [
    "pybel支持的所有输入文件格式"
   ]
  },
  {
   "cell_type": "code",
   "execution_count": 72,
   "metadata": {},
   "outputs": [
    {
     "name": "stdout",
     "output_type": "stream",
     "text": [
      "{'abinit': 'ABINIT Output Format',\n",
      " 'acesout': 'ACES output format',\n",
      " 'acr': 'ACR format',\n",
      " 'adfout': 'ADF output format',\n",
      " 'alc': 'Alchemy format',\n",
      "...\n"
     ]
    }
   ],
   "source": [
    "%omit 5 pybel.informats"
   ]
  },
  {
   "cell_type": "markdown",
   "metadata": {
    "scrolled": true
   },
   "source": [
    "pybel支持的所有输出文件格式"
   ]
  },
  {
   "cell_type": "code",
   "execution_count": 73,
   "metadata": {
    "scrolled": true
   },
   "outputs": [
    {
     "name": "stdout",
     "output_type": "stream",
     "text": [
      "{'acesin': 'ACES input format',\n",
      " 'adf': 'ADF cartesian input format',\n",
      " 'alc': 'Alchemy format',\n",
      " 'ascii': 'ASCII format',\n",
      " 'bgf': 'MSI BGF format',\n",
      "...\n"
     ]
    }
   ],
   "source": [
    "%omit 5 pybel.outformats"
   ]
  },
  {
   "cell_type": "markdown",
   "metadata": {},
   "source": [
    "pybel支持的所有描述符"
   ]
  },
  {
   "cell_type": "code",
   "execution_count": 74,
   "metadata": {},
   "outputs": [
    {
     "name": "stdout",
     "output_type": "stream",
     "text": [
      "abonds  |atoms   |bonds   |cansmi  |cansmiNS|dbonds  |formula |HBA1    |HBA2    |HBD     |InChI   |\n",
      "InChIKey|L5      |logP    |MP      |MR      |MW      |nF      |s       |sbonds  |smarts  |tbonds  |\n",
      "title   |TPSA    |\n"
     ]
    }
   ],
   "source": [
    "%col 11 pybel.descs "
   ]
  },
  {
   "cell_type": "markdown",
   "metadata": {},
   "source": [
    "pybel支持的所有操作"
   ]
  },
  {
   "cell_type": "code",
   "execution_count": 75,
   "metadata": {},
   "outputs": [
    {
     "name": "stdout",
     "output_type": "stream",
     "text": [
      "0xout        |addfilename  |AddInIndex   |AddNonPolarH |AddPolarH    |align        |canonical    |ChangeCell   |\n",
      "confab       |conformer    |DelNonPolarH |DelPolarH    |energy       |fillUC       |gen2D        |gen3D        |\n",
      "genalias     |highlight    |largest      |minimize     |partialcharge|readconformer|s            |smallest     |\n",
      "sort         |split        |unique       |v            |\n"
     ]
    }
   ],
   "source": [
    "%col 8 pybel.operations"
   ]
  },
  {
   "cell_type": "markdown",
   "metadata": {},
   "source": [
    "pybel支持的所有指纹类型"
   ]
  },
  {
   "cell_type": "code",
   "execution_count": 76,
   "metadata": {},
   "outputs": [
    {
     "name": "stdout",
     "output_type": "stream",
     "text": [
      "ecfp0 |ecfp10|ecfp2 |ecfp4 |ecfp6 |ecfp8 |fp2   |fp3   |fp4   |maccs |\n"
     ]
    }
   ],
   "source": [
    "%col 11 pybel.fps "
   ]
  },
  {
   "cell_type": "markdown",
   "metadata": {},
   "source": [
    "pybel支持的所有力场"
   ]
  },
  {
   "cell_type": "code",
   "execution_count": 77,
   "metadata": {},
   "outputs": [
    {
     "data": {
      "text/plain": [
       "['gaff', 'ghemical', 'mmff94', 'mmff94s', 'uff']"
      ]
     },
     "execution_count": 77,
     "metadata": {},
     "output_type": "execute_result"
    }
   ],
   "source": [
    "pybel.forcefields "
   ]
  },
  {
   "cell_type": "markdown",
   "metadata": {},
   "source": [
    "### pybel函数和类"
   ]
  },
  {
   "cell_type": "markdown",
   "metadata": {},
   "source": [
    "**pybel函数**: readfile(), readstring();  \n",
    "**pybel类**: Atom, Molecule, Outputfile, Fingerprint, Smarts, MoleculeData;  "
   ]
  },
  {
   "cell_type": "markdown",
   "metadata": {},
   "source": [
    "## 其他网络资源"
   ]
  },
  {
   "cell_type": "markdown",
   "metadata": {},
   "source": [
    "http://openbabel.org/docs/current/UseTheLibrary/PythonExamples.html"
   ]
  }
 ],
 "metadata": {
  "kernelspec": {
   "display_name": "Python 3",
   "language": "python",
   "name": "python3"
  },
  "language_info": {
   "codemirror_mode": {
    "name": "ipython",
    "version": 3
   },
   "file_extension": ".py",
   "mimetype": "text/x-python",
   "name": "python",
   "nbconvert_exporter": "python",
   "pygments_lexer": "ipython3",
   "version": "3.6.5"
  },
  "toc": {
   "base_numbering": 1,
   "nav_menu": {},
   "number_sections": true,
   "sideBar": true,
   "skip_h1_title": true,
   "title_cell": "Table of Contents",
   "title_sidebar": "Contents",
   "toc_cell": false,
   "toc_position": {
    "height": "363px",
    "left": "827.991px",
    "top": "31.9938px",
    "width": "223px"
   },
   "toc_section_display": true,
   "toc_window_display": false
  }
 },
 "nbformat": 4,
 "nbformat_minor": 2
}
