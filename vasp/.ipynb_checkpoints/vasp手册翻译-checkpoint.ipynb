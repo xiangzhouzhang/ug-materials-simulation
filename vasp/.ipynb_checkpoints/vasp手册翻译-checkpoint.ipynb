{
 "cells": [
  {
   "cell_type": "code",
   "execution_count": 2,
   "metadata": {},
   "outputs": [
    {
     "name": "stdout",
     "output_type": "stream",
     "text": [
      "^^^^^^^^^^^^^^^^^^^^^^^^^^^^^^^^^^^^^^^^^^^^!kk0:start>^^^^^^^^^^^^^^^^^^^^^^^^^^^^^^^^^^^^^^^^^^^^^\n"
     ]
    }
   ],
   "source": [
    "kk 0"
   ]
  },
  {
   "cell_type": "markdown",
   "metadata": {},
   "source": [
    "# New features added"
   ]
  },
  {
   "cell_type": "markdown",
   "metadata": {},
   "source": [
    "# VASP an introduction"
   ]
  },
  {
   "cell_type": "markdown",
   "metadata": {},
   "source": [
    "# The installation of VASP"
   ]
  },
  {
   "cell_type": "markdown",
   "metadata": {},
   "source": [
    "# Parallelization of VASP.4"
   ]
  },
  {
   "cell_type": "markdown",
   "metadata": {},
   "source": []
  },
  {
   "cell_type": "markdown",
   "metadata": {},
   "source": []
  },
  {
   "cell_type": "code",
   "execution_count": null,
   "metadata": {},
   "outputs": [],
   "source": []
  },
  {
   "cell_type": "markdown",
   "metadata": {},
   "source": [
    "# Files used by vasp"
   ]
  },
  {
   "cell_type": "markdown",
   "metadata": {},
   "source": [
    "既可以做输入也可以做输出的文件:   \n",
    "\n",
    "|文件|说明|\n",
    "|:---|:---|\n",
    "|CHGCAR| |\n",
    "|WAVECAR| |\n",
    "|TMPCAR| |"
   ]
  },
  {
   "cell_type": "markdown",
   "metadata": {},
   "source": [
    "## INCAR文件"
   ]
  },
  {
   "cell_type": "markdown",
   "metadata": {},
   "source": [
    "**INCAR**是VASP主要的输入文件, 包含关于计算的各种参数, 在不知道参数准确含义的情况下, 应该使用默认值;"
   ]
  },
  {
   "cell_type": "markdown",
   "metadata": {},
   "source": [
    "## STOPCAR文件"
   ]
  },
  {
   "cell_type": "markdown",
   "metadata": {},
   "source": [
    "**STOPCAR**可以在VASP的执行期间可以终止程序的运行;  \n",
    "* `LSTOP = .TRUE.`: 在下一个离子步骤终止程序;    \n",
    "* `LABORT = .TRUE.`: 在一个电子步骤终止程序, 可能导致WAVECAR和CHGCAR包含非自洽数据;"
   ]
  },
  {
   "cell_type": "markdown",
   "metadata": {},
   "source": [
    "## OSZICAR文件(stdout)"
   ]
  },
  {
   "cell_type": "markdown",
   "metadata": {},
   "source": [
    "**OSZICAR**保存关于收敛速度和当前步的信息;  \n",
    "注意保存该文件, 它可能提供很重要的信息;"
   ]
  },
  {
   "cell_type": "markdown",
   "metadata": {},
   "source": [
    "![OSZICAR.png](data/OSZICAR.png)"
   ]
  },
  {
   "cell_type": "markdown",
   "metadata": {},
   "source": [
    "`N`: 电子迭代的步数;  \n",
    "`E`: 当前自由能;  \n",
    "`dE`: 当前自由能与前一次自由能的差值, **怎么会差别1000个电子伏特?**;  \n",
    "`d eps`: 能带能(本征值)的改变值;  \n",
    "`ncg `: the number of evaluations of the Hamiltonian acting onto a wavefunction, $H\\Psi$的优化步数;  \n",
    "`rms`: R = H − εS|φ >  \n",
    "`rms(c)`: 输入和输出电荷密度之间的差异;"
   ]
  },
  {
   "cell_type": "markdown",
   "metadata": {},
   "source": [
    "最后一行表示收敛之后的能量;  \n",
    "* F表示总能, (参考原子的能量已经被去除);  \n",
    "* E0 是sigma->0时的能量\n",
    "* dE: 两个离子步之间的能量差, 上面的dE是两个电子步之间的能量差; \n",
    "    * for **a static run dE is the entropy multiplied by sigma**"
   ]
  },
  {
   "cell_type": "markdown",
   "metadata": {},
   "source": [
    "## POTCAR file"
   ]
  },
  {
   "cell_type": "markdown",
   "metadata": {},
   "source": [
    "POTCAR文件包含了每个原子物种的赝势;    \n",
    "组合物种的POTCAR文件, 只需简单的将每个物种的POTCAR串联起来即可;    \n",
    "`cat ~/pot/Al/POTCAR ~/pot/C/POTCAR ~/pot/H/POTCAR >POTCAR`;  \n",
    "VASp3.2之后的版本中, 每个POTCAR文件中都包含了原子的基本信息, 如mass, valence, the energy of the reference configuration for which the pseudopotential was created(创建赝势所定的参考态能量), 所以这些信息不必在INCAR文件中设置了;  \n",
    "POTCAR文件中的原子顺序必须与POSCAR中的原子顺序一致;   \n",
    "POTCAR文件包含默认的截断能(default energy cutoff: ENMAX and ENMIN), 因此不需要再INCAR文件中设置`ENCUT`; 当然, INCAR文件中的`ENCUT`参数会覆盖POTCAR文件中的默认参数;  \n",
    "对于混合物种, 会从POTCAR中选取最大的( ENMAX or ENMIN)作为`INCAR`中的默认截断能;"
   ]
  },
  {
   "cell_type": "markdown",
   "metadata": {},
   "source": [
    "## KPOINTS文件"
   ]
  },
  {
   "cell_type": "markdown",
   "metadata": {},
   "source": [
    "`vasp.5.2.12`可以省略KPOINTS文件, 而在INCAR文件中设置;"
   ]
  },
  {
   "cell_type": "markdown",
   "metadata": {},
   "source": [
    "### 明确的键入所有的K点"
   ]
  },
  {
   "cell_type": "code",
   "execution_count": 10,
   "metadata": {},
   "outputs": [],
   "source": [
    "%%pass\n",
    "Example file   !注释行\n",
    "4              !K点的数量\n",
    "Cartesian      !实空间(C,c)还是倒空间(K,k,reciprocal)\n",
    "0.0 0.0 0.0 1. !三个坐标分量, 权重\n",
    "0.0 0.0 0.5 1.\n",
    "0.0 0.5 0.5 2.\n",
    "0.5 0.5 0.5 4.\n",
    "Tetrahedra\n",
    "1 0.183333333333333\n",
    "6 1 2 3 4"
   ]
  },
  {
   "cell_type": "code",
   "execution_count": null,
   "metadata": {},
   "outputs": [],
   "source": []
  },
  {
   "cell_type": "code",
   "execution_count": null,
   "metadata": {},
   "outputs": [],
   "source": []
  },
  {
   "cell_type": "markdown",
   "metadata": {},
   "source": [
    "### 对于能带计算的K点设置"
   ]
  },
  {
   "cell_type": "code",
   "execution_count": 12,
   "metadata": {},
   "outputs": [],
   "source": [
    "%%pass\n",
    "k-points along high symmetry lines\n",
    "40 ! 40 intersections\n",
    "Line-mode\n",
    "cart\n",
    "0 0 0 ! gamma\n",
    "0 0 1 ! X\n",
    "0 0 1 ! X\n",
    "0.5 0 1 ! W\n",
    "0.5 0 1 ! W\n",
    "0 0 1 ! gamma"
   ]
  },
  {
   "cell_type": "code",
   "execution_count": null,
   "metadata": {},
   "outputs": [],
   "source": [
    "%%pass\n",
    "k-points along high symmetry lines\n",
    "40 ! 40 intersections\n",
    "Line-mode\n",
    "rec\n",
    "0 0 0 ! gamma\n",
    "0.5 0.5 0 ! X\n",
    "0.5 0.5 0 ! X\n",
    "0.5 0.75 0.25 ! W\n",
    "0.5 0.75 0.25 ! W\n",
    "0 0 0 ! gamma"
   ]
  },
  {
   "cell_type": "markdown",
   "metadata": {},
   "source": [
    "该种形式的K点用于计算能带结构"
   ]
  },
  {
   "cell_type": "code",
   "execution_count": 13,
   "metadata": {},
   "outputs": [],
   "source": [
    "%%pass #hexagonal(六角)structure\n",
    "k-points along high symmetry lines for hexagonal str.\n",
    "40\n",
    "line\n",
    "rec\n",
    "0.000 0.000 0.500 ! A\n",
    "0.000 0.000 0.000 ! Gamma\n",
    "0.000 0.000 0.000 ! Gamma\n",
    "0.500 0.000 0.000 ! M\n",
    "0.500 0.000 0.000 ! M\n",
    "0.333333 0.333333 0.000 ! K\n",
    "0.333333 0.333333 0.000 ! K\n",
    "0.000 0.000 0.000 ! Gamma"
   ]
  },
  {
   "cell_type": "markdown",
   "metadata": {},
   "source": [
    "### 自动生成K-网"
   ]
  },
  {
   "cell_type": "code",
   "execution_count": 56,
   "metadata": {},
   "outputs": [],
   "source": [
    "%%pass\n",
    "%%writefile data/KPOINTS.bak\n",
    "Automatic mesh   !注释行\n",
    "0                !0表示自动产生K点\n",
    "Gamma            !G表示使用M-P方法且以Gamma为中心自动产生K点\n",
    "4  4  4          !沿各个基矢方向分割各基矢的点数\n",
    "0. 0. 0.         !对所按网格分割产生的K点进行平移的量"
   ]
  },
  {
   "cell_type": "code",
   "execution_count": 58,
   "metadata": {},
   "outputs": [
    {
     "name": "stdout",
     "output_type": "stream",
     "text": [
      "@data/KPOINTS.bak>>                               \n",
      "  1: Automatic mesh   !注释行\n",
      "  2: 0                !0表示自动产生K点\n",
      "  3: Gamma            !G表示使用M-P方法且以Gamma为中心自动产生K点\n",
      "  4: 4  4  4          !沿各个基矢方向分割各基矢的点数\n",
      "  5: 0. 0. 0.         !对所按网格分割产生的K点进行平移的量"
     ]
    }
   ],
   "source": [
    "br.showfile('data/KPOINTS.bak')"
   ]
  },
  {
   "cell_type": "markdown",
   "metadata": {},
   "source": [
    "> 1. $\\alpha=\\beta=\\gamma=90°$时, k点网格大小k1,k2,k3与晶格常数要尽量满足关系: `k1*a=k2*b=k3*c`;\n",
    "1. k点越密计算精度越高,成本也越高, 对于k点的需求, 金属>>半导体,绝缘体; 块体>表面;   \n",
    "1. 对于表面体系, z轴方向有真空层, c较大, k3取1即可;  \n",
    "若a,b均大于15埃, k点通常设置成Gamma点(1X1X1);\n",
    "1. k点与晶格常数有关, 当两种体系晶格常数不变时, k点需要一致才有可比性(同一体系不同位置的掺杂,晶格常数不变的吸附体系)"
   ]
  },
  {
   "cell_type": "code",
   "execution_count": 15,
   "metadata": {},
   "outputs": [],
   "source": [
    "%%pass\n",
    "%%writefile KPOINTS.bak\n",
    "Automatic mesh    !注释行\n",
    "0                 ! number of k-points = 0 ->automatic generation scheme\n",
    "Auto              ! fully automatic\n",
    "10                ! length (l)"
   ]
  },
  {
   "cell_type": "code",
   "execution_count": null,
   "metadata": {},
   "outputs": [],
   "source": [
    "%%pass\n",
    "Automatic generation\n",
    "0\n",
    "Cartesian\n",
    "0.25 0.00 0.00\n",
    "0.00 0.25 0.00\n",
    "0.00 0.00 0.25\n",
    "0.00 0.00 0.00"
   ]
  },
  {
   "cell_type": "markdown",
   "metadata": {},
   "source": [
    "### hexagonal lattices"
   ]
  },
  {
   "cell_type": "code",
   "execution_count": null,
   "metadata": {},
   "outputs": [],
   "source": []
  },
  {
   "cell_type": "markdown",
   "metadata": {},
   "source": [
    "### POSCAR文件"
   ]
  },
  {
   "cell_type": "markdown",
   "metadata": {},
   "source": [
    "有关晶格几何(lattice geometry)和离子位置(ionic positions)的文件;  \n",
    "对于MD-run, 还可以包含起始速度(starting velocities)和坐标预测校正器(predictor-corrector coordinates);"
   ]
  },
  {
   "cell_type": "code",
   "execution_count": 53,
   "metadata": {},
   "outputs": [],
   "source": [
    "%%pass\n",
    "%%writefile data/POSCAR.bak\n",
    "Cubic BN              !注释行\n",
    "3.57                  !晶格常数的统一缩放系数, 也会缩放原子坐标\n",
    "0.0 0.5 0.5           !此三行表示晶格矢量\n",
    "0.5 0.0 0.5\n",
    "0.5 0.5 0.0\n",
    "1 1                   !与POTCAR对应,指明每个原子的个数\n",
    "Selective dynamics    !可选力度: 是否要固定部分原子的坐标, T为不固定, F为固定\n",
    "Cartesian\n",
    "0.00 0.00 0.00 T T F  !F:fix, T:不固定;\n",
    "0.25 0.25 0.25 F F F\n",
    "                      !此后可添加有关运行分子动力学的参数(MD-run)"
   ]
  },
  {
   "cell_type": "code",
   "execution_count": 52,
   "metadata": {},
   "outputs": [
    {
     "name": "stdout",
     "output_type": "stream",
     "text": [
      "@data/POSCAR.bak>>                                \n",
      "  1: Cubic BN              !注释行\n",
      "  2: 3.57                  !晶格常数的统一缩放系数, 也会缩放原子坐标\n",
      "  3: 0.0 0.5 0.5           !此三行表示晶格矢量\n",
      "  4: 0.5 0.0 0.5\n",
      "  5: 0.5 0.5 0.0\n",
      "  6: 1 1                   !与POTCAR对应,指明每个原子的个数\n",
      "  7: Selective dynamics    !可选力度: 是否要固定部分原子的坐标, T为不固定, F为固定\n",
      "  8: Cartesian\n",
      "  9: 0.00 0.00 0.00 T T F  !F:fix, T:不固定;\n",
      " 10: 0.25 0.25 0.25 F F F\n",
      " 11:                       !此后可添加有关运行分子动力学的参数(MD-run)"
     ]
    }
   ],
   "source": [
    "br.showfile('data/POSCAR.bak')"
   ]
  },
  {
   "cell_type": "markdown",
   "metadata": {},
   "source": [
    "# The INCAR File"
   ]
  },
  {
   "cell_type": "markdown",
   "metadata": {},
   "source": [
    "## INCAR文件中最长使用的设置"
   ]
  },
  {
   "cell_type": "markdown",
   "metadata": {},
   "source": [
    "### 静态计算"
   ]
  },
  {
   "cell_type": "code",
   "execution_count": null,
   "metadata": {},
   "outputs": [],
   "source": [
    "%%pass\n",
    "ISTART = 0 # startjob: no WAVECAR file\n",
    "ICHARG = 2 # charge: from atoms"
   ]
  },
  {
   "cell_type": "markdown",
   "metadata": {},
   "source": [
    "ISTART和ICHARG指明如何构建初始的波函数和电荷密度, 是否读入上一次计算的波函数和电荷密度;  \n",
    "对于能带结构和电子态密度等性质的计算: ISTART=1, ICHARG=11;  \n",
    "其他情况: ISTART=0, ICHARG=2;"
   ]
  },
  {
   "cell_type": "code",
   "execution_count": null,
   "metadata": {},
   "outputs": [],
   "source": []
  },
  {
   "cell_type": "code",
   "execution_count": 62,
   "metadata": {},
   "outputs": [],
   "source": [
    "INIWAV = 1   # random initialization for wf.\n",
    "NELM = 60    #允许电子自洽迭代的最大步数, 电子结构比较复杂的材料可以适当增加该参数\n",
    "NELMIN = 2   # minimum of two steps\n",
    "NELMDL = -5 # no update of charge for 3 steps\n",
    "EDIFF = 10E-4 # 电子自洽的收敛标准, 默认值是1E5,当连续两次迭代中总能和本征值的变化都小于该值时,电子的自洽迭代将终止"
   ]
  },
  {
   "cell_type": "code",
   "execution_count": null,
   "metadata": {},
   "outputs": [],
   "source": []
  },
  {
   "cell_type": "code",
   "execution_count": null,
   "metadata": {},
   "outputs": [],
   "source": []
  },
  {
   "cell_type": "code",
   "execution_count": null,
   "metadata": {},
   "outputs": [],
   "source": []
  },
  {
   "cell_type": "code",
   "execution_count": null,
   "metadata": {},
   "outputs": [],
   "source": []
  },
  {
   "cell_type": "markdown",
   "metadata": {},
   "source": [
    "## nelm,nelmin,nelmdl"
   ]
  },
  {
   "cell_type": "markdown",
   "metadata": {},
   "source": [
    "`nelm`: 规定电子自洽(SC, selfconsistency)的最大步数;  \n",
    "一般情况下不需要改变默认值, 因为, 如果自洽循环在40步内没有收敛, 它可能根本不会收敛; 在这种情况下, 你应该重新考虑标签`IALGO`,(ALGO),`LDIAG`以及混合参数(mixing-parameters);    "
   ]
  },
  {
   "cell_type": "markdown",
   "metadata": {},
   "source": [
    "`nelmin`: 规定电子自洽的最少步数, 一般情况下无需更改此设置, 在某些情况下(例如MD或离子松弛), 可以将`nelmin`设置为更大的值(4到8);"
   ]
  },
  {
   "cell_type": "markdown",
   "metadata": {},
   "source": [
    "`nelmdl`: 非自洽步数;"
   ]
  },
  {
   "cell_type": "markdown",
   "metadata": {},
   "source": [
    "## 6.13 \\*MAGMOM-tag"
   ]
  },
  {
   "cell_type": "markdown",
   "metadata": {},
   "source": [
    "MAGMOM= [real array]  \n",
    "Default: \n",
    "* for ISPIN = 2: `MAGMOM = NIONS*1.0`\n",
    "* for non-collinear magnetic systems: `= 3*NIONS*1.0` "
   ]
  },
  {
   "cell_type": "markdown",
   "metadata": {},
   "source": [
    "# 6.17 NELM, NELMIN and NELMDL-tag"
   ]
  },
  {
   "cell_type": "markdown",
   "metadata": {},
   "source": [
    "NELM= [integer] NELMIN= [integer] NELMDL= [integer]  \n",
    "Default:  \n",
    "* NELM = 60\n",
    "* NELMIN = 2\n",
    "* NELMDL = -5 if ISTART=0, INIWAV=1, and IALGO=8\n",
    "* NELMDL = -12 if ISTART=0, INIWAV=1, and IALGO=48 (VASP.4.4)\n",
    "* NELMDL = 0 else"
   ]
  },
  {
   "cell_type": "markdown",
   "metadata": {},
   "source": [
    "**NELM**给出电子自洽迭代的最大步数;   \n",
    "通常情况下没有必要更改此值, 如果电子自洽步在40步内没有收敛, 那么它很有可能永远不会收敛;  \n",
    "在这种情况下, 你应该重新考虑 IALGO, (ALGO ), LDIAG , and the mixing-parameters;  "
   ]
  },
  {
   "cell_type": "markdown",
   "metadata": {},
   "source": [
    "**NELMIN**给出了最小的电子SC步数。一般情况下，不需要更改此设置。对于MD和离子迟豫, 可以将其设置的更大些, 如4-8;  "
   ]
  },
  {
   "cell_type": "markdown",
   "metadata": {},
   "source": [
    "**NELMDL**指定初始时非自洽迭代的步数;  \n",
    "如果随机初始化远离合理性的轨道, 由此产生的电荷密度也是无效的;  \n",
    "因此，保持初始哈密顿量（对应于原子电荷密度的叠加）在前几个步骤中固定是有意义的。\n",
    "\n",
    "* 选择延迟模式开启电荷密度的更新, 在对于SC-收敛非常坏的所有情况都非常重要例如表面或分子/团簇，链）。如果不设置延迟，VASP可能不会收敛或至少收敛速度减慢。\n",
    "\n",
    "* NELMDL可能是正的或负的。正数意味着在每个离子运动之后施加延迟。一般不是一个方便的选择。负值只导致启动配置的延迟。"
   ]
  },
  {
   "cell_type": "markdown",
   "metadata": {},
   "source": [
    "## 6.18 EDIFF-tag"
   ]
  },
  {
   "cell_type": "markdown",
   "metadata": {},
   "source": [
    "EDIFF= [real]\n",
    "* Default: EDIFF = $10^{−4}$"
   ]
  },
  {
   "cell_type": "markdown",
   "metadata": {},
   "source": [
    "指定电子自洽循环的全局中断条件(global break condition);   \n",
    "如果在两步之间总能量的变化和能带能量的变化(change of eigenvalues)都小于EDIFF, 那么电子自由度的弛豫将被终止;  \n",
    "如果EDIFF=0, 电子自洽步将会永远不会停止;   "
   ]
  },
  {
   "cell_type": "markdown",
   "metadata": {},
   "source": [
    "在大多数情况下的收敛速度是指数型的;   \n",
    "默认值已经将能量的有效数字提高到小数点后四位(want the total energy significant to 4 figures), 因此没有必要设置更小的值;  "
   ]
  },
  {
   "cell_type": "markdown",
   "metadata": {},
   "source": [
    "## 6.19 EDIFFG-tag"
   ]
  },
  {
   "cell_type": "markdown",
   "metadata": {},
   "source": [
    "EDIFFG= [real]\n",
    "* Default: EDIFFG = EDIFF*10"
   ]
  },
  {
   "cell_type": "markdown",
   "metadata": {},
   "source": [
    "EDIFFG设置离子步循环的终止条件;  \n",
    "如果EDIFFG为负值, 则该值表示体系所受的力(正值表示能量);  \n",
    "* EDIFFG = 0: 运行NSW个离子步后停止;\n",
    "* EDIFFG不用于分子动力学模拟;"
   ]
  },
  {
   "cell_type": "markdown",
   "metadata": {},
   "source": [
    "# 6.20 NSW-tag"
   ]
  },
  {
   "cell_type": "markdown",
   "metadata": {},
   "source": [
    "NSW= [integer]  \n",
    "* Default: NSW = 0"
   ]
  },
  {
   "cell_type": "markdown",
   "metadata": {},
   "source": [
    "* 设置离子迭代的最大步数;  \n",
    "* 在每个离子步中进行电子步循环: 直到电子步达到收敛标准(EDIFF).\n",
    "* 在每个离子步会精确的计算Hellmann-Feynman力和应力(stresses);   \n",
    "    * 应力是离子之间所受的力;\n",
    "    * HF力是电子之间受到的力还是体系之中, 离子之间所受的力;"
   ]
  },
  {
   "cell_type": "markdown",
   "metadata": {},
   "source": [
    "## 6.22 IBRION-tag, NFREE-tag"
   ]
  },
  {
   "cell_type": "markdown",
   "metadata": {},
   "source": [
    "`IBRION= -1 | 0 | 1 | 2 | 3 | 5 | 6 | 7 | 8 | 44`    \n",
    "Default:\n",
    "* for NSW=0 or NSW=1: IBRION= -1\n",
    "* else: 0"
   ]
  },
  {
   "cell_type": "markdown",
   "metadata": {},
   "source": [
    "IBRION决定离子如何被更新和移动;  \n",
    "* IBRION＝0: 进行分子动力学;\n",
    "* 以下设置用于选取结构优化的算法;\n",
    "* IBRION=2: 对于困难的松弛问题，建议使用共轭梯度算法, 它目前具有最可靠的备份例程。\n",
    "* IBRION＝3: 阻尼的分子动力学, 从非常差的初始猜测开始时通常是有用的。\n",
    "* IBRION＝1: 接近局部极小值RMM-DIIS, 通常是最好的选择。\n",
    "* IBRION＝5和IBRION＝6, 使用有限差分来确定二阶导数(Hessian矩阵和声子频率);\n",
    "* 而IBRION=7和IBRION=8使用密度泛函微扰理论计算导数。"
   ]
  },
  {
   "cell_type": "markdown",
   "metadata": {},
   "source": [
    "# 6.23 POTIM-tag"
   ]
  },
  {
   "cell_type": "markdown",
   "metadata": {},
   "source": [
    "POTIM= [real]    \n",
    "Default:\n",
    "* no default, must be set by user if IBRION=0 (MD)\n",
    "* POTIM= 0.5 if IBRION=1,2,3 (relaxation)"
   ]
  },
  {
   "cell_type": "markdown",
   "metadata": {},
   "source": [
    "* In case IBRION=0 (MD) , POTIM specifies the time step in fs. \n",
    "* POTIM supplies the time step for an ab-initio molecular dynamics (IBRION=0), and must be entered by the user for all MD\n",
    "simulations.\n",
    "* For IBRION=1,2 or 3, POTIM serves as a scaling constant for\n",
    "the forces.\n",
    "* In addition POTIM severs as a “scaling constant” in all minimization algorithms (quasi-Newton, conjugate gradient, and\n",
    "damped molecular dynamics). Especially the Quasi-Newton algorithm is sensitive to the choice of this parameter (see section\n",
    "IBRION 6.22)"
   ]
  },
  {
   "cell_type": "markdown",
   "metadata": {},
   "source": [
    "# 6.38 ISMEAR, SIGMA, FERWE, FERDO SMEARINGS tag"
   ]
  },
  {
   "cell_type": "markdown",
   "metadata": {},
   "source": [
    "ISMEAR = -5 — -4 — -3 — -2 — 0 — N  \n",
    "SIGMA= [real] FERWE= [real array] FERDO= [real array]  "
   ]
  },
  {
   "cell_type": "markdown",
   "metadata": {},
   "source": [
    "Default: \n",
    "* ISMEAR = 1\n",
    "* SIGMA = 0.2"
   ]
  },
  {
   "cell_type": "markdown",
   "metadata": {},
   "source": [
    "总结性方针(guidelines):\n",
    "* 对于绝缘体和半导体, 并且使用(the tetrahedron method)设置`ISMEAR=-5`, 如果晶胞太大或者只用了一两个k点`ISMEAR=0 in combination with a small SIGMA=0.05`\n",
    "* 金属结构松弛总是使用`ISMEAR=1 or ISMEAR=2` and an appropriate SIGMA value (the entropy term should\n",
    "be less than 1 meV per atom). \n",
    "* Mind: Avoid to use ISMEAR>0 for semiconductors and insulators, since it might cause\n",
    "problems.\n",
    "* For metals a sensible value is usually SIGMA= 0.2 (which is the default).\n",
    "* For the calculations of the DOS and very accurate total energy calculations (no relaxation in metals) use the tetrahedron\n",
    "method (ISMEAR=-5)"
   ]
  },
  {
   "cell_type": "markdown",
   "metadata": {},
   "source": [
    "# Theoretical Background"
   ]
  },
  {
   "cell_type": "markdown",
   "metadata": {},
   "source": []
  },
  {
   "cell_type": "markdown",
   "metadata": {},
   "source": []
  },
  {
   "cell_type": "markdown",
   "metadata": {},
   "source": []
  },
  {
   "cell_type": "markdown",
   "metadata": {},
   "source": []
  },
  {
   "cell_type": "markdown",
   "metadata": {},
   "source": []
  },
  {
   "cell_type": "markdown",
   "metadata": {},
   "source": [
    "# The most important parameters, source of errors"
   ]
  },
  {
   "cell_type": "markdown",
   "metadata": {},
   "source": []
  },
  {
   "cell_type": "markdown",
   "metadata": {},
   "source": []
  },
  {
   "cell_type": "markdown",
   "metadata": {},
   "source": []
  },
  {
   "cell_type": "markdown",
   "metadata": {},
   "source": []
  },
  {
   "cell_type": "markdown",
   "metadata": {},
   "source": []
  },
  {
   "cell_type": "markdown",
   "metadata": {},
   "source": [
    "# Examples"
   ]
  },
  {
   "cell_type": "markdown",
   "metadata": {},
   "source": []
  },
  {
   "cell_type": "markdown",
   "metadata": {},
   "source": []
  },
  {
   "cell_type": "markdown",
   "metadata": {},
   "source": []
  },
  {
   "cell_type": "markdown",
   "metadata": {},
   "source": []
  },
  {
   "cell_type": "markdown",
   "metadata": {},
   "source": []
  },
  {
   "cell_type": "markdown",
   "metadata": {},
   "source": []
  },
  {
   "cell_type": "markdown",
   "metadata": {},
   "source": []
  },
  {
   "cell_type": "markdown",
   "metadata": {},
   "source": []
  },
  {
   "cell_type": "markdown",
   "metadata": {},
   "source": [
    "# Pseudopotentials and PAW potentials supplied with the VASP package"
   ]
  },
  {
   "cell_type": "markdown",
   "metadata": {},
   "source": [
    "VASP提供一组标准赝势(PP), 我们强烈要求所有VASP用户依赖这组PP或PAW势; 生成这些PP是非常困难和耗时的; 创建一个手头上的(available)的赝势包的主要原因是消除了反复(繁琐)测试的需要; 通过依赖全球用户群, 我们可以(几乎)保证该赝势包对大多数应用程序都有效; 对于PP的生成, 过去是现在仍然是一个棘手, 繁琐, 容易出错且耗时的任务, 并且只有少数几个课题组可以负担得起为手头的每个问题生成新的PP;\n",
    "\n",
    "VASP提供的势是目前可用的最佳赝势, 但赝势方法已经被更好的电子结构方法所取代, 例如PAW方法; 因此, 与VASP一起分发的超软赝势的开发已经结束(the ultra soft pseudopotentials), 我们强烈建议使用VASP-PAW包中现在提供的PAW数据集;"
   ]
  },
  {
   "cell_type": "markdown",
   "metadata": {},
   "source": [
    "## Ultrasoft pseudopotentials supplied with the VASP package"
   ]
  },
  {
   "cell_type": "markdown",
   "metadata": {},
   "source": [
    "超软赝势已被PAW赝势取代:    \n",
    "This section of the manual has not been updated in a long time. We strongly recommend the use of the VASP-PAW potentials described in Sec. 10.2. The use of ultrasoft pseudopotentials is at your own risk and the potentials are no longer maintained or updated."
   ]
  },
  {
   "cell_type": "markdown",
   "metadata": {},
   "source": [
    "## The PAW potentials"
   ]
  },
  {
   "cell_type": "markdown",
   "metadata": {},
   "source": [
    "PAW赝势比US超软赝势更准确:  \n",
    "* PAW的核半径(core radii)小于US的核半径;\n",
    "* PAW使用核心区域的所有节点重建了精确的价波函数;\n",
    "* 对于包含C,N,O元素的计算, PAW并不比US耗时;"
   ]
  },
  {
   "cell_type": "markdown",
   "metadata": {},
   "source": [
    "对于某些元素, 存在不同版本的PAW赝势:  \n",
    "标准赝势的软硬程度:\n",
    "* `..`: 标准版本;    \n",
    "* `_h`: 比标准赝势更硬, 需要一个更大的截断能;   \n",
    "* `_s`: 比标准赝势更软; \n",
    "\n",
    "把内壳层中的某些电子当做价电子处理:    \n",
    "* `_pv`: 把$p$电子(半芯态,semi-core)作为价电子处理;  \n",
    "    * `V_pv`: $3p$电子作为价电子;  \n",
    "* `_d`: 把$d$电子作为价电子态;\n",
    "    * `Ga_d`:$3d$电子作为价电子;\n",
    "* `_sv`: 把$s和p$电子同时作为价电子;\n",
    "    * `V_sv`: $3s$和$3p$同时作为价电子;   "
   ]
  },
  {
   "cell_type": "code",
   "execution_count": 23,
   "metadata": {},
   "outputs": [
    {
     "name": "stdout",
     "output_type": "stream",
     "text": [
      "V:  [(3, 's', 2), (3, 'p', 6), (3, 'd', 3), (4, 's', 2)]\n",
      "Ga:  [(3, 's', 2), (3, 'p', 6), (3, 'd', 10), (4, 's', 2), (4, 'p', 1)]\n"
     ]
    }
   ],
   "source": [
    "from pymatgen import Element\n",
    "V = Element(\"V\")\n",
    "Ga= Element(\"Ga\")\n",
    "print(\"V: \", V.full_electronic_structure[3:])\n",
    "print(\"Ga: \", Ga.full_electronic_structure[3:])"
   ]
  },
  {
   "cell_type": "markdown",
   "metadata": {},
   "source": [
    "### Recommended PAW potentials for DFT calculations using vasp.5.2"
   ]
  },
  {
   "cell_type": "markdown",
   "metadata": {},
   "source": [
    "如果化合物中存在具有短键的二聚体(O$ _2$, CO, N$ _2$, F$ _2$, P$ _2$, S$ _2$, Cl$ _2$), 建议使用`_h`赝势(C_h, O_h, N_h, F_h, P_h, S_h, Cl_h);\n",
    "\n",
    "对应H的赝势而言, 可以包含不同的价电子数(valance); [其他元素的能量和价电子数](http://cmp.xmu.edu.cn/vasp/Recommended_PAW_potentials_DFT_calculations_using_vasp_5_2.html)\n",
    "\n",
    "| Element | ENMAX (eV) | valency|\n",
    "|:--|:--|:--|\n",
    "| H .25| 250| 0.2500|\n",
    "| H .33| 250| 0.3300|\n",
    "| H .42| 250| 0.4200|\n",
    "| H .50| 250| 0.5000|\n",
    "| H .58| 250| 0.5800|\n",
    "| H .66| 250| 0.6600|\n",
    "| H .75| 250| 0.7500|\n",
    "| H 1.25| 250| 1.2500|\n",
    "| H 1.33| 250| 1.3300|\n",
    "| H 1.50| 250| 1.5000|\n",
    "| H 1.66| 250| 1.6600|\n",
    "| H 1.75| 250| 1.7500|"
   ]
  },
  {
   "cell_type": "markdown",
   "metadata": {},
   "source": [
    "### Recommended GW PAW potentials for vasp.5.2"
   ]
  },
  {
   "cell_type": "markdown",
   "metadata": {},
   "source": [
    "一般情况下, GW赝势比DFT标准赝势的性能好, 尤其是在处理激发态性能上更准确;\n",
    "\n",
    "如果化合物中存在具有短键的二聚体(O $ _2 $, CO, N $ _2 $, F $ _2 $, P $ _2 $, S $ _2 $, Cl $ _2 $), 我们建议使用_h电位: C_GW_h, O_GW_h, N_GW_h, F_GW_h;     \n",
    "[GW赝势一览表](http://cmp.xmu.edu.cn/vasp/Recommended_GW_PAW_potentials_vasp_5_2.html)"
   ]
  },
  {
   "cell_type": "markdown",
   "metadata": {},
   "source": [
    "### 1st row elements"
   ]
  },
  {
   "cell_type": "markdown",
   "metadata": {},
   "source": [
    "|||||||||||||\n",
    "|:--|:---|:---|:---|:---|:---|:---|:---|:---|:---|:--|:---|\n",
    "|B_h| 700| C_h| 700| N_h| 700| O_h| 700| F_h| 700|  | |\n",
    "|**B**  | 318| C  | 400| N  | 400| O  | 400| F  | 400| Ne| 343|\n",
    "|B_s| 250| C_s| 273| N_s| 250| O_s| 250| F_s| 250|  | |"
   ]
  },
  {
   "cell_type": "markdown",
   "metadata": {},
   "source": [
    "对于第一行元素来说:    \n",
    "大多数情况下, 使用标准赝势;   \n",
    "对于HF或者杂化类型的计算, 可以使用`标准赝势`, `标准_GW`, 和`标准_硬`, 不能使用`标准_软`赝势;"
   ]
  },
  {
   "cell_type": "markdown",
   "metadata": {},
   "source": [
    "### Alkali and alkali-earth elements (simple metals)"
   ]
  },
  {
   "cell_type": "markdown",
   "metadata": {},
   "source": [
    "|||||\n",
    "|:|:|:|:|\n",
    "| H    | 250|      |   |\n",
    "| H_h  | 700|      |   |\n",
    "| Li   | 140| Be   | 300 |\n",
    "| Li_sv| 500| Be_sv| 308 |\n",
    "| Na   | 100| Mg   | 210 |\n",
    "| Na_pv| 260| Mg_pv| 400 |\n",
    "| Na_sv| 700|      |   |\n",
    "| K_pv | 120| Ca_pv| 120 |\n",
    "| K_sv | 260| Ca_sv| 270 |\n",
    "| Rb_pv| 120|      |   |\n",
    "| Rb_sv| 220| Sr_sv| 230 |\n",
    "| Cs_sv| 220| Ba_sv| 190 |\n"
   ]
  },
  {
   "cell_type": "markdown",
   "metadata": {},
   "source": [
    "对于碱金属和碱土金属元素来说:  \n",
    "使用`_sv`赝势可以提高他们的电子转移性(transferability);  \n",
    "\n",
    "这些元素通常难以赝势化(pseudize):    \n",
    "与强电负性元素结合时会造成比通常大的误差;  \n",
    "目前版本非常精确, 可以提供非常可靠的描述;  "
   ]
  },
  {
   "cell_type": "markdown",
   "metadata": {},
   "source": [
    "### $ d$-elements"
   ]
  },
  {
   "cell_type": "markdown",
   "metadata": {},
   "source": [
    "X_pv??X:   \n",
    "* 早期过渡金属需要使用X_pv, 但是后期过渡金属尤其是贵金属可以冻结$p$态;    \n",
    "* $3d$元素: Ti,V,Cr使用标准赝势;    \n",
    "* $4d$元素: 最容易出现问题, Tc_pv之前的元素都用`_pv`;\n",
    "* $5d$元素: 从Hf开始可以使用标准赝势;"
   ]
  },
  {
   "cell_type": "markdown",
   "metadata": {},
   "source": [
    "对于HF和杂化类型的计算, 无论何时都要使用`_pv`(或`_sv`)的的赝势"
   ]
  },
  {
   "cell_type": "markdown",
   "metadata": {},
   "source": [
    "### $ p$-elements, including first row"
   ]
  },
  {
   "cell_type": "markdown",
   "metadata": {},
   "source": [
    "使用标准赝势"
   ]
  },
  {
   "cell_type": "code",
   "execution_count": null,
   "metadata": {},
   "outputs": [],
   "source": []
  },
  {
   "cell_type": "markdown",
   "metadata": {},
   "source": [
    "### $ f$-elements"
   ]
  },
  {
   "cell_type": "markdown",
   "metadata": {},
   "source": [
    "Due to self-interaction errors, $ f$-electrons are not handled well by presently available density functionals"
   ]
  },
  {
   "cell_type": "code",
   "execution_count": null,
   "metadata": {},
   "outputs": [],
   "source": []
  },
  {
   "cell_type": "code",
   "execution_count": null,
   "metadata": {},
   "outputs": [],
   "source": []
  },
  {
   "cell_type": "code",
   "execution_count": null,
   "metadata": {},
   "outputs": [],
   "source": []
  },
  {
   "cell_type": "code",
   "execution_count": null,
   "metadata": {},
   "outputs": [],
   "source": []
  },
  {
   "cell_type": "code",
   "execution_count": null,
   "metadata": {},
   "outputs": [],
   "source": []
  },
  {
   "cell_type": "code",
   "execution_count": null,
   "metadata": {},
   "outputs": [],
   "source": []
  },
  {
   "cell_type": "code",
   "execution_count": null,
   "metadata": {},
   "outputs": [],
   "source": []
  }
 ],
 "metadata": {
  "kernelspec": {
   "display_name": "Python 3",
   "language": "python",
   "name": "python3"
  },
  "language_info": {
   "codemirror_mode": {
    "name": "ipython",
    "version": 3
   },
   "file_extension": ".py",
   "mimetype": "text/x-python",
   "name": "python",
   "nbconvert_exporter": "python",
   "pygments_lexer": "ipython3",
   "version": "3.6.5"
  },
  "toc": {
   "base_numbering": 1,
   "nav_menu": {},
   "number_sections": true,
   "sideBar": true,
   "skip_h1_title": false,
   "title_cell": "Table of Contents",
   "title_sidebar": "Contents",
   "toc_cell": false,
   "toc_position": {},
   "toc_section_display": true,
   "toc_window_display": false
  },
  "varInspector": {
   "cols": {
    "lenName": 16,
    "lenType": 16,
    "lenVar": 40
   },
   "kernels_config": {
    "python": {
     "delete_cmd_postfix": "",
     "delete_cmd_prefix": "del ",
     "library": "var_list.py",
     "varRefreshCmd": "print(var_dic_list())"
    },
    "r": {
     "delete_cmd_postfix": ") ",
     "delete_cmd_prefix": "rm(",
     "library": "var_list.r",
     "varRefreshCmd": "cat(var_dic_list()) "
    }
   },
   "types_to_exclude": [
    "module",
    "function",
    "builtin_function_or_method",
    "instance",
    "_Feature"
   ],
   "window_display": false
  }
 },
 "nbformat": 4,
 "nbformat_minor": 2
}
