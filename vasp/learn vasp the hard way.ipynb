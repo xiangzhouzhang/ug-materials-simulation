{
 "cells": [
  {
   "cell_type": "code",
   "execution_count": 5,
   "metadata": {},
   "outputs": [
    {
     "name": "stdout",
     "output_type": "stream",
     "text": [
      "^^^^^^^^^^^^^^^^^^^^^^^^^^^^^^^^^^^^^^^^^^^^!kk0:start>^^^^^^^^^^^^^^^^^^^^^^^^^^^^^^^^^^^^^^^^^^^^^\n"
     ]
    }
   ],
   "source": [
    "kk 0"
   ]
  },
  {
   "cell_type": "markdown",
   "metadata": {},
   "source": [
    "# ex1 VASP 基本输入文件的准备"
   ]
  },
  {
   "cell_type": "markdown",
   "metadata": {},
   "source": [
    "Windows 下面编辑的文件如果想在 linux 服务器上运行, 由于格式问题, 最好先执行: `dos2linux` 这个命令;"
   ]
  },
  {
   "cell_type": "markdown",
   "metadata": {},
   "source": [
    "**INCAR:**   \n",
    "* SYSTEM = O atom # 氧 符号，不是零！  \n",
    "* ISMAER = 0 # 是零，不是氧符号！  \n",
    "* SIGMA = 0.0"
   ]
  },
  {
   "cell_type": "markdown",
   "metadata": {},
   "source": [
    "**ISMEAER**,  \n",
    "不同的值对应的是不同的展宽方法:  \n",
    "* 对于半导体和绝缘体体系,  ISMEAR 的值取绝对不能大于 0, 一般用 0, 更加精确的时候用 -5, 如果体系非常大, 只有 1 个或者 2 个 K 点的时候, 则用 ISMEAR = 0;\n",
    "* 对于金属来说,  ISMEAR 的取值一般为 1;  \n",
    "* 一般来说,  ISMEAR = 0 （Gaussian Smearing） 可以满足大部分的 体系（金属, 导体, 半导体, 分子）;   \n",
    "* 在 DOS 能带计算中,  使用 ISMEAR = -5 用于获取精确的信息;  "
   ]
  },
  {
   "cell_type": "markdown",
   "metadata": {},
   "source": [
    "**SIGMA**:\n",
    "* 如果用了 ISMEAR = -5 ， 可以忽略；\n",
    "* 对于金属： ISMEAR = 1 或者 0，非金属： ISMEAR = 0 的时候，一般 取 0.10 或者采用默认值 0.20 即可。\n",
    "* 不过很多人都不放心，为了保险想测试一番。 标准是： SIGMA 的取值要保证 OUTCAR 中的 entropy T\\*S 这一项，平均到每个原子上，要 小于 1-2 meV。检查的时候可以用这个命令： grep 'entropy T' OUTCAR得出的能量除以体系中原子的数目再和 0.001 eV 比较，如果小于，SIGMA 取值 OK，如果大于，再换个测试。\n",
    "* 对于分子，原子体系，必须要用很小的值，这里我们用的 0.01。 "
   ]
  },
  {
   "cell_type": "markdown",
   "metadata": {},
   "source": [
    "算原子或者分子时， ISMEAR 选择 0，SIGMA 要足够小。"
   ]
  },
  {
   "cell_type": "markdown",
   "metadata": {},
   "source": [
    "**KPOINTS**:  \n",
    "K-POINTS # 第一行随便写都行  \n",
    "0 # 零，格子自动生成  \n",
    "Gamma # gamma 点 centered  \n",
    "1 1 1 # 1*1*1 格子  \n",
    "0 0 0 # S1 S2 S3, 一般保持 0 0 0 不变。"
   ]
  },
  {
   "cell_type": "markdown",
   "metadata": {},
   "source": [
    "* 另外一种是原始的 Monkhorst-Pack 网格，两者的区别是 M 或者 m 在 G 的基础上在三个方向上平移了 1/(2N)个单位。其中 G，也叫 gamma centered Monkhorst-Pack Grid. 具体见扩展阅读 KPOINTS；\n",
    "* 对于原子或者分子的计算， K 点取一个 gamma 点就够了，也就是这个 KPOINTS 文件可以用于绝大多数的原子或者分子计算，不用再修改；\n",
    "* K 点在 VASP 计算中非常重要，大师兄给的一个建议是，永远用 gama centered，也就是第三行保持 G 不变。因为 M 平移之后，网格的对称性和晶胞的对称性会出现不匹配的情况，从而导致计算出错，尤其是对于六角晶系 hexagonal 的结构，必须用 gama centered！"
   ]
  },
  {
   "cell_type": "markdown",
   "metadata": {},
   "source": [
    "**POSCAR:    **\n",
    "\n",
    "O atom in a box #1   \n",
    "1.0 ! universal scaling parameters #2  \n",
    "8.0 0.0 0.0 ! lattice vector a(1) #3   \n",
    "0.0 8.0 0.0 ! lattice vector a(2) #4   \n",
    "0.0 0.0 8.0 ! lattice vector a(3) #5   \n",
    "O ! O element #6 not zero   \n",
    "1 ! number of atoms #7   \n",
    "cart ! positions in cartesian coordinates #8   \n",
    "0 0 0 #9"
   ]
  },
  {
   "cell_type": "markdown",
   "metadata": {},
   "source": [
    "* 把氧原子放到一个长宽高均为 8.0 \\AA （埃）的格子里，如果你要算其他原子或者分子，均采用这种模型， 格子长宽高可以随便更改。\n",
    "* 第六行是 氧的元素符号，这里需要注意的是， vasp4.xx 版本里面没有这一行，最新的版本里面有;  在 POSCAR 里面该行没有的话也不会影响计算， VASP 会读取POTCAR 中的元素信息，但输出文件 CONTCAR 中会把该行自动添上；\n",
    "* C 或者c 代表笛卡尔坐标， D 或者 d 代表分数坐标系，两者的转换见参考阅读POSCAR2， 值得注意的是， VASP 输出文件 CONTCAR 里面采用的是分数坐标系\n",
    "* 如果想实现两个坐标系之间转换，我们只需改变第 7 行后面的部分即可；\n",
    "* 查看 POTCAR 中的元素： `grep TIT POTCAR`; 查看 POTCAR 的 Cut-off 能量： `grep ENMAX POTCAR`"
   ]
  },
  {
   "cell_type": "code",
   "execution_count": 6,
   "metadata": {},
   "outputs": [
    {
     "name": "stdout",
     "output_type": "stream",
     "text": [
      "8: 1s2 2s2 2p4\n"
     ]
    }
   ],
   "source": [
    "electronic_structure('O')"
   ]
  },
  {
   "cell_type": "markdown",
   "metadata": {},
   "source": []
  },
  {
   "cell_type": "markdown",
   "metadata": {},
   "source": [
    "# ex2 做计算常用的批量处理方法"
   ]
  },
  {
   "cell_type": "markdown",
   "metadata": {},
   "source": [
    "批量生成多个包含相同文件的目录:  \n",
    "* `for i in {2..9}; do cp -r 0.01 0.0$i; done`  \n",
    "* `for i in {1..6}; do cp -r ../sigma/0.01 $i$i$i; done*` "
   ]
  },
  {
   "cell_type": "markdown",
   "metadata": {},
   "source": [
    "# Ex3 做计算常用的批量处理方法 2"
   ]
  },
  {
   "cell_type": "markdown",
   "metadata": {},
   "source": [
    "批量替换多个目录内的某个文件中的字符串(将每个文件夹中 INCAR 的 SIGMA 值替换成文件夹的值):  \n",
    "`for i in * ; do sed -i \"3s/0.01/$i/g\" $i/INCAR; done`;  \n",
    "* -i 表示直接对源文件进行编辑;\n",
    "* 3s 表示的是选择第三行，因为我们知道 0.01 在第三行中出现， s 是 select 的缩写；\n",
    "* g 代表 global ，意思是全部替换。\n",
    "*  \\$i/INCAR: 要替换的文件\n",
    "* 单引号和双引号的区别: 单引号中的所有内容都会被当做字符来处理('\\$i'是个出字符), 而使用双引号，则可以读取变量 \\$i 的值;"
   ]
  },
  {
   "cell_type": "markdown",
   "metadata": {},
   "source": [
    "# Ex4 做计算常用的批量处理方法 3"
   ]
  },
  {
   "cell_type": "markdown",
   "metadata": {},
   "source": [
    "sed 多行替换"
   ]
  },
  {
   "cell_type": "markdown",
   "metadata": {},
   "source": [
    "# Ex5 VASP 运行以及 OSZICAR 详解"
   ]
  },
  {
   "cell_type": "markdown",
   "metadata": {},
   "source": [
    "这些参数描述的应该是每一个电子步的具体计算过程: 每个电子步的具体计算过程?\n",
    "\n",
    "* N(iteration  count): 代表电子步的迭代步数\n",
    "* E: 代表当前电子步的体系能量\n",
    "* dE: 该步和上一步体系能量的差值\n",
    "* d eps: the change in the bandstructure energy；本征值的变化\n",
    "* ncg: the number of evaluations of the Hamiltonian acting onto a wavefunction, 波函数的优化次数: 哈密顿算符作用在一个波函数上的的次数?;\n",
    "* rms: the norm of the residuum of the trialwavefunctions (their approximate error)\n",
    "* rms(c): the difference between input andoutput charge density."
   ]
  },
  {
   "cell_type": "markdown",
   "metadata": {},
   "source": [
    "电子自洽算法:  \n",
    "* DAV: blockedDavidson iteration scheme;\n",
    "* RMM: residual minimization scheme;\n",
    "* CG: conjugate-gradient algorithm;"
   ]
  },
  {
   "cell_type": "markdown",
   "metadata": {},
   "source": [
    "tail OSZICAR: **1 F= -.21470938E-01 E0= -.13757822E-01  d E =-.154262E-01**\n",
    "\n",
    "* num (F): 离子步的步数;  \n",
    "* F: 体系的总能量, OUTCAR中的`free energy    TOTEN`;\n",
    "* E0: OUTCAR中`energy(sigma->0)`的能量;\n",
    "* 计算完成后我们需要获得的体系能量: 查询 OSZICAR 中 E0; 或者 OUTCAR 中 energy(sigma->0);"
   ]
  },
  {
   "cell_type": "markdown",
   "metadata": {},
   "source": [
    "OUTCAR:  \n",
    "* 体系总能: `grep 'free energy    TOTEN' OUTCAR | tail -n 1`\n",
    "* sigma趋于0时的能量: `grep 'energy(sigma->0)' OUTCAR | tail -n 1`\n",
    "* 不考虑熵变(`T*S`)时的能量: `grep 'energy  without entropy' OUTCAR`\n",
    "* 熵变: `grep 'entropy T\\*S' OUTCAR | tail -n 1`"
   ]
  },
  {
   "cell_type": "markdown",
   "metadata": {},
   "source": [
    "验证 `energy  without entropy = free energy TOTEN - entropy T*S`:"
   ]
  },
  {
   "cell_type": "code",
   "execution_count": 13,
   "metadata": {},
   "outputs": [
    {
     "data": {
      "text/plain": [
       "True"
      ]
     },
     "execution_count": 13,
     "metadata": {},
     "output_type": "execute_result"
    }
   ],
   "source": [
    "energy_without_entropy = -0.00604471\n",
    "free_energy_TOTEN = -0.02147094\n",
    "entropy_TS = -0.01542623\n",
    "free_energy_TOTEN - entropy_TS == energy_without_entropy"
   ]
  },
  {
   "cell_type": "code",
   "execution_count": 17,
   "metadata": {},
   "outputs": [
    {
     "name": "stdout",
     "output_type": "stream",
     "text": [
      ">>>>>>>>>>>>>>>>>>>>>>>>>>>>>>>>>>>>>>>>>>>>!kk1:active>>>>>>>>>>>>>>>>>>>>>>>>>>>>>>>>>>>>>>>>>>>>>\n"
     ]
    }
   ],
   "source": [
    "kk 1"
   ]
  },
  {
   "cell_type": "markdown",
   "metadata": {},
   "source": [
    "# Ex6 OUTCAR 的基本内容"
   ]
  },
  {
   "cell_type": "markdown",
   "metadata": {},
   "source": [
    "OUTCAR的基本结构以及输出内容:  \n",
    "1. VASP 会列出来其版本，时间，以及服务器的相关情况;  \n",
    "1. `POTCAR` 的部分信息;\n",
    "    * **ZVAL** 是该 POTCAR 中对应元素的价电子，这里氧原子含有 6 个外层价电子。\n",
    "1. `POSCAR` 的一些基本信息： 坐标格式，原子位置，以及晶胞的形状大小。\n",
    "1. `KPOINTS:` K 点信息：K 点个数..\n",
    "1. 计算中参数详情: `Dimension of arrays`\n",
    "1. 本计算的文字描述，任务类型：`Static calculation`\n",
    "1. 体系大小, `direct lattice vectors`, `reciprocal lattice vectors` ...\n",
    "1. 计算量的大小: `plane waves:`平面波的个数..\n",
    "1. 内存占用信息`total amount of memory used by VASP on root node`\n",
    "1. 电子步迭代的详细过程, `Iteration    1(   1)` 会在OSZCAR中同步输出;\n",
    "    * 迭代结束，输出主要的结果费米能级以及能带信息\n",
    "    * band 1: 2 个 2s\n",
    "    * band 234: 4个2P电子(3*1.333)\n",
    "    * 费米能级对应的是最高电子占据轨道的能量\n",
    "1. `VOLUME and BASIS-vectors are now :`体系优化之后的坐标，各个方向力的大小，以及总的能量，不包含 Entropy 的能量，以及sigma 趋于 0 时的能量。\n",
    "1. 计算的内存和时间等信息: `General timing and accounting informations for this job:`"
   ]
  },
  {
   "cell_type": "markdown",
   "metadata": {},
   "source": [
    "# Ex7 前 6 节总结"
   ]
  },
  {
   "cell_type": "markdown",
   "metadata": {},
   "source": [
    "# Ex8 氧原子能量的正确计算"
   ]
  },
  {
   "cell_type": "markdown",
   "metadata": {},
   "source": [
    "![计算O原子的能量需要打开自旋极化](data/O.png)\n"
   ]
  },
  {
   "cell_type": "markdown",
   "metadata": {},
   "source": [
    "默认情况不加自旋极化: `ISPIN = 1`\n",
    "* 不计算磁矩, 所以OSZCAR中不输出`mag=`;\n",
    "* band 2-4 为三个简并态, 每个能带上有 1.33 个电子，对应的 2p4;\n",
    "* 此处的电子占据是不正确, 因为 2px轨道上含有两个电子，而不是把 2px上的一个电子平均分配到\n",
    "3 个 p 轨道上；\n",
    "* 此时并不会输出体系的磁矩"
   ]
  },
  {
   "cell_type": "markdown",
   "metadata": {},
   "source": [
    "![不考虑磁性](data/O-band.png)"
   ]
  },
  {
   "cell_type": "markdown",
   "metadata": {},
   "source": [
    "怎样解决原子计算中的磁矩问题"
   ]
  },
  {
   "cell_type": "markdown",
   "metadata": {},
   "source": [
    "## ISPIN"
   ]
  },
  {
   "cell_type": "markdown",
   "metadata": {},
   "source": [
    "因为氧原子具有磁性(电子结构中有不成对的电子), 所以要考虑自旋极化, 所以要设置ISPIN = 2 (默认为1, 不考虑自旋极化);    \n",
    "自旋极化什么时候该加，什么时候用默认值呢？\n",
    "* 要计算的体系具有磁性时，必须要打开自旋极化;\n",
    "* 单原子的计算， O2分子（基态为三重态），以及含 Fe， Co， Ni 的体系需要考虑自旋极化。"
   ]
  },
  {
   "cell_type": "markdown",
   "metadata": {},
   "source": [
    "设置自旋极化之后, OSZICAR的最后行多了一个mag字段, 对应体系的磁矩大小;  \n",
    "考虑自旋极化后，电子迭代步数增加, 体系的能量降低了。  \n"
   ]
  },
  {
   "cell_type": "markdown",
   "metadata": {},
   "source": [
    "体系的电子占据情况: `band No.`的信息会按自旋成分进行描述: \n",
    "* spin component 1, 自旋向上的$\\alpha$电子;\n",
    "* spin component 2, 自旋先下的$\\beta$电子;"
   ]
  },
  {
   "cell_type": "markdown",
   "metadata": {},
   "source": [
    "![O-spin](data/O-band-spin.png)"
   ]
  },
  {
   "cell_type": "markdown",
   "metadata": {},
   "source": [
    "此时电子占据依然不合理:  \n",
    "spin component 1 中含有 4 个电子，另一个中含有 2 个电子：  \n",
    "* Spincomponent 1 中，能带 2-4 中 3 个 alpha 电子的能量是一样 的，这不正确，因为其中一个 2px 轨道中的 alpha 电子已经成对，能量要比 py 和 pz 低；描述失败\n",
    "* spincomponent 2 中，另一个 beta 电子还是平均分配在了三个能带上面"
   ]
  },
  {
   "cell_type": "markdown",
   "metadata": {},
   "source": [
    "上面的结果是由于体系的高对称性=>能量简并所造成的。 8x 8 x 8 的立方体格子，在这里具有高阶的点群对称性： O_h，\n",
    "`grep 'the point symmetry' OUTCAR `;  \n"
   ]
  },
  {
   "cell_type": "markdown",
   "metadata": {},
   "source": [
    "在 GGA 泛函中，为了获得体系更低的能量，对于原子来说，通常会采用一种 symmetry broken solution 的处理方法。需要自己手动破除;  \n",
    "* 微调晶格参数;\n",
    "* 默认为ISYM=2, off为0;"
   ]
  },
  {
   "cell_type": "code",
   "execution_count": 21,
   "metadata": {},
   "outputs": [
    {
     "name": "stdout",
     "output_type": "stream",
     "text": [
      ">>>>>>>>>>>>>>>>>>>>>>>>>>>>>>>>>>>>>>>>>>>>!kk1:active>>>>>>>>>>>>>>>>>>>>>>>>>>>>>>>>>>>>>>>>>>>>>\n"
     ]
    }
   ],
   "source": [
    "kk 1"
   ]
  },
  {
   "cell_type": "markdown",
   "metadata": {},
   "source": []
  },
  {
   "cell_type": "markdown",
   "metadata": {},
   "source": [
    "# 常用命令"
   ]
  },
  {
   "cell_type": "markdown",
   "metadata": {},
   "source": [
    "赝势文件的创建和查看:\n",
    "* 创建赝势文件的命令: `cat ~/vasp/ikppv/POTCAR/O/POTCAR >POTCAR`\n",
    "* 查看赝势文件中的元素: `grep TIT POTCAR`\n",
    "* 查看赝势文件的截断能: `grep ENMAX POTCAR`\n",
    "* 泛函: `grep PBE POTCAR`"
   ]
  },
  {
   "cell_type": "markdown",
   "metadata": {},
   "source": [
    "批量生成10个包含相同文件的目录:  \n",
    "* sigma(0.01-0.09): `for i in {2..9}; do cp -r 0.01 0.0$i; done`\n",
    "* kpoints(111,666): `for i in {1..6}; do cp ../sigma/0.01 $i$i$i; done`\n",
    "* poscar(888,161616): `for i in $(seq 8 2 16); do cp -r ../sigma/0.01/ $i$i$i; done`\n",
    "\n",
    "使用不同的字符串批量替换所有文件中的字符串):  \n",
    "* `for i in * ; do sed -i \"3s/0.01/$i/g\" $i/INCAR; done`;  \n",
    "* `for i in {1..6}; do sed -i \"4s/1 1 1/$i $i $i/g\" $i$i$i/KPOINTS; done`\n",
    "* ` for i in $(seq 8 2 16); do sed -i \"3,5s/8.0/$i/g\" $i$i$i/POSCAR; done`"
   ]
  },
  {
   "cell_type": "markdown",
   "metadata": {},
   "source": [
    "使用cat时输出行号: `cat 0.04/INCAR -n`;   \n",
    "查看自己的任务状态: `qstat`;  \n",
    "查看资源的使用情况(不同集群输出的不一样): `qstat -f`"
   ]
  },
  {
   "cell_type": "markdown",
   "metadata": {},
   "source": [
    "来查看当前目录下的文件夹级别信息: tree"
   ]
  },
  {
   "cell_type": "markdown",
   "metadata": {},
   "source": [
    "检查任务是否算完有很多种方式: \n",
    "* `tail OUTCAR` \n",
    "* `tail results.o..`\n",
    "* `watch tail OSZICAR`"
   ]
  },
  {
   "cell_type": "markdown",
   "metadata": {},
   "source": []
  },
  {
   "cell_type": "markdown",
   "metadata": {},
   "source": []
  },
  {
   "cell_type": "markdown",
   "metadata": {},
   "source": []
  },
  {
   "cell_type": "markdown",
   "metadata": {},
   "source": []
  },
  {
   "cell_type": "markdown",
   "metadata": {},
   "source": []
  },
  {
   "cell_type": "markdown",
   "metadata": {},
   "source": []
  },
  {
   "cell_type": "markdown",
   "metadata": {},
   "source": []
  },
  {
   "cell_type": "markdown",
   "metadata": {},
   "source": []
  },
  {
   "cell_type": "markdown",
   "metadata": {},
   "source": []
  },
  {
   "cell_type": "markdown",
   "metadata": {},
   "source": []
  },
  {
   "cell_type": "markdown",
   "metadata": {},
   "source": []
  },
  {
   "cell_type": "markdown",
   "metadata": {},
   "source": []
  },
  {
   "cell_type": "markdown",
   "metadata": {},
   "source": []
  },
  {
   "cell_type": "markdown",
   "metadata": {},
   "source": []
  },
  {
   "cell_type": "markdown",
   "metadata": {},
   "source": []
  },
  {
   "cell_type": "markdown",
   "metadata": {},
   "source": []
  },
  {
   "cell_type": "markdown",
   "metadata": {},
   "source": []
  },
  {
   "cell_type": "markdown",
   "metadata": {},
   "source": []
  },
  {
   "cell_type": "markdown",
   "metadata": {},
   "source": []
  },
  {
   "cell_type": "markdown",
   "metadata": {},
   "source": []
  },
  {
   "cell_type": "markdown",
   "metadata": {},
   "source": []
  },
  {
   "cell_type": "markdown",
   "metadata": {},
   "source": []
  },
  {
   "cell_type": "markdown",
   "metadata": {},
   "source": []
  },
  {
   "cell_type": "markdown",
   "metadata": {},
   "source": []
  },
  {
   "cell_type": "markdown",
   "metadata": {},
   "source": []
  },
  {
   "cell_type": "markdown",
   "metadata": {},
   "source": []
  },
  {
   "cell_type": "markdown",
   "metadata": {},
   "source": []
  },
  {
   "cell_type": "markdown",
   "metadata": {},
   "source": []
  },
  {
   "cell_type": "code",
   "execution_count": 1,
   "metadata": {},
   "outputs": [
    {
     "name": "stdout",
     "output_type": "stream",
     "text": [
      "$$$$$$$$$$$$$$$$$$$$$$$$$$$$$$$$$$$$$$$$$$$$$!kk2:end>$$$$$$$$$$$$$$$$$$$$$$$$$$$$$$$$$$$$$$$$$$$$$$\n"
     ]
    }
   ],
   "source": [
    "kk 2"
   ]
  }
 ],
 "metadata": {
  "kernelspec": {
   "display_name": "Python 3",
   "language": "python",
   "name": "python3"
  },
  "language_info": {
   "codemirror_mode": {
    "name": "ipython",
    "version": 3
   },
   "file_extension": ".py",
   "mimetype": "text/x-python",
   "name": "python",
   "nbconvert_exporter": "python",
   "pygments_lexer": "ipython3",
   "version": "3.6.5"
  },
  "toc": {
   "base_numbering": 1,
   "nav_menu": {},
   "number_sections": true,
   "sideBar": true,
   "skip_h1_title": false,
   "title_cell": "Table of Contents",
   "title_sidebar": "Contents",
   "toc_cell": false,
   "toc_position": {},
   "toc_section_display": true,
   "toc_window_display": false
  },
  "varInspector": {
   "cols": {
    "lenName": 16,
    "lenType": 16,
    "lenVar": 40
   },
   "kernels_config": {
    "python": {
     "delete_cmd_postfix": "",
     "delete_cmd_prefix": "del ",
     "library": "var_list.py",
     "varRefreshCmd": "print(var_dic_list())"
    },
    "r": {
     "delete_cmd_postfix": ") ",
     "delete_cmd_prefix": "rm(",
     "library": "var_list.r",
     "varRefreshCmd": "cat(var_dic_list()) "
    }
   },
   "types_to_exclude": [
    "module",
    "function",
    "builtin_function_or_method",
    "instance",
    "_Feature"
   ],
   "window_display": false
  }
 },
 "nbformat": 4,
 "nbformat_minor": 2
}
