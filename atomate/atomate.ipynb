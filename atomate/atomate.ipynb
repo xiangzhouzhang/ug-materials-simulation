{
 "cells": [
  {
   "cell_type": "code",
   "execution_count": 1,
   "metadata": {},
   "outputs": [
    {
     "name": "stdout",
     "output_type": "stream",
     "text": [
      "^^^^^^^^^^^^^^^^^^^^^^^^^^^^^^^^^^^^^^^^^^^^!kk0:start>^^^^^^^^^^^^^^^^^^^^^^^^^^^^^^^^^^^^^^^^^^^^^\n"
     ]
    }
   ],
   "source": [
    "kk 0"
   ]
  },
  {
   "cell_type": "markdown",
   "metadata": {},
   "source": [
    "**atomate 0.8.4 documentation**: https://atomate.org/;    "
   ]
  },
  {
   "cell_type": "markdown",
   "metadata": {},
   "source": [
    "# atomate初识"
   ]
  },
  {
   "cell_type": "markdown",
   "metadata": {},
   "source": [
    "**atomate的特点**:   \n",
    "1. 基层库都是开源的: pymatgen, custodian,  FireWorks;  \n",
    "* 提供物性计算的标准工作流: optimized structures, band structures, electronic transport properties, dielectric constants;    \n",
    "* 改变标准工作流: 改变计算参数, 重新构建工作流(删除计算,添加新的计算);    \n",
    "* **powerups**体系: 通过配置文件, 快速布置(decorate)裸工作流(bare workflow,基础工作流框架);    \n",
    "* 构建输出数据库(MongoDB): 查询, 分析和共享;    \n",
    "* 保存任务细节(meticulous records of jobs): 工作目录, 运行时的参数(runtime parameters);    \n",
    "* 适用于不同的计算机体系: 队列体系(queue systems), 架构体系(architectures, x86);\n",
    "* 可与vasp软件配套使用同时支持其他的计算软件;"
   ]
  },
  {
   "cell_type": "markdown",
   "metadata": {},
   "source": [
    "**已实现的工作流**:   \n",
    "* electronic band structures; \n",
    "* BoltzTraP;\n",
    "* full elastic tensor;\n",
    "* equation of state; \n",
    "* piezoelectric tensor;\n",
    "* dielectric tensor;\n",
    "* ferroelectricity;\n",
    "* nudged elastic band;    \n",
    "* Raman spectroscopy;    \n",
    "* XAS and EELS spectra (FEFF package);"
   ]
  },
  {
   "cell_type": "markdown",
   "metadata": {},
   "source": [
    "**工作流剖析(Anatomy)**:    \n",
    ">![image](https://atomate.org/_images/bandstructure_wf.png '图片来源')"
   ]
  },
  {
   "cell_type": "markdown",
   "metadata": {},
   "source": [
    "**环境搭建和执行**:    \n",
    "* atomate的主要功能就是为用户产生Workflow对象;\n",
    "* 然后就可以使用FireWorks包去存储,管理,组织和执行各种不同类型的计算[FireWorks documentation](https://materialsproject.github.io/fireworks/);   "
   ]
  },
  {
   "cell_type": "markdown",
   "metadata": {},
   "source": [
    "**结果分析**:     \n",
    "* MongoDB: 存储结果数据;\n",
    "* Pymatgen: 输出文件的分析, "
   ]
  },
  {
   "cell_type": "markdown",
   "metadata": {},
   "source": [
    "# [安装](https://atomate.org/installation.html)"
   ]
  },
  {
   "cell_type": "markdown",
   "metadata": {},
   "source": [
    "## 基本介绍(Introduction)"
   ]
  },
  {
   "cell_type": "markdown",
   "metadata": {},
   "source": [
    "基础软件:\n",
    "* **pymatgen**: 创建输入文件, 分析输出文件;    \n",
    "* **custodian**: 运行模拟软件(eg:VASP), 执行错误检查(error checking/handling)和断点(checkpointing);    \n",
    "* **FireWorks**: 设计, 管理, 和执行工作流;"
   ]
  },
  {
   "cell_type": "markdown",
   "metadata": {},
   "source": [
    "目标(Objectives):  \n",
    "1. 在集群上安装和配置atomate;  \n",
    "2. 使用计算带结构的测试工作流验证安装;"
   ]
  },
  {
   "cell_type": "markdown",
   "metadata": {},
   "source": [
    "安装清单(checklist):  \n",
    "1. 先决条件(Prerequisites);  \n",
    "2. 为atomate创建目录框架(scaffold);  \n",
    "3. 创建Python虚拟环境;  \n",
    "4. 安装Python包;  \n",
    "5. 配置FireWorks;  \n",
    "6. 配置pymatgen;  \n",
    "7. 测试工作流;  "
   ]
  },
  {
   "cell_type": "markdown",
   "metadata": {},
   "source": [
    "1. 先决条件(Prerequisites):  \n",
    "    1. 有运行基础软件包: VASP, LAMMPs,FEFF;  \n",
    "    2. 可以连接到MongoDB数据库:    \n",
    "        * 存储将要执行的工作流以及它们的状态细节;  \n",
    "        * 解析输出文件, 创建结果数据库;"
   ]
  },
  {
   "cell_type": "markdown",
   "metadata": {},
   "source": [
    "2. 为atomate创建一个目录结构(<<INSTALL_DIR:atomate>>:config, logs):  \n",
    "    * 配置文件(configuration files);  \n",
    "    * 各种二进制文件和库(binaries, libraries);    \n",
    "    * 虚拟环境(virtualenv-env)?  "
   ]
  },
  {
   "cell_type": "markdown",
   "metadata": {},
   "source": [
    "3. -7换成大标题"
   ]
  },
  {
   "cell_type": "markdown",
   "metadata": {},
   "source": [
    "## 创建Python3虚拟环境(pass)"
   ]
  },
  {
   "cell_type": "markdown",
   "metadata": {},
   "source": [
    "使用虚拟环境的好处:    \n",
    "* 隔离具有冲突的包;  \n",
    "* 共存不同版本的Python;  \n",
    "* 拥有对环境的完全控制权;"
   ]
  },
  {
   "cell_type": "markdown",
   "metadata": {},
   "source": [
    "### 如何创建Anaconda虚拟环境:  "
   ]
  },
  {
   "cell_type": "markdown",
   "metadata": {},
   "source": [
    "`conda`: [Managing environments](https://conda.io/docs/user-guide/tasks/manage-environments.html);    \n",
    "[conversion between virtualenv and conda commands](https://conda.io/docs/commands.html#conda-vs-pip-vs-virtualenv-commands);   "
   ]
  },
  {
   "cell_type": "markdown",
   "metadata": {},
   "source": [
    "`virtualenv`的使用(如何修改为`conda create`):\n",
    "1. 在安装目录下创建虚拟环境: \n",
    "    * `virtualenv atomate_env`, `atomate_env`为保存虚拟环境的文件夹;\n",
    "2. 当前的目录结构:    \n",
    "    * config;\n",
    "    * logs;\n",
    "    * atomate_env:   \n",
    "        * bin, include, lib, lib64, \n",
    "        * pip-selfcheck.json ...;\n",
    "3. 如果Python代码出现问题, 可以随意删除atomate_env目录, 然后重新安装;\n",
    "4. 激活当前环境, 而不是使用系统默认的环境:  \n",
    "     * source atomate/atomate_env/bin/activate;\n",
    "     * 此后安装py包需明确指定在哪个虚拟环境中安装;\n",
    "5. 将上述命令添加到`.rc`或`.bash_profile`;"
   ]
  },
  {
   "cell_type": "markdown",
   "metadata": {},
   "source": [
    "## 安装Python包"
   ]
  },
  {
   "cell_type": "markdown",
   "metadata": {},
   "source": [
    "[Development mode installation](https://atomate.org/developer_installation.html#codes-develop-mode) makes it easier to view and modify the source code to your needs, but requires a few more steps to set up and maintain."
   ]
  },
  {
   "cell_type": "markdown",
   "metadata": {},
   "source": [
    "### Install Python codes in development mode"
   ]
  },
  {
   "cell_type": "markdown",
   "metadata": {},
   "source": [
    "如果之前使用pip或conda安装过默认版, 在安装开发版之前应该首先卸载;  \n",
    "1. 激活atomate的虚拟环境;  \n",
    "2. 在用户目录创建`atomate`(默认虚拟环境为站点目录), 然后创建目录`codes`;\n",
    "3. cd codes;\n",
    "4. 下载源代码:   \n",
    "    * `git clone https://github.com/materialsproject/pymatgen.git`;\n",
    "    * `git clone https://github.com/hackingmaterials/atomate.git`;\n",
    "5. cd pymatgen....: \n",
    "    * `pip install -e .`: 一般情况下, 最大的障碍是必须安装或者载入依赖项;"
   ]
  },
  {
   "cell_type": "markdown",
   "metadata": {},
   "source": [
    "### Basic confirmation of installation(Post-installation)"
   ]
  },
  {
   "cell_type": "markdown",
   "metadata": {},
   "source": [
    "在python解释器中执行导入语句`import pymatgen`, 直到不出现issues/error为止;"
   ]
  },
  {
   "cell_type": "markdown",
   "metadata": {},
   "source": [
    "Run unit tests: If you make changes to atomate, it is a good idea to rerun the unit tests to make sure everything is still working."
   ]
  },
  {
   "cell_type": "markdown",
   "metadata": {},
   "source": [
    "## 配置数据库连接和计算的主要参数"
   ]
  },
  {
   "cell_type": "code",
   "execution_count": 6,
   "metadata": {},
   "outputs": [
    {
     "name": "stdout",
     "output_type": "stream",
     "text": [
      "C:\\Users\\tfliu\\Anaconda3\\lib\\site-packages\\atomate"
     ]
    }
   ],
   "source": [
    "import atomate\n",
    "module_location(atomate)"
   ]
  },
  {
   "cell_type": "markdown",
   "metadata": {},
   "source": [
    "<<atomate/config>>目录应包含的文件:"
   ]
  },
  {
   "cell_type": "code",
   "execution_count": 9,
   "metadata": {},
   "outputs": [],
   "source": [
    "%%disabled <<atomate/config>>:  \n",
    "config\n",
    "├── db.json\n",
    "├── FW_config.yaml\n",
    "├── my_fworker.yaml\n",
    "├── my_launchpad.yaml\n",
    "└── my_qadapter.yaml"
   ]
  },
  {
   "cell_type": "markdown",
   "metadata": {},
   "source": [
    "### db.json"
   ]
  },
  {
   "cell_type": "code",
   "execution_count": null,
   "metadata": {},
   "outputs": [],
   "source": [
    "from pymongo import MongoClient\n",
    "client = MongoClient()"
   ]
  },
  {
   "cell_type": "code",
   "execution_count": 13,
   "metadata": {},
   "outputs": [
    {
     "data": {
      "text/plain": [
       "Database(MongoClient(host=['localhost:27017'], document_class=dict, tz_aware=False, connect=True), 'port')"
      ]
     },
     "execution_count": 13,
     "metadata": {},
     "output_type": "execute_result"
    }
   ],
   "source": [
    "client.port"
   ]
  },
  {
   "cell_type": "markdown",
   "metadata": {},
   "source": [
    "**db.json**: 设置MongoDB服务器的开启目录, 该目录将存储计算输出的结果;  "
   ]
  },
  {
   "cell_type": "code",
   "execution_count": 16,
   "metadata": {},
   "outputs": [
    {
     "name": "stdout",
     "output_type": "stream",
     "text": [
      "@files/db.json>>                                  \n",
      "  1: {\n",
      "  2:     \"host\": \"localhost\",\n",
      "  3:     \"port\": 27017,\n",
      "  4:     \"database\": \"ms-atomate\",\n",
      "  5:     \"collection\": \"tasks\",\n",
      "  6:     \"admin_user\": \"<<ADMIN_USERNAME>>\",\n",
      "  7:     \"admin_password\": \"<<ADMIN_PASSWORD>>\",\n",
      "  8:     \"readonly_user\": \"<<READ_ONLY_PASSWORD>>\",\n",
      "  9:     \"readonly_password\": \"<<READ_ONLY_PASSWORD>>\",\n",
      " 10:     \"aliases\": {}\n",
      " 11: }"
     ]
    }
   ],
   "source": [
    "showfile('files/db.json')"
   ]
  },
  {
   "cell_type": "markdown",
   "metadata": {},
   "source": [
    "### my_fworker.yaml"
   ]
  },
  {
   "cell_type": "markdown",
   "metadata": {},
   "source": [
    "在FireWorks中, 运行任务的每个计算资源(机器)都被称为Worker;  \n",
    "每个Worker所需的配置文件就是`my_fworker.yaml`;\n",
    "* name: 帮助记录-什么样的计算在什么地方执行;  \n",
    "* category and query: 控制哪个计算正在当前worker执行, 默认为所有的运算, 有并行执行的含义么?  \n",
    "* env字典: 控制集群所特有的(unique to the cluster)环境和设置,\n",
    "    * 例如VASP可执行文件的路径;\n",
    "    * 一个临时目录`scratch_dir`(scratch directory); \n",
    "    * <<VASP_CMD>> is the command that you would use to run VASP with parallelization (srun -n 16 vasp, ibrun -n 16 vasp, mpirun -n 16 vasp, …).    \n",
    "* 可对多工人多机器的任务进行配置, [ FireWorks documentation for controlling Workers](https://materialsproject.github.io/fireworks/controlworker.html?highlight=category);"
   ]
  },
  {
   "cell_type": "code",
   "execution_count": 18,
   "metadata": {},
   "outputs": [
    {
     "name": "stdout",
     "output_type": "stream",
     "text": [
      "@files/my_fworker.yaml>>                          \n",
      "  1: name: <<WORKER_NAME>>\n",
      "  2: category: ''\n",
      "  3: query: '{}'\n",
      "  4: env:\n",
      "  5:     db_file: <<INSTALL_DIR>>/config/db.json\n",
      "  6:     vasp_cmd: <<VASP_CMD>>\n",
      "  7:     scratch_dir: null"
     ]
    }
   ],
   "source": [
    "showfile('files/my_fworker.yaml')"
   ]
  },
  {
   "cell_type": "markdown",
   "metadata": {},
   "source": [
    "### my_launchpad.yaml"
   ]
  },
  {
   "cell_type": "markdown",
   "metadata": {},
   "source": [
    "与`db.json`用于连接`atomate`与M-DB类似, `my_launchpad.yaml`也用于配置fireworks与数据库的连接, 而fireworks的数据库被包装成了**LaunchPad**;  \n",
    "* 每个Worker都可以在此数据库中查询Fireworks的状态, 并下拉Fireworks将其存储在自己的队列中, 然后运行它们;  \n",
    "* 如下的配置文件会提供相当详细的日志信息(fairly verbose logging)`strm_lvl: INFO`;\n",
    "* 如果你更喜欢使用同一个数据库存储firework和输出文件, 该文件会自动从`db.json`文件复制大部分的值;\n",
    "* Delete these lines(4-5) if you do not have password protection in your DB (although you should)."
   ]
  },
  {
   "cell_type": "code",
   "execution_count": 20,
   "metadata": {},
   "outputs": [
    {
     "name": "stdout",
     "output_type": "stream",
     "text": [
      "@files/my_launchpad.yaml>>                        \n",
      "  1: host: <<HOSTNAME>>\n",
      "  2: port: <<PORT>>\n",
      "  3: name: <<DB_NAME>>\n",
      "  4: username: <<ADMIN_USERNAME>>\n",
      "  5: password: <<ADMIN_PASSWORD>>\n",
      "  6: ssl_ca_file: null\n",
      "  7: logdir: null\n",
      "  8: strm_lvl: INFO\n",
      "  9: user_indices: []\n",
      " 10: wf_user_indices: []"
     ]
    }
   ],
   "source": [
    "br.showfile('files/my_launchpad.yaml')"
   ]
  },
  {
   "cell_type": "code",
   "execution_count": 21,
   "metadata": {},
   "outputs": [
    {
     "name": "stdout",
     "output_type": "stream",
     "text": [
      ">>>>>>>>>>>>>>>>>>>>>>>>>>>>>>>>>>>>>>>>>>>>!kk1:active>>>>>>>>>>>>>>>>>>>>>>>>>>>>>>>>>>>>>>>>>>>>>\n"
     ]
    }
   ],
   "source": [
    "kk 1"
   ]
  },
  {
   "cell_type": "code",
   "execution_count": null,
   "metadata": {},
   "outputs": [],
   "source": []
  },
  {
   "cell_type": "markdown",
   "metadata": {},
   "source": [
    "### my_qadapter.yaml"
   ]
  },
  {
   "cell_type": "code",
   "execution_count": 4,
   "metadata": {},
   "outputs": [
    {
     "name": "stdout",
     "output_type": "stream",
     "text": [
      "@my_qadapter.yaml>>                               \n",
      "  1: _fw_name: CommonAdapter\n",
      "  2: _fw_q_type: SLURM\n",
      "  3: rocket_launch: rlaunch -c <<INSTALL_DIR>>/config rapidfire\n",
      "  4: nodes: 2\n",
      "  5: walltime: 24:00:00\n",
      "  6: queue: null\n",
      "  7: account: null\n",
      "  8: job_name: null\n",
      "  9: pre_rocket: null\n",
      " 10: post_rocket: null\n",
      " 11: logdir: <<INSTALL_DIR>>/logs"
     ]
    }
   ],
   "source": [
    "br.showfile('my_qadapter.yaml')"
   ]
  },
  {
   "cell_type": "markdown",
   "metadata": {},
   "source": [
    "### FW_config.yaml"
   ]
  },
  {
   "cell_type": "code",
   "execution_count": 5,
   "metadata": {},
   "outputs": [
    {
     "name": "stdout",
     "output_type": "stream",
     "text": [
      "@FW_config.yaml>>                                 \n",
      "  1: CONFIG_FILE_DIR: <<INSTALL_DIR>>/config"
     ]
    }
   ],
   "source": [
    "br.showfile('FW_config.yaml')"
   ]
  },
  {
   "cell_type": "markdown",
   "metadata": {},
   "source": [
    "告诉FireWorks在哪里可以找到 FW_config.yaml: `export FW_CONFIG_FILE=<<INSTALL_DIR>>/config/FW_config.yaml`"
   ]
  },
  {
   "cell_type": "markdown",
   "metadata": {},
   "source": [
    "## 配置pymatgen"
   ]
  },
  {
   "cell_type": "markdown",
   "metadata": {},
   "source": [
    "赝"
   ]
  },
  {
   "cell_type": "markdown",
   "metadata": {},
   "source": [
    "pseudopotentials    \n",
    "├── POT_GGA_PAW_PBE    \n",
    "│   ├── POTCAR.Ac.gz    \n",
    "│   ├── POTCAR.Ac_s.gz    \n",
    "│   ├── POTCAR.Ag.gz    \n",
    "│   └── ...    \n",
    "├── POT_GGA_PAW_PW91    \n",
    "│   ├── POTCAR.Ac.gz    \n",
    "│   ├── POTCAR.Ac_s.gz    \n",
    "│   ├── POTCAR.Ag.gz    \n",
    "│   └── ...    \n",
    "└── POT_LDA_PAW    \n",
    "├── POTCAR.Ac.gz    \n",
    "    ├── POTCAR.Ac_s.gz    \n",
    "    ├── POTCAR.Ag.gz    \n",
    "    └── ...    \n",
    "    "
   ]
  },
  {
   "cell_type": "markdown",
   "metadata": {},
   "source": [
    "需要此目录结构，以便底层pymatgen代码正确找到POTCAR。将此目录的位置输入到.pmgrc.yaml主文件夹（即~/.pmgrc.yaml）中调用的文件中，其中包含以下内容: `PMG_VASP_PSP_DIR: <<INSTALL_DIR>>/pps`"
   ]
  },
  {
   "cell_type": "markdown",
   "metadata": {},
   "source": [
    "Materials Project API密钥: PMG_MAPI_KEY: `<<YOUR_API_KEY>>`"
   ]
  },
  {
   "cell_type": "code",
   "execution_count": 6,
   "metadata": {},
   "outputs": [
    {
     "name": "stdout",
     "output_type": "stream",
     "text": [
      "@.pmgrc.yaml>>                                    \n",
      "  1: PMG_VASP_PSP_DIR: <<INSTALL_DIR>>/pps\n",
      "  2: PMG_MAPI_KEY: <<YOUR_API_KEY>>"
     ]
    }
   ],
   "source": [
    "br.showfile('.pmgrc.yaml')"
   ]
  },
  {
   "cell_type": "markdown",
   "metadata": {},
   "source": [
    "## 运行一个测试工作流"
   ]
  },
  {
   "cell_type": "markdown",
   "metadata": {},
   "source": [
    "创建工作流的两种方法是:    \n",
    "用atomate的命令行实用程序atwf;    \n",
    "Python接口;  "
   ]
  },
  {
   "cell_type": "markdown",
   "metadata": {},
   "source": [
    "还有两种不同的方法可供使用atwf-:  \n",
    "一种使用预设函数库来构建工作流，另一种使用用于构建工作流的文件库。"
   ]
  },
  {
   "cell_type": "markdown",
   "metadata": {},
   "source": [
    "### 添加工作流"
   ]
  },
  {
   "cell_type": "markdown",
   "metadata": {},
   "source": [
    "工作流添加到数据库的4种不同选项: 您只需执行以下命令之一:  \n",
    "选项1（您设置了Materials Project API密钥，并希望使用文件加载工作流程）:  \n",
    "` atwf add -l vasp -s optimize_only.yaml -m mp-149 -c '{\"vasp_cmd\": \">>vasp_cmd<<\", \"db_file\": \">>db_file<<\"}'`  \n",
    "选项2（您设置了Materials Project API密钥，并希望使用Python函数加载工作流程）:   \n",
    "`atwf add -l vasp -p wf_structure_optimization -m mp-149`;    \n",
    "\n",
    "选项3（您将从POSCAR文件加载结构，并希望使用文件加载工作流）:  \n",
    "`atwf add -l vasp -s optimize_only.yaml POSCAR -c '{\"vasp_cmd\": \">>vasp_cmd<<\", \"db_file\": \">>db_file<<\"}'`;  \n",
    "\n",
    "\n",
    "选项4（您将从POSCAR文件加载结构，并希望使用Python函数加载工作流）:   \n",
    "`atwf add -l vasp -p wf_structure_optimization POSCAR`;"
   ]
  },
  {
   "cell_type": "code",
   "execution_count": null,
   "metadata": {},
   "outputs": [],
   "source": []
  },
  {
   "cell_type": "code",
   "execution_count": null,
   "metadata": {},
   "outputs": [],
   "source": []
  },
  {
   "cell_type": "markdown",
   "metadata": {},
   "source": [
    "### 验证工作流程"
   ]
  },
  {
   "cell_type": "markdown",
   "metadata": {},
   "source": [
    "这些命令添加了一个工作流，用于将单个结构优化FireWork运行到LaunchPad。您可以使用FireWorks的lpad实用程序验证：  \n",
    "`lpad get_wflows`    \n",
    "`lpad get_wflows -d morelpad get_wflows -d alllpad get_wflows -hlpad -h`"
   ]
  },
  {
   "cell_type": "markdown",
   "metadata": {},
   "source": [
    "### 提交工作流程"
   ]
  },
  {
   "cell_type": "markdown",
   "metadata": {},
   "source": [
    "`qlaunch rapidfire -m 1`"
   ]
  },
  {
   "cell_type": "markdown",
   "metadata": {},
   "source": [
    "这里有很多事情需要注意：  \n",
    "该方法最大为1个作业保持在队列中，以防止提交的作业太多。与所有FireWorks命令一样，您可以使用或简单地获得更多选项。-m 1qlaunch rapidfire -hqlaunch -h\n",
    "上面指定的qlaunch模式是最简单和最常用的入门方式。它最终将创建一个有点嵌套的目录结构，但是当有许多计算要运行时，这将更有意义。\n",
    "qlaunch的另一个选择是“预订模式”，即。关于这种模式有很多好处 - 你将得到相当于队列作业名称，代表你计算的组合和任务类型（这些非常好看具体排队哪些计算），你可以有更多的选项来定制特定的队列参数到特定的工作。此外，预留模式将自动停止将作业提交到队列，具体取决于您在数据库中有多少作业，因此您不需要使用qlaunch -r rapidfire-m 1参数（这通常是可取的并且很好，尽管在某些情况下最好先提交队列，然后在以后哪种预留模式不支持的情况下将作业添加到数据库中）。但是，预订模式确实增加了它自己的复杂性，我们不建议从它开始（在许多情况下，如果不是大多数情况下，它根本不值得切换）。如果您对此选项感兴趣，请参阅FireWorks文档以获取更多详细信息。\n",
    "如果要直接在计算平台上运行而不是通过队列运行，请使用而不是命令（通过FireWorks文档了解详细信息）。rlaunch rapidfireqlaunch"
   ]
  },
  {
   "cell_type": "code",
   "execution_count": null,
   "metadata": {},
   "outputs": [],
   "source": []
  },
  {
   "cell_type": "markdown",
   "metadata": {},
   "source": [
    "### 分析结果"
   ]
  },
  {
   "cell_type": "markdown",
   "metadata": {},
   "source": [
    "`mgdb query -c <<INSTALL_DIR>>/config/db.json --props task_id formula_pretty output.energy_per_atom`"
   ]
  },
  {
   "cell_type": "code",
   "execution_count": null,
   "metadata": {},
   "outputs": [],
   "source": []
  }
 ],
 "metadata": {
  "kernelspec": {
   "display_name": "Python 3",
   "language": "python",
   "name": "python3"
  },
  "toc": {
   "base_numbering": 1,
   "nav_menu": {},
   "number_sections": true,
   "sideBar": true,
   "skip_h1_title": false,
   "title_cell": "Table of Contents",
   "title_sidebar": "Contents",
   "toc_cell": false,
   "toc_position": {},
   "toc_section_display": true,
   "toc_window_display": false
  },
  "varInspector": {
   "cols": {
    "lenName": 16,
    "lenType": 16,
    "lenVar": 40
   },
   "kernels_config": {
    "python": {
     "delete_cmd_postfix": "",
     "delete_cmd_prefix": "del ",
     "library": "var_list.py",
     "varRefreshCmd": "print(var_dic_list())"
    },
    "r": {
     "delete_cmd_postfix": ") ",
     "delete_cmd_prefix": "rm(",
     "library": "var_list.r",
     "varRefreshCmd": "cat(var_dic_list()) "
    }
   },
   "types_to_exclude": [
    "module",
    "function",
    "builtin_function_or_method",
    "instance",
    "_Feature"
   ],
   "window_display": false
  }
 },
 "nbformat": 4,
 "nbformat_minor": 2
}
