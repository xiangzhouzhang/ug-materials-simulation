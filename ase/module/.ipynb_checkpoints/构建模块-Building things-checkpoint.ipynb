{
 "cells": [
  {
   "cell_type": "code",
   "execution_count": 1,
   "metadata": {},
   "outputs": [],
   "source": [
    "from ase import Atoms\n",
    "from ase.visualize import view"
   ]
  },
  {
   "cell_type": "markdown",
   "metadata": {},
   "source": [
    "# 构建模块"
   ]
  },
  {
   "cell_type": "markdown",
   "metadata": {},
   "source": [
    "## Surfaces"
   ]
  },
  {
   "cell_type": "markdown",
   "metadata": {},
   "source": [
    "### Common surfaces"
   ]
  },
  {
   "cell_type": "markdown",
   "metadata": {},
   "source": [
    "Al(111)top位吸附H"
   ]
  },
  {
   "cell_type": "code",
   "execution_count": 2,
   "metadata": {},
   "outputs": [
    {
     "data": {
      "text/plain": [
       "Atoms(symbols='Al12', pbc=[True, True, False], cell=[[5.727564927611035, 0.0, 0.0], [2.8637824638055176, 4.960216729135935, 0.0], [0.0, 0.0, 24.676537180435968]], tags=...)"
      ]
     },
     "execution_count": 2,
     "metadata": {},
     "output_type": "execute_result"
    }
   ],
   "source": [
    "from ase.build import fcc111\n",
    "slab = fcc111('Al', size=(2,2,3), vacuum=10.0)\n",
    "slab"
   ]
  },
  {
   "cell_type": "code",
   "execution_count": 3,
   "metadata": {},
   "outputs": [],
   "source": [
    "# view(slab)"
   ]
  },
  {
   "cell_type": "code",
   "execution_count": 4,
   "metadata": {},
   "outputs": [],
   "source": [
    "from ase.build import fcc111, add_adsorbate\n",
    "slab = fcc111('Al', size=(2,2,3))\n",
    "add_adsorbate(slab, 'H', 1.5, 'ontop')\n",
    "slab.center(vacuum=10.0, axis=2)"
   ]
  },
  {
   "cell_type": "code",
   "execution_count": 5,
   "metadata": {},
   "outputs": [],
   "source": [
    "# view(slab)"
   ]
  },
  {
   "cell_type": "code",
   "execution_count": 6,
   "metadata": {},
   "outputs": [
    {
     "data": {
      "text/plain": [
       "array([3, 3, 3, 3, 2, 2, 2, 2, 1, 1, 1, 1, 0])"
      ]
     },
     "execution_count": 6,
     "metadata": {},
     "output_type": "execute_result"
    }
   ],
   "source": [
    "slab.get_tags()#原子所在的层数,吸附质在第0层"
   ]
  },
  {
   "cell_type": "markdown",
   "metadata": {},
   "source": [
    "root surface"
   ]
  },
  {
   "cell_type": "code",
   "execution_count": 7,
   "metadata": {},
   "outputs": [],
   "source": [
    "from ase.build import fcc111, root_surface\n",
    "atoms = fcc111('Ag', (1, 1, 2))\n",
    "atoms = root_surface(atoms, 27)"
   ]
  },
  {
   "cell_type": "code",
   "execution_count": 8,
   "metadata": {},
   "outputs": [],
   "source": [
    "# view(atoms)"
   ]
  },
  {
   "cell_type": "markdown",
   "metadata": {},
   "source": [
    "### Create specific non-common surfaces"
   ]
  },
  {
   "cell_type": "markdown",
   "metadata": {},
   "source": [
    "9层Au(211)+10Å真空层"
   ]
  },
  {
   "cell_type": "code",
   "execution_count": 9,
   "metadata": {},
   "outputs": [],
   "source": [
    "from ase.build import surface\n",
    "s1 = surface('Au', (2, 1, 1), 9)\n",
    "s1.center(vacuum=10, axis=2)"
   ]
  },
  {
   "cell_type": "code",
   "execution_count": 10,
   "metadata": {},
   "outputs": [],
   "source": [
    "# view(s1)"
   ]
  },
  {
   "cell_type": "markdown",
   "metadata": {},
   "source": [
    "Mo的bcc(321)"
   ]
  },
  {
   "cell_type": "code",
   "execution_count": 11,
   "metadata": {},
   "outputs": [],
   "source": [
    "from ase.build import bulk\n",
    "Mobulk = bulk('Mo', 'bcc', a=3.16, cubic=True)\n",
    "s2 = surface(Mobulk, (3, 2, 1), 9)\n",
    "s2.center(vacuum=10, axis=2)"
   ]
  },
  {
   "cell_type": "code",
   "execution_count": 12,
   "metadata": {},
   "outputs": [],
   "source": [
    "# view(s2)"
   ]
  },
  {
   "cell_type": "markdown",
   "metadata": {},
   "source": [
    " Pt3Rh fcc(211)"
   ]
  },
  {
   "cell_type": "code",
   "execution_count": 13,
   "metadata": {},
   "outputs": [
    {
     "data": {
      "text/plain": [
       "Atoms(symbols='Pt3Rh', pbc=True, cell=[4.0, 4.0, 4.0])"
      ]
     },
     "execution_count": 13,
     "metadata": {},
     "output_type": "execute_result"
    }
   ],
   "source": [
    "a = 4.0\n",
    "Pt3Rh = Atoms('Pt3Rh',\n",
    "              scaled_positions=[(0, 0, 0),\n",
    "                                (0.5, 0.5, 0),\n",
    "                                (0.5, 0, 0.5),\n",
    "                                (0, 0.5, 0.5)],\n",
    "              cell=[a, a, a],\n",
    "              pbc=True)\n",
    "Pt3Rh"
   ]
  },
  {
   "cell_type": "code",
   "execution_count": 14,
   "metadata": {},
   "outputs": [],
   "source": [
    "s3 = surface(Pt3Rh, (2, 1, 1), 9)\n",
    "s3.center(vacuum=10, axis=2)"
   ]
  },
  {
   "cell_type": "code",
   "execution_count": 15,
   "metadata": {},
   "outputs": [],
   "source": [
    "# view(s3)"
   ]
  },
  {
   "cell_type": "code",
   "execution_count": 16,
   "metadata": {},
   "outputs": [],
   "source": [
    "Pt3Rh.set_chemical_symbols('PtRhPt2')\n",
    "s4 = surface(Pt3Rh, (2, 1, 1), 9)\n",
    "s4.center(vacuum=10, axis=2)"
   ]
  },
  {
   "cell_type": "code",
   "execution_count": 17,
   "metadata": {},
   "outputs": [],
   "source": [
    "# view(Pt3Rh)"
   ]
  },
  {
   "cell_type": "markdown",
   "metadata": {},
   "source": [
    "## Tools for building things"
   ]
  },
  {
   "cell_type": "markdown",
   "metadata": {},
   "source": [
    "### example1"
   ]
  },
  {
   "cell_type": "code",
   "execution_count": 18,
   "metadata": {},
   "outputs": [],
   "source": [
    "import ase\n",
    "from ase.spacegroup import crystal\n",
    "from ase.build import cut, stack, sort"
   ]
  },
  {
   "cell_type": "markdown",
   "metadata": {},
   "source": [
    "3层Al(111)"
   ]
  },
  {
   "cell_type": "code",
   "execution_count": 19,
   "metadata": {},
   "outputs": [
    {
     "data": {
      "text/plain": [
       "Atoms(symbols='Al4', pbc=True, cell=[4.05, 4.05, 4.05])"
      ]
     },
     "execution_count": 19,
     "metadata": {},
     "output_type": "execute_result"
    }
   ],
   "source": [
    "a = 4.05\n",
    "aluminium = crystal('Al', [(0,0,0)], spacegroup=225, cellpar=[a, a, a, 90, 90, 90])\n",
    "aluminium"
   ]
  },
  {
   "cell_type": "markdown",
   "metadata": {},
   "source": [
    "Then cut out the slab"
   ]
  },
  {
   "cell_type": "code",
   "execution_count": 20,
   "metadata": {},
   "outputs": [],
   "source": [
    "al111 = cut(aluminium, (1,-1,0), (0,1,-1), nlayers=3)"
   ]
  },
  {
   "cell_type": "markdown",
   "metadata": {},
   "source": [
    "Visualisation of the skutterudite unit cell, Again, create a skutterudite unit cell"
   ]
  },
  {
   "cell_type": "code",
   "execution_count": 21,
   "metadata": {},
   "outputs": [],
   "source": [
    "a = 9.04\n",
    "skutterudite = crystal(\n",
    "         ('Co', 'Sb'),\n",
    "         basis=[(0.25,0.25,0.25), (0.0, 0.335, 0.158)],\n",
    "         spacegroup=204,\n",
    "         cellpar=[a, a, a, 90, 90, 90])"
   ]
  },
  {
   "cell_type": "markdown",
   "metadata": {},
   "source": [
    "Then use *origo* to put 'Co' at the corners and *extend* to\n",
    "include all corner and edge atoms."
   ]
  },
  {
   "cell_type": "code",
   "execution_count": 22,
   "metadata": {},
   "outputs": [],
   "source": [
    "s = cut(skutterudite, origo=(0.25, 0.25, 0.25), extend=1.01)\n",
    "view(s)  "
   ]
  },
  {
   "cell_type": "markdown",
   "metadata": {},
   "source": [
    "exampl2"
   ]
  },
  {
   "cell_type": "code",
   "execution_count": 23,
   "metadata": {},
   "outputs": [],
   "source": [
    "import ase\n",
    "from ase.spacegroup import crystal"
   ]
  },
  {
   "cell_type": "markdown",
   "metadata": {},
   "source": [
    "Create an Ag(110)-Si(110) interface with three atomic layers on each side."
   ]
  },
  {
   "cell_type": "code",
   "execution_count": 24,
   "metadata": {},
   "outputs": [],
   "source": [
    "a_ag = 4.09\n",
    "ag = crystal(['Ag'], basis=[(0,0,0)], spacegroup=225,\n",
    "              cellpar=[a_ag, a_ag, a_ag, 90., 90., 90.])\n",
    "ag110 = cut(ag, (0, 0, 3), (-1.5, 1.5, 0), nlayers=3)"
   ]
  },
  {
   "cell_type": "code",
   "execution_count": 25,
   "metadata": {},
   "outputs": [],
   "source": [
    "a_si = 5.43\n",
    "si = crystal(['Si'], basis=[(0,0,0)], spacegroup=227,\n",
    "              cellpar=[a_si, a_si, a_si, 90., 90., 90.])\n",
    "si110 = cut(si, (0, 0, 2), (-1, 1, 0), nlayers=3)"
   ]
  },
  {
   "cell_type": "code",
   "execution_count": 26,
   "metadata": {},
   "outputs": [],
   "source": [
    "interface = stack(ag110, si110, maxstrain=1)\n",
    "# view(interface)  "
   ]
  },
  {
   "cell_type": "markdown",
   "metadata": {},
   "source": [
    "Once more, this time adjusted such that the distance between the closest Ag and Si atoms will be 2.3 Angstrom (requires scipy)."
   ]
  },
  {
   "cell_type": "code",
   "execution_count": 27,
   "metadata": {},
   "outputs": [
    {
     "name": "stdout",
     "output_type": "stream",
     "text": [
      "Optimization terminated successfully.\n",
      "         Current function value: 0.000000\n",
      "         Iterations: 205\n",
      "         Function evaluations: 333\n"
     ]
    }
   ],
   "source": [
    "interface2 = stack(ag110, si110, maxstrain=1, distance=2.3)   "
   ]
  },
  {
   "cell_type": "code",
   "execution_count": 28,
   "metadata": {},
   "outputs": [],
   "source": [
    "# view(interface2)  "
   ]
  },
  {
   "cell_type": "markdown",
   "metadata": {},
   "source": [
    "example3"
   ]
  },
  {
   "cell_type": "code",
   "execution_count": 29,
   "metadata": {},
   "outputs": [
    {
     "data": {
      "text/plain": [
       "['Na', 'Cl', 'Na', 'Cl']"
      ]
     },
     "execution_count": 29,
     "metadata": {},
     "output_type": "execute_result"
    }
   ],
   "source": [
    "from ase.build import bulk\n",
    "a = 5.64\n",
    "nacl = bulk('NaCl', 'rocksalt', a=a) * (2, 1, 1)\n",
    "nacl.get_chemical_symbols()"
   ]
  },
  {
   "cell_type": "code",
   "execution_count": 30,
   "metadata": {},
   "outputs": [
    {
     "data": {
      "text/plain": [
       "['Cl', 'Cl', 'Na', 'Na']"
      ]
     },
     "execution_count": 30,
     "metadata": {},
     "output_type": "execute_result"
    }
   ],
   "source": [
    "nacl_sorted = sort(nacl)\n",
    "nacl_sorted.get_chemical_symbols()"
   ]
  },
  {
   "cell_type": "code",
   "execution_count": 31,
   "metadata": {},
   "outputs": [
    {
     "data": {
      "text/plain": [
       "True"
      ]
     },
     "execution_count": 31,
     "metadata": {},
     "output_type": "execute_result"
    }
   ],
   "source": [
    "np.all(nacl_sorted.cell == nacl.cell)"
   ]
  },
  {
   "cell_type": "markdown",
   "metadata": {},
   "source": [
    "## Molecules"
   ]
  },
  {
   "cell_type": "code",
   "execution_count": 32,
   "metadata": {},
   "outputs": [],
   "source": [
    "from ase.build import molecule"
   ]
  },
  {
   "cell_type": "code",
   "execution_count": 33,
   "metadata": {},
   "outputs": [],
   "source": [
    "atoms = molecule('H2O')"
   ]
  },
  {
   "cell_type": "markdown",
   "metadata": {},
   "source": [
    "The list of available molecules "
   ]
  },
  {
   "cell_type": "code",
   "execution_count": 34,
   "metadata": {},
   "outputs": [],
   "source": [
    "from ase.collections import g2"
   ]
  },
  {
   "cell_type": "code",
   "execution_count": 35,
   "metadata": {},
   "outputs": [
    {
     "name": "stdout",
     "output_type": "stream",
     "text": [
      "PH3                  |P2                   |CH3CHO               |H2COH                |CS                   |\n",
      "OCHCHO               |C3H9C                |CH3COF               |CH3CH2OCH3           |HCOOH                |\n",
      "HCCl3                |HOCl                 |H2                   |SH2                  |C2H2                 |\n",
      "C4H4NH               |CH3SCH3              |SiH2_s3B1d           |CH3SH                |CH3CO                |\n",
      "CO                   |ClF3                 |SiH4                 |C2H6CHOH             |CH2NHCH2             |\n",
      "isobutene            |HCO                  |bicyclobutane        |LiF                  |Si                   |\n",
      "C2H6                 |CN                   |ClNO                 |S                    |SiF4                 |\n",
      "H3CNH2               |methylenecyclopropane|CH3CH2OH             |F                    |NaCl                 |\n",
      "CH3Cl                |CH3SiH3              |AlF3                 |C2H3                 |ClF                  |\n",
      "PF3                  |PH2                  |CH3CN                |cyclobutene          |CH3ONO               |\n",
      "SiH3                 |C3H6_D3h             |CO2                  |NO                   |trans-butane         |\n",
      "H2CCHCl              |LiH                  |NH2                  |CH                   |CH2OCH2              |\n",
      "C6H6                 |CH3CONH2             |cyclobutane          |H2CCHCN              |butadiene            |\n",
      "C                    |H2CO                 |CH3COOH              |HCF3                 |CH3S                 |\n",
      "CS2                  |SiH2_s1A1d           |C4H4S                |N2H4                 |OH                   |\n",
      "CH3OCH3              |C5H5N                |H2O                  |HCl                  |CH2_s1A1d            |\n",
      "CH3CH2SH             |CH3NO2               |Cl                   |Be                   |BCl3                 |\n",
      "C4H4O                |Al                   |CH3O                 |CH3OH                |C3H7Cl               |\n",
      "isobutane            |Na                   |CCl4                 |CH3CH2O              |H2CCHF               |\n",
      "C3H7                 |CH3                  |O3                   |P                    |C2H4                 |\n",
      "NCCN                 |S2                   |AlCl3                |SiCl4                |SiO                  |\n",
      "C3H4_D2d             |H                    |COF2                 |2-butyne             |C2H5                 |\n",
      "BF3                  |N2O                  |F2O                  |SO2                  |H2CCl2               |\n",
      "CF3CN                |HCN                  |C2H6NH               |OCS                  |B                    |\n",
      "ClO                  |C3H8                 |HF                   |O2                   |SO                   |\n",
      "NH                   |C2F4                 |NF3                  |CH2_s3B1d            |CH3CH2Cl             |\n",
      "CH3COCl              |NH3                  |C3H9N                |CF4                  |C3H6_Cs              |\n",
      "Si2H6                |HCOOCH3              |O                    |CCH                  |N                    |\n",
      "Si2                  |C2H6SO               |C5H8                 |H2CF2                |Li2                  |\n",
      "CH2SCH2              |C2Cl4                |C3H4_C3v             |CH3COCH3             |F2                   |\n",
      "CH4                  |SH                   |H2CCO                |CH3CH2NH2            |Li                   |\n",
      "N2                   |Cl2                  |H2O2                 |Na2                  |BeH                  |\n",
      "C3H4_C2v             |NO2                  |\n"
     ]
    }
   ],
   "source": [
    "col 5 g2.names"
   ]
  },
  {
   "cell_type": "markdown",
   "metadata": {},
   "source": [
    "## Common bulk crystals"
   ]
  },
  {
   "cell_type": "code",
   "execution_count": 36,
   "metadata": {},
   "outputs": [],
   "source": [
    "from ase.build import bulk\n",
    "a1 = bulk('Cu', 'fcc', a=3.6)\n",
    "a2 = bulk('Cu', 'fcc', a=3.6, orthorhombic=True)\n",
    "a3 = bulk('Cu', 'fcc', a=3.6, cubic=True)"
   ]
  },
  {
   "cell_type": "code",
   "execution_count": 37,
   "metadata": {},
   "outputs": [
    {
     "name": "stdout",
     "output_type": "stream",
     "text": [
      "     a1.cell                         a2.cell                          a3.cell     \n",
      "-----------------     --------------------------------------     -----------------\n",
      "[[0. , 1.8, 1.8],     [[2.54558441, 0.        , 0.        ],     [[3.6, 0. , 0. ],\n",
      " [1.8, 0. , 1.8],      [0.        , 2.54558441, 0.        ],      [0. , 3.6, 0. ],\n",
      " [1.8, 1.8, 0. ]]      [0.        , 0.        , 3.6       ]]      [0. , 0. , 3.6]]\n"
     ]
    }
   ],
   "source": [
    "%C 5 a1.cell; a2.cell; a3.cell"
   ]
  },
  {
   "cell_type": "code",
   "execution_count": null,
   "metadata": {},
   "outputs": [],
   "source": []
  },
  {
   "cell_type": "markdown",
   "metadata": {},
   "source": [
    "## Nanotubes"
   ]
  },
  {
   "cell_type": "code",
   "execution_count": 38,
   "metadata": {},
   "outputs": [],
   "source": [
    " from ase.build import nanotube"
   ]
  },
  {
   "cell_type": "code",
   "execution_count": 39,
   "metadata": {},
   "outputs": [],
   "source": [
    "cnt1 = nanotube(6, 0, length=4)\n",
    "cnt2 = nanotube(3, 3, length=6, bond=1.4, symbol='Si')"
   ]
  },
  {
   "cell_type": "code",
   "execution_count": 40,
   "metadata": {},
   "outputs": [],
   "source": [
    "# view(cnt2)"
   ]
  },
  {
   "cell_type": "code",
   "execution_count": null,
   "metadata": {},
   "outputs": [],
   "source": []
  },
  {
   "cell_type": "markdown",
   "metadata": {},
   "source": [
    "## Graphene nanoribbons"
   ]
  },
  {
   "cell_type": "code",
   "execution_count": 41,
   "metadata": {},
   "outputs": [],
   "source": [
    "from ase.build import graphene_nanoribbon"
   ]
  },
  {
   "cell_type": "code",
   "execution_count": 42,
   "metadata": {},
   "outputs": [],
   "source": [
    "gnr1 = graphene_nanoribbon(3, 4, type='armchair', saturated=True)\n",
    "gnr2 = graphene_nanoribbon(2, 6, type='zigzag', saturated=True,\n",
    "                            C_H=1.1, C_C=1.4, vacuum=6.0, magnetic=True, initial_mag=1.12)"
   ]
  },
  {
   "cell_type": "code",
   "execution_count": 43,
   "metadata": {},
   "outputs": [],
   "source": [
    "# view(gnr2)"
   ]
  },
  {
   "cell_type": "code",
   "execution_count": null,
   "metadata": {},
   "outputs": [],
   "source": []
  }
 ],
 "metadata": {
  "kernelspec": {
   "display_name": "Python 3",
   "language": "python",
   "name": "python3"
  },
  "language_info": {
   "codemirror_mode": {
    "name": "ipython",
    "version": 3
   },
   "file_extension": ".py",
   "mimetype": "text/x-python",
   "name": "python",
   "nbconvert_exporter": "python",
   "pygments_lexer": "ipython3",
   "version": "3.6.5"
  },
  "toc": {
   "base_numbering": 1,
   "nav_menu": {},
   "number_sections": true,
   "sideBar": true,
   "skip_h1_title": true,
   "title_cell": "Table of Contents",
   "title_sidebar": "Contents",
   "toc_cell": false,
   "toc_position": {
    "height": "calc(100% - 180px)",
    "left": "10px",
    "top": "150px",
    "width": "165px"
   },
   "toc_section_display": true,
   "toc_window_display": true
  }
 },
 "nbformat": 4,
 "nbformat_minor": 2
}
