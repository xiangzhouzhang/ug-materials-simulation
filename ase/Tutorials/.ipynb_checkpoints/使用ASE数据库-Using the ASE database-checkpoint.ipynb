{
 "cells": [
  {
   "cell_type": "markdown",
   "metadata": {},
   "source": [
    "# Using the ASE database"
   ]
  },
  {
   "cell_type": "markdown",
   "metadata": {},
   "source": [
    "Adsorbing C, N and O on 7 different FCC(111) surfaces with 1, 2 and 3 layers;  \n",
    "Using database files to store the results;"
   ]
  },
  {
   "cell_type": "markdown",
   "metadata": {},
   "source": [
    "## 体相(Bulk)"
   ]
  },
  {
   "cell_type": "code",
   "execution_count": 49,
   "metadata": {},
   "outputs": [],
   "source": [
    "from ase.build import bulk\n",
    "from ase.calculators.emt import EMT\n",
    "from ase.eos import calculate_eos\n",
    "from ase.db import connect"
   ]
  },
  {
   "cell_type": "markdown",
   "metadata": {},
   "source": [
    "新建一个**SQLite3**数据库"
   ]
  },
  {
   "cell_type": "code",
   "execution_count": 50,
   "metadata": {},
   "outputs": [],
   "source": [
    "db = connect('data/bulk.db') "
   ]
  },
  {
   "cell_type": "markdown",
   "metadata": {},
   "source": [
    "对7个不同元素计算平衡体相的晶胞信息(晶胞参数,能量..)"
   ]
  },
  {
   "cell_type": "code",
   "execution_count": 51,
   "metadata": {},
   "outputs": [],
   "source": [
    "for symb in ['Al', 'Ni', 'Cu', 'Pd', 'Ag', 'Pt', 'Au']:\n",
    "    atoms = bulk(symb, 'fcc')\n",
    "    atoms.calc = EMT()\n",
    "    eos = calculate_eos(atoms)\n",
    "    v, e, B = eos.fit()  # find minimum\n",
    "    #计算平衡时的晶胞参数\n",
    "    atoms.cell *= (v / atoms.get_volume())**(1 / 3)\n",
    "    atoms.get_potential_energy()\n",
    "    #写入数据库\n",
    "    db.write(atoms, bm=B) #bm?"
   ]
  },
  {
   "cell_type": "markdown",
   "metadata": {},
   "source": [
    "> 如何计算平衡状态时的晶胞参数?\n",
    "* `atoms.get_volume()`是初始晶胞的体积,`v`是平衡状态时晶胞的体积, 体积的三次根为晶格常数;  \n",
    "* `(v / atoms.get_volume())**(1 / 3)`: 平衡状态相对于初始状态时, 晶格常数的缩放系数;  \n",
    "* 根据原始的晶胞参数和晶胞缩放系数, 计算当前结构的晶胞参数;"
   ]
  },
  {
   "cell_type": "markdown",
   "metadata": {},
   "source": [
    "使用命令行查看数据库信息, bm为保存的附加信息(B模量);"
   ]
  },
  {
   "cell_type": "code",
   "execution_count": 52,
   "metadata": {},
   "outputs": [
    {
     "name": "stdout",
     "output_type": "stream",
     "text": [
      "id| age|formula|calculator|energy| fmax|pbc|volume|charge|   mass|   bm\n",
      " 1| 16h|Al     |emt       |-0.005|0.000|TTT|15.932| 0.000| 26.982|0.249\n",
      " 2| 16h|Ni     |emt       |-0.013|0.000|TTT|10.601| 0.000| 58.693|1.105\n",
      " 3| 16h|Cu     |emt       |-0.007|0.000|TTT|11.565| 0.000| 63.546|0.839\n",
      " 4| 16h|Pd     |emt       |-0.000|0.000|TTT|14.588| 0.000|106.420|1.118\n",
      " 5| 16h|Ag     |emt       |-0.000|0.000|TTT|16.775| 0.000|107.868|0.625\n",
      " 6| 16h|Pt     |emt       |-0.000|0.000|TTT|15.080| 0.000|195.084|1.736\n",
      " 7| 16h|Au     |emt       |-0.000|0.000|TTT|16.684| 0.000|196.967|1.085\n",
      " 8|176s|Al     |emt       |-0.005|0.000|TTT|15.932| 0.000| 26.982|0.249\n",
      " 9|176s|Ni     |emt       |-0.013|0.000|TTT|10.601| 0.000| 58.693|1.105\n",
      "10|176s|Cu     |emt       |-0.007|0.000|TTT|11.565| 0.000| 63.546|0.839\n",
      "11|176s|Pd     |emt       |-0.000|0.000|TTT|14.588| 0.000|106.420|1.118\n",
      "12|176s|Ag     |emt       |-0.000|0.000|TTT|16.775| 0.000|107.868|0.625\n",
      "13|175s|Pt     |emt       |-0.000|0.000|TTT|15.080| 0.000|195.084|1.736\n",
      "14|175s|Au     |emt       |-0.000|0.000|TTT|16.684| 0.000|196.967|1.085\n",
      "15|  2s|Al     |emt       |-0.005|0.000|TTT|15.932| 0.000| 26.982|0.249\n",
      "16|  2s|Ni     |emt       |-0.013|0.000|TTT|10.601| 0.000| 58.693|1.105\n",
      "17|  1s|Cu     |emt       |-0.007|0.000|TTT|11.565| 0.000| 63.546|0.839\n",
      "18|  1s|Pd     |emt       |-0.000|0.000|TTT|14.588| 0.000|106.420|1.118\n",
      "19|  1s|Ag     |emt       |-0.000|0.000|TTT|16.775| 0.000|107.868|0.625\n",
      "20|  1s|Pt     |emt       |-0.000|0.000|TTT|15.080| 0.000|195.084|1.736\n",
      "Rows: 21 (showing first 20)\n",
      "Keys: bm\n"
     ]
    }
   ],
   "source": [
    "!ase db data/bulk.db -c +bm  "
   ]
  },
  {
   "cell_type": "markdown",
   "metadata": {},
   "source": [
    "将db文件转化为json文件查看"
   ]
  },
  {
   "cell_type": "code",
   "execution_count": 53,
   "metadata": {},
   "outputs": [
    {
     "name": "stdout",
     "output_type": "stream",
     "text": [
      "Added 0 key-value pairs (0 pairs updated)\n",
      "Inserted 21 rows\n"
     ]
    }
   ],
   "source": [
    "!ase db data/bulk.db --insert-into data/bulk.json"
   ]
  },
  {
   "cell_type": "code",
   "execution_count": 54,
   "metadata": {},
   "outputs": [
    {
     "name": "stdout",
     "output_type": "stream",
     "text": [
      "@data/bulk.json>>                                 \n",
      "  1: {\"1\": {\n",
      "  2:  \"calculator\": \"emt\",\n",
      "  3:  \"calculator_parameters\": {},\n",
      "  4:  \"cell\": [[0.0, 1.9971594384754148, 1.9971594384754148], [1.9971594384754148, 0.0, 1.9971594384754148], [1.9971594384754148, 1.9971594384754148, 0.0]],\n",
      "  5:  \"ctime\": 18.853282984629914,\n",
      "  6:  \"energy\": -0.00488268230884259,\n",
      "  7:  \"forces\": [[0.0, 0.0, 0.0]],\n",
      "  8:  \"key_value_pairs\": {\"bm\": 0.24913771368316937},\n",
      "  9:  \"mtime\": 18.855055522624877,\n",
      " 10:  \"numbers\": [13],\n",
      " 11:  \"pbc\": [true, true, true],\n",
      " 12:  \"positions\": [[0.0, 0.0, 0.0]],\n",
      " 13:  \"unique_id\": \"3c1b96bddb3a92ce48c9c71afcc90ed8\",\n",
      " 14:  \"user\": null},\n",
      " 15: \"2\": {\n",
      " 16:  \"calculator\": \"emt\",\n"
     ]
    }
   ],
   "source": [
    "br.showfile('data/bulk.json',headn=16)"
   ]
  },
  {
   "cell_type": "markdown",
   "metadata": {},
   "source": [
    "## 吸附质(Adsorbates)"
   ]
  },
  {
   "cell_type": "markdown",
   "metadata": {},
   "source": [
    "吸附计算"
   ]
  },
  {
   "cell_type": "code",
   "execution_count": 55,
   "metadata": {},
   "outputs": [],
   "source": [
    "from ase.calculators.emt import EMT\n",
    "from ase.db import connect\n",
    "from ase.build import fcc111, add_adsorbate\n",
    "from ase.constraints import FixAtoms\n",
    "from ase.optimize import BFGS"
   ]
  },
  {
   "cell_type": "code",
   "execution_count": 56,
   "metadata": {},
   "outputs": [],
   "source": [
    "db1 = connect('bulk.db')\n",
    "db2 = connect('ads.db')"
   ]
  },
  {
   "cell_type": "code",
   "execution_count": 57,
   "metadata": {},
   "outputs": [],
   "source": [
    "def run(symb, a, n, ads):\n",
    "    atoms = fcc111(symb, (1, 1, n), a=a)\n",
    "    add_adsorbate(atoms, ads, height=1.0, position='fcc')\n",
    "\n",
    "    # Constrain all atoms except the adsorbate:\n",
    "    fixed = list(range(len(atoms) - 1))\n",
    "    atoms.constraints = [FixAtoms(indices=fixed)]\n",
    "\n",
    "    atoms.calc = EMT()\n",
    "    opt = BFGS(atoms, logfile=None)\n",
    "    opt.run(fmax=0.01)\n",
    "    return atoms"
   ]
  },
  {
   "cell_type": "code",
   "execution_count": 58,
   "metadata": {},
   "outputs": [],
   "source": [
    "for row in db1.select():\n",
    "    a = row.cell[0, 1] * 2\n",
    "    symb = row.symbols[0]\n",
    "    for n in [1, 2, 3]:\n",
    "        for ads in 'CNO':\n",
    "            atoms = run(symb, a, n, ads)\n",
    "            db2.write(atoms, layers=n, surf=symb, ads=ads)"
   ]
  },
  {
   "cell_type": "code",
   "execution_count": 59,
   "metadata": {},
   "outputs": [
    {
     "name": "stdout",
     "output_type": "stream",
     "text": [
      "0 rows\n"
     ]
    }
   ],
   "source": [
    "!ase db ads.db -n"
   ]
  },
  {
   "cell_type": "code",
   "execution_count": 60,
   "metadata": {},
   "outputs": [],
   "source": [
    "for row in db1.select():\n",
    "    a = row.cell[0, 1] * 2\n",
    "    symb = row.symbols[0]\n",
    "    for n in [1, 2, 3]:\n",
    "        for ads in 'CNO':\n",
    "            id = db2.reserve(layers=n, surf=symb, ads=ads)\n",
    "            if id is not None:\n",
    "                atoms = run(symb, a, n, ads)\n",
    "                db2.write(atoms, layers=n, surf=symb, ads=ads)\n",
    "                del db2[id]"
   ]
  },
  {
   "cell_type": "code",
   "execution_count": 62,
   "metadata": {},
   "outputs": [
    {
     "name": "stdout",
     "output_type": "stream",
     "text": [
      "\n",
      "Rows: 0\n"
     ]
    }
   ],
   "source": [
    "!ase db ads.db natoms=0 -c ++"
   ]
  },
  {
   "cell_type": "code",
   "execution_count": 64,
   "metadata": {},
   "outputs": [
    {
     "name": "stdout",
     "output_type": "stream",
     "text": [
      "Deleted 0 rows\n"
     ]
    }
   ],
   "source": [
    "!ase db ads.db natoms=0 --delete"
   ]
  },
  {
   "cell_type": "code",
   "execution_count": null,
   "metadata": {},
   "outputs": [],
   "source": []
  },
  {
   "cell_type": "code",
   "execution_count": 69,
   "metadata": {},
   "outputs": [
    {
     "name": "stderr",
     "output_type": "stream",
     "text": [
      "UsageError: %%python3 is a cell magic, but the cell body is empty.\n"
     ]
    }
   ],
   "source": [
    "%%python3 ads.py  # or sbatch ..."
   ]
  },
  {
   "cell_type": "code",
   "execution_count": null,
   "metadata": {},
   "outputs": [],
   "source": []
  },
  {
   "cell_type": "code",
   "execution_count": null,
   "metadata": {},
   "outputs": [],
   "source": []
  },
  {
   "cell_type": "markdown",
   "metadata": {},
   "source": [
    "## 参考能(Reference energies)"
   ]
  },
  {
   "cell_type": "code",
   "execution_count": 70,
   "metadata": {},
   "outputs": [],
   "source": [
    "from ase import Atoms\n",
    "from ase.calculators.emt import EMT\n",
    "from ase.db import connect\n",
    "from ase.build import fcc111\n",
    "\n",
    "db1 = connect('bulk.db')\n",
    "db2 = connect('ads.db')\n",
    "\n",
    "\n",
    "def run(symb, a, n):\n",
    "    atoms = fcc111(symb, (1, 1, n), a=a)\n",
    "    atoms.calc = EMT()\n",
    "    atoms.get_forces()\n",
    "    return atoms\n",
    "\n",
    "\n",
    "# Clean slabs:\n",
    "for row in db1.select():\n",
    "    a = row.cell[0, 1] * 2\n",
    "    symb = row.symbols[0]\n",
    "    for n in [1, 2, 3]:\n",
    "        id = db2.reserve(layers=n, surf=symb, ads='clean')\n",
    "        if id is not None:\n",
    "            atoms = run(symb, a, n)\n",
    "            db2.write(atoms, layers=n, surf=symb, ads='clean')\n",
    "            del db2[id]\n",
    "\n",
    "# Atoms:\n",
    "for ads in 'CNO':\n",
    "    a = Atoms(ads)\n",
    "    a.calc = EMT()\n",
    "    a.get_potential_energy()\n",
    "    db2.write(a)"
   ]
  },
  {
   "cell_type": "code",
   "execution_count": 72,
   "metadata": {},
   "outputs": [
    {
     "name": "stdout",
     "output_type": "stream",
     "text": [
      "3 rows\n"
     ]
    }
   ],
   "source": [
    "!ase db ads.db -n"
   ]
  },
  {
   "cell_type": "code",
   "execution_count": 73,
   "metadata": {},
   "outputs": [
    {
     "name": "stdout",
     "output_type": "stream",
     "text": [
      "Added 0 key-value pairs (0 pairs updated)\n",
      "Inserted 0 rows\n"
     ]
    }
   ],
   "source": [
    "!ase db ads.db ads=clean --insert-into refs.db"
   ]
  },
  {
   "cell_type": "code",
   "execution_count": 75,
   "metadata": {},
   "outputs": [
    {
     "name": "stdout",
     "output_type": "stream",
     "text": [
      "Deleted 0 rows\n"
     ]
    }
   ],
   "source": [
    "!ase db ads.db ads=clean --delete --yes"
   ]
  },
  {
   "cell_type": "code",
   "execution_count": null,
   "metadata": {},
   "outputs": [],
   "source": []
  },
  {
   "cell_type": "code",
   "execution_count": 76,
   "metadata": {},
   "outputs": [
    {
     "name": "stdout",
     "output_type": "stream",
     "text": [
      "Added 0 key-value pairs (0 pairs updated)\n",
      "Inserted 3 rows\n"
     ]
    }
   ],
   "source": [
    "!ase db ads.db pbc=FFF --insert-into refs.db"
   ]
  },
  {
   "cell_type": "code",
   "execution_count": 77,
   "metadata": {},
   "outputs": [
    {
     "name": "stdout",
     "output_type": "stream",
     "text": [
      "Deleted 3 rows\n"
     ]
    }
   ],
   "source": [
    "!ase db ads.db pbc=FFF --delete --yes"
   ]
  },
  {
   "cell_type": "code",
   "execution_count": 78,
   "metadata": {},
   "outputs": [
    {
     "name": "stdout",
     "output_type": "stream",
     "text": [
      "0 rows\n"
     ]
    }
   ],
   "source": [
    "!ase db ads.db -n"
   ]
  },
  {
   "cell_type": "code",
   "execution_count": null,
   "metadata": {},
   "outputs": [],
   "source": []
  },
  {
   "cell_type": "markdown",
   "metadata": {},
   "source": [
    "## 分析(Analysis)"
   ]
  },
  {
   "cell_type": "code",
   "execution_count": 79,
   "metadata": {},
   "outputs": [],
   "source": [
    "from ase.db import connect\n",
    "\n",
    "refs = connect('refs.db')\n",
    "db = connect('ads.db')\n",
    "\n",
    "for row in db.select():\n",
    "    ea = (row.energy -\n",
    "          refs.get(formula=row.ads).energy -\n",
    "          refs.get(layers=row.layers, surf=row.surf).energy)\n",
    "    h = row.positions[-1, 2] - row.positions[-2, 2]\n",
    "    db.update(row.id, height=h, ea=ea)"
   ]
  },
  {
   "cell_type": "code",
   "execution_count": 85,
   "metadata": {},
   "outputs": [
    {
     "name": "stderr",
     "output_type": "stream",
     "text": [
      "python: can't open file 'ea.py': [Errno 2] No such file or directory\n"
     ]
    }
   ],
   "source": [
    "!python ea.py"
   ]
  }
 ],
 "metadata": {
  "kernelspec": {
   "display_name": "Python 3",
   "language": "python",
   "name": "python3"
  },
  "language_info": {
   "codemirror_mode": {
    "name": "ipython",
    "version": 3
   },
   "file_extension": ".py",
   "mimetype": "text/x-python",
   "name": "python",
   "nbconvert_exporter": "python",
   "pygments_lexer": "ipython3",
   "version": "3.6.5"
  },
  "toc": {
   "base_numbering": 1,
   "nav_menu": {},
   "number_sections": true,
   "sideBar": true,
   "skip_h1_title": false,
   "title_cell": "Table of Contents",
   "title_sidebar": "Contents",
   "toc_cell": false,
   "toc_position": {},
   "toc_section_display": true,
   "toc_window_display": false
  }
 },
 "nbformat": 4,
 "nbformat_minor": 2
}
