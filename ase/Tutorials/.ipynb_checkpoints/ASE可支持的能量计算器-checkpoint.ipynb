{
 "cells": [
  {
   "cell_type": "markdown",
   "metadata": {},
   "source": [
    "软件|简介\n",
    ":---|:--\n",
    "[abinit](https://www.abinit.org/) |  open;\n",
    "[Asap](https://wiki.fysik.dtu.dk/asap) | As Soon As Possible, open;\n",
    "[Atomistica](https://github.com/Atomistica/atomistica) |  一个原子间势能库;\n",
    "[CASTEP](http://www.castep.org/) |  Material Studio内嵌模块;\n",
    "[CP2K](https://www.cp2k.org/) |  Open Source Molecular Dynamics;\n",
    "[CRYSTAL](http://www.crystal.unito.it/index.php) |  com;\n",
    "[deMon](http://www.demon-software.com/public_html/index.html) |  学术免费;\n",
    "[dftb](https://www.cp2k.org/) |   Density Functional based Tight Binding;\n",
    "[elk](http://elk.sourceforge.net/) |  open;\n",
    "[exciting](http://exciting-code.org/) |  激发态?;\n",
    "[EMT](https://wiki.fysik.dtu.dk/ase/ase/calculators/emt.html) |  内嵌在ASE软件包中的简便计算器，用于演示和测试;\n",
    "[fhi-aims](https://aimsclub.fhi-berlin.mpg.de/) |\n",
    "[fleur](http://www.flapw.de/pm/index.php) |\n",
    "[gpaw]() | gpaw是由Python编写的(DFT-APW)能量计算器;\n",
    "[gromacs](http://www.gromacs.org/) |  \n",
    "[hotbit](https://github.com/pekkosk/hotbit) |  ASE关于紧束缚方法的能量计算器;\n",
    "[j/d-acapo](https://wiki.fysik.dtu.dk/dacapo) |  \n",
    "[jdftx](http://jdftx.org/)|\n",
    "[lammps](https://lammps.sandia.gov/) | (Large-scale Atomic/Molecular Massively Parallel Simulator, 分子动力学, GPL;\n",
    "[nwchem](http://www.nwchem-sw.org/index.php/Main_Page) |  open;\n",
    "[octopus]() |  time-dependent simulations(TDDFT);\n",
    "[onetep](http://www.onetep.org/) |  \n",
    "[q_espresso](http://www.quantum-espresso.org/) |  关于电子结构计算的开源集成包;\n",
    "[siesta]() |  LCAO\n",
    "[turbomole](http://www.turbomole.com/) |\n",
    "[vasp]() | \n",
    "[amber](http://ambermd.org/) |  com;\n",
    "[gaussian](http://gaussian.com/) |  com;\n",
    "[Grimme dft-d3](https://www.chemie.uni-bonn.de/pctc/mulliken-center/software/dft-d3/) |  泛函校正;\n",
    "[gulp]() |  the General Utility Lattice Program, is a forcefield code.\n",
    "[MOPAC]() |  Molecular Orbital PACkage, 半经验, com;"
   ]
  }
 ],
 "metadata": {
  "kernelspec": {
   "display_name": "Python 3",
   "language": "python",
   "name": "python3"
  },
  "language_info": {
   "codemirror_mode": {
    "name": "ipython",
    "version": 3
   },
   "file_extension": ".py",
   "mimetype": "text/x-python",
   "name": "python",
   "nbconvert_exporter": "python",
   "pygments_lexer": "ipython3",
   "version": "3.6.5"
  },
  "toc": {
   "base_numbering": 1,
   "nav_menu": {},
   "number_sections": true,
   "sideBar": true,
   "skip_h1_title": false,
   "title_cell": "Table of Contents",
   "title_sidebar": "Contents",
   "toc_cell": false,
   "toc_position": {},
   "toc_section_display": true,
   "toc_window_display": false
  }
 },
 "nbformat": 4,
 "nbformat_minor": 2
}
