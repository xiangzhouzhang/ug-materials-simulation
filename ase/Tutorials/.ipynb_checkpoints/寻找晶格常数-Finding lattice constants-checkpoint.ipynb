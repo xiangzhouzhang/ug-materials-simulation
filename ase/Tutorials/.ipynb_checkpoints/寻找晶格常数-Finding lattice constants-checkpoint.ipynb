{
 "cells": [
  {
   "cell_type": "code",
   "execution_count": 1,
   "metadata": {},
   "outputs": [
    {
     "data": {
      "text/plain": [
       "'###### 文档起始位 #######'"
      ]
     },
     "execution_count": 1,
     "metadata": {},
     "output_type": "execute_result"
    }
   ],
   "source": [
    "br.kk0"
   ]
  },
  {
   "cell_type": "markdown",
   "metadata": {},
   "source": [
    "# HCP"
   ]
  },
  {
   "cell_type": "markdown",
   "metadata": {},
   "source": [
    "使用EMT预测Ni(HCP)的晶格常数a,c, 首先给出一个initial guess:"
   ]
  },
  {
   "cell_type": "code",
   "execution_count": 2,
   "metadata": {},
   "outputs": [],
   "source": [
    "import numpy as np\n",
    "a0 = 3.52 / np.sqrt(2)\n",
    "c0 = np.sqrt(8 / 3.0) * a0"
   ]
  },
  {
   "cell_type": "markdown",
   "metadata": {},
   "source": [
    "给结果创建一个轨迹文件(trajectory)"
   ]
  },
  {
   "cell_type": "code",
   "execution_count": 3,
   "metadata": {},
   "outputs": [],
   "source": [
    "from ase.io import Trajectory\n",
    "traj = Trajectory('data/Ni.traj', 'w')"
   ]
  },
  {
   "cell_type": "markdown",
   "metadata": {},
   "source": [
    "为a,c个设置三个初始值"
   ]
  },
  {
   "cell_type": "code",
   "execution_count": 4,
   "metadata": {},
   "outputs": [],
   "source": [
    "from ase.build import bulk\n",
    "from ase.calculators.emt import EMT\n",
    "eps = 0.01\n",
    "for a in a0 * np.linspace(1 - eps, 1 + eps, 3):\n",
    "    for c in c0 * np.linspace(1 - eps, 1 + eps, 3):\n",
    "        ni = bulk('Ni', 'hcp', a=a, c=c)\n",
    "        ni.set_calculator(EMT())\n",
    "        ni.get_potential_energy()\n",
    "        traj.write(ni)"
   ]
  },
  {
   "cell_type": "markdown",
   "metadata": {},
   "source": [
    "# Analysis"
   ]
  },
  {
   "cell_type": "markdown",
   "metadata": {},
   "source": [
    "**io.read()**: 以ase的方式从轨迹文件中提取数据, 返回为一个列表;  \n",
    "`@:`: 文件名支持索引标记, 类似于numpy中的切片;"
   ]
  },
  {
   "cell_type": "code",
   "execution_count": 5,
   "metadata": {},
   "outputs": [
    {
     "data": {
      "text/plain": [
       "Atoms(symbols='Ni2', pbc=True, cell=[[2.464125711078881, 0.0, 0.0], [-1.2320628555394404, 2.133995463912705, 0.0], [0.0, 0.0, 4.023900436144015]], calculator=SinglePointCalculator(...))"
      ]
     },
     "execution_count": 5,
     "metadata": {},
     "output_type": "execute_result"
    }
   ],
   "source": [
    "from ase.io import read\n",
    "configs = read('data/Ni.traj@:') \n",
    "configs[0]"
   ]
  },
  {
   "cell_type": "markdown",
   "metadata": {},
   "source": [
    "使用列表推导式获取能量和晶格常数 "
   ]
  },
  {
   "cell_type": "code",
   "execution_count": 6,
   "metadata": {},
   "outputs": [],
   "source": [
    "energies = [config.get_potential_energy() for config in configs]\n",
    "a = np.array([config.cell[0, 0] for config in configs])\n",
    "c = np.array([config.cell[2, 2] for config in configs])"
   ]
  },
  {
   "cell_type": "markdown",
   "metadata": {},
   "source": [
    "能量式: $E = p_0+p_1a+p_2c+p_3a^2+p_4ac+p_5c^2$;   \n",
    "参数向量为: $p=(p_0,p_1,p_2,p_3,p_4,p_5)$  "
   ]
  },
  {
   "cell_type": "markdown",
   "metadata": {},
   "source": [
    "二乘矩阵 M可表示为: "
   ]
  },
  {
   "cell_type": "code",
   "execution_count": 7,
   "metadata": {},
   "outputs": [
    {
     "name": "stdout",
     "output_type": "stream",
     "text": [
      "  a[:,None]       c[:,None]      a[:,None]**2   a[:,None]*c[:,None]    c[:,None]**2 \n",
      "--------------  --------------  --------------  -------------------  ---------------\n",
      "[[2.46412571],  [[4.02390044],  [[6.07191552],  [[ 9.91539652],      [[16.19177472],\n",
      " [2.46412571],   [4.0645459 ],   [6.07191552],   [10.01555204],       [16.52053333],\n",
      " [2.46412571],   [4.10519135],   [6.07191552],   [10.11570756],       [16.85259605],\n",
      " [2.48901587],   [4.02390044],   [6.1952    ],   [10.01555204],       [16.19177472],\n",
      " [2.48901587],   [4.0645459 ],   [6.1952    ],   [10.11671924],       [16.52053333],\n",
      " [2.48901587],   [4.10519135],   [6.1952    ],   [10.21788643],       [16.85259605],\n",
      " [2.51390603],   [4.02390044],   [6.31972352],   [10.11570756],       [16.19177472],\n",
      " [2.51390603],   [4.0645459 ],   [6.31972352],   [10.21788643],       [16.52053333],\n",
      " [2.51390603]]   [4.10519135]]   [6.31972352]]   [10.32006529]]       [16.85259605]]\n"
     ]
    }
   ],
   "source": [
    "# 求解每一列的过程\n",
    "%C a[:,None]; c[:,None]; a[:,None]**2; a[:,None]*c[:,None]; c[:,None]**2"
   ]
  },
  {
   "cell_type": "code",
   "execution_count": 8,
   "metadata": {},
   "outputs": [
    {
     "name": "stdout",
     "output_type": "stream",
     "text": [
      "[[ 1.          2.46412571  4.02390044  6.07191552  9.91539652 16.19177472]\n",
      " [ 1.          2.46412571  4.0645459   6.07191552 10.01555204 16.52053333]\n",
      " [ 1.          2.46412571  4.10519135  6.07191552 10.11570756 16.85259605]\n",
      " [ 1.          2.48901587  4.02390044  6.1952     10.01555204 16.19177472]\n",
      " [ 1.          2.48901587  4.0645459   6.1952     10.11671924 16.52053333]\n",
      " [ 1.          2.48901587  4.10519135  6.1952     10.21788643 16.85259605]\n",
      " [ 1.          2.51390603  4.02390044  6.31972352 10.11570756 16.19177472]\n",
      " [ 1.          2.51390603  4.0645459   6.31972352 10.21788643 16.52053333]\n",
      " [ 1.          2.51390603  4.10519135  6.31972352 10.32006529 16.85259605]]\n"
     ]
    }
   ],
   "source": [
    "M = np.array([a**0, a, c, a**2, a * c, c**2]).T\n",
    "print(M)"
   ]
  },
  {
   "cell_type": "markdown",
   "metadata": {},
   "source": [
    "求解能量方程的系数"
   ]
  },
  {
   "cell_type": "code",
   "execution_count": 9,
   "metadata": {},
   "outputs": [
    {
     "data": {
      "text/plain": [
       "array([ 97.72461862, -52.8738722 , -16.19193701,   9.0307395 ,\n",
       "         2.07302647,   1.37721208])"
      ]
     },
     "execution_count": 9,
     "metadata": {},
     "output_type": "execute_result"
    }
   ],
   "source": [
    "import scipy as sp\n",
    "p = sp.linalg.lstsq(M,energies)[0]\n",
    "p"
   ]
  },
  {
   "cell_type": "markdown",
   "metadata": {},
   "source": [
    "最小化的能量??"
   ]
  },
  {
   "cell_type": "code",
   "execution_count": 10,
   "metadata": {},
   "outputs": [],
   "source": [
    "p0 = p[0]\n",
    "p1 = p[1:3]\n",
    "p2 = np.array( [(2 * p[3], p[4]), (p[4],2 * p[5])] )\n",
    "a0, c0 = np.linalg.solve(p2.T, -p1)"
   ]
  },
  {
   "cell_type": "code",
   "execution_count": 11,
   "metadata": {},
   "outputs": [
    {
     "data": {
      "text/plain": [
       "(2.4657199396330904, 4.022777044194669)"
      ]
     },
     "execution_count": 11,
     "metadata": {},
     "output_type": "execute_result"
    }
   ],
   "source": [
    "a0,c0"
   ]
  },
  {
   "cell_type": "markdown",
   "metadata": {},
   "source": [
    "# Using the stress tensor"
   ]
  },
  {
   "cell_type": "code",
   "execution_count": 12,
   "metadata": {},
   "outputs": [
    {
     "data": {
      "text/plain": [
       "'############################################## 异常跳过位 ###############################################'"
      ]
     },
     "execution_count": 12,
     "metadata": {},
     "output_type": "execute_result"
    }
   ],
   "source": [
    "br.kk4"
   ]
  },
  {
   "cell_type": "markdown",
   "metadata": {},
   "source": [
    "One can also use the stress tensor to optimize the unit cell. For this we cannot use the EMT calculator."
   ]
  },
  {
   "cell_type": "code",
   "execution_count": 13,
   "metadata": {},
   "outputs": [],
   "source": [
    "%%pass ModuleNotFoundError: No module named 'gpaw'\n",
    "from ase.optimize import BFGS\n",
    "from ase.constraints import StrainFilter\n",
    "from gpaw import GPAW, PW\n",
    "ni = bulk('Ni', 'hcp', a=a0,c=c0)\n",
    "calc = GPAW(mode=PW(200),xc='LDA',txt='Ni.out')\n",
    "ni.set_calculator(calc)\n",
    "sf = StrainFilter(ni)\n",
    "opt = BFGS(sf)\n",
    "opt.run(0.005)"
   ]
  },
  {
   "cell_type": "code",
   "execution_count": 14,
   "metadata": {},
   "outputs": [],
   "source": [
    "%%pass \n",
    "traj = Trajectory('path.traj', 'w', ni)\n",
    "opt.attach(traj)"
   ]
  },
  {
   "cell_type": "code",
   "execution_count": null,
   "metadata": {},
   "outputs": [],
   "source": []
  }
 ],
 "metadata": {
  "kernelspec": {
   "display_name": "Python 3",
   "language": "python",
   "name": "python3"
  },
  "language_info": {
   "codemirror_mode": {
    "name": "ipython",
    "version": 3
   },
   "file_extension": ".py",
   "mimetype": "text/x-python",
   "name": "python",
   "nbconvert_exporter": "python",
   "pygments_lexer": "ipython3",
   "version": "3.6.5"
  },
  "toc": {
   "base_numbering": 1,
   "nav_menu": {},
   "number_sections": true,
   "sideBar": true,
   "skip_h1_title": false,
   "title_cell": "Table of Contents",
   "title_sidebar": "Contents",
   "toc_cell": false,
   "toc_position": {},
   "toc_section_display": true,
   "toc_window_display": false
  }
 },
 "nbformat": 4,
 "nbformat_minor": 2
}
