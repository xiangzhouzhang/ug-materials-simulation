{
 "cells": [
  {
   "cell_type": "markdown",
   "metadata": {},
   "source": [
    "# 介绍 N2@Cu"
   ]
  },
  {
   "cell_type": "markdown",
   "metadata": {},
   "source": [
    "计算N2在Cu上的吸附能:   \n",
    "$$E_{ads} = E_{N2} + E_{Cu} - E_{N2@Cu}$$  \n",
    "* $E_{N2}, E_{Cu}$: N2和Cu单独存在时的能量;   \n",
    "* $E_{N2@Cu}$: N2吸附在Cu上时的总能;  "
   ]
  },
  {
   "cell_type": "code",
   "execution_count": 1,
   "metadata": {},
   "outputs": [],
   "source": [
    "from ase import Atoms\n",
    "from ase.visualize import view\n",
    "from ase.calculators.emt import EMT\n",
    "from ase.constraints import FixAtoms\n",
    "from ase.optimize import QuasiNewton\n",
    "from ase.build import fcc111, add_adsorbate"
   ]
  },
  {
   "cell_type": "markdown",
   "metadata": {},
   "source": [
    "## Atoms"
   ]
  },
  {
   "cell_type": "markdown",
   "metadata": {},
   "source": [
    "**Atoms**: 原子集(合)对象"
   ]
  },
  {
   "cell_type": "code",
   "execution_count": 2,
   "metadata": {},
   "outputs": [
    {
     "data": {
      "text/plain": [
       "Atoms(symbols='N2', pbc=False)"
      ]
     },
     "execution_count": 2,
     "metadata": {},
     "output_type": "execute_result"
    }
   ],
   "source": [
    "# 创建分子对象\n",
    "from ase import Atoms\n",
    "d = 1.10\n",
    "molecule = Atoms('2N', positions=[(0., 0., 0.), (0., 0., d)])\n",
    "molecule"
   ]
  },
  {
   "cell_type": "markdown",
   "metadata": {},
   "source": [
    "使用点阵模块(lattice module)构建晶体, 晶体也是一个原子集对象"
   ]
  },
  {
   "cell_type": "code",
   "execution_count": 3,
   "metadata": {},
   "outputs": [
    {
     "data": {
      "text/plain": [
       "Atoms(symbols='Cu32', pbc=[True, True, False], cell=[[10.210621920333747, 0.0, 0.0], [5.105310960166873, 8.842657971447272, 0.0], [0.0, 0.0, 22.08423447177455]], tags=...)"
      ]
     },
     "execution_count": 3,
     "metadata": {},
     "output_type": "execute_result"
    }
   ],
   "source": [
    "# 创建slab对象\n",
    "from ase.build import fcc111\n",
    "slab = fcc111('Cu', size=(4,4,2), vacuum=10.0)\n",
    "slab "
   ]
  },
  {
   "cell_type": "markdown",
   "metadata": {},
   "source": [
    "## Calculators"
   ]
  },
  {
   "cell_type": "markdown",
   "metadata": {},
   "source": [
    "ASE可使用的能量计算器: emt(ase内嵌,用于演示功能), Vasp(正规).."
   ]
  },
  {
   "cell_type": "code",
   "execution_count": 4,
   "metadata": {},
   "outputs": [],
   "source": [
    "from ase.calculators.emt import EMT\n",
    "slab.set_calculator(EMT())\n",
    "molecule.set_calculator(EMT())"
   ]
  },
  {
   "cell_type": "markdown",
   "metadata": {},
   "source": [
    "原子集对象经过能量计算器之后, 可以调用能量查询方法, get_potential_energy()"
   ]
  },
  {
   "cell_type": "code",
   "execution_count": 5,
   "metadata": {},
   "outputs": [],
   "source": [
    "e_slab = slab.get_potential_energy()\n",
    "e_N2 = molecule.get_potential_energy()"
   ]
  },
  {
   "cell_type": "markdown",
   "metadata": {},
   "source": [
    "## Structure relaxation"
   ]
  },
  {
   "cell_type": "markdown",
   "metadata": {},
   "source": [
    "在Cu的top位上吸附N2"
   ]
  },
  {
   "cell_type": "code",
   "execution_count": 6,
   "metadata": {},
   "outputs": [],
   "source": [
    "h = 1.85\n",
    "add_adsorbate(slab, molecule, h, 'ontop')"
   ]
  },
  {
   "cell_type": "markdown",
   "metadata": {},
   "source": [
    "为了加快速度, 只允许N2分子松弛, 而将基地的Cu原子固定"
   ]
  },
  {
   "cell_type": "code",
   "execution_count": 7,
   "metadata": {},
   "outputs": [],
   "source": [
    "from ase.constraints import FixAtoms\n",
    "constraint = FixAtoms(mask=[a.symbol != 'N' for a in slab])\n",
    "slab.set_constraint(constraint)"
   ]
  },
  {
   "cell_type": "markdown",
   "metadata": {},
   "source": [
    "使用准牛顿算法对吸附构型进行能量最小化, 并保存轨迹文件"
   ]
  },
  {
   "cell_type": "code",
   "execution_count": 8,
   "metadata": {},
   "outputs": [
    {
     "name": "stdout",
     "output_type": "stream",
     "text": [
      "                Step[ FC]     Time          Energy          fmax\n",
      "*Force-consistent energies used in optimization.\n",
      "BFGSLineSearch:    0[  0] 21:54:58       11.689927*       1.0797\n",
      "BFGSLineSearch:    1[  2] 21:54:58       11.670814*       0.4090\n",
      "BFGSLineSearch:    2[  4] 21:54:58       11.625880*       0.0409\n"
     ]
    },
    {
     "data": {
      "text/plain": [
       "True"
      ]
     },
     "execution_count": 8,
     "metadata": {},
     "output_type": "execute_result"
    }
   ],
   "source": [
    "from ase.optimize import QuasiNewton\n",
    "dyn = QuasiNewton(slab, trajectory='data/N2Cu.traj')\n",
    "dyn.run(fmax=0.05)"
   ]
  },
  {
   "cell_type": "code",
   "execution_count": 9,
   "metadata": {},
   "outputs": [],
   "source": [
    "e_slab_N2 = slab.get_potential_energy()"
   ]
  },
  {
   "cell_type": "code",
   "execution_count": 10,
   "metadata": {},
   "outputs": [
    {
     "name": "stdout",
     "output_type": "stream",
     "text": [
      "      e_slab               e_N2             e_slab_N2       e_slab+e_N2-e_slab_N2\n",
      "-----------------  -------------------  ------------------  ---------------------\n",
      "11.50905628357027  0.44034357303561467  11.625880434287794  0.32351942231809083  \n"
     ]
    }
   ],
   "source": [
    "%C e_slab; e_N2; e_slab_N2; e_slab+e_N2-e_slab_N2"
   ]
  },
  {
   "cell_type": "markdown",
   "metadata": {},
   "source": [
    "## Input-output"
   ]
  },
  {
   "cell_type": "markdown",
   "metadata": {},
   "source": [
    "write(): 将原子位置(atomic positions)保存到xyz格式的文件;"
   ]
  },
  {
   "cell_type": "code",
   "execution_count": 11,
   "metadata": {},
   "outputs": [],
   "source": [
    "from ase.io import write\n",
    "write('data/slab.xyz', slab)"
   ]
  },
  {
   "cell_type": "markdown",
   "metadata": {},
   "source": [
    "> write()函数可支持的文件格式:  \n",
    "`xyz`: Simple xyz-format  \n",
    "`cube`:Gaussian cube file  \n",
    "`pdb`: Protein data bank file  \n",
    "`traj`: ASE’s own trajectory format  \n",
    "`py`: Python script  "
   ]
  },
  {
   "cell_type": "markdown",
   "metadata": {},
   "source": [
    "从文件中读取结构"
   ]
  },
  {
   "cell_type": "code",
   "execution_count": 12,
   "metadata": {},
   "outputs": [],
   "source": [
    "from ase.io import read\n",
    "slab_from_file = read('data/N2Cu.traj')"
   ]
  },
  {
   "cell_type": "markdown",
   "metadata": {},
   "source": [
    "如果文件包含多个构型, write()函数只会返回最后一个构型"
   ]
  },
  {
   "cell_type": "code",
   "execution_count": 13,
   "metadata": {},
   "outputs": [],
   "source": [
    "%%pass\n",
    "read('slab.traj')      # last configuration\n",
    "read('slab.traj', -1)  # same as above\n",
    "read('slab.traj', 0)   # first configuration"
   ]
  },
  {
   "cell_type": "markdown",
   "metadata": {},
   "source": [
    "## Visualization¶"
   ]
  },
  {
   "cell_type": "markdown",
   "metadata": {},
   "source": [
    "可视化atoms对象的方法"
   ]
  },
  {
   "cell_type": "code",
   "execution_count": 14,
   "metadata": {},
   "outputs": [],
   "source": [
    "%%pass\n",
    "from ase.visualize import view\n",
    "view(slab)"
   ]
  },
  {
   "cell_type": "markdown",
   "metadata": {},
   "source": [
    "## Molecular dynamics¶"
   ]
  },
  {
   "cell_type": "markdown",
   "metadata": {},
   "source": [
    "使用VelocityVerlet方法进行分子动力学模拟"
   ]
  },
  {
   "cell_type": "code",
   "execution_count": 15,
   "metadata": {},
   "outputs": [],
   "source": [
    "from ase.md.verlet import VelocityVerlet\n",
    "from ase import units"
   ]
  },
  {
   "cell_type": "code",
   "execution_count": 16,
   "metadata": {},
   "outputs": [
    {
     "name": "stdout",
     "output_type": "stream",
     "text": [
      " 0: 0.44034 eV, 0.44034 eV, 0.00000 eV\n",
      " 1: 0.43816 eV, 0.26289 eV, 0.17527 eV\n",
      " 2: 0.44058 eV, 0.43142 eV, 0.00916 eV\n",
      " 3: 0.43874 eV, 0.29292 eV, 0.14582 eV\n",
      " 4: 0.44015 eV, 0.41839 eV, 0.02176 eV\n",
      " 5: 0.43831 eV, 0.28902 eV, 0.14929 eV\n",
      " 6: 0.43947 eV, 0.36902 eV, 0.07045 eV\n",
      " 7: 0.43951 eV, 0.35507 eV, 0.08444 eV\n",
      " 8: 0.43959 eV, 0.36221 eV, 0.07738 eV\n",
      " 9: 0.43933 eV, 0.36044 eV, 0.07889 eV\n"
     ]
    }
   ],
   "source": [
    "dyn = VelocityVerlet(molecule, dt=1.0 * units.fs)\n",
    "for i in range(10):\n",
    "    pot = molecule.get_potential_energy()\n",
    "    kin = molecule.get_kinetic_energy()\n",
    "    print('%2d: %.5f eV, %.5f eV, %.5f eV' % (i, pot + kin, pot, kin))\n",
    "    dyn.run(steps=20)"
   ]
  },
  {
   "cell_type": "code",
   "execution_count": null,
   "metadata": {},
   "outputs": [],
   "source": []
  }
 ],
 "metadata": {
  "kernelspec": {
   "display_name": "Python 3",
   "language": "python",
   "name": "python3"
  },
  "language_info": {
   "codemirror_mode": {
    "name": "ipython",
    "version": 3
   },
   "file_extension": ".py",
   "mimetype": "text/x-python",
   "name": "python",
   "nbconvert_exporter": "python",
   "pygments_lexer": "ipython3",
   "version": "3.6.5"
  },
  "toc": {
   "base_numbering": 1,
   "nav_menu": {},
   "number_sections": true,
   "sideBar": true,
   "skip_h1_title": false,
   "title_cell": "Table of Contents",
   "title_sidebar": "Contents",
   "toc_cell": false,
   "toc_position": {
    "height": "calc(100% - 180px)",
    "left": "10px",
    "top": "150px",
    "width": "226px"
   },
   "toc_section_display": true,
   "toc_window_display": false
  }
 },
 "nbformat": 4,
 "nbformat_minor": 2
}
