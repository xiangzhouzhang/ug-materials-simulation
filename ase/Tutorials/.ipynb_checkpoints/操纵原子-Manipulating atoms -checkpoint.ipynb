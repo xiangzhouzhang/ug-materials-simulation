{
 "cells": [
  {
   "cell_type": "code",
   "execution_count": 1,
   "metadata": {},
   "outputs": [
    {
     "data": {
      "text/plain": [
       "'文档起始位'"
      ]
     },
     "execution_count": 1,
     "metadata": {},
     "output_type": "execute_result"
    }
   ],
   "source": [
    "KK0"
   ]
  },
  {
   "cell_type": "code",
   "execution_count": 2,
   "metadata": {},
   "outputs": [],
   "source": [
    "from ase.visualize import view"
   ]
  },
  {
   "cell_type": "markdown",
   "metadata": {},
   "source": [
    "# 操纵原子-Manipulating atoms\n",
    "                    "
   ]
  },
  {
   "cell_type": "markdown",
   "metadata": {},
   "source": [
    "## 构建Ni原子层"
   ]
  },
  {
   "cell_type": "markdown",
   "metadata": {},
   "source": [
    "构建Ni原子层"
   ]
  },
  {
   "cell_type": "code",
   "execution_count": 3,
   "metadata": {},
   "outputs": [
    {
     "data": {
      "text/plain": [
       "Atoms(symbols='Ni4', pbc=False, cell=[1.0, 1.0, 1.0])"
      ]
     },
     "execution_count": 3,
     "metadata": {},
     "output_type": "execute_result"
    }
   ],
   "source": [
    "from ase import Atoms\n",
    "atoms = Atoms('Ni4', [(0, 0, 0),\n",
    "                      (0.45, 0, 0),\n",
    "                      (0, 0.5, 0),\n",
    "                      (0.5, 0.5, 0)],\n",
    "              cell=[1, 1, 1])\n",
    "atoms"
   ]
  },
  {
   "cell_type": "markdown",
   "metadata": {},
   "source": [
    "查看每个原子对象"
   ]
  },
  {
   "cell_type": "code",
   "execution_count": 4,
   "metadata": {},
   "outputs": [
    {
     "name": "stdout",
     "output_type": "stream",
     "text": [
      "Atom('Ni', [0.0, 0.0, 0.0], index=0)\n",
      "Atom('Ni', [0.45, 0.0, 0.0], index=1)\n",
      "Atom('Ni', [0.0, 0.5, 0.0], index=2)\n",
      "Atom('Ni', [0.5, 0.5, 0.0], index=3)\n"
     ]
    }
   ],
   "source": [
    "for i in range(len(atoms)):\n",
    "    print(atoms[i])"
   ]
  },
  {
   "cell_type": "markdown",
   "metadata": {},
   "source": [
    "改变某个原子的位置"
   ]
  },
  {
   "cell_type": "code",
   "execution_count": 5,
   "metadata": {},
   "outputs": [
    {
     "data": {
      "text/plain": [
       "array([[0. , 0. , 0. ],\n",
       "       [0.5, 0. , 0. ],\n",
       "       [0. , 0.5, 0. ],\n",
       "       [0.5, 0.5, 0. ]])"
      ]
     },
     "execution_count": 5,
     "metadata": {},
     "output_type": "execute_result"
    }
   ],
   "source": [
    "atoms[1].x = 0.5\n",
    "atoms.get_positions()"
   ]
  },
  {
   "cell_type": "markdown",
   "metadata": {},
   "source": [
    "查看晶格大小"
   ]
  },
  {
   "cell_type": "code",
   "execution_count": 6,
   "metadata": {},
   "outputs": [
    {
     "data": {
      "text/plain": [
       "array([[1., 0., 0.],\n",
       "       [0., 1., 0.],\n",
       "       [0., 0., 1.]])"
      ]
     },
     "execution_count": 6,
     "metadata": {},
     "output_type": "execute_result"
    }
   ],
   "source": [
    "atoms.get_cell()"
   ]
  },
  {
   "cell_type": "markdown",
   "metadata": {},
   "source": [
    "在六方表面中构建p(2x2)晶格, a是fcc的晶格常数, 真空层为10个原子层的高度"
   ]
  },
  {
   "cell_type": "code",
   "execution_count": 7,
   "metadata": {},
   "outputs": [
    {
     "name": "stdout",
     "output_type": "stream",
     "text": [
      "[(5.020458146424486, 0, 0), (2.510229073212243, 4.347844293440141, 0), (0, 0, 20.495934556231713)]\n"
     ]
    }
   ],
   "source": [
    "from numpy import sqrt\n",
    "a = 3.55\n",
    "cell = [(2/sqrt(2.)*a, 0,             0),\n",
    "        (1/sqrt(2.)*a, sqrt(3./2.)*a, 0),\n",
    "        (0,            0,             10*sqrt(3.)/3.*a)]\n",
    "print(cell)"
   ]
  },
  {
   "cell_type": "markdown",
   "metadata": {},
   "source": [
    "改变原子集的晶格大小, 原子位置随晶格大小一起缩放"
   ]
  },
  {
   "cell_type": "code",
   "execution_count": 8,
   "metadata": {},
   "outputs": [
    {
     "data": {
      "text/plain": [
       "array([[0.        , 0.        , 0.        ],\n",
       "       [2.51022907, 0.        , 0.        ],\n",
       "       [1.25511454, 2.17392215, 0.        ],\n",
       "       [3.76534361, 2.17392215, 0.        ]])"
      ]
     },
     "execution_count": 8,
     "metadata": {},
     "output_type": "execute_result"
    }
   ],
   "source": [
    "atoms.set_cell(cell, scale_atoms=True)\n",
    "atoms.get_positions()"
   ]
  },
  {
   "cell_type": "markdown",
   "metadata": {},
   "source": [
    "查看原子集对象的视图"
   ]
  },
  {
   "cell_type": "code",
   "execution_count": 9,
   "metadata": {},
   "outputs": [],
   "source": [
    "# view(atoms)"
   ]
  },
  {
   "cell_type": "markdown",
   "metadata": {},
   "source": [
    "## 为Ni原子层添加吸附原子"
   ]
  },
  {
   "cell_type": "markdown",
   "metadata": {},
   "source": [
    "因为超胞被声明为(declared as)晶格, 我们既可以使用以埃为单位的笛卡尔坐标系, 也可以重新调整(rescale)晶格大小, 然后使用缩放坐标(scaled coordinates)"
   ]
  },
  {
   "cell_type": "code",
   "execution_count": 10,
   "metadata": {},
   "outputs": [],
   "source": [
    "from numpy import identity\n",
    "from ase import Atom\n",
    "xyzcell = identity(3) # The 3x3 unit matrix\n",
    "atoms.set_cell(xyzcell, scale_atoms=True)  # Set the unit cell and rescale"
   ]
  },
  {
   "cell_type": "code",
   "execution_count": 11,
   "metadata": {},
   "outputs": [],
   "source": [
    "atoms.append(Atom('Ag', (1/6., 1/6., .1)))\n",
    "atoms.set_cell(cell, scale_atoms=True)  # Set the unit cell and scale back"
   ]
  },
  {
   "cell_type": "code",
   "execution_count": 12,
   "metadata": {},
   "outputs": [],
   "source": [
    "#  view(atoms, repeat=(3,3,2))"
   ]
  },
  {
   "cell_type": "markdown",
   "metadata": {},
   "source": [
    "## 构建表面"
   ]
  },
  {
   "cell_type": "markdown",
   "metadata": {},
   "source": [
    "构建单层水分子, 运行WL.py, 生成一个WL.traj文件, 然后从中导入原子集"
   ]
  },
  {
   "cell_type": "code",
   "execution_count": 13,
   "metadata": {},
   "outputs": [],
   "source": [
    "# %load data/WL.py\n",
    "import numpy as np\n",
    "from ase import Atoms\n",
    "p = np.array(\n",
    "    [[0.27802511, -0.07732213, 13.46649107],\n",
    "     [0.91833251, -1.02565868, 13.41456626],\n",
    "     [0.91865997, 0.87076761, 13.41228287],\n",
    "     [1.85572027, 2.37336781, 13.56440907],\n",
    "     [3.13987926, 2.3633134, 13.4327577],\n",
    "     [1.77566079, 2.37150862, 14.66528237],\n",
    "     [4.52240322, 2.35264513, 13.37435864],\n",
    "     [5.16892729, 1.40357034, 13.42661052],\n",
    "     [5.15567324, 3.30068395, 13.4305779],\n",
    "     [6.10183518, -0.0738656, 13.27945071],\n",
    "     [7.3856151, -0.07438536, 13.40814585],\n",
    "     [6.01881192, -0.08627583, 12.1789428]])\n",
    "c = np.array([[8.490373, 0., 0.],\n",
    "              [0., 4.901919, 0.],\n",
    "              [0., 0., 26.93236]])\n",
    "W = Atoms('4(OH2)', positions=p, cell=c, pbc=[1, 1, 0])\n",
    "W.write('data/WL.traj')"
   ]
  },
  {
   "cell_type": "code",
   "execution_count": 14,
   "metadata": {},
   "outputs": [],
   "source": [
    "from ase.io import read\n",
    "W = read('data/WL.traj')"
   ]
  },
  {
   "cell_type": "code",
   "execution_count": 15,
   "metadata": {},
   "outputs": [],
   "source": [
    "# view(W)"
   ]
  },
  {
   "cell_type": "markdown",
   "metadata": {},
   "source": [
    "查看水层的晶胞大小"
   ]
  },
  {
   "cell_type": "code",
   "execution_count": 16,
   "metadata": {},
   "outputs": [
    {
     "data": {
      "text/plain": [
       "array([[ 8.490373,  0.      ,  0.      ],\n",
       "       [ 0.      ,  4.901919,  0.      ],\n",
       "       [ 0.      ,  0.      , 26.93236 ]])"
      ]
     },
     "execution_count": 16,
     "metadata": {},
     "output_type": "execute_result"
    }
   ],
   "source": [
    "cellW = W.get_cell()\n",
    "cellW"
   ]
  },
  {
   "cell_type": "markdown",
   "metadata": {},
   "source": [
    "我们需要Ni(111)层与水层紧密接触, 一个2x4的正交(orthogonal) fcc111 超胞应该足够"
   ]
  },
  {
   "cell_type": "code",
   "execution_count": 17,
   "metadata": {},
   "outputs": [],
   "source": [
    "from ase.build import fcc111\n",
    "slab = fcc111('Ni', size=[2, 4, 3], a=3.55, orthogonal=True, vacuum=1)\n",
    "cell = slab.get_cell()"
   ]
  },
  {
   "cell_type": "code",
   "execution_count": 18,
   "metadata": {},
   "outputs": [
    {
     "data": {
      "text/plain": [
       "array([[5.02045815, 0.        , 0.        ],\n",
       "       [0.        , 8.69568859, 0.        ],\n",
       "       [0.        , 0.        , 6.09918691]])"
      ]
     },
     "execution_count": 18,
     "metadata": {},
     "output_type": "execute_result"
    }
   ],
   "source": [
    "cell"
   ]
  },
  {
   "cell_type": "markdown",
   "metadata": {},
   "source": [
    "如果旋转任意一个晶胞90度, 两个晶格大小的差异只有2%"
   ]
  },
  {
   "cell_type": "code",
   "execution_count": 19,
   "metadata": {},
   "outputs": [
    {
     "name": "stdout",
     "output_type": "stream",
     "text": [
      "      (a-a2)/a             (b-b2)/b      \n",
      "-------------------  --------------------\n",
      "0.02350597609561742  0.023689052437902428\n"
     ]
    }
   ],
   "source": [
    "a, b = 5.020, 8.696\n",
    "a2,b2= 4.902, 8.490\n",
    "%C (a-a2)/a; (b-b2)/b"
   ]
  },
  {
   "cell_type": "markdown",
   "metadata": {},
   "source": [
    "我们让水层的晶胞旋转"
   ]
  },
  {
   "cell_type": "code",
   "execution_count": 20,
   "metadata": {},
   "outputs": [
    {
     "data": {
      "text/plain": [
       "array([[ 4.901919,  0.      ,  0.      ],\n",
       "       [ 0.      ,  8.490373,  0.      ],\n",
       "       [ 0.      ,  0.      , 26.93236 ]])"
      ]
     },
     "execution_count": 20,
     "metadata": {},
     "output_type": "execute_result"
    }
   ],
   "source": [
    "W.set_cell([[cellW[1, 1],  0,            0],\n",
    "            [0,            cellW[0, 0],  0],\n",
    "            cellW[2]                      \n",
    "           ],\n",
    "           scale_atoms=False)\n",
    "W.get_cell()"
   ]
  },
  {
   "cell_type": "code",
   "execution_count": 21,
   "metadata": {},
   "outputs": [],
   "source": [
    "W.rotate(90, 'z', center=(0, 0, 0))"
   ]
  },
  {
   "cell_type": "markdown",
   "metadata": {},
   "source": [
    "将原子包裹进晶胞格子(需要周期性边界条件)"
   ]
  },
  {
   "cell_type": "code",
   "execution_count": 22,
   "metadata": {},
   "outputs": [],
   "source": [
    "W.wrap()"
   ]
  },
  {
   "cell_type": "markdown",
   "metadata": {},
   "source": [
    "因为在水层和Ni层之间只有2%的错配度(mismatch), 所以我们可以缩放水层的平面以使其与Ni层完全匹配"
   ]
  },
  {
   "cell_type": "code",
   "execution_count": 23,
   "metadata": {},
   "outputs": [],
   "source": [
    "cell1 = np.array([cell[0], cell[1], cellW[2]])\n",
    "W.set_cell(cell1, scale_atoms=True)\n",
    "p = slab.get_positions()\n",
    "W.center(vacuum=p[:, 2].max() + 1.5, axis=2)"
   ]
  },
  {
   "cell_type": "markdown",
   "metadata": {},
   "source": [
    "将水层的复制份添加到slab"
   ]
  },
  {
   "cell_type": "code",
   "execution_count": null,
   "metadata": {},
   "outputs": [],
   "source": [
    "interface = slab.copy()\n",
    "interface.extend(W)\n",
    "interface.center(vacuum=6, axis=2)"
   ]
  },
  {
   "cell_type": "code",
   "execution_count": 26,
   "metadata": {},
   "outputs": [],
   "source": [
    "view(interface)"
   ]
  }
 ],
 "metadata": {
  "kernelspec": {
   "display_name": "Python 3",
   "language": "python",
   "name": "python3"
  },
  "language_info": {
   "codemirror_mode": {
    "name": "ipython",
    "version": 3
   },
   "file_extension": ".py",
   "mimetype": "text/x-python",
   "name": "python",
   "nbconvert_exporter": "python",
   "pygments_lexer": "ipython3",
   "version": "3.6.5"
  },
  "toc": {
   "base_numbering": 1,
   "nav_menu": {},
   "number_sections": true,
   "sideBar": true,
   "skip_h1_title": false,
   "title_cell": "Table of Contents",
   "title_sidebar": "Contents",
   "toc_cell": false,
   "toc_position": {},
   "toc_section_display": true,
   "toc_window_display": false
  }
 },
 "nbformat": 4,
 "nbformat_minor": 2
}
