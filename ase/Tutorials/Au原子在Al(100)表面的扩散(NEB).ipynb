{
 "cells": [
  {
   "cell_type": "markdown",
   "metadata": {},
   "source": [
    "FixedPlane: 约束Au只在yz平面松弛"
   ]
  },
  {
   "cell_type": "code",
   "execution_count": 1,
   "metadata": {},
   "outputs": [
    {
     "name": "stdout",
     "output_type": "stream",
     "text": [
      "                Step[ FC]     Time          Energy          fmax\n",
      "*Force-consistent energies used in optimization.\n",
      "BFGSLineSearch:    0[  0] 02:31:33        3.323870*       0.2462\n",
      "BFGSLineSearch:    1[  1] 02:31:33        3.314754*       0.0378\n",
      "                Step[ FC]     Time          Energy          fmax\n",
      "*Force-consistent energies used in optimization.\n",
      "BFGSLineSearch:    0[  0] 02:31:33        3.730166*       1.6460\n",
      "BFGSLineSearch:    1[  2] 02:31:33        3.546230*       0.2605\n",
      "BFGSLineSearch:    2[  4] 02:31:33        3.513795*       0.1080\n",
      "BFGSLineSearch:    3[  6] 02:31:33        3.502279*       0.0500\n",
      "                Step[ FC]     Time          Energy          fmax\n",
      "*Force-consistent energies used in optimization.\n",
      "BFGSLineSearch:    0[  0] 02:31:33        3.764262*       1.0444\n",
      "BFGSLineSearch:    1[  2] 02:31:33        3.708446*       0.1203\n",
      "BFGSLineSearch:    2[  4] 02:31:33        3.695835*       0.0668\n",
      "BFGSLineSearch:    3[  6] 02:31:33        3.691660*       0.0618\n",
      "BFGSLineSearch:    4[  7] 02:31:33        3.690089*       0.0300\n",
      "                Step[ FC]     Time          Energy          fmax\n",
      "*Force-consistent energies used in optimization.\n",
      "BFGSLineSearch:    0[  0] 02:31:33        3.580034*       0.6521\n",
      "BFGSLineSearch:    1[  1] 02:31:33        3.544894*       0.1627\n",
      "BFGSLineSearch:    2[  3] 02:31:33        3.516850*       0.1946\n",
      "BFGSLineSearch:    3[  4] 02:31:33        3.508545*       0.1325\n",
      "BFGSLineSearch:    4[  5] 02:31:33        3.503316*       0.1022\n",
      "BFGSLineSearch:    5[  6] 02:31:33        3.500392*       0.0550\n",
      "BFGSLineSearch:    6[  8] 02:31:33        3.499584*       0.0392\n",
      "                Step[ FC]     Time          Energy          fmax\n",
      "*Force-consistent energies used in optimization.\n",
      "BFGSLineSearch:    0[  0] 02:31:33        3.463634*       0.5332\n",
      "BFGSLineSearch:    1[  2] 02:31:33        3.356702*       0.4028\n",
      "BFGSLineSearch:    2[  3] 02:31:33        3.333298*       0.1536\n",
      "BFGSLineSearch:    3[  4] 02:31:33        3.322604*       0.1003\n",
      "BFGSLineSearch:    4[  5] 02:31:33        3.318477*       0.0658\n",
      "BFGSLineSearch:    5[  6] 02:31:33        3.316534*       0.0483\n"
     ]
    }
   ],
   "source": [
    "from ase.build import fcc100, add_adsorbate\n",
    "from ase.constraints import FixAtoms, FixedPlane\n",
    "from ase.calculators.emt import EMT\n",
    "from ase.optimize import QuasiNewton\n",
    "\n",
    "# 2x2-Al(001) surface with 3 layers and an\n",
    "# Au atom adsorbed in a hollow site:\n",
    "slab = fcc100('Al', size=(2, 2, 3))\n",
    "add_adsorbate(slab, 'Au', 1.7, 'hollow')\n",
    "slab.center(axis=2, vacuum=4.0)\n",
    "\n",
    "# Make sure the structure is correct:\n",
    "#from ase.visualize import view\n",
    "#view(slab)\n",
    "\n",
    "# Fix second and third layers:\n",
    "mask = [atom.tag > 1 for atom in slab]\n",
    "#print(mask)\n",
    "fixlayers = FixAtoms(mask=mask)\n",
    "\n",
    "# Constrain the last atom (Au atom) to move only in the yz-plane:\n",
    "plane = FixedPlane(-1, (1, 0, 0))\n",
    "\n",
    "slab.set_constraint([fixlayers, plane])\n",
    "\n",
    "# Use EMT potential:\n",
    "slab.set_calculator(EMT())\n",
    "\n",
    "for i in range(5):\n",
    "    qn = QuasiNewton(slab, trajectory='mep%d.traj' % i)\n",
    "    qn.run(fmax=0.05)\n",
    "    # Move gold atom along x-axis:\n",
    "    slab[-1].x += slab.get_cell()[0, 0] / 8"
   ]
  },
  {
   "cell_type": "code",
   "execution_count": null,
   "metadata": {},
   "outputs": [],
   "source": []
  },
  {
   "cell_type": "code",
   "execution_count": null,
   "metadata": {},
   "outputs": [],
   "source": []
  }
 ],
 "metadata": {
  "kernelspec": {
   "display_name": "Python 3",
   "language": "python",
   "name": "python3"
  },
  "language_info": {
   "codemirror_mode": {
    "name": "ipython",
    "version": 3
   },
   "file_extension": ".py",
   "mimetype": "text/x-python",
   "name": "python",
   "nbconvert_exporter": "python",
   "pygments_lexer": "ipython3",
   "version": "3.6.5"
  },
  "toc": {
   "base_numbering": 1,
   "nav_menu": {},
   "number_sections": true,
   "sideBar": true,
   "skip_h1_title": false,
   "title_cell": "Table of Contents",
   "title_sidebar": "Contents",
   "toc_cell": false,
   "toc_position": {},
   "toc_section_display": true,
   "toc_window_display": true
  }
 },
 "nbformat": 4,
 "nbformat_minor": 2
}
